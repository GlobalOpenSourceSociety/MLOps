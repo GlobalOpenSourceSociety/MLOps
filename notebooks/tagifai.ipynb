{
  "nbformat": 4,
  "nbformat_minor": 0,
  "metadata": {
    "accelerator": "GPU",
    "colab": {
      "name": "tagifai.ipynb",
      "provenance": [],
      "collapsed_sections": [],
      "toc_visible": true
    },
    "kernelspec": {
      "display_name": "Python 3",
      "language": "python",
      "name": "python3"
    },
    "language_info": {
      "codemirror_mode": {
        "name": "ipython",
        "version": 3
      },
      "file_extension": ".py",
      "mimetype": "text/x-python",
      "name": "python",
      "nbconvert_exporter": "python",
      "pygments_lexer": "ipython3",
      "version": "3.7.10"
    },
    "toc-autonumbering": false,
    "toc-showcode": false,
    "toc-showmarkdowntxt": false,
    "toc-showtags": false,
    "widgets": {
      "application/vnd.jupyter.widget-state+json": {
        "7e348575587f4a36b22368f36b153968": {
          "model_module": "@jupyter-widgets/controls",
          "model_name": "VBoxModel",
          "model_module_version": "1.5.0",
          "state": {
            "_view_name": "VBoxView",
            "_dom_classes": [
              "widget-interact"
            ],
            "_model_name": "VBoxModel",
            "_view_module": "@jupyter-widgets/controls",
            "_model_module_version": "1.5.0",
            "_view_count": null,
            "_view_module_version": "1.5.0",
            "box_style": "",
            "layout": "IPY_MODEL_3c42194d4044442e9b4c742460bb0271",
            "_model_module": "@jupyter-widgets/controls",
            "children": [
              "IPY_MODEL_f05cb59de4c94de9a8f8a476ae8f2128",
              "IPY_MODEL_53e21f1a084840b3872b977d82853760"
            ]
          }
        },
        "3c42194d4044442e9b4c742460bb0271": {
          "model_module": "@jupyter-widgets/base",
          "model_name": "LayoutModel",
          "model_module_version": "1.2.0",
          "state": {
            "_view_name": "LayoutView",
            "grid_template_rows": null,
            "right": null,
            "justify_content": null,
            "_view_module": "@jupyter-widgets/base",
            "overflow": null,
            "_model_module_version": "1.2.0",
            "_view_count": null,
            "flex_flow": null,
            "width": null,
            "min_width": null,
            "border": null,
            "align_items": null,
            "bottom": null,
            "_model_module": "@jupyter-widgets/base",
            "top": null,
            "grid_column": null,
            "overflow_y": null,
            "overflow_x": null,
            "grid_auto_flow": null,
            "grid_area": null,
            "grid_template_columns": null,
            "flex": null,
            "_model_name": "LayoutModel",
            "justify_items": null,
            "grid_row": null,
            "max_height": null,
            "align_content": null,
            "visibility": null,
            "align_self": null,
            "height": null,
            "min_height": null,
            "padding": null,
            "grid_auto_rows": null,
            "grid_gap": null,
            "max_width": null,
            "order": null,
            "_view_module_version": "1.2.0",
            "grid_template_areas": null,
            "object_position": null,
            "object_fit": null,
            "grid_auto_columns": null,
            "margin": null,
            "display": null,
            "left": null
          }
        },
        "f05cb59de4c94de9a8f8a476ae8f2128": {
          "model_module": "@jupyter-widgets/controls",
          "model_name": "DropdownModel",
          "model_module_version": "1.5.0",
          "state": {
            "_options_labels": [
              "3d",
              "action-localization",
              "action-recognition",
              "active-learning",
              "activity-recognition",
              "adversarial-attacks",
              "adversarial-defense",
              "adversarial-image-detection",
              "adversarial-learning",
              "adversarial-text",
              "angular",
              "animations",
              "annotation",
              "anomaly-detection",
              "arima",
              "artificial-general-intelligence",
              "attention",
              "audio-classification",
              "audio-generation",
              "audio-tagging",
              "autoencoders",
              "automl",
              "autonomous-vehicles",
              "aws",
              "azure",
              "backend",
              "bayesian-deep-learning",
              "bayesian-inference",
              "bidaf",
              "boundary-detection",
              "c",
              "c#",
              "c++",
              "caffe",
              "calibration",
              "camera-localization",
              "captioning",
              "causal-inference",
              "chainer",
              "character-embeddings",
              "chunking",
              "ci-cd",
              "classification",
              "clustering",
              "code-generation",
              "code-summarization",
              "collaborative-filtering",
              "collaborative-ranking",
              "colorization",
              "common-sense-reasoning",
              "computer-vision",
              "conditional-random-fields",
              "conditional-variational-autoencoders",
              "constituency-parsing",
              "contextualized-embeddings",
              "contour-detection",
              "contrastive-loss",
              "conversational-ai",
              "convolutional-neural-networks",
              "coreference-resolution",
              "coreml",
              "counterfactuals",
              "cropping",
              "cross-lingual",
              "crowd-counting",
              "css",
              "d3",
              "data-augmentation",
              "data-mining",
              "data-science",
              "data-summarization",
              "databases",
              "deblurring",
              "decision-making",
              "decision-trees",
              "deconvolution",
              "deep-learning",
              "deep-q-networks",
              "denoising",
              "density-estimation",
              "dependency-parsing",
              "depth-completion",
              "depth-estimation",
              "devops",
              "dialogue",
              "dictionary-learning",
              "dimensionality-reduction",
              "disease-prediction",
              "disparity-estimation",
              "distributed-training",
              "django",
              "dl4j",
              "dlib",
              "docker",
              "document-classification",
              "document-embeddings",
              "document-ranking",
              "domain-adaptation",
              "drug-discovery",
              "dynet",
              "edge-detection",
              "embeddings",
              "emotion-recognition",
              "enhancement",
              "entity-alignment",
              "entity-disambiguation",
              "entity-extraction",
              "entity-linking",
              "entity-resolution",
              "entity-typing",
              "expectation-maximization",
              "experiment-tracking",
              "exploratory-data-analysis",
              "face-detection",
              "face-generation",
              "face-reconstruction",
              "fake-news-detection",
              "fastai",
              "fastapi",
              "fasttext",
              "feature-engineering",
              "feature-importance",
              "feature-selection",
              "few-shot-learning",
              "fine-tuning",
              "flask",
              "forecasting",
              "fraud-detection",
              "frontend",
              "gated-recurrent-units",
              "gaussian-processes",
              "gaze-estimation",
              "generation",
              "generative-adversarial-networks",
              "geometric-deep-learning",
              "gesture-recognition",
              "git",
              "gluon",
              "go",
              "gpt",
              "gradient-boosting",
              "graph-classification",
              "graph-clustering",
              "graph-construction",
              "graph-convolutional-networks",
              "graph-embedding",
              "graph-neural-networks",
              "graph-representation-learning",
              "graph-similarity",
              "graphql",
              "graphs",
              "grasping",
              "h2o",
              "hand-pose-estimation",
              "haskell",
              "hidden-markov-models",
              "hierarchical-reinforcement-learning",
              "highway-networks",
              "html",
              "huggingface",
              "human-detection",
              "hyperparameter-optimization",
              "image-captioning",
              "image-categorization",
              "image-classification",
              "image-clustering",
              "image-compression",
              "image-enhancement",
              "image-generation",
              "image-imputation",
              "image-recognition",
              "image-reconstruction",
              "image-restoration",
              "image-similarity-search",
              "image-to-image-translation",
              "imitation-learning",
              "imputation",
              "inference",
              "information-extraction",
              "information-retrieval",
              "instance-segmentation",
              "integration-tests",
              "intent-classification",
              "intent-detection",
              "interpretability",
              "java",
              "javascript",
              "jax",
              "julia",
              "k-nearest-neighbors",
              "keras",
              "keyword-extraction",
              "keyword-spotting",
              "knowledge-base",
              "knowledge-base-question-answering",
              "knowledge-distillation",
              "knowledge-graphs",
              "kuberflow",
              "kubernetes",
              "language-identification",
              "language-modeling",
              "latent-dirichlet-allocation",
              "learning-rates",
              "lemmatization",
              "lexical-simplification",
              "linear-discriminant-analysis",
              "linear-regression",
              "linguistic-acceptability",
              "logistic-regression",
              "lstm",
              "machine-learning",
              "machine-translation",
              "matplotlib",
              "medical-imaging",
              "meta-learning",
              "metrics",
              "mlops",
              "model-compression",
              "model-management",
              "model-selection",
              "morphological-analysis",
              "morphological-inflection",
              "morphological-tagging",
              "mortality-prediction",
              "motion-capture",
              "motion-estimation",
              "motion-planning",
              "motion-segmentation",
              "multi-agent-reinforcement-learning",
              "multi-armed-bandits",
              "multi-modal",
              "multi-task-learning",
              "multilayer-perceptrons",
              "multilingual",
              "multinomial-regression",
              "music-generation",
              "mxnet",
              "naive-bayes",
              "named-entity-recognition",
              "natural-language-inference",
              "natural-language-processing",
              "natural-language-understanding",
              "navigation",
              "neural-networks",
              "node-classification",
              "node-js",
              "object-classification",
              "object-counting",
              "object-detection",
              "object-localization",
              "object-recognition",
              "object-reconstruction",
              "object-tracking",
              "one-shot-learning",
              "onnx",
              "open-refine",
              "optical-character-recognition",
              "optical-flow-estimation",
              "optimizer",
              "outlier-detection",
              "paddlepaddle",
              "paraphrase-identification",
              "part-of-speech-tagging",
              "passage-re-ranking",
              "phenotyping",
              "php",
              "phrase-grounding",
              "point-cloud-generation",
              "policy-gradient-methods",
              "pose-estimation",
              "pose-tracking",
              "preprocessing",
              "pretraining",
              "principal-component-analysis",
              "privacy",
              "production",
              "pruning",
              "python",
              "pytorch",
              "q-learning",
              "quantization",
              "quantum-machine-learning",
              "quasi-recurrent-neural-networks",
              "question-answering",
              "question-generation",
              "question-similarity",
              "r",
              "random-forests",
              "react",
              "reading-comprehension",
              "recommendation-systems",
              "recurrent-neural-networks",
              "recursive-neural-networks",
              "regression",
              "reinforcement-learning",
              "relation-classification",
              "relation-extraction",
              "relational-reasoning",
              "representation-learning",
              "residual-networks",
              "robotics",
              "ruby",
              "saas",
              "safe-exploration",
              "sarcasm-detection",
              "scala",
              "scene-classification",
              "scene-generation",
              "scikit-learn",
              "search",
              "segmentation",
              "self-attention",
              "self-supervised-learning",
              "semantic-composition",
              "semantic-parsing",
              "semantic-role-labeling",
              "semantic-segmentation",
              "semi-supervised-learning",
              "sentence-embeddings",
              "sentiment-analysis",
              "sequence-to-sequence",
              "siamese-networks",
              "similarity-search",
              "slot-filling",
              "sonnet",
              "spacy",
              "spark",
              "spatial-temporal-cnn",
              "speaker-diarization",
              "speaker-identification",
              "speaker-separation",
              "speaker-verification",
              "speech",
              "speech-enhancement",
              "speech-recognition",
              "speech-separation",
              "speech-synthesis",
              "spoken-dialogue-systems",
              "sql",
              "stance-detection",
              "stata",
              "stereo-matching",
              "stochastic-optimization",
              "streaming-data",
              "streamlit",
              "style-transfer",
              "subjectivity-analysis",
              "super-resolution",
              "support-vector-machines",
              "surveillance",
              "survival-analysis",
              "swift",
              "systems-design",
              "tabular",
              "temporal-cnn",
              "tensor-networks",
              "tensorflow",
              "tensorflow-js",
              "tensorflow-lite",
              "text-attribute-transfer",
              "text-classification",
              "text-generation",
              "text-matching",
              "text-similarity",
              "text-simplification",
              "text-summarization",
              "text-to-speech-synthesis",
              "theano",
              "time-series",
              "time-series-classification",
              "time-series-clustering",
              "time-series-forecasting",
              "time-series-prediction",
              "tokenization",
              "topic-modeling",
              "torch",
              "transfer-learning",
              "transformers",
              "unit-tests",
              "unsupervised-learning",
              "variational-autoencoders",
              "video-captioning",
              "video-classification",
              "video-question-answering",
              "video-semantic-segmentation",
              "video-summarization",
              "visual-navigation",
              "visual-odometry",
              "visual-question-answering",
              "visual-reasoning",
              "visual-tracking",
              "visualization",
              "wandb",
              "word-alignment",
              "word-embeddings",
              "word-sense-disambiguation",
              "word-sense-induction",
              "xgboost",
              "xlnet",
              "zero-shot-learning"
            ],
            "_view_name": "DropdownView",
            "style": "IPY_MODEL_cb0875b4abe94f33a5e3153a9ac36bcf",
            "_dom_classes": [],
            "description": "tag",
            "_model_name": "DropdownModel",
            "index": 283,
            "_view_module": "@jupyter-widgets/controls",
            "_model_module_version": "1.5.0",
            "_view_count": null,
            "disabled": false,
            "_view_module_version": "1.5.0",
            "description_tooltip": null,
            "_model_module": "@jupyter-widgets/controls",
            "layout": "IPY_MODEL_3f9e427ec8ee4106be4a4acb5f1bcc99"
          }
        },
        "53e21f1a084840b3872b977d82853760": {
          "model_module": "@jupyter-widgets/output",
          "model_name": "OutputModel",
          "model_module_version": "1.0.0",
          "state": {
            "_view_name": "OutputView",
            "msg_id": "",
            "_dom_classes": [],
            "_model_name": "OutputModel",
            "outputs": [
              {
                "output_type": "stream",
                "name": "stdout",
                "text": [
                  "{\n",
                  "  \"aliases\": [\n",
                  "    \"qa\"\n",
                  "  ],\n",
                  "  \"parents\": [\n",
                  "    \"natural-language-processing\"\n",
                  "  ]\n",
                  "}\n"
                ]
              }
            ],
            "_view_module": "@jupyter-widgets/output",
            "_model_module_version": "1.0.0",
            "_view_count": null,
            "_view_module_version": "1.0.0",
            "layout": "IPY_MODEL_5c5e3bf7cf6d48a28cb6b8be570acc97",
            "_model_module": "@jupyter-widgets/output"
          }
        },
        "cb0875b4abe94f33a5e3153a9ac36bcf": {
          "model_module": "@jupyter-widgets/controls",
          "model_name": "DescriptionStyleModel",
          "model_module_version": "1.5.0",
          "state": {
            "_view_name": "StyleView",
            "_model_name": "DescriptionStyleModel",
            "description_width": "",
            "_view_module": "@jupyter-widgets/base",
            "_model_module_version": "1.5.0",
            "_view_count": null,
            "_view_module_version": "1.2.0",
            "_model_module": "@jupyter-widgets/controls"
          }
        },
        "3f9e427ec8ee4106be4a4acb5f1bcc99": {
          "model_module": "@jupyter-widgets/base",
          "model_name": "LayoutModel",
          "model_module_version": "1.2.0",
          "state": {
            "_view_name": "LayoutView",
            "grid_template_rows": null,
            "right": null,
            "justify_content": null,
            "_view_module": "@jupyter-widgets/base",
            "overflow": null,
            "_model_module_version": "1.2.0",
            "_view_count": null,
            "flex_flow": null,
            "width": null,
            "min_width": null,
            "border": null,
            "align_items": null,
            "bottom": null,
            "_model_module": "@jupyter-widgets/base",
            "top": null,
            "grid_column": null,
            "overflow_y": null,
            "overflow_x": null,
            "grid_auto_flow": null,
            "grid_area": null,
            "grid_template_columns": null,
            "flex": null,
            "_model_name": "LayoutModel",
            "justify_items": null,
            "grid_row": null,
            "max_height": null,
            "align_content": null,
            "visibility": null,
            "align_self": null,
            "height": null,
            "min_height": null,
            "padding": null,
            "grid_auto_rows": null,
            "grid_gap": null,
            "max_width": null,
            "order": null,
            "_view_module_version": "1.2.0",
            "grid_template_areas": null,
            "object_position": null,
            "object_fit": null,
            "grid_auto_columns": null,
            "margin": null,
            "display": null,
            "left": null
          }
        },
        "5c5e3bf7cf6d48a28cb6b8be570acc97": {
          "model_module": "@jupyter-widgets/base",
          "model_name": "LayoutModel",
          "model_module_version": "1.2.0",
          "state": {
            "_view_name": "LayoutView",
            "grid_template_rows": null,
            "right": null,
            "justify_content": null,
            "_view_module": "@jupyter-widgets/base",
            "overflow": null,
            "_model_module_version": "1.2.0",
            "_view_count": null,
            "flex_flow": null,
            "width": null,
            "min_width": null,
            "border": null,
            "align_items": null,
            "bottom": null,
            "_model_module": "@jupyter-widgets/base",
            "top": null,
            "grid_column": null,
            "overflow_y": null,
            "overflow_x": null,
            "grid_auto_flow": null,
            "grid_area": null,
            "grid_template_columns": null,
            "flex": null,
            "_model_name": "LayoutModel",
            "justify_items": null,
            "grid_row": null,
            "max_height": null,
            "align_content": null,
            "visibility": null,
            "align_self": null,
            "height": null,
            "min_height": null,
            "padding": null,
            "grid_auto_rows": null,
            "grid_gap": null,
            "max_width": null,
            "order": null,
            "_view_module_version": "1.2.0",
            "grid_template_areas": null,
            "object_position": null,
            "object_fit": null,
            "grid_auto_columns": null,
            "margin": null,
            "display": null,
            "left": null
          }
        },
        "f0abdfff0b0a486baecc352787260fa8": {
          "model_module": "@jupyter-widgets/controls",
          "model_name": "VBoxModel",
          "model_module_version": "1.5.0",
          "state": {
            "_view_name": "VBoxView",
            "_dom_classes": [
              "widget-interact"
            ],
            "_model_name": "VBoxModel",
            "_view_module": "@jupyter-widgets/controls",
            "_model_module_version": "1.5.0",
            "_view_count": null,
            "_view_module_version": "1.5.0",
            "box_style": "",
            "layout": "IPY_MODEL_e418958e782645b1be3ab543dd3439d5",
            "_model_module": "@jupyter-widgets/controls",
            "children": [
              "IPY_MODEL_b8e68c120f974e8293e8db866a7b696c",
              "IPY_MODEL_aeb5be7298b141e486259a8c0211c50a"
            ]
          }
        },
        "e418958e782645b1be3ab543dd3439d5": {
          "model_module": "@jupyter-widgets/base",
          "model_name": "LayoutModel",
          "model_module_version": "1.2.0",
          "state": {
            "_view_name": "LayoutView",
            "grid_template_rows": null,
            "right": null,
            "justify_content": null,
            "_view_module": "@jupyter-widgets/base",
            "overflow": null,
            "_model_module_version": "1.2.0",
            "_view_count": null,
            "flex_flow": null,
            "width": null,
            "min_width": null,
            "border": null,
            "align_items": null,
            "bottom": null,
            "_model_module": "@jupyter-widgets/base",
            "top": null,
            "grid_column": null,
            "overflow_y": null,
            "overflow_x": null,
            "grid_auto_flow": null,
            "grid_area": null,
            "grid_template_columns": null,
            "flex": null,
            "_model_name": "LayoutModel",
            "justify_items": null,
            "grid_row": null,
            "max_height": null,
            "align_content": null,
            "visibility": null,
            "align_self": null,
            "height": null,
            "min_height": null,
            "padding": null,
            "grid_auto_rows": null,
            "grid_gap": null,
            "max_width": null,
            "order": null,
            "_view_module_version": "1.2.0",
            "grid_template_areas": null,
            "object_position": null,
            "object_fit": null,
            "grid_auto_columns": null,
            "margin": null,
            "display": null,
            "left": null
          }
        },
        "b8e68c120f974e8293e8db866a7b696c": {
          "model_module": "@jupyter-widgets/controls",
          "model_name": "IntSliderModel",
          "model_module_version": "1.5.0",
          "state": {
            "_view_name": "IntSliderView",
            "style": "IPY_MODEL_6ea94e8bce2e4e78a8d60f794bcce115",
            "_dom_classes": [],
            "description": "min_tag_freq",
            "step": 1,
            "_model_name": "IntSliderModel",
            "orientation": "horizontal",
            "max": 424,
            "_view_module": "@jupyter-widgets/controls",
            "_model_module_version": "1.5.0",
            "value": 30,
            "_view_count": null,
            "disabled": false,
            "_view_module_version": "1.5.0",
            "min": 0,
            "continuous_update": true,
            "readout_format": "d",
            "description_tooltip": null,
            "readout": true,
            "_model_module": "@jupyter-widgets/controls",
            "layout": "IPY_MODEL_ab1711e4b3d94480a3d24df5dfc742d0"
          }
        },
        "aeb5be7298b141e486259a8c0211c50a": {
          "model_module": "@jupyter-widgets/output",
          "model_name": "OutputModel",
          "model_module_version": "1.0.0",
          "state": {
            "_view_name": "OutputView",
            "msg_id": "",
            "_dom_classes": [],
            "_model_name": "OutputModel",
            "outputs": [
              {
                "output_type": "stream",
                "name": "stdout",
                "text": [
                  "Most popular tags:\n",
                  " [('natural-language-processing', 424), ('computer-vision', 388), ('pytorch', 258), ('tensorflow', 213), ('transformers', 196)]\n",
                  "\n",
                  "Tags that just made the cut:\n",
                  " [('flask', 34), ('time-series', 34), ('node-classification', 33), ('question-answering', 32), ('pretraining', 30)]\n",
                  "\n",
                  "Tags that just missed the cut:\n",
                  " [('fastai', 29), ('graph-classification', 29), ('model-compression', 29), ('recurrent-neural-networks', 28), ('adversarial-learning', 28)]\n"
                ]
              }
            ],
            "_view_module": "@jupyter-widgets/output",
            "_model_module_version": "1.0.0",
            "_view_count": null,
            "_view_module_version": "1.0.0",
            "layout": "IPY_MODEL_9ca62aff326e4b22ba8c1efe04c04355",
            "_model_module": "@jupyter-widgets/output"
          }
        },
        "6ea94e8bce2e4e78a8d60f794bcce115": {
          "model_module": "@jupyter-widgets/controls",
          "model_name": "SliderStyleModel",
          "model_module_version": "1.5.0",
          "state": {
            "_view_name": "StyleView",
            "handle_color": null,
            "_model_name": "SliderStyleModel",
            "description_width": "",
            "_view_module": "@jupyter-widgets/base",
            "_model_module_version": "1.5.0",
            "_view_count": null,
            "_view_module_version": "1.2.0",
            "_model_module": "@jupyter-widgets/controls"
          }
        },
        "ab1711e4b3d94480a3d24df5dfc742d0": {
          "model_module": "@jupyter-widgets/base",
          "model_name": "LayoutModel",
          "model_module_version": "1.2.0",
          "state": {
            "_view_name": "LayoutView",
            "grid_template_rows": null,
            "right": null,
            "justify_content": null,
            "_view_module": "@jupyter-widgets/base",
            "overflow": null,
            "_model_module_version": "1.2.0",
            "_view_count": null,
            "flex_flow": null,
            "width": null,
            "min_width": null,
            "border": null,
            "align_items": null,
            "bottom": null,
            "_model_module": "@jupyter-widgets/base",
            "top": null,
            "grid_column": null,
            "overflow_y": null,
            "overflow_x": null,
            "grid_auto_flow": null,
            "grid_area": null,
            "grid_template_columns": null,
            "flex": null,
            "_model_name": "LayoutModel",
            "justify_items": null,
            "grid_row": null,
            "max_height": null,
            "align_content": null,
            "visibility": null,
            "align_self": null,
            "height": null,
            "min_height": null,
            "padding": null,
            "grid_auto_rows": null,
            "grid_gap": null,
            "max_width": null,
            "order": null,
            "_view_module_version": "1.2.0",
            "grid_template_areas": null,
            "object_position": null,
            "object_fit": null,
            "grid_auto_columns": null,
            "margin": null,
            "display": null,
            "left": null
          }
        },
        "9ca62aff326e4b22ba8c1efe04c04355": {
          "model_module": "@jupyter-widgets/base",
          "model_name": "LayoutModel",
          "model_module_version": "1.2.0",
          "state": {
            "_view_name": "LayoutView",
            "grid_template_rows": null,
            "right": null,
            "justify_content": null,
            "_view_module": "@jupyter-widgets/base",
            "overflow": null,
            "_model_module_version": "1.2.0",
            "_view_count": null,
            "flex_flow": null,
            "width": null,
            "min_width": null,
            "border": null,
            "align_items": null,
            "bottom": null,
            "_model_module": "@jupyter-widgets/base",
            "top": null,
            "grid_column": null,
            "overflow_y": null,
            "overflow_x": null,
            "grid_auto_flow": null,
            "grid_area": null,
            "grid_template_columns": null,
            "flex": null,
            "_model_name": "LayoutModel",
            "justify_items": null,
            "grid_row": null,
            "max_height": null,
            "align_content": null,
            "visibility": null,
            "align_self": null,
            "height": null,
            "min_height": null,
            "padding": null,
            "grid_auto_rows": null,
            "grid_gap": null,
            "max_width": null,
            "order": null,
            "_view_module_version": "1.2.0",
            "grid_template_areas": null,
            "object_position": null,
            "object_fit": null,
            "grid_auto_columns": null,
            "margin": null,
            "display": null,
            "left": null
          }
        },
        "9f40ca09cc7044739845162ea9d6b447": {
          "model_module": "@jupyter-widgets/controls",
          "model_name": "VBoxModel",
          "model_module_version": "1.5.0",
          "state": {
            "_view_name": "VBoxView",
            "_dom_classes": [
              "widget-interact"
            ],
            "_model_name": "VBoxModel",
            "_view_module": "@jupyter-widgets/controls",
            "_model_module_version": "1.5.0",
            "_view_count": null,
            "_view_module_version": "1.5.0",
            "box_style": "",
            "layout": "IPY_MODEL_f99f507cf01b4877b2531656bc65a35c",
            "_model_module": "@jupyter-widgets/controls",
            "children": [
              "IPY_MODEL_3eb58bf9d1c240abb476416ad5f75efb",
              "IPY_MODEL_8577dba8bf364996828215c1479bd6d1",
              "IPY_MODEL_db6cba81c3084bd5949fd1711ced9ad5"
            ]
          }
        },
        "f99f507cf01b4877b2531656bc65a35c": {
          "model_module": "@jupyter-widgets/base",
          "model_name": "LayoutModel",
          "model_module_version": "1.2.0",
          "state": {
            "_view_name": "LayoutView",
            "grid_template_rows": null,
            "right": null,
            "justify_content": null,
            "_view_module": "@jupyter-widgets/base",
            "overflow": null,
            "_model_module_version": "1.2.0",
            "_view_count": null,
            "flex_flow": null,
            "width": null,
            "min_width": null,
            "border": null,
            "align_items": null,
            "bottom": null,
            "_model_module": "@jupyter-widgets/base",
            "top": null,
            "grid_column": null,
            "overflow_y": null,
            "overflow_x": null,
            "grid_auto_flow": null,
            "grid_area": null,
            "grid_template_columns": null,
            "flex": null,
            "_model_name": "LayoutModel",
            "justify_items": null,
            "grid_row": null,
            "max_height": null,
            "align_content": null,
            "visibility": null,
            "align_self": null,
            "height": null,
            "min_height": null,
            "padding": null,
            "grid_auto_rows": null,
            "grid_gap": null,
            "max_width": null,
            "order": null,
            "_view_module_version": "1.2.0",
            "grid_template_areas": null,
            "object_position": null,
            "object_fit": null,
            "grid_auto_columns": null,
            "margin": null,
            "display": null,
            "left": null
          }
        },
        "3eb58bf9d1c240abb476416ad5f75efb": {
          "model_module": "@jupyter-widgets/controls",
          "model_name": "CheckboxModel",
          "model_module_version": "1.5.0",
          "state": {
            "_view_name": "CheckboxView",
            "style": "IPY_MODEL_04b4fb44ed9246fc92825b86e931fe9f",
            "_dom_classes": [],
            "description": "lower",
            "_model_name": "CheckboxModel",
            "_view_module": "@jupyter-widgets/controls",
            "_model_module_version": "1.5.0",
            "value": true,
            "_view_count": null,
            "disabled": false,
            "_view_module_version": "1.5.0",
            "indent": true,
            "description_tooltip": null,
            "_model_module": "@jupyter-widgets/controls",
            "layout": "IPY_MODEL_9bc2745f66ee4a16a0618da84d9b03a5"
          }
        },
        "8577dba8bf364996828215c1479bd6d1": {
          "model_module": "@jupyter-widgets/controls",
          "model_name": "CheckboxModel",
          "model_module_version": "1.5.0",
          "state": {
            "_view_name": "CheckboxView",
            "style": "IPY_MODEL_ff0710ee342a430e9e16b3a43ea02902",
            "_dom_classes": [],
            "description": "stem",
            "_model_name": "CheckboxModel",
            "_view_module": "@jupyter-widgets/controls",
            "_model_module_version": "1.5.0",
            "value": false,
            "_view_count": null,
            "disabled": false,
            "_view_module_version": "1.5.0",
            "indent": true,
            "description_tooltip": null,
            "_model_module": "@jupyter-widgets/controls",
            "layout": "IPY_MODEL_54edec0699b8454ba58ff5b9062c66c2"
          }
        },
        "db6cba81c3084bd5949fd1711ced9ad5": {
          "model_module": "@jupyter-widgets/output",
          "model_name": "OutputModel",
          "model_module_version": "1.0.0",
          "state": {
            "_view_name": "OutputView",
            "msg_id": "",
            "_dom_classes": [],
            "_model_name": "OutputModel",
            "outputs": [
              {
                "output_type": "stream",
                "name": "stdout",
                "text": [
                  "conditional image generation using variational autoencoders gans\n"
                ]
              }
            ],
            "_view_module": "@jupyter-widgets/output",
            "_model_module_version": "1.0.0",
            "_view_count": null,
            "_view_module_version": "1.0.0",
            "layout": "IPY_MODEL_bf22ffea6d1942abb971907cbf587095",
            "_model_module": "@jupyter-widgets/output"
          }
        },
        "04b4fb44ed9246fc92825b86e931fe9f": {
          "model_module": "@jupyter-widgets/controls",
          "model_name": "DescriptionStyleModel",
          "model_module_version": "1.5.0",
          "state": {
            "_view_name": "StyleView",
            "_model_name": "DescriptionStyleModel",
            "description_width": "",
            "_view_module": "@jupyter-widgets/base",
            "_model_module_version": "1.5.0",
            "_view_count": null,
            "_view_module_version": "1.2.0",
            "_model_module": "@jupyter-widgets/controls"
          }
        },
        "9bc2745f66ee4a16a0618da84d9b03a5": {
          "model_module": "@jupyter-widgets/base",
          "model_name": "LayoutModel",
          "model_module_version": "1.2.0",
          "state": {
            "_view_name": "LayoutView",
            "grid_template_rows": null,
            "right": null,
            "justify_content": null,
            "_view_module": "@jupyter-widgets/base",
            "overflow": null,
            "_model_module_version": "1.2.0",
            "_view_count": null,
            "flex_flow": null,
            "width": null,
            "min_width": null,
            "border": null,
            "align_items": null,
            "bottom": null,
            "_model_module": "@jupyter-widgets/base",
            "top": null,
            "grid_column": null,
            "overflow_y": null,
            "overflow_x": null,
            "grid_auto_flow": null,
            "grid_area": null,
            "grid_template_columns": null,
            "flex": null,
            "_model_name": "LayoutModel",
            "justify_items": null,
            "grid_row": null,
            "max_height": null,
            "align_content": null,
            "visibility": null,
            "align_self": null,
            "height": null,
            "min_height": null,
            "padding": null,
            "grid_auto_rows": null,
            "grid_gap": null,
            "max_width": null,
            "order": null,
            "_view_module_version": "1.2.0",
            "grid_template_areas": null,
            "object_position": null,
            "object_fit": null,
            "grid_auto_columns": null,
            "margin": null,
            "display": null,
            "left": null
          }
        },
        "ff0710ee342a430e9e16b3a43ea02902": {
          "model_module": "@jupyter-widgets/controls",
          "model_name": "DescriptionStyleModel",
          "model_module_version": "1.5.0",
          "state": {
            "_view_name": "StyleView",
            "_model_name": "DescriptionStyleModel",
            "description_width": "",
            "_view_module": "@jupyter-widgets/base",
            "_model_module_version": "1.5.0",
            "_view_count": null,
            "_view_module_version": "1.2.0",
            "_model_module": "@jupyter-widgets/controls"
          }
        },
        "54edec0699b8454ba58ff5b9062c66c2": {
          "model_module": "@jupyter-widgets/base",
          "model_name": "LayoutModel",
          "model_module_version": "1.2.0",
          "state": {
            "_view_name": "LayoutView",
            "grid_template_rows": null,
            "right": null,
            "justify_content": null,
            "_view_module": "@jupyter-widgets/base",
            "overflow": null,
            "_model_module_version": "1.2.0",
            "_view_count": null,
            "flex_flow": null,
            "width": null,
            "min_width": null,
            "border": null,
            "align_items": null,
            "bottom": null,
            "_model_module": "@jupyter-widgets/base",
            "top": null,
            "grid_column": null,
            "overflow_y": null,
            "overflow_x": null,
            "grid_auto_flow": null,
            "grid_area": null,
            "grid_template_columns": null,
            "flex": null,
            "_model_name": "LayoutModel",
            "justify_items": null,
            "grid_row": null,
            "max_height": null,
            "align_content": null,
            "visibility": null,
            "align_self": null,
            "height": null,
            "min_height": null,
            "padding": null,
            "grid_auto_rows": null,
            "grid_gap": null,
            "max_width": null,
            "order": null,
            "_view_module_version": "1.2.0",
            "grid_template_areas": null,
            "object_position": null,
            "object_fit": null,
            "grid_auto_columns": null,
            "margin": null,
            "display": null,
            "left": null
          }
        },
        "bf22ffea6d1942abb971907cbf587095": {
          "model_module": "@jupyter-widgets/base",
          "model_name": "LayoutModel",
          "model_module_version": "1.2.0",
          "state": {
            "_view_name": "LayoutView",
            "grid_template_rows": null,
            "right": null,
            "justify_content": null,
            "_view_module": "@jupyter-widgets/base",
            "overflow": null,
            "_model_module_version": "1.2.0",
            "_view_count": null,
            "flex_flow": null,
            "width": null,
            "min_width": null,
            "border": null,
            "align_items": null,
            "bottom": null,
            "_model_module": "@jupyter-widgets/base",
            "top": null,
            "grid_column": null,
            "overflow_y": null,
            "overflow_x": null,
            "grid_auto_flow": null,
            "grid_area": null,
            "grid_template_columns": null,
            "flex": null,
            "_model_name": "LayoutModel",
            "justify_items": null,
            "grid_row": null,
            "max_height": null,
            "align_content": null,
            "visibility": null,
            "align_self": null,
            "height": null,
            "min_height": null,
            "padding": null,
            "grid_auto_rows": null,
            "grid_gap": null,
            "max_width": null,
            "order": null,
            "_view_module_version": "1.2.0",
            "grid_template_areas": null,
            "object_position": null,
            "object_fit": null,
            "grid_auto_columns": null,
            "margin": null,
            "display": null,
            "left": null
          }
        },
        "307efc45084e44bda7cb923a4043ddaf": {
          "model_module": "@jupyter-widgets/controls",
          "model_name": "VBoxModel",
          "model_module_version": "1.5.0",
          "state": {
            "_view_name": "VBoxView",
            "_dom_classes": [
              "widget-interact"
            ],
            "_model_name": "VBoxModel",
            "_view_module": "@jupyter-widgets/controls",
            "_model_module_version": "1.5.0",
            "_view_count": null,
            "_view_module_version": "1.5.0",
            "box_style": "",
            "layout": "IPY_MODEL_9510caa2ad984eb4b22a8dec0faca992",
            "_model_module": "@jupyter-widgets/controls",
            "children": [
              "IPY_MODEL_3f9ec3960a784810bd0338b3c2e1ec98",
              "IPY_MODEL_9ad7c5404bb142f3a48cea5ead36ab86"
            ]
          }
        },
        "9510caa2ad984eb4b22a8dec0faca992": {
          "model_module": "@jupyter-widgets/base",
          "model_name": "LayoutModel",
          "model_module_version": "1.2.0",
          "state": {
            "_view_name": "LayoutView",
            "grid_template_rows": null,
            "right": null,
            "justify_content": null,
            "_view_module": "@jupyter-widgets/base",
            "overflow": null,
            "_model_module_version": "1.2.0",
            "_view_count": null,
            "flex_flow": null,
            "width": null,
            "min_width": null,
            "border": null,
            "align_items": null,
            "bottom": null,
            "_model_module": "@jupyter-widgets/base",
            "top": null,
            "grid_column": null,
            "overflow_y": null,
            "overflow_x": null,
            "grid_auto_flow": null,
            "grid_area": null,
            "grid_template_columns": null,
            "flex": null,
            "_model_name": "LayoutModel",
            "justify_items": null,
            "grid_row": null,
            "max_height": null,
            "align_content": null,
            "visibility": null,
            "align_self": null,
            "height": null,
            "min_height": null,
            "padding": null,
            "grid_auto_rows": null,
            "grid_gap": null,
            "max_width": null,
            "order": null,
            "_view_module_version": "1.2.0",
            "grid_template_areas": null,
            "object_position": null,
            "object_fit": null,
            "grid_auto_columns": null,
            "margin": null,
            "display": null,
            "left": null
          }
        },
        "3f9ec3960a784810bd0338b3c2e1ec98": {
          "model_module": "@jupyter-widgets/controls",
          "model_name": "DropdownModel",
          "model_module_version": "1.5.0",
          "state": {
            "_options_labels": [
              "natural-language-processing",
              "computer-vision",
              "pytorch",
              "tensorflow",
              "transformers",
              "attention",
              "convolutional-neural-networks",
              "keras",
              "graphs",
              "embeddings",
              "generative-adversarial-networks",
              "object-detection",
              "huggingface",
              "scikit-learn",
              "reinforcement-learning",
              "representation-learning",
              "interpretability",
              "graph-neural-networks",
              "language-modeling",
              "image-classification",
              "production",
              "regression",
              "segmentation",
              "transfer-learning",
              "autoencoders",
              "data-augmentation",
              "self-supervised-learning",
              "tensorflow-js",
              "unsupervised-learning",
              "flask",
              "time-series",
              "node-classification",
              "question-answering",
              "pretraining"
            ],
            "_view_name": "DropdownView",
            "style": "IPY_MODEL_7193f793b46c4462926ba3a0ca6aea81",
            "_dom_classes": [],
            "description": "tag",
            "_model_name": "DropdownModel",
            "index": 2,
            "_view_module": "@jupyter-widgets/controls",
            "_model_module_version": "1.5.0",
            "_view_count": null,
            "disabled": false,
            "_view_module_version": "1.5.0",
            "description_tooltip": null,
            "_model_module": "@jupyter-widgets/controls",
            "layout": "IPY_MODEL_22ba7b92dd7744569a2e8290c73b4186"
          }
        },
        "9ad7c5404bb142f3a48cea5ead36ab86": {
          "model_module": "@jupyter-widgets/output",
          "model_name": "OutputModel",
          "model_module_version": "1.0.0",
          "state": {
            "_view_name": "OutputView",
            "msg_id": "",
            "_dom_classes": [],
            "_model_name": "OutputModel",
            "outputs": [
              {
                "output_type": "display_data",
                "data": {
                  "image/png": "iVBORw0KGgoAAAANSUhEUgAAAdMAAAEeCAYAAADRiP/HAAAABHNCSVQICAgIfAhkiAAAAAlwSFlzAAALEgAACxIB0t1+/AAAADh0RVh0U29mdHdhcmUAbWF0cGxvdGxpYiB2ZXJzaW9uMy4yLjIsIGh0dHA6Ly9tYXRwbG90bGliLm9yZy+WH4yJAAAgAElEQVR4nOy9d5Rnx3Xf+amXfzl1DtM9PRkzmEEOAyIDJAiApEBSEmVSoqIlS8den9UGe+U9a9nyriWtbVk+omUlU6YCRYpBjEgECAxymJxj59y/HF5++8fr6ZmeDtM9SaC2vzgzmN8LVfXq1avvvbfuvSWCIAhYwxrWsIY1rGENVwzp77sBa1jDGtawhjX8qGONTNewhjWsYQ1ruEqskeka1rCGNaxhDVeJNTJdwxrWsIY1rOEqsUama1jDGtawhjVcJdbIdA1rWMMa1rCGq4Sy3EkhxI1qxwcGQsCNDBbSVHDcG1vnNYcAVRM41uUfQpLB94Hr+byyDJ53HSv4AECAokpIMri2j38DH1cIUHQJIcCxfAL/xtW9husFwfmPUiAREDD/IxUs/dFeeu9yA2Lpci5/7wcDS0WT/v9GM9V1MPRwIhAinG8BFPnC755umb71MpoanpOk8L7z10L4b8MQSNKF+zSNuXsgPB6JCDTtwm9NA/WiaxQFolHBr//zBBs3hDKNqobXnZdhFCU8ZhjXqVOuEVJZhc//q+7LXifLsPvJLH3bo2TbVJJZhUhcQtHE3DMLXUeKRhGGgdA1hKahtrUhJxIgywhFAUlCzHaUFIkgDCM8pqpIkQiphx5ETiZX1HZJvlD3jxIybTqf/Xeb+c0X7uGWx5uRFREO2IsH63VCa1+UX/ujm/nNF+5h0x3p617fGq4vNDlGQm9BlQwUSWd97i6y0fB7VuQIMS1HXG9CkXQ0OYoqh9dJQiGmN5GKtCMQxLQs63N3E1XTqHIkvF6JIksaimQQ1bKkjDYEAk2OkjRa0eQoklBI6M2sy9xKTMtds+dS9QR6JIOs3pgJdFnN9AMBSUKNp1EiMdxGFadSYrWisKHDvffoGIbg1GmXUsknk5YYHHbZtlVlaNhDluCnfjJKpRqw53WLo8cc1vcq9PYoVCo++w/Y+AHcfqtGMikxMuoxNOTSt14hk5GQZXjnPZtKJWDXzSrt7TLFos8779m0NMts3aJg2wGHjzo0GgF33aERiUikUqGEn81K7LhJRZLh2HGHiQmfD92rY9kB6bTECy+auNdZ+4inZdLNKrIs8LyAsXMmngvRhEymRSUAZFmQH7eplcPGJDIKiazC838xddnyhSzYckec+z6eJQhgesRmcthiasSmNO1w6kCN2L33IBSFwHXwTQvr7DmMvl7M02cRqorW2YFvmkiahjM9Q+zWXfiNBtbwCHIshpJKhsS7AoKMphQ23J5i9GSNmWHzKnvvxiKR08i0GUSTCs3rIkiyACOGlmvGmhzDbzSuW93ZdoNEk04kodCyPsLJd4vX19KwhusGWaghqSkxXN/E8RpIQsH1LQASWo5MdB0TleNE1BS6EscLHDzfQZUNdCVO1ZqZ1WQFAgnXd0joLbi+ja5EadglZEmjOb6RicpxZEmjJbEZWaiYahk/cCEAXUnMWUNlOfzjurNKhSZwnQDPC41OK7Hkbbvrp0lkehg6+SLDg2/gW+asWYxQ8AQkTSNwXZAkAsu6qr78wJOplsrSuvujxNdvozp4ktEX/xavXl1VGaomaG+T6WiX2bxJ4ZVXLTZsUJie8fnQbp0fvmoxPuHhejA15TEz49PeJnPfvRpDwx6PPGRQqfpEI4Kf+3yMN960eeJxgz//ixoPPqAzPOyxZbPC9LTP5JTHz/9sjC9+qQ4ExOOC++7V8APIZiRkWVCv+zz8oMG3vtOgu0tG1wX379a58w4N1w1oaZL51nca/MznYnzzWw0mpjy8G2D96NwQYeeHkqi6oLlT51t/NM7A8Tqbbonx5M+1cnJvlUyrxqn9Vd55tkCj5tPeq3PnhzPcdFec3/jU8WXLd+2AP/vXg8RSCu29Ouu3R+ncGGHrnQnSTSq//UunUNJpqu+9j97bg1AU3HIJr1xGqCrO5CTRW3aitbUx87VvkNh9D26+gG9ZRPr6sCcmqR04ROLuu1gJm266I81nfnMzf/cfzjIzMv4jRQjTgw3e/94kY6dqHH5lBtf2EcLF6O5F0nVqJ49dt7qHj1d599sTJJs0jr5W+JHqtzXMhx942F59VkuM0XBKOL6FP6uwBASUzDFqdp6YlkOWNDQRpe4UkSUNy6nMEa/t1XEDGwjwAxdNjmIoSUynAkDZHKNiTc5qwBpCSLiehSypOIGJ7dXnhlI8IejpkSmXAmwHmpslFAXyeZ/hIQ/HWcVDConY9u1YoyP4lkVgWUiGQeA4qG1t+PU6QpYxz527qr78wJOpGk9jNHcg6wbx7o3Iqo7HyslUCNiwXsH3oVD0icfDSVbM/mUY4e9C3md83GNw2GNk1GPXTpVKJWD/AYdcVqKtVaazQ2ZkxGNq2uP1t3wkCcbGPPYfdObMv+u6FU6fcXl/rw1Ae5uEYQj2vG7Ru04hERd0tCscOuJw+KjD2XMumhZeNzHpMT4e1o+Actnnh3tMyuUbM1uVZxwGjtVBCLKtGjt2Jxk4XkdWBGbN57t/NkF7n8GDzzRxcm+VxjmLk/tqFKYcbrorftnyZUXw4c8149oBiNDEOnbOZOB4ndKUQ6PmoXoe+B6B5yGpKkoqhdrcDJKMb5oEDRN7ZBStox03X0BtyuFbFubAIHIijtbVOWtPv3yfrb81iR67/mbR64F62WXPX4/OOyarKnIket3JrTxt8+x/Hbi+lazhhsHzbcrmBLZXB6DcGEORNEBgOhUkEX4jlltFlSPoSgzbq1G38ySNNnQ5Rp0Cvu9Ss6ZRJJ26XSCm57C9Bo4XWknOk67r20xXz6IrcepOAc93iek5TKcyd208LrHrFpVCPuDUKZdIVNDbK7NvrzOnXK4YAqR4HKO3F9+ycEtlhCzhlctIhhFaumKxq+7HDzyZOrUy5swESjxFdfAUnr06VVwI6O5WuGmbGmqfLswUfO5vl3niwwZ96xUkAX4A0zM+D92vY1sBwyMe27aqPPERg3XdMnv31xkd8+hZp6BpgmIxYCbvs8EH35+dvQT097s8/WSET38yQqMR8PqbFjN5n8ceMYhGBW+/a3P2nM+nPxnF96GlRcY0A44ed7lll4rvw+SUj2kGeN6NE/n1qMRdH8lQr3hMjdhYDR/dCE0hvh9QK7uYdZ/StIOiCRR19cvtkgw3704ihKA0S9znjtQZ6zcp510CH2oHD+EWSwTeOYQs41s21tAIfqMOvo95+gy+ZSInEpgnT+JXQ7OvV6nglaJI0QiN48fx68ubOSMJha5tcVT9H47bgJrJ4tWqyPHE33dT1vAjggCfmp2nZufnjhUaw5x3FDLd8txx17coNobn3T9dOzv3by9wmK5d0O7sen3JOqv2NFV7+qJra/OuqdV89u11qFYDzEaAaQbMTPsMDbqr9y30AxonT0AQEPg+gesBAYHjEExM4JVK+Eu0dTVYMZm2d8p0dCv0n3Yol3wcBzq6ZSrlgGrZJ5mSqFV9NF1gmsEC78LU7vtDJxFZAs/HGh+jcfrkZet1ijNMvv598gdexykX8MzVPbTvw5tvWYyOejRMn1otYHzc49nnTXRNcOyYw9l+F9+Ht9+1mJrymZj0mZr2eXWPRSYjsW+/zcBAaGr9xrcaCBG+7Mkpnz2vW5TKAa++ZtEwA0qlgL/46xqqImiYAZVKwFtv23S0y/hBwOCQR6MR8PW/a+B78IWBKv39HgODHoWiTxCEpgyAP/7vNer1G0Oo0bhMW4/BC389ycCxBg9+MkdhIrSlyIog06IST8s0deg4po9trt7u7NoBf/nbw0TiMrohkcgqrNsSZed9SVJNKn/5O8PUB0KN5+LB7RWLC8ryyqHpyDxzdsGxpZBs1rj54RwtvRFa18fouTmJJAke+dkubnuieZ5CNzNs8tpXRhk9Mf8jX7cjzpO/1svwsSrf+f1+jLjMprvSbLknQ7pNx3N8SpM2Z/eX2f/cwnXkbIfOhjvSdG2Nk2nT0SISdsOnMGZyZm+ZU+8UaFQWmS0EdGyM8Yn/pW/BqZf/fJiTbxdxymU02wrXgC7CzkebuOOpFo68OsN7350k12lwy4ebaN8YR49KNMoug0erHHppmvzoQmFVkgWb7kzxyM8tdDL77n/pZ/Dw0v1+30+0s/2BLO98a4IDL0zTsTnGzkebaOuLougStYLDuQNlDv5gmlrRXbQMIUHn5jg3PZClfWOMSEJBLCID+W7Ani+PcnRPfuHJH0HERIp2ZT0AY24/tWDhd7AcFFRkoWAFV7J+/vdruy8WAoqFxcfDqhEE2CMji57ySiWAG0um0bigb5NC70aFg+/ZNLXIIGDjVpVvfrlKa7vMTbsi5Kc99vxgoTNH7cghErfdTvXwIaRIBCWZWlG9ge9h5Sew8hMrf6pLMD3jMz1jzzt26vTCF1UoBOwt2HPDaHTMY3Rs/sR2+IgzL3ym0Qjm/R/g2HF33jX5gk++4C8sh/lD9tDh+WUfP3GNBtMKUM67jJxt8PQvtGE3Qg30PDwXokmFz/x6F8mswpvfzVOYDPvz0/+0nY6+CM1dOp//jW4Ovl5m3w9LS9bjOQHxlExHX4TuzRHa1+vIqiA/Zl93r9q2vigf/+frUSMyqiYhpLDCzi1xOrfMN1MPH6+y7/mFZBjPaOx4KEc8o/LKX47w8Oe7uevjrcTSCoomEfjgOT65TmMBmd76RDOP/mwXua4Ieux8G0J/Osfyuf2pVg68OMULfzJEcXwhqcmqINdlEEspRJMqihYyyr5np8JyXAdrYhx7cmzefU1dBlvuzeC5Aa7j89F/0kuqVUePSEhS6Gx28yNN7Hgoxzd+5wyjJ2sL6lYNmeZ1EWJphUhCQVbCul/5y8Unqbk+3xBl24eylKZsZEXw9D9bT6JJQzNkhASeG7DzsSZ2PJjjy795ksrM/MUwWRHseryZD/9SN03dERRNwqq7RJMKQhIIIfC9gFrJYbK/sSjJftCgJXN0Pfhppva9TGV4aYWiWe6k5pcp+lPYV0CIMSlJTEoz6p65muauYYVYMZkKBJPjHtVKQDQm2LhV5VtfqRGLCTq7FaYnPfo2qZw44izqaeWWS4hIFKEoSKqGHI1ey+e4ZliJPLYST7IVXXOF910PeG7A838xiTo7QXtuMNeWwA8YOtHgr353GCHAavi4Tnjyu382gSQLZCX0tnPspTVWzZD43/54E0MnGwyeqPP+y0WG/6hBtejhuT6N2vX1sjq7v8y//9T7ADSvi/Djv7GJjs0xvv7vT7Pv+al5fe85AfXy0l4OiSaN+368nXs/2ca5/WWOvZ7HrLqkWw227k5zZu9CgaJeclENmemhBkf35Bk+VqVedsm2G+x8LMeux5q4+8faGDtd542vjuFfbOYPYOREjf/4j/YhJEFrb4SP/fP1bL47M3eJb9tozc1Iuk799EJnsM13p7jp/iyBH/CDPx2i/1AZVZfZ8WCW259sYcs9GT70k+185/f7qZcuCHK+F3Ds9Tz/72dKCEnQsyPBp/+PjbSuX/k3vOOBLLd/tAWz5vL9LwwwcrxKJKlw+5MtbL8/y82P5Bg52cFzfziI51547s4tcR77+S46NsV46xvjvPw/RqjM2GhRmQ//Ujf3f6aT0qTF13/nDMdeK2CbV+fyLmsRIs1dVEdOXVU5y0GSFYx0C7K+eMiGgkaH0ke70ocTmOSCDo7ZbyOjsFG9hYiIYWMx4p6i5M/QKvfQIncjC5maX+a0s5+01Eyvsh1DipGV2hl0j1H2Zy6qRRDPdNPeew+JdBeKGmUxabZWHuPIm38y9zuRWce6rR+mXplk6OSLEEB7324yrVvRtDieZ1EtjTLR/zblfP+8smTFoKlzJ+nmTUQTrSiqgefaNKpTTI8eYmbsEL43/5tLZnvZfNtnmBh4h9Fzr5Nt305L121E4s34nk2lMMhY/1tUC0NL9HZAgI+iRmjv+xCZli1oehzPNSnnBxg79zr1yhTXQhNfMZl6XkDvBpVESuLF7zY4uNfiqU9FaWlTeHOPyV27Dfa9Y9LTp3DmpIN9aQB/EFB+bQ+xm2/Gtx3qJ5bxNlxSvAxWzjbnB8b56y8eKJeWMe/c3F8rr+NSXCkjzitvOTXtCvph3u2L32ubwYLJSJr1z/G9gPoi5sfVEKDV8PnfP3aEdLPKbY+m2XRLjOYOjb0vF5kcdpfpdoGQBMGqPQ/mw7V8CmOhxqcZMq4TllcrueTHrFW8dkG2w2D3p9t59r8O8PpXx/Bcn9noAH7wxSECf2FhZ94v8V9+4QBWzcO1/bnXcJYSJ98pYNV97nmmlXU7Ehz8wTTlqfnWFN8L5kiullHnBJrzkDQNggAlsXiMbapFp5p3+E+f28/kQH2u/pNvFagVHR77hW5ufqSJl744PI9MYVa4OF93yZlP9CtApsOgMG7xn3/6APlxkyD0QeP4GwU++282s+vxZu76eCsv/unQHJnKiqBzS4x12xOcfq/EK381wtjpWa254PCN3zlLz44EbRtj9N2aYu/3Lx+etSyERLxrE+kNu64rmV4OLjaD7gl0ESXvjVPwx/FnkxmcdvYRAO3yehJSlpI/Q7Pcxah7joI/TkgeAQV/EtlVSclNnHUOzoauXEDLutvZsPMZBALbqmBZZfRIClWLAQKzUaBWHKE8M9/DVUgyqhYlEssSS7azfsfHiCZaEAhAgAhJszhxEuifu0+SVG575H9G1cP1/LlZSRdE4k1kWreSyvVx9vDfzSNUIcmoeoxospWNu54h07oNSdY470YaiTeTbt5M/9HvMTW8b9H+lITCjvv+MdFE24W6RZposo1s200cffuL1ErLW1hWghWT6bnTLufOVELT5Ox7ObTPnlsbffm55c0QQlHw6lXKb7+JFImGsYClhdJ7tKOX9Z/5p4uW0RgbYPDbf45bXdqMCBDv3UrXEz+FUFSOfeH/REukabn/KeLrNuE1quQPvkXxyLt4VoNI2zpa7nuCWHsvnm1SOnmAmXdfxlmiDknVUJNZEhtuIta9ESPXihyJQxDgmQ2swiTV/hOUju/FqZZXFBMr6xFiPZtJbb2NSEsnSiyJWCb43jPrTLz2PQoH31z8AklCS2ZJbb6FeN9W9EwLkqrhWQ3MyRFKpw5RPnUA37JYCYN4boDVuHqtUQjYfFucn/u/1mHWPAqTDtvuTPD4Z5v5698dYe/LpXlaydx9qorR3o1bLhJ4HoFjI2kantlAiSfxGnWQBF5tdSFTVwPfCzi7r8RrXxnFc+ZrkIsRKYSZiqozC/sxACozDqffLXLPM60kmzSMmEx5ldzgWyYIKXTWuqR8CIWAF/5kMCTSi5ph1T3O7i8zPWzS0hMhmlJh6NrH3T77hQFmRi+UGwCNssvxt4psuDNNU3cEI65gN0IhQjUkcl0GQhJMDjQoT8/XWlzH59yBCt3bE6Rb9TmT+ZVAKCqyapDo3oKkqMh6JGyj7+O79tykJ2Ql/CPE7Lv2wsn/YgFVCCRFRYhwKSwIAgLPJfCWWbYREpKqhePbczhPiqFeFZatE2GDuouAgKiUYNoLCeC0s48uZTPdyibGvLNMeINzPXz+v4uhGQk27PwxCHwGT77EyOlXCQIPVY/Rt+Nj5Np3Ui0McfL9LxMEi2v6RryZjbs+hedanD7wdSozA/iBSyTeTCSapVqa76jk+w7TIwdRjTgzo4eoFIZw7DpGNEPnhvtp6ryF1p47mRx+fwGBA+Q6dmI3SgwcfZap0YN4ToNoopV1254g27qFzg0PUK9MLkKKgo6N9+NYVU7v/yr5ieMEvkemZTPdWx4jmmije8ujnHjvrwj8q1tWW503bzB/6l1NCrP47XfODTg5GiWwHezRhdJA4Lk4lSJCSCAJJFlBUvVlyWVRCJA0HaO5nfaHnyHS2hXWbbTQuvsJAs/FnBmn6yOfQYklQ4k+liS7azeKEWX0B1/Dv8RzWNIMOp/4DMm+7QhZDj8SfzaKWIASi6PEk8S6N5K77X7GXvoG5dOHl/3C1WSG9od+jOSmHQSej+9YeFY9DH9WNYSqIYQgCAJ828K3Tdx6Bd9aXHiRVJ3kph207P4oWiobeq95Yb5C2YgRX7+N+PptZG/ZzfgPvk59YojlfM19Dw6/WeHwm8s796wEqi74+C+3890/neCHX5sOtRMB9z6Z4dGfbOb4e1UqizgdBK4DnoeWzhHt6cOtVmgMnyPauwk5EkVSdZxygdKRvTcsjWCj7HLireJ8Il0hVENCj8gouoQkn8+mJdAiEgRhXLQkr34BOXAcynvfXnD8fEm+H3Dk1fyiw7FecjCrHkKIOQefa5kmMPDh0EvTi54rT9u4lo8QglhKmaeRz7UhWMIacz5zlhQ6SnlLCDKXQ9vtj5Po3oqRaQFgy0/8OgCV4dNMvPccdqWAUFRab32EeNcmlEiYGMScGWP64B6qY2fn2pfo3ETTzvvRElkkRcVtVCmePcjM0bfw7YVCipAVkuu20nL7YxRP7WP68OuLEm9CzuILj37nKO3K+jmSDIKAYfckitDYod03R6YBoKBgiCh2YOETfhuZli1IkopZn2HkzGtzhOlYNSaH9pLM9ZFr246QFIIlvqdovJlyfoDj734J27zg8WvVCyzlJnXuyHcWHGtUpxg4/gLRRBuJbA+p3HrKM/0sEPKDgJEzrzI++O4c6dXKY5ze/1W23/uLROJNZNu2La5hBgGnD3yd4uSF9enp0UNoRoruLY+SadqIJMl4N5RMrwL26Micx5QUi4XxcIvAnB6n/2v/DUWPIBkRjKZ2MtvvQs+1XlG9LbufQNYjFA69jaSqxHu2oiZSpLbeRkaW8R2bwuF3IPCJr9+Gnm7CaO0m2tFLtf/EvLJ8x0KJxPBdB7c4jVMr45TzOLVKOBmmchjN7WiZFpRYkrYHP45dmsGcXNyEIKka7Q//GMmNN+M7NrWhM1TOHsEuziAUlUj7OlKbdqJlmiHwqQ6cZOrtF3Eqi3s1C0kmvf1O2h54GiHLOOUC5vQYVmGKwLGRY0mMpjaMpnYiLV10fOQzjL74t9SHb4yDgpAELZ0a+14pXliPDeDQmxWe+vm2MCXeIpBUDUnTkI0odrGAWyliTo6hN7fj2zbW1AROceaG5uN1LH/VWZO0iETr+igb70yz/pYkLb2RWUeicM1Z1eU5p6iVZHBaLRoll2p+8XVgzw3mTLfSdQi9rRUdKoUl6rb9ufCyi4UIx/SZGmpgmx5tG2I0r4tQK1yIM8y06fTtSmI3fKYGGlck2JzH9JHXKZzaS8e9TwOC4T3fAMB3LTwzNC0HnoekaOSPvoVVzqNGEzTt+BDZrXdhFidx6xWEotH10E9QGzvH8L6/BUBPNeO7NoE732wfBAFCUUn1bqd55wMUTu5l5sjrcwTWCCo4wQXrUcXPk5Pa6ZQ3AsytgbYpvegiikDQ7xyZK78elEnTRLeylVH3NLUgJD1ZDede1zEJ/PnvxLHr+L6HkGQUVcf2Fg9FDIKA0TN7cKyrtwY5VgWrUSQedKNoS/BCfYZaeXyB9ug6JtMjB+m96Qki8WYUNYLrzFc0auXxeUR64fgYnmOixnLIioHn/ohkQLKGBuf+LaoV5OjiQbKB52LnJzk/7JxqmXjv1ism01jXBga/+afUhk4j6QZNd1ZovuNhoh29eFaDke//FZVz4fptenyIrid+CiUaR8+2LiBTgoDJt14k2t5DbegU5tTYfElTCGJdG2h/5Bn0XBtKNE5qyy1Lkmm0o5fEhu0Evk99tJ+xl76OXbrgJFA5c5jGaD9dT30OSdXRM0041SJeY6G3JUC0s5fW3U8gZAVrZoKpd35A5eyReRq2mkjTdOfDZHfuRk830XT7g4wWpnBr5UXLvJYI/IDpUYsdu5Mcer2MVffRIhI33Z2gNOMsauIF8G2L2rmFH4NdDPvKHB8JtdcbiCAIcKyVq25aRGLnI0089ovdtPZGmRxoMDPUYLBUxay6uKZPc0+E2z7act3abDW8JZN0X29YtdULOp4bMHCowsm3imy6O83Dn+/i8A/z1EsOelRmx0M5OrfGObe/zP4XFtd6VwqnWsJV6nhOOPPY5UXKC3xG3/z2hd9CQjHipPpuRjHiuPUKkqwQeC6+Y+F7LnZxmtrYEpl1goDM5jvIbb2T/PF3mDn+7jxz34h7et7lVtDghPPegmIG3MX9TxpBlTPOwQXH65UJCAI0PU4k3kKjOhk+jpCIpTqQFR3bLOMuQy6+Z1OvThKs0nyhGUn0SBpFjYRrn5KMEBKacX4tdXF/Gceq4bkLhdcg8Ofar6pRFC22gEyrxeEF9wF4rjXXfnENJMgbRqZyMokcjSEZBlIkipAk3ML1jwez8xPUhsJB6Vsm5sQwbqOGGk/SGBugPjYwZ56pDZ/Bdx0kTQ/XQRdBbeAEtYETi54jCKgNnSa//w3aH/0kQlYwmtqXbFt83WZA4LsWteEz84j0PCrnjmEXpjFaOpEjcYymdmqDizhHSBLNdz+OZETwrAb5Q29ROrF/ga3OqRSZfOM5Im3riLb3EGntIrZuE6Vj7y/ZzmsF1w548cvT3PtUhpvuSmDWffSIhBGT2fN3MzRWOeE2hvuvT0NXglVyUufWOA//TBedm+K8+50J3v7mOCMnqlSL7pzj0m1PNF9XMl1qLfeKylrl9f4V1j012ODFPx1Cj8rc8ngz2+7LYjc8ZFVQL7u8991J3v3WOAMHr78wCBBp6sTItaMYMSRZJdLcFRLC7GTsWXUm3nue1IadtN3+OHalQG3sLNXRM7iN+Vpcsnc7yZ7t1Cb6yR9/b3XrZleBSr6f4tQpUk0b6L3poxQmj+M5FpqRpKnzFiRJZuj0q/ievWQZvuesyiFQVnSaOnaRauqb0yCDwJ8V7nx0IxUu7S2B8NpF6gsCvNl2CklCWoQULyXXxXAtDEE3LgOSJBPp24g9NYGk6+HuHzcA5vT4vN+eZeJZddR4EnNqbF6Ae+C6eGYdJZ5CuniLl1XiPHkjBGSsAqIAACAASURBVJIeWXJfNzkWEnbg+7i1JdYkgwCnWsJo6URIErKxuBlEz7QQ7egFwK1VKJ88sOSil2c1qJw5QrS9ByUaJ9LaRen4vmu7SLYIfB/ef6lIccqhe1OEaFKmXvEYPtXg7OF6mGbwHyIEdG6O0bElxsyoyat/NUL/oco8RpJlgRH7wCckm8ON2mjH90IHGlkVnHq3yP7npzBrHp4TUC04TPbX5zy0rzeSvTto3vkAZmEcpzyDZzXwHRMuEbwLp/ZRnxrCyLYRa+0ht2M3RraNqYN78KwLyzOyZjB9+DUym28jvXEXhZNXJ9DGbt1I4Ho0Tg4TWEtbajzXov/o9+je8ii5th0ksz0hIQVgNgoMHn+eyeF9y0cMrNLC0dH3Idr77kMIicnB96mWRvCcBr7vEgQ+XRsfItW8ccn7haSEDl0LTghkRQfA9z38xdY9b5A15oZ9vV65RP34UdxKGUnXkYzIDan3UpIKZvO+Arj16iXSTuhQJEQo5VwpPDuUhIQIg8qXIlNvNoWWkCSU6NK5bdV4arbt/pIZoKIdPQhZCcm3NLO82TYAKz9r2pFklGgCWdPxlnBqmoMio/e041UbuJP5Kxqkrh1w4v0qp/ZXUVQJzwnTJrav15kcsljO4fFawvcveNOpxvWN9JekkCg1Q6Y8ZYeZfi7pOiMh07Xt6vOD/kNDIqdy60dayHUZfP23z7Dv2akllwOuGgEEvrvkll25bXcjaxqT+17GM2uhcKsbaMmmBQVZxSms4hTV0TOkN95KZuOtlM4doXERmZYHjlE6exAIaLnlYVyzRmVw+c0iloM1NInWniP10C0Evkf90Dmc8cKi13qegxHLUSkOMXzq5dn1Uw/XqWM1igviPa8GihajtecuVC3K0IkfMHr2dVxn/jzWvn73bHjN4tCMOIq6kDMkIRGNh9Yc12ng2lefyehKceNEYd8nsmkLSiaLkATm0BDO9FXGha0AnrO01Bpc6tIOs78vI3cLCaOplWhnH3q2BSWeQtYjofetrKxYqy2fPULujoeQVI1Y7xYKR9/Drcz3hUv03YSeDQeLZ9aWXH/VUtm57P3Rrg1s+rl/sWzdkqrPPssFr2EWIVMpGUOK6AS2i1esgKogxQyQBFxF7mDfA/uirXA+9Wsd/Pm/G1rUm/d6oF5ycWcTTPTcnOC1v7l+AqzvBVgND9fxSbVqqJH5ErYkQ8+OJLd+5PqZeH9UYUQVMu06kbhCqkVDj8kLYmCvGQIfMz9BbtvdZLfehVWewXcsrMIkvmvjWXUiLV0YmRZcs068rZf0hltwzQs+DNHmLtKbbqM+OYhTK6MYURKdG/DsxrzrAHzHxLNNpg+/gaLHaL3tUdx6hcb0lcU8elUTtSWN1pXDGpwismUdSjJG4+TCNcOOvvvQIxn6j3yX/PgxrkXSgqWgaBEUJRRQaqWxBUQaS3VixHJLx+0DeiRDPNVBpTAwj+hl1SDXsRPXMWlUJldk0r1euKF2pcr774T7k2ayqM03aOJYxq6/2sVzgFj3Rlp2fwSjuRMhy7Oap3RhG5pVoD46QOXsURJ9NxFr72XdUz9D4dh7WDMToedx9ybSO+5EKCqB6zCzd8+SmqmkR+fql1Qt9AC+DOacUYRYXBOXJVJP3x9qu2PTWCcHmYtnucZo6tSQb+BorBUdxs7U6d6e4I6nW5kZMTn88gxWwyOaVJBlifGztSXzxa4W04MNpgcbtKyP8uSv9vD8Hw0wOWCSzKnc+pFmHvhsJ6omsBsrWzcTXHgNl0uhd62nSemi9z/nfXydUJ62GT5WZfv9WZ7+Z+t54ld6IQjmcqvUyw6Dh6u8+bUxjr9RuCqBKPA98sffxUi30HbXEwghKJ7ez8S+l/Bdm/F3nqVTM1j38GcIgoDK0Ammj75JpKlrrgzXaqAls6Q37kJSdTyzTm38HNP7XsapLqElmjUmD75C5+5P0HLrw4y+8W2c2vKx9Ishec82rIFJynsOgR8gZxLI8cW1bCOaRZIUoom2WQ/Y66fR2Y1SuNWaatDWexeVwiC2VUaSVdJNm+ja9BCRaJblRqoQgo6NDxAQMDW8D9euE020sG7bR4klW6mVxshPXP22g0o8hW+Z+I4FkoSebcGzGriV8rLtgxtMpkoyhdB01Gw2zNKyhPnz2mI5u//qSkpvv4uOxz8dOhsEAW69TH34HObUKE6thGc28B0bWY/Q/bHPX75A32P0uS/T9dTniK3bTKSjh0j7uoWXORaTr32PwqG3li7KCfcRJAC7OE1jYnEPtsVgTg7P3n8JAvDrJl6pijM2jdDV8J2d/7NC/NuvbiWZU5bt72ybNrcx8I3CS18cYv0tCVrXx3jyV3t58ld7gXBInjtQ4mv/zxlqxauPr4Uw+9G+56d46Ke72PVYE7sea5od+gG+D0OHK+z5m1Ee+ZmuRe/v3BLjs7+1BSOhEE0oGHEFRQv76x/92y18+jc2YlY8GhWX6SGTr/zWKfIjoffj1fSqkGDTnWme+V83EEnKRBIqRkxGVsNSf+UPdmCbHo3ZuvsPlPn2fz63IHvTlUKSBaUJi/yoSa7LWBB/a8Rlcp0RNt2Z5ntf6Oe1vxm9qqV/t15m8KUvX+i0izKi2dUC55774oWL585dyLJtl2cYeO5/zG2WPTfoL5rnzMIER//ityC44EXqVAr0P//nC65dDbyGhXn6glbrThVxlzD+TQ7vJdOyhY4NH6Kj7765437gYZtlilOnGDn5MmZjcQFgNfA9h+ETP6Dv5o+TbtnMHR/+F3iujSQpCEkiP3aU0sxZ2nrvWbKM0tQZgsBn3ZbH6b3pybkMSAiwzQojZ16lVhpd8v4VQQhiXetJ33w39dH+MPwu14KkqOQPvLnAangpbiiZap1dqNkcvtmgfvL4DVsYXhKrmGXUVJb2hz6BkGQC1yF/8C2m3nphLgbtYmip3IrLdRs1Rl/6Bt1Pfg4924pn1sOcJbPJK+rDZykceRdnEU/feeXUyuF3GwTUxwYYefavV/5wyyCwbALbIXA9JF1D7WhGSkTxihW86ZXtYpHIKHz190ZxLk0xeRE+8+udyw8HSULWDFjlWrZvW0uGzYyfqfOFXz7Eg5/tZMs9aRK5cNeX8pTNiTeKVKYXEoLr+JSnZ9c9fQVVjuAHHp6/PHnYps9zfzjIxNk6d32ijdb1EQIfiuMWh1+Z4fWvjBFJKGy5J4MWkfAvWReMxmJkO6KzXo3QqIQasywpSJKKQEVVbaS0wHMCNE1GljQ838FueFQLNlbdW5JoPDegXnIoT9t4FzmCCQFaVCbdNuvk4QXUyxe0dVXWcX0PWRHEMyqpZg3lonhhq+ZRmXGoFpdeg3Mdn1rBQTPkeeuhySaNp/+n9dzxdAun3i7y3H8bZHqoMbc1oaJK5DoN7vxYC5vvyXDL402cfrfI2Omr1bKCpQW/RQfphWNpuYWElGHIOREeFwJZD3OSXywseraJOqsFRdp7qA2fQZKVRTOvhUtH2pzy4bvOomPa6Gunfuhc6LXt+wT24lYVzUgSTbRiNQrIamT2mebyZKFqUdp67iLbuo0De/4Au3HhOw98D8euI0nKqix74wNvU69M0t63m2i8BVnRqZtFZsaOMDW8Dz2SIdO6dclYzyDwGTj2LNFkO83dtxKJNeF7zmxu3jcXzc3rOg0cq4K3ZKysj2PXkE1j1konCFyPqbdfQhAQX7+N2tAZlEhsRVx1Q8nUb9QRajuSJCHHEzgzVxcbdtVYBZcn+rYjZtdCrfwkE3u+O5v2ayGUxMp2xAFQYik6H/8J9GwzhSNvM/nGc0vGkS6Hxmh/6I0ryRjZVoSiLQgSXzV8n/L335h3yDzev+piBk80ePu5wrJk+sAzuWXDJyItXXQ89uNEWjpXVffIC19ZVqMvjFp883fPLnn+Upx8q8i//NAbyJJGW3obt62/jWJtmDOTe3C95ZM4OJbPu9+e5N1vTy56vl52+dK/XNwBRZm4jd98+G0a9sWagqA7dzvNyU0IBIMz7zJVDsOmolqGrtzNjOYP8tpXxnjtK2OLlnsew0erfOEfH1pw3Pfg6A9L/KsH3sXzF473rR0fZnDmIHVrcWHvO7/fz3d+v3/Zuk+8WeR3fnzvvGOyIth0d5p7nmnl6J48f/t/n2Z6kRSHp4CRE1X+yR/eTLbDINNuXAMyvTx0EUVCJiDACUw8XBRULL9Ow79gzZAUjVjXBtx6FfCJtHThey6B64bJZI6+g6wZZHfci2fVyR95e17yEUnVyN5yH5kd96AmUjjVMqUT+8nvf22Bk6E7VSL3qftxSzW8YpXyqwvfpx7JsP3eX0AzEgydfJnCxFEcqx4SoxBIkkIk0cKGmz9BJN5Ea/ftDJ38wdz9lcLgvMT3q0E5f45yPoy5lWSVwPcRkjQbsz3E/h/+3tI3C4Hve0wOvcfk0MJY28Vw9K3/vuz5WmmUg3u+MO+YVc6TufkufMdGUjX0TNOKrXA3jEyFphPZuJnSnleQUyn0tnbMgSWCmT+AUKKx0NssCHDK+SWJVEgyqU07V1xuetttxLr6MGfGKRx+54qIFKAxOYyVn0JvakNNZkhsuInyyYPXPdxlJfizfz2Ic5mwlze+l8eq//23daXwfJuR/AF83yeqr9wScaU4NvLsgmOqHCGX6OPM+CuUGvNNXHW7wMDU0kLESiGERC7eixd45KsLv9fjo89fdR2LQdEk+m4JN5Kf7G8sSqTn4Vg+9YqLoknXJXvTpZCQwqxDUhQZhRlvlEl3kJiUokvdjIPNSSuc8H3PxS7NIOuhJcIu5XHrFbRklkDVUaIJfM+lPt4fkuMlWbwSfdtpufcJJCUU5PV0E7ldu/HMGjPvvzLv2sq7J9A6wrHoTi++5trUuQsjlqU0fYaR0z9c9BrbLFEtDhOJNc0mvr+2kBSNVNtmXLuBrOpY1TyN0vjlb7wBsKZGmX7nZUDgWw30pjA5/krm5RtGpkZPD4FtY6zvQygKvnVt1lSuCqsw87rVCgFBmK0j3YSayOBU5q8nyJEYib7tpLbdvuIGnH9ZQpJRowlsVVt8/fIyCDyPqXdepOOxH0eOxGi64yHwfeoj58Jg8YvNFJKMEo2jpXJIqkZ9tH/RnKHXCpGYRK0scKwAIyphLkKar3/rg7mhs0AQN1qI6TkkScHzHSbLJ5Y1cUX1HMlIG0JIeJ5NqT6K5VaQJZVkpANDTSCERMMuUqgNAoKIliYVaUeSZGy3Qak+guM10NUEqUgnqmIwVTqJ7dVn68iSi/ehKzHS8XVE9AxT5VN4vk1Uz5KMtON6FoXa4JwJWiCRjLYT1TIIIeF4DabLZ5AllUSkDUMNs9BUzSkq5iSypNKU6KM9vQPTKaMpUarmJFVzCk2JkYp0oKlxpsunsNwwIYEQEjG9ibjRBAiq5iQ1cwaEoDW1lbo1Q0zP4QcepfoYprOEo41gLr2kqkuohoSzyIb0kiJo2xAl3aIzcbZ+zRzGLoeKX6DiF8jKrcSkcJeekj+N5kVISxeFyvge5tRiOcg95HoFp1rGPr53wfnziK3btMA5UDYis9YndZ6519jUiRwzQJaQUzGcqYV9GyY1ECiKQSTeglmbvmgsC1Q9RizZQSzdSUBApTC4oIyrhRACWTWQNQPPsa46jd+1hBKNE+3omUtIYU6NhqlKV3Lv9WzYxfDrDeonL2QO8uoLczoKRQsTlytquOuComLk2uYSFch6hGhHD06lROA6+K5L4Np4lnllZLAKM2918BReo4YSS6Jlmmm9/ylqQ6dC840QqLEURmsXib5tWDPjaJkW1Fjisg1oTAyRvukO1ESa5nseJzF5U5jS7KLktb5r41bLNKZGMKdGl/RQLp8+jJ5rI3fb/URaumh94Gkao/3YpRk8K+wfSVGRIzHUeAot3YRn1hl5/itz/aenDbLbWymcmMYzHWKdSSr9RVIbs4DALjWQDRXPcqmNlglWEB7z9C+28fU/GKM04/CJX2njb/7j6h0FnEqB/IHX0ZJZJE0P8/Wqs//XdJRIHDWZCdeWriGS0Q7aUjdhuRU830VVIgjEskNHV2JoSpQgCIjpTcT0HOem3iAZaacluQnLqeIHHroSxhbLkkp7ejuKpNFwymiKhCTCT1MgIUsqfS33UWlMYM/uCCMhI0sKQoTnZUmb2wZLQiamZ4kbzVTNqTkyzSXW05LcQtWaCvPCznqhS5KCrsZQZANZ1mhKbuTo8PcQCGRJQ1Wi2G49rGM2cF4QmgTXt+ymbk3PkWlMb6IjsxPbrRIEAZlcN4PT72K5NbZ1foT+yTdxfIukniOqZxmYegc/WEiAru0zcLjK7k8HbLg9xR1PtXDirQKVGYfABz0qk2nTWX9LkrufaUNWBf0Hy0z2X38Tb1zK0Kb0MOWOIAsV/wp8P8zplX0Di8n7QQCBEAvORjZ3UfjOWwhFJvnA4taxwsQxmrtvJZbupG/Hx6hXJnBdEwKQFQ3NSBJPd6FH00wN76MwuUS2t6uA51jkhw4hSeFmIctlWrqhEAK9qR0lnsScCN/PxUl9Locbl5t3ZKnNWy8guXEH6e13IinKXIouSTdQ46HkpyYztO7+aJg02vPC7Y9ch9rgaabffem6tt8uTDH5xnO03v8USiRGassuYus2zuW9lY0osh6hcu4YU28+R/M9H0bduOOy5ZZPHSLRu5VE301EO3rnshidx/ntmzyrgVPKUz51iPzBNxbsaAOE4TPvv4Jbq5C79T70bAt6OofvebMSrAjDeWa3kAp8n9rgqXnJoz3HJ96VYubIBIEXkN7URH2sQnpT06xfRkDgE2ZamarhrSDLwpbb40gyKIrgvqezV0Smbq1C4fDbc1tgSYpy0b9VjJYumu54GOMKczgvhebEJiy3yvDMPlzfQhIK/hLbUp1HQICmxIAAQ02iGBpMgR/4KEoE26tTqPRTt/IX3RGgqlEK9SFK9TFsNzQrmU6JseIheprvmldH1ZrCKzmkop1MFI9Su2jNsmpNIcoyES09756OzC5mqmcZLRwkCHwkccGJRBIquhpDCIVcfD2ypGC7dSZKx0lHu5ipnmOidCH0wHKrTJSO0dN899wxScizGrlgaOZ9gsBnc/tjZGLdTJROIksa05UzVMxJcvE+WlNbUOUIlrvQY9pzAk68VWD/C9PsfDTHR3+1lzufbsWshfmFFU0illLJdRoYcZlDL03zxt+O3RDNNCBAl6LEpBQSMm5gA4IWuZtmuZuIFGOdupVxdwA7uLq4x+rwGVLbbp+XO9Yz61jT4wuckKrvnyR2+2aEYNHYUoBqaYwzB79Jc8dOEpke4pl1cyn4fM/BsSrUSqOMnH6FwtTJ6xO3KSSMeI5YthPHblDPD2PXV+bMeF0RMBeNESbw8Ve1TPaByl+mpXPEFzFrnIekagsS3geed8XrjKtDQPHY+9ilGdLbbiPa2YcaTyPrEbxGjcb4EJWzR6ieO45dylMfOUvyMmSqN7XTfPejGC2ds1usmbiN2kWap0BSFORoHCWaQIkmUBNpfNcmv//1Rcv0zDqFw2/TGB8g1r2J+LrN6LkW5EgMISR8x8IuTGHOjFMfOUdt+Mysc0QItxaG2KhxDWKQ6EkTbU+E3m4+s6ZugVk0V5zrdXLY4sd+uZ1zR2sYUZkHn1l8jfHN7+exzeVTmAWznoz+JbKEkJUwNuwaQ1UMarUZvFntaTEt6mIoksaW9kc5M/EaplMmFe2gJbUFEFQa4/RPvkky2sa63J2Ybpkz46/g+Q4j+f0kjFbSsW6y8fUMz7w/jyCvBXQ1Rt0qzBGoH7gIBNl4D4lIK+PFcMeR9vRNXElAzXkt2fPtOWclx62jypHZ4gIqZhir4QXO3LLJUiiOmXzr987Rf6DMjodztG+KEUuFU5ZV9yiMWxx/I8/R1/Kcfq9EceLGmAtrfpFT1l782X50Cb+Zkj9N3SkjkPACZ5Zkrw6VM0eYSr5IevudqPEkTrlI8eh7lI7v5VLTWmC71A+dDQVmbampPaA0dZp6eRxVi4bJ5mffQRD4+J6D65g4VnXJvUyvFkKEQr3dqFArhGkFl0K1OMLhN/4I17XQAp2Y0YTt1vE8O9w/Vc/gug0cz0KWVFQlguuZeJ5NxMjhuia2W0UgMLQ0rm/huEtZLwK8Rg3PaqCmskA4n7JUqtdLsCIy1YmQknJM+iuPXUyJHO3Sevq9o5iszPQys3cPxaOX99RSUFGEihnUQ2nCtUmIDBIypWCa2vBpTn/pPyEkgWfOf1GNsQEGvv7HCFnGa9Tn7RvoNmqc/Zs/QEjSkppfbeg0jYkhJEWbI/3z2qNvW3Pl5Q+8SenkgfD3ImZZo6WLdR/7PEoihVPKM/zDL1Eb7V94rQg93xIbbqL1/qdR4inivVupnD2KU148BixwHRrjQ5jT4xe0uVmzUIAPnj/rUegsum9i/3dP4Jrh8RNf2ofbcKgOluaeVUgC3/Xx7ZV9bF/+DyM8+bOt3PPRLEZM5kOfWJxM33+5iG3euG3UVoKqOU02vo58tR/LraApURzXDPtxEciyTkTLUaqP4AcunZldc+cUWQ81uuJx6laBnT2f5Mz4K6FhVtbI1wao23k2tD5AREtfczIt1UdpT2+nVB/FDxw0OYoXOGhKHN93KDfGaU5umjMxhwjw8WY17eXh+S4Nu0Qq2oWhJvF8l2Ssg6Hp98NvZLa8eViGs30/THax58ujvPOtCRRNmktQEQTguwGO7WM3vKvafm218PGp+gs1KSuoYwXX1szs2ybT778SfseSFKYUtU2CS/0qhCCydR3F599Djmgkbr0Ze2RmySUhx6pek+3TrgSyopNq3wpANNNOcfQYjeLiDkiea1KZDXvR4+uI6lky8R5GZw7QnNqCLKloapyJwhHSsW5kWWO6dAqhSGhyhO6m2zgx/ALpRA+GmqRcH1uGTMEuzVA4GO4JLCnqkvu5LobLkqmEREwkqQchO2vo6CKKg0WUJIVgEg0dScgYRKkEBVwcSkGeFrrm5Vs0RIwYCcrBDD4BERHHw0UnQjUo4tomqi2REClKwQz/H3vvHSRZll73/e6z6TMry7uuam+mx7sds7PeACsQngBFQGIAMhAVYIgUFZSokFlFEBJDZEghUqBEBiCKEJYAiMWCABaLNbMzszu2Z6a9t1VdPisrfb58/uqPl12mK6srq93sEnsiOqrr1fPmfvdz5wT46O3jgaQhqygoDCh7UYRKNfQpySV0DHSRwiJ6OTRfRWm4pEUOS/pY2CgopEQPZhjDtiyasrYqlrsKKfE79Hndvk7o2ITOnXO0oefc0VMafPnH0bM9SN9j/tU/ojlz5Y69TOWz75Mc3UvmwGPoqQx6OrelMV09Vd8juAtpMq+x9qG6tegaQu/uK21vXmrxW//9NLGUypd/7xD/669d7bie26HA5KPGfPk0mvosT+3+BVRFxwksTlz/PTTV5ODI50jHBlEVnXxqF1OFd9ph1JM8t+8/xPMtKtYcjhdFTnKJMSYHPoauJghDjxtLbwKgqgZ7Bz5OLjlGGPqU6jdotD24/UOfIpccIxnr45Hxn6BmzXO98NZqi4y8zTgpQuPI6BdJJ4Yw9QxJs4/58mkWyme5XniLvYOv8ML+X0EIhbq9zNmZP6FqzbJn8ON8bP+vUKpPYfv11f0Goc9y9SoHhj/NWO+T3Fw+xlz5FBN9z9Gf2U86NsDhsR/HsktcWXydijVL0szzxOTPI4TCfPnMapHV5kTzHfo518Fzwh3J3f1wYx3RQxvSd/G3aXNLPL6H9POHMEb7IAiwLs6sGtKc6CNGgrJcJk6KQWWc2fAaTXbOsnQ/4HstClfeJgx8kCF6PIOimYRdFCL1ZfezVLlAKANyyXEcr04QuChCwwtsGnYB12+SS46Tig8QM3KApGEVyPQOkYz10rTvQGMbhsh2jYHRPwxS0lrorghrW2MaqbUb5JR+GkGVXmUYXRj0KSNUwiKmjCGESlbkqYRFcko/U8H5dhZo7aVIiBR71KMsh/PsVo6yEi6QVXpJiDSudEjIFFVZZLd6lKXwJvvVJ5jyLzCkTkYzY0wK4Qwt2UAXBr70CNrGUCJJigwGMRZlk4ySZ0TZw3x4nYPqU5zx3yYlsgyo47jSxpAmDfnRxei1eIr44CggCFotmjc3a3XeDhn6qxRjQonynj80kOC5EmFFCjEfhdEUqiB7cJDESIblYzchlCgxDS1poKdN6tdWMNIxPMtBaApeJZosBaHLjcJb3ChsDKv7ocOp6a92PNblhVe5vPDqpuWF2iUKtc0FHX5gc3bmTzru68ria1teU8utcHr6jzYsC6XP2dk/23KbS/Pf4vYzqFrznLjx+2sLNrSkSlYa13jnykYB+eniMaaLxzoeY6u/vXr2H67+v9KcodLcvo7i30Woqomqxwh8e1XMWtEMFEXHjGex6kuEvotmJlFVE82I06oX0MwUnlNHUfRoUh96q5Ww1slrBJUmzlTbw1tH82gQR0FlQIwTFymuhKeYUA5yI/xojKlQVNIDe0j3TeBYVcLAxWvVqS1evWMxkpSSueIJetITWHaR5epl8ukJvKCFF7SIycxqPYOhp1AUtf27IG72RMvvEGEZeOmLWAs3yT/5UtQHnEhSOf3u/TSmIU2qpIiKgASCSriMQZxSuERW9OJKh2K4QF2W6FNHMIjj3Bba7RVDKERGVxEqpkjQlHUcaeNKG1MkyCtDKCjkRB8ChZiSpCUb1GWZpMigoOLiYskGrrSpyoj0wcejJRtoYo1gvhjOUwqXyIl+TOJIJL50cWQLD3fTjB6i3lxFaVfLtSloFRUMA1qtzQxjt9gQFSX65/try+JxsO3OURbFNLm1t9s1DreCUHWMnojPOPSc7RVefgDh2pL/7devbb/ig4AQhEFI0PIYemUviq7ilC28uo1QFCZ/5jGMngS1ywXKZxdWjemP8CPcb+SHDqMaEZtVszxDzJWdjgAAIABJREFUz9ARZOC1i4wEuplCUTScVnW12hoEmZ6JqN9UShRVo7YyTbM6F+XAVQV3vogSNxC6Rmz3MM1T0bcW4KEJjThJ4iJBjCThFmmKhwIJXqtOq1YgnhmkunApSkUpCrcHC9ej2p581ayogNF2a1Saa4au3Jhe/X+hcoFojD3W3maOemvhji1thbe/SWJ0N4uv/jFuZZn40K4dsfR1EeZVMYihoqNhQLstIMoZRQcSQhATCdzQRqAQEqBjoKFjiDi2bGFjUZJLFIMFQgISIo0hYqwPaTiyRZkCy8HcqrEzlTbV0zoi+QAPQ8QxZRyHFioauoihoaGitVsX1s5PAo60iYkULWlRDzuHR7NZhaERBa+dfwlDsFtw4LDG9HWfVFqh2QzRdYFtSxKJ6KdhCBJxQbkckkorlEohTz5t8M6bNuXS5ofht5pR1Vg8iZHNY/YN46wsbvng1HiS9O4jJMf3IsMAt1LC7bL36UFBicWQno8Mg2gmEYbrmNfbM4rbZhKKAvufTDF13sJpPdyPWQYSp9hET5noYUj9RgUjG8deqpMc76F+bQXfXkQGIdb8wxGa/hH+ckISeZWeXadRm8dM9LRpSkMURUNRNMLQRwgFu7lCMjOEqscQioJnNxBC4LlNfK/Z/tbAGMoT2z+KYmgIXUPrzawa06pcIUsfDTmNRNKrDO2o/uW+X3/oY9cKCKCxPE08N4RdKxDcK2Pb5iNt/G2bylyharQWI4MtNB23utKxpmQrbGtMdQySSoaQkKTI4NDCx6Upq7jSxaKOLmLESSJFQEvWCfDJil58fFIiiyXrFMNFxtUD9CnDuNhYso6UEh8XH49QhpTlMmPqXvqUEXx8VsIFbGkR4LV/+kRVcyuMqnvIKf0shTOYIo4hzMibFUlc6eAT5QqbskpIsJqfjYmomGolXFgNE99CPAmPPWGgaZDNKbQsyXvvOMRMwSc+Y5LNKszNBgwNq9i2xDQEKysh87MBEjjymE5vr8LiQkj8DnKtoWNTv3aW/BMvoRgxRj7905ROvo1bLxF6kSycUFUU3UBLpEnu2k/PkWcQiopbXqZ27Syh2yI7kUE1VBqLTdx6dy+ioikomsC/x0Kf+J59BI0GQasFQUDoeWjZLH6tGokYyBCvUia01iIUuqnwq1+e4H//W9eYv/6QPT8pcVaaOCvrKr/b6anmXPV2vvIf4Ud4YLDqS9jNlVUpsZWFs1usGb2QTptsfmm6c1gdwCtWMXcN0Dh9HWFEnuktJEgTJ0lCifqaZ8MrHSNzDxOBZ9Msz6GZSaqLVwg+Qh3SW7hFkKGYcUKnhVA17OV53FJn+s/bsa0xdWgxG6wrGGk/g5aMBiVL1hiSk6zIBVbkWkVWWRYoBxtP4mZwse01bv0gbwaXECir1ZJlGe3DXlclZ2NxPTi3ekKWrDMddOY0XQynUVDJi0Eq4a3Es0CgcHtMIQjg5rRPtRwyMqai6wKrKVkphizMB9it6LyvXfFxXUkQRG1IlUpINqdQqYS4jsQ0Bal05LVuheKH30NLZqL+0rG9xAbHI3IF24rCOJqOGk+gp/MIVQUZ0lq8SfnMezSnL5DsT3DgS3sJvJCrf3Edt+Gix3ViPTGsokXgBGgxlVhPDN8OcKoOiiroP9qPntAoX6vQKDTRTI3QD1eltAI3wEgZKKpAT+jUFxoIAWbGRNEU7LJNGEgUI4Y+lid0HKxrl4nvmkDv7cO6epnYeMR2FXoe4W2xbtcJsZs/IBW7couf9wgtlcXI5NGSGdRYHKHq7b7eYLX9yauVdzzz3SkU3UBLZdGSUVuVopsRGYoaqR7JICD03EhiyqrhVsuRcMNHJEAhdAMz14eezqHGkyia2eZuDaPztC18q45XK2/ipb0vx1fUiN0s04OWSKHo5moFbeh7hK6NV6/g1cv4XbZLdIJV65Y6r/vnIB0P68JNgmoDfSCHM7M29poijkWdRljZVMuyU6ixZJsBLoMaS6KoOihilXw/aDVx62W8WrljRwRELVSxzABGMoeZ7KG5Mkuz1L0xFYqKlslhpHJoyUykx6xFofDofbZwK0XccnHH35eR60ONJ2gtzmDkegld+/4Z025QC1faXuP26OZBbtV2sNP93EJIQFkuESOJRGJLa9VzXY/CYkhhMfLwZmcDhIBaVTI9tf3gX1jaWdjSq5VY/N6f0py7QXJsD7HeIYx0DiU/CEJERA2ujbOyFEmqFWZozl6ntTiDqkFqKIsW16jOlGiVbcyUwd4vTNJYshh+coCr37pBvDdO7/4ekoNJpr83g9/yGXlmiNAP8Vo+ds2h/3AvzYKFntARqqB0pcyRnztIbaZGGEqaS01SQymGnhog8ELqcw2WzxWxZ2+imCah4+BXK3jxBF65RNBs0Jq+QWi3CFvWhoHZ9yTf+9oKz3w2x4evVqiX/Q2RYP8htjfcdwiF+MAoyYmDxAdG28Y0jWLGUTSt/UyDKN/dauLVqzjlZazZqzSmL9+3HLhQVWL9Y8QHR4n1jUSGIZlGi7eNQ5vsAikj4942poFVx62VsQvzNG5eipi27tGo6tk8uUNPoyUij0hKSWPqAo2pjSVQimGSHN9PeuIgZu9gZExjCYTe7oGUIaHntY1+Ha9ewSkvU7tyGruwfbiy9+lPYGTyq79b81PUrp5ZHWiFopLctZ/UxEHMviGMdE9kzFeNaUR6EroOXqOKWy/Tmp+mPn2x64F2KyhmnMEXv7ijbQLHpn79PK3F6Q3LU0/tp/H+RVLPHiKoW7hzRZDgYpMkgy5MJJKCnGW9oTZyfeQOP73KNAdQ/PANvNoaxacaT0W6y2N7MPODqxNFRYtkGaXvE/oegW1Fz6e0RGP6Ms3Zqx07H6QMCRwLR4b4XXqlim4QH54kNXEAs3cIvT1RVLTImApEJOJut3CrK7iV7o2pbzVYPvYdQs8lPjiKVy2tvrfd4r4YU4v7o/n4INGSTVp0T+5Qrz34gd2rlSmdepv69XPtmXAMRVUjqrAwRAYegesQtCz8Zm31xQh9QXPZorHUpHy9it/y2fXyGKPPjVC6Wia3O8viqQKKKoj3xhl5eojC2SIrV0rYVRu74lC6WkZRFVKDSTzLJ5Y1EZpAqIK+g3mm37iJU3cRmsLIc0MMPj5A6AZU+uJUpqq4xY2DiLOwjn+02rlSWlHgkefTTByO88KP53Fa4ZpAOfB//t0bNKo/IF7rDqAlM/Q88hzpvY9g9g5Gg3AHpQmhKSiajhZPYeYHSY7vI737MJkDM5ROvR21R90lVDNOavdh0nuPYPYMoqciz2ErApRbgvDR+SQh10dieJJg8jDZg49Tu3qG4vHvbe5n3AH0ZIbc4acx81HhXMR3KjcYUyPXR/7xl0jvOYKRzbcpDm+/dwqqqqHG4hjZPAxPEPoedmG2C2MqyB54nMTw5OoSLZHGmr+BV6+gJbP0P/tpUpMHMbK9kdd++x4UBTQdNZZAz/QQlxOkdh0gtecw5dPvUL92dpXLdadQDZPeJz++o228RhW3urLJmBpjvWQzT+FML2EM5VdrF5qyhoMd8UyL3KZshp7KkjvyzAbpSGt+imq9DBJiA6P0P/cZEiOTaIl0x3dK6EYUCYknMXv6SYzuJjV5iMbURYrvfxdvnRaolCFOYwVPM1Z5AraDns2Tf+wl0rsPY+R61/XOb4SqxlHN9nuya//2N7MNp1xg+b3v4BQX0OJJYoNjBK0mdrF7Av4fov6KHw48/tjfwDCSXLnydSrVqe03CAO8agmv2pnofXTkeQb2Ps7c3DsUCpGkkgwlnuXjt3zcuosMJFpcY+6DRabfuImiKYSBpP/IAJWpGsn+BDIICd0Qr+njWz5uzcVIG8gwEoBWY+rqy+m1fOrzDXw7QDVVpISZN+dYPl/Ed3w8a+e9qwBBIHnrT1Z49xui44fg/AD2mW4HMz9I//OfJb37MIoZ35HAuVAU9EwPejqLmR9g5fj3KJ97/66UfoY+9VOkdh2M1I3uVjpFCNRYnHhsvB3uzDP/6h9u2fi/8/2Dnl6jODTzgwx87POk9hyJQnU7uXdCwVqY3n7FDhEsLZVBTaRBKAx/8qdITRxAaHrXxxdCoMWTpMb3YaQjPujKheN39dzuJyrfPoGajuPcXMIvNyCUUc2LyGCSREGhR+mnGMyzXQg5NjhG9cop4oNjjH7+FzF7+jtONLaCompRyP6R5zB7+pn5xlcIrLbTJQTx7CDZoQN4rkW9cB2nvrUcp9k7xMALnyc1eXjH78nOIAlaFtbcDfRMjtD3twxVd8JDMaYv/u2n8Fs+x/6v0/e0n8d/6TDxnMn7/+IMgfOD6cGkUoMYRgZNi92X/Q0NPUEmM47nNVaNaSfMvDXLx/72syT74rhNl8t/eo1Y1mToiQFiPbHVF7B0rcyTv/Io6dEUF/7oMp7lcfhnDoKE+ePtWdg6bzFwA5bPLHPkFw7RdyjP3LEF5t6/szbmVggD+PC1rXvbAn/7aICSiiHUaGYcVD/aogUj18fASz9Oes9hFDVqa+gEGYYRF26H3mAhBAgVs3eI/uc/C1JSPv/+jkOs1vwUuYNPdWVIQ99tz+y3pvJTzTi5w0/jN6oU3vnmjs5la4hVY6qnc/Q9+ynS+x/teF+2Q2tp5q7zpnoyi9nTT/rJj5OaPNjZy5Ftbta2B98JQlExevrJP/FxnEox0hTeKe5nAExK0i89Qvpjh2gci7z/gAAdEx8XlxZJuZ34RoT4wBh6Ksf4j/8Sera3swGTkjDwt/QSIQrNJsf3M/TKTzD3zX8dFVeKiPHL92z0WApVN7c8Dy2ZofeJl8nsPbqht1620xTNm5exFm6uvgtaMkNieJLk6G4UY+v9rr8Gv1nHLsyDEMQGRul95hXcUmTcGzcu0lq8T32m9wNGWifsQl1kO+hJDdVU74I19IcX5fJ1kskBKpWNWpJO1eHi166s8uO6dY83f+NdVEMlcANCP+TC1y4jFIEMJaEfzZpXLpV4/X94K1rmhdx8c5bZ96L8WOhLZCj5/m+8Q3jLsEkoXavwzj96H6GKaBJzOyOc0Dh08CdZXDpBuXxnoe0gkPT06zzz2Rz5IYNq0ePEaxUKs92FE+N7hzFHelGTMZb/8M2utnkQUONJep/5JJl9j2wwSrLNH1y58CH1qYu0lm4StiwkoBoxYv0jpPdGMn2qEU24hIg8dT2Tp/fJj+PWSjRnOrNEbYXK+Q/of+6zGzw/Gfi4pQKN6ctYSzexl+fxrXqkhCEEWjxFYnSS7IEnSE0c3OSdCVUj//hLlM9/iFfd2nPYCbRkFtWIkz38NNnDT68qh4DErZZozlyhtTCD32oQui0U3UTP5IkPjpMa34eWyoBQqF8/d9c5XS2Vof/5z6InM21DED03r16leuk4jevnccrLBK4NQmBk8iTH99H7xMsYPX0bnrcQgvjgGNkDj+OWl3fME+41Kpz/zf8WLZ5a/acmkmiJ6P9m7xDJ8X1bh+vXIfvJxyh+5VUU0yDzymO0Ls0SyoCiXOBWlUkgb3RVkxIfHFtnSNfea2vxJtVLJ7Bmr+M1qsjAR2gaZn6IzN5HyD3yHFoitfE9UhRyh56iduUU9WvnkGGA3SyR6B3Hdyw8q/OkSCgqqfH95I4+t8mQNmeuMP/qV3GrpdsiAiIyin3DjHzmZ4kPjQNrkbDAaVG/fp7G9CWc0jJutRjRwLb3oaeylE68vdoi8wNHdP/6//TefdnPB//31p7Zv6u4fuPbXL/x7Y5/u51oPvTDVaMJW1AASvBba0l5GcpNXn7YwUMM7sDDm8mM0t9/hPJtBv92CAGHn0vzq1+eiIjKCx7ZFzN84ZcH+Mo/nOX46xW2qxewzs+gZVNI9+HoVnaCUFQye4+SP/qxjYY0CKjfOM/Ca3+8SesWwPc9GtOXaExfovjBa4x+7hdIju9bzREKITD7R8gdeQanvLw9teU6SN+jdPJNBl74Al6zTvXih1Qvn8RZWdrS6Hj1MtWLZWqXT5M58DgDL3wxykfdOh9AMWL0PvEii290ZmjaKRRNJ7XnEP3PfAohFGQQ0CrMUnz/u9RvXLhjwYhQVOKjk/QceY7a1a3aSbaHUDXMfCSYIURUtLJy8i2W3/1Wx7Ces7KIs7JI6fQ7DL/y75F//OUNIU8hBOndR6heOE7rLkQ3QruFa7dwy5tp7pLj+0iMTCKU7aUFZRCi9WYRQomiN+3nHifJoLILk6hf71J4fFuDqhgx4sMTURW6lHjVFQrvfovqpZObnpEMfFoLU7QWpqicf5+hT7RD5+smAEJR6Hv6k9SvnY8mcmaSwLWwKvNbKtOoiRS5R57dEG2JitguMvNnv0PodWqviygq7cIs03/0z5n8+b9JrH9k7bo0g8BpUbtypiPdq1sr0/fMJ2jkeiEMaS3NdnwunbBjYyoUQbw3FuXdmt7G5fkYgRvg1CIvI95joid0EOBZPq3S5otXNAUzraPFtFWWGrfh4a3bt5HSMTMGQhH4to+1Ym/2jlSBkdIx2sfz7QC74qwaHEUVmDmT0A1RDSXKBQYSu+rcc89lJ3zUfVwPE735A3SjMqIbgp/8T4f4s99a5PU/LK6yTL3wpTyf/sU+Ln7YoF7ezkhK/HKdxKGx+3LudwM9k6P/+c9tGCzCwKdy9hiLb36dsIvKXK9WZvrf/ja7vvTLpPYcWTNgQpDZ+yj1a+epXTu7o5lx6cw7eI0q9WtndyQwL8OA6sXjqEaMgRc+j5ZIRw+mre6RGNsbUYGF9/adCCFQzTjDn/xp1FiC0HOpXjpJ4d1vbagcvdN5WjPXsGbujUVrvdcUuDZL3/86pdNvb+/phgELb/wJQtPpefSFDfsxe/qJDY5hFxceaLvTnVD51of0fCmSxKu+dnJ1eUpkKckl6rK0jnDnzrh1bVJK3OoKC69+lcb09tqmTqlA4e1voJom8eHJDfcoMTKJ2TeIU1zEd5ooqs7AvhcpTn1IY3nq9jPAzPVFXvn652VbLL359S0M6UYETov5736V3T/3N9utM1G1e3JsH/GRSZodrid0WtFEbZXu7gF6pmbG4JP/3fMsnlzm1O9eXPVqkoMJPvPlF7jx+iynvxL1fB76yb3senGE3v093Hxnnu/8/Y38pkIRjDwzyMEv7SY1lETVFTzL4+q3b3Lha2thrrHnhznyM/vo3ZejcH6Fb//9tzZ4V0IV9B/Kc+in9tK7LwdC0FyyOPP7l1g4UQAJqeEkL//dZ6jNNYj1mKSHkwhFcO3b05z9g8sE7uabJoSKYaTQ9SSqqkWkPoGL4zbwvDvTAEoZoqoGsVgOVY3oA4PAxrarBEHnpLamxUkkehFi82MJAodG4865SiEUTDOLridQhBpRKPo2jlMl2EaAN7rWJLqeRFHW+iKD0Mf3LFyvuSrJJISCYaTRtDiaatLbewAhBIlEH9ns5Ib9NhoLq9crVMHAuMmJ1yrrtc8583aNL/3KIKq2vUEWqoqaiUcFFvcBWq7dxyuiGkfp+fjVOwgICIX8Yy9G1YK3ICXW7DWKH77elSFd3cx3mX/9j9k9MIKR7lldrsbiZPY9ijV/A9/qvlI+dOy2NNfdoXLpBOk9R0hNHtpg3LVYVKHprKyrbBQCETOQLWdHZBdCUdASKULfo3blNIV3v7mtYMODggwDSiffpnzuWPchYykpvPst0rsPo697ZhDlGWuXT3Wl8fsgYO4aIGy5IMAc7cNbiCYoHi5xkihCQSKpyO48rUgW0mH53W93ZUhvobU8R/XKacy+4dVURgRBcmwvzkoBI5FFM5I0ijdxrc0RGKGqJEZ3bwpvN6YubqgM3vZc5qewC7MbdKLNnj7i/aNRKuW2CaLfauJVS1HUhJDgQRYg2RWHxVNFRp8d4sLXrtJyAoQi6N2Xw0gbzH2w9sGd+JfnOf2vL/HFf/RKx4/NSOkc/it7aFUcTv7OBUIvJD2cwGlsrBa9/upNpr43y8v/1TPEc5uTysmBBI/8/AGEAu/+HyfxbZ/9PzbJK//1s/z5f/E69fko9JLoj2NkdM7+/mVKV6tMfHyEx3/5MDffXqB8feMD1bQYPbm9DAw8Sia7C0OPerBsu0qlco3FpdPUaje3pKjStThjYy8y0H+UeDwPCFqtFZaXz7GweBzH2fwCpZKD7NnzeUwzCtUoioqqRgTY9fosH3z4z7Z8LpoWp7/vMP0DR0mnRtC0GGHoY1lFlovnKSydxnY6v4S6nqCnZx/9fYfJZMYwjDRCqASBg+s2KJevMzX9Gq5bbx8rwfjYi2Szu4jFejCMFCAYH3uR0ZHnN+z71Ol/Sa0W5R9kKCnOOTzyQoYzb9dwrBAzrnD4uTTVotdVARKKQNE1hKFvv24XiI3vIjY2gV8tI8MQRTcof39roXktlSF35NkNywKnReX8B3dlFLx6mcr5Dxh4/nMblid37UdLZXdkTO8VodOiOXuNxOjutkByBKFq6JmeNWOqKsT2jmLuGab26nHMPSPYl7or0oBokHZKBUqn33kIhnTrCZqzskTlwvubRLa3Q9CyqF09u6mlxewdQmj35728GyQemaD8zQ9RdJXMxx/FOjdN6Hq4gYMqNBRUdEwExa4jZ9bcNaqXdjhBC0NaizO45SLxwXURJCGID03Aybfx7QZWZZ4wDDp68kJRiQ9sjj61Fm8S+h5C19EG+/EWlhCaivTXGcUw3DA5asxc2WBMhaph9PShxRK3fV9R/rvn0Y+BIghsi8bUJRrXznd12XeVM515e54DPzZJfm+OuQ+XUDSFyU+MUb5WpXx9YzI5cIINebz1kFLiOwFGSieeNymcXaF8o3OeKPRCQi/s+ApkRpLkdqU5/ttnI08UqC802fu5CfZ8apxTvxt5yqEvmf+wwLXv3FwN8R79qwfI781uMKaKotPXd4TJiU8ihKBSvoZtVxBCIZ7oo3/gMdLpMW7c+A4rpc6KL0NDT2EYaarVKYrFC2h6gp7cbnbtegVNj3Pjxnc2eYtNa5mpqdfQtBiKoiEUlXx+PwP9j3Q8xvrzHR9/ifGxF3HdOsvF87huE00zyWZ2MbHrFWKxLNevv4p/m5afpsUZHn6asdEXURSFWm2W4solwtBHU2PEYjl0PU4Yrg04UvrU6/PYdhkQTE5+ClU1WV4+t2o4b8G21wy470m++wdFPvZjeQ49m8ZuBsQSCsmMxlt/WqLVBTOSnktG5N/6XbZ/3IbGmZMYvX00L5xFhpL040+ucQt3QGbf0U3N3K3CHK3CXMRTvFOEIfVr5+h/9tMbckN6Kk2sbxinuHB3+71LOCtLhL630Zgqyobftd4M5u5h4ocmqL1+kvRLR7GvzkLQXUhMem67CrOb1pZ7xVZGQ1K9emZHXs7qlmGINT+1yZjqyczdtyXdB3iFKonDu9qRAkls/yju3ArKikJDVrCxGBS7tmWhW4Nk5cSbO9L0vAW3WsJrVDcaU8DI9ETpvDCgtnwDVdU7i5ALgZbMbN5vrYwMfNSeLPGD+wjKFfTR4fYlS5RYDG9hCb+4xl3uljcXz2mJVFTtu96YiohA5JYXLlQd2eU7DXdpTEvXKpSnauz+9C7mTxSI9ZgMPd7P8d8+u6Xh7AS34XHha1fZ/2OTPPHLR2iVHeaOLXL1W1Pd5zGVKPQspYxyqW3YFYdmwSK/b6260bM8moUWsl1Z7FkeMiTK665DMtHP2OjzCEVlevoNlpfP4nmRETLNHEODjzM5+SlGR5+naRWx7c35nlRqkPMXvkqtdpMgcFFVg978Afbs+TzDQ09TLF7YVKHreU1K5Y2N+6qq09935I63oK/3IGOjzxMEDpevfJ1qdZogcFAUjUxmnL17Ps/Q4JNUylMsF8+t86YFmcwYY6MvIGXA9PSbFFcu4jg1pAxQVaPtpSr4/tq99X2bpcKp1d/Hxl5AUTRK5WssLm49iw0D+OA7FSrLHuMH4iQyGstzLjOXLa6dtvDdLj5wVcG6MIsx0llg/G7Qmr6BORYVWziLC3cM+WX3P3HbEom9PH9Xg/ItePUKXqO6gaUHBPGhcWpXTj9UY+q3GpsHTyFQ1rcvyIjIWPoBsb2jCF3bUWWtbzepXz//kfZl+i2L1sJNQvcuSClkiNshx6uYsa6qbh8U3PkV0i8ewTp9HWe2iL9SQ3MEvcpQ9Hdpowuz65C8VyvTnLtzUeFWCOwmobs5r6nGEqiaSX78MWQYVZU3itP4zm1tbkKgmJvbC0PPWaXC9JaLKIk4xvgIoWVDEKDEY/jLG41np/NQNH3zxEdK7KW5iNkpFifWP7rWG9sF7sqYBm7I9PdneepvHOWDlMH480OAZObdHfYfSlg6U6S+0CQznmbsuSEe+/cPkRlNcuyfddmTKiOPUygRe896qLpKsK6iNWoH2TwwrW+RUhSNdGaMVGqYxaWTFIsXVg0pgONUWFw6QV/fIVKpEXLZCRY7GNNS6Srl8lreNwhciiuX6Os/zED/Y/T1HqJame6qGODOEAwNP4Omxbk5831KpSvc+lrC0KdanaZSmSKVGqZ/4BGKKxdXjammmeR79mEYGebm3mVh8Ti+v5bz8317gxG9H/BcyYX3G1w63kDTFQJfdhfebSNo2ghdj8I694mY3q9WST3yBI0LZwjtrXOeihknNjC6YVno+20e0ru/TzIM8Oq3G1Mwsn1RPvfuODLu7lyCSEzidoh1+ph+qY59dRYlbqAP5Kh++wMIu3sQUkqCVotWFzSADxJerYxv1bjbFyh0WqxW0LWh6EYH9qaHB3PPEM7UIqHtouZSuPMrKFKhIvRVCcpA+l3Lr7WWZpF3qeQi21y9t98j1YiiXM3STEQp6Lbw7O4N1i2ZurDRxLk2hfQDWqfOETout/QwQ2vjN9wp9C6DoGOKzm/W8Zt1hKbilosdqRC3wl1Po6a+N4eiK4w9P8TuT40z+94idrn7ZO0tSAnN5RYLxwuc/J0LTL0xy97PT+xgB5EXGvqS9Mi+v2aEAAAgAElEQVRa+C09nCQ1lGDpzM7641TVIJUcAgTNZgHX3Vzo4vs2leo0hpEimezvuJ9qbbPwcRh6NBsFgsAlnR7rpgB2W5hmmkS8FxCsrKwZ0luQMqRllwkCl1RqeEMrh6qapNOjeF6Ten1ugyF9EFA1wWd/sZ/x/XHCAIYmTP6TfzDBf/Pb+zn8bIpuImRBzSK+Zwgtl7xvDe/Jw0dpTV+DMMQYGNpyQIz1DkVcpOvPx2nh2ztvh9gAKTsaYz2V+UgH5y0RhLhzyzRPXsG5uUTY2sFEQoa4leUdMcvcGzrfP69eJtjBQHk7ZLiZMP5OJBgPA1o6AYqC3p/DGMhF7xUBjmyREXmGlElGlX1tkY/t0SrMbb/SHSBlh2CyEvGON0uzOI0Sge91pmKUksDaPPZqyTadYRASNi2k4+AXS4T1BmGjSVirR8LS66BnejbtJ3SdzblaIUiM7cbsHUD6Pnoqi9k31PX13nWfqV12mH1vkX1fmGDo8X5O/L+bk7RCEegJDdWI2lDMtIFreath1sxYmvEXhrErdlRlmzMZf2GYlau3hcwE6HENzVTRDBUzbRC4wep+KjdrFM4VeeTn9iNERGDw+C8dor7Q5Pqr3RdGQFTVqusJwtBre2WbR2wpQ1y3ETF5tPObYbjxwXgdjDCwWhVrGEnuhzXV24ryQggeffSvd3wxFUVDVSPS8PVl5opQ0fUkfmDj+Q+eTUjVBa/8TC+XjtdJpFVe+ok8UsLUeYsv/PIANy+3aG7DzSv9kPr7l+/LROQWhB7xriq6jpbLbxmyNHv6Nx1XS6QY+czPMvyJn7yHExAd2Vq24vjdKbRUFrN3iFjPAFo6G5HemzEU3YjCXVr0U9F0FMPcQHjeCWomSc9PvYz0gyhCEISUvvpGV+ciQ4nfYZC8Gzz1689x/J9sLUt2J/it5j3xDt8rhCpWxy+hiuiV69K73wrlv3ifzMtHEYpC7c21Pty0yFGXJeqyStS0151n6lUfjGayECqp/kkyA3txmhXqy5vpBGUYYBcXoj7sdYj1j0YiBTtgwEuuKz66BbdeiRS61sHI9JAc24vvWGjpLPHBcdxSAXupuyjKPZE2XPmLG3zxH3+C2mydxVMby61Hnxnkhb/9FLmJDEo7/PrL3/hpWiWb7/8vx7j59gK+7ZMaTPDYLx4knjexay4z7y7w/roQb8/uDB/79ScZfW4IoQoE8Ne+9hNIP+SN3zjG1W9O41RdTv/uRR75+QM8/58/gWqozL2/yHe//C6etY6gIJAbiQ5kRHSw2dvvYgBrD7jRGXVYf4tBUKyue3+swfp+sFu0dbcjCFyCwMX37Q3E8hFZSLu5+yHIbgkBmbxOcc5ldF+cnkGd731thRvnLP7eP9+Prnd3TzZU7t0HVN99k/QTz6CYBtUP3t1yPS2d4/bnJoQSlf9v31O/Y0S0iTt/T4SiYuYHyR56MiKQz/W1c3mivbs773O7I2r5DNaZ69gXbxK6O41BS0LfoedAnl2f3k31Whm34ZIez5AcSjP/7gzLp5Z45D94jNALWfxgAT2pM/jUEEvHF6lcLbH/pw/h2z5aQicxkGD/Tx/GXrGYe2eW7J4e+g73UZ2qMPP69JZkI9LbwiO6R+hJA1VL4tYd9KSO3/IjhistGieEAoquMPmF/Vz/00v4to+Zi5GZzLH47r2FvuMHxij/eXty0f6edQw0YaBIlUAESEIasjsykHvx3O8IEeU+qwuXaK7MdhyzZBDQnLlK/omXN0woM3uPsnL8+12HX41MnuTEwQ3LAruFWy5sio4EnosUAj2ZgSDALi7Smu++SO6ejOnc+0v81it/0PlvHyzxh3/9G3fc3iq2eO+fnuS9f3pyy3XKN2p84+9sP+ttLrc49punOPabpzr+vTbb4Ot/67UNy7yWz1d+aiOzi5QBnt9EUfR2f+hmRH2WKUDiB86GStdb0PVkx201PY4QKp7X5H7EKT3PWn0ZT5z4FzSt7iWhpAzx/RammUW9Jy7hbnv0oFH1GZyMsefRBJ4jmb5gIcOIE+CjCmnqPXliQyNUjr2Fnu8jqHUebLRtPLb7j53dD6HpxAfH6X/uM6QmDm5gVrqf8IoV0h9/FH0wT1i3kKGk8U6XjERSoicUck8MUbtRITGUIhvXWDm/zPU/v8KT/9kzqIZK+WqZmdemyExkSQ6nOPf/nWH35/fSe7iPhffmqExVePa/fIFdn9pNY76OEDD41DCKpnDzjWnKl255VZ2vPQy8Ldva7gW7PrMHr1aMWivcACMZFUeauRihF7BytkBzqUFjrsbwx8aiqNxUZUNO+m4R2zeCdfZG5DCEUc+0SQJVamjo6BiAwMbCp3NufD06MQTdD6iaSXbkMACZ4QNUZs9jlW8LKcuQVmEOp7iwgcFIz/TQ9/QnWHr7G9v2dCu6yfCnf2YTg5JdnO8Ywg6sBqUTbyKE2DEtJPxINWYTgsCl0Yj66ZLJPnQ92TZ8a1BVg0xmDM9r0rI6h0Iy6VHmb6uQEUIlmRhAVXXq9fn7cr62XcF2qsRiOXrye3dkTG9dazo9Sio5SFExCMOdh75uDUpC3Dnp6XuSD1+t8B99eRfNWsCrv7dMvRyw62Cc0mKXfaYPAMnDR2lcPIuaSqP39GJPX+/oqYsOhOy3eGUfBOGV3EG0QEtk6Hvmk/Q++XLH84SopUMGPmHgQxhEnpmU0fOTMmotULV2XuoOzzIIaR6/gpKIJpt3Y6xlCAgonimQGknh1F0CO1hlXkJKzKyJakRc3EbKiDwaP0QxonTPWqRJ0phvYi036TnQS9hFCDC69gdTTRyGEr/moMY0AsfHrTvUb1aRUlKdquDVHfSEQbwvQWo0Q3OhgZ4y7tiS1Q38Yo2+v/oJ/GoTv9yg9sZpGlTQMYiToCpLxEWaCeUgRblIVd65nkT6D4Z8wvdaLF97L9IfDX2MeAY9lt5UiORbdcpn32Pw5S9FxV1E71rvEy8hFMHK8e/jt5qRhFsYtU1GsoIGWjLDwPOfjYQM1kXvQqdF/cYF7OXO+WDpe6tpF9WM49tW1+mAHxnT2xCGPvX6HI3mIj09+8jnpygWL66y+Oh6kr7ew2Qyu6jWblKtdQ4D9PYeJJMeo9FcJAw9FEUjl9tNOj1KGAYbqmrvDZLFxeOkkkOMjb1AvT6PZS2vVuFG+VITw0hh2+VNLS6l8hUGBo7S13eEZrNAuXINz2tFKiftbTXNwHFqm/LCt+A4NWKxPOnUEAXVXGM8EsqGawx8yZ/99iJXTzWxaj43zkc5C8+VfPsrhajPVBGR8Ol9DuXeCV5pBS3bAzKIyvW3GNBkB5sRujZ2cfG+5QHXI2g1I8O3DYxMnsFP/BUy+45uKoIJA5/AquM1aqs6mF6tRGC3CJwWoWsT+h7Scwl9j1j/CCOf+Tn0VHbL44Uth9a5tZYJc+/Ilut2glt3aN5You9oP6qhYpdt3LoTGZsbFQonFtn/kwdRNIXadJXWSovRF8epz9Soz9YYfXGcRH+S0oVlZt+aYezju9DiWtQ7vmLhtdZHih7uBK1ytcTSscsRL/Ydqs1LF9ppsfY69em7b626hdr3z0BbUWm9bJ6OCSj0K2MkRIpLwXF2KQe2NaYPCkJRSebHSPXuIvBdvFYF33WoLV3ZoG0qfY/a9XPERybJ7D26VvwnBD2PvUh671EaUxdxVhbxWxYgUWMJYr3DpCYOoqWzaxO9NlF/7dpZKhc+7PyNC0F8eBeKpqOacRK79lG7eJLmze50hh+6MdX0BPnhIwih0GoUaZRnOoZJt4MQKvnhI1SL1/Hde6ymvA1Wc5n5uWNMTHySyYlPkkwO0mqtIBAkk0MMDj4WtcgsHKfZ7EzN1WgucuDAT0QECk4d3UjS33eEeDzH0tKZTeQG22Pr2X+hcIZUapihwSc5cvjnKBYvYtsVJBJNi4gX0qlRrlz9eru3NXqRpAypVm+ysHiC4aEn2bPnc5TKu7GsZcIwiLY1s6iqyY0br9KyO3vhheVz5HKT9PcfwfNbq2QOiqJRKJzdQL3o2ZIrJxokMir5oWi26bkhC9MOUtEwxnqRno+38PA+dOvqJbLPvohQFWqntu6T7TRD9RpVlt/71gbB64cJxYy19VSPbFKv8Zs1GtOXaUxfwlqYitiGtvF89HTPHddR8xkUQ0PrSSPM6PmlP/4YS//kq12fswwk5csrlK+036d1h7v0b6JCxvO/e2aDMVo6vtZ2d+kPz2/c5g/Orxml2dsVSB5u6mDlfGFNYKI7XoT7htDu7EHZNImTxJcKLZrkRB82d1FwKEDRVBRNQc+YOCWrs5jGtica4jYrtPQYupmMcpVb2ACvWmblwzdQVJ3Urv2rhXpCCPRUlp6jz3fcbj1ueaTVK6cpfvDaHQUkFM0g1j9M6LlrzEddRgweujEVioIRS5Pu3Y3nNGk1CoTO5hupKBpSdi6ogUh8dvzQ57A//L37bkyD0KWwfJYw9BkYfJThoafb+qQS121SqdygUDhDceUinb4G161z5crXGR39GEODT2CaWUDguFXmFz5kdvadLfl5t8bWDzMIXG7c+C4tq0Rv7376+x9B15NR7D9wcZxau82nvmk/rltndvZtXLdGPn+Avt5D6ENPEXEJu3hedL3BHcK/y4UzJOJ58r0H2TX+EqAQhj6uW6dSvr5qTIWAfY8neeFLeVI5dVN48F/942XE4d14hdJDNaaJPftxFmdBKMTHJ/CWlzqu53fIo0RVsA+g+qhLpCcPReLa2kaJKq9eofjBa9Qun7qvlIRCU9H6cxgjvYQtF+mHiLtlo9pufNqavGgH+/rLIzixFeqyjEMLH4+YTGKKGMVw55rERiZGYihFq2iRGsviN90dCSrcgpQhdr1I4EftKXoig2fVCDvSOkpaSzMsvf0NnNIS2YNPomd6uk4thJ6DtTBN/eo5qldO3VkDV0rs5TnUeAJnpbCWM+4y9P7QjannNJi7+j2GAp9ktnN4SFE0+nc9Ta14g1ajcw4wDDymz/05tvVguD19v8VS4TS1+izxeD4qRpIy8rxaJVp2mU4f6uXLf0oYBljWMlNTr7K8fBZDTyKJGI6azcKmHOz9OV+L2bl3KZWvEDNzaJrZpu3y8TwLx67iuJ1fJNsuMzf3HisrVyJPVIsKFcLQj/h5RZNA92Hdd5N6YjfNC7NIx8PzW0xNv06xeBHdSKEIhVAG+F5rAx+wZgi+9CtDVIseJ9+obdK49VyJ7vloue4EjO8XtGyO5sVzSAHpR59ETaUJHRvpbfy4Ix7ZiP3nFhQzhhqLcycoqGT0fgwRoxlU0RQDL2hhqHH80ENXTOywgS5iGEoMO2hgqgliSoqCM4UnO0+8hKaR3vsIWmxjsVvouVTOv0/l3LEdD3aKpt+xEMwvlAkbLdzpRYJ6RFzgVx4ef/DO8QPYp/sQoaETE0kMYigo9Ih+roZn7oosRkvoqKYGocTMJ+6R0jMk8GzMZA9eq47bukOFsZQ4K4u0lmbJ7H9s3eKoP1soSkT9J0Ok50bVutUV7JUlWkvTOMsL2KVCV6pHfrNB7eLJiHVsh2xWH2HOdGtrLzSDgfGnsGqdPQSIZjflpYsP4sTWHSMyipbVncoCwHJxrd/W86xNlIE7xS0FmbCr/Gq4er7C0DAGIypFv9UAQ6AYMYK6hd6Xwa9ZSD9EH8igmjrOQplmcxFHq2EO9+HXmjgzK6jZJNmPHUB3+rAuzOIuVTCGexCayobiqh4DJ+dQnY7K+5W4idGbQo0nCZY8CCWKKpg4FOd//pWZjmLgwjTQkQ+jS2cDvEqJ+OSeqEPIdYnv2YczP4dX3DiRs5fnb7elqEYcLZVDKOqWtH+GEiOnDawaKVVo+MKMjKcWww6btII6PcYgvvSQSGJKREByJw5VI9PbZknaGN4NrAblM+/eldegmLFtyQdCy0boKlo+A6og+IE2pn+5PVNJSJxosuXi3FNlt120cMotQj9k+fgcbv3uqn2FopHqmySW7kOLJaktXsO17pAzVhSy+x6j79lPYbS9UikllfMfUD7zDlLKaBlEhUiBT+A6hI5N4FjdF3UJQWJ0MtLYXZjekHfuBl0bU91M0zv6KLFkL8nsCOWli4S+y+Dkc1QKV5g+9+fE04OM7nuFpelj1EtRYU7/+JP0jjzOpWP/qquCmwPP/DWS2RFiyT4OPvdLhIFHozzDzKVXadUj43r05V/DiGcIfJdrJ79Ko7zT/OP2UFWIxwWmKThwUGV6KuTgIZW333JJJAStlkQIMAyB60HLejAfbTo1HHHGOncIT9wGoSkkD4+RODSGUBXcxQp+vRXlBN+/Qu6VR6i+dwnFNMg8u4+g1sIcyVM/eYPeLz1D68YSatLEmV1BTZoYwz14S1WEdmuQFaSf3ot1eZ7A8TEn+sl/+jGsq4skDo7ROD1F7uXDuMs14nuHWP7q23jLNWQIxQWXdI/W0Zgq6QTS9lB7ty5+eRDwVopY5RKxXZN4pSLO3EzHkJNTXiawrQ1E90JRMLK9qPHkliEkJ7SYtaOJ36pxbBtlBZVQ+gQEzNmXo7/fGhwkBHfgEtRT2bbE1boBUkpay3N3zRWsZ3pWtR+3gppJkPvxF6KBy4+qgst//OZdHe9HeLAICCjLpTZVQ0gQ+ndNYRp6wSq1pbNy9yQvUgZYlXmsygKqHifYQhz8FpIje+h77jPE+oZXuY+LH7xG8f3vbiJeuFfIIEBP5yJjukN0bUyFopDMjSIQVJYuMTjxHPXSFNPnvsmBZ36Bpen3URQNI5ZBUdco11QthhmPcobd4MbpP8GIZznywq9y/dTX2gVKPsE6MdgL7/4/aHqcJz7zd1CUB+NcZzIKn/uCyelTHpoqqFRCYjGNn/7ZOK4tSaYUrFZIvSY5f95n1rqX6lPR1j3VabVWVot/Roafpa/vEADF5e5kgACUWMSZ2jhxHTWXjCTLdBVFUxEC1LiBYuqkn9xNbHIQGQQ4sys0z88gQ0niwCilb50AGfGwuvNl7OkCznwUUncXy8ggXJ3lZp7eR/Wdi7iFGpln9mKO5HGXazTPTKPGdLRsEq9Yw/dCPvh2mf/4H0zwztfLLM+6+OuEEU4dc7BOXUbNpjpe14NC8tAj1D54l8TuvQQti9aNq51ns2FA4+Ylcoee3rA4PjSOke3d0pje4kXt8IcNxnLDOt2o0Rnm5jYYKfHvgXQ/3j+6bQ5Yy2ewL8/QujyD7FDv8DChqvDEEzrjYyp//G8fEMnADzmintIImtS5b6TWdwspV4ntA+82IpnboCZSZA48Tqx/jQq1tTjzQAwpEhRNo/e5T5F95BkIfMpnj9G4fqGrzXdmiaSkXr5Jaf4sA7ueZnnmJLXiNTzXIhbP4bn3fnGe20SoKlKGeE4T1948QAX+fW4m7lCtNTCo0Nur0NevsHu3ykopZM8ejeJKSLZHIRYTlErRK9mTE8zeg3OsKBr9fUfYu/eLgETKACHUdmuJZGHxBEuFLon/afcnhiFCUxGqglAEoRsgYgaoKmo2Ih/wyg1a3z5J8/RU1HcXSpb/zVsYo3lGf+3HuPE/fiXiIA3DqGVl9X61ewtVJer9c1wUU2+LDSiRt+L50b9Qrm6rGwpf+tUhhIDP/mL/Jns19fdq1Joqak8ab7770Po9QxH0fPJzVN56nfjeA3es3qtcOE724FMbwmVmfpD44HhEDB48POMScZ/efp6yq3aaTjB7BjB7Bu6YKzLGBzAnhogf3Y020ENQa4KUNN45d1fHXI9DhzSuXPF59lmDDz5wmZjQWFwMOHRIw3EkV674OA4cPKihKDA8rPLWWw6aJtANQV+vQiwOS0sha+nuv9w50xQ5esQaf3hO6acWrNBZzPIhQSjosWjCnMgN41pVWtX/n733DrLsyu/7Pufm+/Lr9zqHSY2ZwWBmAAwGGdhdEBtIYMldiRaDRUs0bZZVtixXuayyHFSSLatk0+VyKZESJUuiREryUkzYXe4uiAV3sbtYYDGIk3N3T+f0crjx+I/7+nW/6TzdCKT5rZrw3rvh3HDO75xf+H5nN9xUT2aJD492hB7Kty58SNzOktqdm9z+rb+/8pHdTDp2ZUzD0CcMPMLQR0rwvToSiQz9TQvFPykQqoaV6UWGPoHTiPzsShT3i/cdpHizkznp6hWfq1eiQen7r0XfXboYfd5jbfU6SBlQrc6ytHS1newUhh71+gJzcx8wv3CB3TzUsO7iTC6Ree4UiqlTv3KH+rVpkn/+SYy+DErMJGy41C/eIf/lx0mePkDl/TEat2bJfvokatykOR7FC2UQ4i2UyH72QRTLoH5lkuSj92EM5sj9+BmWv/UOxdcu0fsXP01QbeLOLONML2Md6IlUeppum/7PaYT8tefOo6iRYQ0C2SG7pvV0ofVkcW/vjWB7tyi89iqqZeNXysjwypaxktr4dZylOaw1BNhCCLKnn6Q+M0Zjdndc0HvBZmTdd+ut7giKQuq+0xiZ3LZxtdD1qb2zUnu3f4QVP/3nbV76apP/6X9M8p//coEvf9ni2jWf/n4V04RMRuGHP3T52387xR9+vcn8fNDuh/19Kp//gsWVKx6Tk2uf3/+/Y6Y+LiW5TNBanWpS/9jviKoZZFoMSEY8Q2lm87IyVTfX1TxvnPW7PxCKipHNoWgmzaXIwO9UPH7XK9POzxsPOms7o6bbnwjlCyEigWPNTrSFjqUMqU7dQOzSVbyVIRW6gZ7K4C7tjtavULxJoXhz/fFUFaO7F6EohJ6Lt7yDkhEpqV+don5tisRDh1EMDb9UY/rXvhGtJtcI3k7/+svRyrH13eLX3kJoCnKF0zQIqb4/RvXCRETELSWl1y5Seq1zJTL9T77ZcWx3OpKlK3y7c0UdS6oceyTBfQ/HGb/c4EffKpBIqyQyGvNzFURfF7EzxylNf3QxOOm6+C1dS7+wXk6vY1sZsPDWtxn83M90KMhYuV7yj3yGude/iVvY+bNfBxEliknf3VaUOWhU19e+CgWrexBFN3dOB6coxIdGSR09vS3JvXtnHm9uGWHohLUmSInevz/asvW65NFHDb76tSY/9pzJ0lJIJq3wrW826R9QyecUYjFBoRDyld+u4zigaWCa8PAZnVdecTh//uN1O3/S0KTeUVM6HXr7IPu4NwRek4WbbwJRAt9WHMlShuv6QeboQ9TGr+OVlwk9d1/1fs18H/lHn8MpLqC0svRr49d2tO/OrcgOpjNh6BPKADOWRdUtVM0ikR3ahGZObOqAiQjbAww7haIarLqu1pK07453NAx83FoRoaiRm1jKNsm7DIN9W26aPf30vvDnGf9n//eejwWg2DGyT3wKs2cAGXjc+Vf/eOc7t2KeQlNXFePvVo6XEtaWqIRy1ZCuxU4U57fZRlXh2S918fhPdCEEWDGVt14u0HfQ4oX/tJd//Y/KuPEYQe0THPuSksrNi1QOXyB134MdYtDpYw8hNJ2ld75Lc2F65zEdIVCtGFo8hZnJY/UOUb72fpQ9vAXc0hJetYQVhu12CCHQU1nSRx+icPnctuUAQtOJDR6i++xzHRyoW0Hv7cIY7qb+7g3ChkPmxSdZ+Bdf37PqyY0bPp/5jMk/+IdV/vbfSvH3/36VAwdVjh7TyKQVFhYDPE/ieZ3n8X24cd0nDCX3369x8aLP6vj78U/kP0lw7oWs4UNE4G6dfBQ4DdzSIlpstfzL7hth+It/icqtizjL8wTNRsugbqDwFYbIMED6PkGzTtCoRdUNmzAgqbE49ZlxhKqimhaB63wIpA07eCc9p0qtOEW29zim3dVOYW5fpFBIdx8hluglnT+MYaXoPfAYzfoyhdnL7Vho4LuUFm7SPfgQdqKbZnWR4sINfLdGPD1AIjuMpsdQFI3cwCmsRDe14hTV4haqCzLELS3iltav7NzK1quR3SColilfeHcfj1dh7qtfIf3wE6QefGT7He5Cc3w19mhk8vj1SuQmkTIagIUSuTXXcKIiBDIIoth1GEQr9zV1V9F3KkLVUFQNv1GN3Pyt46xzPbag6grPfCnHb/3vk6TzOsfORu7ImbEm+X4DI5+ivlSKSi7WQCgqQtMQ6uofpf3/qB1W90Ars7UTZq6P+PAoMvBbvLRB9H/fX/OdH81+d0jvGLoOC2+9ipbIRPJOHaoWD2Dl+yjfvEBj9k4kQt2oRvd85b4pKkI3IgNqxdDiacyuHqzufqx8PwhBffLW9u3wXGpTt4kPHelYUaqmRe6RTxEGHrWJ6y2qw87BQDEszGw38eFR0scexuoZjEg+mnWEqkf3e5OJaui4qOkExsG+iPZRrCgn7c2Yvvuuh2ULpqcD3nrL5dJlj2Ip5MwZHdeVXLvm02zCa6+5bWMZhjA1FfCHf9ikVpfE4wJNg20W9Z8IiLve4fY7veZdt3uH13n2hKph5fqIDx1pv7sr77JsfQ7XfP7Ia832EV6lSOX2ZcyuXlRztX+b2W7MRz6z7f6h7yN9l8Bp4pWXcZbnqc+OU58awy0tdfZ5KXEW57B6BiND2rRwluf3n7TB9xosT1/AdSqEgc/U9e/gNsogJVPXv0u9PIfv1pgbf4tU7iCaEcNrVliceg872YeUUfanEFHSSnnpdvsC1vOJekxe+2NSuUMoqo7vNZFypXeIVmJOwPilbwKt/T8iYd740Qew+ocQqopfKVG/dR13aR6hG6RPn0XLZDtibkI3sAaG0dNZ1ESK5uQYejaHns5Sev8cQa1M9rFnaUyOYw8fQqgq9bEbNKcmNjVKa2H2DhA7fBTVjuGXS1SvnMevbpxVGus/iN+oEDgO0ndRY0kEEkU3I9accgHFtFEUBae4SGzgYGQMmjUUVcdId7VJ0VXTxi0XEEJgaYNosQRuYRG3Wtw0m1QIMG2F+UmHdH7VRRpPaYQSvPll0DKEzqrr0sz1kjlxFtWK3zXY6AhVjb7TdFTDQkuk1p0zfewhEsOjHYPLiiFd+ykOgaMAACAASURBVJ1frzD/+re2vd8RJM7iLAtvvIx46sex+0Y6DI+RzpF7+FMEzTpeaTkypp6LbK0ghaqi6CaqHUOz4qixBMqanINgGzWMtShf/4D06Cns/gNrVqcKZq6X3mdeoD41hrM8F83GwzC6V6aNke7CyPa0JiERRVvgNlk+/wZ2z2CkI7mJcIG/WMabWkTPpUFA7UeXd12TtxEmpwJ++7eja//VX4uITcbGAsYnAgSrp/id31m9P2EI4+MB4+ObWc9PpiFJjBwlcfgEqm62EgX1VYO6xpiqVmxdPopqWqSPP0z8wFGk7603omsmivXpMUrXP0D6H592614QOg1KV95BiyVIH3sIzd6dDrSiaaBF99FIdxEbOkLq6IPUp25TuPAm1Ylr7ZjoyvhRHbuKHk/jN6otopadYcfGNPRdSourMb2FO2+v+f8qn6nn1Viev9x2nyqGTW16HtW0kEjKhXFKS7fQYkmEELiVIoqmIwlRrVjLNSZp1hZp1tavImulKWqljzZBZQX2yGG6HvsU5QvvRBm3mo7QW0YhDHAWZlHjcbKPPsviH0fyc4puED9yHDWeQHou8Weepz52AyPfQ/rBsxTefI3MY89idPfRmLiNnsmSefRplp0mztzWbj4j30vm7FO4hSXchTmsgWHyn/0ic1//DxvyyMrAR1ENQsXD7j+IYtpI32uriLjFRYx0F5oVQ40lsHsGQYZ4lSKx4dGI9MFpRG57GSB9Fz2TRzFjCClRYwmCxc3bHASSa+/W+Ilf7KVeCUhmNR54MskTP9HF2KU6zZKDfirfsY+e6iL7wOP3llQD6PFUpE+4BaSU+NXSLoxptDqvTd5k7gffoPvR54gPHekY9IQQaHa81fk/PHjlZRZ+9AoDn/0LaIlVYm8hFIxUF3oyGz1jz2kn3UWC4HrHBCBwmhQuvMHSu98jdeQBYgOHNleOCUPq52+hJGMIAUFlf1yHuikwLYHTkFi2QrMRopuCeFJB0wXNWki1HBBLqOhGtO3U2HYx0k+mm9fuG6Hr9JMdcfedQigqeiK9pRjBChTdoHL7EsGfUGO6sioPmvVIkEHuLQVnpV8mD5/AyHYjXv8GlZsXkWFAavQUQtPQ0zm80jK2eYCapu/ISwT7zICkmDZ2/wih08TI5IgKdyK3lp7M4BbmUQwbZ3EWu28Iv1bBHjyInszgVYo4S3P7Xzu0j9CzedREguqNSwT1WlTc3ooTyiCgMXELoapkzj6zbl9vaZ7mzCRdzzxP7fZ1/EqZ5MmHox/DAGdumvL5t1FMk57Pfwl75BDu0sKWmWSJow8QNBpUzr+NX6tSH7/JyC/+VezBEepjN9ZtXxm/ClJi9QzgLM1F8YHp2+0Af+g66KkstalbSNehNnkzoudyHco3LqyLL4eei1suRt8TleNsJVfke5Kv/vNZnv/ZPE+9kCXTazA0anHl7Sqv/NsF3EDDqDXR8h8tacO9QgY+9cmbzFRLZE89QfaBsy136733diklbrmwq9Vpdfwa06/+Lv2f+fI63lIhBEI32hJWG8GrlVl+/wcUzr+JXytTm7geeUU22UfYBpkXnsAc6SOoNRBCMP9PX9pw293g8R9LoKiCwJcszviMnjQxLYXiks/clIcAkhmV+SmfWEJBSnZgTD+ZK9M/w/ZQ7QRdDz1N6shJ9EQK1dw/PWGhKJhdPfQ+/QLNhRnc4gKVW5eIDR7CqxRpzExEHqetpAjvwv7Ws4RRnM0eOIBimG2BVRkEOMtzSClRFYHVN4TQDYSqghDRUloI3OXtawtH7o/xwi/1o+iCwJP85t8Z59hjSR76TAbDUvCckK/+02l0Q+Gzv9CLqkI8rXHrfI2v/7PdkzuvRe36RZIPPMTwX/ovqVx4l9L75/BL28dbZeATNJuR7FWt1qK5arQVEELfx52fRfoege/hlUtoyQxC0zY3pkJg5LpJ3H+a1OlH2ow6qmmjd+VhA2O6IqbbmJlYpeC6y5XcHkjvwmaEBEFjF9JjEuYmHH7vV2f45m/MoxkKgS+pV3yatRD06HVsXhnb+TE/ZsgwerfnX/8mpevv03XyCVL3nY4IFXY4hZZSRoTcU7cpXXuf2p3reJu46jdrQ+X2JZzlObof+yzpYw/taMUjg4Da9G0W33qV2uSttivQKS7ilpexTHvDazD6cngzywhVo/ztc2ReeGLHbd0K2byGZQsWZn0mbzuMjBrUqz6pjEqtHJLuUlHUiDZu8qbLfaf2Imj/Z/gkQ0/nGPrxn8fuGerwonj1CrXxazRm7+DXywSeu2FMMwqnaFFOQiKN1TNEfOBQB4+2EAIj203uwaeY/d7X8MpF3MQy6eMPEXouZq6H5vzOdaf31ZiGnkv11pX2Ojw+fBgjk6c6dhW/VqGtCCxayQor92Ald2GbBBChwM/+d8P8+1+5w+xYAylBUQTpnEat7PObf3eKF/6zfgZGbcqLHkfPJvnffv4SpqXwc//9CF39Bssz9+7uCOo1pr/yL7FHDpE5+zQD993P4re/Rn1sfUlLB6RcfeAr17jGXRHlb6wdtHboy1AEhTe+S+ndNzt4WLcTs10xlhuKb9xjwf9OoSiCRjWkUb3rWQvA9amfu9jROapjV7j6z//OPZ1LILbktt1PhJ5DY3qM6dk7zL72EomRo8QGD2H1DGIku1BtGxQV6fuEbhO/UcMtLOAsz1Gfu0NjepzQa7YFu3ffgBC3sMD0K19h4c1XSI2eIj50GDPXi2rHEWo0MfNrVdzSEvWZMapjV2kuTLU8E2vOKSW3/t0/6HgH15YnhA0XIQT+/DLxR46hD+RBU9dp0NZnxrnxm//XuqZuVsqwMO3x7us1PFcSBvDt3y+1myDl6jChKBD4MHNnZ3359ld+dV1/ikhK7j1LyS0ucOkf/g/tz6qioysWnrNK2K4KnaH0acaLb6/bf+Hcqyy+810UoXAo+zg3l3+45teVtsq7vos+K0JFVy2C0McPnfbvo7mnuLn0euc7v0Fpyd2oTd3i+m/8Ssc5gHXi4FZuAD2WpHKnsy6095HPU7r1Ac1CJ/HCzKu/y8x3fn/Lc28ExbQ48KVfwsz1tZNYQ9+neOktFn70bfxqaTWxdbOusvZxt3J19HSOvmdfJHn4gTXhEEHq6IPM/uAbEAY0ZyP2Hau7n/rkbeq7oBXcf6YFGbYvsDZ+ndr43cKqG9yAHY4d8bSG70sWpx08J9rJsASNWsjCpIPbCKlXfHRdIARMXW/QrAYIAY1qgGmtJinZmT5Gzvwk8e4DVOZucvN7v0m4HXuNUCLX3q1rOLNTdD39PLHDx7Y3pttB0dAyXdFD13S0eBJnYXbrTiAlXrkYxWLDgLDZICJ7FTtOBtHMOMMPv0B+dHNNQK9R5r3f+Tvsh7vMjCn8yldP8N88f6Hj+0RG47/4uwf5Z39zjPLyXca8Jeq7NTYefA5ZD7Lg3aESbKzDunEGauexIoO89tiitddG+8n2s+ieULhx7ffW/Np5nH7jCIPGUc5Vdx6n3QlkEOAWF1g89yqL517dw3E2n1R5s0v4y1HyYeKJExS/9kM01SLRe4DacpTPIIikARVFJww9DCuJ51RRFC1KXNwAb3y708uxma1b+X6nZFM7mSCm+kY5+PhfQDFMFq//iKkPvtU2+paWImF0U3UXaPplbC2FohhYWpyyM08QeuStEeJGjqq2wHz1BpKQjD1IqRl5wzTFIqZnCKWPocapuHN4fpNM7CDLldutd1wQ09PE9C4UoVBoTOKFTdLWALaWpNScpeGXiZs5umNHaPoVFmo3cYMaWXuI5cpYW1xbERpJoxuEQjWcR1V0VMUgYeRo+hUqzmottGrY2LlBVNPGKS1E1K0yjMqusr04lQJCUdHsJG55tS+ZmR6MVC5KYBMCoahY2V5U06axOB2VvdzDhKX3mRfbhjR6gJLCxTeZ/+G3COo79ISt7Z4yYiZ2l+dYfOtVzFwfZmY1N0NLpKNV6NxkOxFzhRhC0Q2CHZI2fDQpsEA00CtRUbpmRMvMlXKMVobjyv9RlA2Lx2sln9CHwVGbdF4nlYtoxaJY3l1nE2KdxNda5A89QqL3EJphkxl6gOzIqW2vIH7fcRLHTmL2DWL2D6HGE3ilKHNVGCZaMo2WSCIUgZbOoiVT25KGAyiGQeLYA8QO3Ufq9CNoyRSNidtIz0WxY2jpLGoshlB1tFQGNRYHRaF6+QJ6Nk/q1COYfYNYwwfJPPz4js4ZIarfDQMPGfotIYKWERGi9TLvXwLHugV4C2EQkunRUNTdn0tBJacNkNcGMUUUr0yoWfLaIJqI3OhJNYcmdBRUYkoKXZhYSoKcPkhSzbUrnru0fjJqNxm1BxBYSpy8PkRW7UUhip1ktV669QPElUiRxxQxsmoveW0QXVitbfoo+qshC12Y5PRBurQ+NBHFIWfcm/jyTybBgNA17JOHSD33MErcwhjqpmv4JFYiR3bwBJmB4+QOniHVO0rP6ONohk2sa5Duw4+T7B39WPVfN8PQwy9iJnMYVpLsyCni+REAbD3DYPpkpMWbfwZDjZOLHWI4/SCGGmcodRpV6ChCQ8oAL2yy0oeC0GMo/SAASTNPLnaAg9mz5GIH6Infh0DFCxqMZFZL3gIZgJB0xYYx1BgClbjRBQhO9H4egUBpZVn74WqVgxs0OJg5C4BAJRc7QC5+kLTVSz5xmJTZy5HsE0gZcl/uGTQleleFohHvP0ysb4RY7whaLEksP0ii7zAIhczow+jxNIQBRjxFYmAUACOZI3fiSZCSeO8BEIJYzwhdxx/D7h4mc9/D98SKp8VTZO4/2xFecJbnKd84v3NDugW8aonmXGcJZSQ0nomuYeAAvZ9+keTBYyQPHkNPZXfe9j23bodQDBMjkyP0PMxcTxQnldFgLlQVVTdxlufRU1lCzyV5+ASlq+8Tek7EwyhDFCvBS79R49P/8ShCQH1+ia/9+gyVgo/bWqkW5z2qRZ9GLWB2LCr+D33J/J0mrrNqcVXD6iCT0IwdBLeDkOSps2jxOKHjULt1jcrF9wCIHRwldfIMWiKJu7RA30/+LH6lROndN/HLRYJ6jdB120lFYbOOMx+5RUKnSfPOGJkzT0ZxqPfO4c7PIlBIn36U5JHjSENHhJK+n/wZGpPjFN/+Ic7sJMuvvUzqwUejZCTXoTk5HvHh7gCB71GcukzgNVCNGJoRQzVtErkRVGPjeNm94tCJGMkuDd1QOH52jeqKgAP3x2hUAgJ/96tfVWiYSoyYksRWkiz6k/TqByn5CyTUDAKBqcRIqBnK/iJd+gDL3gy9xkG80GHIOsr1xjkaYZX77LOMNc/TCKsIBDltEF2YVGWUHi9QiClJQHDEepgP6n9MRuslq/Wy5E2xMog6YZ1jsSdYrEYuI00YGMIio/UCgmV/53GY/YJQosmqDIM91x1qPRnMA714M0uEjhdFJRo6mhEj8BykDHDrRRTNwGuUEYqGUDTqhWk8p7KtxNv6xkerHsJwR8pT9wLdXM26ForS0vSFhNFFpTnPUn0cS0uRMnsIZcByfYKKM08+fghFqDT9MoF0KTVm2l6Lqruwpr0KNbeAHzo0/QqWlkIIqDhrt5H4QRNVGMxVr1P3imhKpKOsqSaKUJGENP0Kda9I2ZlvGW+ouUuELcOqKCoxPcNc9Rqq0IgbXQjFYrkxyXLjDhl7EFON47cMvwx9Qs8lcBr49TJKsovW3LGdgBP6Lm5lGSMVsV2Z2R7qc+NUp29QGzqKUFRivVHCjmqYhJ6LohkEuwwbxUeOrov3u8UFnMWNuXt3i9D3Ilm2u7DCiqcYJuWr71OfGou23wUH8J6MqXXqGEGxgr+whGxufVKhasT6RpBStgrGI33HoB7FcBRNbxcp1+7cwCsXsXuHCRpV6jNjAMSOHKVs5XnppShzdPkHkSG7+Pqq2+hH31hNCJq6HrmcmvWQb/w/nQ+jtjxFeqCEbmdw6wWqi9v7xms3r1C7ubGGau3aRWrXNib7bkysplYvvfYyAH65ROPOGIppIcMQZ/IO9TfPgQxQFAMDEzOWx3n3PJy/hR86aIpJsT7Z4WJsTI7RmBzbtu0bQQYepekrlKY7r+noj/0y6YGj7NuqVMCTL2YZPhrDTqr89H+9hmlHRpy9r/72Io3q7l1C0Wq0lX8lBLaSoB6UKfhzZIM+JJKiP8cR62GcsEEgfVShoaIRCI9qUEQVUed1wjpz3lj72NWgSErLoStmZJSFDa047MpEIySg6M+z4K8qHdTCUntgEygYwmrbr815vz5ECEF64DhmsovyzHUaxb0NTGG1gWKZ6D1dEfdyGFJ879yW+zTL906xGMsOkOw5TH15iurSzuqvd4vSzFVyhx5BCIVmaZ5mOSrLa/pVUmYvKbMXU4tTaNzB1JLEjGzrGQsC6eGHLgkzR8LsptScQREaCSOPrtrYegZFKETBgZXwAShCxzbSaKpFTM/S9Ktk7CFiegY3qKEIjbTVT9zoYq56nXzsMCCQMkARCgkjjxc0CKWPrWfQFJOEkafpV3D8auTmBUIZEMqw0yvU+iDDgNB1sHP9VKdv4TdqKLqF1dWHnR9Aj6cQQqCaMYxUDj2RQbOT+I0qVqYHOzcQidPLEKcwHyXSLUzi16sbGq3tYOV6O4cdKQma9ahOeh8ghLIhfaz0o0Qmr1Ikc/IxFNOGMKQxewe3sDPRjT0Z0+zP/xRhuYpzcxx3fAp3fAp/YXmTmJ3ELS4RuE2EphO2yOYJg0gjMp4CKSOKtFoFlBk0O9Fm61m5Ee7iPKHT3PMMtTBxHhkGGPEsjcI0taX910TdDTTFIBUbIgg9hFAIZUDK7qPuFNCUaJYcyoBifRr4E0DvshYS/u3/OUUmr/PXf32Uf/I3bq/+JKFRDWnWgl0vmAQKSbULW0ngS4dQhjTDOkk9R5fWjymi1UYgfZphnS5tgGn3OoH0aYQVPOkSUKIWFAHZoaQhUAikhxM26NaHWfZmiKtZEmqWZX+aQPpEA5tEitX9VDSSWg5DWKTVHpphhYTahSY0PBwkEhWdhJptr1bL/iLhh/hMdStJ/4lPk+g5zPibv0OjOMdeYuBC1/CWSoSVOtL1t5TQ2isUzaRr5DT9J59n7vJrNIqz+B+CMZ2+8CrNyhJCUanM3cKpRrHBqrOIrtiYapyKM0/NXSJtDaAKDUXRKDuz+KFD3Stg6ylMNd5yxSroqk2hMYmh2jT9CiBwgip+4OAFDQRgqjGWarcxtThuUCeUHk2/0nIdq1TdBSwtjqnFma9dByRe2KTmLmPpSVShIWWIqcZZqN/C1BI0/DKFxiRZexgpQyruPJJojJEypNC4gxdEhk7RTfR4imZhDtWKYXX101yaxkvn0eNpqlM3CJw6iqYT+h5epYBqmDQLsxiJDFosSXXmJl69jFtZJmkcx0h2IYMAr7Z7KcCohOuuZDHJnr0pK1DteKtssxNuOVqEBc061bHVBKvdTNz2ZEwV00C/7yDG6AGCYhlvchZ3bBLn2m2csTvI+irHatCoUZ3YnDDYb/nD/YkKAG5xkdBpErpreFrDEC2ZIrTtPTOu+E6NxZtv7ekY+4HQ81j67rdwFqbwnciICiJZNserYBtZpAwpNqbw/DryT5ohXYNyweN3//EMSzP7EyuUhBSDeTzpEhLghnUaYYWiP4+Cwpx3i2ZYIyRgzrtNTEnRCMut1eo8hmKvOZZkyrl61/Elnmwy7d7Akw7lYBEFBU+6TLs3AEk1LHSsNiWSUAZMuJcJCfClT9Gfw1LiEBSpBaWWUHNrG7kxp+h+IpbpR7OS++a2D8p1nJtTKLYVjXt75OTdCrqdxM7072vIYSO4tQKzl76z7ntJyHJjnLXJaqH0KTamWGqserP80GGueq29nR86LNS2SExsdYHF+m0W66uTy0KjM57nhTBZ7lSNCmVAsTkFzdU2LTcmWG6sKhYFuMxWN/aiLdVX2y1UNXLHNldK9UICt0Hh2rmOawYo3uikSS3dPr/xNnvgOV8h7WkbVCFQrUigxK9X7umYKxCqht03so6D2qtVcIvR5EnRDPREBqEoKJZN6DR3zIK0J2Naee1NYg+fRB/qQ8umUTMpzKOHiJ09hTe7QPPyDZofXMFfLOz+5obhutrG5tw06YceQ7Vs6uN7zKD9pCAM2nHXjRL9G14JRag4XvVjV3vYK8IA3nn13oWrN0IjrNAIOztZKWi5FIPNt6uGBQg7O8mSv8qsJQmphUVqa265KxvM+53hgGZ4VwYqAeVgkXKwyt4VHafzuivB0hZZxvuLWLa/rR+5H5Cuh3Pzo4n7GnYSO9O3/YYfOlbHr+X6eNuNv9V2H8a59/tcgdOkMnkVxbABiVcrryld2snxN9hmD6tIZ2muw5YCWPl+7L4RKrf2oJkrFGJDh8mf+VQ7PrqCyu1LbYUlv16lPnULhMDuG25zAewEezOmL3+f+uvvoA/0Yp89hX3qOGoyjtLfg9aTx7zvEMkfewrn5jiNt87TuHR9TwzUZu8A5fd/RNBskn7wUTYubfjTBdevfdxN2Ff8Cebc/hMJRdWx0r0bigB84iEUjHgXZjzzcbekA07wp6hPyhCvVoZNSFk+alQnrhG4DtoacgUj3UXuzLP4tTKNuUl2O+arVozsycfpevBp9FTnuxQ4DQrn32iXISqGgZHOgQA9lfnoEpBko4nfaOIvFWheuUk5lcR+6H7iT55BH+pDTcRQ4zZavovYwyfxCyXqb75H/a338ed3PytXTBOEQuh5KPEEf9oN6Z/hz7BXWKluzGRu9xm0nwBohk2i+8CuKN3+DJ8M9D7Ug9/wWbq6hiFOwOlfOMnYd8Yp39nYZRs06xQuvEH32edWd1NU4kNHGP7iX6Z45R3KV9+luTjLVowNWjxJrP8A8ZH7SB5+AM2Or+OjBlh65zWcxVVmPEXTUeORF6cxO7mujGYrCLlF9sA9xSmEQOga5pEDxJ99FPvUMYRlrhYYhhLZdGhevk7lu2/i3hhHujssirVsUqfPoiWSlM+/i7uwE3pAQdeBBzn89M9vsY3k4jf+AY3CzlxXVrqXky/+t3iNMpPvf4ulW+dIdB+i/4HnSHQfwHdqFO9cZPriHxO4UaDfiHfRe+xpsiOnUDSDRmGamUvfoTyzcRx54NRn6T3+LKpuMfXBy8xc+DYQJZN0HXyYzNAJ7FQ3QtXwmzWqi2Msj71HaSZKUtgLVrJ5hVBw62Xe+53/dc/HVHWL7MgpMgP3Y2f70MxoMuTWS1QXx1kef5/q/Bgy3Dzgr2gG93/+v8LO9FGcvMiN1/41im7SPfoEPfc9hqpZVBfHmbn4HWrLk23GrczQCfofeA4r1Y3XrLJ8+10Wbv4IbxPygHXnVQ3SA8fIDj9ArGsIzU6gKBpeo0y9MEPhznlK09faz3or9Bx7moGTz6OZceYuv8add7++en+GT5IdPomd6UMz48jAx6kXqczfZvHmW60s3K2U6QXx/AHiXYPEsoPEc4NYyTyKtkptKMNgy4ShwsQHjJ/7A/zmdtmTAiuVJz1wP4nuA8QyfWhWAqFqEWdzo0S9ME1x8hLl6WuEwfZsRXbXAPHsELGuQeJdg9jpXlTdaqvhyG1KY+rLk0y8/RLVhc0z8zUrydCDXyB/5NEtjjPFje/9a9x7SKBpQwhimQG6Dpwm2XsEI55F1Qx8t0GzPE9p6gpL4+/jN3cWBzz81M/TdfAhvGaVyXf/kKXbEauSneknd/Ahkn2jmPEMqm7hO3Wa5QWKU5cpTHyAWy9tc3TQYxpG0iA5mKS+0KAyVUGGkuxoFqEKNEtj4fwCelynazRLfSnaJj2SojJdJXAD7JyNDCVCEWQPpSncLtFYjChM0yMpUsMpek7nufmN21Smq2QOpRGqoHCzSOCseiwVw+Twz/21TuIGiN5bKUGGBE4zSmht1gh9rxX71VGtGHoyi2JY0b6tP+uOA5Quv83s97+OX73r/rTJItp/dWCz/vMhMCBJpOtF8dLLN1AzSWJnTxN76gx6Tz6SG7JN7EdOYZ85iTs5Q/31d6i/fYGwWkN63qbjhZ7OUnrnDaTvYY8c2n3bhIiSRdpUUrCSkbnb4yiqhmbFMeIZ0v1HGTn7Jax0LxAxC/U90E08N8z1134jYho680WywydXr6X/KKn+UW798LdZ2igRSigoLUmmWKYfIRSSfaMcOPtlrHRPx6aaGcdK95A/8hjFyUtMnPuDdjbixw2hauQPPcLgg19At9ert2hmnFh2gJ77nqQ8e4OJt36fRnluU3/wiuxarGsQRdUZOvV5ek98uv17duQ08fwIN777G9SWp+g5+iQHHv1zHecbfOjHMVM5Jt/7Jt4WA41QVNL9Rxl88AvEsoPrGCdU3cJK9dB14EHqhWkm3/1DyrM3tpwQrKTmK6qGne0HoZDIDzNy9s8Rzw2tvz92knhumL7jzzB//U0m3/vDTQWVNSPOiS/81Q3OuYb4XlG3LM7ZbhWoqBrpgeP03f8p4vmNV42qZqLbSeJdQ3QfeYxGcYaxH/0e1YXbmz5XVbc4+plfwoh1uuE6264gtuCZidqy8wVAm5TkrvFgt8e566CYiRxDD/0EXQceXPezatiYiS7SA8cZfPALTF/8NvNXXt92siGUaDxQdQsz0YVq2PQcfYq+48+i3RUPNzQTI54l1X+UnmNPM/XeNyncubDlexnvSzD6E4cpjpU4+lOjvP1r71JfqPOpv/U0V/7DVcpTFYykwcHnRkAIDnxmmGtfvUF6OEX+RJ7br4xx/08f4+rvX8dveOSO51AMlcnFKVLDSU7/4iluvXybvof7uP1H4/Sd6aX3oV5kEBLrjnHn+5PIFslO6DpMvPQvGX7hP8HqHmjpLotV44iCasext1FkunsxuEJBGLoOxSvvsPDmK+sNabThlsfdDB86aUNQrFB55QdUXvkBxuhB4o+exjp5FL03D4qCOTKIOTJI6iefp3HuySH9VAAAIABJREFUPLXX38abmSesrR8wrIHhNl1b/PAxGpMTO6CrkjRKs8xd+R6aGW/9iWEmsuhWCqHce5agohrEsgPEuwbR7RRuvYSiqFHdFYJ4fpj+E58hDHwyg8fxnSph4KPpNopuAgpDD/04palL+M3N4zB2ppdk7xFGn/0FVN0icOst1qJoFqhoJqoexcQyQ/ejWQluv/7v91Tbtx9QjRiDpz9Lz31PIlQdkARus9X2sEWKpUUEGopGuv8+jn3+r3DrB/8uWrFv8VIb8SypgWP0HH8ar1mBMEQ1bBTNwIxn6X/gOeav/ZCRR36S0HPwvSZCUdCMGIqq0XXgYYp3LlJorHBGd0JRdfKHz9J/6nnMeBYpJYHnEPpuxDojo8Fb1U0UzSDeNciRZ/8iE+deYun2u1sOXCuw073Ec0OMfuoX0e0kYRBJpYWtfdfeG6GodI8+ilAUJs79QZs2bi2kDGmWFzrsgKLq6FYCRY1qab1GBd9bZem5G269vOH9WIFup+gefZxEz+GINzUMCHy39Uxb96XFcqbqZlTMnx3gvs/8Itde/efUFic2PK6UEqey1EHpKYSCbiba8V7fqeO79U1Xp06tsC0laOg7lKavEoY+mhlHN2LReJDqjlbBe0kaFoJkzyEOPfmzmIlc67qi7Ngw8IFIe1nRdFTdQjVshh9+kXjXEBPnXtqRp0RRNexMHz1Hn2Lg5I+hqHrr+K3735qEq4aNoqjYqW6GHn6BwG9Smr66ZZ8q3i4xfW4G3dZIDiSpLzZoLDa4+gcRJWzmcIbADZl6c5rmcp7kQJKpt2Z46q8/zsyPptFjGrW5aByrzdXbxjF/f447P5hk+q0ZBh7rR7M18ify2FmTMJBYKRPN0vBqq8/OLS4y8bXfoOeJz5E4eLyt67qWU3enkFJG+sVuE6ewwPL7r1O+cSGqLRUiYt9T7pqkheE6buLt8OEzICkKajqJmk1jHhhEzWUQRtSxpecRuh6KaaDGbBKffpz4k2eovvEO1T9+E29qpi1xBqDG4iSOnUIGPo2pnRjSCI3iLHfe+VrHd73HnmHg9Of2lOUohCAzcAynusz0+VcozVzDiKUZPvMidqYfRTPpHn0c36lRmbvJ/LUf0qwskR16gP6Tz6FoJroRJz1wnKVb68mwV2Clejj45M+AUClOXaE4eZF6YYbAa6IaFon8AboOPEgiHzGQxLsGGTz9OcZ/9Hv4O3A9fhhQNJO+E58if+SxKPXea1JdGKcweYn68iS+U49kkJJ5MgPHSQ8cx4in0c0Eh574GW58919tWfsrhMLI2Z+iPHOd2cuvEXhNcofOkD9yFs2IRSQFiS4Ct8Hsle9RmrqCZiXou/9TpAeOo2o6yb5RynM31630hKKSGTpB3wOfwYxnCXyX+vIUhcmL1BYn8BqRa06PpUj1HiEz9AB2uhfNiDFy9qfw6mVKM1c3anYHjHiGw0/9PLqVoFGapTR1hfLsDdxaAQlYiS4yQyfIDJ9Et5Ioqk5m8Djl2essj7237niBW+f8S/9Hx3fx/AEOPPplEi16vKn3v8X89Te4V7e9U12mPHsDK9VN4Ls45QUqC+M0y/O4jVJrsmgR6xokO3KKZM9hVDViRxp++EWufvvXNyS6D32HK3/0ax3f6VaS4Ue+SP5wRJO3ePMtps+/sqd3OvRdCnfOU7hzvuP7w0/9HLnWee4V8a4hDj7+H7UNqdesUpm9QXHqEo3SXHRvDJt41xCZ4QdI5A+gaAbZkdMgJeNv/T6+s3Vyk1BU0oPHSfYeRsqQ0sw1ilOXqS9N4jk1VNXAzvaRPXCaVO8ommFjJXN0H3mMemFmS0+MmTJIDSWxshZOxQUJvrv6rLy6h5SS1EiSWHeM5RsF/IZP+U6Z+750lDuvT4MAI2Fgd1mohooe12ksN+m6r4vUUBIzaRD6IaXxEqXxEoUbBRpLzQ5D2j5feZnpV3+X2MAh0kcfxMr3o9pxFMNE0c3IU6EosJIPIGUUCggjgfTQdwldh8Bp4CzOUhm/Su3OdUInKrcUloU5OITR1xtl7a6xz978ArUL59e1aSt8aMZUWCZ6bx59ZADr+BGs+0dRUpHhko6Lc3sS9/Yd/KUCWk8OfaAXvb8HJREj8cyjGAeGKP3ut2heXF2hVC5/gF8qotj2x8MkswGEolGYOM/8jTci5ZDiDIqqMfrpX4w4H+0knlNj5uJ3Kc9G8dFmeYHM8AniuRFQFOK54S2NqaJqGHaK+etvMP3By+s6XG1xgsLkRQ4+9tOkB46hqBqJnsOkB+9vx1Y+aqT6RskdeAjNsAkDj/lrP2T6wrfXGa5GcZbS5GVyh88w/PCLaFYCw04xePpz3PjebxH6m2fTKYrGxLk/oFmJylACr4md6SPdfxRVN4nnhpl6/2VmLqwQvgs0M0YifwDNjBHL9EczezrbZCZydI8+jpXME4Y+hYkPmPrgZZxKp+u8WZ6nMneTyuxNhs68SDw3hGbEGDrzAtU/mtjUHbsCIRSsVDf15UnuvPN1yrOdohDN0hzF6Sv0FGcZeeSnWpJSSdL9x9qkIx8HCncu4NZL1IszNEvz3G2YHaC2dIfyzHUOPPplUgPHUBSVRPdBrFQPjeLepBA/idDMOH0nPoOZyCGEwGtWmT7/RyzceHNd4X91YYyl8fcYOPk8PceeRlFU0gPHyR95lNnLr23pGRBCoOkWvpQs3TrHzMXv4NY7Y7v14jTl2RsMPvgFuo88hlAUUv1HMWOZLY2pZmtkj2SoLzaoTEYx05m3V9my6vN1yhNlskcy+I5P4VYRGUhuvnyb+14cZe7dOYQiiOXt1j1RsTImCxcXyRxMk7s/R+FmkfpCnWaxyeATg/Q82MP8Bwu41Y3d3NL3qE1cozZxHT2ZwezqQU9l0RPpSOZQ01FaHMAyDAg9r63K5NfKeOUCTmGhk6+ghdj9J0g+cpagWkG6bsdrHNR2P2HbX2MqQEkmMA8PY44exBw9iD4y0F6JhpUazo1xnBtjONdv403ORslHmobel8c8PIJ18hj26eMYQ/2kfvxT+IvL+LMRnZORzRO6Lon77kdoOsW3vr+vzb8XeM0q9cJ0u04JoDRzjdB3UHULKSXN8jzVpVX3lgx9akuTxHPDEU1dfGsyZSklTnWZmYuvbjpzdavLTL77deL5YXQzjmEnSfWNUpy8GKlAfITQjBiZoRMYiS4AyrM3NjSkK5AyYOnW2yR7j5A//AhCEcRzIyTyI+sMzFrUlifbhhTAqSzhVJaQvSFCUQgDn4WbP1p7poippV5CM2MYsfS6mJ9QNBLdB0n0RDH5emGa2cuvrTOkaxpPef4mhYkPsJL5yEhnB0n3H2N5fP3qsXNXiQw8ps6/svl1SsnC9TfJHz5LIj+CoqiY8Sy6lVw3iH5UcKpLO4rJO9UllsbeI9F9AMWMI4Qg1jX4p9KYpvpGo5WmqiGlZOHGm8xffZ3NPAB+s8rU+9/CTveRHjiKathkh09RnLy0bXhGSkl1cZy5a69v+g54jTLLY++R7j+KmeiKVqjpHmrLkxtPwqSkNFFm/oMF6gurhuTyV1aJH2QoWbi4yMKlxY7LKk9UePvXVgkdirdLFG93Gu3L/+FqJKuyZp5w9fevtUIFO6tn9SoFvMrOCBR2Ant0lPqF81TOvbVrl+5G2B9jKkDryWOfPIZ57BD6UD9aLhK3Rkrc6XmaF67hXL+FNzUXkTisZTDyfbzJWbzJWZqXbxIUSySffxp9sBfr+BGqLWOqd+UxevpwF+awhg5Gfu49MiHtFX6zgndXvDP0Pdx6GTttIQMft1YkvMugefVyuzhZNTqLiDdCaebqlrNKgHpxlvLMdXIHH4rkkFJ5zGSO+vLUlvvtN6x0T5Qg1DJUC9ffJNhgZrgWUoYUJs6TOxipTSiaQapvdEtj2ljuzL6WMsRrVgkDD1UxcWuF6D6vQeC77clFFCPrjJWohkV64Fib6Lw0dWVzQ7p6Yirzt8gfeQzNjLiCsyMntzWmEE0ISlOXtz586FOevd521Sq6gWbFPzZjuhs0ijOteGEE3Uru6XhCUVAMCxkEKJpG4Lkomo4MA4RQWtzfBopuEtSrkYRWs45ob9OSwgvDfeP4FUIh2XsY3Y6uzXcbzF39Adu50gOvyezl77Yy5wVWsotk7+FtjWngNanM3WzzB28Gt1GiWZ7HbE1qjVgmukcbsKjV5ut4DR+ntIO6yntM7P/c50zeedvDdSWNukQ3BL4vI8KkEPoGVOZmAlwXNB0eeljn4nmPRgPSacHhUY3FhZD5+YD+fpXJOwFBAMmkQDcETlNSrUryeYVYXLC0GFKrbd5Y6biEzea+0WHuzZiqCtbRw9iPnMQ8PILalUaJxxGKQHoezSs3qb/1Ps6tOwRLRcIdLJ39hSUqr/yA2NnTKHEbra+7/VvtxmW0VJrm9GQkhv0xG1KglZSy/gVcGbDDwGvH2Dp+Dzyit1Jpuyk2h6Q6P7Z9Y6SkPBsZUwDdSmHEMx+5MTUTXZjxqAMHnkO9sKqoshWalVVCaUXVsFLdW2wtcRvrJxdh4LUTVJxaYZ3uqJRhe2YuVG1d0qaqm22jFQYezfLCjlb2br3UkfwSyw5ssfUqStPXduSuXTspEEJtJxR90hH43prBSuzgXd8ascHDhASoukkY+KiGhWraNBdn8GplzGwPUgaREpPTwO4dip6zlCiGSeA0CT0XpzC/cSbnPUCPpTATORQ1mjzWlyY27PMbobowhtesoVtxVDOOnelrTQo2H9v8ZpV6YWZLdzBEk3p/zSRW1deUKN4Fr+ZtGLfcT5w4qdN0YGBQ5YffdxgaVpmbC9A1wcREwBNPGrz+fZepyQBVhQMHNa5f9UlnBUeP6Zw4qfPOWy5LiyHPftrkW99oUi6FfOEFi3pd0mxKxm75DAxq3P+Axh/8TmOdMVVicYz+fgD8UpHEI2dR02ncubmokqSFsFbFnd2dIMSe3uzuv/qXMUYGUOI2Qm+5chtNGhevU/3BObyJaYJqHXa5hA4qVfyFZYzUCIq5qn1odPdhDx0kcfRklIT0CaAUjPRA774+2X7RpQw3zLzszKrbJv4rwaktb71Na8NGaa79STUsNGPr9PF9RytOrK1IGmk6xz77V9q6i1vuqqirblehoJlbt31Dt3Er/T36fQMjuOa+izV/r0Az7HZ5hlA0hs98kYHTn9u+7ULBiKXbnzcqA9oI9R3WNodrDe5ddXMfJ8xEF/H8CFaqByOeiWT8dKtV1hVlrRr26mp0r81WLRuttfKUQUDQrOHXK0gZIhQVs6uHxtwEmh1HiyWx8gMETh2hqPjNOqHnrnK97pcxtZItCcfo4urL0zsurwh9l2Z5Dt06HL1DVhLVsLdMRArc5g5rYGWHUf4kEHdcOu+Sz1v09auk0gqVikTXIfAlng/6BnPEfF4lCODaZQ+nKfE8iR+ArgsUVRBPCN5922XkoIZQBMMHVBRF0GisfwZGXx/5L305+qAIFMtGz+cjN++aZ9a4fo2lr760q2vbkzHVh/tR0lFHCRtNam+8R+37b+FNzyE9f8cv1DrIqED77vTk2o0r1G9fQygK2cc/vcUBPkLIcOMZ4sqlS9k5EN4j/B3KGa2VPVJUbZ024IcNRdE63KdCKFjJ9SoNO8Fqvd/G71G4iTrRyuYr5Qi7OCOqEWuTBAghOgzkbqBs0/YVeNuSI6zH7u3RPjOFCUFm8AS99z9LPDvYKllQ1tRx31srd4LKrUv4XpPU4Qco37oYjRFryPad5fnInasoyDBg8Z3v0qrXiQhjpNwTEftGUDSjY8XtbZORuxZyzfZRSZEeiadvcYww9LdMzPukwvMkX/yyTTqj8MbrLoePaJx5VOetN1x6+1VOnNTI5xX+39+qM3JA5cxZg3I55NoVnxMPaJw4qfPyNxwGhlQeOKVhGIKvv9QgDKFWk22m2nRawQ8kirq+/zXHbjP9q/9o27bKe6C93ZvPJZQEy0Wq332T6vfPEZar+/OSCoFimcimQ1hZfanUWAzVjiNUFb0rH6VEf0hiwTuFXKNRuNVWez/Rzq7z7jq9j5qKTSidLkgpW7Pje3gvtpPZ2361u3syDlVbJbaWLbaVe4mp7HQCtV1d5P5g/wybZsYZOP15uo88Gg36EJUkIJFhgNeo4Dk1ArdB4DsIRSPVN9qOQe8VMgiQvkfp2sbxaNkqpVv9dwOv2H7PLRQV1vSz3T7T0F/TZ1uEHltBynBfJugfNX7tH9ZQI413whC+8u/q0RynNTz8vf8lco1LCRcv+PzPf6MUzY0l3LnTgK802tWQf/NvlNu//Zt/WUdKmJl2eObTBj/4nkN3j8LIQZVyKeyMBoYhYTPyWCm2jfS8u5KPBIptIVStw+27E+zJmBb+ze/SvHxzXzKh1kI6Dkv/4iugCILCauzByPVg5HpAQOnc61sbmJXkpH2ehX5c2OkKU1kzaIVh8KEIKW8FGYYdbm+3VuDm939r2/q5jRC248ofFWQHE43v1Jh87xtU5nYfTpBr/v7TAkXV6T3+DN2jj6FqBjIM8RplFm+/TWHyEo3C9LqQhp3p59jzv7xvxvSTCBn4HXFvRd3dtaodfXajsNEnA8LUEKpC2PB2NqYKgRo3kX5A2PSQsjPid7dj6e5Drh3e7547rP1t7X7vv+Px0Bkd14Grl7wt02oyP/Y8/vJylM3bMpxCU4mfOo2Wy1P4xte3v8Y12JMxbZzfvjD9XvD/sffeYXZd15Xn7+aXq17lQuWAnAgCTGASKVKiZCVSOVmh29Oyx/bYPe2xWzNjt932OMh2t1PLdivZsixSVKZEijkDJAgQOVVE5VwvhxtP/3EfquoBVUAhkVT3rO8jQFTdd8N555599t5rry0JQUVhimTSI6BL1HUoFPKCvCaTOfY6nmUS2bht5c8bBlpNLU4igRKN4eX8UJqbu0qe85uA1eY+l+YZheu8QZ7PIjzPwbV9htxZJRwzl7goE/ktASFwTF9hRyopyZzVOX0r4c2aweHqFuItWxYW/+zskK+0lVmZVfpWyNNda7iOVeZdasHVM5YlWJADFELgOfbyHIs3GXJAo+a+HQQ66pn81gtY06vQ+62O0vE795M+OMjUd15G2Nfem85kBC8+v7rxU6IxCv19Zc6gcF2cZIJAV/clX/stOdNDYYlf/fUI8bjMLbt1/t/fi/HL/3uY1s31qBVxlFCEQGPzymwGx0WvqsFY00Rs140YTc0Eu9f+3BpSJM7T413pwNCS3o+uXbwsj/CKIDycYnaBHKQZ4YvW0b6V4FiFBeasohoYoUqfDfq/PCSMaDWBmD8PPc9h/MiTFC9SNqQaof/pDapdSOOY2YV0QKhqzaqZVrJmECy9235pV+aiYh9vBoTrYU4lKZ6ZxrPemp7zpUI4NkokWi4lKMt+R7LLiA68JWe5qsL6DSqqBt1rVX7wPX9yxcQ0Rm09wdYO7MTcisZR0jU/vCkExcF+nEwaa3rqyqmEbxokonWdqzhMIta4buGfdiGNlbt6Rc6rRXFpUb8kUdW27eemjZZrm2RmS11HJIlIfecV10ZebVzaLBblDObL3BhIsrKgawzgFPMUMjNczE8OVTdddhmPQJTlqyVZfUu+w3YxQzE9iyhFgcJVzeir7MEaq+ssMYF98mAhOXlRrsCbAWG7pPb2MP2DV3GS/3P0cy0ODhLasJHItu0YrW0Yra2Et2wlvHkzxTNnLvl8V7TlliNh1Jo49uQMonj12GVCgOsKbrpZJ1Yh8d2HLa7fqWGND1IYDSPrOlbiAjtiScKamsSeX9ng/rwhWt9FsKK+rPTlXISrmonWdwF+vrSYnqGYWU1JzdVFMTVFbm7U1yc+Kyo/dmrFdnNvJbhWgdTYKSqbNqCoBrH6TirWrGd24MDCYvlm41JmtHDsBeF8ACNafZk8gsWSI2CRuXsB6OEqKho3lOXxL+2SXpmymBaKXnGd6jWBEKQne4i3bCZQEsxv2HAHwwd+dMFxVvQg9RvvKJ3CVznLTg9e89uVQwb1H7qZzKEhskfOlP0utquLQFsts48e8HOjikz89o0EO/yOWMWRWVL7enHT53vPalWEihvXotdEcdIFiiOzsEwjETmoE93RQaC1FkmWMCcSZA4Onmek1YoQ0es7MRrj4AmKwzNkDp/BzV0dW5M/eQI5FCS0cSOLW1SBOTxC7sTxSz7fFc3MwJa1RO++FTeZIvfSfgpHTl38Q6uAWRQ8/ZTJ5s0ae/dauK4gkfDIZgVO+uL1VV4+j5d/cwTerwUkSUIPRlmz/R2MHPjJst6mEa2h5fpfWOgeY+fTpCb73hQKvWPmSYwcI1rfSbCiHj0Uo3Xnexk/9kxJU3blEIoaiBCpaUdW1FUpCF1tCM8hMz1AerKPePNmVCNM46a7kGSVuYH9FxRwUPQg4epW9FAFs2UyhlcXl+Kb2Wa2rKyqsmkTUydfvOQWfcJzsYtZXNtE0Qxf47i2DTOXWJYIqIfjNG66k0h1y0Kp0aXCc2z//CVEatoJVtRjFdJvuU1yZvoM6ck+9FAlsqpR07kTK59g+vSeZXkLWiDCmm3vIFqSrXTtYklK8Nrn54XrUXHDWgKttWXGVA7oVN27HUlVmHu8JA8oBHYyh54zie5oJ9BSQ+7E6HnGVAkZNH3ubgLtdRQGp9CqY4Q3t6DXlZeWSbpK/Yd3E9nSijk+D0IQva6dyKZmxr/5Am7an6tKLMiaz91NoLma4sgckioT3dlJsLuR6e/tvSoG1cvnybzyCsW+PuSQXyfsFfLYM7MI+9Lz1ldkTINbNqB3NCPsBnIvXz1BddOE7z1cIFYhMzvjS0Y99O0CqdRbL/zxRsBz/bqyeNMmtECExPAxcnMjOFYBRTOI1rZT1b6DcFUTkiThuQ6Zqf6LytRdS2Sm+pnp20fj5rvRAmGClY20XP8eajp3kpkawMzM4jpWKXwYRA9XEaysJxCtRtFDZKb63xRjCr7O8XTPXoxwFaF4I4FYDU1b76GqbSuZyQEKqSnfqEqSL0oQqvTvPVaLFohiZmauqTG9FNjFHIXkBG7j2oVemF23fZKZvlfIJyZwrMJCyy4tEMEqZMjPjS674SlmZimkJn0NWlmhaft9qHqIxOhxrEIaWZLQQpXE6ruIt24jWtuOYxf84vhLZLiCz+YuJCew8in0UAVaMErLzvcR7H+V7OwIdjGLJMsoWhDNCON5Lrn5kbJa6zcKnmMyceI5vyVjTQuKHqRx891EajtKXZ4m8VwLVQ8Rrm4m3rKFcE0rSH49bGayn5m+V96QEK8wbRIvnqDm3ddjNFdjjvobq2BHHYGmKqZ/uA+vWNoAeILskSGKZ2ZQQgaB1pplzxm7sZvode1MPvgyqVd6QJaovmcb0a1tZcdFr+sgfvtGJh96mczBQYQQVOzqpu6Bm4juaCf50inwBNV3byWytZWxrz5N/tQYyBIVt6yn5t07yfeOk3q1d6G2+HIhGQbCtrEmro5W9BUZU7Whxg8ZOQ7F0wNX5YbOolgUdHXLVFZKnDjukEp5XGLZDwANG+/0m+lqAV96rNRHUA/GFnRUAdbd9XmcYg7XLi75zyQ3N0Ji+OgbLha/FEK4DOx5kK7bPkW0rpNwvNmXzUMgcbbQ2ygd65GbHWHsyBMX9aLWbHm7Px6lsVG1ALIW8EOBJf9HC4TZ9r7fwrGLuJa5ZGwKJEaOk5kaYLnAo98pxi9fatr2ThTNQA9VoAdjROs6EZ5bKqD3PW9JUhaL/4Ug9yaG84TwSE/0MCYrNF/3LoIV9b6qUyBCuLrVL4UoeUaSJJVaQfk9RyVJwl5G5vBNg/AWBM/DNW1IkuQrFlXUlZ7DKykqyUiSxEzfPorJKdxljGk+MUFi5BiBWB1qqcl183XvonHL3Qv9af1+nTqKqmMXcwwfeISazp1Urtl4Wbefmx8jMXKUurW7kWSZYGUDTdvvw3POykaebRotk505w+jBRymsYEzP9mLVQxXl64EWwIgskuSClQ1suPcLOGYO11pcC1y7SGqyl9ToiWXPb2ZmGdz7EB27P+53EDLCxJs3EWvoXpgzkiQhKxqypnP2HUuOn2botR9cloDH5SLx/HFq338jsV3dzJSMaXhTM8L1yPeMI5yldSkCz3LwnBXYuJJE7IZuvKJN4tljuHnfa0y/PkjlbUu+d1kifvtGPNMh+cKJBSJT5uAg1e/aQXRbO6lXehCOR+UdmzBH50m/2rtQM5x49hhVb9tCxS3rSR8YQFwhEary7rdjTU6SO3IYLkOk4Vxc0YqlRH1Kt5vKXNWcqWHA5z4f5sMfDfLEE0UmJnJ85rNhHv1pkVMnL20Aa7tvIhCrgQVlFlgQklsSL9NDlSUZuZJhEP4fyXCc9GTfm2pMZVklMzVI34vfpG3X+zGiNaXm4udCkBw5ztD+H12UeKRqfr5mQVLvHNWaBbk6ScaI1VEy1QvjAmAXsmSnB1cUNfAci6lTL5GbH6d5+zv9TiylcpkLwcwlSL3J+VXhuSRGj2NmEzRuuZt482ZfgF/R4AKEGquQIbnCYvtmoZCaYvjAI7Tf+ADBeCPge9Qs8xiyoq0YRxalVnqKFqBu3W5fNlAzlp2LhdQUowcfJTV+ikCkmorG9ZfF6nWKWSZPvoiqh4i3+kQ2WTUWNo9Loaj6BQlKWiBK3dqbS6Ury8350t+yghGpLvUlLZ/zSNKKxhT85+555is0bX8Htd03lRrILz/Wvjf7PJMnnnvDy2HsRI7cyVFiOzuZfeQ15EiAYFcD+d5J7OSle/ZGfSVOurBgSAGcZA7PLPeAAi01BNpq2PKt31j8oSQh6yr2XKa0MQKjMU6y/+SCIQVws0WcdJ5AQ9zXf7/0xy6DFo9T7O+7ahrvV2RMvXwBpboSr3B1DU0gILH7Vp3//PsZbr1dZ25WEIlIhMOXIaR2GWohkiSBLPtqK57LeZ6XELilyX+WNXwuPM/2688j6QpEAAAgAElEQVTOCq+fzRt5ZzV7XVzH9rtYXJTYIiFrGqmxk5ycG6WqfQeVzZsIxmqQZBXbzJGdGWL+zMELdlk5F8Jzr2hCrkYZSAiPzFQfJ5/oI1LbQWXzBqINazHClSh60K/rsnKYmVly8+Okxk6SnR1eDHdJEiAt5OU8x/HHXohlXwJfNMIf++VzswLh2Xiu5TcbuMAzqIqgmBqj/8VvEoqvobJpI9GGLoxwlc/AlCQcK4+VTZBLjJGe7CUzNVC2MOo6WEvWSeG5/rUdzb/2qnN/ixrPnrc4584ZnjIstSu52TOcfPzvqG7fTkXTJkLxRhQ95NfWWnnMfJL8/DiJkWMXXNhdq8DowcdIjBynuvN6YnVdaMEoEhK2maOYniE5epzk2Ensgl9ilJsbxrWLyLJ6WT1YzcwsA3sfomLwIFVt2wlXt6AGI0iShGsWsE1f+D010XMRzVq/efSVqAeJVSy8jpllaN/3mTr1IlVt1xFrXIsRrkJWNVyrQCE9Q3riNPNDRxbG6GLwPHfhe1m11J0AXHdxrVry3MJxSbx0ksZP3E5oXSOSqhJojDP9g1dxs5dXmrMqpTAJisNzTHzr+fN+Zc9n8SwHaRnSUtkJrhKh25qZQQ6FkdSV1Y4k2edQrWbIr8iYOtOzaM0NyLGof8UrjGEvhSegWPQnrq6vuHYuQlX8D51z0LGf/PklX1tvbSbQ2Ul23/5liUzF1BQHvv0fL3iOU0/+fdm/IzfuRK2qIv3SHrxsjunTLzN9+uVV39PZ0hK7mGHq1AtMnXph1Z9dDmZu/qLPcLWRnRmkkJ/Fbq1AIYmshMj2HUOLVyNpMmpXDfaMINy9Hq2yisT+PUTWbkI2AqQPv4bnWJx47L9e8BqTJ59n8uT5L+pZFJKTWGe+zuhJweT4yhOqpkbmfQ8EOXTQ4vXXbPKJcV+U/tjTq37emhqZP/xSBV/43GKUYLpnjx/+vgCCIYloTMa2IVohMTfjolsH6H/iNYyAhOeCIUOgQSESlQlHJSZGHDRdplAQOLaHokpUxmVCYZl00kNRIJ9zUAoHmD95gKwOE2PuZSpACHKzQ+TOlhBdBOnJPg4+/HuXc6HFK7oOybETJMcu3+vPJ8Y5/MM/uqL7uBi0mIGsKZiJAsX0DONHn2T86JNXfN6RPd9jcu9PQEBYjiJ5JgoamqQhBMiShC0sdCmAI2wUSUMuCOZffZqhvQ/jntt2zRPkjg4jbJfI9nbcbBG3aFMcm7usddycThPqbkAOaj4LGFArw8hGuUteHJ0n1FVP5tAgXn6FhuCShDmeQKuvBEWGkneqRAKosSDm2Pwqe6BeGLlDB6m8625kXcMcGS0Tb/DMIrqbpXODTtdGg5cezzI/c2GLekXGNL//KMFtG1GiYbTWJuwzo1dyugXYNvT1OuzcpVNbK/P++wNIEiQSyy9+ciiE0dGGMzePPbly6chqYQ2PYg1fnWc5i3MKCy4ZFytD+HmBEgohTJPkkQPoNXXYqQRqJEZi/x5kTaP6zneQOb564pEkQSzmG46zUs1Tky7FItTUykRjEghIJj1SSUE0JnHPOwMkEh6vvWIxPupi21BVJVMRlxCefyz4cqu1dQqdXYJ83mNq0kMIqG+QCYclHAfm53yWeaxCIh6XURRfhWVmenGuyjLE4zICSMx7F3VGuzfoyAp0rNVpalUZGbQZ7LW5+Y4gruv3gUzOeXiuIJPxkGXYfVeIE4dNrrvBwDQFqioxOeZgBCUKeUFzm0rDGhXbFkRiMnPTLqlEnvwF+j2+VSHrCkjgmddOUUeSJSRNQdju6hduWeK637mb+KZ6XvqV75MfX53XuRpE5Th1cgs5kQJkFFnHwSIqxZEkGcsrIiRBjhT1ciuKpFIUeYpi5ZCtWzDJHh0mtrMLazJJYWAKa/qce5ZAUhRkQ0VWZSRFQjZUf2xczze8QpDZ30d0awvxO7eQerUHSZaIbmtDrVyi3OYJki+eILyxiZr7dpB44QSe5SKpMkrYwJ5N+4bYE8w/d4y6999IxQ1ryZ0e9Zsr3LIeJWKQerUHsVL+9hIQ3rYdrb4Bo7nlvPRAobcH87lHMIIyk6M2hfzFIxJXJid45BTFU/0ENq0levdukt/5KV72ygt6CwXBQw/m+cxnw8RiEjffbPD97xUYGz1/AOVQkOCGdQQ3rsccGUOprMAaGsErFFBrqpFUFdkwkMMh3FwOa2QU2Qig1dchBQNIAuzpaZz5BEgSajyOWleDly9gj0/4uxVZJtDZgZNOo8bjfnhvZgZnbh4UGbW6GrWyEmQJZ24eZ8aXV1NiUbTGBvA81IrL6z5yJdACMuG4TiFtY+bKx666JUh6xsQuef9GWCFUqZGZtXDMa8codHM55EAQo64Rc3YKt5DHs/1wq1ss+I2fPQGy7JNZluvJtPQZdbjtbQZ3vT3AQL9DU4vCd7+dZ6Df4VOfC1HixZDLCb73UJ7OLpXtO3SKRUFVtcLD38pRLAo++ZkQSKCoEvNzLs88aRKNyuy6UWH9Ro14XOZv/jKDJMHnfilMviCQJeg57fDyCybveFeA5hYV1xNomsRXvpz1u9XK0NausPsOg5Ehl1deNsvCvsthfs4lm/YwC4LeEya64Te9Hj1jo6gS6ZRHJuVRVSOTmPOIVcqMDjkM9tpUVitUxmVmJh1yWY9c1r8HxxGMjzgoKgwPOqST7rVq7HLN0XBrB8L1mHjh6pIelyLYECW+qZ75Y5MUJlfXm1RWZQLVYdSghh4LXFVjqqCS8uawMQEJWxTRpQAFkcMWJrYwUfHz3UlvBg8PTdKxhbViIw6vaJM+0E/lbRtQwwEmH3oZN1Me4tVqYlTs6kKJhQitW4NWFSH+ti1YMynyvRPkeyfAE6Re6SG2q4ua9+wkvGENwvGQVKVEElq8fvr1AULPHKXy1o0Euxpw0gVkQ0OviTL+jWcpDE6BECSePUaoo476D91MYXgWSZExmqpI7+sjc/jMVYmCpl95hezrry8/NpZFVVSmolKhul6l97hJIXcNPVNhWiQe/inxB+4juG0DXiZL/rUj2BPTCPPyE+pCQG+Py+//XppwWPJ32tryb75sGGgN9ag1NXiWhaRr2FPTUCgQ2rgRY10XZv8gcjCAk0hijY4jR8Lorc3IoRCybhDasY25bz/slzrEIoS2bkbWNBI//RluKo2kaVR9+APkDhwGz0WJxUDaSOKRR9HqawmsX+fX0sky4R3bST72BG42R/TO25ANAzeZQmuox0leOcszXKXR0B0hO28zN5KnuiVIuFInNW2SmTFp2hQFARM9WbSgQtuOSiZOZZgfLdC4LkIgqjLZk2XTXXXMjxVITRWZHsgRjut07IzTu2eOXMKieXMMWZWY6suRT109sQJJ00B42Em/xkwJhlAjUUId3chGkFz/KZxUgvDaDX64t6rGP/YCkGUYHnL48l9n+cXPh6lv9MOf8bjCH/w/KQxD4t//TpTWNpXX99tsvc5iYszl8Uf9XP+mLSp33G3wlb/PUVEhsWmLxrHDNq4reP4Zk5dfsPjPf1pB91qVaMzvofjXf55h/UaVt78jQCEvWNOk8v2H8wwNuvyn/y/G9h06x4/aVFXLfOBDQfp6HV5+0VyVStnYkH9QKrH4Di2ns7BcO98De5bwF5Z0oBrstVc8z88TJFWm86PbyZ5JXDtjKkHl+lra3reZwnR21cbUs1wGvnuEYH2EzNDVVR6b9Zbpe7vc9ygu8vul8AT5vklmHtmPsBxyp8fOO0QJ6hhNVYBEYWCKwsCkb9ga4lgzaZ8I5AncvMnYV5+m4qa1aDUxnHSezOsD5E6OYk2nFrx7YTlMPryH3Olxgp31yAENJ5kjc2gQayq1cM9utsj4N54luqubQFMVwhOk9/eROTSIm706HB0vl8W7gO+XciTGhy1mpx3y2Wvsmap1NcjBAMVT/agNNUTuugWjqw17Yho3nfV7ml7kGy0cPok9snydj21DMul//t136xw76jA8XL47cBJJcgcPIxsGudcPYQ4Nl/1eDgUXc5+K4meSXRdhWXiyX4YRve1m5h76Hnge5plhJE0ntG1L+XmCQazhYQqnelCrq6n+yAOoVVUE1nYTXL8Wa2QMEAS6OjFaWzBHxwlt2sTUP3wFL5sjdtcdpcLgy4esSNS0hejYGefEczNU1AVo2hQjM2MurJDBmEZNSxBFkxg/lV3wMoUQ6CGFxvVRotU6SKAZMrE6AyOkMD2Ywy3R4Vu3VdCyvQIz49CwNsLeB69SyFuWCTa3URwbRrgOgcYmPxdeLCAcB8dMkh8eQFgWub5TCNsmPzSAm7nwDt+yxEL41DJ9j1EgFsVXpBL/y4/4Utr3LECIUpMhVzA/J3j80SKppFcW+SlNFTyxKOoisdAmExALjt7Zc0sl4sLsrEdlpUxlpczc7OV5/ZdlAJf5zM+zIQWItMYJNcTIXWVjtRRqUCPaXoUWufTa2LEn3/oqX0vhJLJMPbQyd6M4PMvYV1bHE7DnMsw+Wu7pFYfPb4IgTIf0a32kX+u78L2lCySeObqqa18O5FCI0OYt6PX1SGq5KbTGRike3n9J6pVXZEzjH3sPSrwCSdeQI2FkQ8dY247e1Qau4zPfLvLyOnPJBWO6pklhfMxFlqGzs/zWbrrFYGzMO8+YnsVKl3Fm5hZJRK4LikJo6xYkQ8ccPOMPouzX2F1snTlrqIVlIWwbOWAgBwLYU9MUenpBCAqne7GnZpBDQZBl3JI36mazSPqVtaHyPMH8aIGp/hyVjQEc08MquAwfTmHmXTpviKMHFdKzFrG6AOOnFuvW6rsihKt05kcLNKyNUMg4TPZmkRVoXB9lenBxi9awNkIh7ZAYK6AZV1G+WQiE66JWViGV6uzcXAY8j/zwAG520QPI9Vwa0eRcI3HymMP1O11+/T9EkSSYnHDpPe34XvuYyy236XR0qXzrn3IM9js89bMiW7bpeJ5gdMRloN/BtuD2OwPceLOfh+zr9TeHu27U+c3fjiLLcOqEzcH9FtXVMg981N8sZTOCQ69b6LpEMuHxyA8KvPPdQe682+CJx4pkM/7NyoZK/S1tVG9vRK8IggRmokCmf46ZA6MUpjLnTWw1rJc+swYtFsDOmiSOTTLx/ADOMoQO2VCp2bGG2htaCNZFkNVyjWQ7azL6ZC8z+4Zpv38LSkBjZt8wLe/agFEVYuKFAab2nKH+5jYabuugMJNl5LFT5EbLoyySKlN3cyu1O5sxqkK4RYfkqWkmXhjAnFvM20myRNW2RpruXcfIY36BfsNtHYSaYghXkB1KMPpED/mJxQ2UFjOo3dVC1dYGKtbWoscManY2c+OfvHthfAozWYZ/cpJUz0zZPVVva6RqWyPhpgrUoIZTsMkMzjP58iDZ4WTZ+Ma6a2i8vYNIW5z4pnq0qMGmL9yClVr0hMaf7WP0iXKD2XhnJ833rkNSFt+Vw196DnN+5XylpMrU726n5vomAlUhXNMh1TvL5MuD5MfKN4+hNTE2/8puxp7uY+7wOE33rKVibS2yJpOfzDDxXD+p3hmE+3O+U3qDEd6yjeDabqzJCWK7byP90ouoVVUYzS0UenuQJKhr0mhfZzA2aGEWrmGYV29rQqmMnfdzSZZA1laVklk6Ab/wy2H+0++miUQk/upvK5heQuLo6FT46SMrULY9zy+cN5YxVueweyVVQa2pxhodpdg/SHjnjlWLZy+teQKBsG2cZAo9HMKemsZNJFGrq3AzGXBshOeit7ZgT02j1tRcNP93MciKRGVDgLqOEGbOpW/fPOtvrSb+wSYmejJEqg1atlWQmTHJJ23WbIrSfVOcUEwln7Zp3hQjny4x7TSZzXfXYRddJnuztG6rpHNXHNfyGD6aZsd7GjBCCqPHr17eByHIDZzGnBxDMnSM7k481cGeH0fvaMVNJPAKBfTmZuypaYTrIodDeJks2poG3GwOe3SsFPHwYVuw50ULVfW/w5/9tIDr+iSgf/l6nkjM/3k65S2QbV54zuTYURsE5LICx4F//WaeykqfJFQsCObnPR761zyBoISq+Hn8ZML3fr/+jznCYQnX9UlxuazgiceKVFb6BKRcTpBOCRRV8Ie/myaZEDz2SAFN98lA4Bu5HV98O1VbG0BAcTaHElAx4kHE3d3YWYviTLZsgdRiBpt+eTd1N7UiHA87a6FXBmi4tZ36W9s59MfP4OQWDaqsK7S+awNdH70OO1skM5BACkvU3tSKoikkTk4zf3yS4qy/kYp11RDtiFO7qxktahBtryK+sR69IkD7/VtRDIX6WADhegx85wh21q8plFSZzb+ym8Y7O31d7FQRLaxTd3Mb9be0c+Qvn18MlUoSgdowDbd1oMcCBOsiaBEdJ28TqI1Qf0sb9be2c+B3Hydf+owS0Ag1RDEqgsiacnYqlRsPT5y3oaq7qZUtv3YbekUAK21iZ4posQD1u9upvbGF43/7Mum+RVnFQHWI0JoYSkBdkEAUnigjIC3n2ZvJArmJNEZlkPpb2tFiBurfqKxUea+GdDZ94Rbqd7ch6QqFiTRqQKPuplZqb2yh55/2kzg6ufi9R3Tqb20HSaL5HeuIdVdjpU20sE7tja003NbBoT9+hsSJyStjOb4JaLjN37xYqSL1N7diVIdInJii558PYC/ZxLS+dxOSLFGYzNB07zrCzRUUZ3Ic/S8vLGxa1LBO4x2drLmrGzWskzgxRd+3XsdKLm83jLZWcsePUTh1isj1O0ntedlP+23ejFZXj9VznMkRm4q4sqqIzhUZ0+QPHkcyrsxAmP2LYdm/+FJmwfaNj7v89m8tLuT/7gshisXln8hJpbBn54i/9xfwbIv5h3+APTG57LHCtCj29RO97RYit9xI8XQfbiIJQiAFA1S97xfQm5tRYlH0hnoyr+zzvc5lTybIHz2GHApR8+mPIxsB3FSKmW9+GzdfIP30c1R/8AO4Ja1ga4V7Wi08RzBxOsvscAHP9rBNl/nRAooqYZfCuT1753BND88TCA/GjqVxHYHnCQYPJHHtRTapLPs1W3bRRVYkBl6bx7E8XFswN5xHksAqXl3GpLAsbGve38CEDHBdJN3AS6ZwpmZQG/zm73pbC8XTvSihIABuJosSjeDoepkxFQIy6UWudCKxOEfm5z3ml0m35rKCXLb8uVJJQSpZ/rOVQrKzMx6z50ioZjOCbKb8864DI6VISnrJPQLU726j/pY25g6Nc/hLz+JZ/nF6RYBoRxXJ0+WehqTKdNy/lYZbOxh94jQD3z2CW7BRIzobf+lm6m9tZ/1nd3H87xbLbqLtcZruWUthNsvJv99LZtAf99pdLez6g3fgmjYDDx/Gsxefs3JDHQPfOcLg94+w5m1dbP7V2+j66HX0fOM1MmfmWf+5G6na2sjoEz0LxrT9A5tpefdGpvec4dRX92FnTZSgRueHt9Fy3wbWfXonR//qxYVnBDAqg9Tuamb40VOc+cFR7IyJGtTY9n+9jZrrmmi/fwsnvrwX8Dcagz84iqTINN7ZxZZfvZX5oxMc/cvnF0fUE7hmeUJ6/sgEo0+cZmrvkG+YPYEWMej88HZa37OR2p0t5EZTuEX/c7OvjzF/fJJAdZj1n7+BaFsVvf9ygPlji+/t0mc4i8SxKVKnZ5BkiUhbnMrohdsldnxoK2ve3k3i+CRH/+pF7IyFrMnU3djKhn9zI50PbOXkXL6MwCTJMnU3tZLqm2P/7z5BfjyFrCt0fWQ7re/dRMeHtpL645ll7++tDL0iQMt968lPZhh/pg8kWPvJ6wlUhTnw+08sHBeoClGzqxk7ZTK9b5jJFwaIdlUvRA1kXaHlvvU03bOuFA3J0fb+LVz323ex74uPLrvJkCQZUSzimSaeaSLrOm4mjT05QXT3reSAYFheSPFcDBc1pqFKjTWbKpnuzyBcgesKnKJLIKZRPHSYQETDKjiE4zpmzkF4AkWVEZ7AE/5CrQcUghUaRlhluj+LFpDxHD/5ZMgCdBnH8kil/DsuFARf+2qe+bnFl3yg32Vdp86uLQEGhhxe3Fvkg+8NEzQkIhGZPftfo2vgMBvX6jzXnuOG+yv4b1/fy/33h3mpQ2XndoPKmEw2J0hlB6hJjrC2U+O/n0jRmtnD/Z+L8Nohk96nf8wdbwtRX6vSN2jx1LEcnukx+gd/stAm3s1kmP76vyxU8qafeY70s88vsjtKP88dOEju4OHSE5SUVFartiEEQngIz/MFDEpfpmN5ONbiOaz8OTnkc5i4S4+9EEvXtcUCsxegmL0wU+aKiSxCIMkyciQCnoebSiEch0B7m08kU1XU2lq0NWtgcgpnwSouRhFk+aqJl1wUqmygygZFZ3GBC2tVhPUqpnMXzv0sh0BtBEmRmTs8TnFmMcRupYpkR5LnvfxaWKfjQ9vIjabo+ef92Glz4fhTX9tHzc5m2t63mVNf3bdgHIzqMOGWSkYePUnmTAIn70clJl8exEqbhOpjKLqKZy76ULKqMPF8P8WZHOPP9rP5127Dc1zGn+sHSSI3lqLuplaUgL+JlnWF7k/uxM1bHPublzATJS8gVWTg4cNUX9dE8zvXc+prr2HOLWF7SJA6PcPIoycXQsZWqsjpr+2j9u8eoPr65sVjPYFbKL17Rdv3Sm0XO3thkqOdMen5xv4yz9JKFZncM0jN9U1E2+MoAW1hvDzbxbNdnICG5/jvnpO3cS5yHeF6uKWo1cVCrcH6KA23dSAEHP7z5ylOL6ZiJl4YINxcQccHtzH+/IAf6l7qfNsuff9ygOTJxfK/oUdOUHtjKzXXN19E7OCtC1mVGfjOYWYPjCIAO21y3X+8m1h3Dem+xZxrqCHG6//4JInjkwghmHxpcOG7DTdVUHdLG+PP9jH4/aN+ymA0xe7/8j5qdjQx+/r55Cp7bhattg5pYIBifz/VH7ifzGuvEdqwES+fRwhQNYlIhYKyig6SFzSmsiqx6Z5G7KJLaE6jriuKa3toQYX5kTw1bREme9Mkx2xatlUQjGklryZHXUcYz4PJnjQb726g72V/53bde9fgmi7FrEMx4xCIqpw5MI8zvzhhbRv2vlw+gR96sIChS3z0/jA37gjw8itFtm7UmZlzmZl1icdgbsZiX8omn/fJI4bmEdD9UoVN6zUSSY/xKQdDk3j9YJ7EnEpAF2xdJ/Gjx3NMTbnU1Cisb5dIZWzyGRuJ0mrtnGNclkpirLSiLzGsl4qrVex9LdDYovDFL9Xy6MNZnvhh9rJlLc3+wfN+lnmxXNDA7F00VPb4ooewdrPOlx9u5E9+e5anHvEXaV0JETPqcD2XlDmBJxxCWpywXkWmOIXtmYT1KoTwUBWDvJ3EdLJUGGsIqhFS5jRFJ01AjaIrIWRJJWPNIBA0RbegygYpc4LZ/CCKpBFQY+SsRddXk4NUBBrwhEeiMIJgZUufOjmFZzl0fngb+fE0068O4Vqur4m6zHoc39KAGtLJDicQrkANL6Y0zPk8XtFBjxnEumpIHPfHqSSO5C845+x8hOvXDMlaeU7czlnYpVCxlSr6ra9m8349oCzhmi6yriAp/sId39yAURlk9sAIruWW3ZedtXDzNrKuEOuqZmaunDqZGUmSOVNOJMoMJgAJIx5ccewuBUIIZM2/37PGRrgCx3RQAtobboAq1taUxmu0LIwJ4OQs0n1zeLZLRXc1M6+NlIXtnbzN9L5ygmVhKotrOhiVQZSgjloZwskWwfNTCQBIEsIVyKqMZzt4poOsKWiVIexkHrm0MfI38P7ckHUVa/b8nP21QH4qi5koLBjGmddHkVWZSFtlmTFN989RnM8tMoOXzGm9IoAWMfx0Sem582M+O7hibe2yxjR76KDPlXEcks89S90nPkndxz6OOTbK3CM/RtMkXEeQTXurqsS5sGcqoJi1UTUJI6RiF/3aNNf2MEIq+aTFxMkUVS0hjJDK7JAfGtQCCoW0Q2qqQKw+QHbeZHYoR/PWSooZG1mWSIzmSU4UaL+hGlUvf6EVBdo7VAb6nbI1oLFBoWgKAgGfQfnTJ/PsvM4gkfQ42WNz+y0Bbt4V4MeP5Th8zOTTH43SvEbl0SfzPPNikS0bdBIJXx3GNAW5vIdtC554rsgnPhhlcMjmsacL7D1g0t2uMpdwMd/4DmZvebgOzE65FAvem5qiWZrqlpCpCXWgKyGy1hwSEmGtiq74LUzneumuvo3R1BFqwh0okoYkyWTMGaZzfYS0SjwcNtfey6GpH9MQWYcsaQg8VFknZU4gSyqusLFd3/MSeGiKQUTvIJeaR5E1uqpuJlEcRxEXl+iYPzpJ34OHaH//Zq77j3dTmEgz8ngPU3sGyU9mFryls4i0xpE1meZ717Hm7u5lz+kWHdTQYtqlOJ8nN5aickMd0fYqn3AjQ9XmBoyKINM9I4ueZAme6SzU8AnPTw+4pQ4i4uyfSwY+0lKJJEvU7GzhHT/87PL3ZTpoofJ0kGe52KniOTwE3/uCJdrQVwAlqFGxrpamu7uJdVWjVwRQAipKQEOLGP5i+wbDqA6hGCr58dSyYhB21sRKFwnURlAC6qIxFYLifP68MK5XEk6QZInK69vwHA9JlRG2i1EXA8/zjWamSPrEOEZ1BCEEqSOjRDc24hZtnFQBt2gTWVsPApSQjps3mX2xBydTvgBKmoJeEUDWlzcdnu1izefP+14vBM90yo4XtovneGiRcv1lJ2+VC/AvvS9VJtoWZ+tv3rEgoH92PGV9ebfSmZvzmzxoGngek//9HxcrPgB0QIBjC1ajQHlBY+q5gmM/myirV1u4+SVhvrmhPHNDF5cWS04U/PMsOd+JJ8/PI0aiEn/8pzE+8+nEAmED4Myww9iEs9A95pX9JvteNxckTh/+UY6hEYdM1qOnz+bZl4oL4zIy5vLSK8UyJ7Knf7F+8k//KrkQNnzy2QJP/ZzX411LTE+4/P7/ce37Ll4KBB55O1nyKP3NWZMEAIIAACAASURBVGVgDR4eAS2G5ebR1SCmk8Vy88iSiiwp6EoACdBkA1lSkJAw3Tx5O4Ei6ciSguNZFJwUrnBImf589YRLwU6hKz6DN6hWkLeTzOXP4Hir24H1/tN+pl8ZovVdG6na2kDXx/xc3tCPjjPy+Oky4oRiqAjXI3FqmvkjK7SMEvgM4BKyQwlGn+pl7aeuZ+tv3E6qZxZZV6i6bg3Jnhl6v3ngvPdaeOL8Iv8LNbg2VBCC9OAcM/tGVjwuO1aumSs8gbfCwng1IGkynR/cyrrP7CI/mWH+2CSZF+ax0kVC9VGa79twza59IciKL/a60rMLT0DJi1y6oRCsoPi05LvJnZkl3FmLkymi10TxbAd7Lkd2YAYkifzgLHYyT7i9BiWoIzwoTqTQq8IIAU7OBE9gzmSw04VliZmR9mrW/eqdxLc1LXv/6Z5pjvzeTyhOrp64qEaNMoOnx4NIirxAjFsNPNMhPTDH6BM9zB4oL+WzMsu/j5Kqojc3E+zsQq2qZu7730UIgVpdA55HVE3heZCYcfBWwZReHQHpatWriXP+XukwzyePLBeBOVePeKlxFMI3kI4jcL3z7/Fi+bVzz3UxSDLU1Cm0dWvEKhSEEOSzgtFhm7Ez/u4oGJLYdJ1BOuXRe3wxZBOJydx8Z5Djh0wmRhxCYYm1m3TSKQ9FkWhqU5FlmBp3OX3s/GL/qhqFjnUalVUKjiOYGnfoPW6VhVyrahVa2lVGhxwiMZnWTg3DkMhlPA7tK1IsCBqaVdq7NU4ftZifLX9Zb7wjiCTBq88XFq65YZtOJOYbq9NHLYYH7PPGSpahvkmltUMjEpPxPEEu4yv4jI+UP0htg0J7t04sLuPYgslRh96TVtlOUFGhuU2jtVNDMyTmp11su/yiEhKmkyFjTtMQWU/anCJnJ9CVEInCKJ7wEHjoSnjBWEhAzGggbFQxne3DDpulBUSUWpMtnt9xi0SMGop6LRlrBlU2CGlxAmoUQ4nguEUUSaPCqMfxbNLm1AXDvGeROj3D0Z5Zwmti1O9uY81d3XR/cgdWpsjYk70LnpqVLCBcQer0DCf/fu9Fzwu+pzp3cIz6W9pQgxpKUMU1XYZ+dIzJl8+QPXPltZpmsoAQkB9Nr/q+3ghE2+J0fGg7TtHh8J89x/zRxQ1IzfVNNL6t6025Lytr4tkuekVgWQUqxVBRgip2xlz47leL4niSXL+/yZWDGkZNhMJI+Xfs5i2KpY3NzKTvmV+5Zt2VIVATpnr7GqxkEeEJ2t6zEXM+XxbivRgKMzmyw0lCa2JIByWstImiKwRqw2UbzLLrdnQQ230rXj5P5PqdzP3w+0hAsLsbtbKS/IuPMzftMD4srr1ow7WC4/h1gZ/9fIjTp5wFA3HwdWtBxGElJJJvXAPxhiaVD34mRmuHhm0JZAWCQYm9zxV46Kv+zixeo/DpX6nk9DGzzJg2NKl88Us1/NkX55gYyVJdp/CJf1eB58HcjEtlXKGySkbTJb77jTRP/nhxyje2qHzg41G6Nuo4jq8OZRgSj30vy6PfXSQ0dKzV+MjnY5w+ZhGNyVTXKQSCMkZA4sQRE7MoaOvS+KX/M863/j7F0z9ZvEY4KvFbf1jN4deKC8Y0FJHo3qizfovBzlsDfO2/Jhkdss8z9O1rNR74xRi19QqO7UdOAkGJF57I8/1vLk7sti6ND3wiSkunhuP4uW3dkPjJQxke/6F/L5IEG7cZfOzfxqiqUUklXWwL5qbOJUhJqEoARdaYyQ9guyamM05AjRBQo7ieTcaaIWNO43g2suTLFTqeiSzJ6EqQqWxv6bhZLCePIheRkP3+ptYUhhrBUMNkrBkUScUTLjlrHlXWyNtJUuYEmhxEkQ2wplefbxKC3FiKwe8dpTCTY9Mv30J8cwNTe4YWvNPkySkQEO2oQosZCwSkC0FWZWpKdZ8n//EVZl8buSoC4UuROjWNZ7vEuqox4sHzwsZXG8L1w1DSCqG7s4i2V6EYCsmemTJDiuQv3kZlkOwKwg9C+N6hpMgLueGrhexQAjtjEt9Yj2KoZWFbSZUJNUTRIgbZkRROYRXKYyuEw72CfZ4hfavCShSIb64n3FSBElCJtMUZ+M5hClOr7+9anMky9lQvzfeuo/uT1+OafvcZWVU49rcv4dnnk8hCmzZTOH2azP7XCG/bDuB3sUokCHR0UMwLxs6sXv3t2hhTWV697ucywg6eJ0gkBM0tCqGQdLZpAH29Dskl5QuqLiFJviKNokrICuiGjG5I2JZANySmx20CQRnb9hVxioWrt5h0rtfZcWOAH3wrzeF9JqoK1XUK6cs06MGQTDgq8/zP8pw6YhKOyHzm1yr5t/8+zqF9RWYmXYJhibfdF2bdVoOffidD70mLQEDiA5+K8m9+M87poyb9pxcnQHWdyuYdEo99N0v/aQvPW7xH4cHoGZvpCYf1W3ReeS5PLuuPzw23BamuV3jse4sTemzI4TtfS7N2k07HuuVLoiQJtu4M0LVe5+Gvp+k5bqLpEjV1Coklnm8kJnPv+8I0tWv8+MEMZ/psgiGJD302xud/M87p4xZnem0qq2TufX+YirjCg19NMdRnU1Wr8JlfrSy7rsAjY06TMWdYOqEms6eRkBa8UdM9fx+et1Nln8mY0/7/LHEMLLfAWOb4wr9NN8dUrrx4f74wwrI5kWVQsb4WJ2eVix/Ikk+WkWU8q1xgPTOcYHrfMFVbG2h91waGfnKyjJwSaoyhxQxSpxfD77KuEmqIogbUBcLR1UZuLMXECwOseVsXnR/ZTv+Dh8pEDgJ1EYzKIKm+2auip2rO5xGeoKK7Bi1qYK8QwrMzJsITGPGQ75EXHJD83HPDbR3olSsTnDzbxUoVMKpCBOujSIp8STnACyF7JkHi+CRr7uqm9Rc2Mvi9I35pkixR0V1D452d5MbTJE9P/9yVuVwuinM5xp7qRVJk1IDK6JM95RsgYHLPGbQjE1jp5aUEhSt8ZvxcjmhbFWpIw7UcijM53BU2JZKu42Yy5W31ZBk5HC7rILNaXBVjqlRVELphO3rrGuRwqEyI4WJIP/4CxWPli5JlwXcfPn+HO7ukBY4kwe57IriuoJD3GD9jEwrLxKoUPLfE4pMkNl0fpLpOZXbKYXrc5uTBwqr0UVcDzxUEwzLxaoV00iWV8BY0UC8Hsgx9Jy32PpsnVeqQ88NvpfmjL9ez46YAT/woR3Wtws7dAXqPm7z4ZB6zVHv7yIMZ7nsgyo13hOg/vbhAB0MSe5422fPMYoeQob7Fe5yZdDl+0GTnLUEamlX6T/m/e9cHowz32xx7fXGxEsLfjGTS3ooJeSH8cYnGZCriMvOzLvmsYLCnfFwamhS23RDg1RcK7H02z9mN4yPfznDPeyLs2h3kTK9N/RqVDVsN9jxT4NXnC5hFwVC/TVtXjq07l2+Qfv5PLraIr9qFvErHQNM9a6na2khxNoc5l8ct2hhVISo31CFcj5kDI34OqwS36NDzT6+x5ddvp+tjO6jevobcWBpJlTGqggTroySOT5UZU9f01X4a7+xk86/c6oeKhUC4guJcjvnD44w/P7DiYrMaCE9w+uv7MOJB2t63mYq1tWSHEyD83FewPkJ6YJ7jf/PSVTEOqb5ZMoPzVG1p4PrfvZfMgE8icXIW48/1L3ibiZNT5EaSxNbWcv3/fQ+pnlnUqEHluhokRb6gCL2Ts0icmqbpHevp/vgO4psbcHImalBn6pUhpvcu8kP0eJDKdbVoFQHUoEag2m+Y0PzO9RSmsjhFm8J0lsSJqYVa2IHvHCbcXEnXR6+jalsjuZEkakijcoOvutT/0GHS/asPcf68Q5IlcqMpvw56BaR7Lz4ewvHInkmsOn1hnjlDeNu2hX7TelMTel094a3byB5cXgD/QrhiY6p3tlL12Q+ixit8BSJZviQmXu7V89tteR7MTLts3KRhWYLTpxw0rTxfKknQ0qmTTrqMD1nkMi5dmwwKOY9wRGF82KJjvYGmS8xNOz5hyvM918JVIj6cOmry7KNZfuHDUe68L8yeZ/L89DsZpsYvb9EQAhJzLpnU4v31nfStTEunDuQIhWWa2jQ2bDXYffei1q+mSyiKn6tcCscWjA3bK7baMouC3uMWd74zTEuHxsBpmzWtKlt3GnzrH1ILxvpSsO+lAt2bdD7+SxW864MRXnwyz08fzjA/s/hc0QqFxmaVj3wuxrseiJQ9hyRDXaMfxgtHZUIRmdkpp+xeBk5dfiOFtwLmDo37Bf7r6xY0YO2cRfLkFMOPnmLu4Fh5zaKAVN8ch//8OZrvWUf97nbiWxsRroeVMUmenGbypfJSo0B1mIq1Nb6aj+TXhAoBiiYT66qm/pY2YutqOfHf9qzIklwN8mNpDn/pOdbc1c2at3XR9Pa1IPnEj3TvLNN7zlzR+ZfCzdsc+YvnWfvpndTsaqZqSwNOwWb+yATSi4vPb6dNDv3Js3R9Ygc1162halsjVqrIzL4RRp/upfOBrUjq8pt+4Qpm9o3Q8/V9tL53E01v70a4AnM+z+zB8hKLWGc1G/63mwnWRpBkCbX0XXZ+ZLtPMvIEc0cmOPhHTy0wtDNDCQ798TO0vncTjXd0UL19jS8n2DNLzzcPMLt/ZKGu9qL4/1mSl43skcMIIYjdejuSolD3iU/iJJJk9u8jd/zYJZ/vioypFDCo/vyHURtqL8mAeqaFPTRGse9MmQLSWeg6fOazIT70kSBPPWUyPZXjU78Y4mePmZw+VSqw9uC7X5kvlXIKXBf2PZvD8wSy4tcHjZ2xEB4gCRASXum4q4XErMc//W2KF5/M8473R3jPR6O872NR/uyLs+x55sK5I3mZlM9Zg7806nDWA1RK35SvxiE4sLfAvhfKryGAof5yL8N1wLmI43Gmz2Zi1GHzdQEO7Cly+70hVF3iiR+uPmexFNPjLl/+kwRPPZLjvvsjfOTzMR74VIw/+q0Z9r9cXHgO1xXsfa7I0f3loRtPwJmzXU7kkpj8OWuxfZWiC28Wpl8ZZu7gmB/FkaTSd+8zXD3TWT636QmyZxL0/PN++h48WJK8E3D2c0s8P70iQOdHtlO1fQ3H/volZl8fLdWb4jc5iBrs+v13Unt9E7GualKnZzj+dy9z8h/2LtSZCtfjyfu/sUiE8QS93zxA/4OHztMBLkxmGPzuYYZ+fHwxz+j5pRuetfg8wvWYeG6A6VdH/DKccx/Rcnn8fV+7YG43O5TgyJ8/VwqJS7637XjnlRNlzsxz9C+f9yUIS+UHnuXiWg6H/2IeSWLFvKSdMRn6yUlGn+xdjLR5AqdYfvzc4XH2/saPLliv6p17bwLyE2l6vvEa/f/6OpIsIxB4dmmszmGOpvvneOL9X1+WASxcwd7/8AiyIl9RhOF/RYj/wd57R9lxX3een8r1curXGd2N1MggSJAgwShSOTtblj32jnzGUTPr2VnPGac9Xnv3eOzdtb1eh/Ha0llblkRJlimKSgwiRTGBJAJBxAa6gW50Di+nyrV/VKMbjX4NdABoedffcxC6X72q+lX43fu793u/1zSpnjhO/fSpoDxGEIIGKLa9Ln2ADRnT8MG9yNkMAF61TuV7R6ifOINXqZL84fcTvu9Oil/+Fo1T5xB1DX13P7H33I9vu1S+9zr1N082pdjqIYEHH9L4wz+ocvh+lVzOJ5EQiUaXPrDXr5psK/jZdYJ/rSUP5do9OFERkXQlqG9agRptmT7n37a4cDrP439b4vf/opX/8DsZXn0+oGf7XnA+kiQsUexpbZebOiDhqEgovKjh2toZ3KK5KWdhzJWSx9iwzXeeqC4Lt67HUQ2YwCaHHg6Rzko89L4wx181mJte/wrbaPicOmpy5rjJ5/6yxB99ppV//zsZfu4DgWffqAfM50vnLb7zT9Vlj8HVcZgNH8cKrsvV5t8ArR23nzunZaNs/fn7Se7rnD8pqI0WOPkbT254377r4VzTcFgMqWg9bbiVOt5sicASNV/NeZZ705CplgmTPdRD8ewUcyfGl+UWPdslf3qK9gf60FJBhMNt2Fy/V+s6YQHXcJYZrcV9ek2JHsu3c2/IVL3+mM3gGg6u5aLv2Ix1ZRKvvnR82rYenHwRN19uer6rMTy+4+E4FurmLrxKDSdXWvqCiSKhA7sQQxrVl9YeFlzNfYTAYN7omtxMoekHGVe+dY7Rb5+/5cS4q1BEHVlQabjNwvpBWyfPdcEwAodLENYtVLGhliD67u0gCviWTeHxpyg98TT28BhurohXawTi00YDZyaPdXmM8jefZ/ZPPovvOMQ/9C70Xc3p6QLgC1CrBaQJWQ7mlXdKOu4qOh/bxmN/95Mk+7NNT1LTBMLRgIEqyVAuelw8axFPLl5W0/SZm3Zp65Bp75ZRNYFwROBdH4osX536sKVfYXO/gqoJ6CGB9/1QBMfxOfZa8DLl51xOHzfZe6fOzr0aqiagqAKaLhCJiUtai60Wvg/n3jaJxETuezhEd6/C009Ulhvm+VZmknTt/4Ow7MImQuAMhSOL16WYd7lwxiaZWtxwesJh4IzFwftDbO5XUdTm45ibcbly2WLfQY3u3uD6hcIC7/rgxtrZrQaRnjTx/lZCHYngT2eCUGvslh9HDGtkP/EomR99gMgdW0i+7y5C/c3r+Fa9T0lEDinBPWziYUm6TKQrHognrEDquBkkVUSL3manRhQQdBUxrCOE9CX97cRImOhjh5DScQRdXSA+CqpC5ME7UTqyiGEdrumUIygywtV9Xf29ICCEtMXj6NoCS1ZQZcKH9qF0tyFGdARlcbyCJGKcHaJ25O2l5yyJiGE92Nc12uWCIiPoGkIo+GxdL+u/cAiIJNR2WvUthKQEMhqaEEVEIiKnUASdkBQnKmdo0XvRpCiSoBCWkqS1bmJKFoGgn2JMyZDVN6OJEQBUMUxCbSOj9aCIIWRBY1NkH52RnaS1TcvOJXrwLiL79i90Dkt94IP0/NZv0/ZvfhYl07LmsW2sn2l7CwgCbq64LPfpey743vzyefH39sQMle+8SOpnfojwvQewRifxykvDiY4Dw5ccDhxQSaUEPvwRHVmG0jtY9gJBzddKeRVdF3jPxyI8/L4IlwYsqhWP1naZex8O840vL5Z/lAsuR19p8Kn/mOIXfz3F8KBN31aFWEJc5gG5HmzqU/jkLyS5fNGitVPm8LtCfPPLlQXSUKng8dxTVbbsSPPL/yXF6RMmjbpPpkVix36V3/h3M8vqRVeDgTMWk6MOH//pGKbhc/TlpROsJEHHJoVNm2V6typEoiL9uzUeeLdDpexxecAiN+sRiYp87Kei7LlLZ2TQpl7zaO+SOXhY56nHF69Lbsbl2Ser/PyvJfn0b6U585aJZfq0ZCW27lT5rV+eoZBzmR53ePm5Oj/36SS/9J/TDJ6z6Ngkk0yJC6vU24XwphRaJroQQfBvU35KkCUETSb3xKtova0It2BcdtWiMpwntauN1kM95M9M4TsegigghWS637eD7N2bmHr5EuVLuZvuT5SCpuiCGOg9+x70H85w/yd7+OwvH8P3gm2E+QiMY3q3JJ0nZ1LE3n0IpS0Dokj56Vcxzl9GTsaIf+RhQjs3I8oS9nSO6itv4eZLRO4/QGjvNpRsCrdSo/7maerHziFGw0QO70fb3osgSdSPnaV+7AxSLEr2Vz+BOTSKlEngN0xKT72IUywTObSP8IEdaJs7cYt3UD9+lvobpxE0lch9+4gcvoPGyQuUv/1ycMKCQOTefYQP7gEBnJk85WdexaubxN93GLW7LdAvT0Ypf/MlGqdWaKLx/1GoUoje6B1M1geQRAVZVIkqaXLGFbJ6HzlzjLiaJa60MmdcoSeyn6nGRVpDW2g4JdpC27hSPYkiarSH+5lpXKYvdidD5TdIa12ktC7y5mhQPiWIiIKE7RnY3vK0m963mcbQIL7vE9q6lehdB5n7p6+i920mevc9FJ7+9prGtiFjerXZtT0xvWzZ6NtBnkTQ9SW9Qn3HwRwew8kVUXs6UdqymNcZ03rd5/EvNvh3vxims1Pi/R/Q+fLjdUZH31mquKTJiCsYU8vyGTxrsaVfpXergiQJFPMun/nTwpJ6TceB114IZBbvfSTE9l0qg+csnvxihf/0exnmZpaGoF58usbgOYtDD4eQJYF/+G8lnvz80qLjcyct/vR3c7zrQxG271KD1V/O5anHK1TKi9eoXPQ4fcIkN3vz61YueLzyfB1RCnP6mEmjEdxPQRTQs1HEWpVDD+k8+N7gnl++aJFsEfnoJ2L4iDz7qsr3nshhVRqce9uirUthyw4FQRAo5lz+8r/mef5bS8tSjr9mUC7meNcHImzZoSKIUJhzeerLFarz4/A8ePE7AWv54feG6d+rMnDa5C//IM9/+r1M87GJQqBDugH2qKQrhLuTyNFmjOFbDM/HNx207gxKNoFbaSzpjLMeGLNVRp46y/afuYtdv3gfZqGBU7MQVYlQaxTf85l+ZZiLf398xbDtVciqSHt/jEhKQVJEJgcqFMYbnHtxloM/FKygRUmgoz9GOKUgyQIzl2vkRzdec+pWalRfPYkgCoT2bUfr78W8NIaTL1F4/NsonVlyn/8m7tyiwlLl2dfQtvdQefY1zIvznAxBQN3Uhratl8rzbyBnEoT292NeHAEflI4W5v7mH3HyZaKPHETfu5XKs0eovngUdXMX9aNnMM4OLUotmhbVl98CQUQMLT4jciZB7D33MfPH/4BnGEQfuovoI3dT/vYrSPEI1sgk5WdfQ9+3ncgDB2icHlwxNyMpOpKiY9WLTT+/EQRRQhBEPNdGlFVkNYxrG7i2gSCICLKCZ7/zWqm2a1CxZtGkCIZbZXFFIQTnRZADz5vjlKxJwnIcVQzRcMoUzAlEQUaTIiTUNqYbg5SsGaJKirCcwPVditYE042hYJc+NNwyplunYi9nAwuKilevIwgC8YcepnLkVepnz+KbFtF77lnz2DZGQLrqsTeJv/pmkMSV4pFlhcW+aeHOFVB7O5ES0eXf9eH8OYf/8utlYjGBRsOnscb3MtKdWNEQrhbhtuhC/8Tr4blw/pTF+VMr07mvolrxeebJGs88udSY/OYvzSz5WRShXvP55leqfPMrNyb/jAzZ/N3/deOX7OJZiz/+n1ZYdQigRLWghs7zscsG336iwXdf8AOB8vmUUqgjTmJnG5PfvcATX6jy5FcayBE1aAFXMRBliWhfmu2fOkh6/wVmj4zw1lGLsxdEXNMJiCo+yFENMaShaDLGvOC5EtUYm1P47F9U8CwXSZdRkyHMfAPPCT5HAE8QePn7Ni9+Zw5RC7axaiK/8+lZJF1GiWqImoxdCbReo31ptFSY2niJxuT6+rFqrVHC3al3RAjdMyxqpy4R2bcFQVMwh6exptdecK90tmFPTCNGwoiRMLkzeay/epPMXV2EOxLIiQjOdJ3c+QLViRqzrw5iTgXHkdWgl6soCXhOoPXqzMvXyapI7x3JoK3f/MRfnjFwr1GhEiWB7n0JZFWkXrToO5CiMmsu6UQEEAkL1Ob5AOFQQLyq1VdYwgoCancr4bt245YqyNkUvmGtuv/wEkgiUjqBnEmg7+wDwBqZwDNMRE3DLVWxJ2YRFBmvXEfOJNZ+DEDOpnHninj1Ovg+9pUpQju3AMF9tqdz+JaNmysFod5rT1HR0eNZXMfCqhXQYhmiLb3MDr6OIIiEku0AGOUZRFlHiySxGmVso0Io0Y4gSpjlWVzXIprpwbEbGOVZYm1biGZ6qExfojI7TCTTjSDKVKYHF49pG1j1EkoojqyGcMw6ZvXmEYu1QhRkivY0MSVDRtvEdGMIRdRIqK2E5PhCFDOqpHB9K5Dz9E1iUgtxtRVdilK0pqjYcwshX0lQMb06mhRZFj2yvAYxJYPpVpcZVCefQ+vtQ05nUNIZcv/01SDkr6qwjrriDRlTt1pDakkhp5PLPvNqdXzLRu5onU+yXZPwn28vJmhaEAa+DooC9xxSOflWUDv64Y9qjI+5HHnNor7Si3cd+n/2YFDztQFEuhJIN1Fa+ZcKSVPo+aF9VIfzGDNVKqZD+o5OJDUwVhPfvYBr2ITa4wuC02oqTPqOzoVi+MnngxBVfHsLTtWiPl7Cs12SO9vQW6OIssjcsTHMXI2+H9tP5eIcvudhFuqEOxMk97TjzJeDOHWbtgc3Y1cMWg4G4cfWw334joeSCFG7kqdyKU9qXwee5aC3RBh/ZoDUvk5CbTEcw8bM1agMzpHa04GaDiPIIo3pMqtQ9VuGUFuccPfy5xpBQNnUBgiBI+g4OPkybqmKb66PCOL7PvZsidyTrwaciFId31n7qlrfsR17cga5JY3SlsV3XKqFErXvTyGnGiDL+KaFb9t4DQO7FryToYRK6/Y4Pj6Nkk04pSIIAqMncrjzLfyMqs3scB01LKHqIqIs4l5HInItj/xYHaPikOkNI6vSEmMqSfCJHwvzD4/XUFSBdz2kMZfzOPJG8+smyBJKVxueZVN+7gjx9x5GSl6Ts/avdjhRlhGngj65yqKGhufjVerYk3NUnj2CV2sgKDK+4yJqGt6NIgGuO58rvbkgh1MsI8YiCLqGb1rIrWmc4rxD53rXEW0WnQJBlAilOtCiGRrFKUDAtc3FVasgokZTaOEUkqIjyip6rIXSxAC+4pDpO0AtN4pVzSN4Iko4jmgpmOU5RFnDtQ1sswb4yHoERYtSnR0m1roFPZ7F8xzq+XHC6S7sehnPuT2kJkEQkASFulPCdGuYbo2qnUMSVPLGGKZTIypnFoxiwZzA9sx53QCJkjVDwylRtwuIuoQoSBStCUy3Rk2Q5/OpiyiZU8iChiyoy86l+vZJonfehd7TS/GF7+IUiwiyjKAqGKPLq0xuhg0ZU2dqFrW3C7k1gxgJBaSjq58VSniGidrbhZSI4jQWc3CCqiAlViZy6CGBT/5MmIHzZQ7dq7B9u8y2Y1ndNAAAIABJREFU7RKjoy4XL6wu/JXZ30GkK76xFkLCrele8YMIURGJb2th8oVB7IpBuCNO9lAvbsMmsaOV8uAspfMzNCbLtD8SdCmRwypaOkLx3DTRnjRaS4TaaJH6eIlob5raaBE1GSKyKUl1JE90c4ZoXxqr1CBzRzeTzw/iGjaiIhHpTeG7PuWLszhVk+Sudlrv66MyNEf6zm5qo0Ui3UELJjWu46TCKHeEyB7qoTZeJHNXN8Vz04TaokGD87JBqD1GZWgOu2ri2g6Vody6DKkgCYQ64ujZ5VETACkeQelqC/qwFivIsoTvurjrNKaiKhO7dycgUD87QqNmwBqNqZiIIaeTyJkUSls2sFyOG7xnrovvukHzY8tCDOk4I2N4lSD6ocVkUj0REKA6ZxBJaZhVGy0iU7fmy2R8lhiCUExm66E0iXadve9tZ+iNHIousvVQmkbZITdax6ovfVd9HywbPvVzUUplj3RK5PSZlUNOvuvh5Evo/b0kP/YuxFhkicPiex7mhWHiH3gQa2SCxskLOHPBSts4e4nI4TvQd/TROHkBc2gUa2wadUsXiY+/K+iHOjZF/cT5m15b48II4Tt3oW3ppnHqIuaFEcSwTvShu9B2bkaQZby6Qf3EeZyZAo2TF0h+7FF810WQRGqvnbzpMURJQdGjNAoT1AsT879dnCPDqQ4EH6xGGSUUp5a7gqioyHoE2yhTmhxAi6SDn0s1zGoBNRTDc22sWgHPNjGrOXzPpVGaQevKIEoSeiKLVSvhuTa+5yAIAtXcFez67emoY3sGc8Yw1zomeXNp7a6PS9meYc4IxDHCcgLDrVCypjHcxZTXjHFpyffqzvJztrwGk/UBmhkCe2qK8isvI6gqTiF4bnzXxRgeXvP7Bxs0psbAJcKH7kDQVbQdW2gcX5Rbcyam8ao1lNYM8Y+8m8Lnn8RvGAiqgr6nH6WtBa9exzOWx+1FAdIpgWhMoKtL4utPNvjQh3Vi0bUZNmOuztHffWbdtOtNH9hBzwd2AIGQuoqOhYGEgoeLhBQ4vbiIiEjIyCg0qC7ZxsFBQMBlZUdgesLlT343R736zhRh+35Q2F4fC0LF4fY49YkSxbNTTL5wcaFpsV0xlsjA2aUGxkwFq9RAUqQFNqjbcLArJkpcx/d9jLkaeksQJhcEAaduUbsSPLBSWEGURKxig8ZU8HLIEZXiuWlmXhtm5rVhXMPGs12MmSpaKrzQkqk8OMvc0VFmXr2MOVcjtrUFY7aGXTZQEyF8L2jVJNoSZqG+rmsjx3QifS3N20z5PubQGPZUDt9y8J1gAtpIjtMzbcovnUbJJtC3dRI9tIPScycwr8zc/MtXT6veoPLSEdxKFWNgCN8PtGXVrk7cUhl7LoegqvimGUz+1+dNfMhfqZIfruK5Pp7jY80LB5gNl4GX57ANNyAiiQKW4TJ5vszXfv8stYKFY3rYpsfk+QoT5yvUCtZCidrCOD146lt1fvijYe7Yq/Cnf1FhcuoG3o7nYV4Ywc2XQBTxLQscD/9qX0TXo/LCm8jpBJ5h4VYW0yi1o2cwRyYBH7cQPGNuoUz1hTcREwGpzK028C0Ht1gh9zf/GFwGx6Vx+uIS1m7j5AD2xAwIIu78KtMzbRqnLmIMDAMCXsPAbxjgulRefBM5m0JAwDPMBQNf+f7RBWfAnpyl8KXvLKw8PdfGMeoku/egRlIY5VmirZuJtPRQL02hRpJEUt3YRgXHqqPoMUKxLKIoYxsV1FCCUKoDs1bAdx0Snf2Iokwtv9RQKXqMZNcuIukuaol2GsVpoq19NIozuI6N5zrvkBDEyseYM64sCdcaThXbM3G89a6WVz6WZxjo2Vb03j6qx4+B7+NWq+sqHdmQMW2cGsC3HQRFIXLvgaXGNFfAGp1E3dRJ+O59qN0d2GNTSOkEancHgqJgXx7DyS/P+/l+MJaPflQnGhU5c9rmIx/Vl5RgrAbGXI3c21PrfjhSu9sWSCxpWtEIIyGholGjgo+PgoqIiIxCmSIuNjESVKlg0iBJCy4uFYo3NKaW6XNp4J0tur72ga2O5Ent7aD9oa0gCAx+7k20bIRNH9xNvD9Lx6PbqU+WbnopjbkabsOh74fvQFRERp48hWe7S77nNmyMuRqd7+4nc6CLiRcukn97gm13dtH13n5A4MpTVxVIfK4qDRTPTtH+6DY6HtuOKIkMfu7o1YEs7FsA6hNlNv/4ASI9KS594fia77+aDBHdujI13jcsXOOaFdKa9t4Eno81mcczbfTtXWidmaAH5UQgyqDFNayajRqRseuLvUF9N2DVeq6HrEk0ZoKc0NUVsqCqWFfGcGv1YHU6Hx3yWerAlicbnH1mHNfycO3mwgC1/PKJrDRtUpoO9iWrIpbhUpwwmB1ern/8pb9vIRIREAhKyhJxgb27VT77uSpf/doNVqemhT2+slPhlWtY5eXH8xsm9pXrWtX5Pm6piltaykfwPQ9rZHJhG6+ydH++YWGPTi/dl+tiTzRvQxgce3lrSTe3uHK6fly+51KdG6FRnsZ3XTzXxm5UKI2dxbUN6vlxKlODeK4TyN/50CjP4LvOvCGuUZoYwLUNfN9jZuDV4Ji2gd2oIAgCnhsYy7mho+SHT+BaBr7vU8uPzR/Twq4XcW9TiHe1sL3rRFxw8VbTUHSNkJNJ0h/9GFp7B2IkQu3kWyAIRO86CPhUXn99bfvbyMl4xTKNE2dQ+zbRODVw3Yc+te+/QWj3NqRsBqW7HaWzdaEw1jMtzHODOBPTy/Zbr/v83f9T577DKv/01QbRmMjYmEuhsDZvISh0Xv9U55rOguqIiISIgIONiYEy3znWwUZExKSBQZUoScCnRokICcJEaVBHQcViffV8twNO1eTcn7+08LNrOIx8/dR830w/KOA3bC49fpzLX3krMIieT3lwDt/1GP3GmXlFHZ/KcIHaWGDYPNNh+uVLzL45sqBFCvDW7z+9eHA/6IJSmS/JcOcbUg/89atBJw3bDTRMv3Acz/UoXZgN8mOeT/VKYXEbw2HiuQsBGxaoXM7hOx52zeT8f3tl3g6v/f6riRDRzZl1X9u1QgyptPzEI2g9rVReP8/kX32D1r4Q2fs7SHRHiXdFmTlfoHC5RCQbojbbwDVdWnakANBiKrbhMPjMFazaokPmWxautQoRBdfHqm2MPexYHqefnV4xCvSpX84t1dmfj/KZ1r/K4V2F7zk4xqKhdz1ngQgILMtjes6iU+SYSx2A639euMq+h2vVl+SYlx7z/x/i+gDRu+/GKRTIff1JNv36fwaCMK9bqRDevfudNaYAhS98Hc+0msovWSPjFL70TVI/80NIseiCpJdvWtRef4vKC0eahsccB559xuS5Z82FufAzf1Nf07x46R9PBc1lN/CuBiorzsIuPHxmmcDFmRdPX05IuLpiBahSpMraae3vFK4vHfFtD+daBRv/6jaL2y3Iwl0rbeb7SxRtfNfDrS91fJZJx3n+MhWa6xVhru7z2gn6+m2uPY+F7XyWdFRZC0RVItybeWdKYubhez71c1eY/eIL+FZwneoRn3hHC42iRXF8CkkWmR0oIGkSyZ4YVtVGjSr4no9RMqnnDGRdWmJM32l4zsovW21eGzqZECiW/tWA/iv++aG2tFI5dhS3XF6cxn0fzwoY3mvFho2pV79xzUrjrbNYl0cJ3bkbOZPCqxsYgyNYQyM3jUtfazzXusC49I9v33yjm6BwfoYLnztOY6ZKkWb5t+UndfMOJcshSCKiKgXF+5IQlGPMOx5XGYu+6y3KsP3rXHTbIEc1Erva3lHimW/aVN9YjOzILXHKOZPiN+aF26/x2SaOzSz14VbX8W0BgiQgKBKiHOjaBtrALH3ePD945pzgeVtJSnOtUBT4yz9J88lP3fqSi5th4R2TRAR5vhnHwj0O9I2vjttzPHzbXTfX4lZDkIRgbpBFBDHosRqcP0vuW1AlEYStfffqPfRuWfu4W4b5VoOicnW+u9Ez6M0/g7d+DG69hpxMLhhOQZYRNA2tqxunuPZF0DvSHNwtVah+b21L5h8ErKadj6TLaNkYkrb0Uvq+j5WvY61EghEElLiOmg4T29JCcn8Xkb40obY4ckxH1ALavlu3MWer1CdKlC9MUzo7iTFZxio1mgqFrxdqKhyUkzQxIj5BWNiYWl/N5nohajLhrsS8oPtyeK5HbSS/vj6ZQsCilTQZUZORdAU5pBDrbyO5b2UpP1GViW1rIi+5DthlA9v0cCt15GvqreP37aI+MIZxcZ48cv3w1ig5LcgiSkxHSYSI9KSI72gj0ptBb4uhpsNIIRVRCXp2uoaDla9hTFeojeQonZ2iNpLHKjVwKuaGJjXfh7EJl2RSxGh4wXPlrKwpLkgiWja6UJp1LaxSA3P2Jo0YBAEloaMmw0S3tJDY006kJ02oPY4c15FDQbmEZzo4DQtzrkpjqkz9SoHyhRkaEyWcioFdMd7x3qKiJqPENJSoTqg7SXRzC5HeNFo2ipaJoMT0wDlQpMDgmEEUza0H4zCmKxjTFepjBepjBeyyidOwcKrmLevg0xwrP5ByVENNhQl1JEjs7SS2JUOoM4GaCiOFFERZCho2GDZmoY45W6E2nKc8ME31cg4zX8MpG7fMyamdPk3igQeQ4jEESSJ68G6UlhaUliyFZ59Z8/4E/wYaaRv1zvWWCJGuBKWhuX/RYsw3QmJvB/2/+giJne1Lfu/ZLiNfOsbQZ15d9h01HSa+o43sA1toObwFLR1Z9fFcw6Z4ZpLZlwbJnxilMVG6JS9H98f2seXf3t+0abLv+eTeHObMHzyDXdq4qs2qIApkDvaw73c/jBxeXiPm+z7Vyzne/JXHV+VUSCEFOaohR7VgkoqH0NvjhLsShDqThDuT6G2xFUU6bgcmvnWGiZN5yq+eofWTj2HnAtZpaFsn+W+/Qf3tyxvav6BIhNrjJHa1k767h/RdPSs6TCvB932sXI3cmyPkjo5QPjeFMVNdl1GVJPjNX09QrXoMX3HwfThz1ubiUPP7p2Yi9P/Kw7Q/tmPZZxPfPsPZP3p2xWNp2Six7a20PrSNzN09aC3Ny5xWgu/5WPkapbNT5N8aY+q58ziV28x5EECJ64S7UyR2d5C6o4vEng6URGhDc7FTC1j7laFZSmenqI8WMGYDY7tWRzS2vZX+Tz9Can9zh7N0foqTv/0UVm4xZ6vEdaLbsmTu6SV7eAuRnvSaGtX7no85VyV/7Apzr12idG4Kc2456Ww90DZtInLHgUCLVwA7l6N6/BjW+PiK31nJZN7WlamWDrHlJ+7gwt8dDUgk/4KRyYhkW0V8n4U2cDeCIAlEt1zHCBUFErvaaX/PTtof7UeO62t+SSRdIXOwh+TuDgpvjzP5zDnmjlzGrW/MWSm8PUHtSh4l0bnsnARRILwpRXJfJ7MvDyHHEuD7SHooKKZWVDzHxpsvu5DDwcTl2Rae2cD3PJzK2urWJF0hfXdPU0MKgA9Tz55blSGN7Wil9YFt6G2xhT9aOtK89OUdhU/j/BVAwDNtaicDGTRBkRZyp+uCAGoqQst9fbQ+vI3k3k7kyPpywIIgoLVE6fzgHrIPbCV/YpSZFy+SOzqCU1mbHJ3vw+hYMK5EPIg2aPr6jIS+QsMBQZFI7Gqn8/27yT60FTmqrcsQCWIw7taHt5HY10nhxOhtNaaSrpDY00Hm3j4yh3oJdyUR5Vvj2MkRjfiONuI72uj84B6MqTKFk+Oc/9Pnb2l0CwLmt3dVnlIQiG3P0vZoP+3v3oHWEl33vdBbY3R+cA8thzcz99plJp89T+GtsY2V8cgy5tgY5ujoYseYDXRTua2zSenCHNWx4oLcoKCIdD6yFVGRMIsNKpfzxPrSKHENJawyd2Kc2liRzndtQ1Ql1GSI8sU5nIZFY7qKXTVpu7+PqZcu0fHwVkRFxHN9Zl4bRk2ESO5qRW+JYJUMJr43SHpPB1o6WGlNv34F+5o2RnJEJdqdQE3oi3mjFZB/e5J9+wVyOQ/nBiSLJRCE4IVQZTzLQVQkMvdtpufH7ySxs33DKyAppNBybx+RnhTRvjQjXzm+5sntWtTHCpTPTRHf3ooUWq5KpbVESe3vInd0BDXVgiArKLEEwnzrG6daxq5V0FItSHoYHx+3Uccq5lCicSrVM6xFmV6J62QPb1nxc7tqMP38hZvvSID0nZvY/G8OrfrY7yTMK7MgiRSfOYY1GUhTeqaNW1lfjSwCxPpb2fRDB8jc04uWWX3U42ZQ4jqtD28j3t9KfHc7Y0+cpDFZWnXO1vPg779Qo3eTRDQqMjbuUCiubzLU25YbU1GXaX1wG5t+5ACxbdlbFmUon5sK6q1vE/SOOF0f3kvL4S1EetOI0u3rJiMIAnp7HGU4f8M2eOuF73q4po0giaTv7qHnx+4ktb/rljmuajJM5wf2ENveyugTbzH5nbPrDvtG9+3HLuQxr1wJHs4N1tduaIRSIo7c2Yo1Mo5/EyISAK5PbayEEtOI9iSRdYVEf5biwAyWY9D13n5Gvnaa1sO9jD09QLI/i1VsICpxXDMgQ7Qe6mH6yAjVsSKSKpPc1Up6XweCIqEmdERFQkuHiXYnaTnYzdRLlwi1x+l+z3Yuf/UUAIkdWTZ/fA+J7S3IIeWm+qtv/M7T6HqV7m6Jet3n3NlVrEwFASmionfEaYwXydy3mS0/ey/RzZnFZsO3AKGOBJt+5ABqJsrFv3xx3SxW3/HIvTFM9sGthLuWy+hJqkxsRxuRnjT10SkEWcHKzSCIIp7j4Ds2vufi1irzzpMfECFsC6dabjLh3oA5IwokdncQ6lxZH3XutcsYM5UVP192qB9kuN6CIQWwRtcfxcnev4W+nz5EbHvrhrWpm0EQBEIdCbo/so9IT5pLn32N8sDy8rZmEEX46AdD3HVApWF41Os+33zaYOjS2ldHaksUJAHmyVGSrtD2WD99n7ib0A3y7OtB8e1xnNrtEYVP37WJ3k/eQ3J3O1JohSjMbcD4U2+vj2twA/jzzdd9zydzdw9bfu4+Ytuzt2yFvQABoltb2PLf3YcgiYw/dWpduwnt2IF3auNE1avYkDHV79hJ/IOP4NUaVJ59mfp1bdiuhxLVaD3cAx6oCR3P8bCKDcqDc7gNh/aHNgfqNapEZn8Hds2iPJQjubM12MF8iEDWZNru78WzXEJtMeyKgVloEN2UDC7uC4OEO+Ikd7bi+16wEs4Hxl7LhOn72G42vb8fSZWxqiZWqUGkK4Fbt7HrFmo8WK0Wz88we3QMs9hgfNzlvsMqszOrX12JikS0J40S1dn80/fcckN6FXJEo/09O8D3Of/HzzdtPLAaFM9MUhvJobfHm3rH0S0txHe0Ubl4ekUvzjOXe/CeZdKi9VCyZ3A9G1lUkEUdERHDreH6Nv41un+iLNH+aP/K18pn3S/QDyLEiE7ysQPknzoCQPSefqypwpqNausj2+n/5YfRWtcXTlsLrqYb9GyUs3/0LOXzNzeooggfer/OH/5JGduGhx/Q2L1TXpcxDTSkw1i5GoIskr6nh80/fQi9PX5LmxPYFYPK4OwtD4cCtD22g60/f5hQR+IdZY/XrxTIHx+99Tv2fNyGRWxblt5P3H3bHDpYTD/0/dTdNCaK5I+tfTxupTLfA/fWXPuNGdPd25Fb0vgJB696k7CUAC0Hu3BqNjNHRmh/KAjhufMUdN/zA5UO2wPP5/ITp3FNJ1g5CiDKInpLBEEWaTnYjYDA6LcH6H5f/3wDZChdnGPqlWHsqkliewv16TKXvnQy8JjmlV3im9MLhvrUn73C9OtX8CyX9375Z5h46TJn/uo1wm1Rtv3Unci6zPj3hjDzdbru1fjy4w0eekRbYHDfDKIikb6nBzmqE9uWXWYcfD9IrBdPjlMZnMWYqWBXTfBBDivoHQmS8+QRKaze8IWTVJn2d++gMV5k+ItHb35yTeCZDrOvXCK5rwsxpi/7XI6oJHZ3MPfapTUTAKJKGlUKowrBfmeNYRJqKwlVJG+O03AXc6pqJkL6nt4V91U6P0Xl4uoNjTVXp3R+uSJNM4iqRLgrtYydDfOet+lQHb41pR1XO9oIooicXVyFqx0ZvLrJWmIMmXv72Plrj66KrOLZLqXTExTPTtEYL2AWGvi2i6BIaKkwoa4EiV0dJPZ2LMhBNoMgiUT6Muz7nQ9x8re/TvXyja+LIEA4LHDpchBeLJY89HXmTBFAz0ax8jViW7Ns+/kH0Dvizdnovo/neDTGihjTARPet11EXUGOqIQ7k8FqVhKXfb96OYc5V73l5Whtj/bT/ysPr40Q5gf3rjFRwphZZPQLsogcUZGjOuHuJHpL7IbRmImnz94W58D3fKSQQuf7d5Pc19nUkF4lExVPjlEemsWYruDULARRQI5p6OkI8T0dpPZ1oaZu3KhEEAT0thh9P32I8vnpNUflyq8fIX7fYXzTxBwdw3evuSaeh++s7RptyJgq2XTwhjgO5sBS0WEprLDp/TvI3tVNKBtl+sgI5Ytz9Hx0D5GuRKDpWr02dBLUSGnpEJIus+uXDuM7HtNHRnBNh60/cQdGro6oiJSGcvR8ZDdqKoRve9g1Czmikj20icxdXRizVQa/+Ba1sRJ7/v2DeLbL1PcvMf3aCHomTKg1yvDXzjDxwiBWOTiHQOHHw8zVMXN1Ln31FHt/5TAdD26mPlFhbNTlYx8Lkcu7qw6tSyGFzg/tDUqo5g3pVSZY6cwkw194k/zx0YAZOV8jtrjzoBHzqCAgRzS6PrKX3k8cRI6sTKgQNZmenzhI/vjoqkNv12PmpSF6f+rupsQNQRBI7usk1JVcszE1nRqWb4DoY3kNdCmKLsXw8RCv04lse2Q74grdenzfZ/KZc3irFaL2YfK755l+cRX5VUBvj7P/9z5CtLe5AlJjssSx//4rqzv2zU7N9Qnv66PlJx5B720jemArSCLWRI7ayUs338E8wptS7PwPNzakvu9jVwzGnjjJxDfPYBXrgRPr+0s9Q2G+hlEUUJM6He/fQ8+PHlhx34IgoHfE2f0b7+fErz9xQ7a358G58w5/8+dppmZcolGBL3xpnblhQGuNoUyU2Pqpw4R7UsuauHuGw8z3B5n5/kWKZyZwG/Z179jV8QYlT/H+VjL3bablUC/hTQHjtHJhZuXytnUiua+Tbb/w4E0N6dVxOGWD6RcvMvvKEOWBGdyG1WQcgX44YjBfxLZnSd/dQ+ZgT9BKcN6weabD1DPnbul4Fk5BFknfuYnUgU1LDOnCnHduipH5OS+ol/fnaRTz45i/FzzxFrKu0vGBXfT86F03jrQIAtHNGVrf1c/EN08332YFxA/fT+zg3cQP379sdVQ7c4bZL35+TfvbWHPwaEBucIvlZVbcrdsMP3Ga4SeWDvDI//D1Ffd3/H9+hm0/fReXvnyS/Jlpkv1Z0vvaGfzCCUa/s1Su8LVfe3Lh/+HOONm7N3H+b1/HmK2z+5cPIykSg/9wfNkxJE1G0mUqI3nsa8p1XNNBuYY5WhyYoXRxjo6HNjP+3UHOnysycN5h1+7l5JyVIAgCgrT4EPi+j1u3ufy51xl94iTeDRmbPr4b/GuXGgx/4U3mXr3Mrv/x3cR3tjcNZQkIKDGNLf/2Pk7+9lPrKplxKgazLw/R86N3IjQhcIQ6E8T72yifn16TdztpXFz2u8Z8c+D6NatSQRLoeO+OFV8ep2oy+8qlteV7PH9pnaAkzReH+8teopuKYiyoQt0a1E8NM355mtSHDpH76kvBxLOGsYm6TP+vPtyUkHMV3nw+/MJffZ/GePEm4/MD4REXzNkaw//wBlPPnWf7Lz1I9oGtTVdvANHNGbb/6sOc+8NnVhR5cF3487+ucM9BlWRC5OgJi5Er67+Wke4kke4k6Xt6lxhSt24x+ew5hr9w9Oa1qASXw7Nc8sdHyR8fZehvA0Zwx/t3U3x7fGXykSggR+YJjOJVsZVAOU1NhmmMLl+pq+kIWz91GL01Fhi/lc7J9TBzNa585Tjj3zqzKrb+1atumQ6512vkXh9mUBSI9KZpe7Sf1kf7KZ2ZxLpN5W2CIIC0dFS+7+NUTYY+8ypjT5268bPtz0veuD62bXDlH09QODFG/6cfIbmvs2keXBAElHiI7ANbmXru/JrmpNJLL1E52jyKt6wRxCqw8X6mmWQgJ3iLMP3qMFt+fD9t9/fhGjbjzw/e9DtmoY5TM9nyo/tBgPzpSewbMVt98J3FRscAdsVETS3WWLoNB6tiEu6MI4Vk3vd+nUhUYOtWibdPrk+yzamaXPy/X2bq2fM3MaTNz7l6eY5z//t32fEfHyW5p2P5wyUEK+DY9layD2xl5sXlBmw1mHrmHF0f3ruoFHPtIQSBzKFeZl8eCpicG0DdXa4yEutvI7J5ZZH5mZeGcKpXJ7c1yv8AYjRK5K79ePU6bq2OeWl43X1IbxXcuknx+bfWXrspCHR+YE/gXK2QX3Yth6lnz3Pp746syrA0gzFVZuD//B7mXI2uD+9F0pc6lIIQKPRkDvbQ+kg/0y8MNL0tsgx//F9TzOU8Bi7adHVKlCsehcL6Yqhtj+4g3J1cNKSuR+1KnqHPvsbc68P462SrepZL4eQ4hZMr1xpC0F0ovq8HOR5Ca09gF+tIEZ3iG4PoXellxlSQRbo/vp/Y9taV87o+uKbN3OvDDH32VeqjhQ2FmH0vqMeuXn6Ny597A1FXbrNowzXH9n2MqTLn/uR58seurJ3w5ENlcJaLf/0y/b/6MIldHc0XEWLQMjG+s43iTe7ZtXCLBdzijUV51oKN9TOdnEHt6USKx0CW1tUD7npULuc5+UffW9N33IbD+HcHGf/uzQ2vU7dx6hZ6NoKkybjzNVH1yTLxrRnUpI5VNAJPUxAQZRFBFDh+zGJ62qNv8/qYaa7pMP7N08x+f/Cm3pOoiOjpEHbVQtIk7JqNawbXtjqcY/jzb7Jxyl8VAAAgAElEQVTj048Q7k41/b4SD9H2aD+514NWZmtF9XKOwslxsg80L01J7u0k3J2cb7x9a5NJnR/cs+JnruUw+9Lggnh+MtZLsTLCWmYbOZ0MGi00DNTODuyxyXX3Ib11CNql6ds7ESQJ33GxJnJ49RszSEMdcdof60eJL89vQ7DKzh25zMiXjq3bkF6FVahz5R9PoMR02t61vWmpg5oM0/2RvRRPTWDOLmdaOw78r/9bmdasyKGDKr/6CzGe/EaDL//T2sOogiAsUaLyXY/yhRmGPvMq+ROjt/y5bAa3YWMVaiAKGMcK+K6HFNGCPKYiBb0krzmP+M52Wu7tu2HNr1O3mHzmHMNffHPJPRM0FSkWwS1XEWQZBBY6dvmeFzjWkohv2eD7CLKMb1kIenAs37RAU3EdB0HXgsboln1bHUkrX2Pwb16h8NbG7kd5YJrJp88R6kisKHCjpcLEtrVSPDmOhIIoBJ28DD94tiQhaI9p+vWFRuGObyELKq7vIAsqtm8uIUKuFRsyprU3ThK6ay9iLIK2tXdZ3vQHEUauRmOmSmJHFiWuLRjT/KkpWg500vuhXYy/MIiWChHbksYqB1JiO3bJRCIuHZ0Sly+t3WmoDM4y8/1B7PLN69WUiErvY31MHZsk3BKmMdfAqlpUJyrg+xRPTTD9wkV6fvzOZasECMha0c0Z4rvbKayTtTf25Nu03NvXNNQr6QrZB7dSPDuJu85SnGZQEyGyhzev+Hnl4kxAcvGCJgO7ez/CkbN/jeet3mHw6g1820HKpOY1TG89EWOtEEMamR95ACkaQkpE8GoGuX96mcbA2IrfESSB7P1bCPekVyTd1McKjH/jdLC6uQUwpsqMf+MU4U0p4juX6xcLokCkL0Prg1sYfXJ56YUsw6d/MUoiLjI+6fLZv69y9PjGnx/f92lMlBj50rF3zJAC+JZD9Uzze9QYXkqQk/T5uvC+9Ir7cw2bmZcGGfnycudHSsaJ3H8XtVeOo7Rl8AwTr1pHbsuAKCKGQ7j5EoIi4VbryOkk1uVR1J7OYN+1BnJLKtBSd1wQBOyJGRwz3+xUNgzXdJh4+hz5Y1fwm7T1WxM8n9ybI2Tv34J6qK/p6lSOaoQ3JRFkkZTfiiZGCItRRq0BFEElIqWIiSkum2+TkLKogk7OmSAixvF8j5Tcxqg1gLMm2t9SbIi3bJwfov7m2wiSROw9DyKll9cn/qChOlqiNJQjlI0gX2OIJl++jNNw2PqT+9nzK/ez55cOk7mjg8KZaayKSUuLREt2vatSm8Jbo1Qvza1qe7No0Mg1cOo2lfEKse4Y2b2LXrhbt5h7/TLV4ZVfBK0lSuqOrnXTvgsnx6gMrsyYbblvC1pmbRJtN0PL/VtQks2JLr7nM/vKJezyYi7DsMpIwtr8Qd+y8EwDr9agfvI0XuOfvy2eIAf0/NwTr1B67jiVNwduGvLVsjFSB7pXXJW6DZu5I5cpnFzZIK8HpXNTzL0yhFNtvmpWEiHSB3vQs8tzuJ4Hz71g8OLLJpWKx+F7NXbvWj0HYSU4NYup5weYO3L5HTOka0W4J03qjm4krfl4fc+ncmmO0a+dbKqB7cwV8Kt1fM/FB+zx6SB6JsvIqQRSLIIxcAk5kw5ylrIEkoQzV8CZKyCGNARJAllCiISwRidx5m6PIQWoDs0y+9LqFg+rgTFdpnR+CrfR3NgJkoiWjqAmQkGfaUHF8W083yEmZggJESRBwsPD9R10IYIiaBTdWRJyCx7uhgwpbFQBybIpff05cB1CB/eR/OH3U3vtOObl0YVGxD9oMPJ1hr92BjWuY+QWw0vVkSIXP3+CbZ88QNejW/Fdj9JQjivfOo9ZaHD6lMjgRYe2trX7H8ZMldKZyTUlxwsXcth1GxAoDhdxGku/WxmapXJhmtjWlqZKL1JIIbq5BTUdXqKTuVr4tsvYkydJ7Gpv+rmejdJyby+j48Vb09FBEmh/944Vi+2NmQqls5PXtG3zqRmzbO1+jHJtYqF5cKk2RuMG3rbvuLilMmI0itbXQ6NWxzdvT0H+quH6uKXgHqmdGaRYGGvsxo5XbHuW6JaWFYla5myVme8P3nKBdt/xmHl5iOzD25szvkWB6NYs8R2tGNNLjYIgwJbNMrbtUyp7VGsC9frGjJ/v+dRH8kw+vTppyX8OCJJIbFt2ubzoNXCqBtPfHaBycYVG6J6HcXEY3zCxx6fwTAuhWseemMaeml3cZmAIr1LDrdbxDROnFsxxbqmCGAnj1mqImnbzUsYNwDUd8idGqd2iEjIg4IwMzmKXjRXD5HJUQ0nolHJzWL6BgICNRdnLIXoSoiDi42N4VfK+i+nX8XARkZhxrmz4FDdWGtPdgZSIYk/nUAslwvfsR93cjZMv4lVqePPx+xuh9uoxrMGRjZzG2uD55E9PLUuz+Z7PyDfOUhqcI9IdlO5UhvNUhgv4jkdfn8LQoMOhe1We/JqxJuUpY6Zyw1VeM5SGF8k9Rn45s8wzHEpnJmk5vAU9u3yFGNRgxQl3JddlTAHmjgxTHy82VURCgM4P7GH8m6eX9S5dD+LbW4OG3CsspItvj9OYWEp4Mu0qmhIjpKYWch0148bX2TMaeA0DfftWBEXBGLiI/89tSxsmxedO4FYb1M+NIobUJYpI10PUZGJbWtCa3HcIcqWVoVkqQ6uLhKwV9bECpbOTRHrTTetxtZZAZD73xsiSnL3nwdHjFl0dEjOzLqfO2gt9TtcL17SZPXJ5w2S42wklrhPf0bqizrTv+dRHi0y9MLDyytr3sYaXRhncUgW3tDQ3bY/Pl8SVl+fIr27rsbH8+c0QOL5TCym0W4XaaPGGtaRySEEKazjkqHiL70/VW5rmaPhVGn5wDSJikqI7S93beEesDRnT9M/9CFIyHvTa04KkttLRityeDd6cVYRcrMGRBWMajQkbFqNoNHycm6XQVjgtp24zd3yc/KnJoGriGtbb5csOH/9hnWrFX5Mh9RwXY7qMuU6DdiOUL85gF+tNjSmA1hIh1BGn+PbqGW7XwqkYTD13ni0/d1/TzyO9aVIHupl7dWPdTQCyD2xFijQXpnAaNsVTE8ucgvHZY8u2dd0bh2rkVAo5k6Z+8jRupXbTfrzvCFwPJ1/Gt13qpy7Pk0tWXlGqqTCR3syKMm2uYVN4a2zdbNabwXd9CidGaXtke1NjejVnr7VEqI8tMrZFAe66Q+XAHSpnz9nIsoAsCzz3wvqjWG7DXjdr/Z2CmgoT2966oqPoWQ6zr13CLvwAPIu3AMZUedUprbXALtVvWAUhqDLSCvXpK6HhVWhQXlcf6uuxIWMqp5NIyfiy3wf1RhKsZlzXJJM///UsieTG5Kf+l98s8ty3NxZi9pokzFVVJBYT0dfYfMNt2NTHizd1LLSQwJ33h+nrVynnXaoVD6Puc/yV2orOQX20EKi5+H5TI6QmQsHqZe0VJEDgMU9+d4CeH7+rqVctSCJdH963YWMqhVXSd/euKIZduzxH5dLsMkFr22mQiHQhijKFygiiIOHfREzfKRRwSmVwXdTuTmzTCBiQa4SoK4R6MjRGc3iN9ZVKXYUUD9PyYw8x/dmn8VfBiNfSYcI9zZncENQ5ls/PEN+xn9jWvQiSjBSKMHvkOeqjQ+B7hLr6yB56DEGSqI0OkX/rVdIHHqA6cgFRUWl/9ONc+oc/I7p5B3IkRvHtI0uOUTozeUOmeKQnjdYSXWpMJbj3HpX/488qfPwjIUIhYf0KSATPZ2O8uOQYP4hQEjrRvuYiIBCU4sy+8oNP3lwNfNfDmK1grlY3ew1wG/YNU0qCKCyIU6wWHrfO4dyQMS08/nUEZWMEAvOaEG8sLq5oTK+m0pYJtgCCGNDupyddGqvJwVx9f9dgYDZvkXj8C3XsNUYuXNNZ1YMViYn0bFUJh0Vc22dixGbzTo2Trws4dvMT9R2PxmQZz3aRmhkiUUBNhZHD6roF8K1cjdlXhuh4766mn2fu7SXUHqexgcbhqTu60DLNpcN836dycZZaE7JVT9u9bGq9h3Jtikp9iq6WO6kas+RKzUukBE1D6+1GzrYg6hpKdyfFJ7+Na609RKgkw2Qe2snkE0fxDHvps3TVQbxWpUaY/0u47vfBIFdlRK9CjulNCT7BrgJ91PqVIol9QR/Qqe89SahtE4n+/RhTV/B9j7YHPsjoU59DkGWSew4S27Ib37GR9DChtm5co4aWbkHPdtCYWp5PMnM1zFwVva25Fq7WGkNp0hsXAeoNH1EM2L0biUT5nk/p7NQNU0k77o4xcPTWTexb90d49Cez/O1vDa9qe0EW0dviiHrzqdb3fcxcdU35xW2blf+XvPeOkvM6zzx/94uVqzonNBo5EIlgDqIkypIsUZJHaWw5aDyS7bHW9uz47NnZs+Mz6z1zdmfGYWbktLZnRtbYlmVblmTLokhRJCUmkSIIgCBI5AYa6Jwrhy/f/ePrbqDRVdUBDVPefc4BOtVX9YV77/veNzwP//IX0uzarvHmWYff++8FerpUfvUXM/g+dLQr/N2TVf7kL4oc2Gvw859OsWeHxpkLLv/+8zl279T5178cvjaZUHjqe1X+8IubEyb3ag7V8cKmCXjfiMDxCfyg4eYhJM14+1QtbsmYVo9vLtn4T//YLDfXn0gJ+w/p/PwvJ8llA578+yqXL7iUy5JoVLB9l8ZjPxYjkVT43d8scuZ0c6PRckcn2z92kNJwjuHHz+MU1raLrVUln/m5OJWK5M//dO3J+8D2sOdXf312xudv/tvy2P4bx2qrGvzaZCEM59UxpkIIjHQMNW5u2Jj6lsv09y7R/Z69dYkBhKLQ+6GDdUXQ1wQBbfcMoKfqV/E685Wwim8FA4ygp+0Ib175Ktt73onnW2EVn1pnAV+AdF0Cx8EvlrAuXSHqesj1ekcCYts62PKzj5DY0018TzflCxPMPHkae7pA+p7t9Hz8XhRdpTo8x9iXvk9ge3S87xCpI1sRuoqiKYz8yfNUr84uEIj4eMUqqXcfxhmfD/Njk1mCysqxKRYdpGSDEEkgqYzmCHwf6bpY81N4pQKOGUE1j4BQiLR2Eunspf+f/Gx4XzyPXO4YTiGLFo0T6eyleOktor0DmG1d5N48VvejKlezC2xcK0NQiqES6UiiGOpSEZTvw/Mv2vzn/5ChrU0hFhV88c9vIf0hZUOeZKGAbip84n/u5b/8T4PIAOxagFDAMBWEAoEPjh2ABDMWyjmqqiCQ4NQChAjfY/Hy7GoQcsgaAjOmhEyqrsRzGk9SxdBCOr9Gi7yUFM5MrvmS4zHBw/dFOHvB4V/92hz/+lcyPHRflMkpj53bdN75Y+O0t6n8l3/XzsvHajzyYIQTb1j8+m9U+I1/28a9R03KFcnuHToP/OgYu3bo/PzPpOnqUJmevfVdmm95OHO3MSe7ynr4NtrS26tnul5Mjq98mH1bVR77aIyrlz1+5zcKzEwt3+YPXvA49ZrDr/yvKX7qM3F+9zd9ZmYCIikDu+wiFIFnXX/fWE+KrgcHUDRlXXqH2WzAzHRAW/v6wgjS8zcuKrwG587JVgmaMJpoCRMtqrPhGpsgXLAKF6bIHOit+5Lu9+3j2l8ev6HSdu2IdCVJ7OpoSCxfHctTPFefpF5KiR+ExlAIFYHSPMwbBDij4wt80j5V1yOw1vlsJFSvzTLyhefo+9SDjHzxBdxcaBD0lhh9P/EAl3/7CZy5El2P3UnPx+5h/K9fRc/EqI3MMfGVY7S+Yw9dHzrKtT/+bugIKQpGTytGTyux/VsByD11HPvqynNTTA2zLd6Ug3extSLso71xTi0yBfnYuVmGv/pfl/XZmh09JLaFu9naxAgtRx5ANaP41fo7u9p0seEORAiB2ZFAjehLxjQI4GvfqHL2nEtrq8KVIY/xiY0v4DKQWNP1z621y+DRH+9g4I44P/W/b6WU8/ja744xsC/Guz7RQTytkp12eeYvppmfcPjcb+9g8GSZroEIpazLN/5ogq6tER75WDstnTqqLvjS/x3u0Du3RPip/62feFrj0qkSz355hqDBZSi6SqSzSQvZArPZWmHoglhMMDEVfuDElEdbi8LcHIxOeAQBuK5kdt5nS6/GwBaNo4dN3vOO2LJ0z9mLDq4HrgfVWoBpbI4VCmwPO7sxB0nTwrqZIAg3L+5GsyeKQKhKOLcEIefv0s8hxWvIhx6KyRPI8GdFoCUi+FUnjBQtUESulTHqh8OYCgGqgkCs4PjduVtn/wGdP/p8idnp+hc1NxvwxkmHn/vlJDt2a8iWODsf3cLVF8eJt0e5/L3rVXBaVEeLGRSHsrjr0Ci8ctljYsLnvvuNNavGQMiLeru0EAHcQq3pw1ZjOkodQ7Xez5h7eYh0Hdo6IQRma3yJG3O9yBzsI9q1Mu8OYVindHmGylg90gFJvjxCe3oXhh6nu/UgppEiV25eGa4mkwjDwJuZRWvNEFi1mwzOxhHpbcGeLuLlqxBIim+NMvALjwLgWw5eySKwXcqXJmn/kQPhRAWCisXUHz+BEjGQvh/ulhtJveoqeqrx7psFVY5msHOzeJUyyd2HcfKzEEjcch63kMNs68LJz+PkZjDSrbilxvlIe7bctBbASEeXOayKAj/+sRjJlIKqwIH9Oi+9bHN8o8QNUuLk60d95icd/vb3x7nvAy188f+4BkAsqbLjcJzLb5R5+ZvzfOQXe9h1JEFhNrdwjM2TXwwdN0WFgw+lmLxa46ufH8P3wuvs2BKqRv35/zXMlj0xHvhQK8kWjcJc/QiH0JT64e6lS5DryvlWLcn4pM+enTpHDxns2q7zynEL25Vs7dM4tN+gvU3BMOD8JYf2VpWrwy6vnbJRFMH5Sw4H9xtsUKVxVQSu37AHeVUIuOtug3RG4dxZl4vn118NrBga0f421JhB5coMWszA7E4jA6gOTWN0pDBa49gzRdxCjejWttAenBnDaE3Q9ZG7mPveGayJPGZXGj0dpTaeC+f0KnjbjanQNfS+7pAiS0rsK8sXw2RKEE8IHLtxFa2U4DiSZEqQSCp0dbaSHSoQSRt07M9w5fnxJQ96USXDq7kNCbnrYedujXhMMDqydtUYCL1n/zb2v3kVp2l+QjX1de3A68GvueTOTFCbKtZtkxGqQs/79zPz4uC6+hqViEb6jm6M1vr5UidbYf74cMMFe2TqFbZ03Y/tVsgkB5jLX6RcbaKWo2sY/X2omTRuMo7R34c7O4e0NjD5F/KeNzoXXslCjRkopk7gehjtCdxCOAkVTQ0VfzQFoyWBX7avjyNVIbqnj8hAF/boLH6phl+s4uVXGkWhKeipxlVwUoJTsJBBgJObRWhhTYNv1aiMXUH6oZD79AuPk9p7BLOtE69SxB+q4FbLWNNjWHNTBJ5H+dol7FyDvkfALVrL+K1vhpY0lzFoqQq88x0m33yiRmWhtmFu/tYcmWAVukxFvZ6nVlSBogjsWmhJrIq/FK5Fwtigtew4oYBrBQQ3jb/pERvfB9+TuI5EbVL0omgKRjPnR7Kq83MjbFvy6gmLdFLh/e+OcemKy/FTNju36UzP+Tx8f4RkXOEr3ygzPunzwis13vNIlPe+K5xj10Zd5rI+3381vNZSKeDUWzblTWhvg7AAaSMUpgAtrQqKBuNjPu4G/SuzrxUvULGn8xAEGJ0pUkcGmH/pImoiQuae7SiGhho3sSbyGK1xWt+xj9L5CaTnh/U3xRpGR5L0nQOocRMJlEsWrNJP//Yb00gEva8bbzZblyfSdcLdz8AOlVhcUK3TlxZPCLZu0xACXEcyM5yjY28GM2WQu1paZmzsbA1rroLZGkO9IZ+zGrZuVRkZ9ln3JiaQt5VY2reb9/IqurIpguS18TzZU6NEe+sIGYuQRCC1r3tdbTjx/lYSOzvqGnvpB1RGc2GBSQNYbpErY8+iqiZS+vir0AoKIULh9CBAicVwRsY3TC7iWw5uoUrH+w5SvjRF+cIE1mSe6tAMHe8/hG+7RLpSzD13buGCILajk44fPUxsoJ3cq4NLRUdK1CT18EG8QgWjvwOhKFhDk/WNqaKgNGDRWfwgv+ZAEFAdu14h6pWL5E7/YOlnJzfL3KvPrjg6e+rlpe/nTzzf9B54VadpKkI1teWqSYBlywWC+/DAMMy7cYPaLMURBDAzYvOeH+8gO+1w5uUi08MWu48miKdU2noMjn07i+fd4GgvXpsjmbhiseNwnHd+vB0p4cQzuRWvWxWKQI02L9J01skSNDPn86Wvrgxv5/MBf/ynxWXLweS0z5e/tnwcZXMBXxgOUwHTsz5/+61NbNsLZN1uiLUgnVYolyRCwNCVDW5AggCQKFFjad2rDc9hT+TQUtGlkK9fdTA7U5g9LagxA4TAK1sEjoeaiCAdP6wMljKs1l/DM789xlRVUCLmEgmztByk08DV8H2k56Nl0kjfxxkZWzZBJ8Y8hq96fOTjcRwbXvyuxfioh22DYUBfv8a73hvhsX8S49qQz/Skj1N1mTg1i1AEhbHlA6V4eY75NydpP9rL+HcHcctro9SqVCTlslyaeOvBuibfet/bC5q+v1CVZQvaRuHka+TfnKDz4Z0rRHuFEGgxg+737F27MRWQ2NVBfKA+V6lvucwfH24aMtrR+26GJp7H88PFKJMcwPcdStX6BR3ScXGujuBqIQm5Eo1t+Nl4hRqzz54l0pPBK9WQfoB0faYeP0ViTzcoCtWhGSqXJhGaiu+42FMF7OkC9lSB8vnxpR23WMjxVM9ew9za2fyDFVFXdPn6RXLrXKhrROA0DkcDdYXFFREu8MVieGC5cnvP9Wu/O06qTaOc9/BcyeXTFaxKQDSpMnqpxthgDRnA01+aJjez3Bm7dLJEpeART4fE8r4nmR6xeO5vQmKQ7LTDyWdylAtNeh+FWDUytBnMTddGXL7wF8V1Rc1uB6SEG2PIRluC6IKeav714abjxbYk8bggHt+4829P5qmN5BCaEgqRTxVwF3K4fsUm/+pl1GQEZ66Eoms42Qq1q7OhYysh9+oVpOPjZMvkjl1BjRrYU6u3NsJmGlNDJ7JvJ5E7dqN3d6BEzTBJIsOCh6BQxBmZpPbWBdzR64tdYNk4QyNone34ucKKm335ksd3Hq/y2V9K8s9/McFjH41SKUs8D1QN4nFBV7dKIOGv/qzK0GWP7e9tZeiFceziyp1KbS4U/t77mXvZ95l7ufLVN8memVo15Pv9Fx1qtY2N1GYCwLcdQtCwW3w9CCSlS9OUBmdpu29g5cfoKukDPcS2ZNaUA9LTUVL7utCTK7llpZS4RYvZ7zdTARK0Z3YzNPH80m8S0S5ct9LQmEJIGK6mkijRKHpvN6UXXiEor7/6UPoBteE5asPLi0e8QpX88eU9g0JTEYA9ladwYmVPrnR9vEKF1g/ci5qKUbs0hleov1sQS/81Obe3e0VdhLipVUHC9GzAtq0anhe2yc9nfa4N3x5yCYCht8L7qAqd9th2CpVJBk+tfN7nj4U7PU0x6YjtYLJ8HqsaUBjsYMLN4vhVTDVNqZqjlA2PrxZ9hour59Ka9j5KNoWOcz4X8PJrPxwUrjcOv2h/C85cOUx1rTIsS0XJhXMe3b0bT0sFjkdt5HqFt+deJ8KQfoA9U4SZG9r45krcSJVRGbweCbMn19e/vCnGVN/aS+bjH8DY2ouIRsLF46YeF+n7RA7uJf7IPdROnqX49IsExTJC1zB3bkO6LsaR/biT08uehlWT/N1XquSyAT/1z+PsP2SgLuy0FkvTL5x1+fL/KPP8MxZWLexBuvczd1DLWQRewKm/vM6QkhzI0HH3FpDQflcfLQe7cQrWQv6n/vWd/s8vUB7eYGO4YBkxxWZDqM0khhcm6ib1fFXH8hTOT5I50rei+naxerPt3oE1GdNoT4r0HfVFzqUvyZ4abVipmUluI2a2omtxetvvAkBVdDKJfqazZ5t+rtB1ogf2Y18eIihXGutKbjoaf05g2eSeOkFkexeKqWNdncKdq9+3K+UqaQNB853rJkKoSlPDLv3lURPPh9/5f0oo4nrfeKm8eYZfoNAa7SdldJK1xohoKeJ6BtsvowoDVdFIG51U3BxZa4yWyBZiWpq52jVqXomB1J2hLJdikDZ7aIn0YWgx7FKFlugWgsCn6uXpiG0nqqUQQmGueg1TS9AS6cPxK0yWL+AFy6Nwa3le63UntvSpaBrrdkSOHjLo6FB4+nuh4VWUsC9VAFMztydKkD7Sj/R8pp8+2zwtsFDN++apt1sScWO4ZWNqbO+n41/+LEoyvswLXeEdKwoiYqJFTBI/8iBKOkH+a99GqCp+sYRzbZRESzp8ujclJitlyVOP13juaYvuXpWt2zTicUGlIhm95jE54WPbksUq/6EXxhk7Pr1wHstPo+1wD/s+e29ohFQFHYi0xZo+5EacmmvBoibq7YKiq02bq6QfhHnCTYD0A/JnJuicLBAfWCn9pScjtNzVz8R3zuFXG+cvhaqE+dIGrDDS85n6bn2BaQDPqxFJptAUg0yiPzxGBswXh1at5nUnJik9XyaoWiiJOP4/AJ1gYLlMPf564zEmIahaeLkyiqGjJmP4Zatun6kMJEFTmkCBoi+f1oomiKV07KpHJKFRK3rEW3SqRZdIXCPRFtI4zl6rEG8xSLQZZEeqRDM6xRkbM6bhuWErgVW+HpJsxFi1dN2ev8yRU1X4F59J8NEPR0kkFAqFgN/6nSLfeHxznkHCaCOmt1Dzi/Qk9qEIlYnyeVJmBxE1Qc0rUrAnMdUkW5KH8AKbqpdna+pOSu4s87Vh3MBhIHMXMT3NbHWIttgAEkm+NklHbAcCQUzPULRnCKRLV2I3ZWeesjOHQFn5jKVsmteFhfuouJh9/WiZNNbwNaTvI4DAcYnu3IU1NrIUQUkmBB96f5R9u3We+m6N0285fPgDMbo7FY6/4XLhosunPxUnm/P5+jerHNxv8MC9JncsK+8AACAASURBVGfPOxSKkkRCcPiATm+3xtkLDh/60SgvHwuVse67y2CgX+f5ly3ePOPwyz+fRNMFx47bPPH0+p+TM1chNtDelAZwEZVywCPvNtm+XeOpJ384dtnrwS0ZU2EatP+LT6Gkwj6qoFzFeusCtTOX8GbmCWoWQlNRUkmMLd1E7zqAuWMrQteJ3XUQb3KG4ndewujpIvnow2G+tEGFj+9B1ZMMDXoMDXpNKfK2PtBN79F29IiKW/N5/jdfX/pbfnCOwb98Y13Xac3dQoJeXa1g5NagxoymOdHA9VedzOtB4ewk1ZEc8a2tK3clAmJbWkjv7yF7srEKg56O0HK0v25hlJSS2mSB/KnG0mHl2jSV2izxSAfnrn3zxqNXPX+h6xhb+9G7Qkm70ks/IPBuv9pIM55cNRGl+xcfQ0SMJUHw7Dd/gHVlZbha+kFY+NMIArTkcudv4EgGRRN074rTuSPB0IksgSdJtBnkpy3yExZdO+NkuiO4dpg7kkLQfyhNNKnjuQGxpM7ExRJDJ7L4C4xcenKlasyN8KvL6d8UBe48ovMTPzvHjz0W5dJlb0M1CI2giDCc7gcuk+XzdMV34wcOfuCHvYVIvMDBVCWaYuIGFn7gMlZ6k9boVtzAxg8cBAKBghfYBDJ8bpJF1p3wem2/EqqS+BaqMEiZnYwV38KTN+1KA0lgNy+M09NR7LwFSPxyGS2VJrJ1ABlIpO8hdAMxfl2XuFSWXLjkcm3E45nnLNJphb27NX79PxSwLImuwd99q8p9d5k89r4YhWLAl/66zOi4zwP3mtyx12TPToPf+p0Chik4f8mjJa2gKIK5bMDj3y7yv/zLNFFTcOaCS60mqWwwtx3pTjH7/AUyd/azWk9hJCLYtVsjCPj/nzFNPHIfalsLSHCGx8j+2deX5UOvYwr73CClZ18mds9hWj71YdR0ksiBPdTeukjt3CVq5y6hxOurqC87YS3sAZOShuXTl54eYfDZURRVcO9n9y8zvPnzM+TPNy7332woqoIau33GVIubDWXLIFzQNlOayq+5ZF8fIXOot24hUrQ7ReZwX1ORZqM1TsudW+ovxBImvn1u1byfJGBw7GmEuCmdIMNqvkbQuzrR2ttwJqfR2tvYlHzyrUIVBFWbyf/89VVfKl0ftwlr1yLr1Y1wah6FaRtVE8yN1ChMWex5qI1K3sGIqMRbDMyERjStM/pWgXRXhESrQborQnneRtUVZocrlLNOGJJccAz0VLTp7XOL1opddKUSRpAURWCa4b/NQtmZJ2G0kTQ6KDqz+NJFyoBAeniBiyo0+hIHsP0Kk+XztEb7SZodFO1ZZipX2Jo+Ss0rUnGyeNJma/ooUkp0JUJbtJOU2UlbtB8/8MJxtjB+dcVAFRppswvLK+LL68ZT+kHT54UAsy1O+eo8frmEGk+gptIEto2Xz6PEYmiRyIrokh+EO30jLERlejbA90Oaxk9+NE4mrVAoBsTjIvy9KsLXAum0wLYhGgtTRKYBQRAyP+ULAaVygCLg1ZMWv/9bbbz4ssWXv7ox41abzNN6/46FYrXmc9rz4YlvWtx1z+1bL28nbsmYRg7tAaEQ1GrkvvyNBob0BgQBtVNnUZIxWn7iw+jdHei9XeFdVBRih++g8NRzdW96Ki3o7dfYt1+nrVOhmJd89csLzDM6ZFoUbFtSKkqSPXGibSaqqhBJhSGst6soQ+gKRrJJn9ktwmyNNS1w8KrOpve5zh8fpveDB+oKeasRndTeTmK96bq5U6GrpPZ0Ee2uT9TgVx2mv3dxTeeRSV4vhFokuc+XR6jZ9UgeQgSWhTM6hjB0lFh03cTY9SBQUBWNQIY5Qk3R8aUHSBShE8hQlxZCY68qOlIG1xfdQBJ4PsaWduTCLsYrVJB1QmOB4+Pkqg35SRGCSNdy3t7xc2Hu+dLL80uO5dTlcuhzLPx8+dXs0vejZ4og4YWrlcULrOufRLqTTXPObqG2rPUsCOD4SSfkhE0K3veeCI8/uXlhdl+6jJfOLp3wXDUsBCu79SkHS84sN17c+bnvLvv7TOXK0vc5q36kRBU6Mb2FmfwxOuO7UBUN379Bds4LcHJNipSEINbfElau53J4uRww2vj1C5iY9NmzM8LD90c4e8Flds5f4i3P5X16ulRsW3DuvEtLi8KPfTDK+YsuhULAU89YzMz6fPzDMd54y+HoYYNCUTI+6TExGRBImJzy6O/TqVQCDENwz50Gz39//f3Ybq5K9tgQ8e0dTV+nKHDosI6mC1Tt9ji4WlQj0hJFi6hNx61n+5RG1881fmuqMW0tIMCbnMG52jgsdyOk6+JcHsbPF1FTyfA9XD/0vBrssLp7VT750zE+/qn4Ep3f5YvekjHt7lX5559LMDbi87d/XSHeFSXWEkEiufDt4dtCurxWKLrWkJRgM2B2JBpKcUG4O1jJa3trqE0UyL81TnxbW10awMSOdpK7OkO1nJtuvRbV6Xh4R8P3nnllaM1ydelYX/iNEJh6Ak01sZxiU2Pq5Qr4xRJKMkFQrRFUbz2cZKgxMpEeam4BRWjoapSKm0VVdJJGO2Un5NtdZAdIGp04fo256hCSBSozBO2ffCdergQSCs+9gT26Ups1cH3s+TKB7aFGVnrwQhFE+zKN0yCywddGv6v38wJifZmQiaHexwQSa6a0rIHf9+G/fbGM78Mf/NcyLWnBWB0K0VvHeub7ra0NVTePrkRojfSTt8Zx/eUGR7o+VhOhCyEgsbOxaHgjDF3zuDZSXjKgf/aX1+fMt5+xePq71jKOAUVhBevRW+fcZV9vxO/8UYlf+vkkf/gnJWQAhw8YsAFS0viODvR0lNjWNgpvjjbdnV65HDqPtr3563WkNcquD+9m23u3k9qaQo1oDVMUc2dnefKzj6/7MzalmtfLrk9xQHoeQbmKmkriF4pU3zgLQYB95dqKm51MCj72EzE+8ZNxJsZ8jr1s877Hlu/0bFtimgqPvk/n2Ms2RU1h+NUp3JrHnvdvZfpslkXKVqGKpsanHvxV+umaQY1oDUWcbxmKINqbQWmg4SelxMlVNk7v1QTT37tE57v3oBgreWLNtgSpfV3Mn1jZJ2p2Jskc7qv7noHrM/HkmTWfw8XRby99ryoGPe1HUETznaaaTqKYJs7IGJu6XxcKqmoS09IU7Rm8wCGhtyKBmJ7B9WsIoaAqxsLX64YwsBxy33oVNRkjcDwCy8bLNW7XcfM1rNky8f46MmwCIh0JjEys+Y7oFqGYGrH+loYevlexsefKyypZFQU+8L4ITzxlkcsF5Br7PP9o4EuXrNV4J+nbHpWxXNNIQnp/N4qurlJYthI3GkfVUFFNFSHALjoEQmCmdNxqGCFJ96dway6VmSoIQTQToZazkIFE0RU0U8WteQhFoBrh+/z9E1WOHDKoWZKnnt1YBKE2kad0YZLq1bmmXQVBEC79e/bqdPcovPaDhi9dN4Qi2PnYLg7/3J2UxkuMvjQaMuA1SAOXJzemMnRLxtSdnkPrakeJr3Pnpaoo0Qh+uQJSoqYS+MUyakuGoFJbNkq279Z45D0RLp5z+R9/VOLcWy7vePfy3sRiXjI85PHgIyYDB5IUO7pJ9cRwax7J7uWGt/VgN33v2bWu0x38qzeoTW3sBqsRnVhvOmyP2eQdstkSw2xPNGy98asO9lxl3ZN0LSgOzlA8P0XHQzvgpgIooQgyh3qJ9qQoDV7fXQlVof3+beiJ+nR4xYvTFC80oQNcBYYWw9WaT3qh65g7BlDTKfB9rMtXGxOKrBFe4FCyZxAIbK+ErkQQCCy/jPSKSMLxLFDwZB5N6Dh+bUmQWKgK5tZOzG1dWJcnCGpGyJc7U7/FyMnXqI7l6xpTIcRSqH3u1Wu3dF3NkNjWhp6KNPTua5NF7JuMuarAxz4S44mn/vEVl2wU0guwpkp4ZbtuT7UQArM9QWJXB8Xzjdm+VsOWB3uIZkysokPhWhEjoaMndOyCQ3GsRN/93RSGi1TnLIQq6H+oh2svjOG7AW27M5hJk9JEGTNtougKyZ44V56+xpMbqOC9Eck9XQSOh56OUZsqNF0DbUvS1h5WeW8mhCbY+eFdVKbKnPy948ydm8WrupsesbwlY1p74zzRQ3vReztR0imCwhrizKqC3t2B2pLCujiEEo0Sv/8u/GIJtTWDO7Y879rVo7Jlq8of/pcqJ19z6gpl27Ykn/dJpASa8Jk+l6U6Z+E7PjPncss8kNSONnZ84tCar9G3PUaevLBhYyo0hUhnEqMlhrPG8OVakdjRjpFuvKDZ2SrW9A3PRBGoiTh+pYowjaVcNcFCMYUSqqmgqSGDlaHjzeURhoas3RS+8gImnjpL233bUOuE+hI72okPtFEeml+q6BSaQte7dje8nsnvnFuH4Rcc2vnJG35S8AObuQZapovwcwWcscmQZN4PVoadJOuOQvjSoVqnGs7210YGoUQMYkd2YA9Po3WkF2gPGxtTe65M5doc7Q9sq/vs1ahO5siW22pMM0f6UKONW8Yqw/MhEf4NCCQMXvF46AGTkREPCRSKAeVN7DX9YYSTq1K5liVzqL7qkmJqdL1z9y0Z03R/Ei2iUp6p0ro7pFKdeWueeGeM8nQVz/IpT1cJ/AARCIyEgRbR0ExJakuS0kSZWEeMzLYkU6dnaduVwUybeNatRTf8qoNXcXBz1VULkBQFMhmB625uzlQIQawjzvgro0y8Nr7pm5pF3Jqe6ck3id9/BHP3dtIffpT8V59EOquUgXd3knzvwwQ1m9rpC1hnLqHEowTl6hJv6o2IRARCCLJzQV1DCuEz8j1QhMAuOpSmqsxfLuBZPj2H2yiMXzdi2bNTnP2j+jEERVcwW2K07O8ktbONqZevMfyt85SGNx6PEkJgdiZJbGsju8nGNLW/G6OlcQW0PVemNnk9BB/Zsy2svlYUtJZkGJ73fJREHOl7uOMzBKUKkYO7cMZnQEoie3eAqlB56cQKAevsyVEqw1mSuzvqFiJlDvUyf2IYNx96t4ltbcQb9JZaMyXmT4ysY6BLxmevtzxJ6WM7JaxVhb4l3tw8fqmE1tZWtzCtWV/urSrw1IUIx7g9OhvSCa7CmOXXXMpD8zjZKmbbyuevGBqZAz0YrTGc7OaHetWoTuvRfrQGnLO+41G+Or8izCwE7NyhMbBVpVoN9+VPPFXj+Rdvn6rSDwOcXIXipenGxlRXab1nK9HH09QmNibS7TsBMpDUshZmwsAuOnQebqc2b+GUHAIvoG1vK8XxMtEWk/RAiu6jnUy9Pk3gS9r3t5G7nMd3AmpZC6vgbEp/vD1fwZktYXYmV3VSY3FBNhvQ23drwhwrIMEpOSHL3W2sn7mllUFWLeb/9Gu0/uwniD90N3p3O5UfnMIeGsXPFsLwmaKgxGPo3R1EDuwm/sBRRNSk/OJrVF59HVm1mvYfOQvzLBJtvMBEooL2TpVyOcCqBnTsyVAYKeNZPr13dTB1NrtEF1i8Mt+YzUiEOVU9YTLw2D62vH8PWky/5TBptCtFam8X2ddHbrXeYQlmR4LUnq6GbTfSD6iN56mNX5+cIhJBRAxwXbyZLFKI0Pmp1SCQ+IUSel8XaiZFcO4KxvYtIAP8uUJdyrPA9pj49ln27n533XNouXMLejq6ZEw7HtnZkKd09pUh3ML6QkrZ4hBRM0Mi2onjOdhuiUA2z4SqqVSYYigUQ+Yty8Iv3hB1kM1JEfRGoty3AOl4uNkSHf/0XSgxk8qZq3gnLjU9pnR5hvK1+brGVCiCaE+atnsHmPzO+U0/35YjW4htbWmYXqiNFygNzqxg/vE8+LX/c/ncW1SP+f8y3KJF8cI0btmum+IQQhDtTdPzgTsY+uLGkoWXvnUl5A+2AwoLJPaqoeI7Pr7jM/TdERRdwXd8KrM1TvzxaXzHx7N8hl8cQ9UVPMtj+swcvu1z9bkR/HUoQDVCtC+DV6iSOtiHNZlvSttaKkleedmhq2tzSW6CQDJ1coLWPW3EuuJUpzd3U7OIpsZUmAZ9/+nX6v5NBhLpeaH2oghfa+7bhbl7exiLXiwzWyQTVQRCUUFVkFULNZMiesdunNFJYkcPYmzpBSGY+5O/XOY9zM6E5PV33WfwyosWc3Uor7ZsVXnHu02GhzxmZwLUNOx4Vy+VeZuWgeSyByh9ie83X3C9isvYdy+T2d9J/wf3kTs/Q2164+rxSkQjfaCHaF+G2jq0C5shc7CX5K72hiFep1CjeGl6uWFQQqel+sbFMDe96MAsvkUQ4M3lqL15EfwAd3qhClXS0NmZevo8O3/uQfTEynxQbEsLsb4M1dEcSEnnO3bWfY/A95l58TK+tb6SoN72O9nR+26qVhZdi1CuzTA08XzDal4lESd65ADGll5ixSP42Xw4fm+A9AO8UuOdkhrRMTuS2LMbC/vXw2IBUvX0FYSpYw/P4Jea7ygrozlKF6fJHOytW1FtLGjMzh27tuTMbAaUiEbHI7uIdKbqjj0pQzH50qXllch332Xw+iknbF/7IQ7rKqh0GANsjd6BIaKoQmfSvszV2mna9T62Re9EExp2UONK9XVy3iRbIweIqSmiapK4kmbaucql6nGWPGdJeE8GZxr2V6tRnc6Hd5I7OULu9NqVlxYRFhqFCBa+9azrc9+reSyS0EpfYuXtZX/zloZIcP31m4Dq1Tna3rkHr2StmqOMRgX77tDZs1fjwjlv00j7pRfw1p++xbv+46M8+G8e5vQXTpG9ML+pZDawhp2pEl25SMLKDZZYJLVWlOt93EuL9U2DJxYh/uBdxB+8i+ITz2GduURQqYW7JqFwoyTT4AWXE6/afOIn4/i+5G/+ooqihPH1ZEpw130mn/lcgv2HDL74hyWuXvGwz1+l/55OzLTB93/n9NruxE2oThapTpboe89O9KR5S8ZUCEHmSB+td25hYrKwLh3VejDbE7Q/sD0MndSBlBJrukTuJhah2uvnVn/zG3eg3uqeqVd1mHz6Als/fueKvwlF0HLnFnKnRjFaYsS21leIKZyZCsNb65o9gq1dD3Ly4p9Ss3NoaoStXQ+SivU2NKZBuUL5pVcRho5fWnieN7EfNesLFEIgFUHL4d6Q7nCTIAyNyK4+ahdGkF6Alo6TuHcv9vB0mDetd1t8yewPhmi7fxuJHXWcKgGZw310P7qHsb9/c3OKLQR0PryT1rv767JuSSlx5itkjw/jFpcb8F/95ST/4ley/PZ/aOGX/tV1pabNiroJEZIYLPrwihL+zvfDzJGuQ/9WlQcfMvjylxo7F7oSodvcwYXyq0gC+iP7mbaH8KRNwZvjVPE7eNKmTe9jIHaIXHESU4lgKlHOl1/Gly4PZD7GhD1I2b8+DivDWfJvjpM50IOoQ8MohCC+rY2tn7wLa6ZEbXL9fY4/jFDjIUuWm62uGpXLzgfomuClF+xNM6QQRhv3fXIfgevT+0Afvff34ZQdnIJdd17kLmd54deeW/fnrGpMlxad2wRvagZ3YhoQ6B2tK3KmpaLk639Voa9f48Mfi/HJn4oDgnhC4aXTvQhFUqtKnvuOxbf+topVk7TtTLH9kV4ufmeEnkNtXP3+KmQSdSADiQwketLclNyBHjfpfewg5aF5Cuen1mk4rkMxNDoe3kH7wzsa7koD2wtp/zZpF7waJp44w5aPHKobws0c7EUxNNof2F73WBlI5l+7umLxXQtcv4bthDtEP3BwvPIS/VsjCF0jdugO1PYwd1t8+nsE5ethn8D2mt43oSj0fOAOpl+83JQicD1Q4xG6f+GD1AbHyT/zOtHdvegdGRL37mHmz54hKNevfi2emyL3xhixvsyKntOQCSlK72MHqYzlyb0+cmtOnCJI7eui7yOHiHbVJ9xASkpDc8z+YGjFnxQRCoN3dii846Hroc6ha94t95pqGhy5U+edj5oMXfaoVSU9fSrt7QqnXne5POjxTz8Vqk2VSmvYjUiJJnQkwcK/8L6ltQ66zR1IQBcGAoVFmYl5d4JaUAYkNb+EqcSWGVPp+sy/do22ewdI7e+uO3eFImh7YBvbSxZXv/xaaFBvQ44vpPGUt+zUrwVmRxLpB8S2tVG6MNH0Mz0PvvvM5ld6K6rCtveFve1W9vr7aw1SZI1+vxqaGlPpuMz89n/f0BuvFUG5gnRd7MEh3Ikp6rkvgxc8/uOv5/n4T8Z48B0RkmmBqoY0WcWC5Acv2nz9rypMTYSTsu/uTibfnMdM6HTe0cK1V6bW7ZlH2uNEOuL4tr9pJdTp/d1s++l7ufrnxyhdnl239JISCY3SwE/cjR6vn7uTMmyWn3zmPELXEZpGYFnLogRC11e0gwjTBEEo0L5OQ18ZzZE9OVLXYCZ2tKHHTdruHahzZFgkVTg7iV9rXri2EpJiZZytXQ+SL48QMdLEzTY8zyIVDws9SpWppbaURajpFF6xRPm1k+AHSHf55/q2R+XaPIHr13UOhCJI39FD96N7mHru0qYYVBlIapfGKTx/GnNLKERdfOUcqYcPNOW+lYFk9BunSd/RQ2pvV92ez+SuDnZ8+j6GpCT/1sSGqCWFrpDa08W2n763YY+wlBJrtszEt87UDSt//g+KfOiDMbo6FN776PVo19Pfrd2yMW1pUTh4WOfyJY/2doV4v+Ctt1y+9hWXf/Nvk2wdUHn8GxaqCvc90Fy0wgtsct40u2P3UPbzzLvjVP0CujDZF3+Q1wqPUw2KdBj9bIscWToudOIasV6EKF6cYfYHV4n1t4RpkTqPVtFUen50P3o6wshXT1G6PLspfeJCV9GTJnoqSmJ7G5XhLOWhudUPvEVUrs5itMRwK7VV1tEmZOu3CN/1efqXnlzz6z17Y+Ox+c5UyoVd4+2DMdCH2daKN5fF2DlA+aVjdcOLE2M+f/DbJf7sv5bp69eIxQW1qmRizKOQX/4QCuMV0n1xzJSOU/GWPUQ9aYYqMY0gBHrcoPP+ftoO9VAeyeE1UUBZLzoe2oGeijD6d29QODcVsqOsZqwVQaw3Tdu929j643c1pOKTUhI4HtPPX6J0aQa9pxtzyxbc2Tm8XA6/VMLo6UGJRLCuXEGYJnpba7gDb2tDmAbe3PzSa9cK6QVMfPssrXdvXWGAVFMnua+T1L6uOgdC/s3xDYa0BJoaJR5pJ5O8rhwTMVuWDNBbV76OH9zU0mPbKBEzLD7yfJyrw8sr0IOQaL8yPE9yV32hbjWqs/2f3U/gBWRPjqy7cOpmSN/HL9cwelrR2pIoERNvroDQV68PrI3lGfna6+z+xUcwOxJ1jW/mUB97f+XdjP39abKnxqiN59dUVCdUhWhPiszBXrb8k8Ok9nXXP38pCWyPmecHmX1l5a4U4MTrLqdOF5iZTvBHX9jcaJfnSSxLEo0JLl706O1VKRUlti0RIoxu9fapeK7EX4VYXwgFXRgUvFnm3XEkAerCLrUWFElp7cRkija9j2CdtB/SD5h86izJXR10PLSjYTGeUBQ6HtpJcmcnU9+7SPb1EaypIvZ8Zc1Op2JqaAkTIx3FaIkR7U2TvqOHljv7iHSmOPPvv/0PYkwBimcniG1bzvIkFBU1GifwXAK7htnahVOYR/qbt9YuQULh2saqpNeD21Dnv06IUJpNbcngz+dWzdOViqF+aTPMXcrhlBz0qEZ5dvlC13a4hx2fbNxnKhSB2RIj1hOGJyZeGMLObWyxlH6Ak6+hRvVlMm6Zg73EB1rJnhyhcGaSylgOe76CV7KWRHQVTUFLmpjtSeIDrbQe7af1nq11i01uRP70OGN//+bSz0o0it7ejt7dTfXNN9FaW1FjMayrVzF6ejC3bQPfW2BoUcLwYF8fpddea6jgs/JCw11PaWiO9N6VRrP3AwfQkyv7Yb2qQ/6tCezsRqrrJCNTrxCLtKMo1xelUnVqqT0mCFaOk6BaQygKkV078PMFnOExYPnrrJkS2ZOjJLa311W2Way+3P25R5h96TL5t8apThRCLlrbIwgkQgkl/hRDRTU01Kge/osZ6HETLW4wf3KE6kgOaXvUBsfQ0gmcsXmEqaO1JHGncyvakeph5oVBzPYkO/7ZfaGKUB2DGh9oZdfnHqHw5gS5N8epDM9jzZRCuslaqO4iFIES0dFTESIdCWL9LWQO9dFy55bmMoQSZr9/heGvnGwabfF9+Kuvbn6rTrEoOX7MYecujVJRcqXqMTPjEwTw/ZdsXj/hct8DBsWC5MyZ5gYwoiQwlCiedEhrnUTVBKYyybQ9xJXq66S1Tnw85pwxCsoskoCcO4Ujr4cPp5whag16jO25CsNfOYnREgvzpw3oGAEiXUm2/eQ99Lx/H8VLM1SuzWNNl3ALFl7VIXAW5q2qoGgKQlfRYgZ6MoKeiRJpTxDtyxDbksFIR5c+6x+Sp1xPRdGSEYzWMD23uPtUDJNYVz9OIYtl10hu20f+4im8yu03enpcJ9oWRYvpyEDiFG2qs9VbDnu/7cbUGZ3Am5nb1F1+x54WJk7P4VZcDnxsB7nh0tKNMluitOyrv+NYhGe5FAbnmD42wtjTg3iVjTHkBK7P/IlhpB/Q8779yzxRPRmh81276XhoJ9Z0ETtbwS3bYRhOSoSmoiVMzLY40Z40iqE2D/lJSfnqHFe++Mqy3kK/UKB2ZYjkffchFAVncpL4wQNLlRqKoYc9pYqK9D3soauk3/vesNhmHdfqVWymn71Aek/XivBVy9H+um0UleF5inVaKNYGwUD3Q1St7LJ2mIqYqWtEl44yDfxqFe9iDq2tFaEqK67TLVnMnxgOi3sa9MUKIYh0JOj7scN0PLITa6qIW7DwnTAScqMxVQwN1Vw0qAZa3ECLGTj/8TuhMXU9Si+fuz4HFIHemSGoOQTW6mNP+pLxb76Jogq2ffo+tAZkCqqh0XrPVlru6seeLWHNlXGLdsif6wchqUdER0uaRNoTRDqSqwoBSCmZeWGQK3/6gzXRF+Y3md0GQiM9dMVnKJ0KkwAAIABJREFU6MpKx+PbT4SRiW9901o1eyEQJLVQSWiwegIB9EcOYCqxUAjcHWPOXclBPusupxMctZq3IxXPT3Hliz9g1y88TPqO+vnTG2G2Jeh4MCw6DFwfr7hoTH2klCiqglg0plEdLWGumzL1dqEyFFZ1O/nlpA3S80KS/77t6Ik0WjTO7QrzLkKLafQ9sIWe+3qJdyfC3KgfYJccSmMlxr4/wvSpqQ2fxttuTBXDIHpwb9go7wVUT59ZdjGKAmZE4LpyBWmDaQqO3msQiQounXeZGPPJDCTZ/kgP7bvTeJaPUFgW5p15bYTXppuEMGVY0emWbKpTpQ0b0kW4uSqTz1zASEdpf2D7Mk9UCIEwVGL9LcTq8ayuA7XJIpf+4AWKF5fLy0nfDxktkKiJBOb27Rg9PRi9vUjfw+jrwy+VCGo1pO2FosQbICAJHJ/c6TGqk3livZllf6tXwCX9IPS2h7Mr/rZWaKpJuTZN1Zpfyo06bvNdrhKNhk3cI2MYvT1hCeiKk4PCuSmmn7uE+U/vakh/COG1RTqSRDrqV1Y3xc33eXGYBhJ3an1EIb7lMvqN03g1h52feTCUR2v0sYog0pUi0qiQaI2QQcDkU+e5+hfHlofqRcjqJINwoQ88H0VTEZqC2dtK5cL6Wz9uFWvZjEkkZS9Lu76FO+LvWPiNZNK+vExWbTOQf3OMi7/7HDt/7iHa79+2pmOEEGGUoz3B5nc73x6kDvSiZ2LEBtoZHc0upbQCz6E6PUq0vReh6RSvnMW/RbalZtCiGgd++hA7PrgLM2VQmaniFG0UTaF1Txt9D26h975eLnztPIPf2Fil/ttiTIWuET16gPjDd1N59RSB5eKMTiBr1gqvoL1T4dM/nyDw4UtfKDM3Gy6asbjg3/1WhsN3GSiKYOiyyxf+oMSpU1UGnx2lPF3DdwPc2nKS+tpMhdrM7WnaXXGdikBLRqhcm2foz44hNIW2ewaahnY2gvK1eS58/nvkz0ws+703O4eXyyNtm/JrxwlsG79apXbpItJxiR85TO6p76BlMghVwRoeQXoehRdeDD3HdcKaKTH/2jCxj2ZWfa09X6FwbvIWFG0kjldh15b3YLvlpdVyZPpV5otXGh7lzs6hppIkHrwXd3o2HHN14FcdJp44Q7Q7Tdd79qwaXv9hgF9zmXjqHPZcmV2/8I5QwP02wau5XPvya0w8dW4FTabeliQ60IGWjGJ2pymevEryyADT3zyB3oSx64cBZT/H5eoJFBE6Wb70sIPqUkXvpkFCaXCGC5//Ln0fOsjWH7/7H8UYWy8q1+ZR9DxuyVrh0XjlIuVaBaEoBJ674Q6HVaHAlof72fOxfcydneX8V85Sma4QeEHYzamrtOxq4ejn7ubAzxwiP5Rj9s31a16/PU9PVdF7OoncsRvrzCBStUncdxSkXKFn2tevcf/DEc6fcZZ58j/92TiP/miUUjFgesLn6D0mH/mEz/DVIuOn5pbCulvu6WTsxD+cGPiNEKqCnoogA0npyiwXf+95dn7mQToe2bVpE2fu2DUu/7fvU742v6KQSXreUh+lXw5zOP5i9aqi4MzMEtu/PwwFX76MtMOQmF/cWI+bW7TInhim+737mu7mIJRxK9xk/NcHQSrWyxuDf70srOv5zSsfFcPAnZvHujyE3tvTlLrPnq9w+QvfBxnQ9SP7/lEsdoHlMfeDa9Qmimz/9P10vmPnpmi23ojS5Rmu/I9XyZ0arVsQIx0PLRFBjZvYk3miOzpRU1HMzhRmd+a2iD5sFsJCo80j5FgN1nSJa391gvyZSbZ/+j4yB3p/KPTqNwtaMkL6cP8KmlnVjBJp78UpzOOW86T3HqUyOohX3fxWTEVV2P2xvVi5Gsc/f4zyVHnF+CuNFalMVXjf73+Abe/d8Y/HmApVQZhG6JHULKqnzqKYBn55JRlyS6tCZ7fCN/7GpZC7viv9mZ9LUilLPvczc+Rzkl/81SR33Wtw8OE0w/MxUr1xhCroOdLW0JgKVZDc1kJqVztGKoJfcxn+1g35jlvN4y7sTIGwSnSiwLnffpaeN8bY8bMPYLTFQ/aodcRVF4sHnFyVsW+cZvxbZ1bkqnRTob0/QmHGoVr02PdQhuKsw+SVKjKAvn1xylmXwuAgwfhV2npNVNPBTqg8+NEuxi9VGTyRx4ioRBMq8YzO5JUK6XaDSFJjfszCserkviRUR3MUz03Seu9Aw+vyLZfi4MwtNqZLStUpdvY9StXKIheIPubyg5RrjSvQ1XQKJRbDm5pB72jHn5vHb6Ia42SrnP/898ifm2LnZx/EyMTW/cxWnPniGL9N9kT6AeWhOc7/p2eZe3WIgU/dEyrMLOStNzLekOGYm3jyDOPfOoM1W2p4/l6xRvalm+YRAoIAa+L4D60hfbvg11zmj1+jeHGKznfupv+jR4gPtC6rM9joeFtWbCShMjLP5HfOM398+FZPe02IbWkhe+wKmTv7l9HGKmaUeN8OjHQrXrVMsn8P1cnbc05CCFp2tTL+8ijlifqOkvQluctZCsN5Mjs3lnJ7e1xtRUUYYZGEEo+SeOgexAJ9SfGZF5cRN0SiAk0X5LIBi5uq938oQjIp+Lu/qXDxnIcQcPYNh/d9MIIeuBgpg7GTs3g1DyNWh21EEbQe7mH/Z++l9XDPEptLbbq8ZEw77+9n4LF9DD95kdkTY+vuCV2EaqgIXUG64fGB4zH+xBlmXhyk5wMH6P3QASKdSRQ1pHUSiljumS5Q+ckgFJF2ixYzL11m/PG36uYbNUNw9wfaicQ1HDvg+BMzKAtE6gK4+7EOVE3QuyfO838xwcDBBEZM5fJxF0UVxNIawcK19u2Nc+RH2jjx5CyarhDL6Bx8ZysXj+W59mb9QVmbLJI7PU7r3VtXSLPBAktOrkp2EyZzuTYTVoMv3DApA2QjkcLFz/d99K4OlIiJ3tVB7fzq+RHpBUw8cYbp5y7R9+GD9Lx/P9HedOgUKuG9rctTu/jsZEiwvUgE4mQrFC+G3Lq3E17FZvI755l75SrtD+2g97EDJHa0o+hqeN7KAmtZo/EWSKTnU5ssMvXsBaZfGMSaWqMDtMJgLhrldRjShZYb96Y+y0UfN7C9FZ8jNA2hhnM+cJ2Vitg/rJDgFizGH3+LqWcv0HK0n65H99B6tB81podjTTR4ZgvHh18XntvCmAtcn9p4ntzpMWZfHqJwfmqDBX8Lbx8E+JaLW7br7jX82vI+dWu6SNuDO/Htm8K4UgICLRIHCdmzx9ZUyetb7oo6lsXz8GtuQ4pAoQgCd/Xrlr5EqbNurQVv4840ZJkQmoY7OoXW0YrQ9RVhN1UVBD5LxUeqCh/4SAzPl3zza2HLipRQrYYPR/g+l58eQYtooMDQizeFEhVB5/1bOfjLDxHrS+GWbALXJ9KxPJcjVIX03g76LI/C4Cx2dv3tMYuLrGpoeDdJdLklm5Gvvs7I10+R3NVBy+E+4tvbiXYn0VNRFFNFugFezcGaLlMdzVE4P0nh7GTTJm5FEfy/7L13kF3Xfef5OTe8nDsHdANooAEQiSAABpEiRckiKVEUJVuytVrZ8pTG3i3PjmuDS7s7rq2aWVdtbXlqasdbttZbXo/GWSNRgVakmAmSIMGARGSgc3yhX37v5rN/3EY3mt2N7gaaombK3ypUoW8659537/nl7691Sxij7lDK2qiaQAsKghEVoQratoSxLZfSjIkeUtCCClffKlMpWDiWpFqwmZsykR5ID66cKDF+vkaiLcCWPTHSnUFUbfWXzbNdakN5mtMVIr0rxE4lNGcqFM/efhLKVP4UqfgWYuEObKdJqTZK07h54o49OY1nmOgdbVSPHcfbAMOX27AY+/a7jD11klh/Cy37+khu6yTQGUFJ66ghDVULoLkaru1g1GsYxSpWoYk1W6c2XqA6msPM1lZVzgQCBQ0P55bjdAoK3g1kFXbVYPqZ80w/c55QZ4Lk3m7iA62Eu5MEW6JokQBCU/BsF7dpYxbqNKfL1IYLVC7M+NzKHwKsuQbn//hZ+ONn13eCopK592GSB46gJ9NMfu+vqV0+98HF4jYZ1383t2mTf32IwuvDhIMx9G1RYjvbiPSmCLXFCWQiqJEASlBDAK7l4pk2nuFgVw2M2SrNmQrNqTK14TxmvrZpXpDatTyn/ucfrPt4oSjkXrxIdGBpBYVdK1M48xrg4ZrL46mr4fS/+seNTBfwFfjqZJXUjgyhdAijuEKehIBYV4z4lgTjr4xteAxYhzBVM0nUVBJpmjj5os+Qc/3kzjaEsvF4jJqKoyZiALjlCp5hIAIB7LHJZbWNzaaH60qSKYGqwu47dPYfCnD1ssPZk4tzuc7FiYSO/S107EmjaAqeK8leWFwMIu0x+h/fTbgtyvQrQ0z8/Ar1yTIf/+svLRm3MVWhMVkhtasNPRa8JWEKrG61XIcnqV7OUr28OXFdx/Y4d2yOzoEI5ZyFogrCcY1YSic70uT0i3m2HUhQLzvMTZlEEhp3PJBm6GSFqWsNKgWL/n1xSlkLo+YsWHoCsE2X/HgTo3aT2kfhkxoowZVT813DJn98GG+DpPYroaftEOn4Vir1KeKRDhLRLsazJ6g3czc9zy3M4RZuPYsYT2IMVxATJq4oMeFdIO9M4GDTofbTrm3B8JpMuVepe2U0AiSVVgxZx5A3t+wCIkRCaaHizWHKjWc3ChRa1V6y7soLgjFTwZipMPv8hi/9yw/PpfDqs5TefZ2+r/zehz2bDUFDJ0UbJXI483XPAULssQ5z6uKrlC/eeq/TDxN6OoJ0XSL9LdQuTS/WckoPoShEOvox5rJIz8VpVPzqg02GdCXDP7vG/q8e4ODvHOLqD69glgxc209AUkMakbYIB792CMdwGH1++JbGubkw1TRSv/Ypwgf34GQLlJ5+FuP0Yiwk/eUnUeMbz84Tmoqa8tPyRTCAUFW/KfgKcYHsjMv0pMtDvxLCNCWfeCyMHhD8wzdrCx4cTYNUWsHzJK5QaN+TZvT4DNWZxjKFJzHQQnJXG7NvjXPuz47TzK5smVhVE6tqkhxsQwn8ctRsrQeeC8Onq4ycqS7c+5tPLwrqWslm+krDV1QljJypMnJ2Mf516tnCQr/w6WuLi3k5Z/HOT9dmTNHjIZJ7uwi2xpbtk1Jil5qrsuRsDIKulgO8e+lvsN0mitDY0nEP0VDbmsJ0IwgQIqIkUFCxMah6RTQCtKidJJQWsu44JTeHh0dcSdOlbWPOnaXqzdHwKigohJUoHi62XPQo6ASJK2lA+IX/XhYVlaCIYEtzSSlGWMQJixggMWSdpqwTFjGCIoxA4OFR9vKoqCSUVvr1PdjSxJIGdfnBF8H/suF6o6MPAyoqCTJ4eGjo2FhUKaKgEiaKiYGNiUDQQhcFplHRaKGTdrEFVao0qNHgehhFkCCDgoJEUqaAi4OCSpQEAYK4uFQp4uKgoc+P76KiYWJQp7KMVvMXhfrVWaI7O6hfyy0hRVD0AJHOfpID+/Euvk2otZvSlVM4tc1/X6UnGXrmGpnBDH0Pb6X7nh5KwyWsquW3K2yNkNmVwSyZXP7uBabfurXEyJu3YFMVQvsGUcIh9O52An3dS4RpYL735e1ACYfROtvwqvVlPKkAI9ccXn3R4Eu/FeXIvUF0XfDKCwYvPLNoqidTCtt36uSzHmo6hpCC9t1pEj0xXys5tvhwAqkwoUyE/DuTmDcpMncNB9dw0KL6phDd/6JxM6/Jsn3v+/t2wkyR3hSZQ1tWTpjwJMUzkzQnN4eA3y9Y18FtLrA3beYyqqDSpvWiouHi0Kn0c80+g0QSEGE0dIKE0IWOI00CIoQmAugiSFCJgCcAQUTESakdzDqjWJ7/3m7Rd+FKBwcLDw/h+VZlTEkRU9LYtoUjy2jobNEGqcsyCipp0cGUM0SH1o9GgIYsk1Y6Me0mLjYhJUJAhAgp0flWiJv2OFCCYcK9/QRa2pGeh5mdpjkxAp6L0HTiuw/gVEs0Rv3SpFDPVgLpDNXL55CWiRqOEO4bQE+kfAW6XKI5MYRTraAl04TauwCBnmmlOTaEEo4QSLfQHB/GzE4T3T6IZ1n+9pZ2cB2ak2MYU+t3yymBEKGefoJtHUjPw8rN0JgYXj/b1xoIEGRQ3MmEHEIRCmEZQyBoUKVVdFOTJfJMEyXBFrGDgpxBQSVImCAhQiKCKx2a+OVGC8JROERJokqNHFMkaSEt2rExCRAiKMNkGSdImEFxJ5NyCFVopFCZkWPU+XC60Dg1k/LJFX4f4ZPtO80aWjiGGgwt5D58EDCLBif//B3mrszRfqCDaGeUxJYEnisxyyajz48w9cYkE6/eekOImxPdOy61V04Q2juIWyxjXV2eNCKlxJ7K4syun+dRBHT03k60VAJpOyiajtreinRdmmcuLFntK2XJD77dIJd12dKvkZt1eeUFk/oNPREDQUGt6vHMj5pcOQVkNKozDVzbo3VHcunYyvVg9M0J7IUqEKpAOt6mEd3/lw4lqJG8o2tlAgoJnu0x9bNzmzSaZGbuLDt6P4FhllHVANJzN9cqFSFSSju2NDFlk5CIEhYxSl6WnDtBWIkx645hSH/hK7jTtKv95N1Jyl5ufpZQ8vIExSIftIZOWu3kjPEyNjf0lcSi7ObRxSIRfERJ0KJ2YTpNVKESFlGCIuRbKV6OrDtGPJAhJCIUvVmyzhjd2g6mnc2w/hch9ADxXfsI9+/ALhX8lmH3fYzy6beoXfTpK9VojPieAzj1GtJ1SR+5HzO36J5UAkEiWwdw63WEEMT37EdPpimdPE4g1ULLRx+hdvkcwfZOogO7MWcmUSNR9GSGwqvPEtu5l2BbF43JUTyziZ7uJLrjDnLP/xAzu3ZnKKHpxAbvILp9N1YxjxAQvedB1EiM6sXTmxZbVdGYZRxXOnTRT4vooiwLNGWdEBE0dNrpJSsnkHhYGOSYIkaSaTmCNf9OqPiehyzjNGWdDraQpo0iWeKkaMgqM4wRJc5OcZCcnMRX3wTTjKJIhW62Eib6oQnT1eDZJsZclkAigxaJ0ZidwPkASRsAGtkGl75zgbEXRwm3htFCmp8QWLOoT9ewqrdH0HNzN6/rUn3mGI0Tp5GmhVtc2QRvvH2GxuvvrntQNZUg8emP+cLUsWm+d8U3h4SC1prByS3NcpyacHn6Ow1CYYHRlFjvy78p5Fy+9Vd1TENSKnns+lQL5YkaZtVmy93tCEUsCES7bmHVTKK9SbRIAHuVRtChliih1iiNmarPl/tPWBOBdITWe7etSOAtkdSuZalc2LzYz1T+FCljjlAgieOZVOvTNMzbiIW+Dx4uLg5Vb466rFD0sptSg+jhoSB8YoA11m8XBxeXkjfrZ7BKDwcLVzq480TrnnQRLHpPFDbfk6InM0S2DVIfukTt8nsgFFo+8nEydz9I7dJZpGNTPX8KPZkmc/eDeLaFZxpUz59Ezn+wTq1K8cQx3IavfCT2HybUvQU14ocEtEiUyvmTaKNxer7w28y9+hxqJEpscB9qeF4ZUVWq505iFfNo0Rgdj/0aiX13kXvhx2veg5ZIEh3YQ2P0KtULZ0BA5t6PkT56P9VLZ2GN9n3rhYuLOx/3tDCJ4yfilSnQLbYRkXESIsNF+c6a13KwFoSrg42CioLvhfFDARKTJgGCC1mtNiYOFjoB3+vxAbwPtw0pscp5ihffQWg6brOOdD/4ddZzPOozNeozm1/PumYCklerL+n3uAwSnNk8Tn79i5i0bdyqf001GvHpBA0Lads+NWksgjW8lO/SMsEyV155LAumb2jjpAYU+u/rpFEwyWxPLLEsG5MV6mMlen5lJ4XTU2RPjC8z65WgStuRXlK725l47gpWebN77ClkMjuYm7vCBx/dEcRj3RhmEdv+ADU/RRDtz5Dc173qIZM/Podnrb5gtSu9SCBIEAcHFRUT/9k3ZI3G+5J3JJJ8+QqKovl8xrdR+7kSLGmSdydpVXvI0AkILlonNnSNkIiwTd9PTEmRkm0ojkLJzTJmX2RQvwsPDwebq9ZJwiJGv34HESVBTCSZcC5R9UpMO0P0arsASVPWmbCvXH8Ay+Dh0fAq7A8+QN6ZZNq9tWSK90ONRIgO7CKyZRstH/m4vy0cQQlHEPO8zk6tQuW9d2l7+NMIoZB75Rns8mLyn1BVYjvuINI/gBqNoUVi2KU5hOYvQ65h4FQrPtmIlJiFLEG1E5AL5S5Wfha7PIe0LexKGXNmglDXlvXdQzDs30PfdjL3PORvC83fg6oivfUL09D2Tvr/4Mkl24ovvUf9R+cJNkOEiWHQIE6SpvQXboMGrnRoo4c6lQUh6UMCEhUNbti+Uka3g40rHUJEECikaKVGZeHYjWSBh7a20//1z6/7eHO6SPbbr9G4tAmUkFJ+oBSCtwJFV1B09ZY6hW1CaYzEq2/sgUjPW+ynqap++7X+XrRknOL3f0p47+5lwnQjuPjjUbrubCXSEuTE/3t+yb7KUIHsiXF2fPkQh/+3X2H62AiFM35MVQmodD24jY57++l+aBtOw2Lm1eFNF6axaDvb+x6mWLyG3CRteDUEgwl6uu5mavrEBypMtUiA7sfuQA2s/ErZpQYzL12+6TVUNHQRxJbmQkYjgE5gBWtLcHDHl3jv2lNYTh1F0ehuPUTTLJEv33yc9UNScKcourMIBP07Avz251NMj9lEogrjV6/Qk1Ao5ML0bgtgNj3Smav0V21e/onfItCQDS5b787HgyQuLhKPrDtGwZ2aH8W3QOuyzEXrLQQCiVwoj5lwrqAyNH+sxMVh0rmysGhes0/jzZNWeLhcsN5cSEzaLAhVxamUKRx/ETO31KW6YFFIifQ81HDUT6+fb6ZwHe2Pfp5AppXciz/BKuSI7dhDdPuuxVjZQrB+/jzPXVQYxPUhbhQU/niss6JAqCpuvUbh9RcwZpcKg5XyNVa/kB/SCPW1Ldmsp2MIRcGgQT+DhEWcpqxxlbML8y2SZVAcYlieW1q+hEWDGnvF3RTJMSmvrSoSPTwKzNAjBjjEgzhYDMnzt/R7K0F92X2sec4Njeh3Pfg1KrNXmb708obH/mWDUAW7v3gH3ff18Ny/fGbD59+WMJWeB563YGWuG663QC/l5ObwDJPm2UsI6RH/2P3UXntrxdOEuCn7G+B/jx17M8ycLSzj5QU/bjf8g3OEO+L0fnInfY8N0vfYIAi/o8zRP3oUAVhlg6t/f4r8qalNNR6FUEglt6JpYRSh4l3XJqWvmd5w5BJL6/1kBEIoy84RQvHXoYWPShCNtBEJZxCK5u9fcazbvSmIbc3Q9sDAilRoUkomnj6Lt0YvxmlvZEGQrAdBPY7l+O+e5zkIoaCpG6QAV254qSTLsq+uCy+Awbt88vhy0UVRJVt2Kqia313HtiTxlEq5ZFHIOoTCCs2GL+BcVqDcQy5RGBbHWulYD+d9C+V14elf/7p7TMz/7S6ceSONVya1g3J1DNe16e2+h7niVRrNAksl1uL/hRDs2PYYV4Z+4vM6G03wXKzcjC/s3l8THomSOng35uwUnmmQ2H8Yu1TAqfrhofjgXrIv/ITm2JBPtqFpKMEQG0EglVmwUoWiomfalli/N4NnmTiNuu9iXHYPm/c9eHhc5KSvXLzv2i4uBvX5GObidgeHEXmJUS4tef/flS8v/F1ghgI+u1eTOlflmfnvZXGMOhXelb5gs7EYYy3FUi5rybYRD48aCKNo+toH3iYUVUcoKq5jfnB1w0IQSocIRG/eQH413JYwzf3JN/2svA02EJeeh9c08Cyfb9fJ5hG6z/JR/tHyAu1AAAbv0DlyT5C2DuWmDBU/fKqBtiNJZaq+4N51jKXWn1U2OPPvj1E4PcXWJ/cS608t1Mt6tkv5Yo5rT50h987kLTMfrYT21n1s6bmPWLQLVdW5/96v+/NzmgyNPM9M9tT8/cbZ0n0vba170bUwTaPI6MQr5AsXkdIjmehjx7bHyBXOMzH1Jp5no2kh7jrwNUyrxplzf0s4lGZg2ydJJvoJ6FHu3PfVBSE7Nn6MkfHN0yTVcICB33lgVQJ/p+Izu6wHG3FReZ6NroVxHAOhqAihrsmA9H60/PMvEp7PWHeKZaa+/m9XPfan314jiWNzk4k3jN6uewgGEthODce1aTSyZNI7qdVnaTTzdHceIR7rplQeRlE0utoP4XoWc6UhAnqURKybUmWMejNHT+dRHKe5sLBaxTzG5AipO+8BBE6tjJ70ifQr772DUFWiO/cSbO9i5qdPIT2PjkeeJDa4l/Lpt5COjZnPEt26A2NyhEBLB4m9d+GZG/P6BNu7SB3+CI3hy4R6+gn39DPz06f8nYqCogfRIlGEoqCGIqjhKNJx8CwDu1ykOXqF5MGjID3sSmnxHs69u2mL9Dwf17J32S+B6aAsC9gsJrsIPUBicD9C1aheO49nNOZbIrrI+UxphPBrMKWH0ALgeUh3ZWKPjXxDTtWgcuIKWjKCloigRIILbEsI/L83OXxyK0j37EUPx8kPv4Njre1hE6pYms2+jltQFIEeu3XF4LaEqT1xa8kk0rIxzl1GWhb2xIxP7xaPEdq9g7m/+94S6yAQFPzqlyL87u/HSSQVLFMSjQlsGyxLomuCQFD4yUdFlzdfNZnIGxz49R2YFQvP8Xj3b5drZ57lMv7MZcafuUwwHSaYDiMlmMUGVmmzY6Q+iqUhavVptvTcT0tmkDPn/gZPun58yJpPhdfCbO/7OLFYJ6MTxzCMIi2ZXeze+TkuyO+TL1ygUplgevZdujoPU6vNUK6OM7D1UYTQuHTlaaR0McwSV4eeoSUzSHfnUUbHX6Ja991z1jpexvVCCahs+dxB0gd6VtwvPY/xH5zGKt8a6cXqkORKl9jR8yvkypcJB5KEA0nmKhvLYi38h++iRsOkfv1xgjv7bndKHyoi4Rams6dIxrcQDiZRFJV6Y5ZQMEm9PkO9kWUYEFRjAAAgAElEQVRy5gSOY5BIbCE3d8G3UruOMlcaYnTyNXo6j5CId5MvXKRhFNix9REAvGaDuRPHSO47TPrwRxCBIE6lSOmUH0NWI1HiO/dSfPd1rLyvXJdOvknijkPUr13CLhWY/dl3aX3wETqf+BJmdobKe++g6EE810bYFlap4Ftzroc1l/OVbtvCqZYXivmrF8+iBoK0f/JJpGOTP/ZzGkM+JWSos5fMvQ8TbG0HKf3kors/SnNilNmfPoVnGhTffg232SR56F6UQAinWqJ8emNx8JvBw6NJfdmrECJCt9hGgBCj8tIN3gQIZtqJbBnAzM/4BPBt3UT6dtCcGqExOUL64D1Iz8OYGsW1LRI79+NUy9SGL2JXbo+dypqaY+SPvr3wt9AU1FgYNR5GS4TZ+odfREtEbnIFH4FIEkULIj0H26jjOYtxX0ULoAdjCFXzyRnMBq69uB4Ewklcx0RRNNSA7/1xzDqO1UCoGoFwklhLH6oWIJxox7GaOFYd21g5iSjeG6dlTxv1mRr5czmklHQdXT2XY3GeCvGeWy/1/HC4eT0Pa3gCa3gCFAU1mUDMlVAT8WWuo4GdGo8+4T/gZ3/cZOiqzdf+RZxL52yOHzNpbVc5cGcAx5X8xz+vcuJ1E0/PUp6ooWiC9RgqZrGJWdzsxX45bKfh/7PrfhlHI78sZpqM9xKP9zAy/jL5wgWk9CiWRkjGt9DbdY+/DY9s/hzRaAfdXUdJJLaQSQ9w8eo/Yph+DafnOTSNOUyzgufZNI0Sjcb6y5fWAzUSoP3BHWz76j2rHlMfKzL9zPlNtfCvY2z2DXrbjtCV2Y/tNMmVz+OSRVU3UDbouLjlGl7zg//9P2h4noOULp70m0ZLz0UROtXaJKZVxXVNwqEMTaOIlBLHaQICz3MRQiEcSs1vN9H1CAHX8JW9ebj1KnNvvsTcmy8tG9upVph86ptLttUunaV2adEjYc5OMfmd/7ji3G1g6nt/7Y/j2Iz9zTcAMCZHMSYXS/Kk65A/9nO896f0A8bUGFPf+6ubPiO3Uaf41jGKbx276XG3CpMm78k3l8+NBkNy5bIwszBDffwa5uzEgnBsTgwTaG1HqBp2uUjlwkmEHiB98F6/rEdR0JPp2xam74d0PJxSHadUxxQCaa/9IYXi7fTs/SShWCtSepSmL5K99iaeY6JqQdoG7ibRth1VD+HZFo3SFLPXjmM1KyiqRt+dj9Moz6JqAaLpHoSiURg7RfbaGwQjGbr3PEyibRtCUQnF25GeS2H8NNlrb6w4n11f3MPg53fTyDb40Vd+gJSSX/m/H/Ut1TWWIaEKChdubZ380HtKCU1Fb29BRMKYQ6PLVsGuHpWt2zR+9P0G/9+fVimXJL/xmzEunLP5839fRVXhwF0BfvdfxhncE+DN1ywSgyky23wNIxDVyV5c/YUTquLXlN7EDeBa7i/M6ggGk2haiESsB1273uDZn1w4nEZRdDzPxnGaTE2/xZ7Bz9OaGWRk7EWKxdX7eG4mhKoQ7UvT9sAAfV+8a8VSGPCJ1se/e5LWoEFsj0Y4JLh6zdfIt/arWDbMzLi0tqrE44KREYdSSXJgv+9qmZ5xcV3YskVlbs4jm3UZGNAIhQTDwy6NhkFLz5s0m5KJMZdkUmFXv8r58x7hsCCdUohEBaOjLoYhGdyp4XowPu5SKGxAuOsagb5u9PYMaCpepY45PIFXmdeMhUBrSaF1taPGI6CqePUm1tgUbn7x3dN7O1BCIZz8HHpPJ2o6Aa6LNTGLPT6NEo+i93biVWuo8RhqJol0XZxsAWt4ck03ZKU6ge00aDRyGMYcllUjGmmfF7IexfIw4VALjmNSb8ziOAYgKBSv4HoW0UgH5eo4plkmnRpACIVSeWT9z+kXhg/f7fhBQYsniW3bhZQSIRQ8s0kg006osxfPMHCbDZRQGLuUxyqud9EXCEX1XcRCxfMcFFVDSg89EMM2a7eVCBlN9zD81lOYjSLJjh209B+iWZ6lPHOJVPceUl17mDr/As3KDMFoC1v2P4rr2kxdeGHhGqmuXcxceoXZK6+hqIGF+RjVHCPvfI/e/Y+iKCqTF17EMRs3ne/M29OoAY1Gto7nen5ppCPJnctSuLB6cwmhCLqOdt3yc/jQhel1IaUEdJT2VqyR8SWLRiTiu3HPn7Upl/ztzaYkFptPtnDh/BmLN14zeewzYV59yYCBJMWRKpGWELH2CEJhiYWq6Cqp3W2k7+ggmImg6IudR1bC1f90iubs5tclrQSBQAiFaKQNPbDoXqk3s5TKSxO9FEXzk1ZcCyE0hBDLkgnWCzWs+x1FNBW70sQ1HDzH9TtMCFACGno8RKgjTmxbC6mDvaT2daME1BVjKtLzyL02RP74MJ9+UMF1FRp1ySe3Bbl40eGjDwZ5/TWLXYM6mRYFoyn55CdDnDplcfiIzoXzDqmUws6dGt1dCo4Db71t8dhjIa5ccZiYcGlrU3jiiTDPPWcwMeESDgt6e1RGhh3uOhwgFBJUyh779+ucPetw8KCG44Bjy/ULU1Ulet8hokf24dWbSM9FjccITeeo/PQV3FLFT1w4uJvQQJ9vgSsCvasNeypL8Vs/xqv5bvXQ3p2Edvbj5It+joCmIkJB0DTs8Wm0tgzJTz+ItB28um8pK/EoSjRM6alnMC/dvMwlW/AtH9NcjO3WGov5DNXaFNXaNCBpGouLylzpKgBlFplqZrIn1/d8/gm3Del6mLOTPtmF59GcnfCFn+ti5KYQioqiB3GNJvXRywTbunAbdb8rzjoQjrYSDPnkNYFgHMuqEQjEMJsl9ECUUuEqjnPrwrSaG6aa99/NSnaIZOcuIskOyjOXSHbtQtVDpLp2kezYgVBUVD1EvHXrkmvU5yYoz17Ftd8fYpN4ngPSQ0rFjxN7N69HnTg2ztTxSb/7lQQ1qOJaLiPPDXPpOxdWPU/RFO7+g3vJDLbcymO4NWEaCKu0bo1SGG8QCKk0qzaqruBa3qJrVUoUXcFuung3oWdS4lGUWBStvQ2ha0t63gHzvSOXbiqXPDq7FqdumjA17pBMK7S0Kpx5J0dlpsH2h7qpzi7l5xWaQvdD29n+hf3Et2XQIvqaAfaJZy9vqjD1pOt/LCvAtCpYVo3Z3BmK5eElNy6lXGiEHQwk6O2+h0Yjz2z2DFt67qPezJHNLU30kdKbF9A3v0c9EaL3sweIbW/FaVhI28VzPaQ7f76uoIYDBFJhgi1Rv2PFTa5ZuTjL5I/OYhYbRKMhzp93uHjR4etfj3P5skM+73HylM0jjwTJ51xOnbb5wz9M0GxKxsddjr9h0dmp0NWlMDnl4nmCalXy+msWff0qmYzC5KTL8eMWmYxCNCooFFxMS0PVBJGIYOiaw5mzNv/mXyd45x2blozC6dM2k1PrXziC23qJf/weGm+fo/H2WaRlE9jSTfrXH8PJz1F99nXwPMxLw1jXxnCrDZAeoTt2kP7S49TfPI1xdjFmr/d1Y01mabx2Eq9aR4QCS5pHKPEYbrFC7fWTOLN51FiU1v/2S8Q+emRNYbo+/OfL5lU+87b/DTi3x1TzSwfpYeYX80+aE0t/59rQBW7MbnNqG2Mz0gMR9EAUVQsihEpY8zPew7E2NuN9cKzFEIn0XDzX8Wk+AT0Yw7Ua2EYVb76ONzfyDlZzKQGQ3axuqM53Lby/FZvdtFfuFnMDJGDVbv3duiVh6lgesZYg5RmD7r1JoqkAtukSius4pkujYhNNBcgN15m+WL6pMPXqDcyRcaTtoLVmlrmymg2JZUnSGQVN91uxjY84fOShEImkQqXsPzRFFQRDAlUV5K+Vl3Ly3nDJeH+avk/vIn1HB5WhOQqnpzDy9Zu+U6uR4d8qGo08mhqkt+tuStUxFFSaZgnLqlCuTlCrz9DVcRdCqDSbBVQ1SCTShmVVyObPoSg67e37CQVTDI2+QLU2RUCPMrD1kzQaOWr1xQ/Tsmp40qW9dR/X3WOWVaVpLCXZEKpCsC1GfMfGas5WvL+pMuPfP03l4uxCv8mHHgxy5HCA06ctPOknjwFcueLwwANBDhzUuXjB5swZm69+NUIyoTAy6jA97bF7l86lyw7BoKCjU2HPHp3ZGQ/TkPT2KKTTCuNjLvGEwtGjAaSEcFhgmhLXz+/CcSR79ujkch6h0PrTboODWxGKSuPtszgzvlvNaJrYuTlCu7ZTff44eHJZMl7znXOkf+PTaC1L29BJx6F5+gL2+Or0d8alIczLw+B6uHNlrPFp9N7O9T7+/2JhTN967fl//rh1oVerTNOoZf1yOuRC+ZmYZ1Jy3NtTToLRxXdcUXVUPYgzb2HaRhVF1ckNv+2XtVzH+9b5m2bhy+tVTOuojVwBruXy4h88R3VyDfYyKalN1ah13hrL2S0J00gqQGZLlNJMk87BBJXZJlbTRQ+pSKB9II5reVRzBo61wkPSVML7dhE5eoDaKycwLw9jVGqgqcsecj7nMTPlsmefTjqtkMt6vP2GySOfCfM//qsEf/LHFYJBwUceDCIlNBveAqORUVr+ksT6UiQGWsmfnOT8n79Bdby0ZrPczaYTzM9dZnL6bXq6jtLXez9No8TQ2AtYVgXbrjM89iLdHYfZ0n0vgUAcx7No1HNMTPsB91RyKx2t+5maeZtKdRIpHUYnXiUR38KugSc4ff5v55NLoFqfZnrmHbq7jtDWegeuazE89uIyYbpZMIsNJn5wmuyxq3g3JC+88orJ2LhLrSZxHcnIiL9vdNRlbq6JrkOjAYYh+cY36niepNGQnDtn88YbAssE05Lkch6vvmpRq3m4Ljz9jwaeJ6nXJaoqOH/exjAkQrAgTP/0z2o8/niY//2PKvT2qOzZrTM9vXpP2BuhJmJobWk6/uBri0lUikCNRzGvjSF0HWlaBAb6iN59AL2vCzUWWXDjvp9QwKvU8Zqrjy1NC69ahxsStqRlIVaJS/8T/glrwXMtNtHoW4ZExwAtfXfSKE6R7t2HFohQn5sAoDB2iq13fY627fdQnHwPIRRCsRZsq0EtP7LOESSO1SCZ3kkk2YlRn8NzbBxznUaOZF1JRdKVDP3sGmMvrndeS3FLwrQ2Z/LWU6N4rqQwNrRYzyN87cF3y/qL5koKldA0Av3dRI4ewDh/BfPSkM9AsgILyfiIw6ULNv1bNWJxX5g+86Mmv/c/JfjsFyI88pkwEgiFBK+/bDA+evO3Ro8FCSSDTL82Qvla4ab0dh8UPM9iaPQ5RsZf5Lr7xrshDmCaZUbGX2Zs8lUWqtakt3BMsXSNk5XRhcQSANc1OXP+73zOzhs0TSldprMnmc2dXdDqrruKNwvX47R2xWD0H95m4genlwjSiQmP6RmPXG5RQFi2nJ8LlMvvU6DyS5WbZnNxv/U+5WzpsXK+SfxSzM56nDtn89nPhpmecnnl2PoEKfjMOE5ujsozr/pC7ga4tQbSdgjt3Un6C49ijk9T+fFLOPkieB5d/+b3l1/P826eSPQ+1qB/wj/hlxpSMn7qJ2R697P1riexGmWmLr5Mbc73IpRnrzDy7tN07X6Q7t0P4XkujeIEUxdfvn76ujA3cZZQvI2Be7+MN5+8lBvavJKm63Aa9i1RCcKtJiBJcOcXQ3eZ5bn20xGqgggGEaq6ptk+V/D4xr+rYlmS4nzSSK0q+frvzfF//mmGdMbX/EeHHb77D3VGh9eyIqVfTzrX+FAE6cIspIt7PXNZUeYbiKu+dJE+mZy7ePB8IwABQkF6Hu6NAvE64YR4328x3zFdgn+8N8/4oij+WNJbcMPe+n1IpONRHy9y5c+PMffW8s5CL720fuH1QcB14fXXLY4ft1b9eFeL/1qjU4QP3YE9k8camVh8hoL530Wi9/jtvKrPvY49PuOzae3c+oHdz5pQhG8V489ROosCXAkHaH3iKOmH9hJoT+E2LeoXJph75l1qZ0eXlUIokSAtn7rLP74zjWfYNIdmKD5/hsrbV/Gat+EiVBUCHUkShwaIHugn1NfmU/IFdV+JKdYxRnJUTw9TfecaVr6yxGLfFKgKwZ4Mqfv3ENvfT7CnBTUa8rthFWsYQzNU3rpK5a2ruLWm//tLYA1v1oYhQOgaoS2tJO4ZJLqnl2BPC1oiDKqCZ1jY2QrN4Vmq716jdnoEp9q87e/3dnH++W8AktzI2yxmWd8wJykpz1yiPPP+Wv953ibP4dqJb80bZHJV4hOzVmD4re8sjHG9+9cvU0evDyebV1EQgfUzTcxOLxd675yw+NzHZ9l7MIDnSq5ddijOrf2C21UTu2wQTEdQAuqHKlDBt9JTjz+K3taKZ5jU3z1F8+IlYkcPE9q9C6FpWGMTVF56hdCOAYJb+yj99OdEDu5HCYeonzxD5rOPYxfm0NtaEbpO4VvfQQSDxO45QnBrP0IISj9/Hmtikvh99xAa3AGAMTxC9ZXXfDYVT+LULeyaiaIpPpuREH7bwRsFjecX1XuOh2e7GDMVpn56nqmfncP7Je+u835BKgI6ajqJEg2jphIIXSO4ox+v0cQtV/HqTZpnLhHaN0jLbz5J/cQZ3LkySiyC1p7BvDpG48QZ3EIRoWlEj+7HbEmhZVJE7zmwcZrNzYAiSN63i63/6xcAsHJlJv+fn1E5cYVAZ5q+P3iSyK6eBeVBCQdI3b+b2J1byX77NQo/fRev4Ss/ga40/V//VSI7F8sF1EgQPbODxOEdFF9+j8m/+DlueWMkIEJXCfW10frEUZL37UKNrkApqKuokRDBnhaS9+/GqTYpvfQe+R+/jTldvG2hKlSFYE8L7V/4CMmP7kHRly+FajhDqDtD6oE7sAoVck8dp/jiWdyagWtY8+Urt1+mo4QDRHb10P6r9xI9sBVFW+7SV3QNLR4hPNBJ5hMHsLJl8j95h9Ir57AL1Q9RqMpV/r9IGi+lH6d1DBstrPvGmOUgFIGiq/Q9upPcyWnsikGkK87cuSwIFo+13YVjPcvBcyVth3uI96W49t331jVLLaLh2R6effP3Rg2qSE+uedyKY2z4jE2AUFVE4Nb4D29EvSY58drGrJ7qSJHS5Rxth3vIvztJZahwWwltbtOmMV5clUqvPl68ufakKKipFOUXj+EU5nBrNbS2NvSebor/+GPcYom2r/7XBPvmO2MsudTih+w1GxT+03cW9ge39aMmEuT/+u8XSLy1thYidx6g8J3voQQCJD7+EEZrC3Y2h5WvM/zNN5ntv0y4J0G4K4keD6GGddSQjtBVpONiV02M2SqN0QKlc9OYwzVUAni2g0CgKkE86eDJX27BChAc6CPxxMOoUb+e16vUyPzmZ5G2Q/34KarPH0daNsV/+BHRjxwicnA3SiLm15COTCwkETXPXkZEw0QO7yO0ZwB7Ok/hr58met+dS1zDXqWOky0g7ZWfjbRs7Nn8QlnMdTiFEiK8MQ7b69BSUbRUFDUZoft3HyGys3tFAaBFQ7T/2kewZoqU37iMlojQ//XPE96xSuKTgPTH9uHWm0z9xbNr5h1ch5oIk3pgD+1fvJ9AW3LtE67PLx6m9YmjxO/azszfveJbxY1b83iIgEb8ru10fuVjhPraEMraAjHQkqDnv3mU2J3bmPoPzyEdF69hrqwIbAB6e5LWJ47S+vgRlFWaRCy/AUGgI0XXVz9O/OA2Zr91jPqlyc232m8TbYe6Se9pxzUc9GiAsZ9foe/RnTiGw9x7s6ghjeS2NMFMhPyZGTru2YJQBHPns4QyEbZ+ZjdGoeH/3RKm7VA3xYs5Zt4Yxyg0iPel1p4EfsnL4X9xlInXJ5h8bfUkNqEp7PmNvVTGyoy9tNzDthZu/usJgd7dvuGLrgU1GUdNxm7p3EAQIhEFVQPXgUbdw9qAp6k+WWb6lWEGf+suBr9yiInnrmLk6riWs2qNZmO6uqoFW7uW59z/sfEOA9chbZvyz54jvHc34d2DNC9dQVom0jAXPg63WkWJx/AME1Rfa/W5jBc1WHtyelHQKgKhaUjLWtIjUIlEUGNRYncfBk9iTUziuS4gCBBBndYpj88wa18GJKrQUZUAtttEzvdF1JQAnnTneylCS3Qb/ekjvDvxHTQ1RFt0O027TNXM4XgWIFGEhqYEF66jCG0h1iuE8oEIXhHQCG9rR4uHka6HMZb3NfgbYFy4hnFhbaILaVrUXnyT2ovLmW3AF4L1V96m/srbS7aXvvOzxfnoKu7UBJXzl1a15OyJGea++b1l28s/eH7NOa4GRdcIdKZp/fRhont6QQjsUh1pO6ixEGp4sTGAlgiTefQQzSvTtP3afYQHfIvUbVq4dQNFV1Fj4SWKY+aRQ8w9d4bmlbWbc2vpKG2fu5fWJ44uExxSSryGiWfaSMdDaApKUEcJB5cIu2BPC1t+/3Fmv/0ahZ+8g1vbGPWn0FXidw3Q+ZWHCPe3L+F/kFL6GdQ1w1cOhUCEAqjhwMI9J+7eiRYLkf3ucdyacVvCNNTfRtc/+wSJIzuW7fMsB69p4ln+tyE0FTUaRLnBoycUQfyu7Wgtcab/8jmqJ4d+qeLtgVSY0pU8gUSIUCZM90f7aeTqWMUm7Yd7qE6UGX/hGt0f3QaeJHd6mt4HtyEUQeaOdkqX8sy8MYYa8lssFt6bJdGfRgut/a7dCKEKBh7fQbPQvKkwVRRB38Nbqc/WNl+YCl0j/eUnb3bILUHoGlp764bO6ehS2HcwwLYdGq1t6gIfbz7rMnTN4dxpi+zM2ppZYqCFxEAL0pP0fGIn7ff2UZ+sYFfNVS3Is3/yKrWx0obmu24oCoHuTpzCHHpXJ3pLhsZ755COQ2jPINKwEHoAc2zcF4aJOJED+/xzSjfUm934EXkSp1QmqChE7zyIdFzM0VGcXB7jyjWsiSnwPDzLwi0WUYRKItRFItRO1cxhOXVUodEa3YYjbTzpUmyMEwu0ENaTIATFxgSWW6dQH6YvdWhhaE0JEg+2E9RilI1pbNegJdLvN8QWKtnaVcJ6kqAWxfEspPSomjk2u/4xvr+fts8exZwt4ZkObtNaJkxvBakH76B07PyGp6slwrQ8eieVt65SPbkZ9aLrR2x/P1oqChKKL56lcXES1zAJ9bSQvH8PoS2L32Jsbx+ph/eRenAvCGhcmKB6cggrW0aNBIgf2UlsXx9K0F/UhaaS+eSdTK4hTJVwgPYvfITWzxxdIoyl42KM5WkOzWCO53GqTTzDRgnpqIkIod4WwgOdBHtbFlyxSihAx3/1UYSmkvvucTxz/Qkjwd4WWp84Qqi/bakgdVzqFyZoDs1iTs35Vq8i0BIRgt1pwgNdhLd3IFSFyO5ef/zgrZOiB3tb6P7nnyR257bFOUiJW27QuDqNMZrDzpZx6r6yoIYC6G0JQn2tRAZ70DPxhfmH+9vo+u2P45TrNK/dGl/6BwHpSv+f7SKBRrZOtCuOXTXJn54mmAmT3N6CFtFRgxrh9hihthiRjjhW1STRnya1sxVFV8js6wBPIlSBFg0Q70sRaY8Saoti5DYvnOJaDqH0LXqBbrpXCEK7B27pwpuJ3ft0fv0rUR74WJD2DnVBUxUCXFeSnXE59qLBt/+mzuULN7dykjta6fvULgCchoUQgljvzd1NWvgDbjE0Xz9ljU9gTU6jSR3j3GXUliSoKtXjb+LOFfFqdRpn30OoKsa1YZy5ItK2qZ86g1MsgRCEkx0oikYjO0Pj9Fm0lgzML15eo0n11dfRu7sWSzaknynsehamU6duFpDSpSW2A00NUmlk6YgP+nRzgQxNu0w0kCEWbKXYaN7Q7m0RlttAU4JEAy0oQiGgRcjXR9iSOkjNzON6NqlwD550ydau8kEQCSTu2YlVqDD1zRf8e7wNhpfrUMIBer72CUqvXtiwBeDWTcrHL2HOfEBK2U0Q2dWN9CS5771B7gdv4lZ8y1gENKxsma5/9gm0uO/qVoI6bZ+9BzUaonl1msm/eJbm1amFbP3mtRm0+CNEBheJw+OHtvvv2E3cjC2PHqLlU3ctEaROrUnljcu+gL86jVdf7rZVokEiO7pIP7yfxL2DaDF/nkJTaXvybpxSncJP3lnXc1BjIVL37yG6p3eJq9ttWuR/+BalY+cxx/PL3hUlpBPa1kHqI7tpefwIQleJ7FybOH01KNEg7b9+P7H9/QvzkJ7vPSn89F1feZktLX+eAvSWBPHDA7Q8cifhnd0La2F4ewedv/Uwo3/8vRWf44eB0pU8nuWiBBSa+Trla3Ok97Tj1C2a+TrNXJ1Qa4S592Yxik2EIvyWl0hKl3KoQQ2hCayKwdy5WRRNxXNcXMPBnGuQPztzK2WnqyIQDxBpj1Bbqx51FazLSS9tByfnx/M2A0LT0dozqLHomse2dyp84csRPv1kmMsXbL77Dw3GRx1MUxIOC/q2atz/UIjHPxfBseEv/6xKLrv6R519a5y3//XyNm83Q22yvPZBG0A43U0olkELRqnlRrAuDJHsGsSxHDxbkOo/gHQdauMjCE3HqxYRikq8dSvG8BSxtq14toNbbpLs2EFApqnIIq6soQYihGJp6nMTWGPjWGNL3Rp2NoedzS3ZJpE4nontNjGdGhJJUItSNXMYdgXXswioPrVhwyqhKUHUBfrCpffmSpumXSGgRRBCIajFaNoVDLuM7RroShDbNVCVAMq8EN9MpB7YTeLIDmIHtiJNi77//jN4hs3UXz6Ha9jE9m4hcWQALRHBLtUpvnCW5kgOpEQENDKf2E90Vw9CUWiO5yi9fB67UKXt8/cQGexGT8fY+r/8KkhJ89oMs99+HTURJnl0B9HdvShhHStbofCzk1jZMiiC6J5eWh69E6Eo5J4+gZ3bGIPN7UIoCs2rUxRfOLMgSAGk5VA7M0LjwgSJu3cubNeS/m89+61XaV6ZWryQhMaVaRpXpwlt61jgZNZb4uip6KqWf3hnF62fvdtnOJuH27QoHTtP9juvY+fKq+pTXt2kdnrEtxYth/TD+323qxAokSCtT4WZNqYAACAASURBVBylcWmC5rW120AGuzOkP35giatUuh65779B/uk3cVcRQp5h07gwgTlRwDVsOr70wJpj3QypB+7wXbvqYn9ha7bM9F+9QO30CNJaxSCQYOcrC0lQnV/+KKH+xTBc/M5tpD66l7mfvXtb89ss3OjNq435a2j2rYklGbvVG455P8vc7Js3rF0TS7+ZtRqThDJheu7rQQtpfkKlptB6Ryu7fm33iserIY32Ax2EUmFGn9+4ixfWKUzdWp3qs8doXrh6S4MsGzSVIPHpjxE+sGfNYwcGde77aIgTr5v8xZ9WGbrs0GxKPM83rsIRwWsvm/zOfxfj/o+FeP5nTXLZ1Rfo5mztF8azuxoiyQ48z6GaHaZl2yGmz72IWS8STnbgWE2ka2OUc5i1OTL9d+JaBp5tkmjfjmeZ6MEYczNXcW0TUy2ih+Iku3eRvfI60r21GinLrdMWHSCspxgvvUuudo2+9BGSoS4UoVJsTpCJ9NGbOoiqaEyWzqIpIdrjO4noKXqS+5mrj6ErITriOxGozNYuUTWz9CUPEQu2EtRi1Kw5UuEuDKuM7ZkkQp3k68O3TLStqDrhRAf14iQgqZ+fwJwqoqdj2IUq+WdOIh0Xt2H5VpH0rSu7WCdxeICOLz3A2P/1IzzTInl0B8l7B8n/8G0QAiWkI+ezl8uvX8QuVEke3UH2uz7r0fXFVwiB57hUTw7hNi0yH99P11c/xui/fRo8iTGWp3TsAm2fOeK759hYzGczUH9vDKe43B3mlBs0rk4tEaYAxkSB2qnl7mhpu1hTc3hNE0WP+JaVItA7U6sK09bPHEFviS1aYVJiDM+Sf/oEdnZ9iqqdq5B96jjh7R1EBnsQik+RGehI0fLYYSa+8ZObOjhEUCd2cCt629IWW/X3xph75uSqgvRGuNUm+X98k/hd24nuWrnl4FrQMjHSD+1FjYUWnodn2uR/+Ba1k0PrSuSSlkPl7auEt3cQ6EihhOaTORVB25N3U3r5vdsrWfqg8QsI6+oRjS0P9tG6rx1FU1A0hc4jXbTuWzkHSKgCPayTPTvL5e9fvKUx122Z2rN53NwmsebY9rrLBjIZhXSLwovPGpw7Yy9h8vA8P6P3vVMWLz9v8D/cHSSdWZpWLhTY98l26nM25RmD3r0Jht8pcvBTXRSnfOamq2/MkewMcd+XtjB6skhLX4TX/358ZfamTYBQVKxqHqOaRw8nSPbsQdODeK6Foqi4jo1t1nFtw08JVzWf7FoLIKWHbdSwjRqRTC/RTA+O1SAQXV9m22po2lVGS+/4KeyejeOVuJZ/dSFByPn/2XvvILuuO7/zc256OXRO6Eaj0cggAGaKmdJII8mT80gOmhnbW/auy1vrsnertjZW2R7bu7Wz67U9tsdpZ1b2eDQz0gQlihQpUgwAARKByLFzfPm9m8/ZP27jdT90QHcDIOlZf/8h2O/ec8+7797zO7/0/UqP+do1Co1xQBGEDgqYqZxnrnqFUPlI6TNePo0mot8gCF0UkuuFd9CEsTSOuzTG8q5T0w06hh4jlupg4dZJfLdO7+inAKjO30SqkGzHLqqFWwihE0+3YyVylKYvIHSTnpGnKEyeo7JwA79Qxi/UCCo2fqFK4/J0MySrgpDauTEQkUcSVB2G/85PIUwNXIHZlUUYBvXL04Q1G6FpTdYjd6oYFZtIRePKdEsrQlCxKb99OTpWKpRUDP+dn25+HlZtnLF5gi0Wy9xPOGPza+YWpePhzZZRUrUU+jQuTiLXqTr2S/VmYQwQhR/bM2seG9vRQfrwzhYmqLBqU3rzAu7k1tYTf65E4bsfEB/sbBb+CFMndXCQ+M5unJtz656rJyyyT+xtrWRWsPCtU/ilzefcwqrD/B++Q+q/+9ktzf020keGsfrbEdqyV+rPlim8/MGmK6IBlOtTO3uL3FP7ovzvEqyePKnDO6meuLKt+f1ZQW26xtt//4fE2xL0PdHPY3/jceY/nGf2/bUjGNILKd8sMXdmFre8vTD55mqxwxBl37+FQIUS5W3eg3IaimpZrkuJFYZQqygcZ22NeSuh48VCNENgJXXCQBEGkp3Hcrz39SmUVBx4oZPuXUmSWQOhQa4nxuL4A9K4VGqpmjVqVNYMk0Suj8Cr49aKePUibUMPYSYyNIrT9Bx4Hq+ygAz86BxuV8IKrHQ7lswhlSSe6aZ9+BiGlaBRnKZRnNpoFndOCj9s/b6+bP3NpQqQYesCG1XsLu+CQ+lx588USBdYfkBXVe8GAaXpi2Q6d9HWf5BGeRq7PIuUIWYii2HGceqL5Hv3Efou9dIEi+OnGTj4WaYuvkqjPEVh4uxdvVthaKQODdL5hUeI7+hAixmY3bloYVOK0psXyD2+h73/6C+y+N3TFL5/lqBw9yiGFjNoe/4gbc8fwuhIR1WvCTMi4vgENJWrUOIXq2vnjRVI20ParW0e9vWZdT2IsOHeMZZAj69dV5A5NtLihSmlCCo2lRNXtlV5Wn77Ej2/9BxaMrbEtiYw2lKkjwxvaEyNXIrk3lZv0p0u4NyY3XJLSe3MLYKa3czfbhqaIHVwEDO/Ir0lFeV3Lm3Lk3RuzeMvVokNdTbvBbogfWjwz4wx7TIGGbIOcMk5Tk1uvt5AhQq35OKWXOozNfb//AHm3p/l7L/5YP1zbhNybBN3NabK85GuR3i/jam7uYenUJDUqpJMVkPTIm/0Tug65Noj0vtSYfWCEXoKI6YRSxrEUtFXfvf3JmjfkeCL/81evvq3z+BUAt7/5gwffm8uqqrzH9wiuHBjuWDi5rtfA2BRnGKlTlx1/ia3dw/1xfGIhm7pl64vTjT/Xi9Mtpw3fvKPH9i8HxSyXbtJ5Qdw7aiyuF6YYPjhn6I0c4lGeZpMxzBS+hQmzpDK78B3qgS+jaZFXM7qNjvUXX6yxHAPvb/4DMXXP+TW//FHxHrb2P0//2KzKtJfqHLtf/ldMsd20fXjj5F+aIipf/sqzs35Dcdt//QRck/uYfqrb1C/OElybx+jf/dL9+nu3DvChrMhoYYKIwKOlTEdf6GyvrELwlWbBG2dytbkgYHWz6TCnVjAm96eqHVYtamdu0XbC4dBj344PRWPiCXulJdqTk4QH17dT9q4NEVY3/q6pjyfxvlxsk/s3dJ5ZmcWqzffzJVGgymqp65veQ4AQalGUK4vMQctfTdNI3lwR/PftyleFSyzqCma9+J+FOY9WAg0dO5Fw1b6ksLFQiQpuYHoyr1iQ2Oq/ICFf/FVpO0gS/exaELKaEzXa9kV6sbqW3bjSsCp4x7PvhTnwjmfsRsBvh9RAgoNTFOwe6/Bsy/EeOcNl2tXWhcNJWHqYpUXf3WY6qJLbdEjljI4+FIX2e44czfqyFDx4ffn+PzfHKVvNM3CeIOT35hiIyGD+447L7bCDd9QmugjneSDQRh4aIaBlWwj8G3MeBQyNGIpdMPCbRRJZntoSIUM/eb9CLw6YegTeA26dj5MceYSvr3+c6pno57T2rkxVCCJ7ehArOh3FFbUz1Y5cRV3cpG+v/gi8cHOpjGVXoAiquqNCAMiWkGrJ4d9YxZnbB6hQXL3J0vhRdr+xiFEKVftUjcKfapwNX/wWqQlWsLC6mlbpjYkWrzt63cvFtoI9pVp8s8dYimbgNA1jPY0Zkcaf2F13lZoYlUrDIA7ubCltprbUKHCmVwke/dDW2B15zHzqRYvXUmJc2t9j3rjiUBYc6K+XGv5/pudOfRMguThYfR0ArOnjbBqY18ax2jPgCIKNVsmi7//xvoFT39GIEPJ+X9/jvABs91t7JlKif3++ft+UeUHuFduUnvlLfzp5QfpxR+JY1nLT7xSUevL2M2An/6lFP/Tr+d5+w2X8VsBnquIJzR2jhg880KkGPPHf2DjOqt3HnPX6/ze//BhxFO7tKMuTtnohiBYkgIL/ZBv/L1LkS5rILfl7uvpNHomgzf90ReY/KcCYVrEu6O2gtC18UsF6sVx6qWJ5gLdv+9FJs6/jG5YxFLtLI6fpjh1njt/lPFzEVnG3I3jrEvquQJBOSKmzxzbRWy+Qu6x3RF5gAKEIPf4KCJmEpTqWL15lB8SFJfDvN5cGW+6SOcXHqZxeZqw5kb9kTNFMg/tJH1kJwhB9pGR5lSEoWP15IgPdmJkE8QG2knu6cOdK2+Zhm+7kJ6/rHizHu64dcrZYthxDcfB7Mqi3RH+VaHEnVpcffAW4IwvrDLmeiqO2ZFZ05iiacR33NHXrsBbqK7LRrUhlMSb2XqFv9meQr8jNCy9kNidc9sC9EzreEIIND2iAw0Wq6BpeKevIYTAHZsjrDSIDXXhXJ+JhBrukyEVCOIihSliS3UWIY5q4Ktlz9/AJK6l0YWBVCGuauCp1siAISwSIo0mdALlo4s1qBXRSWhpDCwUCk/ZOKrBuu+/goUPN44u3Q98PNy8YYh76Trupdbwxv/46/lVBUR34tDRtWkIPVfxX/6tDJWy5O0frE4gK0XLC6gkTUPaMrVtcDLeRvLAIXJPP83kP/nHqGALD+lSzu5jYy+5rRO4Vgz9PsNq72T4K5GaSu36JWZf/jrewmzLd1+cPEu6bZDQtynP3a4gv9u9af28fmmSoFRv+bs7uUjhlbNkHhkhPthB4fvnQOkY6TakEyK9kLYnDoAmCesOtQ+m8Odc0HSEACvXw/TvvEX20SHig13YV+awb85TefcqejxO+wtHceeLTP32a/R5L6DpJiJhkH/6IIldPciGR3K0j8xD+1j41gnK70Wiz3osTujYUXuOYSI0Hem7mPkOwkYdFQaowAdNw8zk8KtlkBJhmNEG0fdXff+WO7OC6H6zuJPwfjswsslm+0xzXCnXNnhbgD9XXvV9tLiFnkmue46ebTU6EUFCfUtFP81zpWrZZG0WeiaBllhev4QQGOk4e/63r2x5rA0hBMIysC9PwOWJlo+8hot3j5uZtdBl7KDfHEUX0eZJKsmkf5n5YAKFxBQxhqyD5PWoWEohqYVFJvwrNGQUTdIxGLYO0a73E+LhytV97Bo6feYueoydCDRA4CmbMf8i5fDBG8yN8PEY03Xwta82SCbvrQu3XPxPLOypaaQOHMSdmiIoPhiN0bvBaGvHyOfwpqaQzsdXcXobbm0Rt3ZvL/zCn7y36m/S8Sn98CKlH0al72a+g4Wvf0h690NUGu9ROzOBqiaoX7+EkpLsgWPEugbxSxWErpM/9iSl0+8yfvxlYp3dGOks8Z4B/HKB2ql5aqcWsCdvYubamP3dMyR37sGeukXtvXlqpxYJqiWCapn8w0/jz7igQDNMUrv2Ubt2Ael7mJkcVmcvzswE6ZF9uAuz6PEk1asfoukGicERwisfIjQNq70LPZXBnrxFWN/AQG1jo3Y/1Dj0ZKwlxAuAjHpM7wVhw11tTE29xVC1QIhVn6kgRN6D8st2wsNa3No8/+69QLAmWf6DQkrk2Bt/nEV/kkn/Gr5ysUQcVzWaxnDA3EO/OcJF5wR1WSQhMuyw9tJvjnLTPUuAT6cxwIC5l8vOCUpynqTIMBw7zMqNYl7vYdh6iDHvAovhJAYWg9Z+dloHueC8g6/WqMQV0L6vA93SKVxeJHTW3iim+9Lk97RTuLBAY37rUaNPlDH9579RuWue2ezOR8URK7woLREjNtgV0WlN3F+tzq1h6wuQME2yTz9D8eXvfmzGNDYwQHxoCH9hET4BxvSjQmJgJ+78TOT1EeWm9UQqIsqwG4SujXQcZOAjZEjoOvilAkLXSI/sQ4YBQa2K9ByMdA53fgoVhqRHDyB9Dz2WwK8UMNs68MtFjFQWv1xEhQF+pbRUPBWiJ1MIw0IXGmZbJ8nBYYJaBRCEjQbxnh0YqQzSWa62tto6ifcPoZkxvOICYaO2rsH82AIexloSiwq1DUO0EtL1V79pmrau2IQgouNrmYUfbD8So9S2jKkw9HXneN9xH5mB7oYucxADi+veGVwVPaO2at3c9ZujLARTzAdj0efUSARpuo0h4lqamizSaeygLkvMBDdQKFwapIIcPcZwc5xucxBX2Uz71wiIfoMZ/wb74o+T0rKU1vBONV1j/88dIJaP8+4/fIuGs7ahNNMWj/z1x7j0e+e59Ptb7zX9RBnTzRDW555/hIWvvYFyl18EEQYEk2Wk638UkcomjHyezKOPYfX14xeW1EBWLB5mZyfpY49gdkeNwu7EBLX3TxJWowet/QtfxOrpJT40RMef+zFC28afnaXyztv4iwtoqRSZYw9jDQyixWME5TKNs2ewry+Ts8eGdpI+chSjvR0VBPizM5SPv4tcuobR1kb66DFiAzuQnod9+RK1s2dASvRMhrbPfJbY0BB6Kh0dEwQ0zp+ncvydjyTs+3EirFeJdfdjpLOAwMjksNq7iPcMUB+7ivJ9QtcGGaJkGP2/XUfoBn6tgplrQ7oLqDAktOsElTIoiV8sEOvuJWw0kJ4XaXNWiuiJNCoMUUFIrLs/MrDpLFa+k0TfDrziAlZbJ5oVtZIoGRLr6kFPpSOyjnw78aXzpN1Y8jgl0nU2tJgf4braivXmtAmVlo0gdG2N77RxW8PqOr17m8Ndc9CbGUMpwqpN/cLkPY+1EmHduWfvfytIalk8ZTcN6Z0wMImJBPUVrS1RrtNBEzqmiDY6cS1NQ0YMbAASiStbDV9CpElpOY4mX1pqLxQYwkQXBpZYp1VJE3Qd6cFeaGzYQ1qfqWEmTbqP9TxYY2r1t5N59jBWVw49l6L82hmqxy+RfmwPmUf2oEJJ/YNr1M/dJP3YXuK7+9ATFmHdYf4/vIZyfDLPHiZ9ZATpelRPXKJx5gbZ5x9CTyeiarz2LDP/8puoUNLxM89iduYIGw6VH5zFny+TffYQ2ecOo+dSKNdj9l99By0ZI/fSUazedsqvn8G5GvVWZp89RPLICEJA/YPrVI9fInlkF6mjI2iWgfICCn/8TkRltg1oiQSZx54gNjhI7expNCtG9vEn0MwVBReaBppG/exZhGmSOXYMwoDKieMoz6N26iRGLk985zDV997DnZpEuS5BZbkiVU9nsK9cRjo28eFh8p/+DEGljL+wgNHWRtunP4Nz6xb21Sto8ThmZycsSa7p6TTZTz2DFrOonTmNFouRf+FFhGVRPXEcadtUj7+D8jysvj7Kb/2QsFYjrFX/zBtSgMbETfRYnMbY1ShMKgSF468jPQ/CEHvyZksldfHUDwEiqsfL5xBmDOW7yCAgbNSQfrSA1W5cpDF5C2RI6NpUr5yL8ppaARUEVM6figyKkgS1Covvvob0XZTvU7nwAeKyTmg3cAvzCE2nMX4D6dh4YUDhxA+QrhNtnOpVhKYR2huTDnxcna7SC5ZaulZACPR7IIgHEDGLO42hCuW6dQqKiJyiZQzzXrxE0VIFvmmEkW7wypn7i1Um/smfbnMe60Aqgsr6YUpdX7on96m4VaoQbQNTEhKiUOh3HCOW7sTtULBU4VLBUVRMKKBJANO8FiF1WWbKv4pcsUMKCaiFa0f2BBBvjzN/ZpbQXf9Lh25IY6FOomP93PtG2PQTYfa2QxAy/9Xv0/Wll/AmFjDzKfIvHWPqH38dI5em/ceexJ8vE9vRiTc+T+XtC/T8yo8S29FJWLXJPn2Q6X/6R8R2dJF+dA/e2Dx6NomeilP89slIcmjpoS/8ybuAIv34PhJ7B3CuT1P+/mmyTx9i4fd+gFzqD5O2S+3kFTJP7m/SalkDnaQeGWX+/30VFYT0/Orn8WYKmJ256Dv83g9o//FPYQ114Req29IB1DMZ4juHqZ1+n9r77yOEINbTR3xkWQXCn5+n9P1XUGEYydm1t2F0dqJZFqHn4c3OEtYbqDDEm5vBHR9ruYas1ynePl9K/IV5YjsGMTu78BcW0OJx9EwGf2GBxpXLUQGLrjf1S62BHRi5LOW33orGFgKzvZ3cs89RPXEcFQS409PEhovo2Szu1CRh+f7yEH+SoQKfIGgN1wXV5e8vvdZdbNiotX624vOVEn3K9wn95XGb4dmlQ1YaPxUGBNXlHfvKa6g75qZ8n8Bfnp+6ixH9uBHWnVV9jLc5de8Fespa5VgqP1jfG1uSd2uZx70YUwHGNr5DaHtIz2/Jm2qJ2KaIQbYDISCd1sjkNdJZwdxUSK2qyLUJDh6NcfwNh1hSULnHOpOynGdAGyWrd1AJV9c6KCSVcIEOo58b3lkgKjZKall85eEukcM0ZIlOYxCBaBrflNYqQlIJC3SbQywEkwTKu+M662wbxZJ53sSuUoVq28/Fpo1pWKpj9XfS/Sufw7kxg1+oEh/pJTbUTf/f/BkQEBZraDGTsNLAny8jazay1kCLxzDyaRIjfc1jvYmF5u7OHZsjLNeaFYRaJkH3l15CGDpGZ47GuZvRC+F4KCmRdWf55VCgXL+l+tDsbcOfKxFWbFQo8WaLWAOdSNvFmykSVm3Cmo1mmssNzSvRJABY/+5rpoUWj+EXFiOGKMCbmyW2c2j55mZy5J57jsToKHoqhRaLU7944Y48kmr5T8s0TIvsk58idfgQRr4NTTeQnocwovvmzcxQff8UHT/xE+SefZbqeyeoffB+83w9lSJ16CFSh480nyShaZG3dScDhro39o//jP+MOxGU6qglneAmjZ8uIuKC09sfN9bfvioXKx2fsLIOY5mCoNr6mUBg5NMIQ986cYEQ29IxDWs20vZhRXuMkUsiDG1bVcV3Q2ePzuGHYzi2JPAVQ7tMPA9OvmWTTGl8+a9mkVLx73+riutu/+Wf9W+x0zrEQ/HnuOGdxZZ1kloWW1YphrMoJNfc0zyW+hz7408yF4yR1TroM0cY8y5iq2gzMeFfpd/aw8H400z710jrefrMEWy5vGmc8q/QY+7kUPwZJvzLhMonqWUxRYwx7wJyFf9aFE5vLNjkhvPoMX1d71SP62SHcsye2l5r46aNqTB13PE5Km9+iGw4SC/An1rEm15k6jd+v8mIIkyD2Ehfc/FWSz183sQCztgcU7/xB9GirSTSuV340bqQJ/cPoULJ3O+8Su6FI8uVeDJi+tCScZSUKMePysBjFsI0IuNsaPgzRXLPHEJLx6Lm/L52ascvYfV1rGBuWf3waLrFwP5P0zP6KRqlGcbOfpNaYW0FgbUePbUi7CBMk66f+zmU7zP71d/BX1wk/8JLmO3tm73ldPy5P0d8aJj5b/wh7uQERiZD18/94soLUnnzDeofvE/q6DFyzz5P9ulnmPlXv0VYq0ZSbbduUnzlZfz5OxLzq8Jv3JfkmtCNSLS8KfGmojxhGGzfYAsNoevRuLcX0dvMRzKMPPetQtOiuWraqjGjSMBdxhQCLRYtqMr3l0XYtWiezXE3M6bQlhR4Vj6bURhYaNqSMdJRSrZIdm32Zn5cOVNvvkJwB4G80HVi/R33NG5sR2dL3lUpRVhz8BfXIexQEmd8HlghrCGiPlhhbd2YCk1g9bVted5+oUZYbcAS2b4QAs3USYz20bh4f/OmAI2axPcUYQCGKZieCNh70KKrx6B3QGfshs/cdIi3RovgViAJOdn4LrutY4xYR9CFiS1rS15oNHZZznOq/jK74w/TE9+Jo+rc9D5kxr/ePKYuS5y1f8Bo7GE6jecoBrNcc0/Tpvc2j3GVzfuNVxmxjnAg/hQaGrasMu3fWNczVaFi6t1JRn50hD0/uZcr37iM9GXzfROaQLd0jvzaMTRTY/b97WnCbs6YGjpaKk58uJfYzh6MbILCnx6nfuYGxW+/R+9f/gJKKvyZIsXvnow8x6Vqt7DSQLk+3myJ8mun6f0rX0BJcC5PUPzeKWTNiTzOFZdzbkyTffYQXV96CRTYF5YNWvXNc/R85bMEi1Vm/813MNrStP/4k5hdeeLD3aAUjXM3qZ66Qvef/xGEplF97wru2BxGPt1ceMOag7TdluvqZoze0acxrCTZrhEyncPrG1PPQ9oOVlcX7vg4CIHV0xst+ABCw+rpZfE738JfXESLxTDb2xHmHU3sS+wzWjy+lMxQTUMX2zFI/eJ5vInxJQ7SNozsMqG4MAzQdaTjUHn7LRpnz9D/1/4rEnv3UDt1Ksq9hhItnkA6DkpKxJ00U0pBGP1dM03CO+awWQhdx2rvInPwGOmR/VjtXSA0wnqVxthVyh+ewpmeiHomV3oqGw4q0JNpkgM7Se97iET/EEY2hxAaoWvjzc1Qu3GZ2uVz+JXi5np7NQ0jlSG1c5T0nkPE+3YsFSBF4Vd3dorqtYvUr14gqJXXNdSxrl5G/vLfQgYBc6/+KcWTP8RIpUnvOUT2wFGsrh70eJLQtvEWZqhcOE3t2kWCWrn13gpBuncEK92GVy+iwhDpOwjdxKsWSHYNIn2XeL4Hr1pAT6SRvotTnMGtLGzmp/n4Ag6hxLk+Q2pvf1NIWxgaid292/fGRCRp10INGEr8xepSX/FqKKnW5O2N7ehAi1nIxtaKdYSmER/aOtGCN1fCL9aIr3z+hSB9eOcDMab1muLNV+zbl2F0v8n77zrcuh7w7/6p3/z7/aj29pXLRffdlRTcq1CUc7zX+M6G4ywEkywErfdiym9VK3NVnQvu2xteayVUqLjyh5cYfHaQI7/6MG2j7Uy+NUFjvoHQBdkdWYZ/ZBd9Tw2wcH6em99brZa0GWzKmOrJGGZ3ntqpyCiljoxERNOaoHb8ErXjl1qOL7+2HMNZ/IM3m/+uv3se+8QFpFQIARpQ+cFpdF0QM0CPa7i2RKtVmf6NP0A3BTJU6Logm9dp1CTFb79H8dvLPYRBocrsv/zWqjlX3/yQ6psftvyt9t7l5Tm+uprwWCmJ2yiiGTECr0Hgrp+TCqsV7BvXSB48DLqJEGB2dC57OVLiTI6T3LMX5fsY7R2YXZ34i61JcuUHuFNTpI4eQ4vHCaqVqN/TtnFu3SQ+OETq0CHQDZL79iPt5XCV2dNLYmQ3ynORjovR1kZYq+LNRHRt3uQE7tQErgHPUQAAIABJREFU6WMPY+TzSNdFT6UJyyVqp5e/v18skIzFSB09hr8wjz+/gDc9tem3TOgGmX2H6Xr+81gd3Uv3MjLIWr6dXNuTZA8/SvHEG1QunEYFwapNxepBNeK9A7Q/8QKZvYfRLKs5JiiMVBZzV5bk8B7yR55g8Z1XqV4+19I+stY8E4O76HjyRZLDo2iGuTRmCAjMTB4z20ZqZD/O4UdZfPtVajcuo/z1F1vNtDAyWRI7hul8+jOkdu0BTUfJEIHAzGQxM1mSQyPUrl9i8Yffw54eX2FQBVYqByokdBpoZgzNjCMDj3TfCKHnkOrdhV8vY6bzKBniFGcwEplNG9OPE7UzEY+uZplR7krTsHrzJHb30ri0FSGGCFZvnsRoX0uYN6g51C9Nrr9rWJLBCx2vpUUmtW8AI5vYMgGDlrRIjG5dHNyfr+BOLJJ+aHi5gEkT5J49yMI3T67K695PKAVXLqxu5/m42qY+alTGyxz/39/hoa8cZfC5IXZ/cQ/CEJFKlhfglV1mTkxx6p+exClsrz1wc3qmdQfn2jTJg0MY+TTSD7DPj22ZJWX3wQQIcG2Ja0sSaR3dEDiNkFhCI57QuHXZYXB3nGo5JAwVpikQAjJ5g4nrLuXFB8cjGfoO4+e+Q65nL05tgfLc+soL0nGonjyJ8n2snh6CYoHSa68SH97V9DaL3/0u6WMPkxjdgzc7Q/nNN1cw1kRQgU/h5W+TPnKU+K4RvKlJ/NloF136wetkHnmUxJ59hI0G1fdPoscTBMWIJFzWaxCGWH19CN0grNdY/NY38aainV1Yq+GdfYfsk0dIHxpEoWFIm8UTY6TbLaykjl3xsewZuHmGVO8Qqf3dlN4/R6U6R6bTol70MCyNZJvF4q06vrPam0iNHqDnsz+Nkc4ggwCvMI87P01oNxCajpHOEOvup/2JFzDzHUvGayNjKoj39NP96R8jNbwH6bnYU+N4xXnCRkQbpscTmLl24r0DxLp66Hr+8wjDpHL2vWZVbQs0jcTQCN0vfpFE/xChY9OYnsAvLUbsQ4CeSGG1dRDr7iOxY5iuF78ImkbtyvnlMO4aSAzsJLVzN1Z7F/bUGH6pQOhEEm5GJkesuw8z105m9CBCaMx+7xt4iys8JU1DhQGaYQJRKsOtLJBo66U6f4XQc9ANC69eRo8lCH2Hj7HhZUuonRvDnS6iZ5NNb8zIJcl9aj/2jbmt0dnpWiQOnoq18Nv6ixXqZ25ueGpQaVA/P072kd3Nv5ndOVKHhnAnC1sK9aaPDGN1bZWZF5CK2gc3yT65l1hvFCYWQhAbaKfthUMsfuf9T4TK0J9FqFAx9c4k1fEKfU/0kxvOY6YtUAqn6FC8WmDyrYlty6/BpiXYJM6VSZwr2w9FCAFHn07j2JKFaY+ZMZ+HnkyhG4Lxqw6VYki23SCR0hk9kqBaCikv+PQOxSgtBgSBwrQe7AKiZEhx+jzF6c3xEYeVMuU332j5m3112QB7M9MUvn2XZLZSeJOTFCZX39uwXKb0/VfXPTUolSi/9ea6nwPk20LMmXOYxQtR4VcjRM7X2flIG9V5h3x/ArceYBQvY9Svku1PEM+GdD7WRnXexa0FpNosBo/kKIyvLrc3Mjm6X/hC05A2bl1l8d3XsCdvoZaqXfVUhuTQCB1PvUT2wJGN7wdR21Hns58jNbyH0K5TOX+a8tn3cOamml6i0HWsjh6yB4/R9tizmLk22h5+Cm9hhsbYahUOM9tG56c+TaJ/CL9apnzmBJULp/EWZpuGUhgmse4+ckceJ//QY8S6eml77Fnc+ZlW43cHkoMjSNem9MFxKh+exF2YbYaH9VSa9O4DtD3+HIneHaR27SV76BEW33516bsovGqB0HNQYYBTWiaBL1yN1IUa82OrrhnYm/emPk6zK+sOhe+dJjHSg1jyTrW4RfaJPdTO3qR66sam3aPUwUHyzx1sUaFRXkDt1HXcqY1VaGTDpfLOZTLHRpohYiEEHV94hPq5Wzhjm/PyjXyKrp94clPHroX6+XEal6cwO7JNqkUtZtL5Y4/jThepnb55b+7i3SmqPxHQkgn0XBZ/+t5ED6yRnejpFPaZu6/ZSioq4xUq41FuXejinmXXVuIjJW0oLQZcPtOgWgpxbcnZdyHwFb4rqZZDauWQRi3kw+N17FrUTlJcCHDqEk0X1CufdLmgTx6spEE8Y2DGohd3+lKV8qzDyOPtOHEd3dQozwYksibJrI5mCHw3JJ428d2Q6qKgtugR+mo1mQ2QPXAMq7MHlCKollh8+1Uat1pzHGG9SvXCaULbZsfPfQU9tnElZGbPIdKjB1BhSGPsGotvv4Jfbl0sVRjizk1RqFcxs3lyS8YvObwHZ3YqIjK4DV0nvfcQyZ27kYFP9dIZCsd/0NKGAlGUwJkaQ7oOVq6N9OhBEgM7SQ6N4JcK63qnQtOoXb1I4b03CSqt8wzrNSrnP0AzY5jP5TFSafJHHqd85gR+aRGUoj5zI2Jd8h9MmO/jXlvLb14g9+ReMo+PIoh0N62+drp++lNIN6B+fnxjj0wIkvsH6Pn5p7F68y1eqTuxyOJ337+rAVJ+SP38OPb1GZKjfc2/x3d20/PlF5j6F9/FX9yYM1jPJuj9Cy+S2NO34XEbIaw7LP7pSZJ7B7B6cpEOqRZ5p71ffoH5dJzqe1ebxZmbgbAMkqN9pB/aSfX0jQeSf90utHQK5booP0DE4whNID0Ps6eLlds8LZnA6GgntG3ChQIikQApo4hNLIa0HbRUCiOfJSiVkdWldzeUJA4f2JQxvRP3W47tIzOmSsHxVytUVuiN3rzYGptuVCOv48aF//9Q2j1oSF9SnXNZnLBRUmFXA5SEyz9ciHboStE9kkYpuPVBCSOu4TVCNF1gJXQaZZ/Ql1x9e5HAXR3izR5+FIi8envyFvbE+sl7e+IGjVtXyew9vMGMBW2PPoPQdYJahdrVC6sM6UqEdp3q5XPkDj8a5UT7hzBSabwVxlQzTPJHHkdoOl5xkfr1S6sM6Ur4pQKNW9dI7z6AZpgkd45SvXiW0F7bmErPpXbtQkuP6kqowKcxfg13bgpj116MbJ7EwBB+ucBtoXj1gAzpJwFh3WH6371KbLCT2FIVrGbqpA4O0v9XPkfxlTOUfniBoFBttfwCjLY0+af30/bpI8SHu9HMaMlSSiFtj5mv/gBvenOi0e5UgcL3ThMb6EBf6hAQmiD7xF6MTJL5b7xL9YPrqDu0X7W4SfroLjq+8Ajph3a2Ni1uppDuDtQvTjD/B2/T/6s/EhVmiYhqMLm3j75f+QyZR0epnrhC/fz4kl5p6/la0sLqyhHb0UlyTx+JkR7Mrhxmexp3urhtYyoMHS1uoiUstISFnljNrazFTGI7OglKdaTjEdp+VEC6Trje7OlCxCycS1dJPfkozvmLKN9Hy+fQ43HcG7fAMEg9+ShhsYTmZwgXi8RHdyEbDYJiidjQDpyrNzC7O9DSaVJPPUbp69+M+q7nFlYTg2wEDeL5BMnuJCpQVMbLGxI5bAUfqWdaWUO4+z/jwWL2Wg0ZKNxG672vLUYbF8PSWBxv4NYD7EoAK+xBo7S8Oy7Prt7g6Kk0VlvU5iCDAHv8xoZtKkqGdzWmRiYijwcIHRtn9i5FKjJiEQo9Dz0Ww8y3N1tWlsfMEeuKNEaDahmvsHFIT4UBQb2KDHw00yLW0d3s7V0LfqVEUCmtxVnXhFdcxCsukNq1FyEEif6dVC+e2V5bz3+CcMbmGf+//oTh//ZnMPIpADTLILGrh9iXnqfzxx7DuTWPv1AhqDvoyRhWZ5bYzi6MXDIizddWNNNLxdS/foXqyWvrXHE1lBdQfe8q6cM7yT9zoOkYaaZO6vAQscEOgkKNxvWZSB5PE5jtGeJDXRjtaYxMAjSB8kMWX/6A1OEhEju7t34zQknhlTPoqTi9f/5FxJLIudB1rO4cbS8cIvv4KNL2ImrAmoPyg4goP25FOWNTRzMNtLiJsMzl1vhN2vbk3n46f+pJ9ISFloyhJ+NoVtTSJjQBWhRB0DOt75LZkaH3S88jPR+kWgqTKmQgUY5L2PCQDZfqmZuUXjuHNzVL7kdfwr0xRnxkJ7U334EwJCyUMEaXCG7CEC0WQx8coHYiKozUkgmQIcIw0JLJaNMiNIyONmLDQ2AYTaa3zSLdn+Ghrxyh55E+9JhO6VqRd//R29Qmo4jEjmd20H6gi6t/dInG3MdMdJ9uG2TfM7+CphuUZy9z6+y3cOvrq39ohsXwsZ+kY+AhAG6d/hPmbh7f8BrxdCftOx4i27GLeKYL3YiBgMCzcesF6sUJyrNXqRZaqeDWwq6Hf4b2HQ+haasVFjynyvi5b1OYPLuJbw67H/sF2voPEQYuH3z7H6JkgGZYdAw8RFv/YZLZbnQzTui7NCqzlKbPMz/2PkpurgBD0wzaBg7T3n+IZLYXI5ZC0zf++WqFccbOfQu7MrHuMYEnKc0424oFWvnOqKdSiCjsWriLBJJSeHc5Jt470OxRtdq7GPryX7t7m46moVmRp6HHElH7z8oxewYQS79xcnCE4a/8zbuGBYWuRxJngJ5Iti7kdyC066vYku6E8r2IFD8IIiH0tk4+qmzmJ6JUSUH9wzFu/YM/ZPBv/QRmR6YZ4tTTcbRUDKsnv+SpR0VYQiwv6s1hlEL5IZP//DsUXzm95fYab7bEwh+9i9mVJbk3qsi9PQ8jn8LIp4jv7FrqQRTLhmWJRkdJRem1c8z93g/pzya3Z0yJiGbm//AdwrpD/1/+bMTItPSdhWVELEm5VNQ72XxWRZPNZ02PeAu5Vqs7v2JDcXtccdeHRRg6Rq6Vbk+tvO5SL7n0AyrvXCZcqKCCgOSRQ7jXbsLS5rFlE6kUle+9jtHdSdtPfp753/rtaJzb/eWxGNZAH0ZnO43TH2IN7WCrC1aiK8nzf/dF2vd2NL+jU7DRVrAdyVCx/+cPYM83uPKNS+uMtD7uakw1dLoSI3TGBwHBdOMSBXftxVloGoaVRNMNNCPG3XsJBbpuYVjRjxMtgmtn0DXDYmDfS/SOPoturs65mbEMiUw3+d79DBz4DG5tkXOv/TN8Z51G7qXr6UYMTVvZexk90DIMmgvwZqAbFoaVwLCSWPEMQjcZffwXSLcPsfIJNeMQz3TRPnCI/n0vcunt38aubNwknMoPMPrEL5HI9tC8P4rlFwFam/6VQqHQdJNNLaXbTB3o8cTy+EoS2nfZzSlFaK/fugKgJ5f7aBECzdo8bZtSCjQdxErDF/WqNqFpqzzXu425/FyuDen7yA2qfZtj+R5RB72BFk9sK0S4HXzcOdMmpKJ27hY3/tffZeCvfI7UwcGmsRRCwG0PbY1ToxYmhTtdZPI3v03tzM3tVb4qqJ+fYOq3Xmbg1z5LYrQXpWvLcwAw9FVzUEpBIFn4k5NM/5uXEaa5RASxfaggZPFbp7BvzDLwV3+UxEhP6+ahaeA2eE7UElWBVEjPJ9is4LzgvinYtKzzYnk9un0TG6c/pOPLP8fcP/4tEAKzt5vMc09hdLQRzM7jTUyReuwYWipJWInUj7yJSfI//nmCYhlZryMbNmZnB+ZLPeiZKLJhdLSTfu4pYkM7SD31GI1TZ1BrqKUIXXDgFw6SHcpx8fcvcP53znLwlw/T80hvy3Fzp2dBQfex7gdjTHXNJGlkuVj6AVKF6/MfPkBomsGOA5+ld/RpdCNGGHjI0CcMXELfQdMNdCMeiTFrBpqu47u1pRaC9TF77S2qC9cxrTRGLIUVz5Lv24cZS2943kYQQpDtHmVg/6eJpzuQQTTPwHeizYYZRzfiCE0nnulm39N/ifOv/yaevXa+LZHpYf9zv4YZy8BSH2xl/jpufRHNsEi37ySV729uMHynxsz1t7Arc9iVWZzag+tFjMSpV/xhEyFLGWwcmllpPFXg4xUW7hphaBnfdVq9RNE6pnTtSAZtC3kWadc3bI3ZrEeg5ArWFePeyN7Xg0CgAklQirQkBRqy5jRVToTQVjB1LRXyBJKg0kAzLSCShdtIFUUFIUHFRkvdLgLZgiSZUjjXZ7n5975G22eO0P7Zo1hduWV5spVkDFItEdiHBKU6pTfOs/An721LmPtONC5McPPvf42un34qqhBORqFToa0wXrev7wc4kwVmf/cNqsevLO1lA+yb8/il5bmEtrd1HVilaFyY4Np//9u0vXiY9h85Rqy/fZk7WLvDmC5tKlQol+YW4kwsUH7rIqXvn9uQ4L7lsn7YMvf7jbDhNu+FPz7JzK//n83P/OlZCv/+D1qOr7z6RkRasxS69admmf8X/0/0iC6N400s9b4vvUOB7VD6+jfvOhehCwZf2EnpWoEP/tlJAjto9aaXoKTCXmiQaF9HfeYuuKsxlUoSKJ98rJ9AethBBU9uPZ58L0h3DJHv2RMZUt9h6vLrzN98D7exXJiim3GSuT6yXbvJ9+xh7saJu4ZQ68UJ6sVlL9uwkuxL/8o9GVOAXQ//FJpmUitOMHPlTUozFwm86J4lMt307X2ezqGH0XSLWKqN3j3PMnZmDeUIIRh66PORIUVRWbjBtZNfw11pIIWgZ+Qphg5/Ed2MoxkG1flrVOZXt4fcb0jfW+H2iLsTMcAyQ9Q6UN7yBshbnGfia/96wwKku0LRbNEBaIzdYPqb/3FjMe0tokkfeLfjDKN5XFS5e/83polkF+H5Ctf/i9/GsYvE4zl0I4bfqKBpBrm2XVRKY4ShRzLdjRA6weUq1/7rf0dn7xECv0Fx4TJyg3en/uEYV//2v72neYZVm4Wvv0vx1TOkDg6ROriD2EAHRi6JZhpIPyAoN/AmC9QvTVL/cGxdhqPtwrRrVP/j91j84+OkH9lNYk8/if48nTsSqFAye72GMzZP7cwtaudutRYmhZLKWxc5/9bWpbrWgmx4LH7zFIVXzpIY6SF1cJD4YCdmZxY9GQNdQ7k+oeMRluq40yWc8QW8K3Ow6OEE1RWOjsAUMXy1vjNRfucS5Xdava/bBPMrYYkE3jrSavcVS735LbiTfnSbSlZCCBIdCebPzhGsU0QYXQ/8ho8e395G967GVBHihzZtVh+hCpiX/kduTGOpDsxE1CRdnrvC1KXXkWGrOx/6DtWFG1QXbjB9+fVod71BQciDhKZbNEpTXDv+H7Crrf2JdnWOmx98AzOepa3vAELo5Hv3M/Hhy6u+UyyRJ9MZyciFgc/kxe+3GlIApZi99g5tfQfJ9+5H00w6Bo/iqlli+QRu0cavOlj5BHrcxF2so8cN9LiJ0ARuoYHQNWJtCfyqi191iXelEYaGM1dFSUW8Ow0SvFKDoLHsgUTqJyv4LROpjW+MEBjJjY/xV1TECsNAT2XuzZii8GvLY2qxGHoieV+NqRaL393TFAItFmvmc2VjdZXm/UBX7xHKxZsk011USuPE43l0w0IIg3p1mlSmD7uxiHJDOnoO0qjOYZhxCnMXIprGwF1z1/6gEFZsKu9corJiYReawMrH8WvR+6BCiWbqmGmL0A0QuoaSCisTw695GAkDr+qiGRqaoRH6EYex9MNmL6HQBNJvXQ+OPmLS0aFx8kSVxVdOsfitUyQSgkd/NkE+L/jN/zsy3pYFbRmNqoLbfCDptCCeEHieol5TmwnK3AUi0vX0wL4wiX1hCoFAFyah8pGEaOgIBJrQCZSHQpHVOxlOPMrF+jtNoxfXUrQZvUx7yy1qhrAQCHwV9TYbwkJDx1cuCoklkiS0NJ6ycZY0RU0Rpzc2wpjz4dIMo/kopQjxEWiRYICwCJSP5MER6twTFPh1HzNpRs/DOi0xZsok0ZmkcGn9Op+NsIkCpGi30ggqaOIjUolfZx5AFM41zFWGZyVkuLUqr/sPxcSF760ypLchQ5/5m++R792HpukYZoJYqg270trAnMh0L+VtI6Ho2uLNda9XXbhBvncfQtNI5nvJGB10PjrI9PevYuUTtB3uQ7d0/LrL7dI/FUqCuocMQrKjXSycGCPRmyU5kEP6IZmRDsoXZxn43H5K56Yjb2GFMfWKC8jARxgmQjeIdfVSv77BTl2IJt3genBmp5C+h25FRi/eM4AztZq0YCtwl8bUTAszk8Nq68RbuLdm8ZUw0tml/PH60ONJjHSu6Zm78zMPxmgJkNJHhv6SIpIiDL3ImOsmQteJJ9vx/TpKhlTL46RzAyglCQL7I8vjboTcaDvZnXkWzs4Sb08QOgG6paNZOrXJCqmeDNWJMl1He5k/PU3bvi7qU5XoWF9iz9aItUW/h9AFQteQXkjp6uKqhXRwyMB1IZEQ/Okf2di24uQJjxc+HaUGEknBI4+axBMCwxC8+j2HVFLw0o/E8XyFUvDaKy6N+r39loYwyRs96MKkHhYJVUBab0MtGb4Z7zpZo5OYloxoT1WDcjBPJVzAlSs9R0FKb5Uty+qdJPQMUkkK/iQh4dK1DKQKWfQnyRrt5Ixu6mEJz3cIlU9az6/wdQUpPU9Kz6EUlMN5LBEjpbcRKh9TizHtXmtqk36SoKRi9v0ZOg500n20h7kzq9/9eHucPT+5j1guxsx7W6e5hIge9y4H6MT1DHP2dZywjqltXXroXuHWC81ConTHEAP7Px0V9nysxn19eHaZ0szGCexGZboZ+xdCw7DW8NjuCB3KDXKHKz9TEpy5GtUbBcqXZol3pQBF7VYBoWmYqRiVK/MUTk+SGszjzNWwZyoIXZA/1Evl8hwzP7hG56OD0ULkBswfH8OZbw2zScfGmYl62oRhkNw5gjAt1oPQdNIj+za8L2G91iR90ONJksOj6KnMhufcDUGtQmOp/9XI5kkOjUQFQPcJRipNrKt3wzC31dHdbM9RMozm86AiJ0pRr83SqM5i1xfwvTpOYwGlJLXyZOR9SkmpcJ0gcGjU5ghlQL06Qxi4H7tBbdvXQSwfx8rEyI20kRnKEWtLYKYszJRFfk87uqUTa4ujmzrJnhRdR3pID+YwEwZm2iK3u42OQ9207++kbU87ic4keny17yAEXL8a8NgTFr19q9eTPXsNdgwZjN8KOXjIYGTUoKtH58gxE99VDA7quM69b4o0NCwtQd7oJmt0EdOSpIw8tqySN3tIaBlSep6YliQkIKt3Yoi13jWFK+vkzR4ATBEja3QSqgBbVpBIBAJLS5DQ0vTGdkcbLhXgKYdGWEaqaC1phBU6zKhNzRAxskYXoQowNYuM3k5Kz5PR26iHJfJGD5bYvm3Qsynafuo5Or78Odp+9sVtj7MWZCi5/IcXkYHkkb/+GA/9paO07WnHysTY8dwgB375EI/+jSc4+KXDzJ2eZez17W3eN5EzDaj5i/QkdyNVSN1fW838QaJenKQ0fYlYqgPDjNO7+2mynSM0ytOUZy9TWbixbgHPx4F6aXJDzxkgXNmkL8SabS5evbi84AqNRLaHRmnthuxkvh8Q0a61XiB0A8y0RcfDO/BKNpldHSR35KndKJAd7SR0g6YQrh4zSPRm0Syd+liRtqMD5Pb3UL48FzEbOeuHb8pn3yM1vIeImH6QzL6HqJw7ueax6T2HSOzYteZny1AU3n2d1PAeNNMiNTRK/ugTFE+9jXQ2SC8sKcyoIEC6rTke6fuUTr1NcnAEzTDJ7DuCuzBL5fwHG5LYo2kY6Sxho75KqLvl0ppO9sDDNG5dW9pctC6uejxJevQAsY5ogXNmp3DnZ+7enqMZ7Nr3eaxYFqVCbl1+Gcfe+P2rlaeolJaVjhq11krx4sLlFcdG9QJOIwpr2fX1q1OT6R5yHSPMT50m8Def5unf+SkC32F++vSm0y5z702hxwycok3Q8Am9sKk0FDoBcx/MENgBc6em8Ooe8x9Mo6QidEOkL5FBiDw7F4V3DUHohoROgFyjOX9uLmRyIqBYkKTSGtzhWWWzgsJiyPh4yOKiJJ/TuHpl6X0Qgjde9+45xCvQlgyeTz0sNdtyPOlgyxq+cjBExNvsyBqOrJPQ0mjr+EKudJq5Tw0dhcKWVephRG7RZvSioVEO5knpeRQKX3n40sGRjaZ36apG835oSyHdelhBEYl7CwQ1WcKWVTxpowtj26kLLZMk+9knMDpzyGqD4u+/tr2B1oKChQ/n+eA3T7L/Fw5y4JcOoVtRsdmhLx1GjxsIXXDrezc4/x8+xF7YXhrz7saUkKI3hRUkMLU48mNw48PAYfrqGwSBQ9+eZzFjGVJtO0jm+8n17MVrlKgsXGdx/DSN8vTHliu9Da+xGcN+96fOrs1TL02S7RpF00369z7Pjfe/Tui3Got87z7y3XuiUcOA4tR5nPkaM69fQ4USv+biLkZyQ0HdozZWxK86KKmY/M5FQjfAqzjRwmV7WPkEQgi8mot0AmZeW5/wv3bpHPbDN0kO7sJIZej41KfRTIvqxTNLOdXIG8weOEr7488jdCOSgtugYMeevEXh3dfofOaz6Kk07U88T6yrl+rFM9jT4xGBvohylWa2Haurh+TAMHoyFfEC38nNqySNW9coffAu7Y8+g5lvp+v5z5PoH6J66Szu3HSTmF6LJ7Dy7cS6+kgM7kJoOvOvfXNT/bE9n/1JCifeoH790lJFscDMt5N/+CnyR55AsyxkEFA69TZh4+7FNEqGzE6eIpFoZ9/RX2Tqxg/vakyLi+v/VvcCM5YmkxukMHuetfYVum4hZYhSrZYlkx/Cc2vMz5zdtCden16uMvXWIB73qtHf/BvRRsivrt4QrXXeWhjdY/DLfyFFd6/G+FjIzmGdL/5YnL37TR57wuPa1ZAv/kScLw8b9PXrfOP3bRSwd79JEIL8/9h77yi7suvM73fzy6Hee5WBAqpQyECjG0SzE5vNppiaSSJF0srSjCxreVnykmzLGo/tCZ5Z9shjhTUjjcYjWeJIlEQtBjE2u9nsxG6yA9ABoZFRhcpVr14ON9/jP26hCoWKAKoDR/p69VqoqnvPO++Gs8/e+9vfDmwunIPVuv/JsQgSATTXAAAgAElEQVRyRMdvtDZsCqJKOh1aL77waHjhPU4pOTTDICInaAc1UuTJa9tIKjmsoIVAUNC2k1Rz9BrDTNrnkZHpMXaRVDooaNupeDMEwqdHH8LHY8I6jyQpdGg9yzxbV1hElST9Sopx6ywAXfpOonKKHn0XJXcSO2jTZwyHzRrsESJyAkXafPng24nADZj8wQTVkSrZoSzZXR0Y2QgiELRmmpTOzlO/WsMs3TrZagNjKpHSCkTVFLoSJaokKduT2P6bR6leC67VYObic1SmzlAYeBedO4+hGQmMWAY9miaW6SW//U4qU28wdf4Z7PZb70Ffg+9tjTScCHzGzzzOvvu3IWsGHX2HMOIdVKfPha3iFI1Ex3Yy3XvQImEotDJ9hsr0WUQQYBWX7tP1/76+EeC137v1JeafObOcnGOX1t6pBY7F7ONfpf8z/xgtlcbId9H58MfI3fdw2C5OUVAi0ZCko6gUn/0OmTvvQc+s3SBaeC7l488hG1GyR+9DjSVI7r2DxNBeAs9bYvVJ0kLTcBVJ1fCatYXyjpXwzRbll55FiURJ7b8TLZkmffgYyb2Hwz6o17xEWUaSlVB5RdWwy8V11Y8AWiMXkDSdSO92eh75DIFt41vtBW85HgpJaGGHitrp4zQvrd+F5rorQas+hedsnsW6UUTkVlGvXKVVn8ZzV1lsJJntwz9GaebMMq/4nY5XXnY4e9pFVSX8QGC2BZOTPp///1qoikSzGWDb8LdfaGNEJDxP0GgIfvrnY/zBv21QqQQcPKzR3aMwMX6DsZQl8r/4CPq2Top/9i3sC+NrzkMQUHTGqHgzCBHgC4+UmqfmFal4M0zaF/CERyB85p0Jqv4sfuDi41F2p6h5RQICPOEgARP2Babty3jCwcdjzhlFkUPikCtsqu4Mbb+KL7zFGdiByYR1Dgl5gdwEM84Viu4YvnDxRPhZda+IADzh0PQriwzgUesUvni7uSrrI/ACGuN1mlMNpl6YXFSeCrwA3/FvmxC4gTEVuIFJRummbE/ganm8YOsumCQrNyWMEPgOZn2W8TPfYfL8U3T0HqBz5zGSuR3IioYezdA1eA+pwhCXXvprWmuERN98bB2xpDE/ysWX/orBoz+JFkmSzO0g0bFtYfFfKPCWZEAwe+VFrp78xqZVlbYK1uwkk1/5c3oe+Sx6oRvZiITCCNfxIALHZubRL9G8fJb4juF1jSmEudPis4/hVObJ3fMQajKDpMTWTvILgVevrevxuZV55r73DZxqiexd96FE4yjRdV4BIXAr8xuqG/lWm8oPvkfHux4I9XwjMdR0dvlQvkftzKuUnn8Cr7m2kMg7FSLw8NZ4riRJJte5n3JxbZ7AO7GZiW2DbQuun5nnQrWy/HeNRmhEr2H0isePfSiCaQaMjvjMzq7idSoK8aN7EY6zQt92Nfh4+NddX0GAi4MdmAssWYkAH1dYONcRjny864wiC4bOXsarvXHsAB8ruPE9CQ3t9fCEgyecZec510UexA3H/qhA+AJvU5vZm8OGYV7TbzDROkMgfCxv/R3yzb4syoLIws1CBD6+06Y4+jLzV08Qy/TSM/wg2d79KKpBNNXF0LHPceap/4DvvQU1Um8qBJWZc1x55UvsvvfnQYDvO4sqTU67QqN0lbnRl2lXb42FdvtTFJiTVxn9iz8kffAukrsPouc6kSQZt1mjdfk81ddfwK2WkfUI9vwc0b4dYR5ynbxhYLWpvPx9GudPkdx1gPjQHvRcJ2osEbJWLRO7UsKaHqd15Tzm1Nj6OVBCMtL8M9+hfuoEid0HQ8OezS+U9YQqTna5iDU1RvPyOey5qdBzXQeSquPVq0x85fMkhw+SPngnRmdfWIJjtrBmJqmdPk5r5OKy3Gsk1sHA8AdIZQdQFJ1WfZqJke8vy2uuD4lC7xF6B+4lFssvlMAoNOtTnHv9bzBbRZKZ7WwbfC+p7ACeazEz/iKTV3+wIIQh0dG5h+7+Y8zPnqFv4D6MaIbi1OuMnP8OQeCialGOvuc3UbUItfIol858Dau9VJ61766fI53dgabHOfiuXwIR0KxPM3L+UeqVUSBUBxs++Cmy+d34vsv87CnGLn4PTY/Tte0YkWiGZGY7xanXECKgZ+BeyrNnuHj6q5u8Dm8tnnvW4bln13/OIkN9yIkIfvnWjEzVu7ESQDDjvPm14/+lQlLDcqqNVLMkZUFJ7hYyhZuSE0xoOerOHKocKqR4/ho7dcFivlKS5A1ZgaoRR9Vvj1UpRECrMsHll79IfvsRth34EHosSzzTS7prmPLkydsa/52AXN8hdt39UwSey/TF7zN1/ql3QPnPSgRWm8rx56gcX7vHahgW/gqzj39lzWNuhFevUnnleSqvPL8V0wTAKRcpv/AU5Reeuu2xwuiABEFA4/xJGuc398z5nk2rMcPk6HMEvktX31G6t92N2ZrfMDcKkMxso2fb3YxdeoLK/CW6eu5g576Pcfr4n+I6bWKJTvp3vgezXeLqxScwImkG930MSVYZv3zte0uksgNYZpXLZ78RPleStMjo9FyTF5/813QU9tK384EVczj/2l+jahHe9eD/xNnX/opa6QpiQUXpGgrdh5gceY6xy08RTRTYMfxBrFaJyvxFYvEClllmcuRZtu96P/Mzpzj7yl+w78hPE0t00m6u3Uf2nYz4keG3ewr/gAVIqsxd/+1Rpl6aYvqFtaOVkiKx9yf3UR+vM/mDtfXM18KGxtRQ4nQY/bi+TVLL4wRtrDVypkL4BJ4T6tQa8QVt2LURTeTRo+l1j9kshPCZH3+NdNdu8tszgEQs0/Mjb0xVPcaOI59EkhXalXEmzz35lodx/wEbQJLYlAbyDXCdNnOTr6JqUSRZxTLLRBMFND22KWOqG0l838I2w4411coosqyiG6nQmCa7kWWV2YkTtJuztBrTGNEs23c9zMSVZxbrXG2rzvzsaeqVtfOda8mIBoGH77mAIPA9glXSQM36FBOjzxH4Do5Vp14YI5ooUJm/SCA86pVR6uWrbBt6mLnJ12g1pnHdFpqeBOZCVnU+jZKM4ddbePM1EAIpaqCkYsgRI5TeC0Sok9w08Rvtm9LulWMR5GQU2dAXaoEFgeMRtCz8RgvWkVdEkZGjBnJERzLC9mWxO3eHf1MV9L4CYg25RfvK1GJ0Ro4ZaN05hBB4sxWC9g0KRoqMMdANkoRwPbz52opjpIgefp7v45XqBI1V+A6yhJKKI8ciSHqoyiX8IFRYarYJWtamJDLlWAStKwuyjDM1jzBDJ0sy9PC+LLRwE0EoexiYFkHDRLi3t34pqRhqPrO4gXWLVYLm2hFIWZHY86m9uE13XWMqKzKDH9lFY6rxZhhTiZiWwVDi5KPb8QIby11bOSbwXWyzhhZJEEnkiCYKmLWZVdm1WiRJunN4U8ZUVnSE8DfUaJUkOTxGiDAM6P3oxPHXQiRRQDXCOlEhfPRIAsdq3JRe7VowDEinZBoNge8LZBk8PyxvDYJQKtO+LggR0dJoSsj0NbQEQeBRN2dw/fBBNtQE8UgORQ6ZnS27hOXWAUE+OUTTKhIzOlBkDdtt0LTmCRbyPREtRdzII8sqrm/SMGfxAwdJkonpHQjho8g6ET2FEAHl5tXFc99MqNEkBD6ebbLVWb9UdoCuvqMLIusyupEMOQSbrJ82W0UC3yPXdYBoLE8i3UetPILZLiNJMpoWw/edUIzhunNULYqqRXEXJC4918S1tk4R6ka0m3OLTF6BIPDdsLkEYS5ZBMGCJywW53o941uJR8h99mGSDx6h/syrzP/5t1ELWRLH9hE9OIjem0eKGeD5eKUa1oVxmi+fxTx9ZU0jdg2SoWEM9hI7spvo3u1ovXnkqBG29is3sC9P0nrlPO1TVwjqq6e5tM4sifsPExnuR+vqQCtkQrF8SUJNJ+j8rz+x6nlCCK78/P+xOEdjsI+e//GnQJaY/cOv0nrxzLLj9Z4c/f/qV5BUBbdYZf4/P0rrxeVNsaP7d9D72z+HV64z//lHaf7w9LK/qx0pInu2EbtrD8bOXtRcGllXCWwHd6aMefYq7dcvYp0f2/DaRfZsp+vXP4Mc1Zn+nS/Qfu0iWk+e+F17iB0ZRu8vICeiCMfFr7Wwr85Q/dYP1iVjbQQ1lybz8ftJf/AYyDLW2VFKX/we1rnbE3a5Bs/23ixtXkHFmsTxTRpucY0i4esn0qJZHiOR7UXVonQN3oPvWtTnRxZZhpKsEk0WyG27g0zv/jBEttByaTVIika2Zy96LEO7NoPdLOHYjeWGUpLRIynSXbtI5AaQZIXAd2mWfnSYhWvBter4jolqxElk+tl+6KOY9Vl8P/QGABCCIPDxHROrVaZdnyHYgFGsqnDksE5vt8LIqIdtCzqyCtNzPoM7VEwzwPPgxGvOIu0/l9xJT+YgdXMGWVKI6Rnq5gyXZp8NFVIieTpTexAIdDWG7TYYLb6I4zXZ3/9R5mrnCYSHpkRRZJXJ8klKzStEtDTb8+9CkTUCEaApEZpWkbH5l5Bljd6Ow+hKFNOpoakxVFmj1p4EWSGW60MEPk6zgmrEUfQITqsW9mI0osiagVmeBhEQyXQhgiA8NhJHjcSxakV81yKW60eWZdqlMO8cyXYTuDaRdAFJUfHMBlatiNO8HWnD5di55yNY7TKjFx7Dsetk8sP0Ddy36fPbzSJmq0Qi3YeiGLhuiytnvxm+a5JMEHjIsooiL723mpEg8O0bGOfiNpVrromPrP4OB4G/5jZEsNzr3UgVSuvOET04SOaj9xHZs31hoW6DZSMnomh9BfT+TqKHh6h8+WnqT72ypocqxyMk33OE9IffjdYTEuL8Rhu/0gBFQc2l0XvzxI4M0/j+61S+8Rx+aSV5TE5E0fvyKIkoQcvEbpnoA92gqeD5uLNlAnON9/G6uflNE3e2vGDkUkiauuTFSRLG7m2LZCYlnQi9M1laNoYxGIosBJaDM7m8nEvf3kXmkXtJ3HsQKaJDEODXWnjNNpKhY+zoIbKrn8SxvdSeOE79uy+vPe9lkNDyGYyBHjo+8z5iCyHuwHYW+rCG/VK1rg5qj724ifFWh9bdQeZj95N88AjIMq2Xz1H58lPYo+t33dr0+HGNaEeU9tytaUBvGOaVJIWElqXhFompaQSChrt6JxLXaVOdOUemazeRRI5U5y5UPUarOoljNZAARY8RTRaIZ3qxmiWcdo14pnfN3pyyJJPMD9K5827sdnlBDamJ55phBxIplBjUY2nimT6MWAYhAubHXqVZXatVnEIknkONJJBlDUXRkBUN1YgvlpjIika6c9eiYV7638FqlvDsrRXdXgt2u8rkuSfp3/9jqHqM/PY7VxwjRJij8lwTu1WhMT/C3OhLK+QJr4eqwL49GvGoRBCA7ws68wo9PTIH9ulMTXtMzwQk4hLV2tLLqsga5eYIldY46Vgvh7b/ONPVM7TseRrmHG27guu1ScW6Gep6L4Yax/GaSICqRLgw/QQA23JH6UzvpmZO0Z3ZhyJpjBZfwHabpGO97O9/hFLzCqZTQ5ZUVCVCsXGCllVCUyO4voUsG2G3n3iGSKoQMhmtJsmeISRFxbfbeHab7I7DNGeukOodpjZ+FiOVR4sm8B2L9LZ9VEdPoegRoulOFD2GZ7fQ45nQCBM+C0gy2R2HmT39zJbdW02P0axN4HkWkVgHHYU9YX/eG7HYkmu5sVIUjViiwNzUa5RmzyyPAIkAs1lE6tpPtjBMMOuFG9zeOylOn14Qst98aFoiDGWvZi8DEeB5FolUL61GWOfte86KmtOtgN5XIPe596N1Zmk+9zrmG6P4tRZCCNR0gtidu4kdHkLLZ8h+6iHMN0Zxp1fRWlUUkg8eIfvj70HJJPHmqzSefR1nYo7AtMO+nYUsibv3EdnVT+oDx5BUhfnPP7oiTOlOzlP5u++HPUgX0PUbn0PNpfHbFtXvvIgzsjo5UHhL1yhoLRlTrTOLFNGXPkuWiO7dQeC4+JVG6AF3ZpFjkWUhzsiuPoQQBE0Td3Zp46cWMmQ//RCJY3tBUbAvjNF86SzuXAXh+sgRDa23QOKeA+h9BbKfei+yrlL+8jMbh3wlMHb1E7trD5Hd22i9fBbr4gR+vRV2bYoa6H2dqIU09uVbq7DQevNkP34/ifsOIakK9SdPUP3ac7izq6dDjLRB153doQylJiMpMtldWXZ+cHDV4xVDIX+gk2g+ekshXtiMMUUioiTJGr3E1Sxtbx1BAhFQL15h+uL36d3zXoxYlni2j3i2l2BBJiQshRG0qlNMnnuSaKqLSCK/pjEVIgwLSbJCLNVNLNW9sHtdIjlIshISngDPaVO8eoKZS8+tGebV9AQ9ux8kmRtAkpSFEh0ZSVYXe6sqmkGu/w4y3XsRIlgUzg88h6nzT1GaeCtysRLprmESHdvWzT9LkoSkqOhKEs1IEEt3o0WTjJ36Nk67uuo5jgvfe9pCU8GyYMeAQj6nMDHlc/qNFo2GwLIFbXP5i9S2y7TsEn7gUGlexQ9cUtFuWvY8qqLTld5LzOhAVSLEI/mlcJ6AcmsUZ4ERXjdn6MkexFATpGN9xI08USOzoHQjoylR4kYB06khIdGwZmkthIXthTZNsfw2JEUJjV+iA6tWpD0/QW74XUiyilmepj0/QWbHYZqzI3i2Sbs0SbJ3GN+xaM6O0tO3h1hhO4oWwW5WiKQLWHUJszqLWZlGi2fwrDatuVHS2/azlUUe45efpnvb3ew98l/hOm08t037OhWifNdBct0H0Y0EsqIyuO+j2FaV0txZilOvL7wbDn07HqCr7yhC+NhWjdmJ4zTrUzQb08xNvUau6wAdnfsAgdWuMH5lsxsCia7+o+QKe9GjaaKxHLsO/Di2WWH88tOYC8pJIvCZHH2efNcB0rlBmvUpZieOY70Jtd5KIoqSiFL+8tPUnziOV7puPZIlzHNXkSM60YODaIUM8bv2UP3WD1aME9nVR/LBIyjpJH6lQfE/fQPz3FWEtbRmSKqCfXGc/C8+gjEYHt9+9QKtE8tLgIK2hXN1uXcknAUj6Pk4E3NYFzdeoIOWhTsTXjOtuwM5oi/mPCVJIrp3O0HLpH36Csl0HK2rAyUVXzKmkoSxsxd8H2d6HmE7i79PPngnscO7kFSV9ukrzH/+UZzJObiuuboU0bEujFH4pY+i9eZJf+RerAvjtE9e3nDu8bt2QyCofOVpmi++gVeuL+WZJQklGQtDvpto1XdjGzutJ0f2k+8hcc8BUBUq33ie2mMv4pfXLjHTkzo7PjhIbm8eWZWQNZmeu/vIHyiserykyBhpg9L5eS5+fbNs+uXY0Jh6wmHOvExcy9H26mt6pdfguybF0Zdp16bJ9R0iVRhCj2dQVAPPbmO3y1SmzlKeOoPZmEOS5DAkacRWHS/wXWYuPUe7Nk2qc4hYqhs9lkXVIsgLajqe3cZqlWiUrlKdOUerMrluobukKEQSeWLpnrWPkeSFZt/L4+eB76HeZou2zUGib9/DdO44hh7NYLdKzI68RLs6je/dQDpQVHQjQSI3QNfgvSiqRqZzmGbPfmYur1xIIMyJjk8s7Yor1YBzFzxarQB7nVSzQCyG4gRheFmRNTQlwnD3Q1huk8nya6hKhJi+vNYyuL5GTQSLHTBkWaNYv0ixfnHRuxIEmO7SQun77rLzAbRYiliuD89qAoJIukAk04lnNpBVnVT/HpLdQ7RmryyEwsMFzqoVSffvJZbfhlWbQzWixAvbcdt1fM/Bs5pkBw5hJDpQ9Ah2ff5NUdUqTp+kXh1DllWCwA173kryYt6wVhnFbM8vz6GKANdpARKdfXcSBD7TYz/EddrIskI6t4udez7C6eN/RuA7lGbP0qiOo6gGQgj6I3txzCqqpKMrMWrlK7Sbc9jXyXFm9B7qzlyofla8QLM2uegVX9OQ9RyTzugQTXeetldjZuwlynPnkeWw84xjN0hoOSYvPoPjtxdJc4HvMnHlmVBhy27SGr9AYDfwPZvTL/8ZtllFCJ9zr/8Nzhp5XOvSBLVHXwg9n+sRCNypedonL2EM9aEkokT2bIcbjaksEbszzOlJskTtsZdon7q8gmQkPB/r0gStl8+h9eRR4hHSH3r3CmO6VQhMG3euivC80OuMLIXn1UIGtZDFnStjnb1KZM/2RWPqToVrsppPo6TiCMddZtz13jyxQ4PIMSNsSP6Fx1cYfwBhOZinR6g/+Qodn3kfciJK5hPv2dCYSpKEHItQf/IEtSeOL9uQhAML/Hpr5f1aA+K6BUgtZMh+6r0k3n0AJMLQ/RPHNxyrNdvilT88Tiwfo+uubu745TupXCkzf2p1JTPfDaiP1Zh7fZbm1K2JEm2iyFPQ8qqYXoOImkSRVDbaW/ieTb14hWZlHFnWFogEEogg9O4WQqYA5akz1IuXQZIXZPJu3PULHLNGafx1KlNnlrzQRQZl2Cw2HHeBTbhBWMJuV7jww/98SzWuIFZtOn75xJcZee3rABvmKyFs4v3Kt/81167Ljcoy2Z59dO58N0Ysi90qcfa5P8Ux6wve+I3fLxRvqM6cx7VbDBx6BNWIE8/2IcnKpshKpiUwNyHYHeY7w5dckTUMLY7p1lHlCMloN1fnv06tPUUqesNGRYKYlln8QVMioSaob+EskNoaVkg6uh6qEopnr8YmrY6eoj5xDhH4GKk8RjJHe34cz2qRHTxCa+4qdr2I7zoIEYRax4DbqlG+/MpCCN8DBPXJi+GCLwJEEGCWpxcaiIc/i8Bn6vi32UoSUhC46+rhuk4T11n9xdb0OJmOQcrF8xRnToWEHUnC8x3yXWG9teeaBIGLYzXojfeiSDpaoCFLKv3JgzTdMm2zRkLR6U/fTc2ewfTqbE/eQd0tUrEmMN0GBb0nJH1Zk6iyTkTTaQQCXY7QE9+LjMx06wKGH6FuFjGUGEmjn6zRjy88yv4YgWyxLXEYEMy2L6PKOn2p3ajotPxZQNBuLqUlzNbam/bmC2fwW2uzN92ZcugBJaIomZUbXzWbRO/rRNI1hOuFJJ212LqBwLo4jrBsiEeI7BtAMrRNeVg3DSHwqw38agu1kEWKLIX8I3sGQJYI2jb2lSm82QqxQ4Mo6aUGGcbOHpAlhOdjX126ltr2LtR8GkmSMM9fxRlfp2NSEND84Wkyn7gfxdAwhvpQ8xm8+dUjXItTdz3qT55YaUhvAdcYykoqTsfnHiZ57yGE51P56rPUvvvyuszdxTHcgOZkg+ZUg+qVCrs+NszsiRlOf371iKIAhBcQeLe+ad6QzZvWu4irGXQlSkRJUrLG1iyNuXF6gecQsP7FFYGHa288nhA+vrdFORghFpt1bxV811yhmbvBJNZlUHb0HUSPpJAkiZlLz2O31guZhd6i79nUZi/AoUfC3aIaQVZ0/GDrhCvSsV4KqSGCqkt/7k5cz6TcHEFXYggCYkYOy23Qkz1IzFhSOZKA3uxhSs0REIKu9F7q5gyWW2O6+gZ7et9P0ypSalxGU6IkY13M1db3AITvLhCxwLNaSJKCazYRvovTKOO063j20n1eelHEihSAf4Miiu+svGaLmygpbKF27nd+e2E4gbj9hpY3Bd+z8TxrMawa1pUWGNj1fpo3yP5ljB4sr0ndnWc4fU/YdsscJ210LXqabbdG2ZrAFy6mX2eycQZX2AtSojEuVp8Pe1zKUSJqElkKl46qPUXNmWN35n4aTpGWW1noLCXR9mpUrSmaXpn++AG8wMEJ2uxMH6ViTTHbukTGCBs03AzsK1PrNooWjrtU766tXOKUjhRqRzL0jotVAtNatybeb7QRC8ZWUlXUfAZ3cn2t5luFV2vilesYuRRaIYN9ZRL8gOj+HeAHuNPzeLVmmCu8azdad27RuBs7e4HQsDljS56nVsigJMIIm3VpavG7rDmH+Sp+tYmSiiNpCsZQ77rGVAiBb9rYI9O3fwGAoG0jGTodn32Y5AN3ICw3DO1+58VNEqKunxx4lkflUoXA9ddt2nG72JDNa/tNknqeOXOEhJbDCdbu3v5WIBKXkaSl1y8IwGpvfjehahKqJi1GzkQArhPwJqhL3TokCT2WWZRabNc2z1aTldBrFCLcqGxFCc31qLYmSEV72J4/hu02OTX2NYQIcH2T0bkXGOx8gMHOB5gsv0qlefW6sC1MVU6yp+fHiOhpirXzTJZfA6DcHOHyzLMMFO5hb+8HcH2TYuMic7Vz4W5deBuSWdxWFbe19MI3pi+tc/StY9vBNEc+2sPk2TrF0RZGTKE0ZlKZ2roNyzWC++p/DJ/9IPCYHHmOvp3v4cDRX0DVDGy7QWXuHOOXl+dEZWQCAoLAQyy04LpWjiMIqFgTFGI76InvZrZ9GSF8JElGEhDqtrYXIwPStf8WXiBf+Ishe4FAlTUUSV2IGQUL85VQZA0vsHEDi+nmOaJqOryv3Pzz6VUbtxUgkKMGkhG+J1pPjh3/7/98U+criciG0blbhV8NjWlEktB680iqiggconsHQo9zbI6gZeIVqyAEel8BOWrgXzOmArxyA7+2FAa9Vk8ajr+5a+dVGujbuoCwJnXDeddbm6pN3QyE65H5+P0h6UuScMs17JFJglv0egMv4MwXToX6u28iNtGCzadojiCEoOnO4wVvX+2mokr8b58fpmeHgaxIxJIK4xdMfuuT5/DdjW9kR5fG+z6T495HsnR0awgf6mWPv/w3E5x48p2ll3q98dAim8vRyopGR+/+8PzAx7WbWy587nhtLs8+i+0t96oD4TNVOclUZSmMMlp8YekAAU2ryJW51dWR5uoXmKuvTPwHwubi9Pe2ZvJbgMJgnNqsRXXGYvpcg+7dCdTI8rpQPaqEpAdZwm55IIEeUxA+OJaPHgn/brc8fFcQSy+IkFsBii7T0RelOmNh1l2iKRVJCo8VAXT0R5EkKF5t41NhavKbjF70kRUJRZOQZAnk5YtG3ZmjJ76HpHo+AMcAACAASURBVFbACSwMJUE+MoCuREnr3ciSQkRJYXp1BIKqM0dfYj8l6yqOb+IFoTegSBppo4uUXiAQPgEBHUYvuch2ZtoXEEBf/ABOYFK1p3ECi3xkAFU2mG1fZHvyMLIkU3dLmH6DvsQBAuFTd27Sy3Nuz5RJirKklxuIkDG7CUMguFa68+b1UfZrLbxyHSEEWk8OSVOQEynUzsxiiJdA4JVq+LXWgjGN4Ndb6Nu7QIjQm70Okiov5t0Db7U00Spww/RH2J1pffEdICxQ3yLoO3uIHh4KIwxI6P2dZD78brxSHWds9uaNtoDiyTdfSWtdYyohsy1xCF2O4gY2kiQzb43i2G+P3m3gC774e1NkuzTSeY2f/a2+TZ9rRGXu/1iWT/5KF5OXbX74rSqeE5Dp1ChOLjc4sqGhFVIoMQPhBzizVfzmSo9ciRsoyShuqbFhi6WbghBYjXmCvIui6hR2HKNRGsMxq6t6mrKiLYhg7KJr6D6EEDhmlXpxZOvmdD3e3t7Rbyte+fryEoeJ0ys3YfvfVyCSVFFUialzDTwnYPjeHHMjLUpX2+x8V5ZoUmX6QpPxU3WO/UQv9XmbsddraIZM/8EUZt1FBIL3/aOdtKoup783R7vqMHxPB3MjLdo1l6G7O0jmdUrjJtGURjSlouoycyMtzj2zlHN0ApOrjdeWzfFK/eVlP1fsyUXvc94coWReXaw9nWyG4gG+cCmaIxTNG5+rJYZz2Zrg+sW6Zs8sjnuh+oMbjr314v3bgfC8xZITr1yn+fzJ1VV5wl4Sy38lxHIG8VbPzXHxSjWE5aB3dyCpCtFd2wAJYTs4o2Eo1as08Eo1tJ4ccjyCmkuHoVwRrCg/EbaL8Pywd3FEZzOMdCkaCZWWhCBob00XrM1CScZwxudov34JJRElcf8hood3kak0KH/p6dArvw3IuoxqqIhA4JneCvbwrWJdYyoIuNp4nd74XmbaF0nphQ2Lqt9MCAEnnw89omhCuSljGk8p7Ls7QXHS4Yu/N8Vrz67tiWqdKToeOogSM1DiEdqXZyh951WCG0gH0aFu0vfsZu6rL+IWt9azLU+cIt05TDTVRbpzmMG7Pk156hROu7ZI3pJkBUU1MOIdJPODZLqHkSQF37NDYtfc1vS2VBTQNYl0tk48ojAQFczMhvWprbYgFpVwXYGqSThOqKQE4Tm6LtFoBmjJi6DUiUYldC0Mzzea77Q+IluDeFZn7FSV8oTJAz87wMUflihNmJz+7hz731dABIKJNxr07UsiyxIzl5q88VTonUXTKrmBGKoepjPKkyalCROn7WG3fabON0jkdDp3xrHbHme/XOR9v7wT1woYeaXCzIUGD//K4DJjuhncSPC6OREHsca/VyOOvf33PGiaiyQXYYf5uFVl994muMUqfqON2tWBpKkYQ32AwJkuLbJYvXIdr1QjsqsfrZBBzSRC8lEgsG4wpn6tFRKDDC0Up5CldYXcJV1F7Qjr7RECt7h1QiWbgbAd5v7477AvT6J1dyBFdOLv2kfigTvw6y2qX38+lIu8SWhxjdz+PJnBLNF8DKtsMvKdy1iV8FmI9ySIZCPURqp45s3n/TbVHNzxW2SMHhRJ3ST56J0HVZNIZVVq8x7l2Q06i1RalL77Os5cjfi+fro/ez+VZ8+sMKZvJuqlEaYvPEP3rvuJZfrIdO8m3bULz24vqtfIioaiRZAVDWlhF2k2ZilPnGL2ygtb0ldV0+DedxuoKvjBJIo8ybaMjOfL5HIyti1ot6FcCdi7R8XQJQxDotEIsB2BooSGtrDzaQ4mAuIxg6lpP2xrdfGdlKjeWnQNJUjmDGozFr4rcM0wotCYt8kPxEjmdUaOV/B9wcDhNAN3pKnP2UTTGoWBGHbTw255lCdM9j2YByGYvdSieziBHlVoV10iCY3BYx20ay6KKmM1w7Dx3+fIwWbgztfw5muh0ENnBr07h7XVxvSGnrs3A69Yxa+3MPIZlGQMY6g3jFadW1J086vN8DsEAfr2LoTrI0kSfqO9QqTCmSzi1Zoo6TiRvdvD+tV1GLHGYB9KMixVDFrWlikMbRbC9Re9a3e2QvUbz6PEo0QP7iT9gbsJWhbVb/3wpjR+tbjG3s/uZ/CRXST7QvJZ+UKJyecnFo1px+4O9v/UQU7+6WtMv3zzHbg2NKZC+Fh+m5zRT9VZ0mFdAQnSOZVD9yXZNhwlmpBxbUGt5HL1rMm5V1rYqxCFugYMDt2bpG/IQNVl6vMu515p8caLTXzv9nax2U6N936qg2RGpaNbo3uHgecKfvLXemjVw8VtesTmW382t+yz/KaF37SQdBWjO4szX19UKjH6Osg+dBCECPNTbxaEoHj1BGZznnTnLpId2zESebRIEmOh9jUIPHzXxKzPYTXnaVUnaJbHaVUmtqxBuapKDA2pzJd8Rkd9ZDkso1EUif37NWw7bKgshODQQQ3XDUNh8YTE2JhHNiORzSoU8grRqIzrCSanfdLp/7JXfKvh0ao4TJypE3iC2mzork+fbxL44bPTmHdoVRxUTca1Azw3wKy7jLxSpVV28D1Bs+Jw8vFZyhMmnhMwczHczJbGTVqVMKd69ukiqqFQn7PwPcGpx1aWPkT6B0jsO0Tr4lnM0Y2L8G8GhQ99HDmyVI/tzM/ROPUqXv3NC4feDoKmiXl+jOjhIdR0gswnH6D4H7+2OW9nXXbYEvy2hUYo/KDmUjc1P28+NKaSLKH1FzC2d4UlOtcZU+F6uHMVgra9IGwfgCRhj06vMDL26DTO2Cx6bx6tO0fqvXeuKmQBoXBD6uGjizWurZfPvr1euxDYo9NUvv4cciKKsbOXzEfvJ2jb1B5/aVNDSLLEtvcOsPcz+6heqXLhK+fofXcfkWxk2XGVS2UyQ1l67+17c4ypImmk9U5aXgVV1tCVGHaw8uLme3R+4Z/2sWNfDN8X2GZALK4QTcjUyx7/8ucvrjCm+44l+Pg/7mTH/hi26eP7oUG+95EsP3y0ylf/wwzeJohFayESl9m+J4oRlYklFRQ1ZDGm8xqRWLhbbNX8VVnxicMD5B85ihLVmX/0FQLTAVmi9xcfpnlmDPPKLMk7d6KmVheb2AoIBHt/fRg9leDVf/4NJMlAUTUkKZx7qMzkhUIDroVrNba8o4xtC779qIntCJwFh15Rwo33U0/Z2I4gCMA0Bd95zMKyBIFYYFmboVGVZYhGJNqmwPPCMbVNcBq2DJKEls0hRyLYU7cmFbYZKPEEeqGLRqnNxJka1emVGxrPCZh8Yzl568rx5WG0ytRSfr5dc5dFRq++tmSgmqXVIyzjq+Rx43v2kz52L7JhYF4dgS0UoRAC5EgEJZ4k0rsNa3KM1qXz8A41pghB68Q5Yod3Eb9rN7Eju+n81R+n+tiLWOeuLqkXASgKWj6NMdRL9NAuat/+4fp1mgtwRqaJDG9DjkVI3L0f841RvLnNhUv9Rhuv3EB4PrFDQ8ixCML1sC4tD9+6sxX8emtRVxhZwrqw8vkOWhaNp1/BGO5H68yS+cQDIEHteycWO70AqLkU6Q/eTfzoblAVvLkKlTWM7lsKP8A6O0rla98n/7MfQluQRvTrLZovnNnwdEmR2PXx3VhVixP/7iWqV6rECjG6jy6vhTfnTeyqRWrbzW1+rmETqgUSmmzgCWeRiHQjFFXi3R/MsO9Ykme+UuKJv5nHcwWKKpHv0+gbjNCsLifOdO8w+NDPFejeYfA3vzfFhVdb+J6go1Pjl/5ZPw9/NsfchM0zX7l1SbLihMNf/J/hA5jr1fnlf74N2wz44u9PMT0Sfg/PCVY12O1LM0z/xdNEBwp0/Nhh2pemkSSJ+N5erv4/XyewHZSojpbemDZ+y5Agf2cfWtLAas0TuFuzACa2ZQj8gPbUxnneIIDZudU/t9Vafk+bzZXkqFZ7481QXM7g4ay6SdsKSIpK5u77kDSduakvvSmfARDfc4D0nXdz4Ut/gtPcIhb1FqUY3WqFwLKw52a2btAFlJ99AklR0DpydP/ET23p2G8W/HKdypeeQs0mMIb6iN21G2OoD7/Zxi83CBwXSddQ0nGUWAQpoiPHIjSefnVT49efPEHq4aOgKkQPD9HzP/wU9vgsQdtC1jTkhdZxU//qz1d6uoHAnSkRWA7xo3tAVbAvTqxot+bOlsNw8GBvGNmXJKwLq3dPMd8Ypfq175P/mQ+iZBJkP/0QyQeP4IzPErQs5FQcva+wqAkcNNrM/ck38dbQvn2rITyf9onzVNMJOj73fpRMgvzPfwS/1sQ8u35DE0mSyA5lmXphgvKF8tqPvwCzYqGnVtHH3gQ2JSc4Y14kHxnA9GrU3ZU0dkmGQr+ObQacf6XF9OiSwZ0dtzn3cmuZwZIkGDoY4/B9Sf7uj2d48TsV7AUN2Pkph7/+t9P8kz8d4t6PZHn+G5Vb9k49V1CZC/Ocqi7huQLXCaiXvMXfr4WgbWO3beyZKoVPHEPPp/BqbZDlxXqnwPEINiiAfifi8G++h+q5Od74j7fewWEr0akPUPXmcAJzzb6ZtwNJUYgN78OZ2Zqi8rUQ3TmEms5gmz7Cf/uJNtej8dpxmmdeR7gbK4TdLAIrTP3IurGgGvUjAAH21RlmfveL5H7mAyTuPYiaTaJkk9DfucTklaTFbjh+ywwFHjYB++osxT//Nvlf+AiyrqHv6Ebf1slihyxJIrDsNYm17nSJwLRR82GLyutDvNfgFUPPdFGYIgjC0pnVvq7nU3/6VfxGm/wvfCTsiDPQjd6/MCdZAlkOy7BGpyn+6TdDPeF30GMsXI/a946Hbdg+ei9KLkXhVz7J9O98YfVmBjcg8IL1v48EelzDLN1atcqGxlSWFDQ5xmjjNdaaSeALRs+2+cBP53n/50KPcuy8SRCE0STvBupxLKkwsC+KbQZMj9p4bujdXsPY+Ta+J0jnVXK9OrNX30JqtiKj55OIQOCWmyT294Mq45YauJUmfsMkffcuGqfHie7sQk3eWu+7twta0qDjUA/1K2/tjrOgbWdn9A4kJKygxYX2S7jCptcYpi+yl24xiCscpu1LTNrnkVHo1AfoN/YiITHlXGTGvoImR9gXuxdHWCSULC2/wrnWi3irKW0tLFparoDekceZnWaRanwNNy7+srxQULiKUVgYL1TEEEu/Q0KJJzDyXUiqGko4Xv85G4233nzWm5skL5GN1vqMhXkIESAce3OGdLV5Xf+d32KEXy1Y5C1sOA0hwF84fr3ruVDmMvvvv0zla8+RfOAw0f07UPMZ5KiBcF28Uh17dIb2yUu0X71IsI6M4TIEAfXvncC+Mkn6A8eI7BlAzSZDEZKmhTszv2CsVv8yznQp/KxsyKptr2JMheOFRrdtIxvaQsebdYy959N68Q3aJy+TeuhO4kf3hvrEEZ2gZeKMztB88Q1ax8+tbEy+GoQA3w+v9e06FYLrxlqnzNDzKX3xCbTODPFj+1ALGfL/6GPM/sHfrkmqEkJQH6+RGsigJXTc1aJGEnQM50j2pZh68dY622xsTFFIaXnqTqifGQh/hfcQ+HD8ezUO3lvl7g+k+Wd/OcyZFxo88cUSl15r0Wr4y95zIyqT69bo6Nb4jX8/uGa/wWvHvpWQJIju7KLrJ+9Fjuq45SYzf/UcTrkJfsDYv/sWvb/wMJ0/EWCOFTEvz2zJIiMpEkpERVLCBTNw/YWw7upjS4qErCvIqhISoUS44PiuT2Df8DDK0kIrIoXuB3YgqzKKoaCnlxLwgRfgm+6Kmit54TxJCXfoIhDhsba37n27Edsi+7nYfpmaN09YeBF+tzHrDDE5xbw7TsldqnWMKHE69QFONp8mIsfpi+yi4ZdxApuU1snx+rcw/QY7o0foi+zhqnVq2efphS4y972XSN829FwnyDKJ/YcZ/l//r2XHXf3j38WZC9mKRk8/23/1N2hfPs/kX/ynFfe18JEfJ3PsPkpPPU752e8iGxES+w+RvOMoRmcPSiwOksTQb/2LZee1Lp5l6oufX7awy5EoqSPvInn4KHquAAjsuRnqr7xI8+zpRW/vGiRdZ+d//79gTowx++W/JL57P+m778fo6gEhcIqzzH3rq9gzSwtBbGgPnR//SdRkKtTHlmXKzz5B6cnvrP7MyjLRHUOkDt1JdGAQNZUJDU6zTuvSeWrHfxheq7fYqAaNNnN/9FXm/uirmzq+ffIyV3/t927iAwTO1RlKq4i/3xaCAPvyFHOXv3bTp7oTc4z/1h9teFzpC49T+sLjNzW2MG1qj75A7dEXNj74eqjKwnIkwpDoG6OM/Df/NyBCIQxdQ9yioIY7VeTqr//+5g72A2Z+/283PbbwBZe/dYk7f/UoR37lTs584TSKFq6balRFT+rkDxS455/cj123Gf3urdXnb8zmXZAfG0y9CzewKVnjNFYJ9TarPn/yv4/xytNpHvp0jqHDce54T4rzJ1p86Q9nOH+iuWhQZQVUXaZZ8zn3cnPNkGtpxqFVfXPLJyRFQsvEcMqtsEjZD6i/dJHaixeBkHUpAhY9gPa5KS790y8gSaEBulaSggSSLIdhrptca5SIStc9Awx++hDJnVl802X+9WmufPnkqgXFsqGQv7OPbR/aTXZvJ0YmihACq9xm9odjjHz1FO2pJZJLoj/Nzp84SO6OHhLbMkiKxPZH9tL3/uHFY0qvT/HGH79AY3SJJBEpxNnxyf10vmsbsd4Uiqbgth0qb8wy8pXTlE7NIDYpDD1mnWFn9A7K7jQld4KmX10npCsRlzNk1C72x8Nm2R5LXWNsv0XbD9V6at4cnfrAKkPIBO025shl3EqZxJ4DuOV5WhfPLTssMJfnaddqcL0WhO/jzM7g1WrEd+9D1nTqr720bKd+owFSUxk6P/EZYjuG8GpVzKshu1bLFch/8BPoXb1UnnsSv7mcqCTJMlomS+rIMdJ334/famKOXEZJJlFTGfwbvotTnKH89GOoqQyxod1Et+1Y97voHXly7/0AWkeewGzTHrkEIkDvKJC+626MQhdz3/7q4ubjH/D3B3I8RmTPEMJ1Q9ELzyeyfzf2pRFAQt/WiyRL1L/7/TCV8A6CCAQjj18mf6DA4IeHGHh4Ryhgockc+817iHZESPQmMcsmb3zhFKWzN1ejfQ0bGlNfeMyal4moCfzAw/TWJq1Y7YAffLPCiSdr7Lkrzn0fzXL0fWl+/Xd38C9+5gKzY6F77bkCq+XTqvk89oUiJ59bW/D9zYaWjdHzoQMUn7mIpMoEjhf234tqYRcBx8M3XYzOJG6ljRLXkVUlFDsvt9EzUYQvCGwPNWnQvlrGtzb/MEmyRPe9Axz+jQdxmhYzz4/itRwSA1kO/XcPoOgrb5GRjtJ97wCJbRlqF0uYxQayqpAezjP46YMkt6U5/i+fwGuH8/Btj9rFedozDToOdtP74E4qZ2aZfm50cUxztoFdWe4NdezvpO99uzCLLWaeG8UzXWLdSXJ39JIZzvPCbz+6zPiuh5I7SdWdpUvfwWD0Lq6Yr9LwF/phIpCWSbQJfOFS84qcbj6Dz7VG1oKInESRVVRJwxMOmqTji5XX25mbZv673wQgvnsvid37sacnKT76d5ua72YQ2BaNk6/QOPkKWr5ApLcPYgmKj38T4axBQFIUOh54H7Gdu2iePcX8Y9/Aa4SsVy1XIPfQB0ndcRSnOEPj9RMIb/lmUs8ViA3vo/j4N2lfPh+GxmQZo6sXr7ZcGcar16i/dhwIQ11Gz/oiJ878HJUfPENgtTEnxsKxAS2bo/DhTxLdMUh0+85/MKa3iLDULoOWiYEk4RTr2FNvrSDCrULYDl6liqQoCNdDSafwiiXc6Tm07k6c0XGCdvsdZ0ivwW26HP+Dl6hcKtN3Xz/RjiiKrhDJRnBNj8kfjHPpmxcZf2Z1AtdmsInSGIWM0Y0sqciEwtgNd/0cpt0OOPlcg3PHw1rRhz6d48iDKR77y9Dim60wV/ruD2bp7DdQteZtlcDcDiQk2uNlsndtD3ujNmysYoPMoT4Cx6M9WUX4AR13bad6ahI9HaU9XkGOaAgBmQO9+LaLcH2UuEF7/OZeDjWhM/yzd+E7Huf+5GWmnrmM8AVGNsrBX7uf7P7OFeeYxSZXvnQKvnyK1lR90TuMdiW45988Qnp3gfTuPKXXQsKNOdtk7NuhR+bbHj3v2Un1wjyXv/j6unOb+eEYbtOlcn4ObyHPoMZ19v3y3Qx8bB/5u/pojlc3RbYp6NuRkAjwMYMG0nXKAi2/SkrNI0sKDa9MO6jRCmrYwqTH2IUjLNzAXjS+MgoFbTsBPmm1k3l3s7J0b39tq57LEx0cRjg2pSe+vWhIAdxSkfprxzF6+0nuP0z70vkVBlJ4Lu0rF2hfeGPpl0GAPb01JT+t8ytLDdx6lebZk8T3HkCJ314v302Waa4/hqogR7RVJT7fsZAgeWg7hQ/fEaZyAkH1xYs/OsbU83BGVn/P/PLtyfu9VXDqNmf/5gxXHr1Esi+FntQRgcAsmzTG6rcthL+hMZVQ0OUos+YV0nonESWJ6TXwhMO1eKYkw/bdUWrzLtX5G1pZLYghXC+KYJsBl19vU55zuefDGa6eM7l8qsU12VlZhnyfjhBhecubCbdu0rgwh5qIIKsybt3EqZr4LXsxPSAbCqWXR2mPVYj2pGlPVNCzMXzbo35uBrdpEevLIEc1ZE2+qT4YyYEsqaEOiscnmPnB6KJhsismY98+R/d9AyiRG4oyBTTHVz7AZrHF/CuT9H9gmGjh9huYB45P8cTyRdprhWHe3ocGifemFogqm1gdBWiygSCg5E7Q8JcIUEV3jA61F1XSkBdqaO3AZNx6g7RaQJMMfMldDKc7gYmHiyYZlNxJyu5mC6zffmqi3tmLHIlgTU/gNVdGedzKPG55nkjfdmQjsuLvfruNNXHru+eNIKkqemc3eq4TJZFA1rSw+XyhK+w0oyibsoiyBEY0TJEsOM+ouoSmSaQ6FGbHXWQlJB4GXnhfbVNsytDGd/cQ6e9g/vHVe1O+EyFHdNJHBwlMh5m/exm/bRO0376mIX9vIfj/2zuzILmu877/7tr7Nj09O2YGGAAEQIAEAXAFBVK7KWsJxWgJHVnlcrn8kFQ5ZVUl5Tipkh/sPLhiJ3LFdvyQaIkdrbasyJQoibvAFSRBEsAAGGBmgJnBbL1333v7ricPdzALZgAMCFCRUv17Aab7bt197/nO+Zb/h121sau3voXepmKmnnDpiPSjyhGECMjoXVSdWXwRGk5Vk3jkiwXSHSqLMw6NigcCurZEuONwitlJe60rV8D5EyZPfavII79Z4At/0M+54wa1skc8oZDpVEnnVY49VePpb6+kPA/ujJLv1YnEZVLZ8NLjaYX3fbIDq+nTMgMmR01qxc3HWQPHpzVXB9YObMaFjbNdnXKojenWw1lxuG9oZNTpKv4N9stLb8sjfIExU1+3b/18icAP2EiMTImqZHZ0kt1VINaZRE3oyJpMbldXmM6v3prErWghQX5/H8mBDHo6ihJVSfRn0JIRJDXUj92MiVpwJ6/6nh2YzDpXtkwTGH4Vw187adAIm4ovOhdvUD8WfhlWpko8jqSoeI3GhgYpsG0Cx0GJJ5DU9coWIvDXJSfdKtRMlsyh+4lv3Y4ci+MbTYRtE/geajJ1Q8fasj3Ctv4M0+MOsbiMFpFwHcG5Ey36t0aIJxVicZlq2aN3UEcEcOI1A6N+/d80e/+OUEzlV8iYKvEIWjaOOT6PPV0Ow0lt3hMkWbrpR/3dlLZtKma6aE0s9y8ECESAv6pFWODD5KjFg5/sYNveOHpExvcFzarHG8/WefrbxXWdWcyGz7N/X6I063D4Ex3c/ZEssYSM2xI0ah6njzWZPLV20Pjg5zvZfySNFpFRl0ppsp0an//9PgJf4LkBX/vj/zft1NyKiVu5QdEBCbR0BBEInMZ617nbsDcUpI4WEmx7bB+979uKCATGTA270sK3vFvas6/n8DA7v3iQSDZGq2RgzjZwm05o9MUGLTV+6bm5lamkbkLj5HoEwZIUpcyG39/lukYRbFzq8h6VqEiqSubQ/WTveZDWzEVKzzyJV68h/HBiHB/ZSWxw66aPF4nLYRgkr5DKKaSzKo4dMD/t0j+sU+hTaRmCeFKmo1ujvOgSi8vXNKYdD+8hd/9OUnu3ABAbKgBgTRW58BdPLn8vfY8/iHl+jsDz6fzgXrRcktZUiZn/9QJe3ULSFFL7Bsnet4NoXy4M54wvMP+Pr+E3wklyfEcPmQNbcRbrJPcMEOnJ4hTrzP/gdazxlXZeSipK7oHbyBzcihKP4NUtaq+PU3r6BAhQM3F6P3s/iR09RAc7Se7uJ3v/TggEk3/xI1oXw8WCpKtkDm2j48hu1EQEc2KBxSeOY8+tTCaVZJTB3/kgiz8+TmJXH+n9wwjPZ/Y7r2CcvUR8pJvCR++keeYSuXt3UH1lDOEFZO/fSfn5UaqvnltWd4oO5On6xAGiA3m8qknpuZPU35hYk1C4/T8+xuw3X0TvzZI/sgtZ16i8eIbSM6fW6JRH9+xE2A72+clN3x+X0Ye3EFgtvPlbt1K847f303t337vevzZZ5aU/OXrD+21idBA4wbVnwr4neOa7JV7+URVNl5bL4XxX0DIDzIa/4fNv1HyOPVXj5CtNIjEZWQnHD98L5QitVQo7ydwWjr94HxNjXZx95Rv43sbxkitXpan8MGZ9gfKsyZ/963GEgHrFQ1Y0BnZ9iEvnnsezjQ2PdTNIkkxh8CC53t00KzPMnNm4J+flm1dW1w+skrJ+hiVrCj0PDLP10b0svDrF2N++iTXfCAuSJdj923cT772xVcRGxAoJ7vzSEdSEzsn/9iJzL14gcEMxgt4jW8ns7NzUcbq2HKQ0e+KGtIK7thwikell4sT/WfeeHTR5q/nUu1iVXp9lwQFJDmtFr+gYr2U7bvocXr2K8Fz0js71tZyAajl44QAAGEdJREFUEk8gx+KhIfN+casXNZMjOjCEpCiUnnmS1vSFZeMkKcq1a/82YGK0xblyDUS4Urj74SRv/ryJZQh+8p0KLJUoChG6gH1P4F4nb6I5OoMzXyPSm8UpN5n/Xig64pvOmglGdKCD+I4e8Hyqx84T2B56ZwrPWLoHBUS6M3g1k+KpabR0nJ7H7kFNx7j4l2GZiZqMkntwF/gBlZfP0jw5TeeH97HtSx9n9EvfIGi5SIpM9t4ddDy0m+rLY3g1k0hvDnlV0qBv2pSePkHz1DRdHz+ANVWi+tJZhOfjLDaWvl+Z3H076PncA9ReGaM+VyV7z3a2/O6HuPCVH+FWwvFJUhVS+4eRNAW30qT87Cm0zhRu1YBALF+z32zRmqvS9xvvo/LiWbyaSf79ezDPzWHPVdE7U4z84aNYFxcpPX2C2FAnPY/dG1YyvL5SFpLc1UfXpw4hAZWXxsJa1lJz3apaSSfDAV+RcaZnEaaFnEmh93ThVWp4xTIEAWq+A623C3ehiLdQRE4lkaMR/OpK3oAU0YlsGyIwTJypS+9q4pgezNB1Z/fy30IIhB/gOwFa/Oo6pkIIjNkmlXPvrgb/Fky1Q2wz2FDI/np4rqBR8WhcJw7frM5w6qWn2X7gM8xfdPC9zcUberY9wMVTT2IbJuX51ZlmLtOnf7bczuxWI0RAcfotPM8mnR++ykZhcpCsykTz62UJIx3xdaUaejpCbk83vuUy/dOzVM8sLC+4JFlCz94areDCoS1E8nEWj81w4Z9G17g9lKiKrFzhRpZk4qluItE0Rn0Wp1Unnu7BsWoES8HwaKKAomr4bgtFi2LUZ5ElhUSmH0lWaFamCAKX0twJMp3blg+t6nH0SBJNT9Ksz2K7N+YBEG6YoS3p15YJC1omQghkXUdNp3ErKw+VmkoT7Ru4+mLc9yEQYZxTurqLvTU9hWcYRPsG0DsL2HNr4716oZtIoQvzwjj+e+TO3QhZ05FVFb9l4RtrXdBSJEpsaPOrUgDXETjG5WMIjv64zuW5SbP27lbWznwNZ6GG17TxygaNE2t7p64mNtjJ2f/wLZyFsDuMJEuwVK4kPJ/iT98GJEQQlrep+ST5I7tZHY1WYjoLT7zJ4hNvEjge1nSJ3X/6L4lv7aI5OoMUUYn25rDnqpSfG8VrWEseB7F8WcL1Mcfn8RoWXs3EmavSPDUdGqSlbeSYRuFjd9F4+wKX/u4oQggaJ6YY+YN/Rua+HaE7e+na5YhKYLvMfP15AtcPS/dWlWHJEZX5f3oDLZMgvW8Q48wMbtmg93P3Iy/lXnQ/eg+SpjD5lR8TWA5aNkHf44fJHNyGOTaHV1+572KDeU7/u78jcLwwn/4qnpHo3p1Yx0+R+bX3U/3BT1AzaeREnMx9B6n+8KcEhkn20x+j+cLLqB1ZvIUiCIE+NACShF+tg6aS/8I/x3zzHeREDOfiuxNPeOlPjvLKn7605rVIJsID//4walzjzPdGKZ5YpFVtIUkSsc44vYd62fP4XmZemubYV167ypGvzaaNqaxo5AfupGvwAIoWozI3ysyZZwh8l3z/HfRufxAhfMqzo8yPv4ysagzu+SiyohONZ5EUlfOvfxfbrNA1fDeB7zI/8QqyqrPj0GeZOvVTzPo8Hb176Nv5cFhDuHCO2bHnw1WNCAh8d21toiSR6RwhP7Cf8Te/SySeo3f7YRYmX8NzbQb3fIRczy6iiRyOVWNu4hVqC2PEM730bLufTGGEky/8DY4VzoxkWaUwdJDC4EF832Fh4lXKsyfRIkm27X8U1zGIpbrwPZuJN79PyyiSzG2hb8cRIvEcvu8ycfwfsBqhG0gE3nWF5yun5hACUsMdRPNxWqUVQ5G/sw9ZWzswS0oouOCablj6surr0FIROu9cK958JZfjslpCv+Z2akILg/VlY40hlXWF7M4CWnLt/tFYlr6R91GcPo6qxXFadXzPpTByAKM+i+t49G8/glGbJt+7l8r8aWRZJZUbAgSu06S55NG6sgF6vud2Etl+mpWLGPUbL8twykWE76PnO4mP7FzVNUVas/oM7Bb2pWn0zi7Sd91D5cXnEK6LkkzS9bFPI+lX/868Rh2/ZaFrGpmD91J79eiyK1wIweXsOt9s0jh+DP0Dv0bPY7/B7He+gVsqggSR3n6y9z6IpGo0T761rs70hlmlZHS5w5EkyeFK8/IqfOlfz2jiWybRLcNEtwzjNRqIwEfWdLL3PUhq34GNexmvVku6rPokScsiEUCo+nOTHaCWEav+c41VS/P0DF7dXDY0V9ZrC18gKeHzhATOXA0lGV3q9Rlu65ab2DNlgqVSt8uZt1o+TO4LLAdzfJ6B33oY+Xc+wMIP38CaWFgvmiJYtq/i8rWsuhw5ohPt72DhiTeWVZ7sSxWchRqpPQOUnjqx/DkCy8E4M0tgext+LgS4xQZKLIJbNfBqFn4rbNIhLf0e6buGMU5Nh23bVAXfsHGKDRI7elES0TXGtH78Qtjkg6tNW0Kst0ZpnT6Hkk2jdmRACJRsBqUji6SqCNshME0iI0M0j4blWkHTCI3oEvqWPuzJKcw3TtxUKMOzXFg1D5UUib1f2IeeifLsv32KxvTaMKBVsiifLTH7+iwf+i8fYfGdRcZ/dGUOx/XZtDFN5raQzA0wfvz7WI2F0A0W+OixDAO7PsiJF/47sqTQNXwPuZ5d1IrjxFJdzE+8TGn6bQpDh+gdOcz5N7+HUZuls38fsqKR6hjCapRwbQMtmmLL7Y9w8vm/QghB99Z7yQ/cycLkNVrtrNLOXHoBkHCsKude/zb70l2MvfZNWsZKIpNZm+XCiSfYec/jaw4VS3WR672d0aP/Az2epbDlLlpGGddukMj2M/ba/6ZRmqR72/0UBg8wNfoTrMYCE2//AOH7dG+9h47ePcw0ixvHuzagVbGYfe48XfcNMfK5Ozn/nbcJHJ94T4qtn9qDrK1NP/IsF3OuQc/hYTLbO6mPlwi8AC2ps/dfPYAa1/GvkdxQHy8h/IDCoX7S2zpoFU2Q1isg1c+XEEFAx94eEgMZnFoLRVfo+8AI+f1969rPua6F75hEYlmMeliSY5slfM9efgglSaJ06STReB6zsUA02YnvWtTKE2t+nyvxfZfqwlnKc6euus218A2D2usvkzlwD72f+yJ+vRZKr2oaM1/9a9xKeO7AcSj//Gm6Pv4YucPvJ3PgXvyWhZpM4TUbVF9+gdz9D214DuF51N96Ha2jk8KHP07u3gfxWxayHsGaPM/8P64otlRfO4qazZHef4jB3/03eNUKQoCaySBsm/LPn8Y8P3ZTA4oST5DadxdaZxdKNEqkpx9Z00nevg8110HQsvCNJsbYaVpTk/iNGsbZUSLdvXR/8rPk7n0fgeei5fIIz6X22lGSt9+57jzp/Xejd/eiRKOoyRRaJouaSNL5oV/Hq9cI7BbG+bNhTewvULfXb7Y2FDyBpfjkga10HNlNpL8DNRVFTa7PnA5sb41LU6zcyEsvELp36xbdnzrE9j/8NOb5eaa/9hzWxMK6410NJaYBgsBa6yXzTQclvnYCJ/wA37x6yGS1oRaBINjAPa+monQc2U3m7pE1rzdPTYehpVV49c15geR4DDkWRVJVlFQSbaAXe/wCakc2DBFIUPn7J9AH+sg++gil//lNUBUkTUXSNVBkRMtBjoXHEYFAtG5N6ZOkyAw+PMTiycV1hnQZAbXxKs1LTQYfGnxvjakWSeK7zqpVV/gjJTJ9GLVZfMckkGQcq0o0kadWHMezDYzqDEIEtJqLdPTsBsAxq7iORSLbT6pjEKN2Cc9tkSmMYNZn8RwTJAmrPk+mMHLVawov5MoH5t0mxUjEUl1Y9Xl8r4VthKsFLZLEtRu4doNmZQohBLZRJpYsABLxTA/5/n1IkkI02YlZn7uadvWGBLbPma+/Qbw3zdCv76b3yFbchoOWirD46hRKVCW1dSVW5zZsFl6donCwn+2P76f3oa3LxteptTj91WPseHz/Vc9XO1tk5tlxuu/dwuH/+knM2QZIUB1dZOybx5c7yRTfmmXu6AU69/fxwJ9/AmO6hp6KIEdUZp8fp+/htb+L8F1mJ18iU9hOvm8fcxMvoeoxZEVHjySXY9xCXJZIlAh8D1mNokfTiMDHadUBCT2SRlY0VD0R3gsiWLMqkqSVNnAQNjAXAjxvZZwLgpVtFNml8uyPEY0K8W07wkzVloNTWiRwVg1MQYBx+iRzjk36joNouQ6E52GcPUX1tZdQEwliw9s3LGkBqL/5Kr5lkt67HzXbAQicSgVravKKHz2g+OQPMMfHSN1+J3o+jD83piZonnwLa/L8+nhpILDnZ/Etk8C7fmhCikSIbhlCL4SxI0mWw/6iQiLa04+kafimgW8YOIvzCN+nefJt/JZFas8dRHr6wZYxz5+lceI4Xq2Mms4SuO6SK1tC+D7xbTtIbL8N3zQACd80Eb4Xltd0FgicUDHHGh8DTUVSVITvhSU2AgLXvnEjG4gN482bJb1/iN7P3Efl5bNMf/153FKDwiP76f/CkbUbCnHdB1n4AY13LtI4OUViZy/9v/kQw7/3CKO///VNy236pk3g+mi5lVCPpMio6VgYV73FCWdOsUFzdIaZrz2/5vXAdnGrN965KTAsIt0F4gfvIDCtJSGHbmJ7d4Gqgu8jp5KkHrgb4XnYExdBUdAH+tH6elAdF2+hhDu3gHBcUh84jHBc6k8fDR/qm0SSIJqLhh62awzOl7OAI9n1E6vNsGljGgQ+kiyjqJHQ7bpUa+a6JooWRZIVJElBVnV8P6xBDYKNE4+cVgPbqpLtvg1Z0Wg1i4jAw3UMFDU8FkgoWvTaiSsiNOqyHNa+qXocRb1iJicCJHlzH9NzLRQtgiTJyEoECWnZTRv4639URdVJd45g1hdYvHCMvp0Poag33r6nMVnmjT9+iv4P7iA5lCVwfErvzHHpmfMMfXw3+X09a2bZpbcu8fafv0DP4WES/RmEF7Dw2hRTT55F+IL0tg6s+eZVz/f2f36OLY/cRu62LtS4hms4VE4v4DVXGxbBm//pGQY+soPsbQXUuE59vMT8Sxepnl4ApFCwYem6tEiKbGEnQgSYjVlkRSOZ6cd3LVK5QVy7iVG7hBA+ZmMe12nitOpokQSJTB+JdB+L028gyQrpzq24dpNUdgu10jnsVn2Nu3xoq0pXj8zUpEciKRONSmvClJ4LzUZANCYxN+szvFXFMFy04lGk0s8plwIWF4I196YkQTQqkUgF1CZPszhxeilGFD57gQ9epcTU3yzph8oKajyOZ14efEK3o3H6JObZUYQIUOLJlTIWWQHEiuRkEGCOjWKOjW7qHhGey/RX/2pT2wJ4lTJz3/3b5b+jvQOoqQxOpYSWyaGmMnhGA1mPEOsfWnbXusUitWMvo2U68Jo1fNNAy+bxJJnGibeQJJnk9t0Ejo0IAsrP/gS/3qDy6guo8SRavoBXK6Pl8nhGE3t2hsT23YAgPrQtjFGqGooexbcMnPLismdgs7jVJnohjdaRWHZ3+sbmE9y0XJLA8WiOXsKvW+idKVL7Bm/oGgAkVUbrSIYxP9PBnqvSeOcCnR++Y/P114BvuTRPTpO+a5jGiSl80yaxvQetI0nxp+/cvIj8FZSfH6Xzw3cgx3ScxXrokk1GEdcTmb8K1jujWO+Mhm79pYlR88WluOOqh6z25LOhG33Jle1MXsSZXFszXX/yGVDk5RjxrUAEAmPeIH9bno7b8lTPV9a1s1SiCt0HekhvSTN99N0JoGzamLaaiyRz/RSGDuE5Bo5Vp1G6gFmdxW01KAweBEDT41Tmz3CtFWLgO9hGmXzf7dQXJ5ZjllZ9HseqUhg8iBABkXiO2mK43I6ne0nkBtAiCXI9u2gZRZqVaRy7CZJEYfAgqhZD0dbOKprlKTr692JWOzBql3CsGtFkJ4lsf2gAundiNRZplCYxarNke3ZRGDyIrOq4jnFN96MQAZ5jEInn6OjfSzSZx7WXBldJJtuzi1THINFEnkxhO2Z9DtfewMgJaE7VOPPVY+veGv+H05z/9jthNxJpaWMB1bNlKqeLYVG9qocas7KMrGm89WevEDg2kqavzPolCbG0ovFMl4nvnWBi3dnW4pkOk9/fuPnuyb9c2zTYtirMXXhlyQCF56wujlFdHFveZnYi3Gdh6o2VHRtQK46zeuBZuHiMBVa+i0Z5cs25Dt2rk8uHRrSrR2F8zKN/QKGzS0EEgko5oFwO6CzI1GsBe/drYaUJoVEcPelSKQesVj4bHlFJpmRGdqqMj3l4nkBeaiDQbARMX/TWTJKVSIT41p045SIEAUIEBI6NEksgyRKB56HnC7SmJkPBeASB5yFrOs7i3Dod3fcaORLFKRdxSgsktu3Eb1kokSiSpuM362i5Tuz5SzjFOdK3HwARIGsRfEwkRUFNplETqdB1HYliXhwnPrwdc/IcXrOB8FzUdAZJlpE0PXTxOg4i8FESCZREEjWVwZq5SHxoBK9Zx2vUkKM33nWp8uJZ+j7/AL2fewC/aWPPV2+o5tS6WMRrtuj80D7cUgNJV9fECTeLHNXJHBohPtIdxhUliehAB4s/On5DTSAC22XhiTfpefQe+v7FYXzDRu/K0Dh+gfpbkzd0rM1Q+tk7RAfy9H7mPpxiuPKVoxrVV89Re33i3Ruy1R6GjVZRQbBhqd86bvHkQfiCcz8c447f2s+h37uH6RcuYswZeK3QlaUlNNKDabZ9dATXdJn82fVGxo1RvvzlL3/5am/+0R+tdL/wXQvXbqKoOpKs4jkmjlVDBB5mfR49mkIEPs3KFGb1EogA37WxmotLiTgBjt2k1QzriXzPxnMsjOo0LTPMmhQiwKjPokfT4Sy/OkOzPAUItGgaVY1gNRbwPRvftXFaNQLPxXWaqGqUllHGrF3Cai4uZ+m2miVUPYYQPk6rge+1UPUEmh6n1SziuS0Cz8G2qktGvoIWSeC7LRrFCVpmGSEEnmth1cPGykIEuK16uL9jhTFbSaZRvojVWMA2qyBJxJKdBJ5NyygReDau3SDwN696EunqQ45E0fNdaOkMei5PpKsXNZlGSaRQ9DBOdbmgPrHtNiRZCgcoIYh296KmM2i5PFomh28a68o9bi2XUyzeW0xTcO6MS60aMD8bMDfrYxqC8XMekxMe0xd9Zmd8XBfKpdBoTl/wWZgLmBz3KC4GtFpr1XZ23KaxY5cGSMRiEgNDKluGVHr6FKrlgMVFf81YIesR4kPbQiORTKMmkmjZPFo6A7KMnu1AjsbwjQbRgWFkPYISiaFmcmFClPMLbCtIWPbjWwbC8whaJp5h4NYqaNkcTnEBr1bBa9YJHDuMp1om9uIcgd0isEz8VivcploJ/zWbCMfBNxpIsOTmDROxvEYN324hXCd0VwtBYBr4RhMkcCvlcBvLCFe47o0pAdlzVZz5GiIQ+JaNs1DHnl2pxwwcD2tyEWeuuqEh8mpmWL/pB8s1pqWnT+JVDIyzs8vfl1tuYk0ursQoBXhNm+apafyGBUGwVC4WEDg+Xs2kfnySys/PINy1KzwhBL5hY10o4pabax8TAV7FwLpYXIqJOjROTlN+7hT+aiMvwliwcXYWr7He+IsgwC02MM7Oht9N3cK6WMRv2nhVE+vCIoHtEjgexumZ8HMFYUs460IR8/zCGolG33Jojs6E1/urjIDGdANJlijs62bLQ0P0HOil9+5eBh4YYPDhIfru66c522T0W6eYeubCNUUbrmYyJbFhit7SmzcRl2hz8yR37kX4Hlomt9SUvIWaCiX8Aju86e3FOdR4AklRifQOUH/n9SUXXZ3YwHDoHhUC3zSxZibDuFmbdSRTEoVuBdMQ+L4gGpNQVYkggOJCaKxXIykKWrZjpVRACCRVJXBdhOciqRqSquKbBko8QeDY6Nk8eqEbc3wMt3pjrs33AklRUTM53PKtl1Zr0+aXDT2lk9uRJ7c9R6o/hZbUEb6gVbWoT9aojlepnC+vcwFfydVMZtuY/hIjR2JhSrskgSwjvFDWTU3nsOdnwjZjjo2kqKF7TZbxTSOsp/S9sJRjaaAXvo/w3HcVE2lza5A0DVnTCWz7PfYQ3AC3Qnm+TZtfIRRdQY1d7h0t8N0Az3I3LSHYNqb/v7BkWGkbxTZt2rT5hXM1k3lr1NDb/OIQom1I27Rp0+aXjGtm815j0dqmTZs2bdq0WaK9Mm3Tpk2bNm1ukrYxbdOmTZs2bW6StjFt06ZNmzZtbpK2MW3Tpk2bNm1ukrYxbdOmTZs2bW6StjFt06ZNmzZtbpL/C75togflo+8wAAAAAElFTkSuQmCC\n",
                  "text/plain": "<Figure size 1080x360 with 1 Axes>"
                },
                "metadata": {}
              }
            ],
            "_view_module": "@jupyter-widgets/output",
            "_model_module_version": "1.0.0",
            "_view_count": null,
            "_view_module_version": "1.0.0",
            "layout": "IPY_MODEL_7ee5e3b4938549ce817f7d2061427159",
            "_model_module": "@jupyter-widgets/output"
          }
        },
        "7193f793b46c4462926ba3a0ca6aea81": {
          "model_module": "@jupyter-widgets/controls",
          "model_name": "DescriptionStyleModel",
          "model_module_version": "1.5.0",
          "state": {
            "_view_name": "StyleView",
            "_model_name": "DescriptionStyleModel",
            "description_width": "",
            "_view_module": "@jupyter-widgets/base",
            "_model_module_version": "1.5.0",
            "_view_count": null,
            "_view_module_version": "1.2.0",
            "_model_module": "@jupyter-widgets/controls"
          }
        },
        "22ba7b92dd7744569a2e8290c73b4186": {
          "model_module": "@jupyter-widgets/base",
          "model_name": "LayoutModel",
          "model_module_version": "1.2.0",
          "state": {
            "_view_name": "LayoutView",
            "grid_template_rows": null,
            "right": null,
            "justify_content": null,
            "_view_module": "@jupyter-widgets/base",
            "overflow": null,
            "_model_module_version": "1.2.0",
            "_view_count": null,
            "flex_flow": null,
            "width": null,
            "min_width": null,
            "border": null,
            "align_items": null,
            "bottom": null,
            "_model_module": "@jupyter-widgets/base",
            "top": null,
            "grid_column": null,
            "overflow_y": null,
            "overflow_x": null,
            "grid_auto_flow": null,
            "grid_area": null,
            "grid_template_columns": null,
            "flex": null,
            "_model_name": "LayoutModel",
            "justify_items": null,
            "grid_row": null,
            "max_height": null,
            "align_content": null,
            "visibility": null,
            "align_self": null,
            "height": null,
            "min_height": null,
            "padding": null,
            "grid_auto_rows": null,
            "grid_gap": null,
            "max_width": null,
            "order": null,
            "_view_module_version": "1.2.0",
            "grid_template_areas": null,
            "object_position": null,
            "object_fit": null,
            "grid_auto_columns": null,
            "margin": null,
            "display": null,
            "left": null
          }
        },
        "7ee5e3b4938549ce817f7d2061427159": {
          "model_module": "@jupyter-widgets/base",
          "model_name": "LayoutModel",
          "model_module_version": "1.2.0",
          "state": {
            "_view_name": "LayoutView",
            "grid_template_rows": null,
            "right": null,
            "justify_content": null,
            "_view_module": "@jupyter-widgets/base",
            "overflow": null,
            "_model_module_version": "1.2.0",
            "_view_count": null,
            "flex_flow": null,
            "width": null,
            "min_width": null,
            "border": null,
            "align_items": null,
            "bottom": null,
            "_model_module": "@jupyter-widgets/base",
            "top": null,
            "grid_column": null,
            "overflow_y": null,
            "overflow_x": null,
            "grid_auto_flow": null,
            "grid_area": null,
            "grid_template_columns": null,
            "flex": null,
            "_model_name": "LayoutModel",
            "justify_items": null,
            "grid_row": null,
            "max_height": null,
            "align_content": null,
            "visibility": null,
            "align_self": null,
            "height": null,
            "min_height": null,
            "padding": null,
            "grid_auto_rows": null,
            "grid_gap": null,
            "max_width": null,
            "order": null,
            "_view_module_version": "1.2.0",
            "grid_template_areas": null,
            "object_position": null,
            "object_fit": null,
            "grid_auto_columns": null,
            "margin": null,
            "display": null,
            "left": null
          }
        },
        "00046eabb7a94cc985c3e0d34aa204dd": {
          "model_module": "@jupyter-widgets/controls",
          "model_name": "HBoxModel",
          "model_module_version": "1.5.0",
          "state": {
            "_view_name": "HBoxView",
            "_dom_classes": [],
            "_model_name": "HBoxModel",
            "_view_module": "@jupyter-widgets/controls",
            "_model_module_version": "1.5.0",
            "_view_count": null,
            "_view_module_version": "1.5.0",
            "box_style": "",
            "layout": "IPY_MODEL_50e0c8eb9aa64dd485b078c35e1cb894",
            "_model_module": "@jupyter-widgets/controls",
            "children": [
              "IPY_MODEL_99065746be024c86b5f5be9476a13f8a",
              "IPY_MODEL_c3fa9777dfd244098037c402d9bda7ff",
              "IPY_MODEL_4b58a7fe87fa4db5894e25f842568d4f"
            ]
          }
        },
        "50e0c8eb9aa64dd485b078c35e1cb894": {
          "model_module": "@jupyter-widgets/base",
          "model_name": "LayoutModel",
          "model_module_version": "1.2.0",
          "state": {
            "_view_name": "LayoutView",
            "grid_template_rows": null,
            "right": null,
            "justify_content": null,
            "_view_module": "@jupyter-widgets/base",
            "overflow": null,
            "_model_module_version": "1.2.0",
            "_view_count": null,
            "flex_flow": null,
            "width": null,
            "min_width": null,
            "border": null,
            "align_items": null,
            "bottom": null,
            "_model_module": "@jupyter-widgets/base",
            "top": null,
            "grid_column": null,
            "overflow_y": null,
            "overflow_x": null,
            "grid_auto_flow": null,
            "grid_area": null,
            "grid_template_columns": null,
            "flex": null,
            "_model_name": "LayoutModel",
            "justify_items": null,
            "grid_row": null,
            "max_height": null,
            "align_content": null,
            "visibility": null,
            "align_self": null,
            "height": null,
            "min_height": null,
            "padding": null,
            "grid_auto_rows": null,
            "grid_gap": null,
            "max_width": null,
            "order": null,
            "_view_module_version": "1.2.0",
            "grid_template_areas": null,
            "object_position": null,
            "object_fit": null,
            "grid_auto_columns": null,
            "margin": null,
            "display": null,
            "left": null
          }
        },
        "99065746be024c86b5f5be9476a13f8a": {
          "model_module": "@jupyter-widgets/controls",
          "model_name": "HTMLModel",
          "model_module_version": "1.5.0",
          "state": {
            "_view_name": "HTMLView",
            "style": "IPY_MODEL_3bda686bb8524040aa2b35a8b3623ade",
            "_dom_classes": [],
            "description": "",
            "_model_name": "HTMLModel",
            "placeholder": "​",
            "_view_module": "@jupyter-widgets/controls",
            "_model_module_version": "1.5.0",
            "value": "Downloading: 100%",
            "_view_count": null,
            "_view_module_version": "1.5.0",
            "description_tooltip": null,
            "_model_module": "@jupyter-widgets/controls",
            "layout": "IPY_MODEL_9071952b254841e1b30fdc64efc0f06f"
          }
        },
        "c3fa9777dfd244098037c402d9bda7ff": {
          "model_module": "@jupyter-widgets/controls",
          "model_name": "FloatProgressModel",
          "model_module_version": "1.5.0",
          "state": {
            "_view_name": "ProgressView",
            "style": "IPY_MODEL_35f54cb1536b46d8941cfe398784544c",
            "_dom_classes": [],
            "description": "",
            "_model_name": "FloatProgressModel",
            "bar_style": "success",
            "max": 442,
            "_view_module": "@jupyter-widgets/controls",
            "_model_module_version": "1.5.0",
            "value": 442,
            "_view_count": null,
            "_view_module_version": "1.5.0",
            "orientation": "horizontal",
            "min": 0,
            "description_tooltip": null,
            "_model_module": "@jupyter-widgets/controls",
            "layout": "IPY_MODEL_a307969fcb9c4196b49355f101d2a869"
          }
        },
        "4b58a7fe87fa4db5894e25f842568d4f": {
          "model_module": "@jupyter-widgets/controls",
          "model_name": "HTMLModel",
          "model_module_version": "1.5.0",
          "state": {
            "_view_name": "HTMLView",
            "style": "IPY_MODEL_531932ed359240aa9657d6825aa4fcd1",
            "_dom_classes": [],
            "description": "",
            "_model_name": "HTMLModel",
            "placeholder": "​",
            "_view_module": "@jupyter-widgets/controls",
            "_model_module_version": "1.5.0",
            "value": " 442/442 [00:00&lt;00:00, 10.0kB/s]",
            "_view_count": null,
            "_view_module_version": "1.5.0",
            "description_tooltip": null,
            "_model_module": "@jupyter-widgets/controls",
            "layout": "IPY_MODEL_c93cfce1aa9f46e190d386152cdcef23"
          }
        },
        "3bda686bb8524040aa2b35a8b3623ade": {
          "model_module": "@jupyter-widgets/controls",
          "model_name": "DescriptionStyleModel",
          "model_module_version": "1.5.0",
          "state": {
            "_view_name": "StyleView",
            "_model_name": "DescriptionStyleModel",
            "description_width": "",
            "_view_module": "@jupyter-widgets/base",
            "_model_module_version": "1.5.0",
            "_view_count": null,
            "_view_module_version": "1.2.0",
            "_model_module": "@jupyter-widgets/controls"
          }
        },
        "9071952b254841e1b30fdc64efc0f06f": {
          "model_module": "@jupyter-widgets/base",
          "model_name": "LayoutModel",
          "model_module_version": "1.2.0",
          "state": {
            "_view_name": "LayoutView",
            "grid_template_rows": null,
            "right": null,
            "justify_content": null,
            "_view_module": "@jupyter-widgets/base",
            "overflow": null,
            "_model_module_version": "1.2.0",
            "_view_count": null,
            "flex_flow": null,
            "width": null,
            "min_width": null,
            "border": null,
            "align_items": null,
            "bottom": null,
            "_model_module": "@jupyter-widgets/base",
            "top": null,
            "grid_column": null,
            "overflow_y": null,
            "overflow_x": null,
            "grid_auto_flow": null,
            "grid_area": null,
            "grid_template_columns": null,
            "flex": null,
            "_model_name": "LayoutModel",
            "justify_items": null,
            "grid_row": null,
            "max_height": null,
            "align_content": null,
            "visibility": null,
            "align_self": null,
            "height": null,
            "min_height": null,
            "padding": null,
            "grid_auto_rows": null,
            "grid_gap": null,
            "max_width": null,
            "order": null,
            "_view_module_version": "1.2.0",
            "grid_template_areas": null,
            "object_position": null,
            "object_fit": null,
            "grid_auto_columns": null,
            "margin": null,
            "display": null,
            "left": null
          }
        },
        "35f54cb1536b46d8941cfe398784544c": {
          "model_module": "@jupyter-widgets/controls",
          "model_name": "ProgressStyleModel",
          "model_module_version": "1.5.0",
          "state": {
            "_view_name": "StyleView",
            "_model_name": "ProgressStyleModel",
            "description_width": "",
            "_view_module": "@jupyter-widgets/base",
            "_model_module_version": "1.5.0",
            "_view_count": null,
            "_view_module_version": "1.2.0",
            "bar_color": null,
            "_model_module": "@jupyter-widgets/controls"
          }
        },
        "a307969fcb9c4196b49355f101d2a869": {
          "model_module": "@jupyter-widgets/base",
          "model_name": "LayoutModel",
          "model_module_version": "1.2.0",
          "state": {
            "_view_name": "LayoutView",
            "grid_template_rows": null,
            "right": null,
            "justify_content": null,
            "_view_module": "@jupyter-widgets/base",
            "overflow": null,
            "_model_module_version": "1.2.0",
            "_view_count": null,
            "flex_flow": null,
            "width": null,
            "min_width": null,
            "border": null,
            "align_items": null,
            "bottom": null,
            "_model_module": "@jupyter-widgets/base",
            "top": null,
            "grid_column": null,
            "overflow_y": null,
            "overflow_x": null,
            "grid_auto_flow": null,
            "grid_area": null,
            "grid_template_columns": null,
            "flex": null,
            "_model_name": "LayoutModel",
            "justify_items": null,
            "grid_row": null,
            "max_height": null,
            "align_content": null,
            "visibility": null,
            "align_self": null,
            "height": null,
            "min_height": null,
            "padding": null,
            "grid_auto_rows": null,
            "grid_gap": null,
            "max_width": null,
            "order": null,
            "_view_module_version": "1.2.0",
            "grid_template_areas": null,
            "object_position": null,
            "object_fit": null,
            "grid_auto_columns": null,
            "margin": null,
            "display": null,
            "left": null
          }
        },
        "531932ed359240aa9657d6825aa4fcd1": {
          "model_module": "@jupyter-widgets/controls",
          "model_name": "DescriptionStyleModel",
          "model_module_version": "1.5.0",
          "state": {
            "_view_name": "StyleView",
            "_model_name": "DescriptionStyleModel",
            "description_width": "",
            "_view_module": "@jupyter-widgets/base",
            "_model_module_version": "1.5.0",
            "_view_count": null,
            "_view_module_version": "1.2.0",
            "_model_module": "@jupyter-widgets/controls"
          }
        },
        "c93cfce1aa9f46e190d386152cdcef23": {
          "model_module": "@jupyter-widgets/base",
          "model_name": "LayoutModel",
          "model_module_version": "1.2.0",
          "state": {
            "_view_name": "LayoutView",
            "grid_template_rows": null,
            "right": null,
            "justify_content": null,
            "_view_module": "@jupyter-widgets/base",
            "overflow": null,
            "_model_module_version": "1.2.0",
            "_view_count": null,
            "flex_flow": null,
            "width": null,
            "min_width": null,
            "border": null,
            "align_items": null,
            "bottom": null,
            "_model_module": "@jupyter-widgets/base",
            "top": null,
            "grid_column": null,
            "overflow_y": null,
            "overflow_x": null,
            "grid_auto_flow": null,
            "grid_area": null,
            "grid_template_columns": null,
            "flex": null,
            "_model_name": "LayoutModel",
            "justify_items": null,
            "grid_row": null,
            "max_height": null,
            "align_content": null,
            "visibility": null,
            "align_self": null,
            "height": null,
            "min_height": null,
            "padding": null,
            "grid_auto_rows": null,
            "grid_gap": null,
            "max_width": null,
            "order": null,
            "_view_module_version": "1.2.0",
            "grid_template_areas": null,
            "object_position": null,
            "object_fit": null,
            "grid_auto_columns": null,
            "margin": null,
            "display": null,
            "left": null
          }
        },
        "94fc0ad4b0e0450da1c6d5760d45f7ad": {
          "model_module": "@jupyter-widgets/controls",
          "model_name": "HBoxModel",
          "model_module_version": "1.5.0",
          "state": {
            "_view_name": "HBoxView",
            "_dom_classes": [],
            "_model_name": "HBoxModel",
            "_view_module": "@jupyter-widgets/controls",
            "_model_module_version": "1.5.0",
            "_view_count": null,
            "_view_module_version": "1.5.0",
            "box_style": "",
            "layout": "IPY_MODEL_23b34ef5861349c6b3ddca6fc70c8355",
            "_model_module": "@jupyter-widgets/controls",
            "children": [
              "IPY_MODEL_bb06ce9e89584c0c8b800d60526e3525",
              "IPY_MODEL_11d9e5fdd9da493b8903644f0aa702da",
              "IPY_MODEL_4663d396206444969cf9f245fd34be58"
            ]
          }
        },
        "23b34ef5861349c6b3ddca6fc70c8355": {
          "model_module": "@jupyter-widgets/base",
          "model_name": "LayoutModel",
          "model_module_version": "1.2.0",
          "state": {
            "_view_name": "LayoutView",
            "grid_template_rows": null,
            "right": null,
            "justify_content": null,
            "_view_module": "@jupyter-widgets/base",
            "overflow": null,
            "_model_module_version": "1.2.0",
            "_view_count": null,
            "flex_flow": null,
            "width": null,
            "min_width": null,
            "border": null,
            "align_items": null,
            "bottom": null,
            "_model_module": "@jupyter-widgets/base",
            "top": null,
            "grid_column": null,
            "overflow_y": null,
            "overflow_x": null,
            "grid_auto_flow": null,
            "grid_area": null,
            "grid_template_columns": null,
            "flex": null,
            "_model_name": "LayoutModel",
            "justify_items": null,
            "grid_row": null,
            "max_height": null,
            "align_content": null,
            "visibility": null,
            "align_self": null,
            "height": null,
            "min_height": null,
            "padding": null,
            "grid_auto_rows": null,
            "grid_gap": null,
            "max_width": null,
            "order": null,
            "_view_module_version": "1.2.0",
            "grid_template_areas": null,
            "object_position": null,
            "object_fit": null,
            "grid_auto_columns": null,
            "margin": null,
            "display": null,
            "left": null
          }
        },
        "bb06ce9e89584c0c8b800d60526e3525": {
          "model_module": "@jupyter-widgets/controls",
          "model_name": "HTMLModel",
          "model_module_version": "1.5.0",
          "state": {
            "_view_name": "HTMLView",
            "style": "IPY_MODEL_cebb1db975274fe2bc44ff6040e5cc55",
            "_dom_classes": [],
            "description": "",
            "_model_name": "HTMLModel",
            "placeholder": "​",
            "_view_module": "@jupyter-widgets/controls",
            "_model_module_version": "1.5.0",
            "value": "Downloading: 100%",
            "_view_count": null,
            "_view_module_version": "1.5.0",
            "description_tooltip": null,
            "_model_module": "@jupyter-widgets/controls",
            "layout": "IPY_MODEL_991f0ee1185e418cba5cbe231fafc7ed"
          }
        },
        "11d9e5fdd9da493b8903644f0aa702da": {
          "model_module": "@jupyter-widgets/controls",
          "model_name": "FloatProgressModel",
          "model_module_version": "1.5.0",
          "state": {
            "_view_name": "ProgressView",
            "style": "IPY_MODEL_43a6d92ac724432fbbc3c8a3b73846ed",
            "_dom_classes": [],
            "description": "",
            "_model_name": "FloatProgressModel",
            "bar_style": "success",
            "max": 231508,
            "_view_module": "@jupyter-widgets/controls",
            "_model_module_version": "1.5.0",
            "value": 231508,
            "_view_count": null,
            "_view_module_version": "1.5.0",
            "orientation": "horizontal",
            "min": 0,
            "description_tooltip": null,
            "_model_module": "@jupyter-widgets/controls",
            "layout": "IPY_MODEL_c5f1e73f1abf4368b938a8d53ef616b1"
          }
        },
        "4663d396206444969cf9f245fd34be58": {
          "model_module": "@jupyter-widgets/controls",
          "model_name": "HTMLModel",
          "model_module_version": "1.5.0",
          "state": {
            "_view_name": "HTMLView",
            "style": "IPY_MODEL_dc7a1f873a92439cb8f50a8696203446",
            "_dom_classes": [],
            "description": "",
            "_model_name": "HTMLModel",
            "placeholder": "​",
            "_view_module": "@jupyter-widgets/controls",
            "_model_module_version": "1.5.0",
            "value": " 232k/232k [00:00&lt;00:00, 820kB/s]",
            "_view_count": null,
            "_view_module_version": "1.5.0",
            "description_tooltip": null,
            "_model_module": "@jupyter-widgets/controls",
            "layout": "IPY_MODEL_789ab82ae27f4cc0b5f3164ed81b7c67"
          }
        },
        "cebb1db975274fe2bc44ff6040e5cc55": {
          "model_module": "@jupyter-widgets/controls",
          "model_name": "DescriptionStyleModel",
          "model_module_version": "1.5.0",
          "state": {
            "_view_name": "StyleView",
            "_model_name": "DescriptionStyleModel",
            "description_width": "",
            "_view_module": "@jupyter-widgets/base",
            "_model_module_version": "1.5.0",
            "_view_count": null,
            "_view_module_version": "1.2.0",
            "_model_module": "@jupyter-widgets/controls"
          }
        },
        "991f0ee1185e418cba5cbe231fafc7ed": {
          "model_module": "@jupyter-widgets/base",
          "model_name": "LayoutModel",
          "model_module_version": "1.2.0",
          "state": {
            "_view_name": "LayoutView",
            "grid_template_rows": null,
            "right": null,
            "justify_content": null,
            "_view_module": "@jupyter-widgets/base",
            "overflow": null,
            "_model_module_version": "1.2.0",
            "_view_count": null,
            "flex_flow": null,
            "width": null,
            "min_width": null,
            "border": null,
            "align_items": null,
            "bottom": null,
            "_model_module": "@jupyter-widgets/base",
            "top": null,
            "grid_column": null,
            "overflow_y": null,
            "overflow_x": null,
            "grid_auto_flow": null,
            "grid_area": null,
            "grid_template_columns": null,
            "flex": null,
            "_model_name": "LayoutModel",
            "justify_items": null,
            "grid_row": null,
            "max_height": null,
            "align_content": null,
            "visibility": null,
            "align_self": null,
            "height": null,
            "min_height": null,
            "padding": null,
            "grid_auto_rows": null,
            "grid_gap": null,
            "max_width": null,
            "order": null,
            "_view_module_version": "1.2.0",
            "grid_template_areas": null,
            "object_position": null,
            "object_fit": null,
            "grid_auto_columns": null,
            "margin": null,
            "display": null,
            "left": null
          }
        },
        "43a6d92ac724432fbbc3c8a3b73846ed": {
          "model_module": "@jupyter-widgets/controls",
          "model_name": "ProgressStyleModel",
          "model_module_version": "1.5.0",
          "state": {
            "_view_name": "StyleView",
            "_model_name": "ProgressStyleModel",
            "description_width": "",
            "_view_module": "@jupyter-widgets/base",
            "_model_module_version": "1.5.0",
            "_view_count": null,
            "_view_module_version": "1.2.0",
            "bar_color": null,
            "_model_module": "@jupyter-widgets/controls"
          }
        },
        "c5f1e73f1abf4368b938a8d53ef616b1": {
          "model_module": "@jupyter-widgets/base",
          "model_name": "LayoutModel",
          "model_module_version": "1.2.0",
          "state": {
            "_view_name": "LayoutView",
            "grid_template_rows": null,
            "right": null,
            "justify_content": null,
            "_view_module": "@jupyter-widgets/base",
            "overflow": null,
            "_model_module_version": "1.2.0",
            "_view_count": null,
            "flex_flow": null,
            "width": null,
            "min_width": null,
            "border": null,
            "align_items": null,
            "bottom": null,
            "_model_module": "@jupyter-widgets/base",
            "top": null,
            "grid_column": null,
            "overflow_y": null,
            "overflow_x": null,
            "grid_auto_flow": null,
            "grid_area": null,
            "grid_template_columns": null,
            "flex": null,
            "_model_name": "LayoutModel",
            "justify_items": null,
            "grid_row": null,
            "max_height": null,
            "align_content": null,
            "visibility": null,
            "align_self": null,
            "height": null,
            "min_height": null,
            "padding": null,
            "grid_auto_rows": null,
            "grid_gap": null,
            "max_width": null,
            "order": null,
            "_view_module_version": "1.2.0",
            "grid_template_areas": null,
            "object_position": null,
            "object_fit": null,
            "grid_auto_columns": null,
            "margin": null,
            "display": null,
            "left": null
          }
        },
        "dc7a1f873a92439cb8f50a8696203446": {
          "model_module": "@jupyter-widgets/controls",
          "model_name": "DescriptionStyleModel",
          "model_module_version": "1.5.0",
          "state": {
            "_view_name": "StyleView",
            "_model_name": "DescriptionStyleModel",
            "description_width": "",
            "_view_module": "@jupyter-widgets/base",
            "_model_module_version": "1.5.0",
            "_view_count": null,
            "_view_module_version": "1.2.0",
            "_model_module": "@jupyter-widgets/controls"
          }
        },
        "789ab82ae27f4cc0b5f3164ed81b7c67": {
          "model_module": "@jupyter-widgets/base",
          "model_name": "LayoutModel",
          "model_module_version": "1.2.0",
          "state": {
            "_view_name": "LayoutView",
            "grid_template_rows": null,
            "right": null,
            "justify_content": null,
            "_view_module": "@jupyter-widgets/base",
            "overflow": null,
            "_model_module_version": "1.2.0",
            "_view_count": null,
            "flex_flow": null,
            "width": null,
            "min_width": null,
            "border": null,
            "align_items": null,
            "bottom": null,
            "_model_module": "@jupyter-widgets/base",
            "top": null,
            "grid_column": null,
            "overflow_y": null,
            "overflow_x": null,
            "grid_auto_flow": null,
            "grid_area": null,
            "grid_template_columns": null,
            "flex": null,
            "_model_name": "LayoutModel",
            "justify_items": null,
            "grid_row": null,
            "max_height": null,
            "align_content": null,
            "visibility": null,
            "align_self": null,
            "height": null,
            "min_height": null,
            "padding": null,
            "grid_auto_rows": null,
            "grid_gap": null,
            "max_width": null,
            "order": null,
            "_view_module_version": "1.2.0",
            "grid_template_areas": null,
            "object_position": null,
            "object_fit": null,
            "grid_auto_columns": null,
            "margin": null,
            "display": null,
            "left": null
          }
        },
        "583bc99e0515404591bfa2ce6cc0249f": {
          "model_module": "@jupyter-widgets/controls",
          "model_name": "HBoxModel",
          "model_module_version": "1.5.0",
          "state": {
            "_view_name": "HBoxView",
            "_dom_classes": [],
            "_model_name": "HBoxModel",
            "_view_module": "@jupyter-widgets/controls",
            "_model_module_version": "1.5.0",
            "_view_count": null,
            "_view_module_version": "1.5.0",
            "box_style": "",
            "layout": "IPY_MODEL_a5bdf74c472b4e6d9e9b2500434338a5",
            "_model_module": "@jupyter-widgets/controls",
            "children": [
              "IPY_MODEL_7594f2f62d334800a14a9a5197f78d13",
              "IPY_MODEL_2f4c1c2285fa4dbd8ada0a429829c51d",
              "IPY_MODEL_61e545f20d08452e9146172803269cee"
            ]
          }
        },
        "a5bdf74c472b4e6d9e9b2500434338a5": {
          "model_module": "@jupyter-widgets/base",
          "model_name": "LayoutModel",
          "model_module_version": "1.2.0",
          "state": {
            "_view_name": "LayoutView",
            "grid_template_rows": null,
            "right": null,
            "justify_content": null,
            "_view_module": "@jupyter-widgets/base",
            "overflow": null,
            "_model_module_version": "1.2.0",
            "_view_count": null,
            "flex_flow": null,
            "width": null,
            "min_width": null,
            "border": null,
            "align_items": null,
            "bottom": null,
            "_model_module": "@jupyter-widgets/base",
            "top": null,
            "grid_column": null,
            "overflow_y": null,
            "overflow_x": null,
            "grid_auto_flow": null,
            "grid_area": null,
            "grid_template_columns": null,
            "flex": null,
            "_model_name": "LayoutModel",
            "justify_items": null,
            "grid_row": null,
            "max_height": null,
            "align_content": null,
            "visibility": null,
            "align_self": null,
            "height": null,
            "min_height": null,
            "padding": null,
            "grid_auto_rows": null,
            "grid_gap": null,
            "max_width": null,
            "order": null,
            "_view_module_version": "1.2.0",
            "grid_template_areas": null,
            "object_position": null,
            "object_fit": null,
            "grid_auto_columns": null,
            "margin": null,
            "display": null,
            "left": null
          }
        },
        "7594f2f62d334800a14a9a5197f78d13": {
          "model_module": "@jupyter-widgets/controls",
          "model_name": "HTMLModel",
          "model_module_version": "1.5.0",
          "state": {
            "_view_name": "HTMLView",
            "style": "IPY_MODEL_1bd5e1dcd0fc4bb0a4ba81567d2b9946",
            "_dom_classes": [],
            "description": "",
            "_model_name": "HTMLModel",
            "placeholder": "​",
            "_view_module": "@jupyter-widgets/controls",
            "_model_module_version": "1.5.0",
            "value": "Downloading: 100%",
            "_view_count": null,
            "_view_module_version": "1.5.0",
            "description_tooltip": null,
            "_model_module": "@jupyter-widgets/controls",
            "layout": "IPY_MODEL_e0b2659bfb7e45139d35ee37b8f8ce6d"
          }
        },
        "2f4c1c2285fa4dbd8ada0a429829c51d": {
          "model_module": "@jupyter-widgets/controls",
          "model_name": "FloatProgressModel",
          "model_module_version": "1.5.0",
          "state": {
            "_view_name": "ProgressView",
            "style": "IPY_MODEL_34326d31e97442b99b0403d56ea217d9",
            "_dom_classes": [],
            "description": "",
            "_model_name": "FloatProgressModel",
            "bar_style": "success",
            "max": 267967963,
            "_view_module": "@jupyter-widgets/controls",
            "_model_module_version": "1.5.0",
            "value": 267967963,
            "_view_count": null,
            "_view_module_version": "1.5.0",
            "orientation": "horizontal",
            "min": 0,
            "description_tooltip": null,
            "_model_module": "@jupyter-widgets/controls",
            "layout": "IPY_MODEL_ce96286ceb8244d59de8fbcacd6daa71"
          }
        },
        "61e545f20d08452e9146172803269cee": {
          "model_module": "@jupyter-widgets/controls",
          "model_name": "HTMLModel",
          "model_module_version": "1.5.0",
          "state": {
            "_view_name": "HTMLView",
            "style": "IPY_MODEL_3f1cda9564f241ee89fb5dfdfa7943ac",
            "_dom_classes": [],
            "description": "",
            "_model_name": "HTMLModel",
            "placeholder": "​",
            "_view_module": "@jupyter-widgets/controls",
            "_model_module_version": "1.5.0",
            "value": " 268M/268M [00:09&lt;00:00, 28.4MB/s]",
            "_view_count": null,
            "_view_module_version": "1.5.0",
            "description_tooltip": null,
            "_model_module": "@jupyter-widgets/controls",
            "layout": "IPY_MODEL_dd9cbb6a2119472a95684dc50ca390d0"
          }
        },
        "1bd5e1dcd0fc4bb0a4ba81567d2b9946": {
          "model_module": "@jupyter-widgets/controls",
          "model_name": "DescriptionStyleModel",
          "model_module_version": "1.5.0",
          "state": {
            "_view_name": "StyleView",
            "_model_name": "DescriptionStyleModel",
            "description_width": "",
            "_view_module": "@jupyter-widgets/base",
            "_model_module_version": "1.5.0",
            "_view_count": null,
            "_view_module_version": "1.2.0",
            "_model_module": "@jupyter-widgets/controls"
          }
        },
        "e0b2659bfb7e45139d35ee37b8f8ce6d": {
          "model_module": "@jupyter-widgets/base",
          "model_name": "LayoutModel",
          "model_module_version": "1.2.0",
          "state": {
            "_view_name": "LayoutView",
            "grid_template_rows": null,
            "right": null,
            "justify_content": null,
            "_view_module": "@jupyter-widgets/base",
            "overflow": null,
            "_model_module_version": "1.2.0",
            "_view_count": null,
            "flex_flow": null,
            "width": null,
            "min_width": null,
            "border": null,
            "align_items": null,
            "bottom": null,
            "_model_module": "@jupyter-widgets/base",
            "top": null,
            "grid_column": null,
            "overflow_y": null,
            "overflow_x": null,
            "grid_auto_flow": null,
            "grid_area": null,
            "grid_template_columns": null,
            "flex": null,
            "_model_name": "LayoutModel",
            "justify_items": null,
            "grid_row": null,
            "max_height": null,
            "align_content": null,
            "visibility": null,
            "align_self": null,
            "height": null,
            "min_height": null,
            "padding": null,
            "grid_auto_rows": null,
            "grid_gap": null,
            "max_width": null,
            "order": null,
            "_view_module_version": "1.2.0",
            "grid_template_areas": null,
            "object_position": null,
            "object_fit": null,
            "grid_auto_columns": null,
            "margin": null,
            "display": null,
            "left": null
          }
        },
        "34326d31e97442b99b0403d56ea217d9": {
          "model_module": "@jupyter-widgets/controls",
          "model_name": "ProgressStyleModel",
          "model_module_version": "1.5.0",
          "state": {
            "_view_name": "StyleView",
            "_model_name": "ProgressStyleModel",
            "description_width": "",
            "_view_module": "@jupyter-widgets/base",
            "_model_module_version": "1.5.0",
            "_view_count": null,
            "_view_module_version": "1.2.0",
            "bar_color": null,
            "_model_module": "@jupyter-widgets/controls"
          }
        },
        "ce96286ceb8244d59de8fbcacd6daa71": {
          "model_module": "@jupyter-widgets/base",
          "model_name": "LayoutModel",
          "model_module_version": "1.2.0",
          "state": {
            "_view_name": "LayoutView",
            "grid_template_rows": null,
            "right": null,
            "justify_content": null,
            "_view_module": "@jupyter-widgets/base",
            "overflow": null,
            "_model_module_version": "1.2.0",
            "_view_count": null,
            "flex_flow": null,
            "width": null,
            "min_width": null,
            "border": null,
            "align_items": null,
            "bottom": null,
            "_model_module": "@jupyter-widgets/base",
            "top": null,
            "grid_column": null,
            "overflow_y": null,
            "overflow_x": null,
            "grid_auto_flow": null,
            "grid_area": null,
            "grid_template_columns": null,
            "flex": null,
            "_model_name": "LayoutModel",
            "justify_items": null,
            "grid_row": null,
            "max_height": null,
            "align_content": null,
            "visibility": null,
            "align_self": null,
            "height": null,
            "min_height": null,
            "padding": null,
            "grid_auto_rows": null,
            "grid_gap": null,
            "max_width": null,
            "order": null,
            "_view_module_version": "1.2.0",
            "grid_template_areas": null,
            "object_position": null,
            "object_fit": null,
            "grid_auto_columns": null,
            "margin": null,
            "display": null,
            "left": null
          }
        },
        "3f1cda9564f241ee89fb5dfdfa7943ac": {
          "model_module": "@jupyter-widgets/controls",
          "model_name": "DescriptionStyleModel",
          "model_module_version": "1.5.0",
          "state": {
            "_view_name": "StyleView",
            "_model_name": "DescriptionStyleModel",
            "description_width": "",
            "_view_module": "@jupyter-widgets/base",
            "_model_module_version": "1.5.0",
            "_view_count": null,
            "_view_module_version": "1.2.0",
            "_model_module": "@jupyter-widgets/controls"
          }
        },
        "dd9cbb6a2119472a95684dc50ca390d0": {
          "model_module": "@jupyter-widgets/base",
          "model_name": "LayoutModel",
          "model_module_version": "1.2.0",
          "state": {
            "_view_name": "LayoutView",
            "grid_template_rows": null,
            "right": null,
            "justify_content": null,
            "_view_module": "@jupyter-widgets/base",
            "overflow": null,
            "_model_module_version": "1.2.0",
            "_view_count": null,
            "flex_flow": null,
            "width": null,
            "min_width": null,
            "border": null,
            "align_items": null,
            "bottom": null,
            "_model_module": "@jupyter-widgets/base",
            "top": null,
            "grid_column": null,
            "overflow_y": null,
            "overflow_x": null,
            "grid_auto_flow": null,
            "grid_area": null,
            "grid_template_columns": null,
            "flex": null,
            "_model_name": "LayoutModel",
            "justify_items": null,
            "grid_row": null,
            "max_height": null,
            "align_content": null,
            "visibility": null,
            "align_self": null,
            "height": null,
            "min_height": null,
            "padding": null,
            "grid_auto_rows": null,
            "grid_gap": null,
            "max_width": null,
            "order": null,
            "_view_module_version": "1.2.0",
            "grid_template_areas": null,
            "object_position": null,
            "object_fit": null,
            "grid_auto_columns": null,
            "margin": null,
            "display": null,
            "left": null
          }
        },
        "c4841981f618449f80a0c87beab9614a": {
          "model_module": "@jupyter-widgets/controls",
          "model_name": "VBoxModel",
          "model_module_version": "1.5.0",
          "state": {
            "_view_name": "VBoxView",
            "_dom_classes": [
              "widget-interact"
            ],
            "_model_name": "VBoxModel",
            "_view_module": "@jupyter-widgets/controls",
            "_model_module_version": "1.5.0",
            "_view_count": null,
            "_view_module_version": "1.5.0",
            "box_style": "",
            "layout": "IPY_MODEL_af689f2a251f4eb6bd48473a65b9a872",
            "_model_module": "@jupyter-widgets/controls",
            "children": [
              "IPY_MODEL_ac4fea11bb7647a9aaefc8bba2468ab2",
              "IPY_MODEL_8c5108d83fa94af6bd3843e7918d0a2d"
            ]
          }
        },
        "af689f2a251f4eb6bd48473a65b9a872": {
          "model_module": "@jupyter-widgets/base",
          "model_name": "LayoutModel",
          "model_module_version": "1.2.0",
          "state": {
            "_view_name": "LayoutView",
            "grid_template_rows": null,
            "right": null,
            "justify_content": null,
            "_view_module": "@jupyter-widgets/base",
            "overflow": null,
            "_model_module_version": "1.2.0",
            "_view_count": null,
            "flex_flow": null,
            "width": null,
            "min_width": null,
            "border": null,
            "align_items": null,
            "bottom": null,
            "_model_module": "@jupyter-widgets/base",
            "top": null,
            "grid_column": null,
            "overflow_y": null,
            "overflow_x": null,
            "grid_auto_flow": null,
            "grid_area": null,
            "grid_template_columns": null,
            "flex": null,
            "_model_name": "LayoutModel",
            "justify_items": null,
            "grid_row": null,
            "max_height": null,
            "align_content": null,
            "visibility": null,
            "align_self": null,
            "height": null,
            "min_height": null,
            "padding": null,
            "grid_auto_rows": null,
            "grid_gap": null,
            "max_width": null,
            "order": null,
            "_view_module_version": "1.2.0",
            "grid_template_areas": null,
            "object_position": null,
            "object_fit": null,
            "grid_auto_columns": null,
            "margin": null,
            "display": null,
            "left": null
          }
        },
        "ac4fea11bb7647a9aaefc8bba2468ab2": {
          "model_module": "@jupyter-widgets/controls",
          "model_name": "DropdownModel",
          "model_module_version": "1.5.0",
          "state": {
            "_options_labels": [
              "transfer-learning",
              "autoencoders",
              "time-series",
              "segmentation",
              "tensorflow",
              "graphs",
              "huggingface",
              "natural-language-processing",
              "object-detection",
              "embeddings",
              "graph-neural-networks",
              "pytorch",
              "keras",
              "computer-vision",
              "node-classification",
              "production",
              "tensorflow-js",
              "unsupervised-learning",
              "language-modeling",
              "transformers",
              "interpretability",
              "reinforcement-learning",
              "representation-learning",
              "data-augmentation",
              "self-supervised-learning",
              "generative-adversarial-networks",
              "scikit-learn",
              "attention",
              "regression",
              "image-classification",
              "convolutional-neural-networks",
              "flask",
              "pretraining",
              "question-answering"
            ],
            "_view_name": "DropdownView",
            "style": "IPY_MODEL_2a85ddf7fb6945949ff7ade3e3677c39",
            "_dom_classes": [],
            "description": "tag",
            "_model_name": "DropdownModel",
            "index": 19,
            "_view_module": "@jupyter-widgets/controls",
            "_model_module_version": "1.5.0",
            "_view_count": null,
            "disabled": false,
            "_view_module_version": "1.5.0",
            "description_tooltip": null,
            "_model_module": "@jupyter-widgets/controls",
            "layout": "IPY_MODEL_ac7f8a1520234a30a96b2f6feec6b8d6"
          }
        },
        "8c5108d83fa94af6bd3843e7918d0a2d": {
          "model_module": "@jupyter-widgets/output",
          "model_name": "OutputModel",
          "model_module_version": "1.0.0",
          "state": {
            "_view_name": "OutputView",
            "msg_id": "",
            "_dom_classes": [],
            "_model_name": "OutputModel",
            "outputs": [
              {
                "output_type": "stream",
                "name": "stdout",
                "text": [
                  "{\n",
                  "  \"precision\": 0.6428571428571429,\n",
                  "  \"recall\": 0.6428571428571429,\n",
                  "  \"f1\": 0.6428571428571429,\n",
                  "  \"num_samples\": 28.0\n",
                  "}\n",
                  "\n",
                  "=== True positives ===\n",
                  "  simple transformers transformers classification ner qa language modeling language generation t5 multi modal conversational ai\n",
                  "    true: ['language-modeling', 'natural-language-processing', 'question-answering', 'transformers']\n",
                  "    pred: ['attention', 'huggingface', 'language-modeling', 'natural-language-processing', 'transformers']\n",
                  "\n",
                  "  bertviz tool visualizing attention transformer model bert gpt 2 albert xlnet roberta ctrl etc\n",
                  "    true: ['attention', 'interpretability', 'natural-language-processing', 'transformers']\n",
                  "    pred: ['attention', 'natural-language-processing', 'transformers']\n",
                  "\n",
                  "  summary transformers models high level summary differences model huggingfacetransformer library\n",
                  "    true: ['huggingface', 'natural-language-processing', 'transformers']\n",
                  "    pred: ['huggingface', 'natural-language-processing', 'transformers']\n",
                  "\n",
                  "=== False positives === \n",
                  "  help read text summarization using flask huggingface text summarization translation questions answers generation using huggingface deployed using flask streamlit detailed guide github\n",
                  "    true: ['huggingface', 'natural-language-processing']\n",
                  "    pred: ['huggingface', 'natural-language-processing', 'transformers']\n",
                  "\n",
                  "  silero models pre trained enterprise grade stt models silero speech text models provide enterprise grade stt compact form factor several commonly spoken languages\n",
                  "    true: ['pytorch', 'tensorflow']\n",
                  "    pred: ['natural-language-processing', 'transformers']\n",
                  "\n",
                  "  evaluation metrics language modeling article focus traditional intrinsic metrics extremely useful process training language model\n",
                  "    true: ['language-modeling', 'natural-language-processing']\n",
                  "    pred: ['language-modeling', 'natural-language-processing', 'transformers']\n",
                  "\n",
                  "=== False negatives ===\n",
                  "  t5 fine tuning colab notebook showcase fine tune t5 model various nlp tasks especially non text 2 text tasks text 2 text approach\n",
                  "    true: ['natural-language-processing', 'transformers']\n",
                  "    pred: ['natural-language-processing']\n",
                  "\n",
                  "  universal adversarial triggers attacking analyzing nlp create short phrases cause specific model prediction concatenated input dataset\n",
                  "    true: ['natural-language-processing', 'transformers']\n",
                  "    pred: ['natural-language-processing']\n",
                  "\n",
                  "  tempering expectations gpt 3 openai api closer look magic behind gpt 3 caveats aware\n",
                  "    true: ['natural-language-processing', 'transformers']\n",
                  "    pred: []\n",
                  "\n"
                ]
              }
            ],
            "_view_module": "@jupyter-widgets/output",
            "_model_module_version": "1.0.0",
            "_view_count": null,
            "_view_module_version": "1.0.0",
            "layout": "IPY_MODEL_7a5a50c040db407085e487ea09f426a0",
            "_model_module": "@jupyter-widgets/output"
          }
        },
        "2a85ddf7fb6945949ff7ade3e3677c39": {
          "model_module": "@jupyter-widgets/controls",
          "model_name": "DescriptionStyleModel",
          "model_module_version": "1.5.0",
          "state": {
            "_view_name": "StyleView",
            "_model_name": "DescriptionStyleModel",
            "description_width": "",
            "_view_module": "@jupyter-widgets/base",
            "_model_module_version": "1.5.0",
            "_view_count": null,
            "_view_module_version": "1.2.0",
            "_model_module": "@jupyter-widgets/controls"
          }
        },
        "ac7f8a1520234a30a96b2f6feec6b8d6": {
          "model_module": "@jupyter-widgets/base",
          "model_name": "LayoutModel",
          "model_module_version": "1.2.0",
          "state": {
            "_view_name": "LayoutView",
            "grid_template_rows": null,
            "right": null,
            "justify_content": null,
            "_view_module": "@jupyter-widgets/base",
            "overflow": null,
            "_model_module_version": "1.2.0",
            "_view_count": null,
            "flex_flow": null,
            "width": null,
            "min_width": null,
            "border": null,
            "align_items": null,
            "bottom": null,
            "_model_module": "@jupyter-widgets/base",
            "top": null,
            "grid_column": null,
            "overflow_y": null,
            "overflow_x": null,
            "grid_auto_flow": null,
            "grid_area": null,
            "grid_template_columns": null,
            "flex": null,
            "_model_name": "LayoutModel",
            "justify_items": null,
            "grid_row": null,
            "max_height": null,
            "align_content": null,
            "visibility": null,
            "align_self": null,
            "height": null,
            "min_height": null,
            "padding": null,
            "grid_auto_rows": null,
            "grid_gap": null,
            "max_width": null,
            "order": null,
            "_view_module_version": "1.2.0",
            "grid_template_areas": null,
            "object_position": null,
            "object_fit": null,
            "grid_auto_columns": null,
            "margin": null,
            "display": null,
            "left": null
          }
        },
        "7a5a50c040db407085e487ea09f426a0": {
          "model_module": "@jupyter-widgets/base",
          "model_name": "LayoutModel",
          "model_module_version": "1.2.0",
          "state": {
            "_view_name": "LayoutView",
            "grid_template_rows": null,
            "right": null,
            "justify_content": null,
            "_view_module": "@jupyter-widgets/base",
            "overflow": null,
            "_model_module_version": "1.2.0",
            "_view_count": null,
            "flex_flow": null,
            "width": null,
            "min_width": null,
            "border": null,
            "align_items": null,
            "bottom": null,
            "_model_module": "@jupyter-widgets/base",
            "top": null,
            "grid_column": null,
            "overflow_y": null,
            "overflow_x": null,
            "grid_auto_flow": null,
            "grid_area": null,
            "grid_template_columns": null,
            "flex": null,
            "_model_name": "LayoutModel",
            "justify_items": null,
            "grid_row": null,
            "max_height": null,
            "align_content": null,
            "visibility": null,
            "align_self": null,
            "height": null,
            "min_height": null,
            "padding": null,
            "grid_auto_rows": null,
            "grid_gap": null,
            "max_width": null,
            "order": null,
            "_view_module_version": "1.2.0",
            "grid_template_areas": null,
            "object_position": null,
            "object_fit": null,
            "grid_auto_columns": null,
            "margin": null,
            "display": null,
            "left": null
          }
        }
      }
    }
  },
  "cells": [
    {
      "cell_type": "markdown",
      "metadata": {
        "id": "acbetMKBt825"
      },
      "source": [
        "<div align=\"center\">\n",
        "<h1><img width=\"30\" src=\"https://madewithml.com/static/images/rounded_logo.png\">&nbsp;<a href=\"https://madewithml.com/\">Made With ML</a></h1>\n",
        "Applied ML · MLOps · Production\n",
        "<br>\n",
        "Join 30K+ developers in learning how to responsibly <a href=\"https://madewithml.com/about/\">deliver value</a> with ML.\n",
        "    <br>\n",
        "</div>\n",
        "\n",
        "<br>\n",
        "\n",
        "<div align=\"center\">\n",
        "    <a target=\"_blank\" href=\"https://newsletter.madewithml.com\"><img src=\"https://img.shields.io/badge/Subscribe-30K-brightgreen\"></a>&nbsp;\n",
        "    <a target=\"_blank\" href=\"https://github.com/GokuMohandas/MadeWithML\"><img src=\"https://img.shields.io/github/stars/GokuMohandas/MadeWithML.svg?style=social&label=Star\"></a>&nbsp;\n",
        "    <a target=\"_blank\" href=\"https://www.linkedin.com/in/goku\"><img src=\"https://img.shields.io/badge/style--5eba00.svg?label=LinkedIn&logo=linkedin&style=social\"></a>&nbsp;\n",
        "    <a target=\"_blank\" href=\"https://twitter.com/GokuMohandas\"><img src=\"https://img.shields.io/twitter/follow/GokuMohandas.svg?label=Follow&style=social\"></a>\n",
        "    <br>\n",
        "    🔥&nbsp; Among the <a href=\"https://github.com/topics/mlops\" target=\"_blank\">top MLOps</a> repositories on GitHub\n",
        "</div>\n",
        "\n",
        "<br>\n",
        "<hr>"
      ]
    },
    {
      "cell_type": "markdown",
      "metadata": {
        "id": "ZbHqEEy3NkSU"
      },
      "source": [
        "# MLOps - Tagifai"
      ]
    },
    {
      "cell_type": "markdown",
      "metadata": {
        "id": "XTNsIiUrqoJW"
      },
      "source": [
        "<div align=\"left\">\n",
        "<a target=\"_blank\" href=\"https://madewithml.com/#mlops\"><img src=\"https://img.shields.io/badge/📖 Read-lessons-9cf\"></a>&nbsp;\n",
        "<a href=\"https://github.com/GokuMohandas/MLOps/blob/main/notebooks/tagifai.ipynb\" role=\"button\"><img src=\"https://img.shields.io/static/v1?label=&amp;message=View%20On%20GitHub&amp;color=586069&amp;logo=github&amp;labelColor=2f363d\"></a>&nbsp;\n",
        "<a href=\"https://colab.research.google.com/github/GokuMohandas/MLOps/blob/main/notebooks/tagifai.ipynb\"><img src=\"https://colab.research.google.com/assets/colab-badge.svg\" alt=\"Open In Colab\"></a>\n",
        "</div>"
      ]
    },
    {
      "cell_type": "markdown",
      "metadata": {
        "id": "oh-HuNfDrPg0"
      },
      "source": [
        "This notebooks contains the code for our `Tagifai` feature including 🔢&nbsp; Data and 📈&nbsp; Modeling. After this, we'll be moving all of this code to Python scripts with proper styling, testing, etc.\n",
        "\n",
        "> Be sure to checkout the accompanying [lessons](https://madewithml.com/courses/mlops) as opposed to just running the code here. The lessons will help us develop an intuition before jumping into the application."
      ]
    },
    {
      "cell_type": "markdown",
      "metadata": {
        "id": "lbqAqitENkSU"
      },
      "source": [
        "# 🔢&nbsp; Data"
      ]
    },
    {
      "cell_type": "markdown",
      "metadata": {
        "id": "2ROgHAeQNkSU"
      },
      "source": [
        "## Labeling"
      ]
    },
    {
      "cell_type": "code",
      "metadata": {
        "id": "VdrrsquiNkSU"
      },
      "source": [
        "from collections import Counter, OrderedDict\n",
        "import ipywidgets as widgets\n",
        "import itertools\n",
        "import json\n",
        "import pandas as pd\n",
        "from urllib.request import urlopen"
      ],
      "execution_count": 1,
      "outputs": []
    },
    {
      "cell_type": "code",
      "metadata": {
        "id": "WB-2nm6NNkSU",
        "colab": {
          "base_uri": "https://localhost:8080/"
        },
        "outputId": "d28f273b-f5c6-40fa-ea3e-af701b0e249f"
      },
      "source": [
        "# Load projects\n",
        "url = \"https://raw.githubusercontent.com/GokuMohandas/MadeWithML/main/datasets/projects.json\"\n",
        "projects = json.loads(urlopen(url).read())\n",
        "print (json.dumps(projects[-305], indent=2))"
      ],
      "execution_count": 2,
      "outputs": [
        {
          "output_type": "stream",
          "name": "stdout",
          "text": [
            "{\n",
            "  \"id\": 2106,\n",
            "  \"created_on\": \"2020-08-08 15:06:18\",\n",
            "  \"title\": \"Fast NST for Videos (+ person segmentation) \\ud83c\\udfa5 + \\u26a1\\ud83d\\udcbb + \\ud83c\\udfa8 = \\u2764\\ufe0f\",\n",
            "  \"description\": \"Create NST videos and pick separate styles for the person in the video and for the background.\",\n",
            "  \"tags\": [\n",
            "    \"code\",\n",
            "    \"tutorial\",\n",
            "    \"video\",\n",
            "    \"computer-vision\",\n",
            "    \"style-transfer\",\n",
            "    \"neural-style-transfer\"\n",
            "  ]\n",
            "}\n"
          ]
        }
      ]
    },
    {
      "cell_type": "code",
      "metadata": {
        "id": "_pJcQOR7NkSU",
        "colab": {
          "base_uri": "https://localhost:8080/"
        },
        "outputId": "42963ba1-342f-46ed-baa4-5e5914afe6bb"
      },
      "source": [
        "# Load tags\n",
        "url = \"https://raw.githubusercontent.com/GokuMohandas/MadeWithML/main/datasets/tags.json\"\n",
        "tags = json.loads(urlopen(url).read())\n",
        "tags_dict = {}\n",
        "for item in tags:\n",
        "    key = item.pop(\"tag\")\n",
        "    tags_dict[key] = item\n",
        "print (f\"{len(tags_dict)} tags\")"
      ],
      "execution_count": 3,
      "outputs": [
        {
          "output_type": "stream",
          "name": "stdout",
          "text": [
            "400 tags\n"
          ]
        }
      ]
    },
    {
      "cell_type": "code",
      "metadata": {
        "id": "l8GWm_unNkSU",
        "colab": {
          "base_uri": "https://localhost:8080/",
          "height": 185,
          "referenced_widgets": [
            "7e348575587f4a36b22368f36b153968",
            "3c42194d4044442e9b4c742460bb0271",
            "f05cb59de4c94de9a8f8a476ae8f2128",
            "53e21f1a084840b3872b977d82853760",
            "cb0875b4abe94f33a5e3153a9ac36bcf",
            "3f9e427ec8ee4106be4a4acb5f1bcc99",
            "5c5e3bf7cf6d48a28cb6b8be570acc97"
          ]
        },
        "outputId": "15aea198-ad18-4fcb-a403-92c2c3d9d4f0"
      },
      "source": [
        "@widgets.interact(tag=list(tags_dict.keys()))\n",
        "def display_tag_details(tag='question-answering'):\n",
        "    print (json.dumps(tags_dict[tag], indent=2))"
      ],
      "execution_count": 4,
      "outputs": [
        {
          "output_type": "display_data",
          "data": {
            "application/vnd.jupyter.widget-view+json": {
              "model_id": "7e348575587f4a36b22368f36b153968",
              "version_minor": 0,
              "version_major": 2
            },
            "text/plain": [
              "interactive(children=(Dropdown(description='tag', index=283, options=('3d', 'action-localization', 'action-rec…"
            ]
          },
          "metadata": {}
        }
      ]
    },
    {
      "cell_type": "code",
      "metadata": {
        "id": "ZAYXvZ_TNkSU",
        "colab": {
          "base_uri": "https://localhost:8080/",
          "height": 221
        },
        "outputId": "40bdecae-5b1f-4fbe-c482-277866f9399c"
      },
      "source": [
        "# Create dataframe\n",
        "df = pd.DataFrame(projects)\n",
        "print (f\"{len(df)} projects\")\n",
        "df.head(5)"
      ],
      "execution_count": 5,
      "outputs": [
        {
          "output_type": "stream",
          "name": "stdout",
          "text": [
            "2032 projects\n"
          ]
        },
        {
          "output_type": "execute_result",
          "data": {
            "text/html": [
              "<div>\n",
              "<style scoped>\n",
              "    .dataframe tbody tr th:only-of-type {\n",
              "        vertical-align: middle;\n",
              "    }\n",
              "\n",
              "    .dataframe tbody tr th {\n",
              "        vertical-align: top;\n",
              "    }\n",
              "\n",
              "    .dataframe thead th {\n",
              "        text-align: right;\n",
              "    }\n",
              "</style>\n",
              "<table border=\"1\" class=\"dataframe\">\n",
              "  <thead>\n",
              "    <tr style=\"text-align: right;\">\n",
              "      <th></th>\n",
              "      <th>id</th>\n",
              "      <th>created_on</th>\n",
              "      <th>title</th>\n",
              "      <th>description</th>\n",
              "      <th>tags</th>\n",
              "    </tr>\n",
              "  </thead>\n",
              "  <tbody>\n",
              "    <tr>\n",
              "      <th>0</th>\n",
              "      <td>1</td>\n",
              "      <td>2020-02-17 06:30:41</td>\n",
              "      <td>Machine Learning Basics</td>\n",
              "      <td>A practical set of notebooks on machine learni...</td>\n",
              "      <td>[code, tutorial, keras, pytorch, tensorflow, d...</td>\n",
              "    </tr>\n",
              "    <tr>\n",
              "      <th>1</th>\n",
              "      <td>2</td>\n",
              "      <td>2020-02-17 06:41:45</td>\n",
              "      <td>Deep Learning with Electronic Health Record (E...</td>\n",
              "      <td>A comprehensive look at recent machine learnin...</td>\n",
              "      <td>[article, tutorial, deep-learning, health, ehr]</td>\n",
              "    </tr>\n",
              "    <tr>\n",
              "      <th>2</th>\n",
              "      <td>3</td>\n",
              "      <td>2020-02-20 06:07:59</td>\n",
              "      <td>Automatic Parking Management using computer vi...</td>\n",
              "      <td>Detecting empty and parked spaces in car parki...</td>\n",
              "      <td>[code, tutorial, video, python, machine-learni...</td>\n",
              "    </tr>\n",
              "    <tr>\n",
              "      <th>3</th>\n",
              "      <td>4</td>\n",
              "      <td>2020-02-20 06:21:57</td>\n",
              "      <td>Easy street parking using region proposal netw...</td>\n",
              "      <td>Get a text on your phone whenever a nearby par...</td>\n",
              "      <td>[code, tutorial, python, pytorch, machine-lear...</td>\n",
              "    </tr>\n",
              "    <tr>\n",
              "      <th>4</th>\n",
              "      <td>5</td>\n",
              "      <td>2020-02-20 06:29:18</td>\n",
              "      <td>Deep Learning based parking management system ...</td>\n",
              "      <td>Fastai provides easy to use wrappers to quickl...</td>\n",
              "      <td>[code, tutorial, fastai, deep-learning, parkin...</td>\n",
              "    </tr>\n",
              "  </tbody>\n",
              "</table>\n",
              "</div>"
            ],
            "text/plain": [
              "   id  ...                                               tags\n",
              "0   1  ...  [code, tutorial, keras, pytorch, tensorflow, d...\n",
              "1   2  ...    [article, tutorial, deep-learning, health, ehr]\n",
              "2   3  ...  [code, tutorial, video, python, machine-learni...\n",
              "3   4  ...  [code, tutorial, python, pytorch, machine-lear...\n",
              "4   5  ...  [code, tutorial, fastai, deep-learning, parkin...\n",
              "\n",
              "[5 rows x 5 columns]"
            ]
          },
          "metadata": {},
          "execution_count": 5
        }
      ]
    },
    {
      "cell_type": "markdown",
      "metadata": {
        "id": "HFifXKl_eKsN"
      },
      "source": [
        "## Preprocessing"
      ]
    },
    {
      "cell_type": "markdown",
      "metadata": {
        "id": "RxAZ1AmteRaD"
      },
      "source": [
        "Preprocessing the data via feature engineering, filtering and cleaning. Certain preprocessing steps are global (don't depend on our dataset, ex. lower casing text, removing stop words, etc.) and others are local (constructs are learned only from the training split, ex. vocabulary, standardization, etc.). For the local, dataset-dependent preprocessing steps, we want to ensure that we [split](https://madewithml.com/courses/mlops/splitting) the data first before preprocessing to avoid data leaks."
      ]
    },
    {
      "cell_type": "markdown",
      "metadata": {
        "id": "U_001GPyMZsC"
      },
      "source": [
        "We can combine existing input features to create new meaningful signal (helping the model learn). "
      ]
    },
    {
      "cell_type": "code",
      "metadata": {
        "id": "3x1ldAFQNkSU"
      },
      "source": [
        "# Feature engineering\n",
        "df[\"text\"] = df.title + \" \" + df.description"
      ],
      "execution_count": 6,
      "outputs": []
    },
    {
      "cell_type": "markdown",
      "metadata": {
        "id": "spTOm3UvMdtH"
      },
      "source": [
        "Filter tags above a certain frequency threshold because those with fewer samples won't be adequate for training."
      ]
    },
    {
      "cell_type": "code",
      "metadata": {
        "id": "Lt9j3gz1NkSU"
      },
      "source": [
        "def filter(l, include=[], exclude=[]):\n",
        "    \"\"\"Filter a list using inclusion and exclusion lists of items.\"\"\"\n",
        "    filtered = [item for item in l if item in include and item not in exclude]\n",
        "    return filtered"
      ],
      "execution_count": 7,
      "outputs": []
    },
    {
      "cell_type": "code",
      "metadata": {
        "id": "Q1H1lnKXNkSU"
      },
      "source": [
        "# Inclusion/exclusion criteria for tags\n",
        "include = list(tags_dict.keys())\n",
        "exclude = [\"machine-learning\", \"deep-learning\",  \"data-science\",\n",
        "           \"neural-networks\", \"python\", \"r\", \"visualization\", \"wandb\"]"
      ],
      "execution_count": 8,
      "outputs": []
    },
    {
      "cell_type": "code",
      "metadata": {
        "id": "FF9cfyfaNkSU"
      },
      "source": [
        "# Filter tags for each project\n",
        "df.tags = df.tags.apply(filter, include=include, exclude=exclude)\n",
        "tags = Counter(itertools.chain.from_iterable(df.tags.values))"
      ],
      "execution_count": 9,
      "outputs": []
    },
    {
      "cell_type": "markdown",
      "metadata": {
        "id": "Av4fPxjDMjAM"
      },
      "source": [
        "We're also going to restrict the mapping to only tags that are above a certain frequency threshold. The tags that don't have enough projects will not have enough samples to model their relationships."
      ]
    },
    {
      "cell_type": "code",
      "metadata": {
        "id": "k1GcLzL6NkSU",
        "tags": [
          "hide-input"
        ],
        "colab": {
          "base_uri": "https://localhost:8080/",
          "height": 185,
          "referenced_widgets": [
            "f0abdfff0b0a486baecc352787260fa8",
            "e418958e782645b1be3ab543dd3439d5",
            "b8e68c120f974e8293e8db866a7b696c",
            "aeb5be7298b141e486259a8c0211c50a",
            "6ea94e8bce2e4e78a8d60f794bcce115",
            "ab1711e4b3d94480a3d24df5dfc742d0",
            "9ca62aff326e4b22ba8c1efe04c04355"
          ]
        },
        "outputId": "01da6a6c-794b-46d2-f86a-b61e7289905a"
      },
      "source": [
        "@widgets.interact(min_tag_freq=(0, tags.most_common()[0][1]))\n",
        "def separate_tags_by_freq(min_tag_freq=30):\n",
        "    tags_above_freq = Counter(tag for tag in tags.elements()\n",
        "                                    if tags[tag] >= min_tag_freq)\n",
        "    tags_below_freq = Counter(tag for tag in tags.elements()\n",
        "                                    if tags[tag] < min_tag_freq)\n",
        "    print (\"Most popular tags:\\n\", tags_above_freq.most_common(5))\n",
        "    print (\"\\nTags that just made the cut:\\n\", tags_above_freq.most_common()[-5:])\n",
        "    print (\"\\nTags that just missed the cut:\\n\", tags_below_freq.most_common(5))"
      ],
      "execution_count": 10,
      "outputs": [
        {
          "output_type": "display_data",
          "data": {
            "application/vnd.jupyter.widget-view+json": {
              "model_id": "f0abdfff0b0a486baecc352787260fa8",
              "version_minor": 0,
              "version_major": 2
            },
            "text/plain": [
              "interactive(children=(IntSlider(value=30, description='min_tag_freq', max=424), Output()), _dom_classes=('widg…"
            ]
          },
          "metadata": {}
        }
      ]
    },
    {
      "cell_type": "code",
      "metadata": {
        "id": "JjaEbjzONkSV"
      },
      "source": [
        "# Filter tags that have fewer than <min_tag_freq> occurrences\n",
        "min_tag_freq = 30\n",
        "tags_above_freq = Counter(tag for tag in tags.elements() \n",
        "                          if tags[tag] >= min_tag_freq)\n",
        "df.tags = df.tags.apply(filter, include=list(tags_above_freq.keys()))"
      ],
      "execution_count": 11,
      "outputs": []
    },
    {
      "cell_type": "markdown",
      "metadata": {
        "id": "-KI1xupRMtgw"
      },
      "source": [
        "Remove inputs that have no remaining (not enough frequency) tags."
      ]
    },
    {
      "cell_type": "code",
      "metadata": {
        "id": "PTdbpY73LdP9"
      },
      "source": [
        "import nltk\n",
        "from nltk.corpus import stopwords\n",
        "from nltk.stem import PorterStemmer\n",
        "import re"
      ],
      "execution_count": 12,
      "outputs": []
    },
    {
      "cell_type": "code",
      "metadata": {
        "id": "xRK_c_CFNkSV",
        "colab": {
          "base_uri": "https://localhost:8080/"
        },
        "outputId": "9c9a9342-ffac-4562-ff09-3751c436cded"
      },
      "source": [
        "# Remove projects with no more remaining relevant tags\n",
        "df = df[df.tags.map(len) > 0]\n",
        "print (f\"{len(df)} projects\")"
      ],
      "execution_count": 13,
      "outputs": [
        {
          "output_type": "stream",
          "name": "stdout",
          "text": [
            "1439 projects\n"
          ]
        }
      ]
    },
    {
      "cell_type": "markdown",
      "metadata": {
        "id": "8_f1LpKpMwzO"
      },
      "source": [
        "Since we're dealing with text data, we can apply some of the common preparation processes:"
      ]
    },
    {
      "cell_type": "code",
      "metadata": {
        "id": "VDXLH6QeLd0F",
        "colab": {
          "base_uri": "https://localhost:8080/"
        },
        "outputId": "24b56e01-6fce-475f-8d13-599db1cb7c98"
      },
      "source": [
        "nltk.download('stopwords')\n",
        "STOPWORDS = stopwords.words('english')\n",
        "porter = PorterStemmer()"
      ],
      "execution_count": 14,
      "outputs": [
        {
          "output_type": "stream",
          "name": "stdout",
          "text": [
            "[nltk_data] Downloading package stopwords to /root/nltk_data...\n",
            "[nltk_data]   Unzipping corpora/stopwords.zip.\n"
          ]
        }
      ]
    },
    {
      "cell_type": "code",
      "metadata": {
        "id": "VfdWkkV8LlNR"
      },
      "source": [
        "def preprocess(text, lower=True, stem=False, \n",
        "               filters=\"[!\\\"'#$%&()*\\+,-./:;<=>?@\\\\\\[\\]^_`{|}~]\", \n",
        "               stopwords=STOPWORDS):\n",
        "    \"\"\"Conditional preprocessing on our text unique to our task.\"\"\"\n",
        "    # Lower\n",
        "    if lower: \n",
        "        text = text.lower()\n",
        "\n",
        "    # Remove stopwords\n",
        "    pattern = re.compile(r'\\b(' + r'|'.join(stopwords) + r')\\b\\s*')\n",
        "    text = pattern.sub('', text)\n",
        "\n",
        "    # Spacing and filters\n",
        "    text = re.sub(r\"([-;;.,!?<=>])\", r\" \\1 \", text)\n",
        "    text = re.sub(filters, r\"\", text)\n",
        "    text = re.sub('[^A-Za-z0-9]+', ' ', text) # remove non alphanumeric chars\n",
        "    text = re.sub(' +', ' ', text)  # remove multiple spaces\n",
        "    text = text.strip()\n",
        "\n",
        "    # Remove links\n",
        "    text = re.sub(r'http\\S+', '', text)\n",
        "\n",
        "    # Stemming\n",
        "    if stem:\n",
        "        text = \" \".join([porter.stem(word) for word in text.split(' ')])\n",
        "\n",
        "    return text"
      ],
      "execution_count": 15,
      "outputs": []
    },
    {
      "cell_type": "code",
      "metadata": {
        "id": "L6aKH-g0LlQt",
        "colab": {
          "base_uri": "https://localhost:8080/",
          "height": 98,
          "referenced_widgets": [
            "9f40ca09cc7044739845162ea9d6b447",
            "f99f507cf01b4877b2531656bc65a35c",
            "3eb58bf9d1c240abb476416ad5f75efb",
            "8577dba8bf364996828215c1479bd6d1",
            "db6cba81c3084bd5949fd1711ced9ad5",
            "04b4fb44ed9246fc92825b86e931fe9f",
            "9bc2745f66ee4a16a0618da84d9b03a5",
            "ff0710ee342a430e9e16b3a43ea02902",
            "54edec0699b8454ba58ff5b9062c66c2",
            "bf22ffea6d1942abb971907cbf587095"
          ]
        },
        "outputId": "8f4f064a-bd41-4c36-8eeb-b2442aa71de0"
      },
      "source": [
        "@widgets.interact(lower=True, stem=False)\n",
        "def display_preprocessed_text(lower, stem):\n",
        "    text = \"Conditional image generation using Variational Autoencoders and GANs.\"\n",
        "    preprocessed_text = preprocess(text=text, lower=lower, stem=stem)\n",
        "    print (preprocessed_text)    "
      ],
      "execution_count": 16,
      "outputs": [
        {
          "output_type": "display_data",
          "data": {
            "application/vnd.jupyter.widget-view+json": {
              "model_id": "9f40ca09cc7044739845162ea9d6b447",
              "version_minor": 0,
              "version_major": 2
            },
            "text/plain": [
              "interactive(children=(Checkbox(value=True, description='lower'), Checkbox(value=False, description='stem'), Ou…"
            ]
          },
          "metadata": {}
        }
      ]
    },
    {
      "cell_type": "code",
      "metadata": {
        "id": "3LRaq0_5LpE4",
        "colab": {
          "base_uri": "https://localhost:8080/"
        },
        "outputId": "0644728b-02bc-4b28-8e34-95759039cd03"
      },
      "source": [
        "# Apply to dataframe\n",
        "original_df = df.copy()\n",
        "df.text = df.text.apply(preprocess, lower=True, stem=False)\n",
        "print (f\"{original_df.text.values[0]}\\n{df.text.values[0]}\")"
      ],
      "execution_count": 17,
      "outputs": [
        {
          "output_type": "stream",
          "name": "stdout",
          "text": [
            "Machine Learning Basics A practical set of notebooks on machine learning basics, implemented in both TF2.0 + Keras and PyTorch.\n",
            "machine learning basics practical set notebooks machine learning basics implemented tf2 0 keras pytorch\n"
          ]
        }
      ]
    },
    {
      "cell_type": "markdown",
      "metadata": {
        "id": "WuCrsbxbNkSV"
      },
      "source": [
        "## Exploratory Data Analysis (EDA)"
      ]
    },
    {
      "cell_type": "code",
      "metadata": {
        "id": "tHdQmqTBNkSV"
      },
      "source": [
        "import matplotlib.pyplot as plt\n",
        "import seaborn as sns\n",
        "import warnings\n",
        "from wordcloud import WordCloud, STOPWORDS\n",
        "sns.set_theme()\n",
        "warnings.filterwarnings(\"ignore\")"
      ],
      "execution_count": 18,
      "outputs": []
    },
    {
      "cell_type": "code",
      "metadata": {
        "id": "2hGuYu5ONkSV",
        "colab": {
          "base_uri": "https://localhost:8080/",
          "height": 258
        },
        "outputId": "44e0cff7-969a-4305-e8a8-d8bbe20c193a"
      },
      "source": [
        "# Number of tags per project\n",
        "num_tags_per_project = [len(tags) for tags in df.tags]\n",
        "num_tags, num_projects = zip(*Counter(num_tags_per_project).items())\n",
        "plt.figure(figsize=(10, 3))\n",
        "ax = sns.barplot(list(num_tags), list(num_projects))\n",
        "plt.title(\"Tags per project\", fontsize=20)\n",
        "plt.xlabel(\"Number of tags\", fontsize=16)\n",
        "ax.set_xticklabels(range(1, len(num_tags)+1), rotation=0, fontsize=16)\n",
        "plt.ylabel(\"Number of projects\", fontsize=16)\n",
        "plt.show()"
      ],
      "execution_count": 19,
      "outputs": [
        {
          "output_type": "display_data",
          "data": {
            "image/png": "[encoded data removed]",
            "text/plain": [
              "<Figure size 720x216 with 1 Axes>"
            ]
          },
          "metadata": {}
        }
      ]
    },
    {
      "cell_type": "code",
      "metadata": {
        "id": "5JuX5Ju-NkSV",
        "colab": {
          "base_uri": "https://localhost:8080/",
          "height": 580
        },
        "outputId": "cb72602b-4410-466e-d7dc-96a4534be99c"
      },
      "source": [
        "# Distribution of tags\n",
        "all_tags = list(itertools.chain.from_iterable(df.tags.values))\n",
        "tags, tag_counts = zip(*Counter(all_tags).most_common())\n",
        "plt.figure(figsize=(25, 5))\n",
        "ax = sns.barplot(list(tags), list(tag_counts))\n",
        "plt.title(\"Tag distribution\", fontsize=20)\n",
        "plt.xlabel(\"Tag\", fontsize=16)\n",
        "ax.set_xticklabels(tags, rotation=90, fontsize=14)\n",
        "plt.ylabel(\"Number of projects\", fontsize=16)\n",
        "plt.show()"
      ],
      "execution_count": 20,
      "outputs": [
        {
          "output_type": "display_data",
          "data": {
            "image/png": "[encoded data removed]",
            "text/plain": [
              "<Figure size 1800x360 with 1 Axes>"
            ]
          },
          "metadata": {}
        }
      ]
    },
    {
      "cell_type": "code",
      "metadata": {
        "id": "NgMGuIQrNkSV",
        "colab": {
          "base_uri": "https://localhost:8080/",
          "height": 335,
          "referenced_widgets": [
            "307efc45084e44bda7cb923a4043ddaf",
            "9510caa2ad984eb4b22a8dec0faca992",
            "3f9ec3960a784810bd0338b3c2e1ec98",
            "9ad7c5404bb142f3a48cea5ead36ab86",
            "7193f793b46c4462926ba3a0ca6aea81",
            "22ba7b92dd7744569a2e8290c73b4186",
            "7ee5e3b4938549ce817f7d2061427159"
          ]
        },
        "outputId": "58c6b88f-7d1a-4390-90a7-cae73849d05c"
      },
      "source": [
        "@widgets.interact(tag=list(tags))\n",
        "def display_word_cloud(tag=\"pytorch\"):\n",
        "    # Plot word clouds top top tags\n",
        "    plt.figure(figsize=(15, 5))\n",
        "    subset = df[df.tags.apply(lambda tags: tag in tags)]\n",
        "    text = subset.text.values\n",
        "    cloud = WordCloud(\n",
        "        stopwords=STOPWORDS, background_color=\"black\", collocations=False,\n",
        "        width=500, height=300).generate(\" \".join(text))\n",
        "    plt.axis(\"off\")\n",
        "    plt.imshow(cloud)"
      ],
      "execution_count": 21,
      "outputs": [
        {
          "output_type": "display_data",
          "data": {
            "application/vnd.jupyter.widget-view+json": {
              "model_id": "307efc45084e44bda7cb923a4043ddaf",
              "version_minor": 0,
              "version_major": 2
            },
            "text/plain": [
              "interactive(children=(Dropdown(description='tag', index=2, options=('natural-language-processing', 'computer-v…"
            ]
          },
          "metadata": {}
        }
      ]
    },
    {
      "cell_type": "markdown",
      "metadata": {
        "id": "7sfzg9CMNkSV"
      },
      "source": [
        "## Label encoding"
      ]
    },
    {
      "cell_type": "code",
      "metadata": {
        "id": "DYKtkRjlNkSV"
      },
      "source": [
        "import numpy as np\n",
        "import random"
      ],
      "execution_count": 22,
      "outputs": []
    },
    {
      "cell_type": "code",
      "metadata": {
        "id": "U-khYwAVNkSV"
      },
      "source": [
        "# Set seeds for reproducibility\n",
        "seed = 42\n",
        "np.random.seed(seed)\n",
        "random.seed(seed)"
      ],
      "execution_count": 23,
      "outputs": []
    },
    {
      "cell_type": "code",
      "metadata": {
        "id": "ytQ6_8v7NkSV"
      },
      "source": [
        "# Shuffle\n",
        "df = df.sample(frac=1).reset_index(drop=True)"
      ],
      "execution_count": 24,
      "outputs": []
    },
    {
      "cell_type": "code",
      "metadata": {
        "id": "j4lC_E14NkSV"
      },
      "source": [
        "# Get data\n",
        "X = df.text.to_numpy()\n",
        "y = df.tags"
      ],
      "execution_count": 25,
      "outputs": []
    },
    {
      "cell_type": "markdown",
      "metadata": {
        "id": "zT6FHkqyNkSV"
      },
      "source": [
        "We'll be writing our own LabelEncoder which is based on scikit-learn's [implementation](https://scikit-learn.org/stable/modules/generated/sklearn.preprocessing.LabelEncoder.html). "
      ]
    },
    {
      "cell_type": "code",
      "metadata": {
        "id": "YHPmj1XANkSV"
      },
      "source": [
        "class LabelEncoder(object):\n",
        "    \"\"\"Label encoder for tag labels.\"\"\"\n",
        "    def __init__(self, class_to_index={}):\n",
        "        self.class_to_index = class_to_index\n",
        "        self.index_to_class = {v: k for k, v in self.class_to_index.items()}\n",
        "        self.classes = list(self.class_to_index.keys())\n",
        "\n",
        "    def __len__(self):\n",
        "        return len(self.class_to_index)\n",
        "\n",
        "    def __str__(self):\n",
        "        return f\"<LabelEncoder(num_classes={len(self)})>\"\n",
        "\n",
        "    def fit(self, y):\n",
        "        classes = np.unique(list(itertools.chain.from_iterable(y)))\n",
        "        for i, class_ in enumerate(classes):\n",
        "            self.class_to_index[class_] = i\n",
        "        self.index_to_class = {v: k for k, v in self.class_to_index.items()}\n",
        "        self.classes = list(self.class_to_index.keys())\n",
        "        return self\n",
        "\n",
        "    def encode(self, y):\n",
        "        y_one_hot = np.zeros((len(y), len(self.class_to_index)), dtype=int)\n",
        "        for i, item in enumerate(y):\n",
        "            for class_ in item:\n",
        "                y_one_hot[i][self.class_to_index[class_]] = 1\n",
        "        return y_one_hot\n",
        "\n",
        "    def decode(self, y):\n",
        "        classes = []\n",
        "        for i, item in enumerate(y):\n",
        "            indices = np.where(item == 1)[0]\n",
        "            classes.append([self.index_to_class[index] for index in indices])\n",
        "        return classes\n",
        "\n",
        "    def save(self, fp):\n",
        "        with open(fp, 'w') as fp:\n",
        "            contents = {'class_to_index': self.class_to_index}\n",
        "            json.dump(contents, fp, indent=4, sort_keys=False)\n",
        "\n",
        "    @classmethod\n",
        "    def load(cls, fp):\n",
        "        with open(fp, 'r') as fp:\n",
        "            kwargs = json.load(fp=fp)\n",
        "        return cls(**kwargs)"
      ],
      "execution_count": 26,
      "outputs": []
    },
    {
      "cell_type": "code",
      "metadata": {
        "id": "fIcGw6MNNkSV"
      },
      "source": [
        "# Encode\n",
        "label_encoder = LabelEncoder()\n",
        "label_encoder.fit(y)\n",
        "num_classes = len(label_encoder)"
      ],
      "execution_count": 27,
      "outputs": []
    },
    {
      "cell_type": "code",
      "metadata": {
        "id": "pLzecFwWNkSV",
        "colab": {
          "base_uri": "https://localhost:8080/"
        },
        "outputId": "343d6496-7a16-4bc5-91eb-a4154ca14f10"
      },
      "source": [
        "label_encoder.class_to_index"
      ],
      "execution_count": 28,
      "outputs": [
        {
          "output_type": "execute_result",
          "data": {
            "text/plain": [
              "{'attention': 0,\n",
              " 'autoencoders': 1,\n",
              " 'computer-vision': 2,\n",
              " 'convolutional-neural-networks': 3,\n",
              " 'data-augmentation': 4,\n",
              " 'embeddings': 5,\n",
              " 'flask': 6,\n",
              " 'generative-adversarial-networks': 7,\n",
              " 'graph-neural-networks': 8,\n",
              " 'graphs': 9,\n",
              " 'huggingface': 10,\n",
              " 'image-classification': 11,\n",
              " 'interpretability': 12,\n",
              " 'keras': 13,\n",
              " 'language-modeling': 14,\n",
              " 'natural-language-processing': 15,\n",
              " 'node-classification': 16,\n",
              " 'object-detection': 17,\n",
              " 'pretraining': 18,\n",
              " 'production': 19,\n",
              " 'pytorch': 20,\n",
              " 'question-answering': 21,\n",
              " 'regression': 22,\n",
              " 'reinforcement-learning': 23,\n",
              " 'representation-learning': 24,\n",
              " 'scikit-learn': 25,\n",
              " 'segmentation': 26,\n",
              " 'self-supervised-learning': 27,\n",
              " 'tensorflow': 28,\n",
              " 'tensorflow-js': 29,\n",
              " 'time-series': 30,\n",
              " 'transfer-learning': 31,\n",
              " 'transformers': 32,\n",
              " 'unsupervised-learning': 33}"
            ]
          },
          "metadata": {},
          "execution_count": 28
        }
      ]
    },
    {
      "cell_type": "code",
      "metadata": {
        "id": "l8na7YazNkSW",
        "colab": {
          "base_uri": "https://localhost:8080/"
        },
        "outputId": "4d75315b-1801-4107-cb00-9b6c7558e8fd"
      },
      "source": [
        "# Sample\n",
        "label_encoder.encode([[\"attention\", \"data-augmentation\"]])"
      ],
      "execution_count": 29,
      "outputs": [
        {
          "output_type": "execute_result",
          "data": {
            "text/plain": [
              "array([[1, 0, 0, 0, 1, 0, 0, 0, 0, 0, 0, 0, 0, 0, 0, 0, 0, 0, 0, 0, 0, 0,\n",
              "        0, 0, 0, 0, 0, 0, 0, 0, 0, 0, 0, 0]])"
            ]
          },
          "metadata": {},
          "execution_count": 29
        }
      ]
    },
    {
      "cell_type": "code",
      "metadata": {
        "id": "iMyIbacNNkSW",
        "colab": {
          "base_uri": "https://localhost:8080/"
        },
        "outputId": "c82b1f98-6bfb-4a85-970b-d9c6249e155b"
      },
      "source": [
        "# Encode all our labels\n",
        "y = label_encoder.encode(y)\n",
        "print (y.shape)"
      ],
      "execution_count": 30,
      "outputs": [
        {
          "output_type": "stream",
          "name": "stdout",
          "text": [
            "(1439, 34)\n"
          ]
        }
      ]
    },
    {
      "cell_type": "markdown",
      "metadata": {
        "id": "ufCNlDjQNkSW"
      },
      "source": [
        "## Splitting"
      ]
    },
    {
      "cell_type": "code",
      "metadata": {
        "id": "XOfLfpMKNxy3",
        "colab": {
          "base_uri": "https://localhost:8080/"
        },
        "outputId": "64a5fd23-0c81-43f5-d6f3-cbd6e59de41c"
      },
      "source": [
        "!pip install scikit-multilearn==0.2.0 -q"
      ],
      "execution_count": 31,
      "outputs": [
        {
          "output_type": "stream",
          "name": "stdout",
          "text": [
            "\u001b[?25l\r\u001b[K     |███▊                            | 10 kB 23.6 MB/s eta 0:00:01\r\u001b[K     |███████▍                        | 20 kB 25.2 MB/s eta 0:00:01\r\u001b[K     |███████████                     | 30 kB 11.9 MB/s eta 0:00:01\r\u001b[K     |██████████████▊                 | 40 kB 9.5 MB/s eta 0:00:01\r\u001b[K     |██████████████████▍             | 51 kB 5.4 MB/s eta 0:00:01\r\u001b[K     |██████████████████████          | 61 kB 5.9 MB/s eta 0:00:01\r\u001b[K     |█████████████████████████▊      | 71 kB 5.7 MB/s eta 0:00:01\r\u001b[K     |█████████████████████████████▍  | 81 kB 6.4 MB/s eta 0:00:01\r\u001b[K     |████████████████████████████████| 89 kB 3.9 MB/s \n",
            "\u001b[?25h"
          ]
        }
      ]
    },
    {
      "cell_type": "markdown",
      "metadata": {
        "id": "BBRwUKtfNkSW"
      },
      "source": [
        "You need to [clean](https://madewithml.com/courses/applied-ml/preprocessing/) your data first before splitting, at least for the features that splitting depends on. So the process is more like: preprocessing (global, cleaning) → splitting → preprocessing (local, transformations). We're splitting using the tag labels which have already been inspected and cleaned during EDA. "
      ]
    },
    {
      "cell_type": "markdown",
      "metadata": {
        "id": "2XMXpueENkSW"
      },
      "source": [
        "**Naive split**"
      ]
    },
    {
      "cell_type": "code",
      "metadata": {
        "id": "WEhp9SMFNkSW"
      },
      "source": [
        "from sklearn.model_selection import train_test_split\n",
        "from skmultilearn.model_selection.measures import get_combination_wise_output_matrix"
      ],
      "execution_count": 32,
      "outputs": []
    },
    {
      "cell_type": "code",
      "metadata": {
        "id": "TTUju11uNkSW"
      },
      "source": [
        "# Split sizes\n",
        "train_size = 0.7\n",
        "val_size = 0.15\n",
        "test_size = 0.15"
      ],
      "execution_count": 33,
      "outputs": []
    },
    {
      "cell_type": "markdown",
      "metadata": {
        "id": "DTRQWabKNkSW"
      },
      "source": [
        "For simple multiclass classification, you can specify how to stratify the split by adding the [`stratify`](https://scikit-learn.org/stable/modules/generated/sklearn.model_selection.train_test_split.html) keyword argument. But our task is multilabel classification, so we'll need to use other techniques to create even splits."
      ]
    },
    {
      "cell_type": "code",
      "metadata": {
        "id": "fw83_zitNkSW"
      },
      "source": [
        "# Split (train)\n",
        "X_train, X_, y_train, y_ = train_test_split(X, y, train_size=train_size)"
      ],
      "execution_count": 34,
      "outputs": []
    },
    {
      "cell_type": "code",
      "metadata": {
        "id": "WPVutu_dNkSW",
        "colab": {
          "base_uri": "https://localhost:8080/"
        },
        "outputId": "a0aa6890-9458-4a47-8f75-93d723cf0649"
      },
      "source": [
        "print (f\"train: {len(X_train)} ({(len(X_train) / len(X)):.2f})\\n\"\n",
        "       f\"remaining: {len(X_)} ({(len(X_) / len(X)):.2f})\")"
      ],
      "execution_count": 35,
      "outputs": [
        {
          "output_type": "stream",
          "name": "stdout",
          "text": [
            "train: 1007 (0.70)\n",
            "remaining: 432 (0.30)\n"
          ]
        }
      ]
    },
    {
      "cell_type": "code",
      "metadata": {
        "id": "u-CFrR7pNkSW"
      },
      "source": [
        "# Split (test)\n",
        "X_val, X_test, y_val, y_test = train_test_split(\n",
        "    X_, y_, train_size=0.5)"
      ],
      "execution_count": 36,
      "outputs": []
    },
    {
      "cell_type": "code",
      "metadata": {
        "id": "-evG0mc1NkSW",
        "colab": {
          "base_uri": "https://localhost:8080/"
        },
        "outputId": "860d191a-58ef-4dd7-dad6-4145e70d9aa7"
      },
      "source": [
        "print(f\"train: {len(X_train)} ({len(X_train)/len(X):.2f})\\n\"\n",
        "      f\"val: {len(X_val)} ({len(X_val)/len(X):.2f})\\n\"\n",
        "      f\"test: {len(X_test)} ({len(X_test)/len(X):.2f})\")"
      ],
      "execution_count": 37,
      "outputs": [
        {
          "output_type": "stream",
          "name": "stdout",
          "text": [
            "train: 1007 (0.70)\n",
            "val: 216 (0.15)\n",
            "test: 216 (0.15)\n"
          ]
        }
      ]
    },
    {
      "cell_type": "code",
      "metadata": {
        "id": "Jw7KBZxsNkSW"
      },
      "source": [
        "# Get counts for each class\n",
        "counts = {}\n",
        "counts['train_counts'] = Counter(str(combination) for row in get_combination_wise_output_matrix(\n",
        "    y_train, order=1) for combination in row)\n",
        "counts['val_counts'] = Counter(str(combination) for row in get_combination_wise_output_matrix(\n",
        "    y_val, order=1) for combination in row)\n",
        "counts['test_counts'] = Counter(str(combination) for row in get_combination_wise_output_matrix(\n",
        "    y_test, order=1) for combination in row)"
      ],
      "execution_count": 38,
      "outputs": []
    },
    {
      "cell_type": "code",
      "metadata": {
        "id": "XsqdznxBNkSW",
        "colab": {
          "base_uri": "https://localhost:8080/",
          "height": 162
        },
        "outputId": "c9b3ac76-5862-4a83-c095-650c6434ba23"
      },
      "source": [
        "# View distributions\n",
        "pd.DataFrame({\n",
        "    \"train\": counts[\"train_counts\"],\n",
        "    \"val\": counts[\"val_counts\"],\n",
        "    \"test\": counts[\"test_counts\"]\n",
        "}).T.fillna(0)"
      ],
      "execution_count": 39,
      "outputs": [
        {
          "output_type": "execute_result",
          "data": {
            "text/html": [
              "<div>\n",
              "<style scoped>\n",
              "    .dataframe tbody tr th:only-of-type {\n",
              "        vertical-align: middle;\n",
              "    }\n",
              "\n",
              "    .dataframe tbody tr th {\n",
              "        vertical-align: top;\n",
              "    }\n",
              "\n",
              "    .dataframe thead th {\n",
              "        text-align: right;\n",
              "    }\n",
              "</style>\n",
              "<table border=\"1\" class=\"dataframe\">\n",
              "  <thead>\n",
              "    <tr style=\"text-align: right;\">\n",
              "      <th></th>\n",
              "      <th>(25,)</th>\n",
              "      <th>(15,)</th>\n",
              "      <th>(20,)</th>\n",
              "      <th>(21,)</th>\n",
              "      <th>(7,)</th>\n",
              "      <th>(33,)</th>\n",
              "      <th>(13,)</th>\n",
              "      <th>(28,)</th>\n",
              "      <th>(2,)</th>\n",
              "      <th>(3,)</th>\n",
              "      <th>(12,)</th>\n",
              "      <th>(22,)</th>\n",
              "      <th>(23,)</th>\n",
              "      <th>(32,)</th>\n",
              "      <th>(0,)</th>\n",
              "      <th>(1,)</th>\n",
              "      <th>(5,)</th>\n",
              "      <th>(4,)</th>\n",
              "      <th>(10,)</th>\n",
              "      <th>(14,)</th>\n",
              "      <th>(27,)</th>\n",
              "      <th>(29,)</th>\n",
              "      <th>(31,)</th>\n",
              "      <th>(24,)</th>\n",
              "      <th>(16,)</th>\n",
              "      <th>(9,)</th>\n",
              "      <th>(19,)</th>\n",
              "      <th>(26,)</th>\n",
              "      <th>(17,)</th>\n",
              "      <th>(11,)</th>\n",
              "      <th>(30,)</th>\n",
              "      <th>(18,)</th>\n",
              "      <th>(8,)</th>\n",
              "      <th>(6,)</th>\n",
              "    </tr>\n",
              "  </thead>\n",
              "  <tbody>\n",
              "    <tr>\n",
              "      <th>train</th>\n",
              "      <td>48</td>\n",
              "      <td>292</td>\n",
              "      <td>181</td>\n",
              "      <td>25</td>\n",
              "      <td>47</td>\n",
              "      <td>23</td>\n",
              "      <td>59</td>\n",
              "      <td>143</td>\n",
              "      <td>270</td>\n",
              "      <td>67</td>\n",
              "      <td>39</td>\n",
              "      <td>41</td>\n",
              "      <td>38</td>\n",
              "      <td>135</td>\n",
              "      <td>85</td>\n",
              "      <td>27</td>\n",
              "      <td>57</td>\n",
              "      <td>27</td>\n",
              "      <td>43</td>\n",
              "      <td>33</td>\n",
              "      <td>26</td>\n",
              "      <td>29</td>\n",
              "      <td>28</td>\n",
              "      <td>45</td>\n",
              "      <td>27</td>\n",
              "      <td>59</td>\n",
              "      <td>31</td>\n",
              "      <td>36</td>\n",
              "      <td>48</td>\n",
              "      <td>35</td>\n",
              "      <td>26</td>\n",
              "      <td>24</td>\n",
              "      <td>38</td>\n",
              "      <td>25</td>\n",
              "    </tr>\n",
              "    <tr>\n",
              "      <th>val</th>\n",
              "      <td>7</td>\n",
              "      <td>61</td>\n",
              "      <td>35</td>\n",
              "      <td>6</td>\n",
              "      <td>12</td>\n",
              "      <td>7</td>\n",
              "      <td>16</td>\n",
              "      <td>44</td>\n",
              "      <td>62</td>\n",
              "      <td>18</td>\n",
              "      <td>9</td>\n",
              "      <td>4</td>\n",
              "      <td>10</td>\n",
              "      <td>23</td>\n",
              "      <td>12</td>\n",
              "      <td>6</td>\n",
              "      <td>7</td>\n",
              "      <td>6</td>\n",
              "      <td>11</td>\n",
              "      <td>9</td>\n",
              "      <td>7</td>\n",
              "      <td>7</td>\n",
              "      <td>8</td>\n",
              "      <td>5</td>\n",
              "      <td>3</td>\n",
              "      <td>9</td>\n",
              "      <td>11</td>\n",
              "      <td>6</td>\n",
              "      <td>14</td>\n",
              "      <td>7</td>\n",
              "      <td>5</td>\n",
              "      <td>4</td>\n",
              "      <td>7</td>\n",
              "      <td>6</td>\n",
              "    </tr>\n",
              "    <tr>\n",
              "      <th>test</th>\n",
              "      <td>5</td>\n",
              "      <td>71</td>\n",
              "      <td>42</td>\n",
              "      <td>1</td>\n",
              "      <td>14</td>\n",
              "      <td>9</td>\n",
              "      <td>18</td>\n",
              "      <td>26</td>\n",
              "      <td>56</td>\n",
              "      <td>21</td>\n",
              "      <td>7</td>\n",
              "      <td>4</td>\n",
              "      <td>11</td>\n",
              "      <td>38</td>\n",
              "      <td>23</td>\n",
              "      <td>8</td>\n",
              "      <td>11</td>\n",
              "      <td>8</td>\n",
              "      <td>10</td>\n",
              "      <td>9</td>\n",
              "      <td>7</td>\n",
              "      <td>4</td>\n",
              "      <td>10</td>\n",
              "      <td>7</td>\n",
              "      <td>3</td>\n",
              "      <td>10</td>\n",
              "      <td>9</td>\n",
              "      <td>6</td>\n",
              "      <td>7</td>\n",
              "      <td>9</td>\n",
              "      <td>3</td>\n",
              "      <td>2</td>\n",
              "      <td>6</td>\n",
              "      <td>3</td>\n",
              "    </tr>\n",
              "  </tbody>\n",
              "</table>\n",
              "</div>"
            ],
            "text/plain": [
              "       (25,)  (15,)  (20,)  (21,)  (7,)  ...  (11,)  (30,)  (18,)  (8,)  (6,)\n",
              "train     48    292    181     25    47  ...     35     26     24    38    25\n",
              "val        7     61     35      6    12  ...      7      5      4     7     6\n",
              "test       5     71     42      1    14  ...      9      3      2     6     3\n",
              "\n",
              "[3 rows x 34 columns]"
            ]
          },
          "metadata": {},
          "execution_count": 39
        }
      ]
    },
    {
      "cell_type": "markdown",
      "metadata": {
        "id": "_UIGPYZCNkSW"
      },
      "source": [
        "It's hard to compare these because our train and test proportions are different. Let's see what the distribution looks like once we balance it out. What do we need to multiply our test ratio by so that we have the same amount as our train ratio?\n",
        "\n",
        "$$ \\alpha * N_{test} = N_{train} $$\n",
        "\n",
        "$$ \\alpha = \\frac{N_{train}}{N_{test}} $$"
      ]
    },
    {
      "cell_type": "code",
      "metadata": {
        "id": "Nu1CRlQRNkSW"
      },
      "source": [
        "# Adjust counts across splits\n",
        "for k in counts[\"val_counts\"].keys():\n",
        "    counts[\"val_counts\"][k] = int(counts[\"val_counts\"][k] * \\\n",
        "        (train_size/val_size))\n",
        "for k in counts[\"test_counts\"].keys():\n",
        "    counts[\"test_counts\"][k] = int(counts[\"test_counts\"][k] * \\\n",
        "        (train_size/test_size))"
      ],
      "execution_count": 40,
      "outputs": []
    },
    {
      "cell_type": "code",
      "metadata": {
        "id": "TRZcPnAkNkSW",
        "colab": {
          "base_uri": "https://localhost:8080/",
          "height": 162
        },
        "outputId": "eb596ba3-aa05-4221-ef99-a615a8c860d5"
      },
      "source": [
        "dist_df = pd.DataFrame({\n",
        "    \"train\": counts[\"train_counts\"],\n",
        "    \"val\": counts[\"val_counts\"],\n",
        "    \"test\": counts[\"test_counts\"]\n",
        "}).T.fillna(0)\n",
        "dist_df"
      ],
      "execution_count": 41,
      "outputs": [
        {
          "output_type": "execute_result",
          "data": {
            "text/html": [
              "<div>\n",
              "<style scoped>\n",
              "    .dataframe tbody tr th:only-of-type {\n",
              "        vertical-align: middle;\n",
              "    }\n",
              "\n",
              "    .dataframe tbody tr th {\n",
              "        vertical-align: top;\n",
              "    }\n",
              "\n",
              "    .dataframe thead th {\n",
              "        text-align: right;\n",
              "    }\n",
              "</style>\n",
              "<table border=\"1\" class=\"dataframe\">\n",
              "  <thead>\n",
              "    <tr style=\"text-align: right;\">\n",
              "      <th></th>\n",
              "      <th>(25,)</th>\n",
              "      <th>(15,)</th>\n",
              "      <th>(20,)</th>\n",
              "      <th>(21,)</th>\n",
              "      <th>(7,)</th>\n",
              "      <th>(33,)</th>\n",
              "      <th>(13,)</th>\n",
              "      <th>(28,)</th>\n",
              "      <th>(2,)</th>\n",
              "      <th>(3,)</th>\n",
              "      <th>(12,)</th>\n",
              "      <th>(22,)</th>\n",
              "      <th>(23,)</th>\n",
              "      <th>(32,)</th>\n",
              "      <th>(0,)</th>\n",
              "      <th>(1,)</th>\n",
              "      <th>(5,)</th>\n",
              "      <th>(4,)</th>\n",
              "      <th>(10,)</th>\n",
              "      <th>(14,)</th>\n",
              "      <th>(27,)</th>\n",
              "      <th>(29,)</th>\n",
              "      <th>(31,)</th>\n",
              "      <th>(24,)</th>\n",
              "      <th>(16,)</th>\n",
              "      <th>(9,)</th>\n",
              "      <th>(19,)</th>\n",
              "      <th>(26,)</th>\n",
              "      <th>(17,)</th>\n",
              "      <th>(11,)</th>\n",
              "      <th>(30,)</th>\n",
              "      <th>(18,)</th>\n",
              "      <th>(8,)</th>\n",
              "      <th>(6,)</th>\n",
              "    </tr>\n",
              "  </thead>\n",
              "  <tbody>\n",
              "    <tr>\n",
              "      <th>train</th>\n",
              "      <td>48</td>\n",
              "      <td>292</td>\n",
              "      <td>181</td>\n",
              "      <td>25</td>\n",
              "      <td>47</td>\n",
              "      <td>23</td>\n",
              "      <td>59</td>\n",
              "      <td>143</td>\n",
              "      <td>270</td>\n",
              "      <td>67</td>\n",
              "      <td>39</td>\n",
              "      <td>41</td>\n",
              "      <td>38</td>\n",
              "      <td>135</td>\n",
              "      <td>85</td>\n",
              "      <td>27</td>\n",
              "      <td>57</td>\n",
              "      <td>27</td>\n",
              "      <td>43</td>\n",
              "      <td>33</td>\n",
              "      <td>26</td>\n",
              "      <td>29</td>\n",
              "      <td>28</td>\n",
              "      <td>45</td>\n",
              "      <td>27</td>\n",
              "      <td>59</td>\n",
              "      <td>31</td>\n",
              "      <td>36</td>\n",
              "      <td>48</td>\n",
              "      <td>35</td>\n",
              "      <td>26</td>\n",
              "      <td>24</td>\n",
              "      <td>38</td>\n",
              "      <td>25</td>\n",
              "    </tr>\n",
              "    <tr>\n",
              "      <th>val</th>\n",
              "      <td>32</td>\n",
              "      <td>284</td>\n",
              "      <td>163</td>\n",
              "      <td>28</td>\n",
              "      <td>56</td>\n",
              "      <td>32</td>\n",
              "      <td>74</td>\n",
              "      <td>205</td>\n",
              "      <td>289</td>\n",
              "      <td>84</td>\n",
              "      <td>42</td>\n",
              "      <td>18</td>\n",
              "      <td>46</td>\n",
              "      <td>107</td>\n",
              "      <td>56</td>\n",
              "      <td>28</td>\n",
              "      <td>32</td>\n",
              "      <td>28</td>\n",
              "      <td>51</td>\n",
              "      <td>42</td>\n",
              "      <td>32</td>\n",
              "      <td>32</td>\n",
              "      <td>37</td>\n",
              "      <td>23</td>\n",
              "      <td>14</td>\n",
              "      <td>42</td>\n",
              "      <td>51</td>\n",
              "      <td>28</td>\n",
              "      <td>65</td>\n",
              "      <td>32</td>\n",
              "      <td>23</td>\n",
              "      <td>18</td>\n",
              "      <td>32</td>\n",
              "      <td>28</td>\n",
              "    </tr>\n",
              "    <tr>\n",
              "      <th>test</th>\n",
              "      <td>23</td>\n",
              "      <td>331</td>\n",
              "      <td>196</td>\n",
              "      <td>4</td>\n",
              "      <td>65</td>\n",
              "      <td>42</td>\n",
              "      <td>84</td>\n",
              "      <td>121</td>\n",
              "      <td>261</td>\n",
              "      <td>98</td>\n",
              "      <td>32</td>\n",
              "      <td>18</td>\n",
              "      <td>51</td>\n",
              "      <td>177</td>\n",
              "      <td>107</td>\n",
              "      <td>37</td>\n",
              "      <td>51</td>\n",
              "      <td>37</td>\n",
              "      <td>46</td>\n",
              "      <td>42</td>\n",
              "      <td>32</td>\n",
              "      <td>18</td>\n",
              "      <td>46</td>\n",
              "      <td>32</td>\n",
              "      <td>14</td>\n",
              "      <td>46</td>\n",
              "      <td>42</td>\n",
              "      <td>28</td>\n",
              "      <td>32</td>\n",
              "      <td>42</td>\n",
              "      <td>14</td>\n",
              "      <td>9</td>\n",
              "      <td>28</td>\n",
              "      <td>14</td>\n",
              "    </tr>\n",
              "  </tbody>\n",
              "</table>\n",
              "</div>"
            ],
            "text/plain": [
              "       (25,)  (15,)  (20,)  (21,)  (7,)  ...  (11,)  (30,)  (18,)  (8,)  (6,)\n",
              "train     48    292    181     25    47  ...     35     26     24    38    25\n",
              "val       32    284    163     28    56  ...     32     23     18    32    28\n",
              "test      23    331    196      4    65  ...     42     14      9    28    14\n",
              "\n",
              "[3 rows x 34 columns]"
            ]
          },
          "metadata": {},
          "execution_count": 41
        }
      ]
    },
    {
      "cell_type": "markdown",
      "metadata": {
        "id": "o-XWskGRNkSW"
      },
      "source": [
        "We can see how much deviance there is in our naive data splits by computing the standard deviation of each split's class counts from the mean (ideal split).\n",
        "\n",
        "$ \\sigma = \\sqrt{\\frac{(x - \\bar{x})^2}{N}} $"
      ]
    },
    {
      "cell_type": "code",
      "metadata": {
        "id": "jYL9nvKvNkSW",
        "colab": {
          "base_uri": "https://localhost:8080/"
        },
        "outputId": "fc017bcf-eebb-441a-8f83-3ed9f2e7478b"
      },
      "source": [
        "# Standard deviation\n",
        "np.mean(np.std(dist_df.to_numpy(), axis=0))"
      ],
      "execution_count": 42,
      "outputs": [
        {
          "output_type": "execute_result",
          "data": {
            "text/plain": [
              "9.62301581396703"
            ]
          },
          "metadata": {},
          "execution_count": 42
        }
      ]
    },
    {
      "cell_type": "markdown",
      "metadata": {
        "id": "vorJjssYNkSW"
      },
      "source": [
        "Some of these distributions are not great. Let's try and balance this out a bit better."
      ]
    },
    {
      "cell_type": "markdown",
      "metadata": {
        "id": "etOP2EetNkSW"
      },
      "source": [
        "**Stratified split**"
      ]
    },
    {
      "cell_type": "markdown",
      "metadata": {
        "id": "whQp6BPxvQaz"
      },
      "source": [
        "Now we'll apply [iterative stratification](http://lpis.csd.auth.gr/publications/sechidis-ecmlpkdd-2011.pdf) via the [skmultilearn](http://scikit.ml/index.html) library, which essentially splits each input into subsets (where each label is considered individually) and then it distributes the samples starting with fewest \"positive\" samples and working up to the inputs that have the most labels."
      ]
    },
    {
      "cell_type": "code",
      "metadata": {
        "id": "31BlT7xPNkSW"
      },
      "source": [
        "from skmultilearn.model_selection import IterativeStratification"
      ],
      "execution_count": 43,
      "outputs": []
    },
    {
      "cell_type": "code",
      "metadata": {
        "id": "m1WZAQJGNkSW"
      },
      "source": [
        "def iterative_train_test_split(X, y, train_size):\n",
        "    \"\"\"Custom iterative train test split which \n",
        "    'maintains balanced representation with respect \n",
        "    to order-th label combinations.'\n",
        "    \"\"\"\n",
        "    stratifier = IterativeStratification(\n",
        "        n_splits=2, order=1, sample_distribution_per_fold=[1.0-train_size, train_size, ])\n",
        "    train_indices, test_indices = next(stratifier.split(X, y))\n",
        "    X_train, y_train = X[train_indices], y[train_indices]\n",
        "    X_test, y_test = X[test_indices], y[test_indices]\n",
        "    return X_train, X_test, y_train, y_test"
      ],
      "execution_count": 44,
      "outputs": []
    },
    {
      "cell_type": "code",
      "metadata": {
        "id": "jghaS1edNkSW"
      },
      "source": [
        "# Get data\n",
        "X = df.text.to_numpy()\n",
        "y = df.tags"
      ],
      "execution_count": 45,
      "outputs": []
    },
    {
      "cell_type": "code",
      "metadata": {
        "id": "Rv0baiseNkSW"
      },
      "source": [
        "# Binarize y\n",
        "label_encoder = LabelEncoder()\n",
        "label_encoder.fit(y)\n",
        "y = label_encoder.encode(y)"
      ],
      "execution_count": 46,
      "outputs": []
    },
    {
      "cell_type": "code",
      "metadata": {
        "id": "YMaDgwX7NkSW"
      },
      "source": [
        "# Split\n",
        "X_train, X_, y_train, y_ = iterative_train_test_split(\n",
        "    X, y, train_size=train_size)\n",
        "X_val, X_test, y_val, y_test = iterative_train_test_split(\n",
        "    X_, y_, train_size=0.5)"
      ],
      "execution_count": 47,
      "outputs": []
    },
    {
      "cell_type": "code",
      "metadata": {
        "id": "qV1HlPP_NkSW",
        "colab": {
          "base_uri": "https://localhost:8080/"
        },
        "outputId": "6af1dcd8-e165-455a-f5c8-7b248f700008"
      },
      "source": [
        "print(f\"train: {len(X_train)} ({len(X_train)/len(X):.2f})\\n\"\n",
        "      f\"val: {len(X_val)} ({len(X_val)/len(X):.2f})\\n\"\n",
        "      f\"test: {len(X_test)} ({len(X_test)/len(X):.2f})\")"
      ],
      "execution_count": 48,
      "outputs": [
        {
          "output_type": "stream",
          "name": "stdout",
          "text": [
            "train: 1005 (0.70)\n",
            "val: 228 (0.16)\n",
            "test: 206 (0.14)\n"
          ]
        }
      ]
    },
    {
      "cell_type": "code",
      "metadata": {
        "id": "QqjXL-lRNkSX"
      },
      "source": [
        "# Get counts for each class\n",
        "counts = {}\n",
        "counts[\"train_counts\"] = Counter(str(combination) for row in get_combination_wise_output_matrix(\n",
        "    y_train, order=1) for combination in row)\n",
        "counts[\"val_counts\"] = Counter(str(combination) for row in get_combination_wise_output_matrix(\n",
        "    y_val, order=1) for combination in row)\n",
        "counts[\"test_counts\"] = Counter(str(combination) for row in get_combination_wise_output_matrix(\n",
        "    y_test, order=1) for combination in row)"
      ],
      "execution_count": 49,
      "outputs": []
    },
    {
      "cell_type": "code",
      "metadata": {
        "id": "AKFGUgfkNkSX"
      },
      "source": [
        "# Adjust counts across splits\n",
        "for k in counts[\"val_counts\"].keys():\n",
        "    counts[\"val_counts\"][k] = int(counts[\"val_counts\"][k] * \\\n",
        "        (train_size/val_size))\n",
        "for k in counts[\"test_counts\"].keys():\n",
        "    counts[\"test_counts\"][k] = int(counts[\"test_counts\"][k] * \\\n",
        "        (train_size/test_size))"
      ],
      "execution_count": 50,
      "outputs": []
    },
    {
      "cell_type": "code",
      "metadata": {
        "id": "Pn6kIt0HNkSX",
        "colab": {
          "base_uri": "https://localhost:8080/",
          "height": 162
        },
        "outputId": "a2161a01-14ac-4a5a-e195-d32f12e254b8"
      },
      "source": [
        "# View distributions\n",
        "pd.DataFrame({\n",
        "    \"train\": counts[\"train_counts\"],\n",
        "    \"val\": counts[\"val_counts\"],\n",
        "    \"test\": counts[\"test_counts\"]\n",
        "}).T.fillna(0)"
      ],
      "execution_count": 51,
      "outputs": [
        {
          "output_type": "execute_result",
          "data": {
            "text/html": [
              "<div>\n",
              "<style scoped>\n",
              "    .dataframe tbody tr th:only-of-type {\n",
              "        vertical-align: middle;\n",
              "    }\n",
              "\n",
              "    .dataframe tbody tr th {\n",
              "        vertical-align: top;\n",
              "    }\n",
              "\n",
              "    .dataframe thead th {\n",
              "        text-align: right;\n",
              "    }\n",
              "</style>\n",
              "<table border=\"1\" class=\"dataframe\">\n",
              "  <thead>\n",
              "    <tr style=\"text-align: right;\">\n",
              "      <th></th>\n",
              "      <th>(15,)</th>\n",
              "      <th>(21,)</th>\n",
              "      <th>(0,)</th>\n",
              "      <th>(32,)</th>\n",
              "      <th>(10,)</th>\n",
              "      <th>(2,)</th>\n",
              "      <th>(8,)</th>\n",
              "      <th>(9,)</th>\n",
              "      <th>(26,)</th>\n",
              "      <th>(19,)</th>\n",
              "      <th>(33,)</th>\n",
              "      <th>(25,)</th>\n",
              "      <th>(22,)</th>\n",
              "      <th>(13,)</th>\n",
              "      <th>(11,)</th>\n",
              "      <th>(6,)</th>\n",
              "      <th>(3,)</th>\n",
              "      <th>(20,)</th>\n",
              "      <th>(1,)</th>\n",
              "      <th>(28,)</th>\n",
              "      <th>(30,)</th>\n",
              "      <th>(12,)</th>\n",
              "      <th>(14,)</th>\n",
              "      <th>(17,)</th>\n",
              "      <th>(5,)</th>\n",
              "      <th>(7,)</th>\n",
              "      <th>(27,)</th>\n",
              "      <th>(23,)</th>\n",
              "      <th>(29,)</th>\n",
              "      <th>(16,)</th>\n",
              "      <th>(24,)</th>\n",
              "      <th>(31,)</th>\n",
              "      <th>(18,)</th>\n",
              "      <th>(4,)</th>\n",
              "    </tr>\n",
              "  </thead>\n",
              "  <tbody>\n",
              "    <tr>\n",
              "      <th>train</th>\n",
              "      <td>297</td>\n",
              "      <td>24</td>\n",
              "      <td>78</td>\n",
              "      <td>135</td>\n",
              "      <td>44</td>\n",
              "      <td>272</td>\n",
              "      <td>36</td>\n",
              "      <td>55</td>\n",
              "      <td>37</td>\n",
              "      <td>36</td>\n",
              "      <td>27</td>\n",
              "      <td>42</td>\n",
              "      <td>34</td>\n",
              "      <td>60</td>\n",
              "      <td>38</td>\n",
              "      <td>24</td>\n",
              "      <td>74</td>\n",
              "      <td>181</td>\n",
              "      <td>29</td>\n",
              "      <td>149</td>\n",
              "      <td>24</td>\n",
              "      <td>38</td>\n",
              "      <td>35</td>\n",
              "      <td>55</td>\n",
              "      <td>52</td>\n",
              "      <td>51</td>\n",
              "      <td>28</td>\n",
              "      <td>41</td>\n",
              "      <td>26</td>\n",
              "      <td>27</td>\n",
              "      <td>40</td>\n",
              "      <td>32</td>\n",
              "      <td>21</td>\n",
              "      <td>29</td>\n",
              "    </tr>\n",
              "    <tr>\n",
              "      <th>val</th>\n",
              "      <td>294</td>\n",
              "      <td>4</td>\n",
              "      <td>84</td>\n",
              "      <td>135</td>\n",
              "      <td>51</td>\n",
              "      <td>270</td>\n",
              "      <td>46</td>\n",
              "      <td>56</td>\n",
              "      <td>28</td>\n",
              "      <td>32</td>\n",
              "      <td>28</td>\n",
              "      <td>42</td>\n",
              "      <td>37</td>\n",
              "      <td>65</td>\n",
              "      <td>32</td>\n",
              "      <td>23</td>\n",
              "      <td>74</td>\n",
              "      <td>177</td>\n",
              "      <td>28</td>\n",
              "      <td>149</td>\n",
              "      <td>23</td>\n",
              "      <td>42</td>\n",
              "      <td>37</td>\n",
              "      <td>32</td>\n",
              "      <td>56</td>\n",
              "      <td>46</td>\n",
              "      <td>28</td>\n",
              "      <td>42</td>\n",
              "      <td>37</td>\n",
              "      <td>14</td>\n",
              "      <td>42</td>\n",
              "      <td>32</td>\n",
              "      <td>23</td>\n",
              "      <td>23</td>\n",
              "    </tr>\n",
              "    <tr>\n",
              "      <th>test</th>\n",
              "      <td>298</td>\n",
              "      <td>32</td>\n",
              "      <td>112</td>\n",
              "      <td>149</td>\n",
              "      <td>42</td>\n",
              "      <td>270</td>\n",
              "      <td>23</td>\n",
              "      <td>51</td>\n",
              "      <td>23</td>\n",
              "      <td>37</td>\n",
              "      <td>28</td>\n",
              "      <td>42</td>\n",
              "      <td>32</td>\n",
              "      <td>88</td>\n",
              "      <td>28</td>\n",
              "      <td>23</td>\n",
              "      <td>74</td>\n",
              "      <td>182</td>\n",
              "      <td>28</td>\n",
              "      <td>149</td>\n",
              "      <td>23</td>\n",
              "      <td>37</td>\n",
              "      <td>37</td>\n",
              "      <td>32</td>\n",
              "      <td>51</td>\n",
              "      <td>56</td>\n",
              "      <td>28</td>\n",
              "      <td>42</td>\n",
              "      <td>28</td>\n",
              "      <td>14</td>\n",
              "      <td>37</td>\n",
              "      <td>32</td>\n",
              "      <td>18</td>\n",
              "      <td>32</td>\n",
              "    </tr>\n",
              "  </tbody>\n",
              "</table>\n",
              "</div>"
            ],
            "text/plain": [
              "       (15,)  (21,)  (0,)  (32,)  (10,)  ...  (16,)  (24,)  (31,)  (18,)  (4,)\n",
              "train    297     24    78    135     44  ...     27     40     32     21    29\n",
              "val      294      4    84    135     51  ...     14     42     32     23    23\n",
              "test     298     32   112    149     42  ...     14     37     32     18    32\n",
              "\n",
              "[3 rows x 34 columns]"
            ]
          },
          "metadata": {},
          "execution_count": 51
        }
      ]
    },
    {
      "cell_type": "code",
      "metadata": {
        "id": "ftgmBEVdNkSX"
      },
      "source": [
        "dist_df = pd.DataFrame({\n",
        "    'train': counts['train_counts'],\n",
        "    'val': counts['val_counts'],\n",
        "    'test': counts['test_counts']\n",
        "}).T.fillna(0)"
      ],
      "execution_count": 52,
      "outputs": []
    },
    {
      "cell_type": "code",
      "metadata": {
        "id": "c02UhVufNkSX",
        "colab": {
          "base_uri": "https://localhost:8080/"
        },
        "outputId": "dbd120fc-3a7f-450e-b70d-40ddb51e02c9"
      },
      "source": [
        "# Standard deviation\n",
        "np.mean(np.std(dist_df.to_numpy(), axis=0))"
      ],
      "execution_count": 53,
      "outputs": [
        {
          "output_type": "execute_result",
          "data": {
            "text/plain": [
              "3.5602876409411723"
            ]
          },
          "metadata": {},
          "execution_count": 53
        }
      ]
    },
    {
      "cell_type": "markdown",
      "metadata": {
        "id": "1GvMA5m0vWVr"
      },
      "source": [
        "> [Iterative stratification](http://scikit.ml/_modules/skmultilearn/model_selection/iterative_stratification.html#IterativeStratification) essentially creates splits while \"trying to maintain balanced representation with respect to order-th label combinations\". We used to an `order=1` for our iterative split which means we cared about providing representative distribution of each tag across the splits. But we can account for [higher-order](https://arxiv.org/abs/1704.08756) label relationships as well where we may care about the distribution of label combinations."
      ]
    },
    {
      "cell_type": "code",
      "metadata": {
        "id": "gBI7LT3uK-IZ"
      },
      "source": [
        "# Split DataFrames\n",
        "train_df = pd.DataFrame({\"text\": X_train, \"tags\": label_encoder.decode(y_train)})\n",
        "val_df = pd.DataFrame({\"text\": X_val, \"tags\": label_encoder.decode(y_val)})\n",
        "test_df = pd.DataFrame({\"text\": X_test, \"tags\": label_encoder.decode(y_test)})"
      ],
      "execution_count": 54,
      "outputs": []
    },
    {
      "cell_type": "code",
      "metadata": {
        "id": "rf2b7aGVK_nb",
        "colab": {
          "base_uri": "https://localhost:8080/",
          "height": 204
        },
        "outputId": "ce5a0e74-7dab-4513-e655-a14f2b94a3df"
      },
      "source": [
        "train_df.head()"
      ],
      "execution_count": 55,
      "outputs": [
        {
          "output_type": "execute_result",
          "data": {
            "text/html": [
              "<div>\n",
              "<style scoped>\n",
              "    .dataframe tbody tr th:only-of-type {\n",
              "        vertical-align: middle;\n",
              "    }\n",
              "\n",
              "    .dataframe tbody tr th {\n",
              "        vertical-align: top;\n",
              "    }\n",
              "\n",
              "    .dataframe thead th {\n",
              "        text-align: right;\n",
              "    }\n",
              "</style>\n",
              "<table border=\"1\" class=\"dataframe\">\n",
              "  <thead>\n",
              "    <tr style=\"text-align: right;\">\n",
              "      <th></th>\n",
              "      <th>text</th>\n",
              "      <th>tags</th>\n",
              "    </tr>\n",
              "  </thead>\n",
              "  <tbody>\n",
              "    <tr>\n",
              "      <th>0</th>\n",
              "      <td>hugging face achieved 2x performance boost qa ...</td>\n",
              "      <td>[attention, huggingface, natural-language-proc...</td>\n",
              "    </tr>\n",
              "    <tr>\n",
              "      <th>1</th>\n",
              "      <td>graph convolution structured documents convert...</td>\n",
              "      <td>[computer-vision, graph-neural-networks, graphs]</td>\n",
              "    </tr>\n",
              "    <tr>\n",
              "      <th>2</th>\n",
              "      <td>build production ready deep learning training ...</td>\n",
              "      <td>[computer-vision, production, segmentation]</td>\n",
              "    </tr>\n",
              "    <tr>\n",
              "      <th>3</th>\n",
              "      <td>introduction k means clustering python scikit ...</td>\n",
              "      <td>[scikit-learn, unsupervised-learning]</td>\n",
              "    </tr>\n",
              "    <tr>\n",
              "      <th>4</th>\n",
              "      <td>programming probabilistically book data scienc...</td>\n",
              "      <td>[regression]</td>\n",
              "    </tr>\n",
              "  </tbody>\n",
              "</table>\n",
              "</div>"
            ],
            "text/plain": [
              "                                                text                                               tags\n",
              "0  hugging face achieved 2x performance boost qa ...  [attention, huggingface, natural-language-proc...\n",
              "1  graph convolution structured documents convert...   [computer-vision, graph-neural-networks, graphs]\n",
              "2  build production ready deep learning training ...        [computer-vision, production, segmentation]\n",
              "3  introduction k means clustering python scikit ...              [scikit-learn, unsupervised-learning]\n",
              "4  programming probabilistically book data scienc...                                       [regression]"
            ]
          },
          "metadata": {},
          "execution_count": 55
        }
      ]
    },
    {
      "cell_type": "markdown",
      "metadata": {
        "id": "ZsR6To1zNkSX"
      },
      "source": [
        "## Augmentation"
      ]
    },
    {
      "cell_type": "markdown",
      "metadata": {
        "id": "BZQNks8TNkSX"
      },
      "source": [
        "We'll often want to increase the size and diversity of our training data split through data augmentation. It involves using the existing samples to generate synthetic, yet realistic, examples."
      ]
    },
    {
      "cell_type": "code",
      "metadata": {
        "id": "PR9WLz0jc3GO",
        "colab": {
          "base_uri": "https://localhost:8080/"
        },
        "outputId": "84fa0954-1c51-40eb-9d88-4e93e5e9720d"
      },
      "source": [
        "!pip install nlpaug==1.1.0 transformers==3.0.2 -q\n",
        "!pip install snorkel==0.9.7 -q"
      ],
      "execution_count": 56,
      "outputs": [
        {
          "output_type": "stream",
          "name": "stdout",
          "text": [
            "\u001b[K     |████████████████████████████████| 380 kB 5.2 MB/s \n",
            "\u001b[K     |████████████████████████████████| 769 kB 35.4 MB/s \n",
            "\u001b[K     |████████████████████████████████| 895 kB 36.0 MB/s \n",
            "\u001b[K     |████████████████████████████████| 3.0 MB 34.8 MB/s \n",
            "\u001b[K     |████████████████████████████████| 1.2 MB 38.7 MB/s \n",
            "\u001b[K     |████████████████████████████████| 145 kB 5.4 MB/s \n",
            "\u001b[K     |████████████████████████████████| 1.7 MB 29.5 MB/s \n",
            "\u001b[K     |████████████████████████████████| 3.8 MB 44.3 MB/s \n",
            "\u001b[?25h  Building wheel for networkx (setup.py) ... \u001b[?25l\u001b[?25hdone\n",
            "\u001b[31mERROR: pip's dependency resolver does not currently take into account all the packages that are installed. This behaviour is the source of the following dependency conflicts.\n",
            "tensorflow 2.6.0 requires tensorboard~=2.6, but you have tensorboard 1.15.0 which is incompatible.\n",
            "albumentations 0.1.12 requires imgaug<0.2.7,>=0.2.5, but you have imgaug 0.2.9 which is incompatible.\u001b[0m\n"
          ]
        }
      ]
    },
    {
      "cell_type": "code",
      "metadata": {
        "id": "C6MX5Gm8NkSX"
      },
      "source": [
        "import nlpaug.augmenter.word as naw"
      ],
      "execution_count": 57,
      "outputs": []
    },
    {
      "cell_type": "code",
      "metadata": {
        "id": "A9kUIKpsNkSX",
        "colab": {
          "base_uri": "https://localhost:8080/",
          "height": 113,
          "referenced_widgets": [
            "00046eabb7a94cc985c3e0d34aa204dd",
            "50e0c8eb9aa64dd485b078c35e1cb894",
            "99065746be024c86b5f5be9476a13f8a",
            "c3fa9777dfd244098037c402d9bda7ff",
            "4b58a7fe87fa4db5894e25f842568d4f",
            "3bda686bb8524040aa2b35a8b3623ade",
            "9071952b254841e1b30fdc64efc0f06f",
            "35f54cb1536b46d8941cfe398784544c",
            "a307969fcb9c4196b49355f101d2a869",
            "531932ed359240aa9657d6825aa4fcd1",
            "c93cfce1aa9f46e190d386152cdcef23",
            "94fc0ad4b0e0450da1c6d5760d45f7ad",
            "23b34ef5861349c6b3ddca6fc70c8355",
            "bb06ce9e89584c0c8b800d60526e3525",
            "11d9e5fdd9da493b8903644f0aa702da",
            "4663d396206444969cf9f245fd34be58",
            "cebb1db975274fe2bc44ff6040e5cc55",
            "991f0ee1185e418cba5cbe231fafc7ed",
            "43a6d92ac724432fbbc3c8a3b73846ed",
            "c5f1e73f1abf4368b938a8d53ef616b1",
            "dc7a1f873a92439cb8f50a8696203446",
            "789ab82ae27f4cc0b5f3164ed81b7c67",
            "583bc99e0515404591bfa2ce6cc0249f",
            "a5bdf74c472b4e6d9e9b2500434338a5",
            "7594f2f62d334800a14a9a5197f78d13",
            "2f4c1c2285fa4dbd8ada0a429829c51d",
            "61e545f20d08452e9146172803269cee",
            "1bd5e1dcd0fc4bb0a4ba81567d2b9946",
            "e0b2659bfb7e45139d35ee37b8f8ce6d",
            "34326d31e97442b99b0403d56ea217d9",
            "ce96286ceb8244d59de8fbcacd6daa71",
            "3f1cda9564f241ee89fb5dfdfa7943ac",
            "dd9cbb6a2119472a95684dc50ca390d0"
          ]
        },
        "outputId": "dc0f7e14-b30a-435e-b078-b900dc949973"
      },
      "source": [
        "# Load tokenizers and transformers\n",
        "substitution = naw.ContextualWordEmbsAug(model_path=\"distilbert-base-uncased\", action=\"substitute\")\n",
        "insertion = naw.ContextualWordEmbsAug(model_path=\"distilbert-base-uncased\", action=\"insert\")"
      ],
      "execution_count": 58,
      "outputs": [
        {
          "output_type": "display_data",
          "data": {
            "application/vnd.jupyter.widget-view+json": {
              "model_id": "00046eabb7a94cc985c3e0d34aa204dd",
              "version_minor": 0,
              "version_major": 2
            },
            "text/plain": [
              "Downloading:   0%|          | 0.00/442 [00:00<?, ?B/s]"
            ]
          },
          "metadata": {}
        },
        {
          "output_type": "display_data",
          "data": {
            "application/vnd.jupyter.widget-view+json": {
              "model_id": "94fc0ad4b0e0450da1c6d5760d45f7ad",
              "version_minor": 0,
              "version_major": 2
            },
            "text/plain": [
              "Downloading:   0%|          | 0.00/232k [00:00<?, ?B/s]"
            ]
          },
          "metadata": {}
        },
        {
          "output_type": "display_data",
          "data": {
            "application/vnd.jupyter.widget-view+json": {
              "model_id": "583bc99e0515404591bfa2ce6cc0249f",
              "version_minor": 0,
              "version_major": 2
            },
            "text/plain": [
              "Downloading:   0%|          | 0.00/268M [00:00<?, ?B/s]"
            ]
          },
          "metadata": {}
        }
      ]
    },
    {
      "cell_type": "code",
      "metadata": {
        "id": "3YWn96hxNkSX"
      },
      "source": [
        "text = \"Conditional image generation using Variational Autoencoders and GANs.\""
      ],
      "execution_count": 59,
      "outputs": []
    },
    {
      "cell_type": "code",
      "metadata": {
        "id": "NLt1kYXkg3L8",
        "colab": {
          "base_uri": "https://localhost:8080/"
        },
        "outputId": "18cecf34-d654-4ff6-a4a0-3b9410a1be89"
      },
      "source": [
        "# Substitutions\n",
        "augmented_text = substitution.augment(text)\n",
        "print (augmented_text)"
      ],
      "execution_count": 60,
      "outputs": [
        {
          "output_type": "stream",
          "name": "stdout",
          "text": [
            "discrete probability processing using variational filters and gans.\n"
          ]
        }
      ]
    },
    {
      "cell_type": "markdown",
      "metadata": {
        "id": "36DzpSqbNkSX"
      },
      "source": [
        "Substitution doesn't seem like a great idea for us because there are certain keywords that provide strong signal for our tags so we don't want to alter those. Also, note that these augmentations are NOT deterministic and will vary every time we run them. Let's try insertion..."
      ]
    },
    {
      "cell_type": "code",
      "metadata": {
        "id": "bK8PV0FWb7pE",
        "colab": {
          "base_uri": "https://localhost:8080/"
        },
        "outputId": "e0a07d92-af18-4a83-dccc-3ec5e6e4d76a"
      },
      "source": [
        "# Insertions\n",
        "augmented_text = insertion.augment(text)\n",
        "print (augmented_text)"
      ],
      "execution_count": 61,
      "outputs": [
        {
          "output_type": "stream",
          "name": "stdout",
          "text": [
            "continuous conditional data image generation allows using various variational autoencoders and gans.\n"
          ]
        }
      ]
    },
    {
      "cell_type": "markdown",
      "metadata": {
        "id": "x5K29gM5NkSX"
      },
      "source": [
        "A little better but still quite fragile and now it can potentially insert key words that can influence false positive tags to appear. Maybe instead of substituting or inserting new tokens, let's try simply swapping machine learning related keywords with their aliases from our [auxiliary data](https://raw.githubusercontent.com/GokuMohandas/MadeWithML/main/datasets/tags.json). We'll use Snorkel's [transformation functions](https://www.snorkel.org/use-cases/02-spam-data-augmentation-tutorial) to easily achieve this."
      ]
    },
    {
      "cell_type": "code",
      "metadata": {
        "id": "-8EchR_16aIn"
      },
      "source": [
        "import inflect\n",
        "from snorkel.augmentation import transformation_function\n",
        "inflect = inflect.engine()"
      ],
      "execution_count": 62,
      "outputs": []
    },
    {
      "cell_type": "code",
      "metadata": {
        "id": "LJoGgiKD_wog",
        "colab": {
          "base_uri": "https://localhost:8080/"
        },
        "outputId": "3f084fc2-ec3d-468c-9a5a-c4814e0dac79"
      },
      "source": [
        "# Inflect\n",
        "print (inflect.singular_noun(\"graphs\"))\n",
        "print (inflect.singular_noun(\"graph\"))\n",
        "print (inflect.plural_noun(\"graph\"))\n",
        "print (inflect.plural_noun(\"graphs\"))"
      ],
      "execution_count": 63,
      "outputs": [
        {
          "output_type": "stream",
          "name": "stdout",
          "text": [
            "graph\n",
            "False\n",
            "graphs\n",
            "graphss\n"
          ]
        }
      ]
    },
    {
      "cell_type": "code",
      "metadata": {
        "id": "J-WP46Zs0rko"
      },
      "source": [
        "def replace_dash(x):\n",
        "    return x.replace(\"-\", \" \")"
      ],
      "execution_count": 64,
      "outputs": []
    },
    {
      "cell_type": "code",
      "metadata": {
        "id": "YLComLRexHTN"
      },
      "source": [
        "flat_tags_dict = {}\n",
        "for tag, info in tags_dict.items():\n",
        "    tag = tag.replace(\"-\", \" \")\n",
        "    aliases = list(map(replace_dash, info[\"aliases\"]))\n",
        "    if len(aliases):\n",
        "        flat_tags_dict[tag] = aliases\n",
        "    for alias in aliases:\n",
        "        _aliases = aliases + [tag]\n",
        "        _aliases.remove(alias)\n",
        "        flat_tags_dict[alias] = _aliases"
      ],
      "execution_count": 65,
      "outputs": []
    },
    {
      "cell_type": "code",
      "metadata": {
        "id": "8TkafOfS8Iqa"
      },
      "source": [
        "# Tags that could be singular or plural\n",
        "can_be_singular = [\n",
        "    'animations',\n",
        "    'cartoons',\n",
        "    'autoencoders',\n",
        "    'conditional random fields',\n",
        "    'convolutional neural networks',\n",
        "    'databases',\n",
        "    'deep q networks',\n",
        "    'gated recurrent units',\n",
        "    'gaussian processes',\n",
        "    'generative adversarial networks',\n",
        "    'graph convolutional networks',\n",
        "    'graph neural networks',\n",
        "    'k nearest neighbors',\n",
        "    'learning rates',\n",
        "    'multilayer perceptrons',\n",
        "    'outliers',\n",
        "    'pos',\n",
        "    'quasi recurrent neural networks',\n",
        "    'recommendation systems',\n",
        "    'recurrent neural networks',\n",
        "    'streaming data',\n",
        "    'data streams',\n",
        "    'support vector machines',\n",
        "    'variational autoencoders']\n",
        "can_be_plural = [\n",
        "    'annotation',\n",
        "    'data annotation',\n",
        "    'continuous integration',\n",
        "    'continuous deployment',\n",
        "    'crf',\n",
        "    'conversational ai',\n",
        "    'chatbot',\n",
        "    'cnn',\n",
        "    'db',\n",
        "    'dqn',\n",
        "    'expectation maximization',\n",
        "    'fine tuning',\n",
        "    'finetuning',\n",
        "    'finetune',\n",
        "    'gru',\n",
        "    'gan',\n",
        "    'gcn',\n",
        "    'gnn',\n",
        "    'hyperparameter optimization',\n",
        "    'hyperparameter tuning',\n",
        "    'image generation',\n",
        "    'inference',\n",
        "    'prediction',\n",
        "    'knn',\n",
        "    'knowledge base',\n",
        "    'language modeling',\n",
        "    'latent dirichlet allocation',\n",
        "    'lstm',\n",
        "    'machine translation',\n",
        "    'model compression',\n",
        "    'compression',\n",
        "    'perceptron',\n",
        "    'mlp',\n",
        "    'optical character recognition',\n",
        "    'outlier detection',\n",
        "    'pos tagging',\n",
        "    'pca',\n",
        "    'qrnn',\n",
        "    'rnn',\n",
        "    'segmentation',\n",
        "    'image segmentation',\n",
        "    'spatial temporal cnn',\n",
        "    'data streaming',\n",
        "    'svm',\n",
        "    'tabular',\n",
        "    'temporal cnn',\n",
        "    'tcnn',\n",
        "    'vae',\n",
        "    'vqa',\n",
        "    'visualization',\n",
        "    'data visualization']"
      ],
      "execution_count": 66,
      "outputs": []
    },
    {
      "cell_type": "code",
      "metadata": {
        "id": "hKUwzfZc96gO"
      },
      "source": [
        "# Add to flattened dict\n",
        "for tag in can_be_singular:\n",
        "    flat_tags_dict[inflect.singular_noun(tag)] = flat_tags_dict[tag]\n",
        "for tag in can_be_plural:\n",
        "    flat_tags_dict[inflect.plural_noun(tag)] = flat_tags_dict[tag]"
      ],
      "execution_count": 67,
      "outputs": []
    },
    {
      "cell_type": "code",
      "metadata": {
        "id": "KU6DGLk26RNR",
        "colab": {
          "base_uri": "https://localhost:8080/"
        },
        "outputId": "c9a8079d-2be3-4b26-9844-7f8871fd1c54"
      },
      "source": [
        "# Doesn't perfectly match (ex. singlar tag to singlar alias)\n",
        "# But good enough for data augmentation for char-level tokenization\n",
        "# Could've also used stemming before swapping aliases\n",
        "print (flat_tags_dict[\"gan\"])\n",
        "print (flat_tags_dict[\"gans\"])\n",
        "print (flat_tags_dict[\"generative adversarial network\"])\n",
        "print (flat_tags_dict[\"generative adversarial networks\"])"
      ],
      "execution_count": 68,
      "outputs": [
        {
          "output_type": "stream",
          "name": "stdout",
          "text": [
            "['generative adversarial networks']\n",
            "['generative adversarial networks']\n",
            "['gan']\n",
            "['gan']\n"
          ]
        }
      ]
    },
    {
      "cell_type": "code",
      "metadata": {
        "id": "E2QdYOXSY55L",
        "colab": {
          "base_uri": "https://localhost:8080/"
        },
        "outputId": "a4169472-576c-4fe4-f5c4-3f1fd3d2e5dc"
      },
      "source": [
        "# We want to match with the whole word only\n",
        "print (\"gan\" in \"This is a gan.\")\n",
        "print (\"gan\" in \"This is gandalf.\")"
      ],
      "execution_count": 69,
      "outputs": [
        {
          "output_type": "stream",
          "name": "stdout",
          "text": [
            "True\n",
            "True\n"
          ]
        }
      ]
    },
    {
      "cell_type": "code",
      "metadata": {
        "id": "MHtHER09W8ew"
      },
      "source": [
        "def find_word(word, text):\n",
        "    word = word.replace(\"+\", \"\\+\")\n",
        "    pattern = re.compile(fr\"\\b({word})\\b\", flags=re.IGNORECASE)\n",
        "    return pattern.search(text)"
      ],
      "execution_count": 70,
      "outputs": []
    },
    {
      "cell_type": "code",
      "metadata": {
        "id": "4zTuKPuRXTRO",
        "colab": {
          "base_uri": "https://localhost:8080/"
        },
        "outputId": "244ca878-4c47-4d59-9add-35ba4da02383"
      },
      "source": [
        "# Correct behavior (single instance)\n",
        "print (find_word(\"gan\", \"This is a gan.\"))\n",
        "print (find_word(\"gan\", \"This is gandalf.\"))"
      ],
      "execution_count": 71,
      "outputs": [
        {
          "output_type": "stream",
          "name": "stdout",
          "text": [
            "<re.Match object; span=(10, 13), match='gan'>\n",
            "None\n"
          ]
        }
      ]
    },
    {
      "cell_type": "code",
      "metadata": {
        "id": "2r0f6iqeoNSh"
      },
      "source": [
        "@transformation_function()\n",
        "def swap_aliases(x):\n",
        "    \"\"\"Swap ML keywords with their aliases.\"\"\" \n",
        "\n",
        "    # Find all matches\n",
        "    matches = []\n",
        "    for i, tag in enumerate(flat_tags_dict):\n",
        "        match = find_word(tag, x.text)  \n",
        "        if match:\n",
        "            matches.append(match)\n",
        "    \n",
        "    # Swap a random match with a random alias\n",
        "    if len(matches):\n",
        "        match = random.choice(matches)\n",
        "        tag = x.text[match.start():match.end()]\n",
        "        x.text = f\"{x.text[:match.start()]}{random.choice(flat_tags_dict[tag])}{x.text[match.end():]}\"\n",
        "    return x"
      ],
      "execution_count": 72,
      "outputs": []
    },
    {
      "cell_type": "code",
      "metadata": {
        "id": "4Hnuu4LZqgxS",
        "colab": {
          "base_uri": "https://localhost:8080/"
        },
        "outputId": "9e58d8ea-337e-45fb-8a08-c843dd97e3b7"
      },
      "source": [
        "# Swap\n",
        "for i in range(3):\n",
        "    sample_df = pd.DataFrame([{\"text\": \"a survey of reinforcement learning for nlp tasks.\"}])\n",
        "    sample_df.text = sample_df.text.apply(preprocess, lower=True, stem=False)\n",
        "    print (swap_aliases(sample_df.iloc[0]).text)"
      ],
      "execution_count": 73,
      "outputs": [
        {
          "output_type": "stream",
          "name": "stdout",
          "text": [
            "survey reinforcement learning nlproc tasks\n",
            "survey rl nlp tasks\n",
            "survey rl nlp tasks\n"
          ]
        }
      ]
    },
    {
      "cell_type": "code",
      "metadata": {
        "id": "Zb1PkpxE3jrP",
        "colab": {
          "base_uri": "https://localhost:8080/"
        },
        "outputId": "965f6645-69d9-4085-8b12-28e64ba4bec5"
      },
      "source": [
        "# Undesired behavior (needs contextual insight)\n",
        "for i in range(3):\n",
        "    sample_df = pd.DataFrame([{\"text\": \"Autogenerate your CV to apply for jobs using NLP.\"}])\n",
        "    sample_df.text = sample_df.text.apply(preprocess, lower=True, stem=False)\n",
        "    print (swap_aliases(sample_df.iloc[0]).text)"
      ],
      "execution_count": 74,
      "outputs": [
        {
          "output_type": "stream",
          "name": "stdout",
          "text": [
            "autogenerate vision apply jobs using nlp\n",
            "autogenerate cv apply jobs using natural language processing\n",
            "autogenerate cv apply jobs using nlproc\n"
          ]
        }
      ]
    },
    {
      "cell_type": "markdown",
      "metadata": {
        "id": "7C0z19mFBswx"
      },
      "source": [
        "Now we'll define a [augmentation policy](https://snorkel.readthedocs.io/en/v0.9.1/packages/augmentation.html) to apply our transformation functions with certain rules (how many samples to generate, whether to keep the original data point, etc.)"
      ]
    },
    {
      "cell_type": "code",
      "metadata": {
        "id": "8Cwju3KrnH7O"
      },
      "source": [
        "from snorkel.augmentation import ApplyOnePolicy, PandasTFApplier"
      ],
      "execution_count": 75,
      "outputs": []
    },
    {
      "cell_type": "code",
      "metadata": {
        "id": "NitY8I8jlg-f",
        "colab": {
          "base_uri": "https://localhost:8080/",
          "height": 221
        },
        "outputId": "dc3db571-dcdd-4e75-ead0-9f4158526b36"
      },
      "source": [
        "# Transformation function (TF) policy\n",
        "policy = ApplyOnePolicy(n_per_original=5, keep_original=True)\n",
        "tf_applier = PandasTFApplier([swap_aliases], policy)\n",
        "train_df_augmented = tf_applier.apply(train_df)\n",
        "train_df_augmented.drop_duplicates(subset=[\"text\"], inplace=True)\n",
        "train_df_augmented.head()"
      ],
      "execution_count": 76,
      "outputs": [
        {
          "output_type": "stream",
          "name": "stderr",
          "text": [
            "100%|██████████| 1005/1005 [00:21<00:00, 46.26it/s]\n"
          ]
        },
        {
          "output_type": "execute_result",
          "data": {
            "text/html": [
              "<div>\n",
              "<style scoped>\n",
              "    .dataframe tbody tr th:only-of-type {\n",
              "        vertical-align: middle;\n",
              "    }\n",
              "\n",
              "    .dataframe tbody tr th {\n",
              "        vertical-align: top;\n",
              "    }\n",
              "\n",
              "    .dataframe thead th {\n",
              "        text-align: right;\n",
              "    }\n",
              "</style>\n",
              "<table border=\"1\" class=\"dataframe\">\n",
              "  <thead>\n",
              "    <tr style=\"text-align: right;\">\n",
              "      <th></th>\n",
              "      <th>text</th>\n",
              "      <th>tags</th>\n",
              "    </tr>\n",
              "  </thead>\n",
              "  <tbody>\n",
              "    <tr>\n",
              "      <th>0</th>\n",
              "      <td>hugging face achieved 2x performance boost qa ...</td>\n",
              "      <td>[attention, huggingface, natural-language-proc...</td>\n",
              "    </tr>\n",
              "    <tr>\n",
              "      <th>0</th>\n",
              "      <td>hugging face achieved 2x performance boost qa ...</td>\n",
              "      <td>[attention, huggingface, natural-language-proc...</td>\n",
              "    </tr>\n",
              "    <tr>\n",
              "      <th>0</th>\n",
              "      <td>hugging face achieved 2x performance boost qa ...</td>\n",
              "      <td>[attention, huggingface, natural-language-proc...</td>\n",
              "    </tr>\n",
              "    <tr>\n",
              "      <th>0</th>\n",
              "      <td>hugging face achieved 2x performance boost qa ...</td>\n",
              "      <td>[attention, huggingface, natural-language-proc...</td>\n",
              "    </tr>\n",
              "    <tr>\n",
              "      <th>0</th>\n",
              "      <td>hugging face achieved 2x performance boost qa ...</td>\n",
              "      <td>[attention, huggingface, natural-language-proc...</td>\n",
              "    </tr>\n",
              "  </tbody>\n",
              "</table>\n",
              "</div>"
            ],
            "text/plain": [
              "                                                text                                               tags\n",
              "0  hugging face achieved 2x performance boost qa ...  [attention, huggingface, natural-language-proc...\n",
              "0  hugging face achieved 2x performance boost qa ...  [attention, huggingface, natural-language-proc...\n",
              "0  hugging face achieved 2x performance boost qa ...  [attention, huggingface, natural-language-proc...\n",
              "0  hugging face achieved 2x performance boost qa ...  [attention, huggingface, natural-language-proc...\n",
              "0  hugging face achieved 2x performance boost qa ...  [attention, huggingface, natural-language-proc..."
            ]
          },
          "metadata": {},
          "execution_count": 76
        }
      ]
    },
    {
      "cell_type": "code",
      "metadata": {
        "id": "UhCHE2eCnXf9",
        "colab": {
          "base_uri": "https://localhost:8080/"
        },
        "outputId": "1081208c-ae6b-46bd-ce0f-3904e219855f"
      },
      "source": [
        "len(train_df), len(train_df_augmented)"
      ],
      "execution_count": 77,
      "outputs": [
        {
          "output_type": "execute_result",
          "data": {
            "text/plain": [
              "(1005, 2062)"
            ]
          },
          "metadata": {},
          "execution_count": 77
        }
      ]
    },
    {
      "cell_type": "markdown",
      "metadata": {
        "id": "XAgm9USuoQUF"
      },
      "source": [
        "For now, we'll skip the data augmentation because it's quite fickle and empirically it doesn't improvement performance much. But we can see how this can be very effective once we can control what type of vocabulary to augment on and what exactly to augment with.\n",
        "\n",
        "> Regardless of what method we use, it's important to validate that we're not just augmenting for the sake of augmentation. We can do this by executing any existing [data validation tests](https://madewithml.com/courses/mlops/testing#data) and even creating specific tests to apply on augmented data."
      ]
    },
    {
      "cell_type": "markdown",
      "metadata": {
        "id": "lGvI2YuuNkSX"
      },
      "source": [
        "# 📈&nbsp; Modeling"
      ]
    },
    {
      "cell_type": "markdown",
      "metadata": {
        "id": "IdQjMSQgNkSX"
      },
      "source": [
        "We'll begin modeling by starting with the simplest baseline and slowly adding complexity."
      ]
    },
    {
      "cell_type": "code",
      "metadata": {
        "id": "C4O57X2dNkSY"
      },
      "source": [
        "from sklearn.metrics import precision_recall_fscore_support\n",
        "import torch"
      ],
      "execution_count": 78,
      "outputs": []
    },
    {
      "cell_type": "code",
      "metadata": {
        "id": "NXd8flJuNkSY"
      },
      "source": [
        "def set_seeds(seed=1234):\n",
        "    \"\"\"Set seeds for reproducibility.\"\"\"\n",
        "    np.random.seed(seed)\n",
        "    random.seed(seed)\n",
        "    torch.manual_seed(seed)\n",
        "    torch.cuda.manual_seed(seed)\n",
        "    torch.cuda.manual_seed_all(seed) # multi-GPU"
      ],
      "execution_count": 79,
      "outputs": []
    },
    {
      "cell_type": "code",
      "metadata": {
        "id": "jf_XCcSguF9o"
      },
      "source": [
        "def get_data_splits(df, train_size=0.7):\n",
        "    \"\"\"\"\"\"\n",
        "    # Get data\n",
        "    X = df.text.to_numpy()\n",
        "    y = df.tags\n",
        "\n",
        "    # Binarize y\n",
        "    label_encoder = LabelEncoder()\n",
        "    label_encoder.fit(y)\n",
        "    y = label_encoder.encode(y)\n",
        "\n",
        "    # Split\n",
        "    X_train, X_, y_train, y_ = iterative_train_test_split(\n",
        "        X, y, train_size=train_size)\n",
        "    X_val, X_test, y_val, y_test = iterative_train_test_split(\n",
        "        X_, y_, train_size=0.5)\n",
        "    \n",
        "    return X_train, X_val, X_test, y_train, y_val, y_test, label_encoder"
      ],
      "execution_count": 80,
      "outputs": []
    },
    {
      "cell_type": "code",
      "metadata": {
        "id": "6Q9C95ZAhJHv"
      },
      "source": [
        "class Trainer(object):\n",
        "    def __init__(self, model, device, loss_fn=None, optimizer=None, scheduler=None):\n",
        "\n",
        "        # Set params\n",
        "        self.model = model\n",
        "        self.device = device\n",
        "        self.loss_fn = loss_fn\n",
        "        self.optimizer = optimizer\n",
        "        self.scheduler = scheduler\n",
        "\n",
        "    def train_step(self, dataloader):\n",
        "        \"\"\"Train step.\"\"\"\n",
        "        # Set model to train mode\n",
        "        self.model.train()\n",
        "        loss = 0.0\n",
        "\n",
        "        # Iterate over train batches\n",
        "        for i, batch in enumerate(dataloader):\n",
        "\n",
        "            # Step\n",
        "            batch = [item.to(self.device) for item in batch]  # Set device\n",
        "            inputs, targets = batch[:-1], batch[-1]\n",
        "            self.optimizer.zero_grad()  # Reset gradients\n",
        "            z = self.model(inputs)  # Forward pass\n",
        "            J = self.loss_fn(z, targets)  # Define loss\n",
        "            J.backward()  # Backward pass\n",
        "            self.optimizer.step()  # Update weights\n",
        "\n",
        "            # Cumulative Metrics\n",
        "            loss += (J.detach().item() - loss) / (i + 1)\n",
        "\n",
        "        return loss\n",
        "\n",
        "    def eval_step(self, dataloader):\n",
        "        \"\"\"Validation or test step.\"\"\"\n",
        "        # Set model to eval mode\n",
        "        self.model.eval()\n",
        "        loss = 0.0\n",
        "        y_trues, y_probs = [], []\n",
        "\n",
        "        # Iterate over val batches\n",
        "        with torch.no_grad():\n",
        "            for i, batch in enumerate(dataloader):\n",
        "\n",
        "                # Step\n",
        "                batch = [item.to(self.device) for item in batch]  # Set device\n",
        "                inputs, y_true = batch[:-1], batch[-1]\n",
        "                z = self.model(inputs)  # Forward pass\n",
        "                J = self.loss_fn(z, y_true).item()\n",
        "\n",
        "                # Cumulative Metrics\n",
        "                loss += (J - loss) / (i + 1)\n",
        "\n",
        "                # Store outputs\n",
        "                y_prob = torch.sigmoid(z).cpu().numpy()\n",
        "                y_probs.extend(y_prob)\n",
        "                y_trues.extend(y_true.cpu().numpy())\n",
        "\n",
        "        return loss, np.vstack(y_trues), np.vstack(y_probs)\n",
        "\n",
        "    def predict_step(self, dataloader):\n",
        "        \"\"\"Prediction step.\"\"\"\n",
        "        # Set model to eval mode\n",
        "        self.model.eval()\n",
        "        y_probs = []\n",
        "\n",
        "        # Iterate over val batches\n",
        "        with torch.no_grad():\n",
        "            for i, batch in enumerate(dataloader):\n",
        "\n",
        "                # Forward pass w/ inputs\n",
        "                inputs, targets = batch[:-1], batch[-1]\n",
        "                z = self.model(inputs)\n",
        "\n",
        "                # Store outputs\n",
        "                y_prob = torch.sigmoid(z).cpu().numpy()\n",
        "                y_probs.extend(y_prob)\n",
        "\n",
        "        return np.vstack(y_probs)\n",
        "    \n",
        "    def train(self, num_epochs, patience, train_dataloader, val_dataloader, \n",
        "              tolerance=1e-5):\n",
        "        best_val_loss = np.inf\n",
        "        for epoch in range(num_epochs):\n",
        "            # Steps\n",
        "            train_loss = self.train_step(dataloader=train_dataloader)\n",
        "            val_loss, _, _ = self.eval_step(dataloader=val_dataloader)\n",
        "            self.scheduler.step(val_loss)\n",
        "\n",
        "            # Early stopping\n",
        "            if val_loss < best_val_loss - tolerance:\n",
        "                best_val_loss = val_loss\n",
        "                best_model = self.model\n",
        "                _patience = patience  # reset _patience\n",
        "            else:\n",
        "                _patience -= 1\n",
        "            if not _patience:  # 0\n",
        "                print(\"Stopping early!\")\n",
        "                break\n",
        "\n",
        "            # Logging\n",
        "            print(\n",
        "                f\"Epoch: {epoch+1} | \"\n",
        "                f\"train_loss: {train_loss:.5f}, \"\n",
        "                f\"val_loss: {val_loss:.5f}, \"\n",
        "                f\"lr: {self.optimizer.param_groups[0]['lr']:.2E}, \"\n",
        "                f\"_patience: {_patience}\"\n",
        "            )\n",
        "        return best_model"
      ],
      "execution_count": 81,
      "outputs": []
    },
    {
      "cell_type": "markdown",
      "metadata": {
        "id": "fAQjRWHCNkSY"
      },
      "source": [
        "## Random"
      ]
    },
    {
      "cell_type": "markdown",
      "metadata": {
        "id": "StAbvxEGkSmS"
      },
      "source": [
        "<u><i>motivation</i></u>: We want to know what random (chance) performance looks like. All of our efforts should be well above this."
      ]
    },
    {
      "cell_type": "code",
      "metadata": {
        "id": "Y6R-g-5INkSY"
      },
      "source": [
        "# Set seeds\n",
        "set_seeds()"
      ],
      "execution_count": 82,
      "outputs": []
    },
    {
      "cell_type": "code",
      "metadata": {
        "id": "SIYPLUMnNkSY"
      },
      "source": [
        "# Get data splits\n",
        "preprocessed_df = df.copy()\n",
        "preprocessed_df.text = preprocessed_df.text.apply(preprocess, lower=True)\n",
        "X_train, X_val, X_test, y_train, y_val, y_test, label_encoder = get_data_splits(preprocessed_df)"
      ],
      "execution_count": 83,
      "outputs": []
    },
    {
      "cell_type": "code",
      "metadata": {
        "id": "_UWsFo8cNkSY",
        "colab": {
          "base_uri": "https://localhost:8080/"
        },
        "outputId": "09d31436-1b1c-4585-d9da-c628bc0d0b5a"
      },
      "source": [
        "# Label encoder\n",
        "print (label_encoder)\n",
        "print (label_encoder.classes)"
      ],
      "execution_count": 84,
      "outputs": [
        {
          "output_type": "stream",
          "name": "stdout",
          "text": [
            "<LabelEncoder(num_classes=34)>\n",
            "['attention', 'autoencoders', 'computer-vision', 'convolutional-neural-networks', 'data-augmentation', 'embeddings', 'flask', 'generative-adversarial-networks', 'graph-neural-networks', 'graphs', 'huggingface', 'image-classification', 'interpretability', 'keras', 'language-modeling', 'natural-language-processing', 'node-classification', 'object-detection', 'pretraining', 'production', 'pytorch', 'question-answering', 'regression', 'reinforcement-learning', 'representation-learning', 'scikit-learn', 'segmentation', 'self-supervised-learning', 'tensorflow', 'tensorflow-js', 'time-series', 'transfer-learning', 'transformers', 'unsupervised-learning']\n"
          ]
        }
      ]
    },
    {
      "cell_type": "code",
      "metadata": {
        "id": "YXTrB3ToNkSY",
        "colab": {
          "base_uri": "https://localhost:8080/"
        },
        "outputId": "5e7978a6-015b-4b04-9dbc-4f98626bc720"
      },
      "source": [
        "# Generate random predictions\n",
        "y_pred = np.random.randint(low=0, high=2, size=(len(y_test), len(label_encoder.classes)))\n",
        "print (y_pred.shape)\n",
        "print (y_pred[0:5])"
      ],
      "execution_count": 85,
      "outputs": [
        {
          "output_type": "stream",
          "name": "stdout",
          "text": [
            "(218, 34)\n",
            "[[1 1 1 0 0 1 1 1 0 0 0 1 1 0 0 1 1 1 0 1 1 1 1 1 1 0 0 1 0 1 1 0 1 1]\n",
            " [0 0 0 1 0 1 0 0 0 0 0 1 1 1 1 1 0 1 1 1 1 0 1 1 1 1 1 0 1 1 0 1 0 0]\n",
            " [0 0 1 1 1 1 1 0 1 0 0 0 1 1 1 0 0 1 1 1 0 0 1 0 0 1 1 1 1 1 0 1 1 0]\n",
            " [0 1 0 0 1 1 0 1 1 0 1 1 0 0 1 1 0 1 1 0 1 1 1 0 0 0 1 1 1 0 1 1 0 0]\n",
            " [0 1 0 0 1 1 0 0 0 1 1 1 0 1 1 0 1 0 1 1 0 1 1 1 0 0 1 0 1 1 1 1 1 1]]\n"
          ]
        }
      ]
    },
    {
      "cell_type": "code",
      "metadata": {
        "id": "tAAoXyNANkSY",
        "colab": {
          "base_uri": "https://localhost:8080/"
        },
        "outputId": "40f430f1-885c-4b9b-c18a-596ef3c62fcb"
      },
      "source": [
        "# Evaluate\n",
        "metrics = precision_recall_fscore_support(y_test, y_pred, average=\"weighted\")\n",
        "performance = {\"precision\": metrics[0], \"recall\": metrics[1], \"f1\": metrics[2]}\n",
        "print (json.dumps(performance, indent=2))"
      ],
      "execution_count": 86,
      "outputs": [
        {
          "output_type": "stream",
          "name": "stdout",
          "text": [
            "{\n",
            "  \"precision\": 0.1280350066470929,\n",
            "  \"recall\": 0.5278969957081545,\n",
            "  \"f1\": 0.1868875872691634\n",
            "}\n"
          ]
        }
      ]
    },
    {
      "cell_type": "markdown",
      "metadata": {
        "id": "BLzOP5fIkYWl"
      },
      "source": [
        "We made the assumption that there is an equal probability for whether an input has a tag or not but this isn't true. Let's use the **train split** to figure out what the true probability is."
      ]
    },
    {
      "cell_type": "code",
      "metadata": {
        "id": "pN6tq9z6iW7a",
        "colab": {
          "base_uri": "https://localhost:8080/"
        },
        "outputId": "9be38475-4e80-4c1f-ae63-96022523ec08"
      },
      "source": [
        "# Percentage of 1s (tag presence)\n",
        "tag_p = np.sum(np.sum(y_train)) / (len(y_train) * len(label_encoder.classes))\n",
        "print (tag_p)"
      ],
      "execution_count": 87,
      "outputs": [
        {
          "output_type": "stream",
          "name": "stdout",
          "text": [
            "0.06353526485220955\n"
          ]
        }
      ]
    },
    {
      "cell_type": "code",
      "metadata": {
        "id": "vInlz4R1iA4i"
      },
      "source": [
        "# Generate weighted random predictions\n",
        "y_pred = np.random.choice(\n",
        "    np.arange(0, 2), size=(len(y_test), len(label_encoder.classes)), \n",
        "    p=[1-tag_p, tag_p])"
      ],
      "execution_count": 88,
      "outputs": []
    },
    {
      "cell_type": "code",
      "metadata": {
        "id": "_LnLd-Arj5t0",
        "colab": {
          "base_uri": "https://localhost:8080/"
        },
        "outputId": "5e09c3d2-1f15-41e1-e467-4aeb3b04a759"
      },
      "source": [
        "# Validate percentage\n",
        "np.sum(np.sum(y_pred)) / (len(y_pred) * len(label_encoder.classes))"
      ],
      "execution_count": 89,
      "outputs": [
        {
          "output_type": "execute_result",
          "data": {
            "text/plain": [
              "0.0635456017269293"
            ]
          },
          "metadata": {},
          "execution_count": 89
        }
      ]
    },
    {
      "cell_type": "code",
      "metadata": {
        "id": "hpfBiruhkJME",
        "colab": {
          "base_uri": "https://localhost:8080/"
        },
        "outputId": "6041b1d3-1202-4807-eb79-1ce90d3553b4"
      },
      "source": [
        "# Evaluate\n",
        "metrics = precision_recall_fscore_support(y_test, y_pred, average=\"weighted\")\n",
        "performance = {\"precision\": metrics[0], \"recall\": metrics[1], \"f1\": metrics[2]}\n",
        "print (json.dumps(performance, indent=2))"
      ],
      "execution_count": 90,
      "outputs": [
        {
          "output_type": "stream",
          "name": "stdout",
          "text": [
            "{\n",
            "  \"precision\": 0.12591336298417846,\n",
            "  \"recall\": 0.07296137339055794,\n",
            "  \"f1\": 0.0755483654242547\n",
            "}\n"
          ]
        }
      ]
    },
    {
      "cell_type": "markdown",
      "metadata": {
        "id": "YC9ConMQlPgg"
      },
      "source": [
        "<u><i>limitations</i></u>: we didn't use the tokens in our input to affect our predictions so nothing was learned."
      ]
    },
    {
      "cell_type": "markdown",
      "metadata": {
        "id": "OVzBKdt3NkSY"
      },
      "source": [
        "## Rule-based"
      ]
    },
    {
      "cell_type": "markdown",
      "metadata": {
        "id": "u_XWLBgQlSn-"
      },
      "source": [
        "<u><i>motivation</i></u>: we want to use signals in our inputs (along with domain expertise and auxiliary data) to determine the labels."
      ]
    },
    {
      "cell_type": "code",
      "metadata": {
        "id": "nXlgWoyFNkSY"
      },
      "source": [
        "# Set seeds\n",
        "set_seeds()"
      ],
      "execution_count": 91,
      "outputs": []
    },
    {
      "cell_type": "markdown",
      "metadata": {
        "id": "2RzG44f6mx_4"
      },
      "source": [
        "### Unstemmed"
      ]
    },
    {
      "cell_type": "code",
      "metadata": {
        "id": "ZhXtWZcgmxWW"
      },
      "source": [
        "# Get data splits\n",
        "preprocessed_df = df.copy()\n",
        "preprocessed_df.text = preprocessed_df.text.apply(preprocess, lower=True)\n",
        "X_train, X_val, X_test, y_train, y_val, y_test, label_encoder = get_data_splits(preprocessed_df)"
      ],
      "execution_count": 92,
      "outputs": []
    },
    {
      "cell_type": "code",
      "metadata": {
        "id": "3N961xapm1wS",
        "colab": {
          "base_uri": "https://localhost:8080/"
        },
        "outputId": "6413b85e-eb3c-447d-a251-2b930d1e4b16"
      },
      "source": [
        "# Restrict to relevant tags\n",
        "print (len(tags_dict))\n",
        "tags_dict = {tag: tags_dict[tag] for tag in label_encoder.classes}\n",
        "print (len(tags_dict))"
      ],
      "execution_count": 93,
      "outputs": [
        {
          "output_type": "stream",
          "name": "stdout",
          "text": [
            "400\n",
            "34\n"
          ]
        }
      ]
    },
    {
      "cell_type": "code",
      "metadata": {
        "id": "8sN9-ZfEm10i",
        "colab": {
          "base_uri": "https://localhost:8080/"
        },
        "outputId": "659ad24f-9f55-4062-d2fb-564c652087ab"
      },
      "source": [
        "# Map aliases\n",
        "aliases = {}\n",
        "for tag, values in tags_dict.items():\n",
        "    aliases[preprocess(tag)] = tag\n",
        "    for alias in values[\"aliases\"]:\n",
        "        aliases[preprocess(alias)] = tag\n",
        "aliases"
      ],
      "execution_count": 94,
      "outputs": [
        {
          "output_type": "execute_result",
          "data": {
            "text/plain": [
              "{'ae': 'autoencoders',\n",
              " 'attention': 'attention',\n",
              " 'autoencoders': 'autoencoders',\n",
              " 'cnn': 'convolutional-neural-networks',\n",
              " 'computer vision': 'computer-vision',\n",
              " 'convolutional neural networks': 'convolutional-neural-networks',\n",
              " 'cv': 'computer-vision',\n",
              " 'data augmentation': 'data-augmentation',\n",
              " 'embeddings': 'embeddings',\n",
              " 'flask': 'flask',\n",
              " 'gan': 'generative-adversarial-networks',\n",
              " 'generative adversarial networks': 'generative-adversarial-networks',\n",
              " 'gnn': 'graph-neural-networks',\n",
              " 'graph neural networks': 'graph-neural-networks',\n",
              " 'graphs': 'graphs',\n",
              " 'huggingface': 'huggingface',\n",
              " 'image classification': 'image-classification',\n",
              " 'image segmentation': 'segmentation',\n",
              " 'interpretability': 'interpretability',\n",
              " 'keras': 'keras',\n",
              " 'language modeling': 'language-modeling',\n",
              " 'lm': 'language-modeling',\n",
              " 'natural language processing': 'natural-language-processing',\n",
              " 'nlp': 'natural-language-processing',\n",
              " 'nlproc': 'natural-language-processing',\n",
              " 'node classification': 'node-classification',\n",
              " 'object detection': 'object-detection',\n",
              " 'pre training': 'pretraining',\n",
              " 'pretraining': 'pretraining',\n",
              " 'production': 'production',\n",
              " 'pytorch': 'pytorch',\n",
              " 'qa': 'question-answering',\n",
              " 'question answering': 'question-answering',\n",
              " 'regression': 'regression',\n",
              " 'reinforcement learning': 'reinforcement-learning',\n",
              " 'representation learning': 'representation-learning',\n",
              " 'rl': 'reinforcement-learning',\n",
              " 'scikit learn': 'scikit-learn',\n",
              " 'segmentation': 'segmentation',\n",
              " 'self supervised learning': 'self-supervised-learning',\n",
              " 'sklearn': 'scikit-learn',\n",
              " 'tensorflow': 'tensorflow',\n",
              " 'tensorflow js': 'tensorflow-js',\n",
              " 'tf': 'tensorflow',\n",
              " 'tf js': 'tensorflow-js',\n",
              " 'time series': 'time-series',\n",
              " 'time series analysis': 'time-series',\n",
              " 'transfer learning': 'transfer-learning',\n",
              " 'transformers': 'transformers',\n",
              " 'unsupervised learning': 'unsupervised-learning',\n",
              " 'vision': 'computer-vision'}"
            ]
          },
          "metadata": {},
          "execution_count": 94
        }
      ]
    },
    {
      "cell_type": "code",
      "metadata": {
        "id": "ntVJvdVBm14U"
      },
      "source": [
        "def get_classes(text, aliases, tags_dict):\n",
        "    \"\"\"If a token matches an alias, \n",
        "    then add the corresponding tag\n",
        "    class (and parent tags if any).\"\"\"\n",
        "    classes = []\n",
        "    for alias, tag in aliases.items():\n",
        "        if alias in text:\n",
        "            classes.append(tag)\n",
        "            for parent in tags_dict[tag][\"parents\"]:\n",
        "                classes.append(parent)\n",
        "    return list(set(classes))"
      ],
      "execution_count": 95,
      "outputs": []
    },
    {
      "cell_type": "code",
      "metadata": {
        "id": "cKHKKwNCnBzX",
        "colab": {
          "base_uri": "https://localhost:8080/"
        },
        "outputId": "c0a67f7c-d0ef-4240-e92a-e9705f360782"
      },
      "source": [
        "# Sample\n",
        "text = \"This project extends gans for data augmentation specifically for object detection tasks.\"\n",
        "get_classes(text=preprocess(text), aliases=aliases, tags_dict=tags_dict)"
      ],
      "execution_count": 96,
      "outputs": [
        {
          "output_type": "execute_result",
          "data": {
            "text/plain": [
              "['data-augmentation',\n",
              " 'object-detection',\n",
              " 'computer-vision',\n",
              " 'generative-adversarial-networks']"
            ]
          },
          "metadata": {},
          "execution_count": 96
        }
      ]
    },
    {
      "cell_type": "code",
      "metadata": {
        "id": "LD-w5gcjnB29"
      },
      "source": [
        "# Prediction\n",
        "y_pred = []\n",
        "for text in X_test:\n",
        "    classes = get_classes(text, aliases, tags_dict)\n",
        "    y_pred.append(classes)"
      ],
      "execution_count": 97,
      "outputs": []
    },
    {
      "cell_type": "code",
      "metadata": {
        "id": "YEcszZaGnZye"
      },
      "source": [
        "# Encode labels\n",
        "y_pred = label_encoder.encode(y_pred)"
      ],
      "execution_count": 98,
      "outputs": []
    },
    {
      "cell_type": "code",
      "metadata": {
        "id": "erYMwIffnB66",
        "colab": {
          "base_uri": "https://localhost:8080/"
        },
        "outputId": "2c31485c-3fc1-4074-ad59-61af9369736e"
      },
      "source": [
        "# Evaluate\n",
        "metrics = precision_recall_fscore_support(y_test, y_pred, average=\"weighted\")\n",
        "performance = {\"precision\": metrics[0], \"recall\": metrics[1], \"f1\": metrics[2]}\n",
        "print (json.dumps(performance, indent=2))"
      ],
      "execution_count": 99,
      "outputs": [
        {
          "output_type": "stream",
          "name": "stdout",
          "text": [
            "{\n",
            "  \"precision\": 0.9017638834698921,\n",
            "  \"recall\": 0.41630901287553645,\n",
            "  \"f1\": 0.540141158180418\n",
            "}\n"
          ]
        }
      ]
    },
    {
      "cell_type": "markdown",
      "metadata": {
        "id": "bKbvhmgam2yG"
      },
      "source": [
        "### Stemmed"
      ]
    },
    {
      "cell_type": "markdown",
      "metadata": {
        "id": "id2HJmqXnxPr"
      },
      "source": [
        "We're looking for exact matches with the aliases which isn't always perfect, for example:"
      ]
    },
    {
      "cell_type": "code",
      "metadata": {
        "id": "dcr2o2HjoI_O",
        "colab": {
          "base_uri": "https://localhost:8080/"
        },
        "outputId": "6021bd92-152c-4e05-e58f-ed4774fe6f1c"
      },
      "source": [
        "print (aliases[preprocess(\"gan\")])\n",
        "# print (aliases[preprocess(\"gans\")]) # this won't find any match\n",
        "print (aliases[preprocess(\"generative adversarial networks\")])\n",
        "# print (aliases[preprocess(\"generative adversarial network\")]) # this won't find any match"
      ],
      "execution_count": 100,
      "outputs": [
        {
          "output_type": "stream",
          "name": "stdout",
          "text": [
            "generative-adversarial-networks\n",
            "generative-adversarial-networks\n"
          ]
        }
      ]
    },
    {
      "cell_type": "markdown",
      "metadata": {
        "id": "Gjv6GFJZoV6x"
      },
      "source": [
        "We don't want to keep adding explicit rules but we can use [stemming](https://nlp.stanford.edu/IR-book/html/htmledition/stemming-and-lemmatization-1.html) to represent different forms of a word uniformly, for example:"
      ]
    },
    {
      "cell_type": "code",
      "metadata": {
        "id": "w8YcWdTqpagt",
        "colab": {
          "base_uri": "https://localhost:8080/"
        },
        "outputId": "b7b5a56e-2511-4220-a702-169b48dddf3b"
      },
      "source": [
        "print (porter.stem(\"democracy\"))\n",
        "print (porter.stem(\"democracies\"))"
      ],
      "execution_count": 101,
      "outputs": [
        {
          "output_type": "stream",
          "name": "stdout",
          "text": [
            "democraci\n",
            "democraci\n"
          ]
        }
      ]
    },
    {
      "cell_type": "markdown",
      "metadata": {
        "id": "EKCMUotL9wLr"
      },
      "source": [
        "So let's now stem our aliases as well as the tokens in our input text and then look for matches:"
      ]
    },
    {
      "cell_type": "code",
      "metadata": {
        "id": "8BnfNEsf3YQB"
      },
      "source": [
        "# Get data splits\n",
        "preprocessed_df = df.copy()\n",
        "preprocessed_df.text = preprocessed_df.text.apply(preprocess, lower=True, stem=True)\n",
        "X_train, X_val, X_test, y_train, y_val, y_test, label_encoder = get_data_splits(preprocessed_df)"
      ],
      "execution_count": 102,
      "outputs": []
    },
    {
      "cell_type": "code",
      "metadata": {
        "id": "3J4YQRZ_NkSY",
        "colab": {
          "base_uri": "https://localhost:8080/"
        },
        "outputId": "26776c94-917c-43c1-c37c-47ff83684cef"
      },
      "source": [
        "# Map aliases\n",
        "aliases = {}\n",
        "for tag, values in tags_dict.items():\n",
        "    aliases[preprocess(tag, stem=True)] = tag\n",
        "    for alias in values[\"aliases\"]:\n",
        "        aliases[preprocess(alias, stem=True)] = tag\n",
        "aliases"
      ],
      "execution_count": 103,
      "outputs": [
        {
          "output_type": "execute_result",
          "data": {
            "text/plain": [
              "{'ae': 'autoencoders',\n",
              " 'attent': 'attention',\n",
              " 'autoencod': 'autoencoders',\n",
              " 'cnn': 'convolutional-neural-networks',\n",
              " 'comput vision': 'computer-vision',\n",
              " 'convolut neural network': 'convolutional-neural-networks',\n",
              " 'cv': 'computer-vision',\n",
              " 'data augment': 'data-augmentation',\n",
              " 'embed': 'embeddings',\n",
              " 'flask': 'flask',\n",
              " 'gan': 'generative-adversarial-networks',\n",
              " 'gener adversari network': 'generative-adversarial-networks',\n",
              " 'gnn': 'graph-neural-networks',\n",
              " 'graph': 'graphs',\n",
              " 'graph neural network': 'graph-neural-networks',\n",
              " 'huggingfac': 'huggingface',\n",
              " 'imag classif': 'image-classification',\n",
              " 'imag segment': 'segmentation',\n",
              " 'interpret': 'interpretability',\n",
              " 'kera': 'keras',\n",
              " 'languag model': 'language-modeling',\n",
              " 'lm': 'language-modeling',\n",
              " 'natur languag process': 'natural-language-processing',\n",
              " 'nlp': 'natural-language-processing',\n",
              " 'nlproc': 'natural-language-processing',\n",
              " 'node classif': 'node-classification',\n",
              " 'object detect': 'object-detection',\n",
              " 'pre train': 'pretraining',\n",
              " 'pretrain': 'pretraining',\n",
              " 'product': 'production',\n",
              " 'pytorch': 'pytorch',\n",
              " 'qa': 'question-answering',\n",
              " 'question answer': 'question-answering',\n",
              " 'regress': 'regression',\n",
              " 'reinforc learn': 'reinforcement-learning',\n",
              " 'represent learn': 'representation-learning',\n",
              " 'rl': 'reinforcement-learning',\n",
              " 'scikit learn': 'scikit-learn',\n",
              " 'segment': 'segmentation',\n",
              " 'self supervis learn': 'self-supervised-learning',\n",
              " 'sklearn': 'scikit-learn',\n",
              " 'tensorflow': 'tensorflow',\n",
              " 'tensorflow js': 'tensorflow-js',\n",
              " 'tf': 'tensorflow',\n",
              " 'tf js': 'tensorflow-js',\n",
              " 'time seri': 'time-series',\n",
              " 'time seri analysi': 'time-series',\n",
              " 'transfer learn': 'transfer-learning',\n",
              " 'transform': 'transformers',\n",
              " 'unsupervis learn': 'unsupervised-learning',\n",
              " 'vision': 'computer-vision'}"
            ]
          },
          "metadata": {},
          "execution_count": 103
        }
      ]
    },
    {
      "cell_type": "code",
      "metadata": {
        "id": "Qx-tmDpbNkSY",
        "colab": {
          "base_uri": "https://localhost:8080/"
        },
        "outputId": "c0660be9-0bd5-4015-c38c-57d87d335e9a"
      },
      "source": [
        "# Checks (we will write proper tests soon)\n",
        "print (aliases[preprocess(\"gan\", stem=True)])\n",
        "print (aliases[preprocess(\"gans\", stem=True)])\n",
        "print (aliases[preprocess(\"generative adversarial network\", stem=True)])\n",
        "print (aliases[preprocess(\"generative adversarial networks\", stem=True)])"
      ],
      "execution_count": 104,
      "outputs": [
        {
          "output_type": "stream",
          "name": "stdout",
          "text": [
            "generative-adversarial-networks\n",
            "generative-adversarial-networks\n",
            "generative-adversarial-networks\n",
            "generative-adversarial-networks\n"
          ]
        }
      ]
    },
    {
      "cell_type": "code",
      "metadata": {
        "id": "oXoeXojANkSY",
        "colab": {
          "base_uri": "https://localhost:8080/"
        },
        "outputId": "2ad919d8-3151-4406-84cb-ee526e872e5b"
      },
      "source": [
        "# Sample\n",
        "text = \"This project extends gans for data augmentation specifically for object detection tasks.\"\n",
        "get_classes(text=preprocess(text, stem=True), aliases=aliases, tags_dict=tags_dict)"
      ],
      "execution_count": 105,
      "outputs": [
        {
          "output_type": "execute_result",
          "data": {
            "text/plain": [
              "['data-augmentation',\n",
              " 'object-detection',\n",
              " 'computer-vision',\n",
              " 'generative-adversarial-networks']"
            ]
          },
          "metadata": {},
          "execution_count": 105
        }
      ]
    },
    {
      "cell_type": "code",
      "metadata": {
        "id": "5mw2GDgLNkSY"
      },
      "source": [
        "# Prediction\n",
        "y_pred = []\n",
        "for text in X_test:\n",
        "    classes = get_classes(text, aliases, tags_dict)\n",
        "    y_pred.append(classes)"
      ],
      "execution_count": 106,
      "outputs": []
    },
    {
      "cell_type": "code",
      "metadata": {
        "id": "YcOkiIEXNkSY"
      },
      "source": [
        "# Encode labels\n",
        "y_pred = label_encoder.encode(y_pred)"
      ],
      "execution_count": 107,
      "outputs": []
    },
    {
      "cell_type": "code",
      "metadata": {
        "id": "S0UobHBcNkSY",
        "colab": {
          "base_uri": "https://localhost:8080/"
        },
        "outputId": "0b2fdea7-66e5-4934-8235-084572c0c84d"
      },
      "source": [
        "# Evaluate\n",
        "metrics = precision_recall_fscore_support(y_test, y_pred, average=\"weighted\")\n",
        "performance = {\"precision\": metrics[0], \"recall\": metrics[1], \"f1\": metrics[2]}\n",
        "print (json.dumps(performance, indent=2))"
      ],
      "execution_count": 108,
      "outputs": [
        {
          "output_type": "stream",
          "name": "stdout",
          "text": [
            "{\n",
            "  \"precision\": 0.9227430155421183,\n",
            "  \"recall\": 0.5042372881355932,\n",
            "  \"f1\": 0.6224462121231937\n",
            "}\n"
          ]
        }
      ]
    },
    {
      "cell_type": "markdown",
      "metadata": {
        "id": "8qdSlJCMfyBT"
      },
      "source": [
        "A nice improvement from the unstemmed approach! This is because rule-based approaches can yield labels with high certainty when there is an absolute condition match but it fails to generalize or learn implicit patterns."
      ]
    },
    {
      "cell_type": "markdown",
      "metadata": {
        "id": "xjoBs0D8VI23"
      },
      "source": [
        "### Inference"
      ]
    },
    {
      "cell_type": "code",
      "metadata": {
        "id": "8j4iNdkfVLRX",
        "colab": {
          "base_uri": "https://localhost:8080/"
        },
        "outputId": "908f31ab-6152-48f4-9e96-7023e3af591f"
      },
      "source": [
        "# Infer\n",
        "text = \"Transfer learning with transformers for self-supervised learning\"\n",
        "print (preprocess(text, stem=True))\n",
        "get_classes(text=preprocess(text, stem=True), aliases=aliases, tags_dict=tags_dict)"
      ],
      "execution_count": 109,
      "outputs": [
        {
          "output_type": "stream",
          "name": "stdout",
          "text": [
            "transfer learn transform self supervis learn\n"
          ]
        },
        {
          "output_type": "execute_result",
          "data": {
            "text/plain": [
              "['transformers', 'self-supervised-learning', 'transfer-learning']"
            ]
          },
          "metadata": {},
          "execution_count": 109
        }
      ]
    },
    {
      "cell_type": "markdown",
      "metadata": {
        "id": "VSvxZVVcFFMO"
      },
      "source": [
        "Now let's see what happens when we replace the word *transformers* with *BERT*. Sure we can add this as an alias but we can't keep doing this. This is where it makes sense to learn from the data as opposed to creating explicit rules."
      ]
    },
    {
      "cell_type": "code",
      "metadata": {
        "id": "k7cWn6Fgfxp2",
        "colab": {
          "base_uri": "https://localhost:8080/"
        },
        "outputId": "aa3f07a9-1be8-4e70-fa41-f5831d9fe301"
      },
      "source": [
        "# Infer\n",
        "text = \"Transfer learning with BERT for self-supervised learning\"\n",
        "print (preprocess(text, stem=True))\n",
        "get_classes(text=preprocess(text, stem=True), aliases=aliases, tags_dict=tags_dict)"
      ],
      "execution_count": 110,
      "outputs": [
        {
          "output_type": "stream",
          "name": "stdout",
          "text": [
            "transfer learn bert self supervis learn\n"
          ]
        },
        {
          "output_type": "execute_result",
          "data": {
            "text/plain": [
              "['self-supervised-learning', 'transfer-learning']"
            ]
          },
          "metadata": {},
          "execution_count": 110
        }
      ]
    },
    {
      "cell_type": "markdown",
      "metadata": {
        "id": "qdzlfoIzloqc"
      },
      "source": [
        "<u><i>limitations</i></u>: we failed to generalize or learn any implicit patterns to predict the labels because we treat the tokens in our input as isolated entities."
      ]
    },
    {
      "cell_type": "markdown",
      "metadata": {
        "id": "q6rPM9Q8fX3-"
      },
      "source": [
        "> We would ideally spend more time tuning our model because it's so simple and quick to train. This approach also applies to all the other models we'll look at as well."
      ]
    },
    {
      "cell_type": "markdown",
      "metadata": {
        "id": "eoa5oVgaNkSZ"
      },
      "source": [
        "## Simple ML"
      ]
    },
    {
      "cell_type": "markdown",
      "metadata": {
        "id": "Yqg_kc3VmHb9"
      },
      "source": [
        "<u><i>motivation</i></u>:\n",
        "- *representation*: use term frequency-inverse document frequency [(TF-IDF)](https://en.wikipedia.org/wiki/Tf%E2%80%93idf) to capture the significance of a token to a particular input with respect to all the inputs, as opposed to treating the words in our input text as isolated tokens.\n",
        "- *architecture*: we want our model to meaningfully extract the encoded signal to predict the output labels."
      ]
    },
    {
      "cell_type": "markdown",
      "metadata": {
        "id": "KOJW4AONNkSZ"
      },
      "source": [
        "So far we've treated the words in our input text as isolated tokens and we haven't really captured any meaning between tokens. Let's use term frequency–inverse document frequency (**TF-IDF**) to capture the significance of a token to a particular input with respect to all the inputs.\n",
        "\n",
        "$$ w_{i, j} = \\text{tf}_{i, j} * log(\\frac{N}{\\text{df}_i}) $$\n",
        "\n",
        "$$ w_{i, j}: \\text{tf-idf weight for term i in document j} $$\n",
        "$$ \\text{tf}_{i, j}: \\text{# of times term i appear in document j} $$\n",
        "$$ N: \\text{total # of documents} $$\n",
        "$$ {\\text{df}_i}: \\text{# of documents with token i} $$"
      ]
    },
    {
      "cell_type": "code",
      "metadata": {
        "id": "BiRzEi9iNkSZ"
      },
      "source": [
        "from sklearn.ensemble import RandomForestClassifier\n",
        "from sklearn.ensemble import GradientBoostingClassifier\n",
        "from sklearn.linear_model import LogisticRegression\n",
        "from sklearn.multiclass import OneVsRestClassifier\n",
        "from sklearn.neighbors import KNeighborsClassifier\n",
        "from sklearn.svm import LinearSVC"
      ],
      "execution_count": 111,
      "outputs": []
    },
    {
      "cell_type": "code",
      "metadata": {
        "id": "J2P0kMvKNkSZ"
      },
      "source": [
        "from sklearn import metrics\n",
        "from sklearn.feature_extraction.text import TfidfVectorizer\n",
        "from sklearn.metrics import accuracy_score, precision_score, recall_score\n",
        "from sklearn.metrics import precision_recall_curve\n",
        "from sklearn.preprocessing import MultiLabelBinarizer"
      ],
      "execution_count": 112,
      "outputs": []
    },
    {
      "cell_type": "code",
      "metadata": {
        "id": "SrJ6fqmlNkSZ"
      },
      "source": [
        "# Set seeds\n",
        "set_seeds()"
      ],
      "execution_count": 113,
      "outputs": []
    },
    {
      "cell_type": "code",
      "metadata": {
        "id": "tIaiaykFNkSZ"
      },
      "source": [
        "# Get data splits\n",
        "preprocessed_df = df.copy()\n",
        "preprocessed_df.text = preprocessed_df.text.apply(preprocess, lower=True, stem=True)\n",
        "X_train, X_val, X_test, y_train, y_val, y_test, label_encoder = get_data_splits(preprocessed_df)"
      ],
      "execution_count": 114,
      "outputs": []
    },
    {
      "cell_type": "code",
      "metadata": {
        "id": "ipggqVfzNkSZ",
        "colab": {
          "base_uri": "https://localhost:8080/"
        },
        "outputId": "0e3f12d1-fc5a-4a22-8276-a04ff5f4f86f"
      },
      "source": [
        "# Tf-idf\n",
        "vectorizer = TfidfVectorizer()\n",
        "print (X_train[0])\n",
        "X_train = vectorizer.fit_transform(X_train)\n",
        "X_val = vectorizer.transform(X_val)\n",
        "X_test = vectorizer.transform(X_test)\n",
        "print (X_train.shape)\n",
        "print (X_train[0]) # scipy.sparse.csr_matrix"
      ],
      "execution_count": 115,
      "outputs": [
        {
          "output_type": "stream",
          "name": "stdout",
          "text": [
            "hug face achiev 2x perform boost qa question answer distilbert node js\n",
            "(1005, 2653)\n",
            "  (0, 1289)\t0.2718324087174405\n",
            "  (0, 1631)\t0.2851661041382109\n",
            "  (0, 705)\t0.3463535783559961\n",
            "  (0, 157)\t0.26455983648877696\n",
            "  (0, 1909)\t0.24283657202400125\n",
            "  (0, 1899)\t0.3111269311366786\n",
            "  (0, 316)\t0.3111269311366786\n",
            "  (0, 1753)\t0.2276667675435046\n",
            "  (0, 35)\t0.3463535783559961\n",
            "  (0, 72)\t0.2851661041382109\n",
            "  (0, 869)\t0.2474598768972582\n",
            "  (0, 1145)\t0.296506551566795\n"
          ]
        }
      ]
    },
    {
      "cell_type": "code",
      "metadata": {
        "id": "fEShazTUNkSZ"
      },
      "source": [
        "def fit_and_evaluate(model):\n",
        "    \"\"\"Fit and evaluate each model.\"\"\"\n",
        "    model.fit(X_train, y_train)\n",
        "    y_pred = model.predict(X_test)\n",
        "    metrics = precision_recall_fscore_support(y_test, y_pred, average=\"weighted\")\n",
        "    return {\"precision\": metrics[0], \"recall\": metrics[1], \"f1\": metrics[2]}"
      ],
      "execution_count": 116,
      "outputs": []
    },
    {
      "cell_type": "code",
      "metadata": {
        "id": "3YN1FqKrNkSZ",
        "colab": {
          "base_uri": "https://localhost:8080/"
        },
        "outputId": "a23755e4-ec65-4ec0-8e84-246a8f6441a6"
      },
      "source": [
        "# Models\n",
        "performance = {}\n",
        "performance[\"logistic-regression\"] = fit_and_evaluate(OneVsRestClassifier(\n",
        "    LogisticRegression(), n_jobs=1))\n",
        "performance[\"k-nearest-neighbors\"] = fit_and_evaluate(\n",
        "    KNeighborsClassifier())\n",
        "performance[\"random-forest\"] = fit_and_evaluate(\n",
        "    RandomForestClassifier(n_jobs=-1))\n",
        "performance[\"gradient-boosting-machine\"] = fit_and_evaluate(OneVsRestClassifier(\n",
        "    GradientBoostingClassifier()))\n",
        "performance[\"support-vector-machine\"] = fit_and_evaluate(OneVsRestClassifier(\n",
        "    LinearSVC(), n_jobs=-1))\n",
        "print (json.dumps(performance, indent=2))"
      ],
      "execution_count": 117,
      "outputs": [
        {
          "output_type": "stream",
          "name": "stdout",
          "text": [
            "{\n",
            "  \"logistic-regression\": {\n",
            "    \"precision\": 0.5874463519313304,\n",
            "    \"recall\": 0.21030042918454936,\n",
            "    \"f1\": 0.30009168155260235\n",
            "  },\n",
            "  \"k-nearest-neighbors\": {\n",
            "    \"precision\": 0.7550627617051411,\n",
            "    \"recall\": 0.41416309012875535,\n",
            "    \"f1\": 0.5195783537808139\n",
            "  },\n",
            "  \"random-forest\": {\n",
            "    \"precision\": 0.7617565282801334,\n",
            "    \"recall\": 0.3605150214592275,\n",
            "    \"f1\": 0.46191844321407743\n",
            "  },\n",
            "  \"gradient-boosting-machine\": {\n",
            "    \"precision\": 0.8094997018924058,\n",
            "    \"recall\": 0.5944206008583691,\n",
            "    \"f1\": 0.6750815944677326\n",
            "  },\n",
            "  \"support-vector-machine\": {\n",
            "    \"precision\": 0.897347023049296,\n",
            "    \"recall\": 0.5021459227467812,\n",
            "    \"f1\": 0.6277359052198805\n",
            "  }\n",
            "}\n"
          ]
        }
      ]
    },
    {
      "cell_type": "markdown",
      "metadata": {
        "id": "gyv7n9ZKpXRu"
      },
      "source": [
        "<u><i>limitations</i></u>:\n",
        "- *representation*: TF-IDF representations don't encapsulate much signal beyond frequency but we require more fine-grained token representations.\n",
        "- *architecture*: we want to develop models that can use better represented encodings in a more contextual manner."
      ]
    },
    {
      "cell_type": "markdown",
      "metadata": {
        "id": "DW_93sOnNkSZ"
      },
      "source": [
        "## CNN w/ Embeddings"
      ]
    },
    {
      "cell_type": "markdown",
      "metadata": {
        "id": "8jERhoo07l0b"
      },
      "source": [
        "<u><i>motivation</i></u>:\n",
        "- *representation*: we want to have more robust (split tokens to characters) and meaningful ([embeddings](https://madewithml.com/courses/basics/embeddings/) representations for our input tokens.\n",
        "- *architecture*: we want to process our encoded inputs using [convolution (CNN)](https://madewithml.com/courses/basics/convolutional-neural-networks/) filters that can learn to analyze windows of embedded tokens to extract meaningful signal (n-gram feature extractors)."
      ]
    },
    {
      "cell_type": "markdown",
      "metadata": {
        "id": "0XD7VH1MNkSZ"
      },
      "source": [
        "### Set up"
      ]
    },
    {
      "cell_type": "code",
      "metadata": {
        "id": "-8X3qlEbNkSZ"
      },
      "source": [
        "import math\n",
        "import torch\n",
        "import torch.nn as nn\n",
        "import torch.nn.functional as F"
      ],
      "execution_count": 118,
      "outputs": []
    },
    {
      "cell_type": "code",
      "metadata": {
        "id": "tLn8Z4AINkSZ"
      },
      "source": [
        "# Set seeds\n",
        "set_seeds()"
      ],
      "execution_count": 119,
      "outputs": []
    },
    {
      "cell_type": "code",
      "metadata": {
        "id": "DbSoGGmPNkSZ"
      },
      "source": [
        "# Get data splits\n",
        "preprocessed_df = df.copy()\n",
        "preprocessed_df.text = preprocessed_df.text.apply(preprocess, lower=True)\n",
        "X_train, X_val, X_test, y_train, y_val, y_test, label_encoder = get_data_splits(preprocessed_df)"
      ],
      "execution_count": 120,
      "outputs": []
    },
    {
      "cell_type": "code",
      "metadata": {
        "id": "OREUyt-kvMWR"
      },
      "source": [
        "# Split DataFrames\n",
        "train_df = pd.DataFrame({\"text\": X_train, \"tags\": label_encoder.decode(y_train)})\n",
        "val_df = pd.DataFrame({\"text\": X_val, \"tags\": label_encoder.decode(y_val)})\n",
        "test_df = pd.DataFrame({\"text\": X_test, \"tags\": label_encoder.decode(y_test)})"
      ],
      "execution_count": 121,
      "outputs": []
    },
    {
      "cell_type": "code",
      "metadata": {
        "id": "oT0xmkCfNuy5",
        "colab": {
          "base_uri": "https://localhost:8080/"
        },
        "outputId": "acc52c87-5330-4b07-8641-cbdbc49154ab"
      },
      "source": [
        "# Set device\n",
        "cuda = True\n",
        "device = torch.device(\"cuda\" if (\n",
        "    torch.cuda.is_available() and cuda) else \"cpu\")\n",
        "torch.set_default_tensor_type(\"torch.FloatTensor\")\n",
        "if device.type == \"cuda\":\n",
        "    torch.set_default_tensor_type(\"torch.cuda.FloatTensor\")\n",
        "print (device)"
      ],
      "execution_count": 122,
      "outputs": [
        {
          "output_type": "stream",
          "name": "stdout",
          "text": [
            "cuda\n"
          ]
        }
      ]
    },
    {
      "cell_type": "markdown",
      "metadata": {
        "id": "Q6r8kfAkNkSZ"
      },
      "source": [
        "### Tokenizer"
      ]
    },
    {
      "cell_type": "markdown",
      "metadata": {
        "id": "Rg0IROLfJY_3"
      },
      "source": [
        "We're going to tokenize our input text as character tokens so we can be robust to spelling errors and learn to generalize across tags. (ex. learning that RoBERTa, or any other future BERT based archiecture, warrants same tag as BERT)."
      ]
    },
    {
      "cell_type": "markdown",
      "metadata": {
        "id": "krnCpNE6qJvq"
      },
      "source": [
        "<img width=\"500px\" src=\"https://raw.githubusercontent.com/GokuMohandas/MadeWithML/main/images/foundations/cnn/inputs.png\">"
      ]
    },
    {
      "cell_type": "code",
      "metadata": {
        "id": "huCZn1stNkSZ"
      },
      "source": [
        "class Tokenizer(object):\n",
        "    def __init__(self, char_level, num_tokens=None, \n",
        "                 pad_token=\"<PAD>\", oov_token=\"<UNK>\",\n",
        "                 token_to_index=None):\n",
        "        self.char_level = char_level\n",
        "        self.separator = '' if self.char_level else ' '\n",
        "        if num_tokens: num_tokens -= 2 # pad + unk tokens\n",
        "        self.num_tokens = num_tokens\n",
        "        self.pad_token = pad_token\n",
        "        self.oov_token = oov_token\n",
        "        if not token_to_index:\n",
        "            token_to_index = {pad_token: 0, oov_token: 1}\n",
        "        self.token_to_index = token_to_index\n",
        "        self.index_to_token = {v: k for k, v in self.token_to_index.items()}\n",
        "\n",
        "    def __len__(self):\n",
        "        return len(self.token_to_index)\n",
        "\n",
        "    def __str__(self):\n",
        "        return f\"<Tokenizer(num_tokens={len(self)})>\"\n",
        "\n",
        "    def fit_on_texts(self, texts):\n",
        "        if not self.char_level:\n",
        "            texts = [text.split(\" \") for text in texts]\n",
        "        all_tokens = [token for text in texts for token in text]\n",
        "        counts = Counter(all_tokens).most_common(self.num_tokens)\n",
        "        self.min_token_freq = counts[-1][1]\n",
        "        for token, count in counts:\n",
        "            index = len(self)\n",
        "            self.token_to_index[token] = index\n",
        "            self.index_to_token[index] = token\n",
        "        return self\n",
        "\n",
        "    def texts_to_sequences(self, texts):\n",
        "        sequences = []\n",
        "        for text in texts:\n",
        "            if not self.char_level:\n",
        "                text = text.split(' ')\n",
        "            sequence = []\n",
        "            for token in text:\n",
        "                sequence.append(self.token_to_index.get(\n",
        "                    token, self.token_to_index[self.oov_token]))\n",
        "            sequences.append(np.asarray(sequence))\n",
        "        return sequences\n",
        "\n",
        "    def sequences_to_texts(self, sequences):\n",
        "        texts = []\n",
        "        for sequence in sequences:\n",
        "            text = []\n",
        "            for index in sequence:\n",
        "                text.append(self.index_to_token.get(index, self.oov_token))\n",
        "            texts.append(self.separator.join([token for token in text]))\n",
        "        return texts\n",
        "\n",
        "    def save(self, fp):\n",
        "        with open(fp, \"w\") as fp:\n",
        "            contents = {\n",
        "                \"char_level\": self.char_level,\n",
        "                \"oov_token\": self.oov_token,\n",
        "                \"token_to_index\": self.token_to_index\n",
        "            }\n",
        "            json.dump(contents, fp, indent=4, sort_keys=False)\n",
        "\n",
        "    @classmethod\n",
        "    def load(cls, fp):\n",
        "        with open(fp, \"r\") as fp:\n",
        "            kwargs = json.load(fp=fp)\n",
        "        return cls(**kwargs)"
      ],
      "execution_count": 123,
      "outputs": []
    },
    {
      "cell_type": "code",
      "metadata": {
        "id": "ibPSo_PBNkSa",
        "colab": {
          "base_uri": "https://localhost:8080/"
        },
        "outputId": "727589b4-2679-4452-883b-5a78b5448341"
      },
      "source": [
        "# Tokenize\n",
        "char_level = True\n",
        "tokenizer = Tokenizer(char_level=char_level)\n",
        "tokenizer.fit_on_texts(texts=X_train)\n",
        "vocab_size = len(tokenizer)\n",
        "print (tokenizer)"
      ],
      "execution_count": 124,
      "outputs": [
        {
          "output_type": "stream",
          "name": "stdout",
          "text": [
            "<Tokenizer(num_tokens=39)>\n"
          ]
        }
      ]
    },
    {
      "cell_type": "code",
      "metadata": {
        "id": "84JQQqJrNkSa",
        "colab": {
          "base_uri": "https://localhost:8080/"
        },
        "outputId": "ac683f66-4d15-4285-a719-1b3dedc41a9b"
      },
      "source": [
        "tokenizer.token_to_index"
      ],
      "execution_count": 125,
      "outputs": [
        {
          "output_type": "execute_result",
          "data": {
            "text/plain": [
              "{' ': 2,\n",
              " '0': 29,\n",
              " '1': 31,\n",
              " '2': 26,\n",
              " '3': 32,\n",
              " '4': 37,\n",
              " '5': 33,\n",
              " '6': 36,\n",
              " '7': 38,\n",
              " '8': 35,\n",
              " '9': 34,\n",
              " '<PAD>': 0,\n",
              " '<UNK>': 1,\n",
              " 'a': 7,\n",
              " 'b': 20,\n",
              " 'c': 12,\n",
              " 'd': 14,\n",
              " 'e': 3,\n",
              " 'f': 19,\n",
              " 'g': 15,\n",
              " 'h': 18,\n",
              " 'i': 4,\n",
              " 'j': 28,\n",
              " 'k': 24,\n",
              " 'l': 11,\n",
              " 'm': 16,\n",
              " 'n': 5,\n",
              " 'o': 10,\n",
              " 'p': 13,\n",
              " 'q': 30,\n",
              " 'r': 8,\n",
              " 's': 9,\n",
              " 't': 6,\n",
              " 'u': 17,\n",
              " 'v': 22,\n",
              " 'w': 23,\n",
              " 'x': 25,\n",
              " 'y': 21,\n",
              " 'z': 27}"
            ]
          },
          "metadata": {},
          "execution_count": 125
        }
      ]
    },
    {
      "cell_type": "code",
      "metadata": {
        "id": "tqFL_J_UNkSa",
        "colab": {
          "base_uri": "https://localhost:8080/"
        },
        "outputId": "6dd5da14-2466-4a16-9cd9-36d9694baf42"
      },
      "source": [
        "# Convert texts to sequences of indices\n",
        "X_train_ids = np.array(tokenizer.texts_to_sequences(X_train))\n",
        "X_val_ids = np.array(tokenizer.texts_to_sequences(X_val))\n",
        "X_test_ids = np.array(tokenizer.texts_to_sequences(X_test))\n",
        "preprocessed_text = tokenizer.sequences_to_texts([X_train[0]])[0]\n",
        "print (\"Text to indices:\\n\"\n",
        "    f\"  (preprocessed) → {preprocessed_text}\\n\"\n",
        "    f\"  (tokenized) → {X_train[0]}\")"
      ],
      "execution_count": 126,
      "outputs": [
        {
          "output_type": "stream",
          "name": "stdout",
          "text": [
            "Text to indices:\n",
            "  (preprocessed) → <UNK><UNK><UNK><UNK><UNK><UNK><UNK><UNK><UNK><UNK><UNK><UNK><UNK><UNK><UNK><UNK><UNK><UNK><UNK><UNK><UNK><UNK><UNK><UNK><UNK><UNK><UNK><UNK><UNK><UNK><UNK><UNK><UNK><UNK><UNK><UNK><UNK><UNK><UNK><UNK><UNK><UNK><UNK><UNK><UNK><UNK><UNK><UNK><UNK><UNK><UNK><UNK><UNK><UNK><UNK><UNK><UNK><UNK><UNK><UNK><UNK><UNK><UNK><UNK><UNK><UNK><UNK><UNK><UNK><UNK><UNK><UNK><UNK><UNK><UNK><UNK><UNK><UNK><UNK><UNK><UNK><UNK><UNK>\n",
            "  (tokenized) → hugging face achieved 2x performance boost qa question answering distilbert node js\n"
          ]
        }
      ]
    },
    {
      "cell_type": "markdown",
      "metadata": {
        "id": "bUrzrb06NkSa"
      },
      "source": [
        "### Data imbalance"
      ]
    },
    {
      "cell_type": "markdown",
      "metadata": {
        "id": "WUiU_-XVNkSa"
      },
      "source": [
        "We'll factor class weights in our objective function ([binary cross entropy with logits](https://pytorch.org/docs/stable/generated/torch.nn.BCEWithLogitsLoss.html)) to help with class imbalance. There are many other techniques such as over sampling from underrepresented classes, undersampling, etc. but we'll cover these in a separate unit lesson on data imbalance."
      ]
    },
    {
      "cell_type": "code",
      "metadata": {
        "id": "ETiBnH_JNkSa",
        "colab": {
          "base_uri": "https://localhost:8080/"
        },
        "outputId": "e77d4670-28d9-4ff1-845d-fa6ad13a791c"
      },
      "source": [
        "# Class weights\n",
        "counts = np.bincount([label_encoder.class_to_index[class_] for class_ in all_tags])\n",
        "class_weights = {i: 1.0/count for i, count in enumerate(counts)}\n",
        "print (f\"class counts: {counts},\\nclass weights: {class_weights}\")"
      ],
      "execution_count": 127,
      "outputs": [
        {
          "output_type": "stream",
          "name": "stdout",
          "text": [
            "class counts: [120  41 388 106  41  75  34  73  51  78  64  51  55  93  51 424  33  69\n",
            "  30  51 258  32  49  59  57  60  48  40 213  40  34  46 196  39],\n",
            "class weights: {0: 0.008333333333333333, 1: 0.024390243902439025, 2: 0.002577319587628866, 3: 0.009433962264150943, 4: 0.024390243902439025, 5: 0.013333333333333334, 6: 0.029411764705882353, 7: 0.0136986301369863, 8: 0.0196078431372549, 9: 0.01282051282051282, 10: 0.015625, 11: 0.0196078431372549, 12: 0.01818181818181818, 13: 0.010752688172043012, 14: 0.0196078431372549, 15: 0.0023584905660377358, 16: 0.030303030303030304, 17: 0.014492753623188406, 18: 0.03333333333333333, 19: 0.0196078431372549, 20: 0.003875968992248062, 21: 0.03125, 22: 0.02040816326530612, 23: 0.01694915254237288, 24: 0.017543859649122806, 25: 0.016666666666666666, 26: 0.020833333333333332, 27: 0.025, 28: 0.004694835680751174, 29: 0.025, 30: 0.029411764705882353, 31: 0.021739130434782608, 32: 0.00510204081632653, 33: 0.02564102564102564}\n"
          ]
        }
      ]
    },
    {
      "cell_type": "markdown",
      "metadata": {
        "id": "UscX0dcrNkSa"
      },
      "source": [
        "### Datasets"
      ]
    },
    {
      "cell_type": "markdown",
      "metadata": {
        "id": "g02qQyaoJ9YT"
      },
      "source": [
        "We're going to place our data into a [`Dataset`](https://pytorch.org/docs/stable/data.html#torch.utils.data.Dataset) and use a [`DataLoader`](https://pytorch.org/docs/stable/data.html#torch.utils.data.DataLoader) to efficiently create batches for training and evaluation."
      ]
    },
    {
      "cell_type": "code",
      "metadata": {
        "id": "BhSPgWsvNkSa"
      },
      "source": [
        "def pad_sequences(sequences, max_seq_len=0):\n",
        "    \"\"\"Pad sequences to max length in sequence.\"\"\"\n",
        "    max_seq_len = max(max_seq_len, max(len(sequence) for sequence in sequences))\n",
        "    padded_sequences = np.zeros((len(sequences), max_seq_len))\n",
        "    for i, sequence in enumerate(sequences):\n",
        "        padded_sequences[i][:len(sequence)] = sequence\n",
        "    return padded_sequences"
      ],
      "execution_count": 128,
      "outputs": []
    },
    {
      "cell_type": "code",
      "metadata": {
        "id": "yGoNL0oaNkSa"
      },
      "source": [
        "class CNNTextDataset(torch.utils.data.Dataset):\n",
        "    def __init__(self, X, y, max_filter_size):\n",
        "        self.X = X\n",
        "        self.y = y\n",
        "        self.max_filter_size = max_filter_size\n",
        "\n",
        "    def __len__(self):\n",
        "        return len(self.y)\n",
        "\n",
        "    def __str__(self):\n",
        "        return f\"<Dataset(N={len(self)})>\"\n",
        "\n",
        "    def __getitem__(self, index):\n",
        "        X = self.X[index]\n",
        "        y = self.y[index]\n",
        "        return [X, y]\n",
        "\n",
        "    def collate_fn(self, batch):\n",
        "        \"\"\"Processing on a batch.\"\"\"\n",
        "        # Get inputs\n",
        "        batch = np.array(batch, dtype=object)\n",
        "        X = batch[:, 0]\n",
        "        y = np.stack(batch[:, 1], axis=0)\n",
        "\n",
        "        # Pad inputs\n",
        "        X = pad_sequences(sequences=X, max_seq_len=self.max_filter_size)\n",
        "\n",
        "        # Cast\n",
        "        X = torch.LongTensor(X.astype(np.int32))\n",
        "        y = torch.FloatTensor(y.astype(np.int32))\n",
        "\n",
        "        return X, y\n",
        "\n",
        "    def create_dataloader(self, batch_size, shuffle=False, drop_last=False):\n",
        "        return torch.utils.data.DataLoader(\n",
        "            dataset=self,\n",
        "            batch_size=batch_size,\n",
        "            collate_fn=self.collate_fn,\n",
        "            shuffle=shuffle,\n",
        "            drop_last=drop_last,\n",
        "            pin_memory=True)"
      ],
      "execution_count": 129,
      "outputs": []
    },
    {
      "cell_type": "code",
      "metadata": {
        "id": "AcsLQ-xcNkSa",
        "colab": {
          "base_uri": "https://localhost:8080/"
        },
        "outputId": "da08c492-383a-4933-d4ca-c3e45021c0d2"
      },
      "source": [
        "# Create datasets\n",
        "filter_sizes = list(range(1, 11))\n",
        "train_dataset = CNNTextDataset(\n",
        "    X=X_train_ids, y=y_train, max_filter_size=max(filter_sizes))\n",
        "val_dataset = CNNTextDataset(\n",
        "    X=X_val_ids, y=y_val, max_filter_size=max(filter_sizes))\n",
        "test_dataset = CNNTextDataset(\n",
        "    X=X_test_ids, y=y_test, max_filter_size=max(filter_sizes))\n",
        "print (\"Data splits:\\n\"\n",
        "    f\"  Train dataset:{train_dataset.__str__()}\\n\"\n",
        "    f\"  Val dataset: {val_dataset.__str__()}\\n\"\n",
        "    f\"  Test dataset: {test_dataset.__str__()}\\n\"\n",
        "    \"Sample point:\\n\"\n",
        "    f\"  X: {train_dataset[0][0]}\\n\"\n",
        "    f\"  y: {train_dataset[0][1]}\")"
      ],
      "execution_count": 130,
      "outputs": [
        {
          "output_type": "stream",
          "name": "stdout",
          "text": [
            "Data splits:\n",
            "  Train dataset:<Dataset(N=1005)>\n",
            "  Val dataset: <Dataset(N=216)>\n",
            "  Test dataset: <Dataset(N=218)>\n",
            "Sample point:\n",
            "  X: [18 17 15 15  4  5 15  2 19  7 12  3  2  7 12 18  4  3 22  3 14  2 26 25\n",
            "  2 13  3  8 19 10  8 16  7  5 12  3  2 20 10 10  9  6  2 30  7  2 30 17\n",
            "  3  9  6  4 10  5  2  7  5  9 23  3  8  4  5 15  2 14  4  9  6  4 11 20\n",
            "  3  8  6  2  5 10 14  3  2 28  9]\n",
            "  y: [1 0 0 0 0 0 0 0 0 0 1 0 0 0 0 1 0 0 0 0 0 1 0 0 0 0 0 0 0 0 0 0 1 0]\n"
          ]
        }
      ]
    },
    {
      "cell_type": "code",
      "metadata": {
        "id": "CUkm-47FNkSa",
        "colab": {
          "base_uri": "https://localhost:8080/"
        },
        "outputId": "58828eb6-3385-4580-88e6-c385ba416d66"
      },
      "source": [
        "# Create dataloaders\n",
        "batch_size = 128\n",
        "train_dataloader = train_dataset.create_dataloader(\n",
        "    batch_size=batch_size)\n",
        "val_dataloader = val_dataset.create_dataloader(\n",
        "    batch_size=batch_size)\n",
        "test_dataloader = test_dataset.create_dataloader(\n",
        "    batch_size=batch_size)\n",
        "batch_X, batch_y = next(iter(train_dataloader))\n",
        "print (\"Sample batch:\\n\"\n",
        "    f\"  X: {list(batch_X.size())}\\n\"\n",
        "    f\"  y: {list(batch_y.size())}\")"
      ],
      "execution_count": 131,
      "outputs": [
        {
          "output_type": "stream",
          "name": "stdout",
          "text": [
            "Sample batch:\n",
            "  X: [128, 180]\n",
            "  y: [128, 34]\n"
          ]
        }
      ]
    },
    {
      "cell_type": "markdown",
      "metadata": {
        "id": "O8UyFr9xNkSa"
      },
      "source": [
        "### Model"
      ]
    },
    {
      "cell_type": "markdown",
      "metadata": {
        "id": "9HSHRnFmKg5g"
      },
      "source": [
        "We'll be using a convolutional neural network on top of our embedded tokens to extract meaningful spatial signal. This time, we'll be using many filter widths to act as n-gram feature extractors. If you're not familiar with CNNs be sure to check out the [CNN lesson](https://madewithml.com/courses/basics/convolutional-neural-networks/) where we walkthrough every component of the architecture."
      ]
    },
    {
      "cell_type": "markdown",
      "metadata": {
        "id": "HJdHiBArqaaH"
      },
      "source": [
        "<img width=\"500px\" src=\"https://raw.githubusercontent.com/GokuMohandas/MadeWithML/main/images/foundations/cnn/convolution.gif\">"
      ]
    },
    {
      "cell_type": "markdown",
      "metadata": {
        "id": "fs2AeywNL3yt"
      },
      "source": [
        "Let's visualize the model's forward pass.\n",
        "\n",
        "1. We'll first tokenize our inputs (`batch_size`, `max_seq_len`).\n",
        "2. Then we'll embed our tokenized inputs (`batch_size`, `max_seq_len`, `embedding_dim`).\n",
        "3. We'll apply convolution via filters (`filter_size`, `vocab_size`, `num_filters`) followed by batch normalization. Our filters act as character level n-gram detecors. We have three different filter sizes (2, 3 and 4) and they will act as bi-gram, tri-gram and 4-gram feature extractors, respectivelyy. \n",
        "4. We'll apply 1D global max pooling which will extract the most relevant information from the feature maps for making the decision.\n",
        "5. We feed the pool outputs to a fully-connected (FC) layer (with dropout).\n",
        "6. We use one more FC layer with softmax to derive class probabilities. "
      ]
    },
    {
      "cell_type": "markdown",
      "metadata": {
        "id": "xHRtownxL6X1"
      },
      "source": [
        "<img width=\"5000px\" src=\"https://raw.githubusercontent.com/GokuMohandas/MadeWithML/main/images/foundations/cnn/model.png\">"
      ]
    },
    {
      "cell_type": "code",
      "metadata": {
        "id": "ZhteynQANkSa"
      },
      "source": [
        "# Arguments\n",
        "embedding_dim = 128\n",
        "num_filters = 128\n",
        "hidden_dim = 128\n",
        "dropout_p = 0.5"
      ],
      "execution_count": 132,
      "outputs": []
    },
    {
      "cell_type": "code",
      "metadata": {
        "id": "UWe7ktNMNkSa"
      },
      "source": [
        "class CNN(nn.Module):\n",
        "    def __init__(self, embedding_dim, vocab_size, num_filters, filter_sizes,\n",
        "                 hidden_dim, dropout_p, num_classes, padding_idx=0):\n",
        "        super(CNN, self).__init__()\n",
        "\n",
        "        # Initialize embeddings\n",
        "        self.embeddings = nn.Embedding(\n",
        "                embedding_dim=embedding_dim, num_embeddings=vocab_size,\n",
        "                padding_idx=padding_idx)\n",
        "\n",
        "        # Conv weights\n",
        "        self.filter_sizes = filter_sizes\n",
        "        self.conv = nn.ModuleList(\n",
        "            [nn.Conv1d(in_channels=embedding_dim,\n",
        "                       out_channels=num_filters,\n",
        "                       kernel_size=f) for f in filter_sizes])\n",
        "\n",
        "        # FC weights\n",
        "        self.dropout = nn.Dropout(dropout_p)\n",
        "        self.fc1 = nn.Linear(num_filters*len(filter_sizes), hidden_dim)\n",
        "        self.fc2 = nn.Linear(hidden_dim, num_classes)\n",
        "\n",
        "    def forward(self, inputs, channel_first=False):\n",
        "\n",
        "        # Embed\n",
        "        x_in, = inputs\n",
        "        x_in = self.embeddings(x_in)\n",
        "        if not channel_first:\n",
        "            x_in = x_in.transpose(1, 2)  # (N, channels, sequence length)\n",
        "\n",
        "        z = []\n",
        "        max_seq_len = x_in.shape[2]\n",
        "        for i, f in enumerate(self.filter_sizes):\n",
        "\n",
        "            # `SAME` padding\n",
        "            padding_left = int(\n",
        "                (self.conv[i].stride[0]*(max_seq_len-1) - max_seq_len + self.filter_sizes[i])/2)\n",
        "            padding_right = int(math.ceil(\n",
        "                (self.conv[i].stride[0]*(max_seq_len-1) - max_seq_len + self.filter_sizes[i])/2))\n",
        "\n",
        "            # Conv\n",
        "            _z = self.conv[i](F.pad(x_in, (padding_left, padding_right)))\n",
        "\n",
        "            # Pool\n",
        "            _z = F.max_pool1d(_z, _z.size(2)).squeeze(2)\n",
        "            z.append(_z)\n",
        "\n",
        "        # Concat outputs\n",
        "        z = torch.cat(z, 1)\n",
        "\n",
        "        # FC\n",
        "        z = self.fc1(z)\n",
        "        z = self.dropout(z)\n",
        "        z = self.fc2(z)\n",
        "\n",
        "        return z"
      ],
      "execution_count": 133,
      "outputs": []
    },
    {
      "cell_type": "markdown",
      "metadata": {
        "id": "ugjRPCGClmCc"
      },
      "source": [
        "Padding types:\n",
        "* **VALID**: no padding, the filters only use the \"valid\" values in the input. If the filter cannot reach all the input values (filters go left to right), the extra values on the right are dropped.\n",
        "* **SAME**: adds padding evenly to the right (preferred) and left sides of the input so that all values in the input are processed.\n",
        "\n",
        "<div align=\"left\">\n",
        "<img src=\"https://raw.githubusercontent.com/GokuMohandas/MadeWithML/main/images/foundations/cnn/padding.png\" width=\"500\">\n",
        "</div>"
      ]
    },
    {
      "cell_type": "markdown",
      "metadata": {
        "id": "oXZ6ZD6AKbfr"
      },
      "source": [
        "We're add padding so that the convolutional outputs are the same shape as our inputs. The amount of padding for the `SAME` padding can be determined using the same equation. We want out output to have the same width as our input, so we solve for P:\n",
        "\n",
        "$ \\frac{W-F+2P}{S} + 1 = W $\n",
        "\n",
        "$ P = \\frac{S(W-1) - W + F}{2} $\n",
        "\n",
        "If $P$ is not a whole number, we round up (using `math.ceil`) and place the extra padding on the right side."
      ]
    },
    {
      "cell_type": "code",
      "metadata": {
        "id": "suLpR5raNkSa",
        "colab": {
          "base_uri": "https://localhost:8080/"
        },
        "outputId": "f663022e-3a5e-4834-900a-6796193082b4"
      },
      "source": [
        "# Initialize model\n",
        "model = CNN(\n",
        "    embedding_dim=embedding_dim, vocab_size=vocab_size,\n",
        "    num_filters=num_filters, filter_sizes=filter_sizes,\n",
        "    hidden_dim=hidden_dim, dropout_p=dropout_p,\n",
        "    num_classes=num_classes)\n",
        "model = model.to(device)\n",
        "print (model.named_parameters)"
      ],
      "execution_count": 134,
      "outputs": [
        {
          "output_type": "stream",
          "name": "stdout",
          "text": [
            "<bound method Module.named_parameters of CNN(\n",
            "  (embeddings): Embedding(39, 128, padding_idx=0)\n",
            "  (conv): ModuleList(\n",
            "    (0): Conv1d(128, 128, kernel_size=(1,), stride=(1,))\n",
            "    (1): Conv1d(128, 128, kernel_size=(2,), stride=(1,))\n",
            "    (2): Conv1d(128, 128, kernel_size=(3,), stride=(1,))\n",
            "    (3): Conv1d(128, 128, kernel_size=(4,), stride=(1,))\n",
            "    (4): Conv1d(128, 128, kernel_size=(5,), stride=(1,))\n",
            "    (5): Conv1d(128, 128, kernel_size=(6,), stride=(1,))\n",
            "    (6): Conv1d(128, 128, kernel_size=(7,), stride=(1,))\n",
            "    (7): Conv1d(128, 128, kernel_size=(8,), stride=(1,))\n",
            "    (8): Conv1d(128, 128, kernel_size=(9,), stride=(1,))\n",
            "    (9): Conv1d(128, 128, kernel_size=(10,), stride=(1,))\n",
            "  )\n",
            "  (dropout): Dropout(p=0.5, inplace=False)\n",
            "  (fc1): Linear(in_features=1280, out_features=128, bias=True)\n",
            "  (fc2): Linear(in_features=128, out_features=34, bias=True)\n",
            ")>\n"
          ]
        }
      ]
    },
    {
      "cell_type": "markdown",
      "metadata": {
        "id": "AfcCItXQNkSa"
      },
      "source": [
        "### Training"
      ]
    },
    {
      "cell_type": "code",
      "metadata": {
        "id": "6XYetoGvNkSa"
      },
      "source": [
        "# Arguments\n",
        "lr = 2e-4\n",
        "num_epochs = 100\n",
        "patience = 10"
      ],
      "execution_count": 135,
      "outputs": []
    },
    {
      "cell_type": "code",
      "metadata": {
        "id": "gmPoArUeNkSa"
      },
      "source": [
        "# Define loss\n",
        "class_weights_tensor = torch.Tensor(np.array(list(class_weights.values())))\n",
        "loss_fn = nn.BCEWithLogitsLoss(weight=class_weights_tensor)"
      ],
      "execution_count": 136,
      "outputs": []
    },
    {
      "cell_type": "code",
      "metadata": {
        "id": "YfP6jpAsNkSa"
      },
      "source": [
        "# Define optimizer & scheduler\n",
        "optimizer = torch.optim.Adam(model.parameters(), lr=lr)\n",
        "scheduler = torch.optim.lr_scheduler.ReduceLROnPlateau(\n",
        "    optimizer, mode=\"min\", factor=0.1, patience=5)"
      ],
      "execution_count": 137,
      "outputs": []
    },
    {
      "cell_type": "code",
      "metadata": {
        "id": "36OkuM21NkSa"
      },
      "source": [
        "# Trainer module\n",
        "trainer = Trainer(\n",
        "    model=model, device=device, loss_fn=loss_fn, \n",
        "    optimizer=optimizer, scheduler=scheduler)"
      ],
      "execution_count": 138,
      "outputs": []
    },
    {
      "cell_type": "code",
      "metadata": {
        "id": "XvmUpxZRNkSa",
        "colab": {
          "base_uri": "https://localhost:8080/"
        },
        "outputId": "cd2140df-5f39-452c-ef87-865e2516c4b9"
      },
      "source": [
        "# Train\n",
        "best_model = trainer.train(\n",
        "    num_epochs, patience, train_dataloader, val_dataloader)"
      ],
      "execution_count": 139,
      "outputs": [
        {
          "output_type": "stream",
          "name": "stdout",
          "text": [
            "Epoch: 1 | train_loss: 0.00752, val_loss: 0.00327, lr: 2.00E-04, _patience: 10\n",
            "Epoch: 2 | train_loss: 0.00426, val_loss: 0.00298, lr: 2.00E-04, _patience: 10\n",
            "Epoch: 3 | train_loss: 0.00402, val_loss: 0.00305, lr: 2.00E-04, _patience: 9\n",
            "Epoch: 4 | train_loss: 0.00377, val_loss: 0.00287, lr: 2.00E-04, _patience: 10\n",
            "Epoch: 5 | train_loss: 0.00351, val_loss: 0.00273, lr: 2.00E-04, _patience: 10\n",
            "Epoch: 6 | train_loss: 0.00343, val_loss: 0.00269, lr: 2.00E-04, _patience: 10\n",
            "Epoch: 7 | train_loss: 0.00326, val_loss: 0.00267, lr: 2.00E-04, _patience: 10\n",
            "Epoch: 8 | train_loss: 0.00318, val_loss: 0.00264, lr: 2.00E-04, _patience: 10\n",
            "Epoch: 9 | train_loss: 0.00309, val_loss: 0.00261, lr: 2.00E-04, _patience: 10\n",
            "Epoch: 10 | train_loss: 0.00302, val_loss: 0.00258, lr: 2.00E-04, _patience: 10\n",
            "Epoch: 11 | train_loss: 0.00295, val_loss: 0.00254, lr: 2.00E-04, _patience: 10\n",
            "Epoch: 12 | train_loss: 0.00284, val_loss: 0.00251, lr: 2.00E-04, _patience: 10\n",
            "Epoch: 13 | train_loss: 0.00274, val_loss: 0.00247, lr: 2.00E-04, _patience: 10\n",
            "Epoch: 14 | train_loss: 0.00271, val_loss: 0.00243, lr: 2.00E-04, _patience: 10\n",
            "Epoch: 15 | train_loss: 0.00265, val_loss: 0.00239, lr: 2.00E-04, _patience: 10\n",
            "Epoch: 16 | train_loss: 0.00258, val_loss: 0.00234, lr: 2.00E-04, _patience: 10\n",
            "Epoch: 17 | train_loss: 0.00250, val_loss: 0.00230, lr: 2.00E-04, _patience: 10\n",
            "Epoch: 18 | train_loss: 0.00240, val_loss: 0.00226, lr: 2.00E-04, _patience: 10\n",
            "Epoch: 19 | train_loss: 0.00236, val_loss: 0.00221, lr: 2.00E-04, _patience: 10\n",
            "Epoch: 20 | train_loss: 0.00232, val_loss: 0.00216, lr: 2.00E-04, _patience: 10\n",
            "Epoch: 21 | train_loss: 0.00226, val_loss: 0.00212, lr: 2.00E-04, _patience: 10\n",
            "Epoch: 22 | train_loss: 0.00216, val_loss: 0.00208, lr: 2.00E-04, _patience: 10\n",
            "Epoch: 23 | train_loss: 0.00213, val_loss: 0.00203, lr: 2.00E-04, _patience: 10\n",
            "Epoch: 24 | train_loss: 0.00203, val_loss: 0.00200, lr: 2.00E-04, _patience: 10\n",
            "Epoch: 25 | train_loss: 0.00200, val_loss: 0.00196, lr: 2.00E-04, _patience: 10\n",
            "Epoch: 26 | train_loss: 0.00194, val_loss: 0.00193, lr: 2.00E-04, _patience: 10\n",
            "Epoch: 27 | train_loss: 0.00186, val_loss: 0.00189, lr: 2.00E-04, _patience: 10\n",
            "Epoch: 28 | train_loss: 0.00184, val_loss: 0.00186, lr: 2.00E-04, _patience: 10\n",
            "Epoch: 29 | train_loss: 0.00175, val_loss: 0.00183, lr: 2.00E-04, _patience: 10\n",
            "Epoch: 30 | train_loss: 0.00174, val_loss: 0.00180, lr: 2.00E-04, _patience: 10\n",
            "Epoch: 31 | train_loss: 0.00168, val_loss: 0.00179, lr: 2.00E-04, _patience: 10\n",
            "Epoch: 32 | train_loss: 0.00167, val_loss: 0.00176, lr: 2.00E-04, _patience: 10\n",
            "Epoch: 33 | train_loss: 0.00158, val_loss: 0.00174, lr: 2.00E-04, _patience: 10\n",
            "Epoch: 34 | train_loss: 0.00155, val_loss: 0.00172, lr: 2.00E-04, _patience: 10\n",
            "Epoch: 35 | train_loss: 0.00153, val_loss: 0.00172, lr: 2.00E-04, _patience: 9\n",
            "Epoch: 36 | train_loss: 0.00145, val_loss: 0.00168, lr: 2.00E-04, _patience: 10\n",
            "Epoch: 37 | train_loss: 0.00145, val_loss: 0.00168, lr: 2.00E-04, _patience: 9\n",
            "Epoch: 38 | train_loss: 0.00142, val_loss: 0.00165, lr: 2.00E-04, _patience: 10\n",
            "Epoch: 39 | train_loss: 0.00137, val_loss: 0.00166, lr: 2.00E-04, _patience: 9\n",
            "Epoch: 40 | train_loss: 0.00136, val_loss: 0.00163, lr: 2.00E-04, _patience: 10\n",
            "Epoch: 41 | train_loss: 0.00131, val_loss: 0.00163, lr: 2.00E-04, _patience: 9\n",
            "Epoch: 42 | train_loss: 0.00129, val_loss: 0.00162, lr: 2.00E-04, _patience: 8\n",
            "Epoch: 43 | train_loss: 0.00126, val_loss: 0.00159, lr: 2.00E-04, _patience: 10\n",
            "Epoch: 44 | train_loss: 0.00121, val_loss: 0.00161, lr: 2.00E-04, _patience: 9\n",
            "Epoch: 45 | train_loss: 0.00117, val_loss: 0.00160, lr: 2.00E-04, _patience: 8\n",
            "Epoch: 46 | train_loss: 0.00115, val_loss: 0.00160, lr: 2.00E-04, _patience: 7\n",
            "Epoch: 47 | train_loss: 0.00118, val_loss: 0.00160, lr: 2.00E-04, _patience: 6\n",
            "Epoch: 48 | train_loss: 0.00111, val_loss: 0.00158, lr: 2.00E-04, _patience: 5\n",
            "Epoch: 49 | train_loss: 0.00108, val_loss: 0.00156, lr: 2.00E-04, _patience: 10\n",
            "Epoch: 50 | train_loss: 0.00106, val_loss: 0.00157, lr: 2.00E-04, _patience: 9\n",
            "Epoch: 51 | train_loss: 0.00103, val_loss: 0.00157, lr: 2.00E-04, _patience: 8\n",
            "Epoch: 52 | train_loss: 0.00102, val_loss: 0.00157, lr: 2.00E-04, _patience: 7\n",
            "Epoch: 53 | train_loss: 0.00096, val_loss: 0.00157, lr: 2.00E-04, _patience: 6\n",
            "Epoch: 54 | train_loss: 0.00096, val_loss: 0.00156, lr: 2.00E-04, _patience: 5\n",
            "Epoch: 55 | train_loss: 0.00095, val_loss: 0.00153, lr: 2.00E-04, _patience: 10\n",
            "Epoch: 56 | train_loss: 0.00090, val_loss: 0.00153, lr: 2.00E-04, _patience: 9\n",
            "Epoch: 57 | train_loss: 0.00090, val_loss: 0.00157, lr: 2.00E-04, _patience: 8\n",
            "Epoch: 58 | train_loss: 0.00086, val_loss: 0.00157, lr: 2.00E-04, _patience: 7\n",
            "Epoch: 59 | train_loss: 0.00087, val_loss: 0.00158, lr: 2.00E-04, _patience: 6\n",
            "Epoch: 60 | train_loss: 0.00083, val_loss: 0.00164, lr: 2.00E-04, _patience: 5\n",
            "Epoch: 61 | train_loss: 0.00080, val_loss: 0.00165, lr: 2.00E-05, _patience: 4\n",
            "Epoch: 62 | train_loss: 0.00081, val_loss: 0.00157, lr: 2.00E-05, _patience: 3\n",
            "Epoch: 63 | train_loss: 0.00077, val_loss: 0.00151, lr: 2.00E-05, _patience: 10\n",
            "Epoch: 64 | train_loss: 0.00080, val_loss: 0.00153, lr: 2.00E-05, _patience: 9\n",
            "Epoch: 65 | train_loss: 0.00078, val_loss: 0.00155, lr: 2.00E-05, _patience: 8\n",
            "Epoch: 66 | train_loss: 0.00076, val_loss: 0.00153, lr: 2.00E-05, _patience: 7\n",
            "Epoch: 67 | train_loss: 0.00077, val_loss: 0.00152, lr: 2.00E-05, _patience: 6\n",
            "Epoch: 68 | train_loss: 0.00077, val_loss: 0.00153, lr: 2.00E-05, _patience: 5\n",
            "Epoch: 69 | train_loss: 0.00074, val_loss: 0.00155, lr: 2.00E-06, _patience: 4\n",
            "Epoch: 70 | train_loss: 0.00077, val_loss: 0.00155, lr: 2.00E-06, _patience: 3\n",
            "Epoch: 71 | train_loss: 0.00075, val_loss: 0.00155, lr: 2.00E-06, _patience: 2\n",
            "Epoch: 72 | train_loss: 0.00077, val_loss: 0.00154, lr: 2.00E-06, _patience: 1\n",
            "Stopping early!\n"
          ]
        }
      ]
    },
    {
      "cell_type": "markdown",
      "metadata": {
        "id": "nggIvJFoNkSa"
      },
      "source": [
        "### Evaluation"
      ]
    },
    {
      "cell_type": "code",
      "metadata": {
        "id": "0igBVFnYNkSb"
      },
      "source": [
        "from pathlib import Path\n",
        "from sklearn.metrics import precision_recall_curve"
      ],
      "execution_count": 140,
      "outputs": []
    },
    {
      "cell_type": "code",
      "metadata": {
        "id": "WPA5ojyUNkSb",
        "colab": {
          "base_uri": "https://localhost:8080/",
          "height": 302
        },
        "outputId": "d9428efb-8c81-4cdc-d215-8ab0bb7601c9"
      },
      "source": [
        "# Threshold-PR curve\n",
        "train_loss, y_true, y_prob = trainer.eval_step(dataloader=train_dataloader)\n",
        "precisions, recalls, thresholds = precision_recall_curve(y_true.ravel(), y_prob.ravel())\n",
        "plt.plot(thresholds, precisions[:-1], \"r--\", label=\"Precision\")\n",
        "plt.plot(thresholds, recalls[:-1], \"b-\", label=\"Recall\")\n",
        "plt.ylabel(\"Performance\")\n",
        "plt.xlabel(\"Threshold\")\n",
        "plt.legend(loc=\"best\")"
      ],
      "execution_count": 141,
      "outputs": [
        {
          "output_type": "execute_result",
          "data": {
            "text/plain": [
              "<matplotlib.legend.Legend at 0x7f0a9eb41690>"
            ]
          },
          "metadata": {},
          "execution_count": 141
        },
        {
          "output_type": "display_data",
          "data": {
            "image/png": "[encoded data removed]",
            "text/plain": [
              "<Figure size 432x288 with 1 Axes>"
            ]
          },
          "metadata": {}
        }
      ]
    },
    {
      "cell_type": "code",
      "metadata": {
        "id": "7bF16I1WNkSb"
      },
      "source": [
        "# Determining the best threshold\n",
        "def find_best_threshold(y_true, y_prob):\n",
        "    \"\"\"Find the best threshold for maximum F1.\"\"\"\n",
        "    precisions, recalls, thresholds = precision_recall_curve(y_true, y_prob)\n",
        "    f1s = (2 * precisions * recalls) / (precisions + recalls)\n",
        "    return thresholds[np.argmax(f1s)]"
      ],
      "execution_count": 142,
      "outputs": []
    },
    {
      "cell_type": "markdown",
      "metadata": {
        "id": "VlqdPlplaNCG"
      },
      "source": [
        "> Even better to determine per-class thresholds but this is fine for now."
      ]
    },
    {
      "cell_type": "code",
      "metadata": {
        "id": "Pv9rdHebNkSb",
        "colab": {
          "base_uri": "https://localhost:8080/"
        },
        "outputId": "96856e52-5a2b-4c89-84af-7a0a65ba42e9"
      },
      "source": [
        "# Best threshold for f1\n",
        "threshold = find_best_threshold(y_true.ravel(), y_prob.ravel())\n",
        "threshold"
      ],
      "execution_count": 143,
      "outputs": [
        {
          "output_type": "execute_result",
          "data": {
            "text/plain": [
              "0.2543944"
            ]
          },
          "metadata": {},
          "execution_count": 143
        }
      ]
    },
    {
      "cell_type": "code",
      "metadata": {
        "id": "N0i2EYMYNkSb"
      },
      "source": [
        "# Determine predictions using threshold\n",
        "test_loss, y_true, y_prob = trainer.eval_step(dataloader=test_dataloader)\n",
        "y_pred = np.array([np.where(prob >= threshold, 1, 0) for prob in y_prob])"
      ],
      "execution_count": 144,
      "outputs": []
    },
    {
      "cell_type": "code",
      "metadata": {
        "id": "jP9rWb-9NkSb",
        "colab": {
          "base_uri": "https://localhost:8080/"
        },
        "outputId": "9eb3aa91-1982-4fa3-a226-8202aa28e260"
      },
      "source": [
        "# Evaluate\n",
        "metrics = precision_recall_fscore_support(y_test, y_pred, average=\"weighted\")\n",
        "performance = {\"precision\": metrics[0], \"recall\": metrics[1], \"f1\": metrics[2]}\n",
        "print (json.dumps(performance, indent=2))"
      ],
      "execution_count": 145,
      "outputs": [
        {
          "output_type": "stream",
          "name": "stdout",
          "text": [
            "{\n",
            "  \"precision\": 0.7896647806486397,\n",
            "  \"recall\": 0.5965665236051502,\n",
            "  \"f1\": 0.6612830799421741\n",
            "}\n"
          ]
        }
      ]
    },
    {
      "cell_type": "code",
      "metadata": {
        "id": "ewsYvUnxNkSb"
      },
      "source": [
        "# Save artifacts\n",
        "dir = Path(\"cnn\")\n",
        "dir.mkdir(parents=True, exist_ok=True)\n",
        "tokenizer.save(fp=Path(dir, \"tokenzier.json\"))\n",
        "label_encoder.save(fp=Path(dir, \"label_encoder.json\"))\n",
        "torch.save(best_model.state_dict(), Path(dir, \"model.pt\"))\n",
        "with open(Path(dir, \"performance.json\"), \"w\") as fp:\n",
        "    json.dump(performance, indent=2, sort_keys=False, fp=fp)"
      ],
      "execution_count": 146,
      "outputs": []
    },
    {
      "cell_type": "markdown",
      "metadata": {
        "id": "C4tJvSbaNkSb"
      },
      "source": [
        "### Inference"
      ]
    },
    {
      "cell_type": "code",
      "metadata": {
        "id": "GwI4ft7CNkSb",
        "colab": {
          "base_uri": "https://localhost:8080/"
        },
        "outputId": "7a3ff427-4f50-48e3-c9cf-3c89ca5ddc9f"
      },
      "source": [
        "# Load artifacts\n",
        "device = torch.device(\"cpu\")\n",
        "tokenizer = Tokenizer.load(fp=Path(dir, \"tokenzier.json\"))\n",
        "label_encoder = LabelEncoder.load(fp=Path(dir, \"label_encoder.json\"))\n",
        "model = CNN(\n",
        "    embedding_dim=embedding_dim, vocab_size=vocab_size,\n",
        "    num_filters=num_filters, filter_sizes=filter_sizes,\n",
        "    hidden_dim=hidden_dim, dropout_p=dropout_p,\n",
        "    num_classes=num_classes)\n",
        "model.load_state_dict(torch.load(Path(dir, \"model.pt\"), map_location=device))\n",
        "model.to(device)"
      ],
      "execution_count": 147,
      "outputs": [
        {
          "output_type": "execute_result",
          "data": {
            "text/plain": [
              "CNN(\n",
              "  (embeddings): Embedding(39, 128, padding_idx=0)\n",
              "  (conv): ModuleList(\n",
              "    (0): Conv1d(128, 128, kernel_size=(1,), stride=(1,))\n",
              "    (1): Conv1d(128, 128, kernel_size=(2,), stride=(1,))\n",
              "    (2): Conv1d(128, 128, kernel_size=(3,), stride=(1,))\n",
              "    (3): Conv1d(128, 128, kernel_size=(4,), stride=(1,))\n",
              "    (4): Conv1d(128, 128, kernel_size=(5,), stride=(1,))\n",
              "    (5): Conv1d(128, 128, kernel_size=(6,), stride=(1,))\n",
              "    (6): Conv1d(128, 128, kernel_size=(7,), stride=(1,))\n",
              "    (7): Conv1d(128, 128, kernel_size=(8,), stride=(1,))\n",
              "    (8): Conv1d(128, 128, kernel_size=(9,), stride=(1,))\n",
              "    (9): Conv1d(128, 128, kernel_size=(10,), stride=(1,))\n",
              "  )\n",
              "  (dropout): Dropout(p=0.5, inplace=False)\n",
              "  (fc1): Linear(in_features=1280, out_features=128, bias=True)\n",
              "  (fc2): Linear(in_features=128, out_features=34, bias=True)\n",
              ")"
            ]
          },
          "metadata": {},
          "execution_count": 147
        }
      ]
    },
    {
      "cell_type": "code",
      "metadata": {
        "id": "sLeXU5LRYaal"
      },
      "source": [
        "# Initialize trainer\n",
        "trainer = Trainer(model=model, device=device)"
      ],
      "execution_count": 148,
      "outputs": []
    },
    {
      "cell_type": "code",
      "metadata": {
        "id": "b_SGtypzNkSb"
      },
      "source": [
        "# Dataloader\n",
        "text = \"Transfer learning with BERT for self-supervised learning\"\n",
        "X = np.array(tokenizer.texts_to_sequences([preprocess(text)]))\n",
        "y_filler = label_encoder.encode([np.array([label_encoder.classes[0]]*len(X))])\n",
        "dataset = CNNTextDataset(\n",
        "    X=X, y=y_filler, max_filter_size=max(filter_sizes))\n",
        "dataloader = dataset.create_dataloader(\n",
        "    batch_size=batch_size)"
      ],
      "execution_count": 149,
      "outputs": []
    },
    {
      "cell_type": "code",
      "metadata": {
        "id": "YRETV9QyNkSb",
        "colab": {
          "base_uri": "https://localhost:8080/"
        },
        "outputId": "c8842643-f651-4817-ed3c-dbfa5bd1f902"
      },
      "source": [
        "# Inference\n",
        "y_prob = trainer.predict_step(dataloader)\n",
        "y_pred = np.array([np.where(prob >= threshold, 1, 0) for prob in y_prob])\n",
        "label_encoder.decode(y_pred)"
      ],
      "execution_count": 150,
      "outputs": [
        {
          "output_type": "execute_result",
          "data": {
            "text/plain": [
              "[['attention',\n",
              "  'natural-language-processing',\n",
              "  'self-supervised-learning',\n",
              "  'transfer-learning',\n",
              "  'transformers']]"
            ]
          },
          "metadata": {},
          "execution_count": 150
        }
      ]
    },
    {
      "cell_type": "markdown",
      "metadata": {
        "id": "oYBoIl1Q8ZGB"
      },
      "source": [
        "<u><i>limitations</i></u>:\n",
        "- *representation*: embeddings are not contextual.\n",
        "- *architecture*: extracting signal from encoded inputs is limited by filter widths."
      ]
    },
    {
      "cell_type": "markdown",
      "metadata": {
        "id": "pWYOq-WNGaql"
      },
      "source": [
        "Since we're dealing with simple architectures and fast training times, it's a good opportunity to explore tuning and experiment with k-fold cross validation to properly reach any conclusions about performance."
      ]
    },
    {
      "cell_type": "markdown",
      "metadata": {
        "id": "BBZ35y4tnB1h"
      },
      "source": [
        "## Tradeoffs"
      ]
    },
    {
      "cell_type": "markdown",
      "metadata": {
        "id": "6oCp9vPrTUMx"
      },
      "source": [
        "We could experiment with more complex architectures such as [Transformers](https://madewithml.com/cousres/foundations/transformers), but we're going to go with the embeddings via CNN approach and optimize it because it offer decent performance at a reasonable tradeoff values (size, training time, etc.)"
      ]
    },
    {
      "cell_type": "code",
      "metadata": {
        "id": "dVzPrFK0Y0b-",
        "colab": {
          "base_uri": "https://localhost:8080/"
        },
        "outputId": "ccec5147-7747-4d2b-ea2a-af0bf2095fe1"
      },
      "source": [
        "# Performance\n",
        "with open(Path(\"cnn\", \"performance.json\"), \"r\") as fp:\n",
        "    cnn_performance = json.load(fp)\n",
        "print (f'CNN: f1 = {cnn_performance[\"f1\"]}')"
      ],
      "execution_count": 151,
      "outputs": [
        {
          "output_type": "stream",
          "name": "stdout",
          "text": [
            "CNN: f1 = 0.6612830799421741\n"
          ]
        }
      ]
    },
    {
      "cell_type": "markdown",
      "metadata": {
        "id": "ok2jBSjGsxyL"
      },
      "source": [
        "This was just one run on one split so you'll want to experiment with k-fold cross validation to properly reach any conclusions about performance. Also make sure you take the time to tune these baselines since their training periods are quite fast (we can achieve f1 of 0.7 with just a bit of tuning for both CNN / Transformers). We'll cover hyperparameter tuning in a few lessons so you can replicate the process here on your own time. We should also benchmark on other important metrics as we iterate, not just precision and recall."
      ]
    },
    {
      "cell_type": "code",
      "metadata": {
        "id": "oSM_UOkrVV6D",
        "colab": {
          "base_uri": "https://localhost:8080/"
        },
        "outputId": "ef557c7b-e9d6-4c5b-c555-57ca21b3ef7f"
      },
      "source": [
        "# Size\n",
        "print (f'CNN: {Path(\"cnn\", \"model.pt\").stat().st_size/1000000:.1f} MB')"
      ],
      "execution_count": 152,
      "outputs": [
        {
          "output_type": "stream",
          "name": "stdout",
          "text": [
            "CNN: 4.3 MB\n"
          ]
        }
      ]
    },
    {
      "cell_type": "markdown",
      "metadata": {
        "id": "kDcnWxoMup6W"
      },
      "source": [
        "> We'll consider other tradeoffs such as maintenance overhead, behavioral test performances, etc. as we develop."
      ]
    },
    {
      "cell_type": "code",
      "metadata": {
        "id": "Xs1g4GW66ITQ"
      },
      "source": [
        "# Arguments\n",
        "embedding_dim = 128\n",
        "num_filters = 128\n",
        "hidden_dim = 128\n",
        "dropout_p = 0.5"
      ],
      "execution_count": 153,
      "outputs": []
    },
    {
      "cell_type": "code",
      "metadata": {
        "id": "VIRktG-n49UI",
        "colab": {
          "base_uri": "https://localhost:8080/"
        },
        "outputId": "cf7a5b4e-afa4-443a-b9ae-2d58038e1b20"
      },
      "source": [
        "# Load artifacts\n",
        "dir = Path(\"cnn\")\n",
        "device = torch.device(\"cpu\")\n",
        "tokenizer = Tokenizer.load(fp=Path(dir, \"tokenzier.json\"))\n",
        "label_encoder = LabelEncoder.load(fp=Path(dir, \"label_encoder.json\"))\n",
        "model = CNN(\n",
        "    embedding_dim=embedding_dim, vocab_size=len(tokenizer),\n",
        "    num_filters=num_filters, filter_sizes=filter_sizes,\n",
        "    hidden_dim=hidden_dim, dropout_p=dropout_p,\n",
        "    num_classes=len(label_encoder))\n",
        "model.load_state_dict(torch.load(Path(dir, \"model.pt\"), map_location=device))\n",
        "model.to(device)"
      ],
      "execution_count": 154,
      "outputs": [
        {
          "output_type": "execute_result",
          "data": {
            "text/plain": [
              "CNN(\n",
              "  (embeddings): Embedding(39, 128, padding_idx=0)\n",
              "  (conv): ModuleList(\n",
              "    (0): Conv1d(128, 128, kernel_size=(1,), stride=(1,))\n",
              "    (1): Conv1d(128, 128, kernel_size=(2,), stride=(1,))\n",
              "    (2): Conv1d(128, 128, kernel_size=(3,), stride=(1,))\n",
              "    (3): Conv1d(128, 128, kernel_size=(4,), stride=(1,))\n",
              "    (4): Conv1d(128, 128, kernel_size=(5,), stride=(1,))\n",
              "    (5): Conv1d(128, 128, kernel_size=(6,), stride=(1,))\n",
              "    (6): Conv1d(128, 128, kernel_size=(7,), stride=(1,))\n",
              "    (7): Conv1d(128, 128, kernel_size=(8,), stride=(1,))\n",
              "    (8): Conv1d(128, 128, kernel_size=(9,), stride=(1,))\n",
              "    (9): Conv1d(128, 128, kernel_size=(10,), stride=(1,))\n",
              "  )\n",
              "  (dropout): Dropout(p=0.5, inplace=False)\n",
              "  (fc1): Linear(in_features=1280, out_features=128, bias=True)\n",
              "  (fc2): Linear(in_features=128, out_features=34, bias=True)\n",
              ")"
            ]
          },
          "metadata": {},
          "execution_count": 154
        }
      ]
    },
    {
      "cell_type": "code",
      "metadata": {
        "id": "hOBOLE8J6zV5"
      },
      "source": [
        "# Trainer module\n",
        "trainer = Trainer(model=model, device=device)"
      ],
      "execution_count": 155,
      "outputs": []
    },
    {
      "cell_type": "markdown",
      "metadata": {
        "id": "9ofaM94omwgY"
      },
      "source": [
        "## Evaluation"
      ]
    },
    {
      "cell_type": "markdown",
      "metadata": {
        "id": "nsj8_EUEmynv"
      },
      "source": [
        "So far we've been evaluating our models by determing the overall precision, recall and f1 scores. But since performance is one of the key decision making factors when comparing different models, we should have even more nuanced evaluation strategies.\n",
        "\n",
        "- Overall metrics\n",
        "- Per-class (tag) metrics\n",
        "- Confusion matrix sample analysis\n",
        "- Slice metrics"
      ]
    },
    {
      "cell_type": "code",
      "metadata": {
        "id": "h51AAn1Fu4b5"
      },
      "source": [
        "# Metrics\n",
        "metrics = {\"overall\": {}, \"class\": {}}"
      ],
      "execution_count": 156,
      "outputs": []
    },
    {
      "cell_type": "code",
      "metadata": {
        "id": "H8BgzzHBZNMn"
      },
      "source": [
        "# Data to evaluate\n",
        "device = torch.device(\"cuda\")\n",
        "loss_fn = nn.BCEWithLogitsLoss(weight=class_weights_tensor)\n",
        "trainer = Trainer(model=model.to(device), device=device, loss_fn=loss_fn)\n",
        "test_loss, y_true, y_prob = trainer.eval_step(dataloader=test_dataloader)\n",
        "y_pred = np.array([np.where(prob >= threshold, 1, 0) for prob in y_prob])"
      ],
      "execution_count": 157,
      "outputs": []
    },
    {
      "cell_type": "markdown",
      "metadata": {
        "id": "TiXcls5JoNA8"
      },
      "source": [
        "### Overall metrics"
      ]
    },
    {
      "cell_type": "code",
      "metadata": {
        "id": "h2OQtNODrh6c",
        "colab": {
          "base_uri": "https://localhost:8080/"
        },
        "outputId": "3577fec0-3c07-4f55-b048-f35d253af968"
      },
      "source": [
        "# Overall metrics\n",
        "overall_metrics = precision_recall_fscore_support(y_test, y_pred, average=\"weighted\")\n",
        "metrics[\"overall\"][\"precision\"] = overall_metrics[0]\n",
        "metrics[\"overall\"][\"recall\"] = overall_metrics[1]\n",
        "metrics[\"overall\"][\"f1\"] = overall_metrics[2]\n",
        "metrics[\"overall\"][\"num_samples\"] = np.float64(len(y_true))\n",
        "print (json.dumps(metrics[\"overall\"], indent=4))"
      ],
      "execution_count": 158,
      "outputs": [
        {
          "output_type": "stream",
          "name": "stdout",
          "text": [
            "{\n",
            "    \"precision\": 0.7896647806486397,\n",
            "    \"recall\": 0.5965665236051502,\n",
            "    \"f1\": 0.6612830799421741,\n",
            "    \"num_samples\": 218.0\n",
            "}\n"
          ]
        }
      ]
    },
    {
      "cell_type": "markdown",
      "metadata": {
        "id": "zl3xSuXRutKG"
      },
      "source": [
        "### Per-class metrics"
      ]
    },
    {
      "cell_type": "code",
      "metadata": {
        "id": "1zIAI4mwusoX"
      },
      "source": [
        "# Per-class metrics\n",
        "class_metrics = precision_recall_fscore_support(y_test, y_pred, average=None)\n",
        "for i, _class in enumerate(label_encoder.classes):\n",
        "    metrics[\"class\"][_class] = {\n",
        "        \"precision\": class_metrics[0][i],\n",
        "        \"recall\": class_metrics[1][i],\n",
        "        \"f1\": class_metrics[2][i],\n",
        "        \"num_samples\": np.float64(class_metrics[3][i]),\n",
        "    }"
      ],
      "execution_count": 159,
      "outputs": []
    },
    {
      "cell_type": "code",
      "metadata": {
        "id": "Rhh-tgpP0dvj",
        "colab": {
          "base_uri": "https://localhost:8080/"
        },
        "outputId": "270382db-c337-4544-a0f3-dcb66330d017"
      },
      "source": [
        "# Metrics for a specific class\n",
        "tag = \"transformers\"\n",
        "print (json.dumps(metrics[\"class\"][tag], indent=2))"
      ],
      "execution_count": 160,
      "outputs": [
        {
          "output_type": "stream",
          "name": "stdout",
          "text": [
            "{\n",
            "  \"precision\": 0.6428571428571429,\n",
            "  \"recall\": 0.6428571428571429,\n",
            "  \"f1\": 0.6428571428571429,\n",
            "  \"num_samples\": 28.0\n",
            "}\n"
          ]
        }
      ]
    },
    {
      "cell_type": "markdown",
      "metadata": {
        "id": "4RsmVddrmknD"
      },
      "source": [
        "As a general rule, the classes with fewer samples will have lower performance so we should always work to identify the class (or fine-grained slices) of data that our model needs to see more samples of to learn from. "
      ]
    },
    {
      "cell_type": "code",
      "metadata": {
        "id": "5gXY4M5rcQ4H"
      },
      "source": [
        "# Number of training samples per class\n",
        "num_samples = np.sum(y_train, axis=0).tolist()"
      ],
      "execution_count": 161,
      "outputs": []
    },
    {
      "cell_type": "code",
      "metadata": {
        "id": "r0gIKVbMrkgo"
      },
      "source": [
        "# Number of samples vs. performance (per class)\n",
        "f1s = [metrics[\"class\"][_class][\"f1\"]*100. for _class in label_encoder.classes]\n",
        "sorted_lists = sorted(zip(*[num_samples, f1s])) # sort\n",
        "num_samples, f1s = list(zip(*sorted_lists))"
      ],
      "execution_count": 162,
      "outputs": []
    },
    {
      "cell_type": "code",
      "metadata": {
        "id": "vQVA6G-j__t5",
        "colab": {
          "base_uri": "https://localhost:8080/",
          "height": 339
        },
        "outputId": "e8b706b9-0014-44b3-dc8c-9f352c0339b0"
      },
      "source": [
        "# Plot\n",
        "n = 7 # num. top classes to label\n",
        "fig, ax = plt.subplots()\n",
        "ax.set_xlabel(\"# of training samples\")\n",
        "ax.set_ylabel(\"test performance (f1)\")\n",
        "fig.set_size_inches(25, 5)\n",
        "ax.plot(num_samples, f1s, \"bo-\")\n",
        "for x, y, label in zip(num_samples[-n:], f1s[-n:], label_encoder.classes[-n:]):\n",
        "    ax.annotate(label, xy=(x,y), xytext=(-5, 5), ha=\"right\", textcoords=\"offset points\")"
      ],
      "execution_count": 163,
      "outputs": [
        {
          "output_type": "display_data",
          "data": {
            "image/png": "[encoded data removed]",
            "text/plain": [
              "<Figure size 1800x360 with 1 Axes>"
            ]
          },
          "metadata": {}
        }
      ]
    },
    {
      "cell_type": "markdown",
      "metadata": {
        "id": "G4LFphxErqFa"
      },
      "source": [
        "There are, of course, nuances to this general rule such as the complexity of distinguishing between some classes where we may not need as many samples for easier sub-tasks. In our case, classes with over 100 training samples consistently perform better than 0.6 f1 score, whereas the other class' performances are mixed."
      ]
    },
    {
      "cell_type": "markdown",
      "metadata": {
        "id": "f-juex26zvBF"
      },
      "source": [
        "### Confusion matric sample analysis"
      ]
    },
    {
      "cell_type": "markdown",
      "metadata": {
        "id": "xPUao0S4k99c"
      },
      "source": [
        "- True positives: learn about where our model performs well.\n",
        "- False positives: potentially identify samples which may need to be relabeled.\n",
        "- False negatives: identify the model's less performant areas to oversample later.\n",
        "\n",
        "> It's a good to have our FP/FN samples feed back into our annotation pipelines in the event we want to fix their labels and have those changes be reflected everywhere."
      ]
    },
    {
      "cell_type": "code",
      "metadata": {
        "id": "ZG2SgsPAzukL"
      },
      "source": [
        "# TP, FP, FN samples\n",
        "index = label_encoder.class_to_index[tag]\n",
        "tp, fp, fn = [], [], []\n",
        "for i in range(len(y_test)):\n",
        "    true = y_test[i][index]\n",
        "    pred = y_pred[i][index]\n",
        "    if true and pred:\n",
        "        tp.append(i)\n",
        "    elif not true and pred:\n",
        "        fp.append(i)\n",
        "    elif true and not pred:\n",
        "        fn.append(i)"
      ],
      "execution_count": 164,
      "outputs": []
    },
    {
      "cell_type": "code",
      "metadata": {
        "id": "ePrxeVkG0mmO",
        "colab": {
          "base_uri": "https://localhost:8080/"
        },
        "outputId": "1faa944f-8d3e-4475-e2af-75e3a2420acc"
      },
      "source": [
        "print (tp)\n",
        "print (fp)\n",
        "print (fn)"
      ],
      "execution_count": 165,
      "outputs": [
        {
          "output_type": "stream",
          "name": "stdout",
          "text": [
            "[4, 9, 27, 38, 40, 52, 58, 74, 79, 88, 97, 167, 174, 181, 186, 191, 194, 195]\n",
            "[45, 54, 98, 104, 109, 137, 146, 152, 162, 190]\n",
            "[55, 59, 63, 70, 87, 93, 125, 144, 166, 201]\n"
          ]
        }
      ]
    },
    {
      "cell_type": "code",
      "metadata": {
        "id": "-9UCXV7K0ocX",
        "colab": {
          "base_uri": "https://localhost:8080/"
        },
        "outputId": "58f66158-f02e-4efe-de03-091cf975759f"
      },
      "source": [
        "index = tp[0]\n",
        "print (X_test[index])\n",
        "print (f\"true: {label_encoder.decode([y_test[index]])[0]}\")\n",
        "print (f\"pred: {label_encoder.decode([y_pred[index]])[0]}\\n\")"
      ],
      "execution_count": 166,
      "outputs": [
        {
          "output_type": "stream",
          "name": "stdout",
          "text": [
            "simple transformers transformers classification ner qa language modeling language generation t5 multi modal conversational ai\n",
            "true: ['language-modeling', 'natural-language-processing', 'question-answering', 'transformers']\n",
            "pred: ['attention', 'huggingface', 'language-modeling', 'natural-language-processing', 'transformers']\n",
            "\n"
          ]
        }
      ]
    },
    {
      "cell_type": "code",
      "metadata": {
        "id": "tVbuLfiH0ofe"
      },
      "source": [
        "# Sorted tags\n",
        "sorted_tags_by_f1 = OrderedDict(sorted(\n",
        "        metrics[\"class\"].items(), key=lambda tag: tag[1][\"f1\"], reverse=True))"
      ],
      "execution_count": 167,
      "outputs": []
    },
    {
      "cell_type": "code",
      "metadata": {
        "id": "n4jLEJ6f0ojA",
        "colab": {
          "base_uri": "https://localhost:8080/",
          "height": 831,
          "referenced_widgets": [
            "c4841981f618449f80a0c87beab9614a",
            "af689f2a251f4eb6bd48473a65b9a872",
            "ac4fea11bb7647a9aaefc8bba2468ab2",
            "8c5108d83fa94af6bd3843e7918d0a2d",
            "2a85ddf7fb6945949ff7ade3e3677c39",
            "ac7f8a1520234a30a96b2f6feec6b8d6",
            "7a5a50c040db407085e487ea09f426a0"
          ]
        },
        "outputId": "7a7b45bb-a12c-404d-b8ce-bbe0d04ac351"
      },
      "source": [
        "@widgets.interact(tag=list(sorted_tags_by_f1.keys()))\n",
        "def display_tag_analysis(tag='transformers'):\n",
        "    # Performance\n",
        "    print (json.dumps(metrics[\"class\"][tag], indent=2))\n",
        "    \n",
        "    # TP, FP, FN samples\n",
        "    index = label_encoder.class_to_index[tag]\n",
        "    tp, fp, fn = [], [], []\n",
        "    for i in range(len(y_test)):\n",
        "        true = y_test[i][index]\n",
        "        pred = y_pred[i][index]\n",
        "        if true and pred:\n",
        "            tp.append(i)\n",
        "        elif not true and pred:\n",
        "            fp.append(i)\n",
        "        elif true and not pred:\n",
        "            fn.append(i)\n",
        "            \n",
        "    # Samples\n",
        "    num_samples = 3\n",
        "    if len(tp): \n",
        "        print (\"\\n=== True positives ===\")\n",
        "        for i in tp[:num_samples]:        \n",
        "            print (f\"  {X_test[i]}\")\n",
        "            print (f\"    true: {label_encoder.decode([y_test[i]])[0]}\")\n",
        "            print (f\"    pred: {label_encoder.decode([y_pred[i]])[0]}\\n\")\n",
        "    if len(fp): \n",
        "        print (\"=== False positives === \")\n",
        "        for i in fp[:num_samples]:        \n",
        "            print (f\"  {X_test[i]}\")\n",
        "            print (f\"    true: {label_encoder.decode([y_test[i]])[0]}\")\n",
        "            print (f\"    pred: {label_encoder.decode([y_pred[i]])[0]}\\n\")\n",
        "    if len(fn): \n",
        "        print (\"=== False negatives ===\")\n",
        "        for i in fn[:num_samples]:        \n",
        "            print (f\"  {X_test[i]}\") \n",
        "            print (f\"    true: {label_encoder.decode([y_test[i]])[0]}\")\n",
        "            print (f\"    pred: {label_encoder.decode([y_pred[i]])[0]}\\n\")"
      ],
      "execution_count": 168,
      "outputs": [
        {
          "output_type": "display_data",
          "data": {
            "application/vnd.jupyter.widget-view+json": {
              "model_id": "c4841981f618449f80a0c87beab9614a",
              "version_minor": 0,
              "version_major": 2
            },
            "text/plain": [
              "interactive(children=(Dropdown(description='tag', index=19, options=('transfer-learning', 'autoencoders', 'tim…"
            ]
          },
          "metadata": {}
        }
      ]
    },
    {
      "cell_type": "markdown",
      "metadata": {
        "id": "4S9XH4j4wSlS"
      },
      "source": [
        "> It's a really good idea to do this kind of analysis using our rule-based approach to catch really obvious labeling errors."
      ]
    },
    {
      "cell_type": "markdown",
      "metadata": {
        "id": "dvS3UpusXP_R"
      },
      "source": [
        "### Slice metrics"
      ]
    },
    {
      "cell_type": "markdown",
      "metadata": {
        "id": "eeWWMG38Ny4U"
      },
      "source": [
        "Evaluate performance on key slices of data that goes beyond class-level metrics."
      ]
    },
    {
      "cell_type": "code",
      "metadata": {
        "id": "ZyueOtQsXdGm"
      },
      "source": [
        "from snorkel.slicing import PandasSFApplier\n",
        "from snorkel.slicing import slice_dataframe\n",
        "from snorkel.slicing import slicing_function"
      ],
      "execution_count": 169,
      "outputs": []
    },
    {
      "cell_type": "code",
      "metadata": {
        "id": "coutP2KtXdLG"
      },
      "source": [
        "@slicing_function()\n",
        "def pytorch_transformers(x):\n",
        "    \"\"\"Projects with the `pytorch` and `transformers` tags.\"\"\"\n",
        "    return all(tag in x.tags for tag in [\"pytorch\", \"transformers\"])"
      ],
      "execution_count": 185,
      "outputs": []
    },
    {
      "cell_type": "code",
      "metadata": {
        "id": "zNekudM4XfBE"
      },
      "source": [
        "@slicing_function()\n",
        "def short_text(x):\n",
        "    \"\"\"Projects with short titles and descriptions.\"\"\"\n",
        "    return len(x.text.split()) < 7  # less than 7 words"
      ],
      "execution_count": 186,
      "outputs": []
    },
    {
      "cell_type": "code",
      "metadata": {
        "id": "B7jmdmNaXuA2",
        "colab": {
          "base_uri": "https://localhost:8080/",
          "height": 190
        },
        "outputId": "db967576-a79c-49e2-da38-95cfc0b3af35"
      },
      "source": [
        "short_text_df = slice_dataframe(test_df, short_text)\n",
        "short_text_df[[\"text\", \"tags\"]].head()"
      ],
      "execution_count": 187,
      "outputs": [
        {
          "output_type": "stream",
          "name": "stderr",
          "text": [
            "100%|██████████| 218/218 [00:00<00:00, 20081.22it/s]\n"
          ]
        },
        {
          "output_type": "execute_result",
          "data": {
            "text/html": [
              "<div>\n",
              "<style scoped>\n",
              "    .dataframe tbody tr th:only-of-type {\n",
              "        vertical-align: middle;\n",
              "    }\n",
              "\n",
              "    .dataframe tbody tr th {\n",
              "        vertical-align: top;\n",
              "    }\n",
              "\n",
              "    .dataframe thead th {\n",
              "        text-align: right;\n",
              "    }\n",
              "</style>\n",
              "<table border=\"1\" class=\"dataframe\">\n",
              "  <thead>\n",
              "    <tr style=\"text-align: right;\">\n",
              "      <th></th>\n",
              "      <th>text</th>\n",
              "      <th>tags</th>\n",
              "    </tr>\n",
              "  </thead>\n",
              "  <tbody>\n",
              "    <tr>\n",
              "      <th>44</th>\n",
              "      <td>flask sqlalchemy adds sqlalchemy support flask</td>\n",
              "      <td>[flask]</td>\n",
              "    </tr>\n",
              "    <tr>\n",
              "      <th>69</th>\n",
              "      <td>scikit lego extra blocks sklearn pipelines</td>\n",
              "      <td>[scikit-learn]</td>\n",
              "    </tr>\n",
              "    <tr>\n",
              "      <th>83</th>\n",
              "      <td>simclr keras tensorflow keras implementation s...</td>\n",
              "      <td>[keras, self-supervised-learning, tensorflow]</td>\n",
              "    </tr>\n",
              "    <tr>\n",
              "      <th>215</th>\n",
              "      <td>introduction autoencoders look autoencoders re...</td>\n",
              "      <td>[autoencoders, representation-learning]</td>\n",
              "    </tr>\n",
              "  </tbody>\n",
              "</table>\n",
              "</div>"
            ],
            "text/plain": [
              "                                                  text                                           tags\n",
              "44      flask sqlalchemy adds sqlalchemy support flask                                        [flask]\n",
              "69          scikit lego extra blocks sklearn pipelines                                 [scikit-learn]\n",
              "83   simclr keras tensorflow keras implementation s...  [keras, self-supervised-learning, tensorflow]\n",
              "215  introduction autoencoders look autoencoders re...        [autoencoders, representation-learning]"
            ]
          },
          "metadata": {},
          "execution_count": 187
        }
      ]
    },
    {
      "cell_type": "markdown",
      "metadata": {
        "id": "kZuDZwTNO93Q"
      },
      "source": [
        "We can define even more slicing functions and create a slices record array using the [`PandasSFApplier`](https://snorkel.readthedocs.io/en/v0.9.6/packages/_autosummary/slicing/snorkel.slicing.PandasSFApplier.html). The slices array has N (# of data points) items and each item has S (# of slicing functions) items, indicating whether that data point is part of that slice. Think of this record array as a masking layer for each slicing function on our data."
      ]
    },
    {
      "cell_type": "code",
      "metadata": {
        "id": "mQG8PFovXfEm",
        "colab": {
          "base_uri": "https://localhost:8080/"
        },
        "outputId": "4b5fb7a3-86b6-4ac6-ceb8-569d16878de1"
      },
      "source": [
        "# Slices\n",
        "slicing_functions = [pytorch_transformers, short_text]\n",
        "applier = PandasSFApplier(slicing_functions)\n",
        "slices = applier.apply(test_df)\n",
        "slices"
      ],
      "execution_count": 188,
      "outputs": [
        {
          "output_type": "stream",
          "name": "stderr",
          "text": [
            "100%|██████████| 218/218 [00:00<00:00, 16695.12it/s]\n"
          ]
        },
        {
          "output_type": "execute_result",
          "data": {
            "text/plain": [
              "rec.array([(0, 0), (0, 0), (0, 0), (0, 0), (0, 0), (0, 0), (0, 0), (0, 0),\n",
              "           (0, 0), (0, 0), (0, 0), (0, 0), (0, 0), (0, 0), (0, 0), (0, 0),\n",
              "           (0, 0), (0, 0), (0, 0), (0, 0), (0, 0), (0, 0), (0, 0), (0, 0),\n",
              "           (0, 0), (0, 0), (0, 0), (0, 0), (0, 0), (0, 0), (0, 0), (0, 0),\n",
              "           (0, 0), (0, 0), (0, 0), (0, 0), (0, 0), (0, 0), (0, 0), (0, 0),\n",
              "           (1, 0), (0, 0), (0, 0), (0, 0), (0, 1), (0, 0), (0, 0), (0, 0),\n",
              "           (0, 0), (0, 0), (0, 0), (0, 0), (0, 0), (0, 0), (0, 0), (0, 0),\n",
              "           (0, 0), (0, 0), (0, 0), (0, 0), (0, 0), (0, 0), (0, 0), (0, 0),\n",
              "           (0, 0), (0, 0), (0, 0), (0, 0), (0, 0), (0, 1), (0, 0), (0, 0),\n",
              "           (0, 0), (0, 0), (0, 0), (0, 0), (0, 0), (0, 0), (0, 0), (0, 0),\n",
              "           (0, 0), (0, 0), (0, 0), (0, 1), (0, 0), (0, 0), (0, 0), (0, 0),\n",
              "           (0, 0), (0, 0), (0, 0), (0, 0), (0, 0), (0, 0), (0, 0), (0, 0),\n",
              "           (0, 0), (0, 0), (0, 0), (0, 0), (0, 0), (0, 0), (0, 0), (0, 0),\n",
              "           (0, 0), (0, 0), (0, 0), (0, 0), (0, 0), (0, 0), (0, 0), (0, 0),\n",
              "           (0, 0), (0, 0), (0, 0), (0, 0), (0, 0), (0, 0), (0, 0), (0, 0),\n",
              "           (0, 0), (0, 0), (0, 0), (0, 0), (0, 0), (0, 0), (0, 0), (0, 0),\n",
              "           (0, 0), (0, 0), (0, 0), (0, 0), (0, 0), (0, 0), (0, 0), (0, 0),\n",
              "           (0, 0), (0, 0), (0, 0), (0, 0), (0, 0), (0, 0), (0, 0), (0, 0),\n",
              "           (0, 0), (0, 0), (0, 0), (0, 0), (0, 0), (0, 0), (0, 0), (0, 0),\n",
              "           (0, 0), (0, 0), (0, 0), (0, 0), (0, 0), (0, 0), (0, 0), (0, 0),\n",
              "           (0, 0), (0, 0), (0, 0), (0, 0), (0, 0), (0, 0), (0, 0), (1, 0),\n",
              "           (0, 0), (0, 0), (0, 0), (0, 0), (0, 0), (0, 0), (0, 0), (0, 0),\n",
              "           (0, 0), (0, 0), (0, 0), (0, 0), (0, 0), (0, 0), (0, 0), (0, 0),\n",
              "           (0, 0), (0, 0), (0, 0), (0, 0), (0, 0), (0, 0), (0, 0), (0, 0),\n",
              "           (0, 0), (0, 0), (1, 0), (0, 0), (0, 0), (0, 0), (0, 0), (0, 0),\n",
              "           (0, 0), (0, 0), (0, 0), (0, 0), (0, 0), (0, 0), (0, 0), (0, 0),\n",
              "           (0, 0), (0, 0), (0, 0), (0, 0), (0, 0), (0, 0), (0, 0), (0, 1),\n",
              "           (0, 0), (0, 0)],\n",
              "          dtype=[('pytorch_transformers', '<i8'), ('short_text', '<i8')])"
            ]
          },
          "metadata": {},
          "execution_count": 188
        }
      ]
    },
    {
      "cell_type": "markdown",
      "metadata": {
        "id": "tCltCyWwYIvC"
      },
      "source": [
        "If our task was multiclass instead of multilabel, we could've used [snorkel.analysis.Scorer](https://snorkel.readthedocs.io/en/v0.9.1/packages/_autosummary/analysis/snorkel.analysis.Scorer.html) to retrieve our slice metrics. But we've implemented a naive version for our multilabel task based on it."
      ]
    },
    {
      "cell_type": "code",
      "metadata": {
        "id": "GqkwQenBXfIa"
      },
      "source": [
        "# Score slices\n",
        "metrics[\"slices\"] = {}\n",
        "for slice_name in slices.dtype.names:\n",
        "    mask = slices[slice_name].astype(bool)\n",
        "    if sum(mask):  \n",
        "        slice_metrics = precision_recall_fscore_support(\n",
        "            y_test[mask], y_pred[mask], average=\"micro\"\n",
        "        )\n",
        "        metrics[\"slices\"][slice_name] = {}\n",
        "        metrics[\"slices\"][slice_name][\"precision\"] = slice_metrics[0]\n",
        "        metrics[\"slices\"][slice_name][\"recall\"] = slice_metrics[1]\n",
        "        metrics[\"slices\"][slice_name][\"f1\"] = slice_metrics[2]\n",
        "        metrics[\"slices\"][slice_name][\"num_samples\"] = len(y_true[mask])"
      ],
      "execution_count": 207,
      "outputs": []
    },
    {
      "cell_type": "code",
      "metadata": {
        "id": "QapvZ3bgX3J6",
        "colab": {
          "base_uri": "https://localhost:8080/"
        },
        "outputId": "bb31dbd9-d062-4426-d106-ceee5188be50"
      },
      "source": [
        "print(json.dumps(metrics[\"slices\"], indent=2))"
      ],
      "execution_count": 208,
      "outputs": [
        {
          "output_type": "stream",
          "name": "stdout",
          "text": [
            "{\n",
            "  \"pytorch_transformers\": {\n",
            "    \"precision\": 0.9230769230769231,\n",
            "    \"recall\": 0.8571428571428571,\n",
            "    \"f1\": 0.888888888888889,\n",
            "    \"num_samples\": 3\n",
            "  },\n",
            "  \"short_text\": {\n",
            "    \"precision\": 0.8,\n",
            "    \"recall\": 0.5714285714285714,\n",
            "    \"f1\": 0.6666666666666666,\n",
            "    \"num_samples\": 4\n",
            "  }\n",
            "}\n"
          ]
        }
      ]
    },
    {
      "cell_type": "markdown",
      "metadata": {
        "id": "v9yUHIrgYe6s"
      },
      "source": [
        "> In our [testing lesson](https://madewithml.com/courses/mlops/testing/), we'll cover another way to evaluate our model known as [behavioral testing](https://madewithml.com/courses/mlops/testing/#behavioral-testing), which we'll also include as part of performance report."
      ]
    },
    {
      "cell_type": "markdown",
      "metadata": {
        "id": "MILv2j74iUMQ"
      },
      "source": [
        "## Experiment tracking"
      ]
    },
    {
      "cell_type": "markdown",
      "metadata": {
        "id": "t40bb7o2jyCP"
      },
      "source": [
        "So far, we've been training and evaluating our different baselines but haven't really been tracking these experiments. We'll fix this by defining a proper process for experiment tracking which we'll use for all future experiments (including hyperparameter optimization). There are many options for experiment tracking but we're going to use [MLFlow](https://mlflow.org/) (100% free and [open-source](https://github.com/mlflow/mlflow)) because it has all the functionality we'll need (and [growing integration support](https://medium.com/pytorch/mlflow-and-pytorch-where-cutting-edge-ai-meets-mlops-1985cf8aa789)). We can run MLFlow on our own servers and databases so there are no storage cost / limitations, making it one of the most popular options and is used by Microsoft, Facebook, Databricks and others. You can also set up your own Tracking servers to synchronize runs amongst multiple team members collaborating on the same task.\n",
        "\n",
        "There are also several popular options such as a [Comet ML](https://www.comet.ml/site/) (Used by Google AI, HuggingFace, etc.) and [Weights and Biases](https://www.wandb.com/) (Used by Open AI, Toyota Research, etc.). These are fantastic tools that provide features like dashboards, seamless integration, hyperparameter search, reports and even [debugging](https://wandb.ai/latentspace/published-work/The-Science-of-Debugging-with-W-B-Reports--Vmlldzo4OTI3Ng)!"
      ]
    },
    {
      "cell_type": "code",
      "metadata": {
        "id": "GiU-_H58iVvV",
        "colab": {
          "base_uri": "https://localhost:8080/"
        },
        "outputId": "49a0be62-1f0f-4473-e7de-f60de8095741"
      },
      "source": [
        "!pip install mlflow==1.13.1 pyngrok -q"
      ],
      "execution_count": null,
      "outputs": [
        {
          "output_type": "stream",
          "name": "stdout",
          "text": [
            "\u001b[K     |████████████████████████████████| 14.1 MB 28 kB/s \n",
            "\u001b[K     |████████████████████████████████| 745 kB 29.2 MB/s \n",
            "\u001b[K     |████████████████████████████████| 170 kB 49.6 MB/s \n",
            "\u001b[K     |████████████████████████████████| 1.1 MB 44.2 MB/s \n",
            "\u001b[K     |████████████████████████████████| 345 kB 42.2 MB/s \n",
            "\u001b[K     |████████████████████████████████| 79 kB 7.6 MB/s \n",
            "\u001b[K     |████████████████████████████████| 145 kB 51.8 MB/s \n",
            "\u001b[K     |████████████████████████████████| 56 kB 4.3 MB/s \n",
            "\u001b[K     |████████████████████████████████| 75 kB 4.4 MB/s \n",
            "\u001b[K     |████████████████████████████████| 85 kB 4.2 MB/s \n",
            "\u001b[K     |████████████████████████████████| 165 kB 51.7 MB/s \n",
            "\u001b[K     |████████████████████████████████| 3.0 MB 38.1 MB/s \n",
            "\u001b[K     |████████████████████████████████| 52 kB 1.3 MB/s \n",
            "\u001b[K     |████████████████████████████████| 63 kB 1.8 MB/s \n",
            "\u001b[K     |████████████████████████████████| 45 kB 3.2 MB/s \n",
            "\u001b[?25h  Building wheel for alembic (setup.py) ... \u001b[?25l\u001b[?25hdone\n",
            "  Building wheel for databricks-cli (setup.py) ... \u001b[?25l\u001b[?25hdone\n",
            "  Building wheel for pyngrok (setup.py) ... \u001b[?25l\u001b[?25hdone\n",
            "  Building wheel for prometheus-flask-exporter (setup.py) ... \u001b[?25l\u001b[?25hdone\n"
          ]
        }
      ]
    },
    {
      "cell_type": "code",
      "metadata": {
        "id": "jjBl3l1cl4x6"
      },
      "source": [
        "from argparse import Namespace\n",
        "import mlflow\n",
        "from pathlib import Path"
      ],
      "execution_count": null,
      "outputs": []
    },
    {
      "cell_type": "code",
      "metadata": {
        "id": "bDwbBLh4xdFG"
      },
      "source": [
        "# Specify arguments\n",
        "args = Namespace(\n",
        "    char_level=True,\n",
        "    filter_sizes=list(range(1, 11)),\n",
        "    batch_size=64,\n",
        "    embedding_dim=128, \n",
        "    num_filters=128,\n",
        "    hidden_dim=128, \n",
        "    dropout_p=0.5,\n",
        "    lr=2e-4,\n",
        "    num_epochs=100,\n",
        "    patience=10,\n",
        ")"
      ],
      "execution_count": null,
      "outputs": []
    },
    {
      "cell_type": "markdown",
      "metadata": {
        "id": "fIHrsmkN7rYi"
      },
      "source": [
        "> When we move to Python scripts, we'll use the [Typer](https://typer.tiangolo.com/) package instead of argparse for a better CLI experience."
      ]
    },
    {
      "cell_type": "code",
      "metadata": {
        "id": "Bq5Zoy6YohM3"
      },
      "source": [
        "# Set tracking URI\n",
        "MODEL_REGISTRY = Path(\"experiments\")\n",
        "Path(MODEL_REGISTRY).mkdir(exist_ok=True) # create experiments dir\n",
        "mlflow.set_tracking_uri(\"file://\" + str(MODEL_REGISTRY.absolute()))"
      ],
      "execution_count": null,
      "outputs": []
    },
    {
      "cell_type": "code",
      "metadata": {
        "id": "9DR1CvJeo48U",
        "colab": {
          "base_uri": "https://localhost:8080/"
        },
        "outputId": "7e5fcd24-f355-4863-8c9f-c2f19afe841d"
      },
      "source": [
        "!ls"
      ],
      "execution_count": null,
      "outputs": [
        {
          "output_type": "stream",
          "name": "stdout",
          "text": [
            "cnn  experiments  sample_data\n"
          ]
        }
      ]
    },
    {
      "cell_type": "markdown",
      "metadata": {
        "id": "JGvUEKbl9buj"
      },
      "source": [
        "### Training"
      ]
    },
    {
      "cell_type": "markdown",
      "metadata": {
        "id": "JZgQlLyHHwEk"
      },
      "source": [
        "We're going to log the training epoch metrics within our `Trainer`'s `train` function. "
      ]
    },
    {
      "cell_type": "code",
      "metadata": {
        "id": "F16Qt7xSHqph"
      },
      "source": [
        "# Modified for experiment tracking\n",
        "class Trainer(object):\n",
        "    def __init__(self, model, device, loss_fn=None, optimizer=None, scheduler=None):\n",
        "\n",
        "        # Set params\n",
        "        self.model = model\n",
        "        self.device = device\n",
        "        self.loss_fn = loss_fn\n",
        "        self.optimizer = optimizer\n",
        "        self.scheduler = scheduler\n",
        "\n",
        "    def train_step(self, dataloader):\n",
        "        \"\"\"Train step.\"\"\"\n",
        "        # Set model to train mode\n",
        "        self.model.train()\n",
        "        loss = 0.0\n",
        "\n",
        "        # Iterate over train batches\n",
        "        for i, batch in enumerate(dataloader):\n",
        "\n",
        "            # Step\n",
        "            batch = [item.to(self.device) for item in batch]  # Set device\n",
        "            inputs, targets = batch[:-1], batch[-1]\n",
        "            self.optimizer.zero_grad()  # Reset gradients\n",
        "            z = self.model(inputs)  # Forward pass\n",
        "            J = self.loss_fn(z, targets)  # Define loss\n",
        "            J.backward()  # Backward pass\n",
        "            self.optimizer.step()  # Update weights\n",
        "\n",
        "            # Cumulative Metrics\n",
        "            loss += (J.detach().item() - loss) / (i + 1)\n",
        "\n",
        "        return loss\n",
        "\n",
        "    def eval_step(self, dataloader):\n",
        "        \"\"\"Validation or test step.\"\"\"\n",
        "        # Set model to eval mode\n",
        "        self.model.eval()\n",
        "        loss = 0.0\n",
        "        y_trues, y_probs = [], []\n",
        "\n",
        "        # Iterate over val batches\n",
        "        with torch.no_grad():\n",
        "            for i, batch in enumerate(dataloader):\n",
        "\n",
        "                # Step\n",
        "                batch = [item.to(self.device) for item in batch]  # Set device\n",
        "                inputs, y_true = batch[:-1], batch[-1]\n",
        "                z = self.model(inputs)  # Forward pass\n",
        "                J = self.loss_fn(z, y_true).item()\n",
        "\n",
        "                # Cumulative Metrics\n",
        "                loss += (J - loss) / (i + 1)\n",
        "\n",
        "                # Store outputs\n",
        "                y_prob = torch.sigmoid(z).cpu().numpy()\n",
        "                y_probs.extend(y_prob)\n",
        "                y_trues.extend(y_true.cpu().numpy())\n",
        "\n",
        "        return loss, np.vstack(y_trues), np.vstack(y_probs)\n",
        "\n",
        "    def predict_step(self, dataloader):\n",
        "        \"\"\"Prediction step.\"\"\"\n",
        "        # Set model to eval mode\n",
        "        self.model.eval()\n",
        "        y_probs = []\n",
        "\n",
        "        # Iterate over val batches\n",
        "        with torch.no_grad():\n",
        "            for i, batch in enumerate(dataloader):\n",
        "\n",
        "                # Forward pass w/ inputs\n",
        "                inputs, targets = batch[:-1], batch[-1]\n",
        "                z = self.model(inputs)\n",
        "\n",
        "                # Store outputs\n",
        "                y_prob = torch.sigmoid(z).cpu().numpy()\n",
        "                y_probs.extend(y_prob)\n",
        "\n",
        "        return np.vstack(y_probs)\n",
        "    \n",
        "    def train(self, num_epochs, patience, train_dataloader, val_dataloader, \n",
        "              tolerance=1e-5):\n",
        "        best_val_loss = np.inf\n",
        "        for epoch in range(num_epochs):\n",
        "            # Steps\n",
        "            train_loss = self.train_step(dataloader=train_dataloader)\n",
        "            val_loss, _, _ = self.eval_step(dataloader=val_dataloader)\n",
        "            self.scheduler.step(val_loss)\n",
        "\n",
        "            # Early stopping\n",
        "            if val_loss < best_val_loss - tolerance:\n",
        "                best_val_loss = val_loss\n",
        "                best_model = self.model\n",
        "                _patience = patience  # reset _patience\n",
        "            else:\n",
        "                _patience -= 1\n",
        "            if not _patience:  # 0\n",
        "                print(\"Stopping early!\")\n",
        "                break\n",
        "\n",
        "            # Tracking\n",
        "            mlflow.log_metrics(\n",
        "                {\"train_loss\": train_loss, \"val_loss\": val_loss}, step=epoch\n",
        "            )\n",
        "\n",
        "            # Logging\n",
        "            print(\n",
        "                f\"Epoch: {epoch+1} | \"\n",
        "                f\"train_loss: {train_loss:.5f}, \"\n",
        "                f\"val_loss: {val_loss:.5f}, \"\n",
        "                f\"lr: {self.optimizer.param_groups[0]['lr']:.2E}, \"\n",
        "                f\"_patience: {_patience}\"\n",
        "            )\n",
        "        return best_model, best_val_loss"
      ],
      "execution_count": null,
      "outputs": []
    },
    {
      "cell_type": "markdown",
      "metadata": {
        "id": "8Mk5Dlcj_aJd"
      },
      "source": [
        "And to make things simple, we'll encapsulate all the components for training into one function which returns all the artifacts we want to be able to track from our experiment. The input argument `args`contains all the parameters needed and it's nice to have it all organized under one variable so we can easily log it and tweak it for different experiments (we'll see this when we do hyperparameter optimization)."
      ]
    },
    {
      "cell_type": "code",
      "metadata": {
        "id": "OWUtQYLIR9Nn"
      },
      "source": [
        "def train_cnn(args, df):\n",
        "    \"\"\"Train a CNN using specific arguments.\"\"\"\n",
        "\n",
        "    # Set seeds\n",
        "    set_seeds()\n",
        "\n",
        "    # Get data splits\n",
        "    preprocessed_df = df.copy()\n",
        "    preprocessed_df.text = preprocessed_df.text.apply(preprocess, lower=True)\n",
        "    X_train, X_val, X_test, y_train, y_val, y_test, label_encoder = get_data_splits(preprocessed_df)\n",
        "    num_classes = len(label_encoder)\n",
        "\n",
        "    # Set device\n",
        "    cuda = True\n",
        "    device = torch.device(\"cuda\" if (\n",
        "        torch.cuda.is_available() and cuda) else \"cpu\")\n",
        "    torch.set_default_tensor_type(\"torch.FloatTensor\")\n",
        "    if device.type == \"cuda\":\n",
        "        torch.set_default_tensor_type(\"torch.cuda.FloatTensor\")\n",
        "\n",
        "    # Tokenize\n",
        "    tokenizer = Tokenizer(char_level=args.char_level)\n",
        "    tokenizer.fit_on_texts(texts=X_train)\n",
        "    vocab_size = len(tokenizer)\n",
        "\n",
        "    # Convert texts to sequences of indices\n",
        "    X_train = np.array(tokenizer.texts_to_sequences(X_train))\n",
        "    X_val = np.array(tokenizer.texts_to_sequences(X_val))\n",
        "    X_test = np.array(tokenizer.texts_to_sequences(X_test))\n",
        "\n",
        "    # Class weights\n",
        "    counts = np.bincount([label_encoder.class_to_index[class_] for class_ in all_tags])\n",
        "    class_weights = {i: 1.0/count for i, count in enumerate(counts)}\n",
        "\n",
        "    # Create datasets\n",
        "    train_dataset = CNNTextDataset(\n",
        "        X=X_train, y=y_train, max_filter_size=max(args.filter_sizes))\n",
        "    val_dataset = CNNTextDataset(\n",
        "        X=X_val, y=y_val, max_filter_size=max(args.filter_sizes))\n",
        "    test_dataset = CNNTextDataset(\n",
        "        X=X_test, y=y_test, max_filter_size=max(args.filter_sizes))\n",
        "\n",
        "    # Create dataloaders\n",
        "    train_dataloader = train_dataset.create_dataloader(\n",
        "        batch_size=args.batch_size)\n",
        "    val_dataloader = val_dataset.create_dataloader(\n",
        "        batch_size=args.batch_size)\n",
        "    test_dataloader = test_dataset.create_dataloader(\n",
        "        batch_size=args.batch_size)\n",
        "\n",
        "    # Initialize model\n",
        "    model = CNN(\n",
        "        embedding_dim=args.embedding_dim, vocab_size=vocab_size,\n",
        "        num_filters=args.num_filters, filter_sizes=args.filter_sizes,\n",
        "        hidden_dim=args.hidden_dim, dropout_p=args.dropout_p,\n",
        "        num_classes=num_classes)\n",
        "    model = model.to(device)\n",
        "\n",
        "    # Define loss\n",
        "    class_weights_tensor = torch.Tensor(np.array(list(class_weights.values())))\n",
        "    loss_fn = nn.BCEWithLogitsLoss(weight=class_weights_tensor)\n",
        "\n",
        "    # Define optimizer & scheduler\n",
        "    optimizer = torch.optim.Adam(model.parameters(), lr=args.lr)\n",
        "    scheduler = torch.optim.lr_scheduler.ReduceLROnPlateau(\n",
        "        optimizer, mode=\"min\", factor=0.1, patience=5)\n",
        "\n",
        "    # Trainer module\n",
        "    trainer = Trainer(\n",
        "        model=model, device=device, loss_fn=loss_fn, \n",
        "        optimizer=optimizer, scheduler=scheduler)\n",
        "\n",
        "    # Train\n",
        "    best_model, best_val_loss = trainer.train(\n",
        "        args.num_epochs, args.patience, train_dataloader, val_dataloader)\n",
        "\n",
        "    # Best threshold for f1\n",
        "    train_loss, y_true, y_prob = trainer.eval_step(dataloader=train_dataloader)\n",
        "    precisions, recalls, thresholds = precision_recall_curve(y_true.ravel(), y_prob.ravel())\n",
        "    threshold = find_best_threshold(y_true.ravel(), y_prob.ravel())\n",
        "\n",
        "    # Determine predictions using threshold\n",
        "    test_loss, y_true, y_prob = trainer.eval_step(dataloader=test_dataloader)\n",
        "    y_pred = np.array([np.where(prob >= threshold, 1, 0) for prob in y_prob])\n",
        "\n",
        "    # Evaluate (simple)\n",
        "    metrics = precision_recall_fscore_support(y_test, y_pred, average=\"weighted\")\n",
        "    performance = {\"precision\": metrics[0], \"recall\": metrics[1], \"f1\": metrics[2]}\n",
        "\n",
        "    return {\n",
        "        \"args\": args,\n",
        "        \"tokenizer\": tokenizer,\n",
        "        \"label_encoder\": label_encoder,\n",
        "        \"model\": best_model,\n",
        "        \"performance\": performance,\n",
        "        \"best_val_loss\": best_val_loss,\n",
        "    }"
      ],
      "execution_count": null,
      "outputs": []
    },
    {
      "cell_type": "markdown",
      "metadata": {
        "id": "oyqrdKxZ9gFi"
      },
      "source": [
        "### Tracking"
      ]
    },
    {
      "cell_type": "markdown",
      "metadata": {
        "id": "7EyOAaaTLlil"
      },
      "source": [
        "With MLFlow we need to first initialize an experiment and then you can do runs under that experiment."
      ]
    },
    {
      "cell_type": "code",
      "metadata": {
        "id": "Z5qLhfSJxSkp"
      },
      "source": [
        "import tempfile"
      ],
      "execution_count": null,
      "outputs": []
    },
    {
      "cell_type": "code",
      "metadata": {
        "id": "TJHQ_SwwLjRY",
        "colab": {
          "base_uri": "https://localhost:8080/"
        },
        "outputId": "115cbb5d-99cf-4718-c14c-1ad7041a36ce"
      },
      "source": [
        "# Set experiment\n",
        "mlflow.set_experiment(experiment_name=\"baselines\")"
      ],
      "execution_count": null,
      "outputs": [
        {
          "output_type": "stream",
          "name": "stdout",
          "text": [
            "INFO: 'baselines' does not exist. Creating a new experiment\n"
          ]
        }
      ]
    },
    {
      "cell_type": "code",
      "metadata": {
        "id": "FCuqxD1V2dce"
      },
      "source": [
        "def save_dict(d, filepath):\n",
        "    \"\"\"Save dict to a json file.\"\"\"\n",
        "    with open(filepath, \"w\") as fp:\n",
        "        json.dump(d, indent=2, sort_keys=False, fp=fp)"
      ],
      "execution_count": null,
      "outputs": []
    },
    {
      "cell_type": "code",
      "metadata": {
        "id": "5rWwqZPWo7Oo",
        "colab": {
          "base_uri": "https://localhost:8080/"
        },
        "outputId": "979c3d56-7b12-45cc-d25d-23c3fcde6609"
      },
      "source": [
        "# Tracking\n",
        "with mlflow.start_run(run_name=\"cnn\") as run:\n",
        "\n",
        "    # Train & evaluate\n",
        "    artifacts = train_cnn(args=args, df=df)\n",
        "\n",
        "    # Log key metrics\n",
        "    mlflow.log_metrics({\"precision\": artifacts[\"performance\"][\"precision\"]})\n",
        "    mlflow.log_metrics({\"recall\": artifacts[\"performance\"][\"recall\"]})\n",
        "    mlflow.log_metrics({\"f1\": artifacts[\"performance\"][\"f1\"]})\n",
        "\n",
        "    # Log artifacts\n",
        "    with tempfile.TemporaryDirectory() as dp:\n",
        "        artifacts[\"tokenizer\"].save(Path(dp, \"tokenizer.json\"))\n",
        "        artifacts[\"label_encoder\"].save(Path(dp, \"label_encoder.json\"))\n",
        "        torch.save(artifacts[\"model\"].state_dict(), Path(dp, \"model.pt\"))\n",
        "        save_dict(artifacts[\"performance\"], Path(dp, \"performance.json\"))\n",
        "        mlflow.log_artifacts(dp)\n",
        "\n",
        "    # Log parameters\n",
        "    mlflow.log_params(vars(artifacts[\"args\"]))"
      ],
      "execution_count": null,
      "outputs": [
        {
          "output_type": "stream",
          "name": "stdout",
          "text": [
            "Epoch: 1 | train_loss: 0.00606, val_loss: 0.00291, lr: 2.00E-04, _patience: 10\n",
            "Epoch: 2 | train_loss: 0.00407, val_loss: 0.00293, lr: 2.00E-04, _patience: 9\n",
            "Epoch: 3 | train_loss: 0.00366, val_loss: 0.00270, lr: 2.00E-04, _patience: 10\n",
            "Epoch: 4 | train_loss: 0.00335, val_loss: 0.00264, lr: 2.00E-04, _patience: 10\n",
            "Epoch: 5 | train_loss: 0.00318, val_loss: 0.00260, lr: 2.00E-04, _patience: 10\n",
            "Epoch: 6 | train_loss: 0.00302, val_loss: 0.00254, lr: 2.00E-04, _patience: 10\n",
            "Epoch: 7 | train_loss: 0.00292, val_loss: 0.00249, lr: 2.00E-04, _patience: 10\n",
            "Epoch: 8 | train_loss: 0.00279, val_loss: 0.00242, lr: 2.00E-04, _patience: 10\n",
            "Epoch: 9 | train_loss: 0.00264, val_loss: 0.00235, lr: 2.00E-04, _patience: 10\n",
            "Epoch: 10 | train_loss: 0.00255, val_loss: 0.00229, lr: 2.00E-04, _patience: 10\n",
            "Epoch: 11 | train_loss: 0.00243, val_loss: 0.00219, lr: 2.00E-04, _patience: 10\n",
            "Epoch: 12 | train_loss: 0.00235, val_loss: 0.00212, lr: 2.00E-04, _patience: 10\n",
            "Epoch: 13 | train_loss: 0.00221, val_loss: 0.00205, lr: 2.00E-04, _patience: 10\n",
            "Epoch: 14 | train_loss: 0.00211, val_loss: 0.00201, lr: 2.00E-04, _patience: 10\n",
            "Epoch: 15 | train_loss: 0.00204, val_loss: 0.00194, lr: 2.00E-04, _patience: 10\n",
            "Epoch: 16 | train_loss: 0.00192, val_loss: 0.00190, lr: 2.00E-04, _patience: 10\n",
            "Epoch: 17 | train_loss: 0.00187, val_loss: 0.00185, lr: 2.00E-04, _patience: 10\n",
            "Epoch: 18 | train_loss: 0.00180, val_loss: 0.00180, lr: 2.00E-04, _patience: 10\n",
            "Epoch: 19 | train_loss: 0.00169, val_loss: 0.00179, lr: 2.00E-04, _patience: 9\n",
            "Epoch: 20 | train_loss: 0.00162, val_loss: 0.00178, lr: 2.00E-04, _patience: 10\n",
            "Epoch: 21 | train_loss: 0.00161, val_loss: 0.00174, lr: 2.00E-04, _patience: 10\n",
            "Epoch: 22 | train_loss: 0.00154, val_loss: 0.00173, lr: 2.00E-04, _patience: 10\n",
            "Epoch: 23 | train_loss: 0.00144, val_loss: 0.00170, lr: 2.00E-04, _patience: 10\n",
            "Epoch: 24 | train_loss: 0.00140, val_loss: 0.00169, lr: 2.00E-04, _patience: 10\n",
            "Epoch: 25 | train_loss: 0.00133, val_loss: 0.00168, lr: 2.00E-04, _patience: 10\n",
            "Epoch: 26 | train_loss: 0.00129, val_loss: 0.00164, lr: 2.00E-04, _patience: 10\n",
            "Epoch: 27 | train_loss: 0.00124, val_loss: 0.00165, lr: 2.00E-04, _patience: 9\n",
            "Epoch: 28 | train_loss: 0.00118, val_loss: 0.00161, lr: 2.00E-04, _patience: 10\n",
            "Epoch: 29 | train_loss: 0.00114, val_loss: 0.00164, lr: 2.00E-04, _patience: 9\n",
            "Epoch: 30 | train_loss: 0.00113, val_loss: 0.00166, lr: 2.00E-04, _patience: 8\n",
            "Epoch: 31 | train_loss: 0.00109, val_loss: 0.00159, lr: 2.00E-04, _patience: 10\n",
            "Epoch: 32 | train_loss: 0.00103, val_loss: 0.00166, lr: 2.00E-04, _patience: 9\n",
            "Epoch: 33 | train_loss: 0.00101, val_loss: 0.00165, lr: 2.00E-04, _patience: 8\n",
            "Epoch: 34 | train_loss: 0.00097, val_loss: 0.00159, lr: 2.00E-04, _patience: 7\n",
            "Epoch: 35 | train_loss: 0.00093, val_loss: 0.00165, lr: 2.00E-04, _patience: 6\n",
            "Epoch: 36 | train_loss: 0.00093, val_loss: 0.00157, lr: 2.00E-04, _patience: 10\n",
            "Epoch: 37 | train_loss: 0.00085, val_loss: 0.00159, lr: 2.00E-04, _patience: 9\n",
            "Epoch: 38 | train_loss: 0.00083, val_loss: 0.00159, lr: 2.00E-04, _patience: 8\n",
            "Epoch: 39 | train_loss: 0.00080, val_loss: 0.00159, lr: 2.00E-04, _patience: 7\n",
            "Epoch: 40 | train_loss: 0.00079, val_loss: 0.00163, lr: 2.00E-04, _patience: 6\n",
            "Epoch: 41 | train_loss: 0.00077, val_loss: 0.00179, lr: 2.00E-04, _patience: 5\n",
            "Epoch: 42 | train_loss: 0.00074, val_loss: 0.00159, lr: 2.00E-05, _patience: 4\n",
            "Epoch: 43 | train_loss: 0.00070, val_loss: 0.00153, lr: 2.00E-05, _patience: 10\n",
            "Epoch: 44 | train_loss: 0.00068, val_loss: 0.00155, lr: 2.00E-05, _patience: 9\n",
            "Epoch: 45 | train_loss: 0.00068, val_loss: 0.00154, lr: 2.00E-05, _patience: 8\n",
            "Epoch: 46 | train_loss: 0.00067, val_loss: 0.00155, lr: 2.00E-05, _patience: 7\n",
            "Epoch: 47 | train_loss: 0.00068, val_loss: 0.00154, lr: 2.00E-05, _patience: 6\n",
            "Epoch: 48 | train_loss: 0.00066, val_loss: 0.00156, lr: 2.00E-05, _patience: 5\n",
            "Epoch: 49 | train_loss: 0.00065, val_loss: 0.00156, lr: 2.00E-06, _patience: 4\n",
            "Epoch: 50 | train_loss: 0.00068, val_loss: 0.00156, lr: 2.00E-06, _patience: 3\n",
            "Epoch: 51 | train_loss: 0.00066, val_loss: 0.00155, lr: 2.00E-06, _patience: 2\n",
            "Epoch: 52 | train_loss: 0.00066, val_loss: 0.00155, lr: 2.00E-06, _patience: 1\n",
            "Stopping early!\n"
          ]
        }
      ]
    },
    {
      "cell_type": "markdown",
      "metadata": {
        "id": "lqWgLPYgCBhi"
      },
      "source": [
        "### Viewing"
      ]
    },
    {
      "cell_type": "markdown",
      "metadata": {
        "id": "J9JkJ_7MCC4U"
      },
      "source": [
        "Let's view what we've tracked from our experiment. MLFlow serves a dashboard for us to view and explore our experiments on a localhost port but since we're inside a notebook, we're going to use public tunnel ([ngrok](https://ngrok.com/)) to view it."
      ]
    },
    {
      "cell_type": "code",
      "metadata": {
        "id": "nCco6Xa3436x"
      },
      "source": [
        "from pyngrok import ngrok"
      ],
      "execution_count": null,
      "outputs": []
    },
    {
      "cell_type": "markdown",
      "metadata": {
        "id": "gR4xFBQI7Tqj"
      },
      "source": [
        "> You may need to rerun the cell below multiple times if the connection times out it is overloaded."
      ]
    },
    {
      "cell_type": "code",
      "metadata": {
        "id": "6gd8i4b941hL",
        "colab": {
          "base_uri": "https://localhost:8080/"
        },
        "outputId": "b160485d-ed4d-4073-9b8d-fcb52b8f34f2"
      },
      "source": [
        "# https://stackoverflow.com/questions/61615818/setting-up-mlflow-on-google-colab\n",
        "get_ipython().system_raw(\"mlflow server -h 0.0.0.0 -p 5000 --backend-store-uri $PWD/experiments/ &\")\n",
        "ngrok.kill()\n",
        "ngrok.set_auth_token(\"\")\n",
        "ngrok_tunnel = ngrok.connect(addr=\"5000\", proto=\"http\", bind_tls=True)\n",
        "print(\"MLflow Tracking UI:\", ngrok_tunnel.public_url)"
      ],
      "execution_count": null,
      "outputs": [
        {
          "output_type": "stream",
          "name": "stdout",
          "text": [
            "MLflow Tracking UI: https://2a66-35-229-225-89.ngrok.io\n"
          ]
        }
      ]
    },
    {
      "cell_type": "markdown",
      "metadata": {
        "id": "tfUQpOIDej0z"
      },
      "source": [
        "MLFlow creates a main dashboard with all your experiments and their respective runs. We can sort runs by clicking on the column headers.\n",
        "\n",
        "<img src=\"https://raw.githubusercontent.com/GokuMohandas/MadeWithML/main/images/mlops/experiment_tracking/dashboard.png\" width=\"1000\" alt=\"pivot\">"
      ]
    },
    {
      "cell_type": "markdown",
      "metadata": {
        "id": "bHhjsDJyeeGN"
      },
      "source": [
        "We can click on any of our experiments on the main dashboard to further explore it:\n",
        "\n",
        "<img src=\"https://raw.githubusercontent.com/GokuMohandas/MadeWithML/main/images/mlops/experiment_tracking/plots.png\" width=\"1000\" alt=\"pivot\">"
      ]
    },
    {
      "cell_type": "markdown",
      "metadata": {
        "id": "2RVeCRid9hWs"
      },
      "source": [
        "### Loading"
      ]
    },
    {
      "cell_type": "markdown",
      "metadata": {
        "id": "vEbgvyFQfW_e"
      },
      "source": [
        "We need to be able to load our saved experiment artifacts for inference, retraining, etc."
      ]
    },
    {
      "cell_type": "code",
      "metadata": {
        "id": "wUdmwNiVy6Dy"
      },
      "source": [
        "def load_dict(filepath):\n",
        "    \"\"\"Load a dict from a json file.\"\"\"\n",
        "    with open(filepath, \"r\") as fp:\n",
        "        d = json.load(fp)\n",
        "    return d"
      ],
      "execution_count": null,
      "outputs": []
    },
    {
      "cell_type": "code",
      "metadata": {
        "id": "wP_FfHn07943",
        "colab": {
          "base_uri": "https://localhost:8080/"
        },
        "outputId": "42ad027d-0ed1-4e1e-a170-ac7a19e5db1d"
      },
      "source": [
        "# Load all runs from experiment\n",
        "experiment_id = mlflow.get_experiment_by_name(\"baselines\").experiment_id\n",
        "all_runs = mlflow.search_runs(experiment_ids=experiment_id, order_by=[\"metrics.best_val_loss ASC\"])\n",
        "print (all_runs)"
      ],
      "execution_count": null,
      "outputs": [
        {
          "output_type": "stream",
          "name": "stdout",
          "text": [
            "                             run_id  ... tags.mlflow.source.type\n",
            "0  27e71bc6b80e403ab473bda9f3c8b2fa  ...                   LOCAL\n",
            "\n",
            "[1 rows x 23 columns]\n"
          ]
        }
      ]
    },
    {
      "cell_type": "code",
      "metadata": {
        "id": "PHbhpuFq9QPA"
      },
      "source": [
        "# Best run\n",
        "device = torch.device(\"cpu\")\n",
        "best_run_id = all_runs.iloc[0].run_id\n",
        "best_run = mlflow.get_run(run_id=best_run_id)\n",
        "client = mlflow.tracking.MlflowClient()\n",
        "with tempfile.TemporaryDirectory() as dp:\n",
        "    client.download_artifacts(run_id=best_run_id, path=\"\", dst_path=dp)\n",
        "    tokenizer = Tokenizer.load(fp=Path(dp, \"tokenizer.json\"))\n",
        "    label_encoder = LabelEncoder.load(fp=Path(dp, \"label_encoder.json\"))\n",
        "    model_state = torch.load(Path(dp, \"model.pt\"), map_location=device)\n",
        "    performance = load_dict(filepath=Path(dp, \"performance.json\"))"
      ],
      "execution_count": null,
      "outputs": []
    },
    {
      "cell_type": "code",
      "metadata": {
        "id": "uUAGjr5w8oxM",
        "colab": {
          "base_uri": "https://localhost:8080/"
        },
        "outputId": "a1569217-0b30-401d-e621-3b124fbcc343"
      },
      "source": [
        "print (json.dumps(performance, indent=2))"
      ],
      "execution_count": null,
      "outputs": [
        {
          "output_type": "stream",
          "name": "stdout",
          "text": [
            "{\n",
            "  \"precision\": 0.7636869869517359,\n",
            "  \"recall\": 0.5815450643776824,\n",
            "  \"f1\": 0.6421825401405105\n",
            "}\n"
          ]
        }
      ]
    },
    {
      "cell_type": "code",
      "metadata": {
        "id": "HsMvF6K_8LIt",
        "colab": {
          "base_uri": "https://localhost:8080/"
        },
        "outputId": "ac0b7b10-555c-4b76-d440-0e8cf9d8b413"
      },
      "source": [
        "# Load artifacts\n",
        "device = torch.device(\"cpu\")\n",
        "model = CNN(\n",
        "    embedding_dim=args.embedding_dim, vocab_size=len(tokenizer),\n",
        "    num_filters=args.num_filters, filter_sizes=args.filter_sizes,\n",
        "    hidden_dim=args.hidden_dim, dropout_p=args.dropout_p,\n",
        "    num_classes=len(label_encoder))\n",
        "model.load_state_dict(model_state)\n",
        "model.to(device)"
      ],
      "execution_count": null,
      "outputs": [
        {
          "output_type": "execute_result",
          "data": {
            "text/plain": [
              "CNN(\n",
              "  (embeddings): Embedding(39, 128, padding_idx=0)\n",
              "  (conv): ModuleList(\n",
              "    (0): Conv1d(128, 128, kernel_size=(1,), stride=(1,))\n",
              "    (1): Conv1d(128, 128, kernel_size=(2,), stride=(1,))\n",
              "    (2): Conv1d(128, 128, kernel_size=(3,), stride=(1,))\n",
              "    (3): Conv1d(128, 128, kernel_size=(4,), stride=(1,))\n",
              "    (4): Conv1d(128, 128, kernel_size=(5,), stride=(1,))\n",
              "    (5): Conv1d(128, 128, kernel_size=(6,), stride=(1,))\n",
              "    (6): Conv1d(128, 128, kernel_size=(7,), stride=(1,))\n",
              "    (7): Conv1d(128, 128, kernel_size=(8,), stride=(1,))\n",
              "    (8): Conv1d(128, 128, kernel_size=(9,), stride=(1,))\n",
              "    (9): Conv1d(128, 128, kernel_size=(10,), stride=(1,))\n",
              "  )\n",
              "  (dropout): Dropout(p=0.5, inplace=False)\n",
              "  (fc1): Linear(in_features=1280, out_features=128, bias=True)\n",
              "  (fc2): Linear(in_features=128, out_features=34, bias=True)\n",
              ")"
            ]
          },
          "metadata": {},
          "execution_count": 194
        }
      ]
    },
    {
      "cell_type": "code",
      "metadata": {
        "id": "B2axMjbk9XgI"
      },
      "source": [
        "# Initialize trainer\n",
        "trainer = Trainer(model=model, device=device)"
      ],
      "execution_count": null,
      "outputs": []
    },
    {
      "cell_type": "code",
      "metadata": {
        "id": "wcypz1sO9Xk1"
      },
      "source": [
        "# Dataloader\n",
        "text = \"Transfer learning with BERT for self-supervised learning\"\n",
        "X = np.array(tokenizer.texts_to_sequences([preprocess(text)]))\n",
        "y_filler = label_encoder.encode([np.array([label_encoder.classes[0]]*len(X))])\n",
        "dataset = CNNTextDataset(\n",
        "    X=X, y=y_filler, max_filter_size=max(filter_sizes))\n",
        "dataloader = dataset.create_dataloader(\n",
        "    batch_size=batch_size)"
      ],
      "execution_count": null,
      "outputs": []
    },
    {
      "cell_type": "code",
      "metadata": {
        "id": "NiQr5E6L9XrM",
        "colab": {
          "base_uri": "https://localhost:8080/"
        },
        "outputId": "49d794a8-1ff5-46ce-ac36-186e9bb270f6"
      },
      "source": [
        "# Inference\n",
        "y_prob = trainer.predict_step(dataloader)\n",
        "y_pred = np.array([np.where(prob >= threshold, 1, 0) for prob in y_prob])\n",
        "label_encoder.decode(y_pred)"
      ],
      "execution_count": null,
      "outputs": [
        {
          "output_type": "execute_result",
          "data": {
            "text/plain": [
              "[['computer-vision',\n",
              "  'natural-language-processing',\n",
              "  'self-supervised-learning',\n",
              "  'transfer-learning',\n",
              "  'transformers']]"
            ]
          },
          "metadata": {},
          "execution_count": 197
        }
      ]
    },
    {
      "cell_type": "markdown",
      "metadata": {
        "id": "_CzPlupuYPWT"
      },
      "source": [
        "## Optimization"
      ]
    },
    {
      "cell_type": "markdown",
      "metadata": {
        "id": "CHM69_fPYXy_"
      },
      "source": [
        "Optimization is the process of fine-tuning the hyperparameters in our experiment to optimize towards a particular objective. It can be a computationally involved process depending on the number of parameters, search space and model architectures. Hyperparameters don't just include the model's parameters but they also include parameters (choices) from preprocessing, splitting, etc. When we look at all the different parameters that can be tuned, it quickly becomes a very large search space. However, just because something is a hyperparameter doesn't mean we need to tune it.\n",
        "\n",
        "- It's absolutely alright to fix some hyperparameters (ex. lower=True during preprocessing) and remove them from the current tuning subset. Just be sure to note which parameters you are fixing and your reasoning for doing so.\n",
        "- You can initially just tune a small, yet influential, subset of hyperparameters that you believe will yield best results.\n",
        "\n",
        "There are many options for hyperparameter tuning ([Optuna](https://github.com/optuna/optuna), [Ray tune](https://github.com/ray-project/ray/tree/master/python/ray/tune), [Hyperopt](https://github.com/hyperopt/hyperopt), etc.) but we'll be using Optuna for it's simplicity and efficiency. "
      ]
    },
    {
      "cell_type": "code",
      "metadata": {
        "id": "SFFkEgjSYR9v",
        "colab": {
          "base_uri": "https://localhost:8080/"
        },
        "outputId": "9f069e28-0889-4efa-e010-7ae2d0634dda"
      },
      "source": [
        "!pip install optuna==2.4.0 numpyencoder==0.3.0 -q"
      ],
      "execution_count": null,
      "outputs": [
        {
          "output_type": "stream",
          "name": "stdout",
          "text": [
            "\u001b[K     |████████████████████████████████| 282 kB 4.3 MB/s \n",
            "\u001b[K     |████████████████████████████████| 80 kB 8.9 MB/s \n",
            "\u001b[K     |████████████████████████████████| 49 kB 5.8 MB/s \n",
            "\u001b[K     |████████████████████████████████| 141 kB 43.1 MB/s \n",
            "\u001b[K     |████████████████████████████████| 111 kB 42.9 MB/s \n",
            "\u001b[?25h  Building wheel for pyperclip (setup.py) ... \u001b[?25l\u001b[?25hdone\n"
          ]
        }
      ]
    },
    {
      "cell_type": "code",
      "metadata": {
        "id": "VLI2DvYihgH9"
      },
      "source": [
        "import optuna"
      ],
      "execution_count": null,
      "outputs": []
    },
    {
      "cell_type": "markdown",
      "metadata": {
        "id": "1oxHC5gUZw6v"
      },
      "source": [
        "There are many factors to consider when performing hyperparameter optimization and luckily Optuna allows us to [implement](https://optuna.readthedocs.io/en/stable/reference/) them with ease. We'll be conducting a small study where we'll tune a set of arguments (we'll do a much more thorough [study](https://optuna.readthedocs.io/en/stable/reference/study.html) of the parameter space when we move our code to Python scripts). Here's the process for the study:\n",
        "\n",
        "1. Define an objective (metric) and identifying the [direction](https://optuna.readthedocs.io/en/stable/reference/generated/optuna.study.StudyDirection.html#optuna.study.StudyDirection) to optimize.\n",
        "2. `[OPTIONAL]` Choose a [sampler](https://optuna.readthedocs.io/en/stable/reference/samplers.html) for determining parameters for subsequent trials. (default is a tree based sampler).\n",
        "3. `[OPTIONAL]` Choose a [pruner](https://optuna.readthedocs.io/en/stable/reference/pruners.html) to end unpromising trials early. \n",
        "4. Define the parameters to tune in each [trial](https://optuna.readthedocs.io/en/stable/reference/trial.html) and the [distribution](https://optuna.readthedocs.io/en/stable/reference/generated/optuna.trial.Trial.html#optuna-trial-trial) of values to sample. \n",
        "\n",
        "> There are many more options (multiple objectives, storage options, etc.) to explore but this basic set up will allow us to optimize quite well."
      ]
    },
    {
      "cell_type": "code",
      "metadata": {
        "id": "M9hsPDs3iXy1"
      },
      "source": [
        "from argparse import Namespace"
      ],
      "execution_count": null,
      "outputs": []
    },
    {
      "cell_type": "code",
      "metadata": {
        "id": "DeGjHoore6Ca"
      },
      "source": [
        "# Specify arguments\n",
        "args = Namespace(\n",
        "    char_level=True,\n",
        "    filter_sizes=list(range(1, 11)),\n",
        "    batch_size=64,\n",
        "    embedding_dim=128, \n",
        "    num_filters=128,\n",
        "    hidden_dim=128, \n",
        "    dropout_p=0.5,\n",
        "    lr=2e-4,\n",
        "    num_epochs=100,\n",
        "    patience=10,\n",
        ")"
      ],
      "execution_count": null,
      "outputs": []
    },
    {
      "cell_type": "markdown",
      "metadata": {
        "id": "cSxjDzajfxMF"
      },
      "source": [
        "We're going to modify our `Trainer` object to be able to prune unpromising trials based on the trial's validation loss."
      ]
    },
    {
      "cell_type": "code",
      "metadata": {
        "id": "lu9OCdgxfxXx"
      },
      "source": [
        "# Trainer (modified for experiment tracking)\n",
        "class Trainer(object):\n",
        "    def __init__(self, model, device, loss_fn=None, \n",
        "                 optimizer=None, scheduler=None, trial=None):\n",
        "\n",
        "        # Set params\n",
        "        self.model = model\n",
        "        self.device = device\n",
        "        self.loss_fn = loss_fn\n",
        "        self.optimizer = optimizer\n",
        "        self.scheduler = scheduler\n",
        "        self.trial = trial\n",
        "\n",
        "    def train_step(self, dataloader):\n",
        "        \"\"\"Train step.\"\"\"\n",
        "        # Set model to train mode\n",
        "        self.model.train()\n",
        "        loss = 0.0\n",
        "\n",
        "        # Iterate over train batches\n",
        "        for i, batch in enumerate(dataloader):\n",
        "            # Step\n",
        "            batch = [item.to(self.device) for item in batch]\n",
        "            inputs, targets = batch[:-1], batch[-1]\n",
        "            self.optimizer.zero_grad()  # Reset gradients\n",
        "            z = self.model(inputs)  # Forward pass\n",
        "            J = self.loss_fn(z, targets)  # Define loss\n",
        "            J.backward()  # Backward pass\n",
        "            self.optimizer.step()  # Update weights\n",
        "\n",
        "            # Cumulative Metrics\n",
        "            loss += (J.detach().item() - loss) / (i + 1)\n",
        "\n",
        "        return loss\n",
        "\n",
        "    def eval_step(self, dataloader):\n",
        "        \"\"\"Validation or test step.\"\"\"\n",
        "        # Set model to eval mode\n",
        "        self.model.eval()\n",
        "        loss = 0.0\n",
        "        y_trues, y_probs = [], []\n",
        "\n",
        "        # Iterate over val batches\n",
        "        with torch.no_grad():\n",
        "            for i, batch in enumerate(dataloader):\n",
        "\n",
        "                # Step\n",
        "                batch = [item.to(self.device) for item in batch]  # Set device\n",
        "                inputs, y_true = batch[:-1], batch[-1]\n",
        "                z = self.model(inputs)  # Forward pass\n",
        "                J = self.loss_fn(z, y_true).item()\n",
        "\n",
        "                # Cumulative Metrics\n",
        "                loss += (J - loss) / (i + 1)\n",
        "\n",
        "                # Store outputs\n",
        "                y_prob = torch.sigmoid(z).cpu().numpy()\n",
        "                y_probs.extend(y_prob)\n",
        "                y_trues.extend(y_true.cpu().numpy())\n",
        "\n",
        "        return loss, np.vstack(y_trues), np.vstack(y_probs)\n",
        "\n",
        "    def predict_step(self, dataloader):\n",
        "        \"\"\"Prediction step.\"\"\"\n",
        "        # Set model to eval mode\n",
        "        self.model.eval()\n",
        "        y_probs = []\n",
        "\n",
        "        # Iterate over val batches\n",
        "        with torch.no_grad():\n",
        "            for i, batch in enumerate(dataloader):\n",
        "\n",
        "                # Forward pass w/ inputs\n",
        "                inputs, targets = batch[:-1], batch[-1]\n",
        "                z = self.model(inputs)\n",
        "\n",
        "                # Store outputs\n",
        "                y_prob = torch.sigmoid(z).cpu().numpy()\n",
        "                y_probs.extend(y_prob)\n",
        "\n",
        "        return np.vstack(y_probs)\n",
        "    \n",
        "    def train(self, num_epochs, patience, train_dataloader, val_dataloader,\n",
        "              tolerance=1e-5):\n",
        "        best_val_loss = np.inf\n",
        "        for epoch in range(num_epochs):\n",
        "            # Steps\n",
        "            train_loss = self.train_step(dataloader=train_dataloader)\n",
        "            val_loss, _, _ = self.eval_step(dataloader=val_dataloader)\n",
        "            self.scheduler.step(val_loss)\n",
        "\n",
        "            # Early stopping\n",
        "            if val_loss < best_val_loss - tolerance:\n",
        "                best_val_loss = val_loss\n",
        "                best_model = self.model\n",
        "                _patience = patience  # reset _patience\n",
        "            else:\n",
        "                _patience -= 1\n",
        "            if not _patience:  # 0\n",
        "                print(\"Stopping early!\")\n",
        "                break\n",
        "\n",
        "            # Logging\n",
        "            print(\n",
        "                f\"Epoch: {epoch+1} | \"\n",
        "                f\"train_loss: {train_loss:.5f}, \"\n",
        "                f\"val_loss: {val_loss:.5f}, \"\n",
        "                f\"lr: {self.optimizer.param_groups[0]['lr']:.2E}, \"\n",
        "                f\"_patience: {_patience}\"\n",
        "            )\n",
        "\n",
        "            # Pruning based on the intermediate value\n",
        "            self.trial.report(val_loss, epoch)\n",
        "            if self.trial.should_prune():\n",
        "                raise optuna.TrialPruned()\n",
        "                    \n",
        "        return best_model, best_val_loss"
      ],
      "execution_count": null,
      "outputs": []
    },
    {
      "cell_type": "markdown",
      "metadata": {
        "id": "z3dGFhnehUbk"
      },
      "source": [
        "We'll also modify our `train_cnn` function to include information about the trial."
      ]
    },
    {
      "cell_type": "code",
      "metadata": {
        "id": "Qm_xEptLhUqm"
      },
      "source": [
        "def train_cnn(args, df, trial=None):\n",
        "    \"\"\"Train a CNN using specific arguments.\"\"\"\n",
        "\n",
        "    # Set seeds\n",
        "    set_seeds()\n",
        "\n",
        "    # Get data splits\n",
        "    preprocessed_df = df.copy()\n",
        "    preprocessed_df.text = preprocessed_df.text.apply(preprocess, lower=True)\n",
        "    X_train, X_val, X_test, y_train, y_val, y_test, label_encoder = get_data_splits(preprocessed_df)\n",
        "    num_classes = len(label_encoder)\n",
        "\n",
        "    # Set device\n",
        "    cuda = True\n",
        "    device = torch.device(\"cuda\" if (\n",
        "        torch.cuda.is_available() and cuda) else \"cpu\")\n",
        "    torch.set_default_tensor_type(\"torch.FloatTensor\")\n",
        "    if device.type == \"cuda\":\n",
        "        torch.set_default_tensor_type(\"torch.cuda.FloatTensor\")\n",
        "\n",
        "    # Tokenize\n",
        "    tokenizer = Tokenizer(char_level=args.char_level)\n",
        "    tokenizer.fit_on_texts(texts=X_train)\n",
        "    vocab_size = len(tokenizer)\n",
        "\n",
        "    # Convert texts to sequences of indices\n",
        "    X_train = np.array(tokenizer.texts_to_sequences(X_train))\n",
        "    X_val = np.array(tokenizer.texts_to_sequences(X_val))\n",
        "    X_test = np.array(tokenizer.texts_to_sequences(X_test))\n",
        "\n",
        "    # Class weights\n",
        "    counts = np.bincount([label_encoder.class_to_index[class_] for class_ in all_tags])\n",
        "    class_weights = {i: 1.0/count for i, count in enumerate(counts)}\n",
        "\n",
        "    # Create datasets\n",
        "    train_dataset = CNNTextDataset(\n",
        "        X=X_train, y=y_train, max_filter_size=max(args.filter_sizes))\n",
        "    val_dataset = CNNTextDataset(\n",
        "        X=X_val, y=y_val, max_filter_size=max(args.filter_sizes))\n",
        "    test_dataset = CNNTextDataset(\n",
        "        X=X_test, y=y_test, max_filter_size=max(args.filter_sizes))\n",
        "\n",
        "    # Create dataloaders\n",
        "    train_dataloader = train_dataset.create_dataloader(\n",
        "        batch_size=args.batch_size)\n",
        "    val_dataloader = val_dataset.create_dataloader(\n",
        "        batch_size=args.batch_size)\n",
        "    test_dataloader = test_dataset.create_dataloader(\n",
        "        batch_size=args.batch_size)\n",
        "\n",
        "    # Initialize model\n",
        "    model = CNN(\n",
        "        embedding_dim=args.embedding_dim, vocab_size=vocab_size,\n",
        "        num_filters=args.num_filters, filter_sizes=args.filter_sizes,\n",
        "        hidden_dim=args.hidden_dim, dropout_p=args.dropout_p,\n",
        "        num_classes=num_classes)\n",
        "    model = model.to(device)\n",
        "\n",
        "    # Define loss\n",
        "    class_weights_tensor = torch.Tensor(np.array(list(class_weights.values())))\n",
        "    loss_fn = nn.BCEWithLogitsLoss(weight=class_weights_tensor)\n",
        "\n",
        "    # Define optimizer & scheduler\n",
        "    optimizer = torch.optim.Adam(model.parameters(), lr=args.lr)\n",
        "    scheduler = torch.optim.lr_scheduler.ReduceLROnPlateau(\n",
        "        optimizer, mode='min', factor=0.1, patience=5)\n",
        "\n",
        "    # Trainer module\n",
        "    trainer = Trainer(\n",
        "        model=model, device=device, loss_fn=loss_fn, \n",
        "        optimizer=optimizer, scheduler=scheduler, trial=trial)\n",
        "\n",
        "    # Train\n",
        "    best_model, best_val_loss = trainer.train(\n",
        "        args.num_epochs, args.patience, train_dataloader, val_dataloader)\n",
        "\n",
        "    # Best threshold for f1\n",
        "    train_loss, y_true, y_prob = trainer.eval_step(dataloader=train_dataloader)\n",
        "    precisions, recalls, thresholds = precision_recall_curve(y_true.ravel(), y_prob.ravel())\n",
        "    threshold = find_best_threshold(y_true.ravel(), y_prob.ravel())\n",
        "\n",
        "    # Determine predictions using threshold\n",
        "    test_loss, y_true, y_prob = trainer.eval_step(dataloader=test_dataloader)\n",
        "    y_pred = np.array([np.where(prob >= threshold, 1, 0) for prob in y_prob])\n",
        "\n",
        "    # Evaluate (simple)\n",
        "    metrics = precision_recall_fscore_support(y_test, y_pred, average=\"weighted\")\n",
        "    performance = {\"precision\": metrics[0], \"recall\": metrics[1], \"f1\": metrics[2]}\n",
        "\n",
        "    return {\n",
        "        \"args\": args,\n",
        "        \"tokenizer\": tokenizer,\n",
        "        \"label_encoder\": label_encoder,\n",
        "        \"model\": best_model,\n",
        "        \"performance\": performance,\n",
        "        \"best_val_loss\": best_val_loss,\n",
        "        \"threshold\": threshold,\n",
        "    }"
      ],
      "execution_count": null,
      "outputs": []
    },
    {
      "cell_type": "markdown",
      "metadata": {
        "id": "ncGdA34Ahod9"
      },
      "source": [
        "### Objective"
      ]
    },
    {
      "cell_type": "markdown",
      "metadata": {
        "id": "NzekaGZyeHXb"
      },
      "source": [
        "We need to define an `objective` function that will consume a trial and a set of arguments and produce the metric to optimize on (`f1` in our case)."
      ]
    },
    {
      "cell_type": "code",
      "metadata": {
        "id": "Jg33IjzSd27e"
      },
      "source": [
        "def objective(trial, args):\n",
        "    \"\"\"Objective function for optimization trials.\"\"\"\n",
        "\n",
        "    # Paramters (to tune)\n",
        "    args.embedding_dim = trial.suggest_int(\"embedding_dim\", 128, 512)\n",
        "    args.num_filters = trial.suggest_int(\"num_filters\", 128, 512)\n",
        "    args.hidden_dim = trial.suggest_int(\"hidden_dim\", 128, 512)\n",
        "    args.dropout_p = trial.suggest_uniform(\"dropout_p\", 0.3, 0.8)\n",
        "    args.lr = trial.suggest_loguniform(\"lr\", 5e-5, 5e-4)\n",
        "\n",
        "    # Train & evaluate\n",
        "    artifacts = train_cnn(args=args, df=df, trial=trial)\n",
        "\n",
        "    # Set additional attributes\n",
        "    trial.set_user_attr(\"precision\", artifacts[\"performance\"][\"precision\"])\n",
        "    trial.set_user_attr(\"recall\", artifacts[\"performance\"][\"recall\"])\n",
        "    trial.set_user_attr(\"f1\", artifacts[\"performance\"][\"f1\"])\n",
        "    trial.set_user_attr(\"threshold\", artifacts[\"threshold\"])\n",
        "\n",
        "    return artifacts[\"performance\"][\"f1\"]"
      ],
      "execution_count": null,
      "outputs": []
    },
    {
      "cell_type": "markdown",
      "metadata": {
        "id": "K42Yf3OEhp_V"
      },
      "source": [
        "### Study"
      ]
    },
    {
      "cell_type": "markdown",
      "metadata": {
        "id": "epa_kTIl9H7b"
      },
      "source": [
        "We're ready to kick off our study with our [MLFlowCallback](https://optuna.readthedocs.io/en/stable/reference/generated/optuna.integration.MLflowCallback.html) so we can track all of the different trials."
      ]
    },
    {
      "cell_type": "code",
      "metadata": {
        "id": "WC58iWVjjPN8"
      },
      "source": [
        "from numpyencoder import NumpyEncoder\n",
        "from optuna.integration.mlflow import MLflowCallback"
      ],
      "execution_count": null,
      "outputs": []
    },
    {
      "cell_type": "code",
      "metadata": {
        "id": "ZbPWc_c8hsA6"
      },
      "source": [
        "NUM_TRIALS = 50 # small sample for now"
      ],
      "execution_count": null,
      "outputs": []
    },
    {
      "cell_type": "code",
      "metadata": {
        "id": "RQByQ8pihjIR",
        "colab": {
          "base_uri": "https://localhost:8080/"
        },
        "outputId": "6f20b411-a44c-4e81-e87a-16dccebc3368"
      },
      "source": [
        "# Optimize\n",
        "pruner = optuna.pruners.MedianPruner(n_startup_trials=5, n_warmup_steps=5)\n",
        "study = optuna.create_study(study_name=\"optimization\", direction=\"maximize\", pruner=pruner)\n",
        "mlflow_callback = MLflowCallback(\n",
        "    tracking_uri=mlflow.get_tracking_uri(), metric_name=\"f1\")\n",
        "study.optimize(lambda trial: objective(trial, args),\n",
        "               n_trials=NUM_TRIALS,\n",
        "               callbacks=[mlflow_callback])"
      ],
      "execution_count": null,
      "outputs": [
        {
          "output_type": "stream",
          "name": "stderr",
          "text": [
            "\u001b[32m[I 2021-09-01 00:20:49,339]\u001b[0m A new study created in memory with name: optimization\u001b[0m\n"
          ]
        },
        {
          "output_type": "stream",
          "name": "stdout",
          "text": [
            "Epoch: 1 | train_loss: 0.00729, val_loss: 0.00412, lr: 4.73E-04, _patience: 10\n",
            "Epoch: 2 | train_loss: 0.00409, val_loss: 0.00265, lr: 4.73E-04, _patience: 10\n",
            "Epoch: 3 | train_loss: 0.00318, val_loss: 0.00240, lr: 4.73E-04, _patience: 10\n",
            "Epoch: 4 | train_loss: 0.00268, val_loss: 0.00218, lr: 4.73E-04, _patience: 10\n",
            "Epoch: 5 | train_loss: 0.00228, val_loss: 0.00196, lr: 4.73E-04, _patience: 10\n",
            "Epoch: 6 | train_loss: 0.00202, val_loss: 0.00180, lr: 4.73E-04, _patience: 10\n",
            "Epoch: 7 | train_loss: 0.00178, val_loss: 0.00172, lr: 4.73E-04, _patience: 10\n",
            "Epoch: 8 | train_loss: 0.00157, val_loss: 0.00167, lr: 4.73E-04, _patience: 10\n",
            "Epoch: 9 | train_loss: 0.00142, val_loss: 0.00157, lr: 4.73E-04, _patience: 10\n",
            "Epoch: 10 | train_loss: 0.00123, val_loss: 0.00159, lr: 4.73E-04, _patience: 9\n",
            "Epoch: 11 | train_loss: 0.00112, val_loss: 0.00160, lr: 4.73E-04, _patience: 8\n",
            "Epoch: 12 | train_loss: 0.00102, val_loss: 0.00171, lr: 4.73E-04, _patience: 7\n",
            "Epoch: 13 | train_loss: 0.00095, val_loss: 0.00181, lr: 4.73E-04, _patience: 6\n",
            "Epoch: 14 | train_loss: 0.00088, val_loss: 0.00159, lr: 4.73E-04, _patience: 5\n",
            "Epoch: 15 | train_loss: 0.00082, val_loss: 0.00148, lr: 4.73E-04, _patience: 10\n",
            "Epoch: 16 | train_loss: 0.00073, val_loss: 0.00156, lr: 4.73E-04, _patience: 9\n",
            "Epoch: 17 | train_loss: 0.00071, val_loss: 0.00175, lr: 4.73E-04, _patience: 8\n",
            "Epoch: 18 | train_loss: 0.00068, val_loss: 0.00196, lr: 4.73E-04, _patience: 7\n",
            "Epoch: 19 | train_loss: 0.00065, val_loss: 0.00209, lr: 4.73E-04, _patience: 6\n",
            "Epoch: 20 | train_loss: 0.00065, val_loss: 0.00150, lr: 4.73E-04, _patience: 5\n",
            "Epoch: 21 | train_loss: 0.00057, val_loss: 0.00166, lr: 4.73E-05, _patience: 4\n",
            "Epoch: 22 | train_loss: 0.00047, val_loss: 0.00163, lr: 4.73E-05, _patience: 3\n",
            "Epoch: 23 | train_loss: 0.00038, val_loss: 0.00157, lr: 4.73E-05, _patience: 2\n",
            "Epoch: 24 | train_loss: 0.00036, val_loss: 0.00159, lr: 4.73E-05, _patience: 1\n",
            "Stopping early!\n"
          ]
        },
        {
          "output_type": "stream",
          "name": "stderr",
          "text": [
            "\u001b[32m[I 2021-09-01 00:22:32,168]\u001b[0m Trial 0 finished with value: 0.6659625451644858 and parameters: {'embedding_dim': 147, 'num_filters': 477, 'hidden_dim': 138, 'dropout_p': 0.48079299973713613, 'lr': 0.0004726434660207262}. Best is trial 0 with value: 0.6659625451644858.\u001b[0m\n"
          ]
        },
        {
          "output_type": "stream",
          "name": "stdout",
          "text": [
            "INFO: 'optimization' does not exist. Creating a new experiment\n",
            "Epoch: 1 | train_loss: 0.00593, val_loss: 0.00325, lr: 1.88E-04, _patience: 10\n",
            "Epoch: 2 | train_loss: 0.00434, val_loss: 0.00268, lr: 1.88E-04, _patience: 10\n",
            "Epoch: 3 | train_loss: 0.00352, val_loss: 0.00258, lr: 1.88E-04, _patience: 10\n",
            "Epoch: 4 | train_loss: 0.00331, val_loss: 0.00244, lr: 1.88E-04, _patience: 10\n",
            "Epoch: 5 | train_loss: 0.00297, val_loss: 0.00230, lr: 1.88E-04, _patience: 10\n",
            "Epoch: 6 | train_loss: 0.00276, val_loss: 0.00222, lr: 1.88E-04, _patience: 10\n",
            "Epoch: 7 | train_loss: 0.00258, val_loss: 0.00210, lr: 1.88E-04, _patience: 10\n",
            "Epoch: 8 | train_loss: 0.00238, val_loss: 0.00201, lr: 1.88E-04, _patience: 10\n",
            "Epoch: 9 | train_loss: 0.00226, val_loss: 0.00198, lr: 1.88E-04, _patience: 10\n",
            "Epoch: 10 | train_loss: 0.00213, val_loss: 0.00187, lr: 1.88E-04, _patience: 10\n",
            "Epoch: 11 | train_loss: 0.00195, val_loss: 0.00179, lr: 1.88E-04, _patience: 10\n",
            "Epoch: 12 | train_loss: 0.00184, val_loss: 0.00181, lr: 1.88E-04, _patience: 9\n",
            "Epoch: 13 | train_loss: 0.00173, val_loss: 0.00169, lr: 1.88E-04, _patience: 10\n",
            "Epoch: 14 | train_loss: 0.00164, val_loss: 0.00171, lr: 1.88E-04, _patience: 9\n",
            "Epoch: 15 | train_loss: 0.00156, val_loss: 0.00164, lr: 1.88E-04, _patience: 10\n",
            "Epoch: 16 | train_loss: 0.00146, val_loss: 0.00160, lr: 1.88E-04, _patience: 10\n",
            "Epoch: 17 | train_loss: 0.00134, val_loss: 0.00162, lr: 1.88E-04, _patience: 9\n",
            "Epoch: 18 | train_loss: 0.00130, val_loss: 0.00160, lr: 1.88E-04, _patience: 8\n",
            "Epoch: 19 | train_loss: 0.00122, val_loss: 0.00156, lr: 1.88E-04, _patience: 10\n",
            "Epoch: 20 | train_loss: 0.00118, val_loss: 0.00169, lr: 1.88E-04, _patience: 9\n",
            "Epoch: 21 | train_loss: 0.00114, val_loss: 0.00160, lr: 1.88E-04, _patience: 8\n",
            "Epoch: 22 | train_loss: 0.00104, val_loss: 0.00157, lr: 1.88E-04, _patience: 7\n",
            "Epoch: 23 | train_loss: 0.00102, val_loss: 0.00170, lr: 1.88E-04, _patience: 6\n",
            "Epoch: 24 | train_loss: 0.00101, val_loss: 0.00148, lr: 1.88E-04, _patience: 10\n",
            "Epoch: 25 | train_loss: 0.00094, val_loss: 0.00150, lr: 1.88E-04, _patience: 9\n",
            "Epoch: 26 | train_loss: 0.00093, val_loss: 0.00164, lr: 1.88E-04, _patience: 8\n",
            "Epoch: 27 | train_loss: 0.00084, val_loss: 0.00178, lr: 1.88E-04, _patience: 7\n",
            "Epoch: 28 | train_loss: 0.00084, val_loss: 0.00157, lr: 1.88E-04, _patience: 6\n",
            "Epoch: 29 | train_loss: 0.00081, val_loss: 0.00149, lr: 1.88E-04, _patience: 5\n",
            "Epoch: 30 | train_loss: 0.00076, val_loss: 0.00161, lr: 1.88E-05, _patience: 4\n",
            "Epoch: 31 | train_loss: 0.00070, val_loss: 0.00159, lr: 1.88E-05, _patience: 3\n",
            "Epoch: 32 | train_loss: 0.00063, val_loss: 0.00151, lr: 1.88E-05, _patience: 2\n",
            "Epoch: 33 | train_loss: 0.00060, val_loss: 0.00154, lr: 1.88E-05, _patience: 1\n",
            "Stopping early!\n"
          ]
        },
        {
          "output_type": "stream",
          "name": "stderr",
          "text": [
            "\u001b[32m[I 2021-09-01 00:25:05,206]\u001b[0m Trial 1 finished with value: 0.6640363211860912 and parameters: {'embedding_dim': 405, 'num_filters': 228, 'hidden_dim': 269, 'dropout_p': 0.7430505199806638, 'lr': 0.00018780689214665722}. Best is trial 0 with value: 0.6659625451644858.\u001b[0m\n"
          ]
        },
        {
          "output_type": "stream",
          "name": "stdout",
          "text": [
            "Epoch: 1 | train_loss: 0.00516, val_loss: 0.00388, lr: 1.66E-04, _patience: 10\n",
            "Epoch: 2 | train_loss: 0.00373, val_loss: 0.00270, lr: 1.66E-04, _patience: 10\n",
            "Epoch: 3 | train_loss: 0.00311, val_loss: 0.00264, lr: 1.66E-04, _patience: 10\n",
            "Epoch: 4 | train_loss: 0.00293, val_loss: 0.00251, lr: 1.66E-04, _patience: 10\n",
            "Epoch: 5 | train_loss: 0.00274, val_loss: 0.00245, lr: 1.66E-04, _patience: 10\n",
            "Epoch: 6 | train_loss: 0.00258, val_loss: 0.00233, lr: 1.66E-04, _patience: 10\n",
            "Epoch: 7 | train_loss: 0.00239, val_loss: 0.00219, lr: 1.66E-04, _patience: 10\n",
            "Epoch: 8 | train_loss: 0.00220, val_loss: 0.00208, lr: 1.66E-04, _patience: 10\n",
            "Epoch: 9 | train_loss: 0.00204, val_loss: 0.00200, lr: 1.66E-04, _patience: 10\n",
            "Epoch: 10 | train_loss: 0.00192, val_loss: 0.00191, lr: 1.66E-04, _patience: 10\n",
            "Epoch: 11 | train_loss: 0.00178, val_loss: 0.00186, lr: 1.66E-04, _patience: 10\n",
            "Epoch: 12 | train_loss: 0.00164, val_loss: 0.00183, lr: 1.66E-04, _patience: 10\n",
            "Epoch: 13 | train_loss: 0.00155, val_loss: 0.00176, lr: 1.66E-04, _patience: 10\n",
            "Epoch: 14 | train_loss: 0.00143, val_loss: 0.00173, lr: 1.66E-04, _patience: 10\n",
            "Epoch: 15 | train_loss: 0.00133, val_loss: 0.00169, lr: 1.66E-04, _patience: 10\n",
            "Epoch: 16 | train_loss: 0.00126, val_loss: 0.00168, lr: 1.66E-04, _patience: 10\n",
            "Epoch: 17 | train_loss: 0.00115, val_loss: 0.00166, lr: 1.66E-04, _patience: 10\n",
            "Epoch: 18 | train_loss: 0.00109, val_loss: 0.00165, lr: 1.66E-04, _patience: 9\n",
            "Epoch: 19 | train_loss: 0.00105, val_loss: 0.00165, lr: 1.66E-04, _patience: 10\n",
            "Epoch: 20 | train_loss: 0.00099, val_loss: 0.00158, lr: 1.66E-04, _patience: 10\n",
            "Epoch: 21 | train_loss: 0.00093, val_loss: 0.00161, lr: 1.66E-04, _patience: 9\n",
            "Epoch: 22 | train_loss: 0.00087, val_loss: 0.00160, lr: 1.66E-04, _patience: 8\n",
            "Epoch: 23 | train_loss: 0.00079, val_loss: 0.00156, lr: 1.66E-04, _patience: 10\n",
            "Epoch: 24 | train_loss: 0.00075, val_loss: 0.00154, lr: 1.66E-04, _patience: 10\n",
            "Epoch: 25 | train_loss: 0.00070, val_loss: 0.00157, lr: 1.66E-04, _patience: 9\n",
            "Epoch: 26 | train_loss: 0.00066, val_loss: 0.00157, lr: 1.66E-04, _patience: 8\n",
            "Epoch: 27 | train_loss: 0.00063, val_loss: 0.00153, lr: 1.66E-04, _patience: 7\n",
            "Epoch: 28 | train_loss: 0.00058, val_loss: 0.00156, lr: 1.66E-04, _patience: 6\n",
            "Epoch: 29 | train_loss: 0.00056, val_loss: 0.00162, lr: 1.66E-04, _patience: 5\n",
            "Epoch: 30 | train_loss: 0.00053, val_loss: 0.00153, lr: 1.66E-04, _patience: 4\n",
            "Epoch: 31 | train_loss: 0.00049, val_loss: 0.00166, lr: 1.66E-04, _patience: 3\n",
            "Epoch: 32 | train_loss: 0.00047, val_loss: 0.00154, lr: 1.66E-04, _patience: 2\n",
            "Epoch: 33 | train_loss: 0.00044, val_loss: 0.00153, lr: 1.66E-04, _patience: 10\n",
            "Epoch: 34 | train_loss: 0.00042, val_loss: 0.00162, lr: 1.66E-04, _patience: 9\n",
            "Epoch: 35 | train_loss: 0.00040, val_loss: 0.00157, lr: 1.66E-04, _patience: 8\n",
            "Epoch: 36 | train_loss: 0.00038, val_loss: 0.00168, lr: 1.66E-04, _patience: 7\n",
            "Epoch: 37 | train_loss: 0.00037, val_loss: 0.00167, lr: 1.66E-04, _patience: 6\n",
            "Epoch: 38 | train_loss: 0.00035, val_loss: 0.00164, lr: 1.66E-04, _patience: 5\n",
            "Epoch: 39 | train_loss: 0.00033, val_loss: 0.00163, lr: 1.66E-05, _patience: 4\n",
            "Epoch: 40 | train_loss: 0.00032, val_loss: 0.00155, lr: 1.66E-05, _patience: 3\n",
            "Epoch: 41 | train_loss: 0.00028, val_loss: 0.00152, lr: 1.66E-05, _patience: 2\n",
            "Epoch: 42 | train_loss: 0.00027, val_loss: 0.00155, lr: 1.66E-05, _patience: 1\n",
            "Stopping early!\n"
          ]
        },
        {
          "output_type": "stream",
          "name": "stderr",
          "text": [
            "\u001b[32m[I 2021-09-01 00:27:41,854]\u001b[0m Trial 2 finished with value: 0.672404196514774 and parameters: {'embedding_dim': 132, 'num_filters': 437, 'hidden_dim': 350, 'dropout_p': 0.5052768968902219, 'lr': 0.00016619117376915027}. Best is trial 2 with value: 0.672404196514774.\u001b[0m\n"
          ]
        },
        {
          "output_type": "stream",
          "name": "stdout",
          "text": [
            "Epoch: 1 | train_loss: 0.00666, val_loss: 0.00420, lr: 2.83E-04, _patience: 10\n",
            "Epoch: 2 | train_loss: 0.00435, val_loss: 0.00270, lr: 2.83E-04, _patience: 10\n",
            "Epoch: 3 | train_loss: 0.00333, val_loss: 0.00260, lr: 2.83E-04, _patience: 10\n",
            "Epoch: 4 | train_loss: 0.00295, val_loss: 0.00245, lr: 2.83E-04, _patience: 10\n",
            "Epoch: 5 | train_loss: 0.00273, val_loss: 0.00226, lr: 2.83E-04, _patience: 10\n",
            "Epoch: 6 | train_loss: 0.00243, val_loss: 0.00212, lr: 2.83E-04, _patience: 10\n",
            "Epoch: 7 | train_loss: 0.00217, val_loss: 0.00197, lr: 2.83E-04, _patience: 10\n",
            "Epoch: 8 | train_loss: 0.00198, val_loss: 0.00186, lr: 2.83E-04, _patience: 10\n",
            "Epoch: 9 | train_loss: 0.00178, val_loss: 0.00177, lr: 2.83E-04, _patience: 10\n",
            "Epoch: 10 | train_loss: 0.00166, val_loss: 0.00167, lr: 2.83E-04, _patience: 10\n",
            "Epoch: 11 | train_loss: 0.00147, val_loss: 0.00165, lr: 2.83E-04, _patience: 10\n",
            "Epoch: 12 | train_loss: 0.00139, val_loss: 0.00161, lr: 2.83E-04, _patience: 10\n",
            "Epoch: 13 | train_loss: 0.00125, val_loss: 0.00159, lr: 2.83E-04, _patience: 10\n",
            "Epoch: 14 | train_loss: 0.00114, val_loss: 0.00159, lr: 2.83E-04, _patience: 9\n",
            "Epoch: 15 | train_loss: 0.00109, val_loss: 0.00153, lr: 2.83E-04, _patience: 10\n",
            "Epoch: 16 | train_loss: 0.00098, val_loss: 0.00152, lr: 2.83E-04, _patience: 9\n",
            "Epoch: 17 | train_loss: 0.00087, val_loss: 0.00156, lr: 2.83E-04, _patience: 8\n",
            "Epoch: 18 | train_loss: 0.00080, val_loss: 0.00157, lr: 2.83E-04, _patience: 7\n",
            "Epoch: 19 | train_loss: 0.00073, val_loss: 0.00160, lr: 2.83E-04, _patience: 6\n",
            "Epoch: 20 | train_loss: 0.00066, val_loss: 0.00165, lr: 2.83E-04, _patience: 5\n",
            "Epoch: 21 | train_loss: 0.00062, val_loss: 0.00158, lr: 2.83E-04, _patience: 4\n",
            "Epoch: 22 | train_loss: 0.00056, val_loss: 0.00178, lr: 2.83E-05, _patience: 3\n",
            "Epoch: 23 | train_loss: 0.00056, val_loss: 0.00144, lr: 2.83E-05, _patience: 10\n",
            "Epoch: 24 | train_loss: 0.00048, val_loss: 0.00148, lr: 2.83E-05, _patience: 9\n",
            "Epoch: 25 | train_loss: 0.00048, val_loss: 0.00146, lr: 2.83E-05, _patience: 8\n",
            "Epoch: 26 | train_loss: 0.00046, val_loss: 0.00149, lr: 2.83E-05, _patience: 7\n",
            "Epoch: 27 | train_loss: 0.00043, val_loss: 0.00148, lr: 2.83E-05, _patience: 6\n",
            "Epoch: 28 | train_loss: 0.00041, val_loss: 0.00147, lr: 2.83E-05, _patience: 5\n",
            "Epoch: 29 | train_loss: 0.00041, val_loss: 0.00149, lr: 2.83E-06, _patience: 4\n",
            "Epoch: 30 | train_loss: 0.00041, val_loss: 0.00148, lr: 2.83E-06, _patience: 3\n",
            "Epoch: 31 | train_loss: 0.00042, val_loss: 0.00149, lr: 2.83E-06, _patience: 2\n",
            "Epoch: 32 | train_loss: 0.00040, val_loss: 0.00148, lr: 2.83E-06, _patience: 1\n",
            "Stopping early!\n"
          ]
        },
        {
          "output_type": "stream",
          "name": "stderr",
          "text": [
            "\u001b[32m[I 2021-09-01 00:29:45,341]\u001b[0m Trial 3 finished with value: 0.6857096755536929 and parameters: {'embedding_dim': 143, 'num_filters': 417, 'hidden_dim': 461, 'dropout_p': 0.6631365045280517, 'lr': 0.00028263483763393924}. Best is trial 3 with value: 0.6857096755536929.\u001b[0m\n"
          ]
        },
        {
          "output_type": "stream",
          "name": "stdout",
          "text": [
            "Epoch: 1 | train_loss: 0.00560, val_loss: 0.00312, lr: 3.14E-04, _patience: 10\n",
            "Epoch: 2 | train_loss: 0.00348, val_loss: 0.00245, lr: 3.14E-04, _patience: 10\n",
            "Epoch: 3 | train_loss: 0.00289, val_loss: 0.00219, lr: 3.14E-04, _patience: 10\n",
            "Epoch: 4 | train_loss: 0.00242, val_loss: 0.00196, lr: 3.14E-04, _patience: 10\n",
            "Epoch: 5 | train_loss: 0.00204, val_loss: 0.00183, lr: 3.14E-04, _patience: 10\n",
            "Epoch: 6 | train_loss: 0.00177, val_loss: 0.00177, lr: 3.14E-04, _patience: 10\n",
            "Epoch: 7 | train_loss: 0.00157, val_loss: 0.00168, lr: 3.14E-04, _patience: 10\n",
            "Epoch: 8 | train_loss: 0.00136, val_loss: 0.00157, lr: 3.14E-04, _patience: 10\n",
            "Epoch: 9 | train_loss: 0.00119, val_loss: 0.00160, lr: 3.14E-04, _patience: 9\n",
            "Epoch: 10 | train_loss: 0.00105, val_loss: 0.00159, lr: 3.14E-04, _patience: 8\n",
            "Epoch: 11 | train_loss: 0.00098, val_loss: 0.00167, lr: 3.14E-04, _patience: 7\n",
            "Epoch: 12 | train_loss: 0.00086, val_loss: 0.00162, lr: 3.14E-04, _patience: 6\n",
            "Epoch: 13 | train_loss: 0.00080, val_loss: 0.00148, lr: 3.14E-04, _patience: 10\n",
            "Epoch: 14 | train_loss: 0.00071, val_loss: 0.00166, lr: 3.14E-04, _patience: 9\n",
            "Epoch: 15 | train_loss: 0.00065, val_loss: 0.00159, lr: 3.14E-04, _patience: 8\n",
            "Epoch: 16 | train_loss: 0.00056, val_loss: 0.00175, lr: 3.14E-04, _patience: 7\n",
            "Epoch: 17 | train_loss: 0.00052, val_loss: 0.00176, lr: 3.14E-04, _patience: 6\n",
            "Epoch: 18 | train_loss: 0.00048, val_loss: 0.00168, lr: 3.14E-04, _patience: 5\n",
            "Epoch: 19 | train_loss: 0.00045, val_loss: 0.00164, lr: 3.14E-05, _patience: 4\n",
            "Epoch: 20 | train_loss: 0.00042, val_loss: 0.00172, lr: 3.14E-05, _patience: 3\n",
            "Epoch: 21 | train_loss: 0.00035, val_loss: 0.00156, lr: 3.14E-05, _patience: 2\n",
            "Epoch: 22 | train_loss: 0.00033, val_loss: 0.00163, lr: 3.14E-05, _patience: 1\n",
            "Stopping early!\n"
          ]
        },
        {
          "output_type": "stream",
          "name": "stderr",
          "text": [
            "\u001b[32m[I 2021-09-01 00:32:38,596]\u001b[0m Trial 4 finished with value: 0.6773864860696958 and parameters: {'embedding_dim': 479, 'num_filters': 291, 'hidden_dim': 192, 'dropout_p': 0.5258458967394205, 'lr': 0.0003137904595130533}. Best is trial 3 with value: 0.6857096755536929.\u001b[0m\n"
          ]
        },
        {
          "output_type": "stream",
          "name": "stdout",
          "text": [
            "Epoch: 1 | train_loss: 0.00583, val_loss: 0.00350, lr: 1.86E-04, _patience: 10\n",
            "Epoch: 2 | train_loss: 0.00435, val_loss: 0.00265, lr: 1.86E-04, _patience: 10\n",
            "Epoch: 3 | train_loss: 0.00355, val_loss: 0.00255, lr: 1.86E-04, _patience: 10\n",
            "Epoch: 4 | train_loss: 0.00320, val_loss: 0.00244, lr: 1.86E-04, _patience: 10\n",
            "Epoch: 5 | train_loss: 0.00298, val_loss: 0.00232, lr: 1.86E-04, _patience: 10\n",
            "Epoch: 6 | train_loss: 0.00275, val_loss: 0.00223, lr: 1.86E-04, _patience: 10\n",
            "Epoch: 7 | train_loss: 0.00259, val_loss: 0.00212, lr: 1.86E-04, _patience: 10\n",
            "Epoch: 8 | train_loss: 0.00239, val_loss: 0.00203, lr: 1.86E-04, _patience: 10\n",
            "Epoch: 9 | train_loss: 0.00227, val_loss: 0.00192, lr: 1.86E-04, _patience: 10\n",
            "Epoch: 10 | train_loss: 0.00210, val_loss: 0.00189, lr: 1.86E-04, _patience: 10\n",
            "Epoch: 11 | train_loss: 0.00200, val_loss: 0.00192, lr: 1.86E-04, _patience: 9\n",
            "Epoch: 12 | train_loss: 0.00186, val_loss: 0.00182, lr: 1.86E-04, _patience: 10\n",
            "Epoch: 13 | train_loss: 0.00177, val_loss: 0.00171, lr: 1.86E-04, _patience: 10\n",
            "Epoch: 14 | train_loss: 0.00162, val_loss: 0.00172, lr: 1.86E-04, _patience: 9\n",
            "Epoch: 15 | train_loss: 0.00156, val_loss: 0.00167, lr: 1.86E-04, _patience: 10\n",
            "Epoch: 16 | train_loss: 0.00144, val_loss: 0.00164, lr: 1.86E-04, _patience: 10\n",
            "Epoch: 17 | train_loss: 0.00139, val_loss: 0.00160, lr: 1.86E-04, _patience: 10\n",
            "Epoch: 18 | train_loss: 0.00133, val_loss: 0.00163, lr: 1.86E-04, _patience: 9\n",
            "Epoch: 19 | train_loss: 0.00128, val_loss: 0.00162, lr: 1.86E-04, _patience: 8\n",
            "Epoch: 20 | train_loss: 0.00118, val_loss: 0.00162, lr: 1.86E-04, _patience: 7\n",
            "Epoch: 21 | train_loss: 0.00113, val_loss: 0.00159, lr: 1.86E-04, _patience: 6\n",
            "Epoch: 22 | train_loss: 0.00106, val_loss: 0.00157, lr: 1.86E-04, _patience: 10\n",
            "Epoch: 23 | train_loss: 0.00100, val_loss: 0.00151, lr: 1.86E-04, _patience: 10\n",
            "Epoch: 24 | train_loss: 0.00094, val_loss: 0.00158, lr: 1.86E-04, _patience: 9\n",
            "Epoch: 25 | train_loss: 0.00091, val_loss: 0.00156, lr: 1.86E-04, _patience: 8\n",
            "Epoch: 26 | train_loss: 0.00087, val_loss: 0.00160, lr: 1.86E-04, _patience: 7\n",
            "Epoch: 27 | train_loss: 0.00084, val_loss: 0.00160, lr: 1.86E-04, _patience: 6\n",
            "Epoch: 28 | train_loss: 0.00080, val_loss: 0.00169, lr: 1.86E-04, _patience: 5\n",
            "Epoch: 29 | train_loss: 0.00080, val_loss: 0.00153, lr: 1.86E-05, _patience: 4\n",
            "Epoch: 30 | train_loss: 0.00071, val_loss: 0.00150, lr: 1.86E-05, _patience: 3\n",
            "Epoch: 31 | train_loss: 0.00065, val_loss: 0.00154, lr: 1.86E-05, _patience: 2\n",
            "Epoch: 32 | train_loss: 0.00065, val_loss: 0.00149, lr: 1.86E-05, _patience: 10\n",
            "Epoch: 33 | train_loss: 0.00063, val_loss: 0.00154, lr: 1.86E-05, _patience: 9\n",
            "Epoch: 34 | train_loss: 0.00065, val_loss: 0.00150, lr: 1.86E-05, _patience: 8\n",
            "Epoch: 35 | train_loss: 0.00064, val_loss: 0.00152, lr: 1.86E-05, _patience: 7\n",
            "Epoch: 36 | train_loss: 0.00063, val_loss: 0.00150, lr: 1.86E-05, _patience: 6\n",
            "Epoch: 37 | train_loss: 0.00061, val_loss: 0.00150, lr: 1.86E-05, _patience: 5\n",
            "Epoch: 38 | train_loss: 0.00060, val_loss: 0.00151, lr: 1.86E-06, _patience: 4\n",
            "Epoch: 39 | train_loss: 0.00062, val_loss: 0.00150, lr: 1.86E-06, _patience: 3\n",
            "Epoch: 40 | train_loss: 0.00062, val_loss: 0.00150, lr: 1.86E-06, _patience: 2\n",
            "Epoch: 41 | train_loss: 0.00061, val_loss: 0.00150, lr: 1.86E-06, _patience: 1\n",
            "Stopping early!\n"
          ]
        },
        {
          "output_type": "stream",
          "name": "stderr",
          "text": [
            "\u001b[32m[I 2021-09-01 00:36:10,145]\u001b[0m Trial 5 finished with value: 0.6507480136276738 and parameters: {'embedding_dim': 254, 'num_filters': 336, 'hidden_dim': 210, 'dropout_p': 0.6751840349937474, 'lr': 0.00018621959397381835}. Best is trial 3 with value: 0.6857096755536929.\u001b[0m\n"
          ]
        },
        {
          "output_type": "stream",
          "name": "stdout",
          "text": [
            "Epoch: 1 | train_loss: 0.00490, val_loss: 0.00334, lr: 8.79E-05, _patience: 10\n",
            "Epoch: 2 | train_loss: 0.00369, val_loss: 0.00276, lr: 8.79E-05, _patience: 10\n",
            "Epoch: 3 | train_loss: 0.00320, val_loss: 0.00262, lr: 8.79E-05, _patience: 10\n",
            "Epoch: 4 | train_loss: 0.00306, val_loss: 0.00256, lr: 8.79E-05, _patience: 10\n",
            "Epoch: 5 | train_loss: 0.00285, val_loss: 0.00246, lr: 8.79E-05, _patience: 10\n",
            "Epoch: 6 | train_loss: 0.00267, val_loss: 0.00239, lr: 8.79E-05, _patience: 10\n",
            "Epoch: 7 | train_loss: 0.00257, val_loss: 0.00229, lr: 8.79E-05, _patience: 10\n",
            "Epoch: 8 | train_loss: 0.00246, val_loss: 0.00222, lr: 8.79E-05, _patience: 10\n",
            "Epoch: 9 | train_loss: 0.00231, val_loss: 0.00213, lr: 8.79E-05, _patience: 10\n",
            "Epoch: 10 | train_loss: 0.00218, val_loss: 0.00204, lr: 8.79E-05, _patience: 10\n",
            "Epoch: 11 | train_loss: 0.00206, val_loss: 0.00197, lr: 8.79E-05, _patience: 10\n",
            "Epoch: 12 | train_loss: 0.00194, val_loss: 0.00189, lr: 8.79E-05, _patience: 10\n",
            "Epoch: 13 | train_loss: 0.00187, val_loss: 0.00184, lr: 8.79E-05, _patience: 10\n",
            "Epoch: 14 | train_loss: 0.00175, val_loss: 0.00179, lr: 8.79E-05, _patience: 10\n",
            "Epoch: 15 | train_loss: 0.00169, val_loss: 0.00174, lr: 8.79E-05, _patience: 10\n",
            "Epoch: 16 | train_loss: 0.00159, val_loss: 0.00173, lr: 8.79E-05, _patience: 9\n",
            "Epoch: 17 | train_loss: 0.00153, val_loss: 0.00169, lr: 8.79E-05, _patience: 10\n",
            "Epoch: 18 | train_loss: 0.00144, val_loss: 0.00166, lr: 8.79E-05, _patience: 10\n",
            "Epoch: 19 | train_loss: 0.00138, val_loss: 0.00163, lr: 8.79E-05, _patience: 10\n",
            "Epoch: 20 | train_loss: 0.00134, val_loss: 0.00162, lr: 8.79E-05, _patience: 10\n",
            "Epoch: 21 | train_loss: 0.00127, val_loss: 0.00157, lr: 8.79E-05, _patience: 10\n",
            "Epoch: 22 | train_loss: 0.00121, val_loss: 0.00156, lr: 8.79E-05, _patience: 10\n",
            "Epoch: 23 | train_loss: 0.00113, val_loss: 0.00156, lr: 8.79E-05, _patience: 9\n",
            "Epoch: 24 | train_loss: 0.00108, val_loss: 0.00153, lr: 8.79E-05, _patience: 10\n",
            "Epoch: 25 | train_loss: 0.00104, val_loss: 0.00151, lr: 8.79E-05, _patience: 10\n",
            "Epoch: 26 | train_loss: 0.00099, val_loss: 0.00149, lr: 8.79E-05, _patience: 10\n",
            "Epoch: 27 | train_loss: 0.00095, val_loss: 0.00148, lr: 8.79E-05, _patience: 9\n",
            "Epoch: 28 | train_loss: 0.00089, val_loss: 0.00148, lr: 8.79E-05, _patience: 8\n",
            "Epoch: 29 | train_loss: 0.00086, val_loss: 0.00148, lr: 8.79E-05, _patience: 7\n",
            "Epoch: 30 | train_loss: 0.00084, val_loss: 0.00150, lr: 8.79E-05, _patience: 6\n",
            "Epoch: 31 | train_loss: 0.00078, val_loss: 0.00147, lr: 8.79E-05, _patience: 10\n",
            "Epoch: 32 | train_loss: 0.00075, val_loss: 0.00150, lr: 8.79E-05, _patience: 9\n",
            "Epoch: 33 | train_loss: 0.00072, val_loss: 0.00155, lr: 8.79E-05, _patience: 8\n",
            "Epoch: 34 | train_loss: 0.00069, val_loss: 0.00149, lr: 8.79E-05, _patience: 7\n",
            "Epoch: 35 | train_loss: 0.00068, val_loss: 0.00146, lr: 8.79E-05, _patience: 6\n",
            "Epoch: 36 | train_loss: 0.00062, val_loss: 0.00148, lr: 8.79E-05, _patience: 5\n",
            "Epoch: 37 | train_loss: 0.00062, val_loss: 0.00143, lr: 8.79E-05, _patience: 10\n",
            "Epoch: 38 | train_loss: 0.00060, val_loss: 0.00153, lr: 8.79E-05, _patience: 9\n",
            "Epoch: 39 | train_loss: 0.00057, val_loss: 0.00146, lr: 8.79E-05, _patience: 8\n",
            "Epoch: 40 | train_loss: 0.00055, val_loss: 0.00146, lr: 8.79E-05, _patience: 7\n",
            "Epoch: 41 | train_loss: 0.00052, val_loss: 0.00147, lr: 8.79E-05, _patience: 6\n",
            "Epoch: 42 | train_loss: 0.00048, val_loss: 0.00154, lr: 8.79E-05, _patience: 5\n",
            "Epoch: 43 | train_loss: 0.00049, val_loss: 0.00145, lr: 8.79E-06, _patience: 4\n",
            "Epoch: 44 | train_loss: 0.00046, val_loss: 0.00149, lr: 8.79E-06, _patience: 3\n",
            "Epoch: 45 | train_loss: 0.00044, val_loss: 0.00145, lr: 8.79E-06, _patience: 2\n",
            "Epoch: 46 | train_loss: 0.00043, val_loss: 0.00145, lr: 8.79E-06, _patience: 1\n",
            "Stopping early!\n"
          ]
        },
        {
          "output_type": "stream",
          "name": "stderr",
          "text": [
            "\u001b[32m[I 2021-09-01 00:40:40,459]\u001b[0m Trial 6 finished with value: 0.6695565000380983 and parameters: {'embedding_dim': 264, 'num_filters': 339, 'hidden_dim': 323, 'dropout_p': 0.543537780573693, 'lr': 8.793757753342903e-05}. Best is trial 3 with value: 0.6857096755536929.\u001b[0m\n"
          ]
        },
        {
          "output_type": "stream",
          "name": "stdout",
          "text": [
            "Epoch: 1 | train_loss: 0.00503, val_loss: 0.00315, lr: 5.15E-05, _patience: 10\n",
            "Epoch: 2 | train_loss: 0.00373, val_loss: 0.00291, lr: 5.15E-05, _patience: 10\n",
            "Epoch: 3 | train_loss: 0.00338, val_loss: 0.00266, lr: 5.15E-05, _patience: 10\n",
            "Epoch: 4 | train_loss: 0.00321, val_loss: 0.00259, lr: 5.15E-05, _patience: 10\n",
            "Epoch: 5 | train_loss: 0.00306, val_loss: 0.00254, lr: 5.15E-05, _patience: 10\n",
            "Epoch: 6 | train_loss: 0.00293, val_loss: 0.00247, lr: 5.15E-05, _patience: 10\n",
            "Epoch: 7 | train_loss: 0.00282, val_loss: 0.00241, lr: 5.15E-05, _patience: 10\n",
            "Epoch: 8 | train_loss: 0.00271, val_loss: 0.00234, lr: 5.15E-05, _patience: 10\n",
            "Epoch: 9 | train_loss: 0.00257, val_loss: 0.00228, lr: 5.15E-05, _patience: 10\n",
            "Epoch: 10 | train_loss: 0.00252, val_loss: 0.00220, lr: 5.15E-05, _patience: 10\n",
            "Epoch: 11 | train_loss: 0.00236, val_loss: 0.00215, lr: 5.15E-05, _patience: 10\n",
            "Epoch: 12 | train_loss: 0.00229, val_loss: 0.00208, lr: 5.15E-05, _patience: 10\n",
            "Epoch: 13 | train_loss: 0.00220, val_loss: 0.00202, lr: 5.15E-05, _patience: 10\n",
            "Epoch: 14 | train_loss: 0.00211, val_loss: 0.00197, lr: 5.15E-05, _patience: 10\n",
            "Epoch: 15 | train_loss: 0.00205, val_loss: 0.00193, lr: 5.15E-05, _patience: 10\n",
            "Epoch: 16 | train_loss: 0.00192, val_loss: 0.00187, lr: 5.15E-05, _patience: 10\n",
            "Epoch: 17 | train_loss: 0.00187, val_loss: 0.00182, lr: 5.15E-05, _patience: 10\n",
            "Epoch: 18 | train_loss: 0.00179, val_loss: 0.00178, lr: 5.15E-05, _patience: 10\n",
            "Epoch: 19 | train_loss: 0.00172, val_loss: 0.00175, lr: 5.15E-05, _patience: 10\n",
            "Epoch: 20 | train_loss: 0.00164, val_loss: 0.00172, lr: 5.15E-05, _patience: 10\n",
            "Epoch: 21 | train_loss: 0.00159, val_loss: 0.00169, lr: 5.15E-05, _patience: 10\n",
            "Epoch: 22 | train_loss: 0.00156, val_loss: 0.00167, lr: 5.15E-05, _patience: 10\n",
            "Epoch: 23 | train_loss: 0.00150, val_loss: 0.00166, lr: 5.15E-05, _patience: 10\n",
            "Epoch: 24 | train_loss: 0.00144, val_loss: 0.00164, lr: 5.15E-05, _patience: 10\n",
            "Epoch: 25 | train_loss: 0.00139, val_loss: 0.00161, lr: 5.15E-05, _patience: 10\n",
            "Epoch: 26 | train_loss: 0.00133, val_loss: 0.00158, lr: 5.15E-05, _patience: 10\n",
            "Epoch: 27 | train_loss: 0.00129, val_loss: 0.00157, lr: 5.15E-05, _patience: 9\n",
            "Epoch: 28 | train_loss: 0.00125, val_loss: 0.00158, lr: 5.15E-05, _patience: 8\n",
            "Epoch: 29 | train_loss: 0.00123, val_loss: 0.00156, lr: 5.15E-05, _patience: 10\n",
            "Epoch: 30 | train_loss: 0.00118, val_loss: 0.00155, lr: 5.15E-05, _patience: 9\n",
            "Epoch: 31 | train_loss: 0.00112, val_loss: 0.00152, lr: 5.15E-05, _patience: 10\n",
            "Epoch: 32 | train_loss: 0.00110, val_loss: 0.00154, lr: 5.15E-05, _patience: 9\n",
            "Epoch: 33 | train_loss: 0.00108, val_loss: 0.00152, lr: 5.15E-05, _patience: 8\n",
            "Epoch: 34 | train_loss: 0.00103, val_loss: 0.00150, lr: 5.15E-05, _patience: 10\n",
            "Epoch: 35 | train_loss: 0.00101, val_loss: 0.00150, lr: 5.15E-05, _patience: 9\n",
            "Epoch: 36 | train_loss: 0.00096, val_loss: 0.00149, lr: 5.15E-05, _patience: 8\n",
            "Epoch: 37 | train_loss: 0.00097, val_loss: 0.00150, lr: 5.15E-05, _patience: 7\n",
            "Epoch: 38 | train_loss: 0.00092, val_loss: 0.00149, lr: 5.15E-05, _patience: 10\n",
            "Epoch: 39 | train_loss: 0.00090, val_loss: 0.00145, lr: 5.15E-05, _patience: 10\n",
            "Epoch: 40 | train_loss: 0.00084, val_loss: 0.00146, lr: 5.15E-05, _patience: 9\n",
            "Epoch: 41 | train_loss: 0.00083, val_loss: 0.00150, lr: 5.15E-05, _patience: 8\n",
            "Epoch: 42 | train_loss: 0.00081, val_loss: 0.00149, lr: 5.15E-05, _patience: 7\n",
            "Epoch: 43 | train_loss: 0.00078, val_loss: 0.00147, lr: 5.15E-05, _patience: 6\n",
            "Epoch: 44 | train_loss: 0.00076, val_loss: 0.00147, lr: 5.15E-05, _patience: 5\n",
            "Epoch: 45 | train_loss: 0.00074, val_loss: 0.00150, lr: 5.15E-06, _patience: 4\n",
            "Epoch: 46 | train_loss: 0.00071, val_loss: 0.00146, lr: 5.15E-06, _patience: 3\n",
            "Epoch: 47 | train_loss: 0.00069, val_loss: 0.00144, lr: 5.15E-06, _patience: 2\n",
            "Epoch: 48 | train_loss: 0.00070, val_loss: 0.00145, lr: 5.15E-06, _patience: 1\n",
            "Stopping early!\n"
          ]
        },
        {
          "output_type": "stream",
          "name": "stderr",
          "text": [
            "\u001b[32m[I 2021-09-01 00:46:48,427]\u001b[0m Trial 7 finished with value: 0.650535425085728 and parameters: {'embedding_dim': 380, 'num_filters': 406, 'hidden_dim': 320, 'dropout_p': 0.6145333778520938, 'lr': 5.152166996383546e-05}. Best is trial 3 with value: 0.6857096755536929.\u001b[0m\n"
          ]
        },
        {
          "output_type": "stream",
          "name": "stdout",
          "text": [
            "Epoch: 1 | train_loss: 0.00498, val_loss: 0.00337, lr: 2.36E-04, _patience: 10\n",
            "Epoch: 2 | train_loss: 0.00358, val_loss: 0.00258, lr: 2.36E-04, _patience: 10\n",
            "Epoch: 3 | train_loss: 0.00295, val_loss: 0.00238, lr: 2.36E-04, _patience: 10\n",
            "Epoch: 4 | train_loss: 0.00265, val_loss: 0.00219, lr: 2.36E-04, _patience: 10\n",
            "Epoch: 5 | train_loss: 0.00229, val_loss: 0.00204, lr: 2.36E-04, _patience: 10\n",
            "Epoch: 6 | train_loss: 0.00210, val_loss: 0.00190, lr: 2.36E-04, _patience: 10\n",
            "Epoch: 7 | train_loss: 0.00186, val_loss: 0.00182, lr: 2.36E-04, _patience: 10\n",
            "Epoch: 8 | train_loss: 0.00169, val_loss: 0.00175, lr: 2.36E-04, _patience: 10\n",
            "Epoch: 9 | train_loss: 0.00150, val_loss: 0.00170, lr: 2.36E-04, _patience: 10\n",
            "Epoch: 10 | train_loss: 0.00137, val_loss: 0.00164, lr: 2.36E-04, _patience: 10\n",
            "Epoch: 11 | train_loss: 0.00128, val_loss: 0.00162, lr: 2.36E-04, _patience: 10\n",
            "Epoch: 12 | train_loss: 0.00115, val_loss: 0.00164, lr: 2.36E-04, _patience: 9\n",
            "Epoch: 13 | train_loss: 0.00104, val_loss: 0.00159, lr: 2.36E-04, _patience: 10\n",
            "Epoch: 14 | train_loss: 0.00096, val_loss: 0.00161, lr: 2.36E-04, _patience: 9\n",
            "Epoch: 15 | train_loss: 0.00089, val_loss: 0.00157, lr: 2.36E-04, _patience: 10\n",
            "Epoch: 16 | train_loss: 0.00084, val_loss: 0.00162, lr: 2.36E-04, _patience: 9\n",
            "Epoch: 17 | train_loss: 0.00075, val_loss: 0.00153, lr: 2.36E-04, _patience: 10\n",
            "Epoch: 18 | train_loss: 0.00070, val_loss: 0.00168, lr: 2.36E-04, _patience: 9\n",
            "Epoch: 19 | train_loss: 0.00063, val_loss: 0.00154, lr: 2.36E-04, _patience: 8\n",
            "Epoch: 20 | train_loss: 0.00060, val_loss: 0.00163, lr: 2.36E-04, _patience: 7\n",
            "Epoch: 21 | train_loss: 0.00055, val_loss: 0.00180, lr: 2.36E-04, _patience: 6\n",
            "Epoch: 22 | train_loss: 0.00051, val_loss: 0.00162, lr: 2.36E-04, _patience: 5\n",
            "Epoch: 23 | train_loss: 0.00051, val_loss: 0.00156, lr: 2.36E-05, _patience: 4\n",
            "Epoch: 24 | train_loss: 0.00045, val_loss: 0.00164, lr: 2.36E-05, _patience: 3\n",
            "Epoch: 25 | train_loss: 0.00039, val_loss: 0.00152, lr: 2.36E-05, _patience: 10\n",
            "Epoch: 26 | train_loss: 0.00038, val_loss: 0.00156, lr: 2.36E-05, _patience: 9\n",
            "Epoch: 27 | train_loss: 0.00036, val_loss: 0.00156, lr: 2.36E-05, _patience: 8\n",
            "Epoch: 28 | train_loss: 0.00036, val_loss: 0.00155, lr: 2.36E-05, _patience: 7\n",
            "Epoch: 29 | train_loss: 0.00035, val_loss: 0.00156, lr: 2.36E-05, _patience: 6\n",
            "Epoch: 30 | train_loss: 0.00036, val_loss: 0.00151, lr: 2.36E-05, _patience: 5\n",
            "Epoch: 31 | train_loss: 0.00034, val_loss: 0.00158, lr: 2.36E-05, _patience: 4\n",
            "Epoch: 32 | train_loss: 0.00034, val_loss: 0.00153, lr: 2.36E-05, _patience: 3\n",
            "Epoch: 33 | train_loss: 0.00034, val_loss: 0.00158, lr: 2.36E-05, _patience: 2\n",
            "Epoch: 34 | train_loss: 0.00033, val_loss: 0.00157, lr: 2.36E-05, _patience: 1\n",
            "Stopping early!\n"
          ]
        },
        {
          "output_type": "stream",
          "name": "stderr",
          "text": [
            "\u001b[32m[I 2021-09-01 00:49:26,296]\u001b[0m Trial 8 finished with value: 0.6772227165620945 and parameters: {'embedding_dim': 428, 'num_filters': 182, 'hidden_dim': 299, 'dropout_p': 0.5891194284291468, 'lr': 0.00023591746837167864}. Best is trial 3 with value: 0.6857096755536929.\u001b[0m\n"
          ]
        },
        {
          "output_type": "stream",
          "name": "stdout",
          "text": [
            "Epoch: 1 | train_loss: 0.00726, val_loss: 0.00307, lr: 4.75E-04, _patience: 10\n",
            "Epoch: 2 | train_loss: 0.00376, val_loss: 0.00272, lr: 4.75E-04, _patience: 10\n",
            "Epoch: 3 | train_loss: 0.00300, val_loss: 0.00236, lr: 4.75E-04, _patience: 10\n",
            "Epoch: 4 | train_loss: 0.00247, val_loss: 0.00203, lr: 4.75E-04, _patience: 10\n",
            "Epoch: 5 | train_loss: 0.00207, val_loss: 0.00181, lr: 4.75E-04, _patience: 10\n",
            "Epoch: 6 | train_loss: 0.00176, val_loss: 0.00171, lr: 4.75E-04, _patience: 10\n",
            "Epoch: 7 | train_loss: 0.00152, val_loss: 0.00163, lr: 4.75E-04, _patience: 10\n",
            "Epoch: 8 | train_loss: 0.00127, val_loss: 0.00156, lr: 4.75E-04, _patience: 10\n",
            "Epoch: 9 | train_loss: 0.00109, val_loss: 0.00152, lr: 4.75E-04, _patience: 10\n",
            "Epoch: 10 | train_loss: 0.00092, val_loss: 0.00158, lr: 4.75E-04, _patience: 9\n",
            "Epoch: 11 | train_loss: 0.00081, val_loss: 0.00143, lr: 4.75E-04, _patience: 10\n",
            "Epoch: 12 | train_loss: 0.00067, val_loss: 0.00151, lr: 4.75E-04, _patience: 9\n",
            "Epoch: 13 | train_loss: 0.00057, val_loss: 0.00171, lr: 4.75E-04, _patience: 8\n",
            "Epoch: 14 | train_loss: 0.00054, val_loss: 0.00172, lr: 4.75E-04, _patience: 7\n",
            "Epoch: 15 | train_loss: 0.00051, val_loss: 0.00160, lr: 4.75E-04, _patience: 6\n",
            "Epoch: 16 | train_loss: 0.00046, val_loss: 0.00172, lr: 4.75E-04, _patience: 5\n",
            "Epoch: 17 | train_loss: 0.00041, val_loss: 0.00219, lr: 4.75E-05, _patience: 4\n",
            "Epoch: 18 | train_loss: 0.00042, val_loss: 0.00147, lr: 4.75E-05, _patience: 3\n",
            "Epoch: 19 | train_loss: 0.00029, val_loss: 0.00166, lr: 4.75E-05, _patience: 2\n",
            "Epoch: 20 | train_loss: 0.00027, val_loss: 0.00161, lr: 4.75E-05, _patience: 1\n",
            "Stopping early!\n"
          ]
        },
        {
          "output_type": "stream",
          "name": "stderr",
          "text": [
            "\u001b[32m[I 2021-09-01 00:51:17,624]\u001b[0m Trial 9 finished with value: 0.689180434604019 and parameters: {'embedding_dim': 303, 'num_filters': 358, 'hidden_dim': 478, 'dropout_p': 0.6637028037697186, 'lr': 0.00047529062613271475}. Best is trial 9 with value: 0.689180434604019.\u001b[0m\n"
          ]
        },
        {
          "output_type": "stream",
          "name": "stdout",
          "text": [
            "Epoch: 1 | train_loss: 0.00437, val_loss: 0.00281, lr: 4.54E-04, _patience: 10\n",
            "Epoch: 2 | train_loss: 0.00297, val_loss: 0.00257, lr: 4.54E-04, _patience: 10\n",
            "Epoch: 3 | train_loss: 0.00249, val_loss: 0.00218, lr: 4.54E-04, _patience: 10\n",
            "Epoch: 4 | train_loss: 0.00201, val_loss: 0.00190, lr: 4.54E-04, _patience: 10\n",
            "Epoch: 5 | train_loss: 0.00164, val_loss: 0.00176, lr: 4.54E-04, _patience: 10\n",
            "Epoch: 6 | train_loss: 0.00138, val_loss: 0.00167, lr: 4.54E-04, _patience: 10\n",
            "Epoch: 7 | train_loss: 0.00113, val_loss: 0.00165, lr: 4.54E-04, _patience: 10\n",
            "Epoch: 8 | train_loss: 0.00095, val_loss: 0.00162, lr: 4.54E-04, _patience: 10\n",
            "Epoch: 9 | train_loss: 0.00077, val_loss: 0.00158, lr: 4.54E-04, _patience: 10\n",
            "Epoch: 10 | train_loss: 0.00062, val_loss: 0.00159, lr: 4.54E-04, _patience: 9\n",
            "Epoch: 11 | train_loss: 0.00054, val_loss: 0.00160, lr: 4.54E-04, _patience: 8\n",
            "Epoch: 12 | train_loss: 0.00045, val_loss: 0.00167, lr: 4.54E-04, _patience: 7\n",
            "Epoch: 13 | train_loss: 0.00041, val_loss: 0.00163, lr: 4.54E-04, _patience: 6\n",
            "Epoch: 14 | train_loss: 0.00033, val_loss: 0.00163, lr: 4.54E-04, _patience: 5\n",
            "Epoch: 15 | train_loss: 0.00031, val_loss: 0.00170, lr: 4.54E-05, _patience: 4\n",
            "Epoch: 16 | train_loss: 0.00026, val_loss: 0.00162, lr: 4.54E-05, _patience: 3\n",
            "Epoch: 17 | train_loss: 0.00020, val_loss: 0.00166, lr: 4.54E-05, _patience: 2\n",
            "Epoch: 18 | train_loss: 0.00019, val_loss: 0.00164, lr: 4.54E-05, _patience: 1\n",
            "Stopping early!\n"
          ]
        },
        {
          "output_type": "stream",
          "name": "stderr",
          "text": [
            "\u001b[32m[I 2021-09-01 00:52:14,161]\u001b[0m Trial 10 finished with value: 0.69159520247428 and parameters: {'embedding_dim': 300, 'num_filters': 140, 'hidden_dim': 495, 'dropout_p': 0.3146760780292101, 'lr': 0.00045386565876056847}. Best is trial 10 with value: 0.69159520247428.\u001b[0m\n"
          ]
        },
        {
          "output_type": "stream",
          "name": "stdout",
          "text": [
            "Epoch: 1 | train_loss: 0.00467, val_loss: 0.00289, lr: 4.94E-04, _patience: 10\n",
            "Epoch: 2 | train_loss: 0.00303, val_loss: 0.00261, lr: 4.94E-04, _patience: 10\n",
            "Epoch: 3 | train_loss: 0.00249, val_loss: 0.00220, lr: 4.94E-04, _patience: 10\n",
            "Epoch: 4 | train_loss: 0.00201, val_loss: 0.00189, lr: 4.94E-04, _patience: 10\n",
            "Epoch: 5 | train_loss: 0.00164, val_loss: 0.00173, lr: 4.94E-04, _patience: 10\n",
            "Epoch: 6 | train_loss: 0.00136, val_loss: 0.00167, lr: 4.94E-04, _patience: 10\n",
            "Epoch: 7 | train_loss: 0.00110, val_loss: 0.00160, lr: 4.94E-04, _patience: 10\n",
            "Epoch: 8 | train_loss: 0.00091, val_loss: 0.00156, lr: 4.94E-04, _patience: 10\n",
            "Epoch: 9 | train_loss: 0.00073, val_loss: 0.00157, lr: 4.94E-04, _patience: 9\n",
            "Epoch: 10 | train_loss: 0.00058, val_loss: 0.00159, lr: 4.94E-04, _patience: 8\n",
            "Epoch: 11 | train_loss: 0.00048, val_loss: 0.00160, lr: 4.94E-04, _patience: 7\n",
            "Epoch: 12 | train_loss: 0.00041, val_loss: 0.00167, lr: 4.94E-04, _patience: 6\n",
            "Epoch: 13 | train_loss: 0.00037, val_loss: 0.00169, lr: 4.94E-04, _patience: 5\n",
            "Epoch: 14 | train_loss: 0.00031, val_loss: 0.00178, lr: 4.94E-05, _patience: 4\n",
            "Epoch: 15 | train_loss: 0.00028, val_loss: 0.00166, lr: 4.94E-05, _patience: 3\n",
            "Epoch: 16 | train_loss: 0.00020, val_loss: 0.00169, lr: 4.94E-05, _patience: 2\n",
            "Epoch: 17 | train_loss: 0.00021, val_loss: 0.00165, lr: 4.94E-05, _patience: 1\n",
            "Stopping early!\n"
          ]
        },
        {
          "output_type": "stream",
          "name": "stderr",
          "text": [
            "\u001b[32m[I 2021-09-01 00:53:09,446]\u001b[0m Trial 11 finished with value: 0.6898318582252795 and parameters: {'embedding_dim': 304, 'num_filters': 156, 'hidden_dim': 509, 'dropout_p': 0.3253486647458148, 'lr': 0.0004939152448309571}. Best is trial 10 with value: 0.69159520247428.\u001b[0m\n"
          ]
        },
        {
          "output_type": "stream",
          "name": "stdout",
          "text": [
            "Epoch: 1 | train_loss: 0.00460, val_loss: 0.00288, lr: 4.83E-04, _patience: 10\n",
            "Epoch: 2 | train_loss: 0.00303, val_loss: 0.00262, lr: 4.83E-04, _patience: 10\n",
            "Epoch: 3 | train_loss: 0.00258, val_loss: 0.00228, lr: 4.83E-04, _patience: 10\n",
            "Epoch: 4 | train_loss: 0.00214, val_loss: 0.00199, lr: 4.83E-04, _patience: 10\n",
            "Epoch: 5 | train_loss: 0.00178, val_loss: 0.00182, lr: 4.83E-04, _patience: 10\n",
            "Epoch: 6 | train_loss: 0.00152, val_loss: 0.00172, lr: 4.83E-04, _patience: 10\n",
            "Epoch: 7 | train_loss: 0.00127, val_loss: 0.00163, lr: 4.83E-04, _patience: 10\n",
            "Epoch: 8 | train_loss: 0.00106, val_loss: 0.00157, lr: 4.83E-04, _patience: 10\n",
            "Epoch: 9 | train_loss: 0.00087, val_loss: 0.00158, lr: 4.83E-04, _patience: 9\n",
            "Epoch: 10 | train_loss: 0.00074, val_loss: 0.00158, lr: 4.83E-04, _patience: 8\n",
            "Epoch: 11 | train_loss: 0.00061, val_loss: 0.00162, lr: 4.83E-04, _patience: 7\n",
            "Epoch: 12 | train_loss: 0.00051, val_loss: 0.00166, lr: 4.83E-04, _patience: 6\n",
            "Epoch: 13 | train_loss: 0.00044, val_loss: 0.00180, lr: 4.83E-04, _patience: 5\n",
            "Epoch: 14 | train_loss: 0.00039, val_loss: 0.00179, lr: 4.83E-05, _patience: 4\n",
            "Epoch: 15 | train_loss: 0.00036, val_loss: 0.00155, lr: 4.83E-05, _patience: 10\n",
            "Epoch: 16 | train_loss: 0.00028, val_loss: 0.00153, lr: 4.83E-05, _patience: 10\n",
            "Epoch: 17 | train_loss: 0.00026, val_loss: 0.00154, lr: 4.83E-05, _patience: 9\n",
            "Epoch: 18 | train_loss: 0.00026, val_loss: 0.00154, lr: 4.83E-05, _patience: 8\n",
            "Epoch: 19 | train_loss: 0.00025, val_loss: 0.00155, lr: 4.83E-05, _patience: 7\n",
            "Epoch: 20 | train_loss: 0.00024, val_loss: 0.00155, lr: 4.83E-05, _patience: 6\n",
            "Epoch: 21 | train_loss: 0.00024, val_loss: 0.00155, lr: 4.83E-05, _patience: 5\n",
            "Epoch: 22 | train_loss: 0.00023, val_loss: 0.00157, lr: 4.83E-06, _patience: 4\n",
            "Epoch: 23 | train_loss: 0.00023, val_loss: 0.00157, lr: 4.83E-06, _patience: 3\n",
            "Epoch: 24 | train_loss: 0.00023, val_loss: 0.00156, lr: 4.83E-06, _patience: 2\n",
            "Epoch: 25 | train_loss: 0.00023, val_loss: 0.00156, lr: 4.83E-06, _patience: 1\n",
            "Stopping early!\n"
          ]
        },
        {
          "output_type": "stream",
          "name": "stderr",
          "text": [
            "\u001b[32m[I 2021-09-01 00:54:17,239]\u001b[0m Trial 12 finished with value: 0.6791925310321392 and parameters: {'embedding_dim': 242, 'num_filters': 130, 'hidden_dim': 511, 'dropout_p': 0.30247712212018635, 'lr': 0.00048330255619669825}. Best is trial 10 with value: 0.69159520247428.\u001b[0m\n"
          ]
        },
        {
          "output_type": "stream",
          "name": "stdout",
          "text": [
            "Epoch: 1 | train_loss: 0.00445, val_loss: 0.00286, lr: 3.53E-04, _patience: 10\n",
            "Epoch: 2 | train_loss: 0.00302, val_loss: 0.00257, lr: 3.53E-04, _patience: 10\n",
            "Epoch: 3 | train_loss: 0.00258, val_loss: 0.00228, lr: 3.53E-04, _patience: 10\n",
            "Epoch: 4 | train_loss: 0.00217, val_loss: 0.00201, lr: 3.53E-04, _patience: 10\n",
            "Epoch: 5 | train_loss: 0.00183, val_loss: 0.00182, lr: 3.53E-04, _patience: 10\n",
            "Epoch: 6 | train_loss: 0.00158, val_loss: 0.00170, lr: 3.53E-04, _patience: 10\n",
            "Epoch: 7 | train_loss: 0.00137, val_loss: 0.00164, lr: 3.53E-04, _patience: 10\n",
            "Epoch: 8 | train_loss: 0.00119, val_loss: 0.00159, lr: 3.53E-04, _patience: 10\n",
            "Epoch: 9 | train_loss: 0.00102, val_loss: 0.00156, lr: 3.53E-04, _patience: 10\n",
            "Epoch: 10 | train_loss: 0.00085, val_loss: 0.00156, lr: 3.53E-04, _patience: 9\n",
            "Epoch: 11 | train_loss: 0.00074, val_loss: 0.00156, lr: 3.53E-04, _patience: 8\n",
            "Epoch: 12 | train_loss: 0.00064, val_loss: 0.00159, lr: 3.53E-04, _patience: 7\n",
            "Epoch: 13 | train_loss: 0.00056, val_loss: 0.00164, lr: 3.53E-04, _patience: 6\n",
            "Epoch: 14 | train_loss: 0.00047, val_loss: 0.00164, lr: 3.53E-04, _patience: 5\n",
            "Epoch: 15 | train_loss: 0.00042, val_loss: 0.00168, lr: 3.53E-04, _patience: 4\n",
            "Epoch: 16 | train_loss: 0.00039, val_loss: 0.00171, lr: 3.53E-04, _patience: 3\n",
            "Epoch: 17 | train_loss: 0.00034, val_loss: 0.00172, lr: 3.53E-05, _patience: 2\n",
            "Epoch: 18 | train_loss: 0.00030, val_loss: 0.00156, lr: 3.53E-05, _patience: 1\n",
            "Stopping early!\n"
          ]
        },
        {
          "output_type": "stream",
          "name": "stderr",
          "text": [
            "\u001b[32m[I 2021-09-01 00:55:01,492]\u001b[0m Trial 13 finished with value: 0.6682214676250211 and parameters: {'embedding_dim': 340, 'num_filters': 128, 'hidden_dim': 413, 'dropout_p': 0.3303643780374325, 'lr': 0.0003534221746288298}. Best is trial 10 with value: 0.69159520247428.\u001b[0m\n"
          ]
        },
        {
          "output_type": "stream",
          "name": "stdout",
          "text": [
            "Epoch: 1 | train_loss: 0.00465, val_loss: 0.00335, lr: 1.14E-04, _patience: 10\n",
            "Epoch: 2 | train_loss: 0.00338, val_loss: 0.00276, lr: 1.14E-04, _patience: 10\n",
            "Epoch: 3 | train_loss: 0.00294, val_loss: 0.00266, lr: 1.14E-04, _patience: 10\n",
            "Epoch: 4 | train_loss: 0.00283, val_loss: 0.00257, lr: 1.14E-04, _patience: 10\n",
            "Epoch: 5 | train_loss: 0.00269, val_loss: 0.00249, lr: 1.14E-04, _patience: 10\n",
            "Epoch: 6 | train_loss: 0.00256, val_loss: 0.00241, lr: 1.14E-04, _patience: 10\n",
            "Epoch: 7 | train_loss: 0.00242, val_loss: 0.00231, lr: 1.14E-04, _patience: 10\n",
            "Epoch: 8 | train_loss: 0.00228, val_loss: 0.00221, lr: 1.14E-04, _patience: 10\n",
            "Epoch: 9 | train_loss: 0.00217, val_loss: 0.00210, lr: 1.14E-04, _patience: 10\n",
            "Epoch: 10 | train_loss: 0.00202, val_loss: 0.00200, lr: 1.14E-04, _patience: 10\n",
            "Epoch: 11 | train_loss: 0.00188, val_loss: 0.00192, lr: 1.14E-04, _patience: 10\n",
            "Epoch: 12 | train_loss: 0.00179, val_loss: 0.00186, lr: 1.14E-04, _patience: 10\n",
            "Epoch: 13 | train_loss: 0.00168, val_loss: 0.00178, lr: 1.14E-04, _patience: 10\n",
            "Epoch: 14 | train_loss: 0.00157, val_loss: 0.00173, lr: 1.14E-04, _patience: 10\n",
            "Epoch: 15 | train_loss: 0.00150, val_loss: 0.00168, lr: 1.14E-04, _patience: 10\n",
            "Epoch: 16 | train_loss: 0.00140, val_loss: 0.00163, lr: 1.14E-04, _patience: 10\n",
            "Epoch: 17 | train_loss: 0.00132, val_loss: 0.00160, lr: 1.14E-04, _patience: 10\n",
            "Epoch: 18 | train_loss: 0.00126, val_loss: 0.00157, lr: 1.14E-04, _patience: 10\n",
            "Epoch: 19 | train_loss: 0.00120, val_loss: 0.00157, lr: 1.14E-04, _patience: 9\n",
            "Epoch: 20 | train_loss: 0.00113, val_loss: 0.00155, lr: 1.14E-04, _patience: 10\n",
            "Epoch: 21 | train_loss: 0.00109, val_loss: 0.00152, lr: 1.14E-04, _patience: 10\n",
            "Epoch: 22 | train_loss: 0.00103, val_loss: 0.00151, lr: 1.14E-04, _patience: 10\n",
            "Epoch: 23 | train_loss: 0.00098, val_loss: 0.00151, lr: 1.14E-04, _patience: 9\n",
            "Epoch: 24 | train_loss: 0.00093, val_loss: 0.00149, lr: 1.14E-04, _patience: 10\n",
            "Epoch: 25 | train_loss: 0.00086, val_loss: 0.00147, lr: 1.14E-04, _patience: 10\n",
            "Epoch: 26 | train_loss: 0.00082, val_loss: 0.00147, lr: 1.14E-04, _patience: 9\n",
            "Epoch: 27 | train_loss: 0.00078, val_loss: 0.00147, lr: 1.14E-04, _patience: 8\n",
            "Epoch: 28 | train_loss: 0.00074, val_loss: 0.00144, lr: 1.14E-04, _patience: 10\n",
            "Epoch: 29 | train_loss: 0.00070, val_loss: 0.00143, lr: 1.14E-04, _patience: 10\n",
            "Epoch: 30 | train_loss: 0.00065, val_loss: 0.00144, lr: 1.14E-04, _patience: 9\n",
            "Epoch: 31 | train_loss: 0.00062, val_loss: 0.00143, lr: 1.14E-04, _patience: 8\n",
            "Epoch: 32 | train_loss: 0.00060, val_loss: 0.00143, lr: 1.14E-04, _patience: 7\n",
            "Epoch: 33 | train_loss: 0.00056, val_loss: 0.00144, lr: 1.14E-04, _patience: 6\n",
            "Epoch: 34 | train_loss: 0.00053, val_loss: 0.00145, lr: 1.14E-04, _patience: 5\n",
            "Epoch: 35 | train_loss: 0.00051, val_loss: 0.00145, lr: 1.14E-04, _patience: 4\n",
            "Epoch: 36 | train_loss: 0.00048, val_loss: 0.00146, lr: 1.14E-04, _patience: 3\n",
            "Epoch: 37 | train_loss: 0.00045, val_loss: 0.00145, lr: 1.14E-04, _patience: 2\n",
            "Epoch: 38 | train_loss: 0.00044, val_loss: 0.00146, lr: 1.14E-05, _patience: 1\n",
            "Stopping early!\n"
          ]
        },
        {
          "output_type": "stream",
          "name": "stderr",
          "text": [
            "\u001b[32m[I 2021-09-01 00:56:39,867]\u001b[0m Trial 14 finished with value: 0.6731201042356291 and parameters: {'embedding_dim': 203, 'num_filters': 202, 'hidden_dim': 409, 'dropout_p': 0.39002182475197705, 'lr': 0.00011374777947216771}. Best is trial 10 with value: 0.69159520247428.\u001b[0m\n"
          ]
        },
        {
          "output_type": "stream",
          "name": "stdout",
          "text": [
            "Epoch: 1 | train_loss: 0.00509, val_loss: 0.00277, lr: 3.85E-04, _patience: 10\n",
            "Epoch: 2 | train_loss: 0.00317, val_loss: 0.00253, lr: 3.85E-04, _patience: 10\n",
            "Epoch: 3 | train_loss: 0.00253, val_loss: 0.00211, lr: 3.85E-04, _patience: 10\n",
            "Epoch: 4 | train_loss: 0.00203, val_loss: 0.00182, lr: 3.85E-04, _patience: 10\n",
            "Epoch: 5 | train_loss: 0.00166, val_loss: 0.00172, lr: 3.85E-04, _patience: 10\n",
            "Epoch: 6 | train_loss: 0.00142, val_loss: 0.00167, lr: 3.85E-04, _patience: 10\n",
            "Epoch: 7 | train_loss: 0.00117, val_loss: 0.00162, lr: 3.85E-04, _patience: 10\n",
            "Epoch: 8 | train_loss: 0.00095, val_loss: 0.00160, lr: 3.85E-04, _patience: 10\n",
            "Epoch: 9 | train_loss: 0.00080, val_loss: 0.00154, lr: 3.85E-04, _patience: 10\n",
            "Epoch: 10 | train_loss: 0.00065, val_loss: 0.00167, lr: 3.85E-04, _patience: 9\n",
            "Epoch: 11 | train_loss: 0.00054, val_loss: 0.00174, lr: 3.85E-04, _patience: 8\n",
            "Epoch: 12 | train_loss: 0.00045, val_loss: 0.00172, lr: 3.85E-04, _patience: 7\n",
            "Epoch: 13 | train_loss: 0.00036, val_loss: 0.00166, lr: 3.85E-04, _patience: 6\n",
            "Epoch: 14 | train_loss: 0.00031, val_loss: 0.00180, lr: 3.85E-04, _patience: 5\n",
            "Epoch: 15 | train_loss: 0.00029, val_loss: 0.00171, lr: 3.85E-05, _patience: 4\n",
            "Epoch: 16 | train_loss: 0.00025, val_loss: 0.00155, lr: 3.85E-05, _patience: 3\n",
            "Epoch: 17 | train_loss: 0.00021, val_loss: 0.00154, lr: 3.85E-05, _patience: 2\n",
            "Epoch: 18 | train_loss: 0.00020, val_loss: 0.00154, lr: 3.85E-05, _patience: 1\n",
            "Stopping early!\n"
          ]
        },
        {
          "output_type": "stream",
          "name": "stderr",
          "text": [
            "\u001b[32m[I 2021-09-01 00:57:54,122]\u001b[0m Trial 15 finished with value: 0.6933703162851264 and parameters: {'embedding_dim': 332, 'num_filters': 254, 'hidden_dim': 503, 'dropout_p': 0.4103167088854799, 'lr': 0.0003851103601495104}. Best is trial 15 with value: 0.6933703162851264.\u001b[0m\n"
          ]
        },
        {
          "output_type": "stream",
          "name": "stdout",
          "text": [
            "Epoch: 1 | train_loss: 0.00491, val_loss: 0.00276, lr: 3.67E-04, _patience: 10\n",
            "Epoch: 2 | train_loss: 0.00310, val_loss: 0.00250, lr: 3.67E-04, _patience: 10\n",
            "Epoch: 3 | train_loss: 0.00248, val_loss: 0.00209, lr: 3.67E-04, _patience: 10\n",
            "Epoch: 4 | train_loss: 0.00200, val_loss: 0.00187, lr: 3.67E-04, _patience: 10\n",
            "Epoch: 5 | train_loss: 0.00163, val_loss: 0.00175, lr: 3.67E-04, _patience: 10\n",
            "Epoch: 6 | train_loss: 0.00137, val_loss: 0.00168, lr: 3.67E-04, _patience: 10\n",
            "Epoch: 7 | train_loss: 0.00114, val_loss: 0.00160, lr: 3.67E-04, _patience: 10\n",
            "Epoch: 8 | train_loss: 0.00091, val_loss: 0.00163, lr: 3.67E-04, _patience: 9\n",
            "Epoch: 9 | train_loss: 0.00078, val_loss: 0.00159, lr: 3.67E-04, _patience: 8\n",
            "Epoch: 10 | train_loss: 0.00063, val_loss: 0.00158, lr: 3.67E-04, _patience: 10\n",
            "Epoch: 11 | train_loss: 0.00052, val_loss: 0.00161, lr: 3.67E-04, _patience: 9\n",
            "Epoch: 12 | train_loss: 0.00043, val_loss: 0.00162, lr: 3.67E-04, _patience: 8\n",
            "Epoch: 13 | train_loss: 0.00038, val_loss: 0.00159, lr: 3.67E-04, _patience: 7\n",
            "Epoch: 14 | train_loss: 0.00036, val_loss: 0.00166, lr: 3.67E-04, _patience: 6\n",
            "Epoch: 15 | train_loss: 0.00030, val_loss: 0.00184, lr: 3.67E-04, _patience: 5\n",
            "Epoch: 16 | train_loss: 0.00027, val_loss: 0.00181, lr: 3.67E-05, _patience: 4\n",
            "Epoch: 17 | train_loss: 0.00025, val_loss: 0.00158, lr: 3.67E-05, _patience: 3\n",
            "Epoch: 18 | train_loss: 0.00019, val_loss: 0.00159, lr: 3.67E-05, _patience: 2\n",
            "Epoch: 19 | train_loss: 0.00017, val_loss: 0.00161, lr: 3.67E-05, _patience: 1\n",
            "Stopping early!\n"
          ]
        },
        {
          "output_type": "stream",
          "name": "stderr",
          "text": [
            "\u001b[32m[I 2021-09-01 00:59:17,582]\u001b[0m Trial 16 finished with value: 0.6808384499248017 and parameters: {'embedding_dim': 362, 'num_filters': 256, 'hidden_dim': 436, 'dropout_p': 0.3970811140117548, 'lr': 0.0003667502300903365}. Best is trial 15 with value: 0.6933703162851264.\u001b[0m\n"
          ]
        },
        {
          "output_type": "stream",
          "name": "stdout",
          "text": [
            "Epoch: 1 | train_loss: 0.00476, val_loss: 0.00293, lr: 2.44E-04, _patience: 10\n",
            "Epoch: 2 | train_loss: 0.00312, val_loss: 0.00244, lr: 2.44E-04, _patience: 10\n",
            "Epoch: 3 | train_loss: 0.00260, val_loss: 0.00218, lr: 2.44E-04, _patience: 10\n",
            "Epoch: 4 | train_loss: 0.00217, val_loss: 0.00195, lr: 2.44E-04, _patience: 10\n",
            "Epoch: 5 | train_loss: 0.00184, val_loss: 0.00181, lr: 2.44E-04, _patience: 10\n",
            "Epoch: 6 | train_loss: 0.00157, val_loss: 0.00172, lr: 2.44E-04, _patience: 10\n",
            "Epoch: 7 | train_loss: 0.00136, val_loss: 0.00166, lr: 2.44E-04, _patience: 10\n",
            "Epoch: 8 | train_loss: 0.00120, val_loss: 0.00161, lr: 2.44E-04, _patience: 10\n",
            "Epoch: 9 | train_loss: 0.00100, val_loss: 0.00159, lr: 2.44E-04, _patience: 10\n",
            "Epoch: 10 | train_loss: 0.00088, val_loss: 0.00162, lr: 2.44E-04, _patience: 9\n",
            "Epoch: 11 | train_loss: 0.00076, val_loss: 0.00157, lr: 2.44E-04, _patience: 10\n",
            "Epoch: 12 | train_loss: 0.00068, val_loss: 0.00160, lr: 2.44E-04, _patience: 9\n",
            "Epoch: 13 | train_loss: 0.00055, val_loss: 0.00163, lr: 2.44E-04, _patience: 8\n",
            "Epoch: 14 | train_loss: 0.00049, val_loss: 0.00159, lr: 2.44E-04, _patience: 7\n",
            "Epoch: 15 | train_loss: 0.00045, val_loss: 0.00159, lr: 2.44E-04, _patience: 6\n",
            "Epoch: 16 | train_loss: 0.00039, val_loss: 0.00158, lr: 2.44E-04, _patience: 5\n",
            "Epoch: 17 | train_loss: 0.00035, val_loss: 0.00166, lr: 2.44E-05, _patience: 4\n",
            "Epoch: 18 | train_loss: 0.00033, val_loss: 0.00150, lr: 2.44E-05, _patience: 10\n",
            "Epoch: 19 | train_loss: 0.00028, val_loss: 0.00152, lr: 2.44E-05, _patience: 9\n",
            "Epoch: 20 | train_loss: 0.00026, val_loss: 0.00153, lr: 2.44E-05, _patience: 8\n",
            "Epoch: 21 | train_loss: 0.00026, val_loss: 0.00152, lr: 2.44E-05, _patience: 7\n",
            "Epoch: 22 | train_loss: 0.00025, val_loss: 0.00152, lr: 2.44E-05, _patience: 6\n",
            "Epoch: 23 | train_loss: 0.00025, val_loss: 0.00151, lr: 2.44E-05, _patience: 5\n",
            "Epoch: 24 | train_loss: 0.00024, val_loss: 0.00152, lr: 2.44E-06, _patience: 4\n",
            "Epoch: 25 | train_loss: 0.00023, val_loss: 0.00153, lr: 2.44E-06, _patience: 3\n",
            "Epoch: 26 | train_loss: 0.00024, val_loss: 0.00153, lr: 2.44E-06, _patience: 2\n",
            "Epoch: 27 | train_loss: 0.00024, val_loss: 0.00153, lr: 2.44E-06, _patience: 1\n",
            "Stopping early!\n"
          ]
        },
        {
          "output_type": "stream",
          "name": "stderr",
          "text": [
            "\u001b[32m[I 2021-09-01 01:02:37,172]\u001b[0m Trial 17 finished with value: 0.6751559114019947 and parameters: {'embedding_dim': 467, 'num_filters': 281, 'hidden_dim': 398, 'dropout_p': 0.4457236869423795, 'lr': 0.00024358691718046686}. Best is trial 15 with value: 0.6933703162851264.\u001b[0m\n"
          ]
        },
        {
          "output_type": "stream",
          "name": "stdout",
          "text": [
            "Epoch: 1 | train_loss: 0.00486, val_loss: 0.00301, lr: 3.84E-04, _patience: 10\n",
            "Epoch: 2 | train_loss: 0.00326, val_loss: 0.00266, lr: 3.84E-04, _patience: 10\n",
            "Epoch: 3 | train_loss: 0.00272, val_loss: 0.00234, lr: 3.84E-04, _patience: 10\n",
            "Epoch: 4 | train_loss: 0.00228, val_loss: 0.00205, lr: 3.84E-04, _patience: 10\n",
            "Epoch: 5 | train_loss: 0.00192, val_loss: 0.00186, lr: 3.84E-04, _patience: 10\n",
            "Epoch: 6 | train_loss: 0.00166, val_loss: 0.00176, lr: 3.84E-04, _patience: 10\n",
            "Epoch: 7 | train_loss: 0.00143, val_loss: 0.00171, lr: 3.84E-04, _patience: 10\n",
            "Epoch: 8 | train_loss: 0.00125, val_loss: 0.00164, lr: 3.84E-04, _patience: 10\n",
            "Epoch: 9 | train_loss: 0.00106, val_loss: 0.00160, lr: 3.84E-04, _patience: 10\n",
            "Epoch: 10 | train_loss: 0.00089, val_loss: 0.00163, lr: 3.84E-04, _patience: 9\n",
            "Epoch: 11 | train_loss: 0.00077, val_loss: 0.00165, lr: 3.84E-04, _patience: 8\n",
            "Epoch: 12 | train_loss: 0.00067, val_loss: 0.00168, lr: 3.84E-04, _patience: 7\n",
            "Epoch: 13 | train_loss: 0.00059, val_loss: 0.00174, lr: 3.84E-04, _patience: 6\n",
            "Epoch: 14 | train_loss: 0.00052, val_loss: 0.00172, lr: 3.84E-04, _patience: 5\n",
            "Epoch: 15 | train_loss: 0.00047, val_loss: 0.00170, lr: 3.84E-05, _patience: 4\n",
            "Epoch: 16 | train_loss: 0.00038, val_loss: 0.00149, lr: 3.84E-05, _patience: 10\n",
            "Epoch: 17 | train_loss: 0.00033, val_loss: 0.00146, lr: 3.84E-05, _patience: 10\n",
            "Epoch: 18 | train_loss: 0.00032, val_loss: 0.00148, lr: 3.84E-05, _patience: 9\n",
            "Epoch: 19 | train_loss: 0.00030, val_loss: 0.00149, lr: 3.84E-05, _patience: 8\n",
            "Epoch: 20 | train_loss: 0.00030, val_loss: 0.00150, lr: 3.84E-05, _patience: 7\n",
            "Epoch: 21 | train_loss: 0.00029, val_loss: 0.00150, lr: 3.84E-05, _patience: 6\n",
            "Epoch: 22 | train_loss: 0.00028, val_loss: 0.00150, lr: 3.84E-05, _patience: 5\n",
            "Epoch: 23 | train_loss: 0.00027, val_loss: 0.00150, lr: 3.84E-06, _patience: 4\n",
            "Epoch: 24 | train_loss: 0.00027, val_loss: 0.00150, lr: 3.84E-06, _patience: 3\n",
            "Epoch: 25 | train_loss: 0.00027, val_loss: 0.00150, lr: 3.84E-06, _patience: 2\n",
            "Epoch: 26 | train_loss: 0.00027, val_loss: 0.00150, lr: 3.84E-06, _patience: 1\n",
            "Stopping early!\n"
          ]
        },
        {
          "output_type": "stream",
          "name": "stderr",
          "text": [
            "\u001b[32m[I 2021-09-01 01:03:50,330]\u001b[0m Trial 18 finished with value: 0.6688896383738637 and parameters: {'embedding_dim': 194, 'num_filters': 231, 'hidden_dim': 508, 'dropout_p': 0.38684640829636113, 'lr': 0.00038392553870975006}. Best is trial 15 with value: 0.6933703162851264.\u001b[0m\n"
          ]
        },
        {
          "output_type": "stream",
          "name": "stdout",
          "text": [
            "Epoch: 1 | train_loss: 0.00458, val_loss: 0.00323, lr: 1.14E-04, _patience: 10\n",
            "Epoch: 2 | train_loss: 0.00333, val_loss: 0.00272, lr: 1.14E-04, _patience: 10\n",
            "Epoch: 3 | train_loss: 0.00298, val_loss: 0.00261, lr: 1.14E-04, _patience: 10\n",
            "Epoch: 4 | train_loss: 0.00284, val_loss: 0.00254, lr: 1.14E-04, _patience: 10\n",
            "Epoch: 5 | train_loss: 0.00267, val_loss: 0.00244, lr: 1.14E-04, _patience: 10\n",
            "Epoch: 6 | train_loss: 0.00251, val_loss: 0.00233, lr: 1.14E-04, _patience: 10\n",
            "Epoch: 7 | train_loss: 0.00238, val_loss: 0.00223, lr: 1.14E-04, _patience: 10\n",
            "Epoch: 8 | train_loss: 0.00220, val_loss: 0.00212, lr: 1.14E-04, _patience: 10\n",
            "Epoch: 9 | train_loss: 0.00207, val_loss: 0.00202, lr: 1.14E-04, _patience: 10\n",
            "Epoch: 10 | train_loss: 0.00195, val_loss: 0.00194, lr: 1.14E-04, _patience: 10\n",
            "Epoch: 11 | train_loss: 0.00181, val_loss: 0.00185, lr: 1.14E-04, _patience: 10\n",
            "Epoch: 12 | train_loss: 0.00170, val_loss: 0.00181, lr: 1.14E-04, _patience: 10\n",
            "Epoch: 13 | train_loss: 0.00162, val_loss: 0.00174, lr: 1.14E-04, _patience: 10\n",
            "Epoch: 14 | train_loss: 0.00151, val_loss: 0.00170, lr: 1.14E-04, _patience: 10\n",
            "Epoch: 15 | train_loss: 0.00143, val_loss: 0.00166, lr: 1.14E-04, _patience: 10\n",
            "Epoch: 16 | train_loss: 0.00134, val_loss: 0.00161, lr: 1.14E-04, _patience: 10\n",
            "Epoch: 17 | train_loss: 0.00124, val_loss: 0.00160, lr: 1.14E-04, _patience: 9\n",
            "Epoch: 18 | train_loss: 0.00119, val_loss: 0.00158, lr: 1.14E-04, _patience: 10\n",
            "Epoch: 19 | train_loss: 0.00113, val_loss: 0.00156, lr: 1.14E-04, _patience: 10\n",
            "Epoch: 20 | train_loss: 0.00106, val_loss: 0.00155, lr: 1.14E-04, _patience: 9\n",
            "Epoch: 21 | train_loss: 0.00101, val_loss: 0.00153, lr: 1.14E-04, _patience: 10\n",
            "Epoch: 22 | train_loss: 0.00095, val_loss: 0.00152, lr: 1.14E-04, _patience: 9\n",
            "Epoch: 23 | train_loss: 0.00088, val_loss: 0.00152, lr: 1.14E-04, _patience: 10\n",
            "Epoch: 24 | train_loss: 0.00085, val_loss: 0.00151, lr: 1.14E-04, _patience: 9\n",
            "Epoch: 25 | train_loss: 0.00081, val_loss: 0.00152, lr: 1.14E-04, _patience: 8\n",
            "Epoch: 26 | train_loss: 0.00076, val_loss: 0.00147, lr: 1.14E-04, _patience: 10\n",
            "Epoch: 27 | train_loss: 0.00071, val_loss: 0.00148, lr: 1.14E-04, _patience: 9\n",
            "Epoch: 28 | train_loss: 0.00067, val_loss: 0.00150, lr: 1.14E-04, _patience: 8\n",
            "Epoch: 29 | train_loss: 0.00064, val_loss: 0.00148, lr: 1.14E-04, _patience: 7\n",
            "Epoch: 30 | train_loss: 0.00060, val_loss: 0.00146, lr: 1.14E-04, _patience: 10\n",
            "Epoch: 31 | train_loss: 0.00058, val_loss: 0.00149, lr: 1.14E-04, _patience: 9\n",
            "Epoch: 32 | train_loss: 0.00054, val_loss: 0.00152, lr: 1.14E-04, _patience: 8\n",
            "Epoch: 33 | train_loss: 0.00050, val_loss: 0.00150, lr: 1.14E-04, _patience: 7\n",
            "Epoch: 34 | train_loss: 0.00049, val_loss: 0.00153, lr: 1.14E-04, _patience: 6\n",
            "Epoch: 35 | train_loss: 0.00046, val_loss: 0.00154, lr: 1.14E-04, _patience: 5\n",
            "Epoch: 36 | train_loss: 0.00044, val_loss: 0.00150, lr: 1.14E-05, _patience: 4\n",
            "Epoch: 37 | train_loss: 0.00042, val_loss: 0.00149, lr: 1.14E-05, _patience: 3\n",
            "Epoch: 38 | train_loss: 0.00041, val_loss: 0.00150, lr: 1.14E-05, _patience: 2\n",
            "Epoch: 39 | train_loss: 0.00039, val_loss: 0.00149, lr: 1.14E-05, _patience: 1\n",
            "Stopping early!\n"
          ]
        },
        {
          "output_type": "stream",
          "name": "stderr",
          "text": [
            "\u001b[32m[I 2021-09-01 01:05:58,481]\u001b[0m Trial 19 finished with value: 0.6657702866375599 and parameters: {'embedding_dim': 289, 'num_filters': 173, 'hidden_dim': 379, 'dropout_p': 0.4442626997824956, 'lr': 0.00011449604052834157}. Best is trial 15 with value: 0.6933703162851264.\u001b[0m\n"
          ]
        },
        {
          "output_type": "stream",
          "name": "stdout",
          "text": [
            "Epoch: 1 | train_loss: 0.00485, val_loss: 0.00310, lr: 2.33E-04, _patience: 10\n",
            "Epoch: 2 | train_loss: 0.00313, val_loss: 0.00252, lr: 2.33E-04, _patience: 10\n",
            "Epoch: 3 | train_loss: 0.00259, val_loss: 0.00231, lr: 2.33E-04, _patience: 10\n",
            "Epoch: 4 | train_loss: 0.00221, val_loss: 0.00206, lr: 2.33E-04, _patience: 10\n",
            "Epoch: 5 | train_loss: 0.00188, val_loss: 0.00189, lr: 2.33E-04, _patience: 10\n",
            "Epoch: 6 | train_loss: 0.00168, val_loss: 0.00178, lr: 2.33E-04, _patience: 10\n",
            "Epoch: 7 | train_loss: 0.00143, val_loss: 0.00170, lr: 2.33E-04, _patience: 10\n",
            "Epoch: 8 | train_loss: 0.00124, val_loss: 0.00165, lr: 2.33E-04, _patience: 10\n",
            "Epoch: 9 | train_loss: 0.00110, val_loss: 0.00161, lr: 2.33E-04, _patience: 10\n",
            "Epoch: 10 | train_loss: 0.00097, val_loss: 0.00158, lr: 2.33E-04, _patience: 10\n",
            "Epoch: 11 | train_loss: 0.00085, val_loss: 0.00157, lr: 2.33E-04, _patience: 9\n",
            "Epoch: 12 | train_loss: 0.00075, val_loss: 0.00157, lr: 2.33E-04, _patience: 10\n",
            "Epoch: 13 | train_loss: 0.00066, val_loss: 0.00155, lr: 2.33E-04, _patience: 10\n",
            "Epoch: 14 | train_loss: 0.00057, val_loss: 0.00159, lr: 2.33E-04, _patience: 9\n",
            "Epoch: 15 | train_loss: 0.00051, val_loss: 0.00155, lr: 2.33E-04, _patience: 8\n",
            "Epoch: 16 | train_loss: 0.00045, val_loss: 0.00158, lr: 2.33E-04, _patience: 7\n",
            "Epoch: 17 | train_loss: 0.00041, val_loss: 0.00154, lr: 2.33E-04, _patience: 10\n",
            "Epoch: 18 | train_loss: 0.00036, val_loss: 0.00160, lr: 2.33E-04, _patience: 9\n",
            "Epoch: 19 | train_loss: 0.00034, val_loss: 0.00160, lr: 2.33E-04, _patience: 8\n",
            "Epoch: 20 | train_loss: 0.00031, val_loss: 0.00170, lr: 2.33E-04, _patience: 7\n",
            "Epoch: 21 | train_loss: 0.00028, val_loss: 0.00175, lr: 2.33E-04, _patience: 6\n",
            "Epoch: 22 | train_loss: 0.00025, val_loss: 0.00174, lr: 2.33E-04, _patience: 5\n",
            "Epoch: 23 | train_loss: 0.00023, val_loss: 0.00182, lr: 2.33E-05, _patience: 4\n",
            "Epoch: 24 | train_loss: 0.00021, val_loss: 0.00167, lr: 2.33E-05, _patience: 3\n",
            "Epoch: 25 | train_loss: 0.00016, val_loss: 0.00163, lr: 2.33E-05, _patience: 2\n",
            "Epoch: 26 | train_loss: 0.00016, val_loss: 0.00165, lr: 2.33E-05, _patience: 1\n",
            "Stopping early!\n"
          ]
        },
        {
          "output_type": "stream",
          "name": "stderr",
          "text": [
            "\u001b[32m[I 2021-09-01 01:08:23,595]\u001b[0m Trial 20 finished with value: 0.6692513301500077 and parameters: {'embedding_dim': 335, 'num_filters': 287, 'hidden_dim': 469, 'dropout_p': 0.3525364543425798, 'lr': 0.0002325046714859514}. Best is trial 15 with value: 0.6933703162851264.\u001b[0m\n"
          ]
        },
        {
          "output_type": "stream",
          "name": "stdout",
          "text": [
            "Epoch: 1 | train_loss: 0.00450, val_loss: 0.00273, lr: 4.32E-04, _patience: 10\n",
            "Epoch: 2 | train_loss: 0.00296, val_loss: 0.00260, lr: 4.32E-04, _patience: 10\n",
            "Epoch: 3 | train_loss: 0.00252, val_loss: 0.00217, lr: 4.32E-04, _patience: 10\n",
            "Epoch: 4 | train_loss: 0.00202, val_loss: 0.00185, lr: 4.32E-04, _patience: 10\n",
            "Epoch: 5 | train_loss: 0.00163, val_loss: 0.00174, lr: 4.32E-04, _patience: 10\n",
            "Epoch: 6 | train_loss: 0.00138, val_loss: 0.00164, lr: 4.32E-04, _patience: 10\n",
            "Epoch: 7 | train_loss: 0.00117, val_loss: 0.00158, lr: 4.32E-04, _patience: 10\n",
            "Epoch: 8 | train_loss: 0.00096, val_loss: 0.00158, lr: 4.32E-04, _patience: 9\n",
            "Epoch: 9 | train_loss: 0.00079, val_loss: 0.00158, lr: 4.32E-04, _patience: 8\n",
            "Epoch: 10 | train_loss: 0.00065, val_loss: 0.00157, lr: 4.32E-04, _patience: 10\n",
            "Epoch: 11 | train_loss: 0.00055, val_loss: 0.00164, lr: 4.32E-04, _patience: 9\n",
            "Epoch: 12 | train_loss: 0.00045, val_loss: 0.00155, lr: 4.32E-04, _patience: 10\n",
            "Epoch: 13 | train_loss: 0.00040, val_loss: 0.00158, lr: 4.32E-04, _patience: 9\n",
            "Epoch: 14 | train_loss: 0.00032, val_loss: 0.00165, lr: 4.32E-04, _patience: 8\n",
            "Epoch: 15 | train_loss: 0.00028, val_loss: 0.00176, lr: 4.32E-04, _patience: 7\n",
            "Epoch: 16 | train_loss: 0.00024, val_loss: 0.00183, lr: 4.32E-04, _patience: 6\n",
            "Epoch: 17 | train_loss: 0.00021, val_loss: 0.00182, lr: 4.32E-04, _patience: 5\n",
            "Epoch: 18 | train_loss: 0.00017, val_loss: 0.00177, lr: 4.32E-05, _patience: 4\n",
            "Epoch: 19 | train_loss: 0.00015, val_loss: 0.00162, lr: 4.32E-05, _patience: 3\n",
            "Epoch: 20 | train_loss: 0.00013, val_loss: 0.00160, lr: 4.32E-05, _patience: 2\n",
            "Epoch: 21 | train_loss: 0.00012, val_loss: 0.00164, lr: 4.32E-05, _patience: 1\n",
            "Stopping early!\n"
          ]
        },
        {
          "output_type": "stream",
          "name": "stderr",
          "text": [
            "\u001b[32m[I 2021-09-01 01:09:31,625]\u001b[0m Trial 21 finished with value: 0.6762985569259444 and parameters: {'embedding_dim': 312, 'num_filters': 152, 'hidden_dim': 510, 'dropout_p': 0.3056620457721635, 'lr': 0.0004318495101426328}. Best is trial 15 with value: 0.6933703162851264.\u001b[0m\n"
          ]
        },
        {
          "output_type": "stream",
          "name": "stdout",
          "text": [
            "Epoch: 1 | train_loss: 0.00487, val_loss: 0.00294, lr: 4.77E-04, _patience: 10\n",
            "Epoch: 2 | train_loss: 0.00320, val_loss: 0.00262, lr: 4.77E-04, _patience: 10\n",
            "Epoch: 3 | train_loss: 0.00262, val_loss: 0.00223, lr: 4.77E-04, _patience: 10\n",
            "Epoch: 4 | train_loss: 0.00213, val_loss: 0.00195, lr: 4.77E-04, _patience: 10\n",
            "Epoch: 5 | train_loss: 0.00176, val_loss: 0.00175, lr: 4.77E-04, _patience: 10\n",
            "Epoch: 6 | train_loss: 0.00146, val_loss: 0.00167, lr: 4.77E-04, _patience: 10\n",
            "Epoch: 7 | train_loss: 0.00123, val_loss: 0.00158, lr: 4.77E-04, _patience: 10\n",
            "Epoch: 8 | train_loss: 0.00099, val_loss: 0.00154, lr: 4.77E-04, _patience: 10\n",
            "Epoch: 9 | train_loss: 0.00082, val_loss: 0.00154, lr: 4.77E-04, _patience: 9\n",
            "Epoch: 10 | train_loss: 0.00068, val_loss: 0.00154, lr: 4.77E-04, _patience: 8\n",
            "Epoch: 11 | train_loss: 0.00057, val_loss: 0.00159, lr: 4.77E-04, _patience: 7\n",
            "Epoch: 12 | train_loss: 0.00050, val_loss: 0.00153, lr: 4.77E-04, _patience: 10\n",
            "Epoch: 13 | train_loss: 0.00041, val_loss: 0.00167, lr: 4.77E-04, _patience: 9\n",
            "Epoch: 14 | train_loss: 0.00038, val_loss: 0.00166, lr: 4.77E-04, _patience: 8\n",
            "Epoch: 15 | train_loss: 0.00032, val_loss: 0.00167, lr: 4.77E-04, _patience: 7\n",
            "Epoch: 16 | train_loss: 0.00027, val_loss: 0.00177, lr: 4.77E-04, _patience: 6\n",
            "Epoch: 17 | train_loss: 0.00025, val_loss: 0.00179, lr: 4.77E-04, _patience: 5\n",
            "Epoch: 18 | train_loss: 0.00023, val_loss: 0.00174, lr: 4.77E-05, _patience: 4\n",
            "Epoch: 19 | train_loss: 0.00018, val_loss: 0.00169, lr: 4.77E-05, _patience: 3\n",
            "Epoch: 20 | train_loss: 0.00014, val_loss: 0.00169, lr: 4.77E-05, _patience: 2\n",
            "Epoch: 21 | train_loss: 0.00014, val_loss: 0.00167, lr: 4.77E-05, _patience: 1\n",
            "Stopping early!\n"
          ]
        },
        {
          "output_type": "stream",
          "name": "stderr",
          "text": [
            "\u001b[32m[I 2021-09-01 01:10:32,366]\u001b[0m Trial 22 finished with value: 0.674563555453645 and parameters: {'embedding_dim': 215, 'num_filters': 213, 'hidden_dim': 483, 'dropout_p': 0.3519825343440477, 'lr': 0.0004768635401447958}. Best is trial 15 with value: 0.6933703162851264.\u001b[0m\n"
          ]
        },
        {
          "output_type": "stream",
          "name": "stdout",
          "text": [
            "Epoch: 1 | train_loss: 0.00444, val_loss: 0.00291, lr: 2.96E-04, _patience: 10\n",
            "Epoch: 2 | train_loss: 0.00315, val_loss: 0.00259, lr: 2.96E-04, _patience: 10\n",
            "Epoch: 3 | train_loss: 0.00275, val_loss: 0.00236, lr: 2.96E-04, _patience: 10\n",
            "Epoch: 4 | train_loss: 0.00235, val_loss: 0.00212, lr: 2.96E-04, _patience: 10\n",
            "Epoch: 5 | train_loss: 0.00205, val_loss: 0.00189, lr: 2.96E-04, _patience: 10\n",
            "Epoch: 6 | train_loss: 0.00179, val_loss: 0.00176, lr: 2.96E-04, _patience: 10\n",
            "Epoch: 7 | train_loss: 0.00157, val_loss: 0.00168, lr: 2.96E-04, _patience: 10\n",
            "Epoch: 8 | train_loss: 0.00138, val_loss: 0.00163, lr: 2.96E-04, _patience: 10\n",
            "Epoch: 9 | train_loss: 0.00124, val_loss: 0.00158, lr: 2.96E-04, _patience: 10\n",
            "Epoch: 10 | train_loss: 0.00107, val_loss: 0.00153, lr: 2.96E-04, _patience: 10\n",
            "Epoch: 11 | train_loss: 0.00094, val_loss: 0.00153, lr: 2.96E-04, _patience: 9\n",
            "Epoch: 12 | train_loss: 0.00085, val_loss: 0.00152, lr: 2.96E-04, _patience: 10\n",
            "Epoch: 13 | train_loss: 0.00074, val_loss: 0.00150, lr: 2.96E-04, _patience: 10\n",
            "Epoch: 14 | train_loss: 0.00064, val_loss: 0.00153, lr: 2.96E-04, _patience: 9\n",
            "Epoch: 15 | train_loss: 0.00057, val_loss: 0.00152, lr: 2.96E-04, _patience: 8\n",
            "Epoch: 16 | train_loss: 0.00050, val_loss: 0.00162, lr: 2.96E-04, _patience: 7\n",
            "Epoch: 17 | train_loss: 0.00045, val_loss: 0.00161, lr: 2.96E-04, _patience: 6\n",
            "Epoch: 18 | train_loss: 0.00039, val_loss: 0.00168, lr: 2.96E-04, _patience: 5\n",
            "Epoch: 19 | train_loss: 0.00035, val_loss: 0.00171, lr: 2.96E-05, _patience: 4\n",
            "Epoch: 20 | train_loss: 0.00034, val_loss: 0.00151, lr: 2.96E-05, _patience: 3\n",
            "Epoch: 21 | train_loss: 0.00030, val_loss: 0.00153, lr: 2.96E-05, _patience: 2\n",
            "Epoch: 22 | train_loss: 0.00028, val_loss: 0.00154, lr: 2.96E-05, _patience: 1\n",
            "Stopping early!\n"
          ]
        },
        {
          "output_type": "stream",
          "name": "stderr",
          "text": [
            "\u001b[32m[I 2021-09-01 01:11:41,131]\u001b[0m Trial 23 finished with value: 0.6699461527971675 and parameters: {'embedding_dim': 291, 'num_filters': 154, 'hidden_dim': 446, 'dropout_p': 0.4224352559855839, 'lr': 0.0002957238637347877}. Best is trial 15 with value: 0.6933703162851264.\u001b[0m\n"
          ]
        },
        {
          "output_type": "stream",
          "name": "stdout",
          "text": [
            "Epoch: 1 | train_loss: 0.00504, val_loss: 0.00287, lr: 4.03E-04, _patience: 10\n",
            "Epoch: 2 | train_loss: 0.00305, val_loss: 0.00248, lr: 4.03E-04, _patience: 10\n",
            "Epoch: 3 | train_loss: 0.00240, val_loss: 0.00207, lr: 4.03E-04, _patience: 10\n",
            "Epoch: 4 | train_loss: 0.00186, val_loss: 0.00180, lr: 4.03E-04, _patience: 10\n",
            "Epoch: 5 | train_loss: 0.00150, val_loss: 0.00168, lr: 4.03E-04, _patience: 10\n",
            "Epoch: 6 | train_loss: 0.00124, val_loss: 0.00164, lr: 4.03E-04, _patience: 10\n",
            "Epoch: 7 | train_loss: 0.00101, val_loss: 0.00157, lr: 4.03E-04, _patience: 10\n",
            "Epoch: 8 | train_loss: 0.00079, val_loss: 0.00157, lr: 4.03E-04, _patience: 9\n",
            "Epoch: 9 | train_loss: 0.00065, val_loss: 0.00161, lr: 4.03E-04, _patience: 8\n",
            "Epoch: 10 | train_loss: 0.00052, val_loss: 0.00158, lr: 4.03E-04, _patience: 7\n",
            "Epoch: 11 | train_loss: 0.00043, val_loss: 0.00169, lr: 4.03E-04, _patience: 6\n",
            "Epoch: 12 | train_loss: 0.00039, val_loss: 0.00177, lr: 4.03E-04, _patience: 5\n",
            "Epoch: 13 | train_loss: 0.00034, val_loss: 0.00172, lr: 4.03E-04, _patience: 4\n",
            "Epoch: 14 | train_loss: 0.00028, val_loss: 0.00173, lr: 4.03E-05, _patience: 3\n",
            "Epoch: 15 | train_loss: 0.00025, val_loss: 0.00163, lr: 4.03E-05, _patience: 2\n",
            "Epoch: 16 | train_loss: 0.00018, val_loss: 0.00166, lr: 4.03E-05, _patience: 1\n",
            "Stopping early!\n"
          ]
        },
        {
          "output_type": "stream",
          "name": "stderr",
          "text": [
            "\u001b[32m[I 2021-09-01 01:12:54,914]\u001b[0m Trial 24 finished with value: 0.6725093711360168 and parameters: {'embedding_dim': 372, 'num_filters': 254, 'hidden_dim': 509, 'dropout_p': 0.30631784700886705, 'lr': 0.00040331589454025443}. Best is trial 15 with value: 0.6933703162851264.\u001b[0m\n"
          ]
        },
        {
          "output_type": "stream",
          "name": "stdout",
          "text": [
            "Epoch: 1 | train_loss: 0.00440, val_loss: 0.00277, lr: 3.27E-04, _patience: 10\n",
            "Epoch: 2 | train_loss: 0.00297, val_loss: 0.00255, lr: 3.27E-04, _patience: 10\n",
            "Epoch: 3 | train_loss: 0.00254, val_loss: 0.00217, lr: 3.27E-04, _patience: 10\n",
            "Epoch: 4 | train_loss: 0.00207, val_loss: 0.00190, lr: 3.27E-04, _patience: 10\n",
            "Epoch: 5 | train_loss: 0.00173, val_loss: 0.00172, lr: 3.27E-04, _patience: 10\n",
            "Epoch: 6 | train_loss: 0.00147, val_loss: 0.00165, lr: 3.27E-04, _patience: 10\n",
            "Epoch: 7 | train_loss: 0.00127, val_loss: 0.00160, lr: 3.27E-04, _patience: 10\n",
            "Epoch: 8 | train_loss: 0.00107, val_loss: 0.00155, lr: 3.27E-04, _patience: 10\n",
            "Epoch: 9 | train_loss: 0.00092, val_loss: 0.00150, lr: 3.27E-04, _patience: 10\n",
            "Epoch: 10 | train_loss: 0.00077, val_loss: 0.00153, lr: 3.27E-04, _patience: 9\n",
            "Epoch: 11 | train_loss: 0.00067, val_loss: 0.00151, lr: 3.27E-04, _patience: 8\n",
            "Epoch: 12 | train_loss: 0.00059, val_loss: 0.00153, lr: 3.27E-04, _patience: 7\n",
            "Epoch: 13 | train_loss: 0.00053, val_loss: 0.00155, lr: 3.27E-04, _patience: 6\n",
            "Epoch: 14 | train_loss: 0.00046, val_loss: 0.00159, lr: 3.27E-04, _patience: 5\n",
            "Epoch: 15 | train_loss: 0.00039, val_loss: 0.00161, lr: 3.27E-05, _patience: 4\n",
            "Epoch: 16 | train_loss: 0.00032, val_loss: 0.00154, lr: 3.27E-05, _patience: 3\n",
            "Epoch: 17 | train_loss: 0.00027, val_loss: 0.00154, lr: 3.27E-05, _patience: 2\n",
            "Epoch: 18 | train_loss: 0.00026, val_loss: 0.00153, lr: 3.27E-05, _patience: 1\n",
            "Stopping early!\n"
          ]
        },
        {
          "output_type": "stream",
          "name": "stderr",
          "text": [
            "\u001b[32m[I 2021-09-01 01:14:03,909]\u001b[0m Trial 25 finished with value: 0.6518175662455186 and parameters: {'embedding_dim': 327, 'num_filters': 187, 'hidden_dim': 485, 'dropout_p': 0.3534719253205253, 'lr': 0.0003266413226306839}. Best is trial 15 with value: 0.6933703162851264.\u001b[0m\n"
          ]
        },
        {
          "output_type": "stream",
          "name": "stdout",
          "text": [
            "Epoch: 1 | train_loss: 0.00514, val_loss: 0.00282, lr: 6.40E-05, _patience: 10\n",
            "Epoch: 2 | train_loss: 0.00311, val_loss: 0.00289, lr: 6.40E-05, _patience: 9\n",
            "Epoch: 3 | train_loss: 0.00296, val_loss: 0.00271, lr: 6.40E-05, _patience: 10\n",
            "Epoch: 4 | train_loss: 0.00282, val_loss: 0.00266, lr: 6.40E-05, _patience: 10\n",
            "Epoch: 5 | train_loss: 0.00278, val_loss: 0.00262, lr: 6.40E-05, _patience: 10\n",
            "Epoch: 6 | train_loss: 0.00270, val_loss: 0.00257, lr: 6.40E-05, _patience: 10\n",
            "Epoch: 7 | train_loss: 0.00262, val_loss: 0.00253, lr: 6.40E-05, _patience: 10\n",
            "Epoch: 8 | train_loss: 0.00255, val_loss: 0.00247, lr: 6.40E-05, _patience: 10\n",
            "Epoch: 9 | train_loss: 0.00248, val_loss: 0.00242, lr: 6.40E-05, _patience: 10\n",
            "Epoch: 10 | train_loss: 0.00238, val_loss: 0.00236, lr: 6.40E-05, _patience: 10\n",
            "Epoch: 11 | train_loss: 0.00232, val_loss: 0.00230, lr: 6.40E-05, _patience: 10\n",
            "Epoch: 12 | train_loss: 0.00222, val_loss: 0.00224, lr: 6.40E-05, _patience: 10\n",
            "Epoch: 13 | train_loss: 0.00213, val_loss: 0.00218, lr: 6.40E-05, _patience: 10\n",
            "Epoch: 14 | train_loss: 0.00204, val_loss: 0.00211, lr: 6.40E-05, _patience: 10\n",
            "Epoch: 15 | train_loss: 0.00197, val_loss: 0.00205, lr: 6.40E-05, _patience: 10\n",
            "Epoch: 16 | train_loss: 0.00188, val_loss: 0.00199, lr: 6.40E-05, _patience: 10\n",
            "Epoch: 17 | train_loss: 0.00179, val_loss: 0.00193, lr: 6.40E-05, _patience: 10\n",
            "Epoch: 18 | train_loss: 0.00172, val_loss: 0.00188, lr: 6.40E-05, _patience: 10\n",
            "Epoch: 19 | train_loss: 0.00166, val_loss: 0.00183, lr: 6.40E-05, _patience: 10\n",
            "Epoch: 20 | train_loss: 0.00159, val_loss: 0.00179, lr: 6.40E-05, _patience: 10\n",
            "Epoch: 21 | train_loss: 0.00153, val_loss: 0.00175, lr: 6.40E-05, _patience: 10\n",
            "Epoch: 22 | train_loss: 0.00145, val_loss: 0.00172, lr: 6.40E-05, _patience: 10\n",
            "Epoch: 23 | train_loss: 0.00142, val_loss: 0.00169, lr: 6.40E-05, _patience: 10\n",
            "Epoch: 24 | train_loss: 0.00136, val_loss: 0.00167, lr: 6.40E-05, _patience: 10\n",
            "Epoch: 25 | train_loss: 0.00131, val_loss: 0.00163, lr: 6.40E-05, _patience: 10\n",
            "Epoch: 26 | train_loss: 0.00126, val_loss: 0.00162, lr: 6.40E-05, _patience: 10\n",
            "Epoch: 27 | train_loss: 0.00122, val_loss: 0.00159, lr: 6.40E-05, _patience: 10\n",
            "Epoch: 28 | train_loss: 0.00117, val_loss: 0.00158, lr: 6.40E-05, _patience: 10\n",
            "Epoch: 29 | train_loss: 0.00113, val_loss: 0.00156, lr: 6.40E-05, _patience: 10\n",
            "Epoch: 30 | train_loss: 0.00108, val_loss: 0.00156, lr: 6.40E-05, _patience: 9\n",
            "Epoch: 31 | train_loss: 0.00106, val_loss: 0.00154, lr: 6.40E-05, _patience: 10\n",
            "Epoch: 32 | train_loss: 0.00103, val_loss: 0.00153, lr: 6.40E-05, _patience: 9\n",
            "Epoch: 33 | train_loss: 0.00098, val_loss: 0.00152, lr: 6.40E-05, _patience: 10\n",
            "Epoch: 34 | train_loss: 0.00095, val_loss: 0.00150, lr: 6.40E-05, _patience: 10\n",
            "Epoch: 35 | train_loss: 0.00092, val_loss: 0.00150, lr: 6.40E-05, _patience: 9\n",
            "Epoch: 36 | train_loss: 0.00088, val_loss: 0.00151, lr: 6.40E-05, _patience: 8\n",
            "Epoch: 37 | train_loss: 0.00086, val_loss: 0.00148, lr: 6.40E-05, _patience: 10\n",
            "Epoch: 38 | train_loss: 0.00082, val_loss: 0.00149, lr: 6.40E-05, _patience: 9\n",
            "Epoch: 39 | train_loss: 0.00079, val_loss: 0.00148, lr: 6.40E-05, _patience: 8\n",
            "Epoch: 40 | train_loss: 0.00076, val_loss: 0.00147, lr: 6.40E-05, _patience: 10\n",
            "Epoch: 41 | train_loss: 0.00074, val_loss: 0.00146, lr: 6.40E-05, _patience: 10\n",
            "Epoch: 42 | train_loss: 0.00071, val_loss: 0.00147, lr: 6.40E-05, _patience: 9\n",
            "Epoch: 43 | train_loss: 0.00069, val_loss: 0.00146, lr: 6.40E-05, _patience: 8\n",
            "Epoch: 44 | train_loss: 0.00066, val_loss: 0.00146, lr: 6.40E-05, _patience: 7\n",
            "Epoch: 45 | train_loss: 0.00064, val_loss: 0.00148, lr: 6.40E-05, _patience: 6\n",
            "Epoch: 46 | train_loss: 0.00062, val_loss: 0.00148, lr: 6.40E-05, _patience: 5\n",
            "Epoch: 47 | train_loss: 0.00060, val_loss: 0.00145, lr: 6.40E-05, _patience: 10\n",
            "Epoch: 48 | train_loss: 0.00058, val_loss: 0.00146, lr: 6.40E-05, _patience: 9\n",
            "Epoch: 49 | train_loss: 0.00056, val_loss: 0.00145, lr: 6.40E-05, _patience: 8\n",
            "Epoch: 50 | train_loss: 0.00054, val_loss: 0.00145, lr: 6.40E-05, _patience: 7\n",
            "Epoch: 51 | train_loss: 0.00053, val_loss: 0.00147, lr: 6.40E-05, _patience: 6\n",
            "Epoch: 52 | train_loss: 0.00050, val_loss: 0.00148, lr: 6.40E-05, _patience: 5\n",
            "Epoch: 53 | train_loss: 0.00049, val_loss: 0.00147, lr: 6.40E-05, _patience: 4\n",
            "Epoch: 54 | train_loss: 0.00047, val_loss: 0.00145, lr: 6.40E-05, _patience: 3\n",
            "Epoch: 55 | train_loss: 0.00046, val_loss: 0.00144, lr: 6.40E-05, _patience: 2\n",
            "Epoch: 56 | train_loss: 0.00043, val_loss: 0.00146, lr: 6.40E-05, _patience: 1\n",
            "Stopping early!\n"
          ]
        },
        {
          "output_type": "stream",
          "name": "stderr",
          "text": [
            "\u001b[32m[I 2021-09-01 01:16:45,630]\u001b[0m Trial 26 finished with value: 0.6566284489403298 and parameters: {'embedding_dim': 274, 'num_filters': 145, 'hidden_dim': 437, 'dropout_p': 0.3292836726866997, 'lr': 6.404896736011799e-05}. Best is trial 15 with value: 0.6933703162851264.\u001b[0m\n"
          ]
        },
        {
          "output_type": "stream",
          "name": "stdout",
          "text": [
            "Epoch: 1 | train_loss: 0.00448, val_loss: 0.00271, lr: 4.10E-04, _patience: 10\n",
            "Epoch: 2 | train_loss: 0.00312, val_loss: 0.00255, lr: 4.10E-04, _patience: 10\n",
            "Epoch: 3 | train_loss: 0.00255, val_loss: 0.00211, lr: 4.10E-04, _patience: 10\n",
            "Epoch: 4 | train_loss: 0.00206, val_loss: 0.00182, lr: 4.10E-04, _patience: 10\n",
            "Epoch: 5 | train_loss: 0.00169, val_loss: 0.00171, lr: 4.10E-04, _patience: 10\n",
            "Epoch: 6 | train_loss: 0.00143, val_loss: 0.00165, lr: 4.10E-04, _patience: 10\n",
            "Epoch: 7 | train_loss: 0.00121, val_loss: 0.00158, lr: 4.10E-04, _patience: 10\n",
            "Epoch: 8 | train_loss: 0.00103, val_loss: 0.00151, lr: 4.10E-04, _patience: 10\n",
            "Epoch: 9 | train_loss: 0.00082, val_loss: 0.00147, lr: 4.10E-04, _patience: 10\n",
            "Epoch: 10 | train_loss: 0.00069, val_loss: 0.00150, lr: 4.10E-04, _patience: 9\n",
            "Epoch: 11 | train_loss: 0.00058, val_loss: 0.00155, lr: 4.10E-04, _patience: 8\n",
            "Epoch: 12 | train_loss: 0.00048, val_loss: 0.00160, lr: 4.10E-04, _patience: 7\n",
            "Epoch: 13 | train_loss: 0.00043, val_loss: 0.00169, lr: 4.10E-04, _patience: 6\n",
            "Epoch: 14 | train_loss: 0.00036, val_loss: 0.00170, lr: 4.10E-04, _patience: 5\n",
            "Epoch: 15 | train_loss: 0.00034, val_loss: 0.00176, lr: 4.10E-05, _patience: 4\n",
            "Epoch: 16 | train_loss: 0.00028, val_loss: 0.00158, lr: 4.10E-05, _patience: 3\n",
            "Epoch: 17 | train_loss: 0.00024, val_loss: 0.00156, lr: 4.10E-05, _patience: 2\n",
            "Epoch: 18 | train_loss: 0.00022, val_loss: 0.00156, lr: 4.10E-05, _patience: 1\n",
            "Stopping early!\n"
          ]
        },
        {
          "output_type": "stream",
          "name": "stderr",
          "text": [
            "\u001b[32m[I 2021-09-01 01:18:03,268]\u001b[0m Trial 27 finished with value: 0.6735402019668791 and parameters: {'embedding_dim': 424, 'num_filters': 130, 'hidden_dim': 512, 'dropout_p': 0.4563718250433605, 'lr': 0.000409889962547389}. Best is trial 15 with value: 0.6933703162851264.\u001b[0m\n"
          ]
        },
        {
          "output_type": "stream",
          "name": "stdout",
          "text": [
            "Epoch: 1 | train_loss: 0.00478, val_loss: 0.00318, lr: 2.70E-04, _patience: 10\n",
            "Epoch: 2 | train_loss: 0.00321, val_loss: 0.00261, lr: 2.70E-04, _patience: 10\n",
            "Epoch: 3 | train_loss: 0.00279, val_loss: 0.00242, lr: 2.70E-04, _patience: 10\n",
            "Epoch: 4 | train_loss: 0.00246, val_loss: 0.00218, lr: 2.70E-04, _patience: 10\n",
            "Epoch: 5 | train_loss: 0.00214, val_loss: 0.00199, lr: 2.70E-04, _patience: 10\n",
            "Epoch: 6 | train_loss: 0.00185, val_loss: 0.00184, lr: 2.70E-04, _patience: 10\n",
            "Epoch: 7 | train_loss: 0.00168, val_loss: 0.00173, lr: 2.70E-04, _patience: 10\n",
            "Epoch: 8 | train_loss: 0.00149, val_loss: 0.00167, lr: 2.70E-04, _patience: 10\n",
            "Epoch: 9 | train_loss: 0.00130, val_loss: 0.00164, lr: 2.70E-04, _patience: 10\n",
            "Epoch: 10 | train_loss: 0.00115, val_loss: 0.00160, lr: 2.70E-04, _patience: 10\n",
            "Epoch: 11 | train_loss: 0.00103, val_loss: 0.00153, lr: 2.70E-04, _patience: 10\n",
            "Epoch: 12 | train_loss: 0.00092, val_loss: 0.00147, lr: 2.70E-04, _patience: 10\n",
            "Epoch: 13 | train_loss: 0.00080, val_loss: 0.00148, lr: 2.70E-04, _patience: 9\n",
            "Epoch: 14 | train_loss: 0.00073, val_loss: 0.00151, lr: 2.70E-04, _patience: 8\n",
            "Epoch: 15 | train_loss: 0.00065, val_loss: 0.00151, lr: 2.70E-04, _patience: 7\n",
            "Epoch: 16 | train_loss: 0.00057, val_loss: 0.00154, lr: 2.70E-04, _patience: 6\n",
            "Epoch: 17 | train_loss: 0.00052, val_loss: 0.00158, lr: 2.70E-04, _patience: 5\n",
            "Epoch: 18 | train_loss: 0.00048, val_loss: 0.00162, lr: 2.70E-05, _patience: 4\n",
            "Epoch: 19 | train_loss: 0.00043, val_loss: 0.00147, lr: 2.70E-05, _patience: 3\n",
            "Epoch: 20 | train_loss: 0.00038, val_loss: 0.00143, lr: 2.70E-05, _patience: 10\n",
            "Epoch: 21 | train_loss: 0.00037, val_loss: 0.00146, lr: 2.70E-05, _patience: 9\n",
            "Epoch: 22 | train_loss: 0.00036, val_loss: 0.00145, lr: 2.70E-05, _patience: 8\n",
            "Epoch: 23 | train_loss: 0.00036, val_loss: 0.00144, lr: 2.70E-05, _patience: 7\n",
            "Epoch: 24 | train_loss: 0.00035, val_loss: 0.00145, lr: 2.70E-05, _patience: 6\n",
            "Epoch: 25 | train_loss: 0.00034, val_loss: 0.00145, lr: 2.70E-05, _patience: 5\n",
            "Epoch: 26 | train_loss: 0.00032, val_loss: 0.00148, lr: 2.70E-06, _patience: 4\n",
            "Epoch: 27 | train_loss: 0.00033, val_loss: 0.00147, lr: 2.70E-06, _patience: 3\n",
            "Epoch: 28 | train_loss: 0.00033, val_loss: 0.00147, lr: 2.70E-06, _patience: 2\n",
            "Epoch: 29 | train_loss: 0.00033, val_loss: 0.00146, lr: 2.70E-06, _patience: 1\n",
            "Stopping early!\n"
          ]
        },
        {
          "output_type": "stream",
          "name": "stderr",
          "text": [
            "\u001b[32m[I 2021-09-01 01:19:41,020]\u001b[0m Trial 28 finished with value: 0.6943289484498768 and parameters: {'embedding_dim': 232, 'num_filters': 243, 'hidden_dim': 370, 'dropout_p': 0.4063990525491787, 'lr': 0.00027017992274453617}. Best is trial 28 with value: 0.6943289484498768.\u001b[0m\n"
          ]
        },
        {
          "output_type": "stream",
          "name": "stdout",
          "text": [
            "Epoch: 1 | train_loss: 0.00510, val_loss: 0.00345, lr: 2.67E-04, _patience: 10\n",
            "Epoch: 2 | train_loss: 0.00363, val_loss: 0.00265, lr: 2.67E-04, _patience: 10\n",
            "Epoch: 3 | train_loss: 0.00302, val_loss: 0.00252, lr: 2.67E-04, _patience: 10\n",
            "Epoch: 4 | train_loss: 0.00274, val_loss: 0.00233, lr: 2.67E-04, _patience: 10\n",
            "Epoch: 5 | train_loss: 0.00245, val_loss: 0.00215, lr: 2.67E-04, _patience: 10\n",
            "Epoch: 6 | train_loss: 0.00217, val_loss: 0.00197, lr: 2.67E-04, _patience: 10\n",
            "Epoch: 7 | train_loss: 0.00197, val_loss: 0.00187, lr: 2.67E-04, _patience: 10\n",
            "Epoch: 8 | train_loss: 0.00175, val_loss: 0.00178, lr: 2.67E-04, _patience: 10\n",
            "Epoch: 9 | train_loss: 0.00159, val_loss: 0.00170, lr: 2.67E-04, _patience: 10\n",
            "Epoch: 10 | train_loss: 0.00142, val_loss: 0.00165, lr: 2.67E-04, _patience: 10\n",
            "Epoch: 11 | train_loss: 0.00134, val_loss: 0.00159, lr: 2.67E-04, _patience: 10\n",
            "Epoch: 12 | train_loss: 0.00122, val_loss: 0.00159, lr: 2.67E-04, _patience: 9\n",
            "Epoch: 13 | train_loss: 0.00112, val_loss: 0.00153, lr: 2.67E-04, _patience: 10\n",
            "Epoch: 14 | train_loss: 0.00104, val_loss: 0.00151, lr: 2.67E-04, _patience: 10\n",
            "Epoch: 15 | train_loss: 0.00092, val_loss: 0.00151, lr: 2.67E-04, _patience: 9\n",
            "Epoch: 16 | train_loss: 0.00087, val_loss: 0.00151, lr: 2.67E-04, _patience: 8\n",
            "Epoch: 17 | train_loss: 0.00078, val_loss: 0.00151, lr: 2.67E-04, _patience: 7\n",
            "Epoch: 18 | train_loss: 0.00070, val_loss: 0.00156, lr: 2.67E-04, _patience: 6\n",
            "Epoch: 19 | train_loss: 0.00066, val_loss: 0.00154, lr: 2.67E-04, _patience: 5\n",
            "Epoch: 20 | train_loss: 0.00062, val_loss: 0.00160, lr: 2.67E-05, _patience: 4\n",
            "Epoch: 21 | train_loss: 0.00055, val_loss: 0.00146, lr: 2.67E-05, _patience: 10\n",
            "Epoch: 22 | train_loss: 0.00050, val_loss: 0.00147, lr: 2.67E-05, _patience: 9\n",
            "Epoch: 23 | train_loss: 0.00050, val_loss: 0.00144, lr: 2.67E-05, _patience: 10\n",
            "Epoch: 24 | train_loss: 0.00048, val_loss: 0.00146, lr: 2.67E-05, _patience: 9\n",
            "Epoch: 25 | train_loss: 0.00046, val_loss: 0.00146, lr: 2.67E-05, _patience: 8\n",
            "Epoch: 26 | train_loss: 0.00046, val_loss: 0.00147, lr: 2.67E-05, _patience: 7\n",
            "Epoch: 27 | train_loss: 0.00045, val_loss: 0.00146, lr: 2.67E-05, _patience: 6\n",
            "Epoch: 28 | train_loss: 0.00044, val_loss: 0.00148, lr: 2.67E-05, _patience: 5\n",
            "Epoch: 29 | train_loss: 0.00044, val_loss: 0.00146, lr: 2.67E-06, _patience: 4\n",
            "Epoch: 30 | train_loss: 0.00043, val_loss: 0.00147, lr: 2.67E-06, _patience: 3\n",
            "Epoch: 31 | train_loss: 0.00044, val_loss: 0.00147, lr: 2.67E-06, _patience: 2\n",
            "Epoch: 32 | train_loss: 0.00042, val_loss: 0.00147, lr: 2.67E-06, _patience: 1\n",
            "Stopping early!\n"
          ]
        },
        {
          "output_type": "stream",
          "name": "stderr",
          "text": [
            "\u001b[32m[I 2021-09-01 01:21:36,504]\u001b[0m Trial 29 finished with value: 0.6665323943975596 and parameters: {'embedding_dim': 178, 'num_filters': 311, 'hidden_dim': 255, 'dropout_p': 0.4846947578747345, 'lr': 0.0002667176109892736}. Best is trial 28 with value: 0.6943289484498768.\u001b[0m\n"
          ]
        },
        {
          "output_type": "stream",
          "name": "stdout",
          "text": [
            "Epoch: 1 | train_loss: 0.00450, val_loss: 0.00324, lr: 1.95E-04, _patience: 10\n",
            "Epoch: 2 | train_loss: 0.00322, val_loss: 0.00265, lr: 1.95E-04, _patience: 10\n",
            "Epoch: 3 | train_loss: 0.00284, val_loss: 0.00249, lr: 1.95E-04, _patience: 10\n",
            "Epoch: 4 | train_loss: 0.00251, val_loss: 0.00230, lr: 1.95E-04, _patience: 10\n",
            "Epoch: 5 | train_loss: 0.00229, val_loss: 0.00213, lr: 1.95E-04, _patience: 10\n",
            "Epoch: 6 | train_loss: 0.00205, val_loss: 0.00196, lr: 1.95E-04, _patience: 10\n",
            "Epoch: 7 | train_loss: 0.00183, val_loss: 0.00185, lr: 1.95E-04, _patience: 10\n",
            "Epoch: 8 | train_loss: 0.00168, val_loss: 0.00175, lr: 1.95E-04, _patience: 10\n",
            "Epoch: 9 | train_loss: 0.00153, val_loss: 0.00169, lr: 1.95E-04, _patience: 10\n",
            "Epoch: 10 | train_loss: 0.00137, val_loss: 0.00163, lr: 1.95E-04, _patience: 10\n",
            "Epoch: 11 | train_loss: 0.00125, val_loss: 0.00161, lr: 1.95E-04, _patience: 10\n",
            "Epoch: 12 | train_loss: 0.00114, val_loss: 0.00158, lr: 1.95E-04, _patience: 10\n",
            "Epoch: 13 | train_loss: 0.00106, val_loss: 0.00156, lr: 1.95E-04, _patience: 10\n",
            "Epoch: 14 | train_loss: 0.00095, val_loss: 0.00155, lr: 1.95E-04, _patience: 9\n",
            "Epoch: 15 | train_loss: 0.00088, val_loss: 0.00156, lr: 1.95E-04, _patience: 8\n",
            "Epoch: 16 | train_loss: 0.00079, val_loss: 0.00154, lr: 1.95E-04, _patience: 10\n",
            "Epoch: 17 | train_loss: 0.00072, val_loss: 0.00149, lr: 1.95E-04, _patience: 10\n",
            "Epoch: 18 | train_loss: 0.00065, val_loss: 0.00152, lr: 1.95E-04, _patience: 9\n",
            "Epoch: 19 | train_loss: 0.00059, val_loss: 0.00150, lr: 1.95E-04, _patience: 8\n",
            "Epoch: 20 | train_loss: 0.00053, val_loss: 0.00154, lr: 1.95E-04, _patience: 7\n",
            "Epoch: 21 | train_loss: 0.00049, val_loss: 0.00154, lr: 1.95E-04, _patience: 6\n",
            "Epoch: 22 | train_loss: 0.00045, val_loss: 0.00150, lr: 1.95E-04, _patience: 5\n",
            "Epoch: 23 | train_loss: 0.00040, val_loss: 0.00155, lr: 1.95E-05, _patience: 4\n",
            "Epoch: 24 | train_loss: 0.00036, val_loss: 0.00150, lr: 1.95E-05, _patience: 3\n",
            "Epoch: 25 | train_loss: 0.00035, val_loss: 0.00152, lr: 1.95E-05, _patience: 2\n",
            "Epoch: 26 | train_loss: 0.00035, val_loss: 0.00150, lr: 1.95E-05, _patience: 1\n",
            "Stopping early!\n"
          ]
        },
        {
          "output_type": "stream",
          "name": "stderr",
          "text": [
            "\u001b[32m[I 2021-09-01 01:23:09,815]\u001b[0m Trial 30 finished with value: 0.6565076272779158 and parameters: {'embedding_dim': 243, 'num_filters': 251, 'hidden_dim': 384, 'dropout_p': 0.4140819872003446, 'lr': 0.00019536490125250699}. Best is trial 28 with value: 0.6943289484498768.\u001b[0m\n"
          ]
        },
        {
          "output_type": "stream",
          "name": "stdout",
          "text": [
            "Epoch: 1 | train_loss: 0.00471, val_loss: 0.00283, lr: 4.98E-04, _patience: 10\n",
            "Epoch: 2 | train_loss: 0.00321, val_loss: 0.00266, lr: 4.98E-04, _patience: 10\n",
            "Epoch: 3 | train_loss: 0.00265, val_loss: 0.00225, lr: 4.98E-04, _patience: 10\n",
            "Epoch: 4 | train_loss: 0.00218, val_loss: 0.00193, lr: 4.98E-04, _patience: 10\n",
            "Epoch: 5 | train_loss: 0.00180, val_loss: 0.00178, lr: 4.98E-04, _patience: 10\n",
            "Epoch: 6 | train_loss: 0.00152, val_loss: 0.00171, lr: 4.98E-04, _patience: 10\n",
            "Epoch: 7 | train_loss: 0.00127, val_loss: 0.00161, lr: 4.98E-04, _patience: 10\n",
            "Epoch: 8 | train_loss: 0.00108, val_loss: 0.00160, lr: 4.98E-04, _patience: 10\n",
            "Epoch: 9 | train_loss: 0.00093, val_loss: 0.00154, lr: 4.98E-04, _patience: 10\n",
            "Epoch: 10 | train_loss: 0.00078, val_loss: 0.00159, lr: 4.98E-04, _patience: 9\n",
            "Epoch: 11 | train_loss: 0.00068, val_loss: 0.00163, lr: 4.98E-04, _patience: 8\n",
            "Epoch: 12 | train_loss: 0.00058, val_loss: 0.00164, lr: 4.98E-04, _patience: 7\n",
            "Epoch: 13 | train_loss: 0.00052, val_loss: 0.00163, lr: 4.98E-04, _patience: 6\n",
            "Epoch: 14 | train_loss: 0.00043, val_loss: 0.00171, lr: 4.98E-04, _patience: 5\n",
            "Epoch: 15 | train_loss: 0.00037, val_loss: 0.00169, lr: 4.98E-05, _patience: 4\n",
            "Epoch: 16 | train_loss: 0.00034, val_loss: 0.00155, lr: 4.98E-05, _patience: 3\n",
            "Epoch: 17 | train_loss: 0.00027, val_loss: 0.00155, lr: 4.98E-05, _patience: 2\n",
            "Epoch: 18 | train_loss: 0.00026, val_loss: 0.00156, lr: 4.98E-05, _patience: 1\n",
            "Stopping early!\n"
          ]
        },
        {
          "output_type": "stream",
          "name": "stderr",
          "text": [
            "\u001b[32m[I 2021-09-01 01:24:00,321]\u001b[0m Trial 31 finished with value: 0.6736727241559339 and parameters: {'embedding_dim': 224, 'num_filters': 171, 'hidden_dim': 367, 'dropout_p': 0.3758655786507999, 'lr': 0.0004978936003771612}. Best is trial 28 with value: 0.6943289484498768.\u001b[0m\n"
          ]
        },
        {
          "output_type": "stream",
          "name": "stdout",
          "text": [
            "Epoch: 1 | train_loss: 0.00464, val_loss: 0.00276, lr: 3.43E-04, _patience: 10\n",
            "Epoch: 2 | train_loss: 0.00299, val_loss: 0.00252, lr: 3.43E-04, _patience: 10\n",
            "Epoch: 3 | train_loss: 0.00248, val_loss: 0.00214, lr: 3.43E-04, _patience: 10\n",
            "Epoch: 4 | train_loss: 0.00201, val_loss: 0.00188, lr: 3.43E-04, _patience: 10\n",
            "Epoch: 5 | train_loss: 0.00167, val_loss: 0.00172, lr: 3.43E-04, _patience: 10\n",
            "Epoch: 6 | train_loss: 0.00139, val_loss: 0.00163, lr: 3.43E-04, _patience: 10\n",
            "Epoch: 7 | train_loss: 0.00117, val_loss: 0.00157, lr: 3.43E-04, _patience: 10\n",
            "Epoch: 8 | train_loss: 0.00098, val_loss: 0.00155, lr: 3.43E-04, _patience: 10\n",
            "Epoch: 9 | train_loss: 0.00083, val_loss: 0.00157, lr: 3.43E-04, _patience: 9\n",
            "Epoch: 10 | train_loss: 0.00068, val_loss: 0.00161, lr: 3.43E-04, _patience: 8\n",
            "Epoch: 11 | train_loss: 0.00058, val_loss: 0.00160, lr: 3.43E-04, _patience: 7\n",
            "Epoch: 12 | train_loss: 0.00050, val_loss: 0.00164, lr: 3.43E-04, _patience: 6\n",
            "Epoch: 13 | train_loss: 0.00043, val_loss: 0.00166, lr: 3.43E-04, _patience: 5\n",
            "Epoch: 14 | train_loss: 0.00039, val_loss: 0.00158, lr: 3.43E-05, _patience: 4\n",
            "Epoch: 15 | train_loss: 0.00033, val_loss: 0.00151, lr: 3.43E-05, _patience: 10\n",
            "Epoch: 16 | train_loss: 0.00028, val_loss: 0.00152, lr: 3.43E-05, _patience: 9\n",
            "Epoch: 17 | train_loss: 0.00026, val_loss: 0.00152, lr: 3.43E-05, _patience: 8\n",
            "Epoch: 18 | train_loss: 0.00025, val_loss: 0.00152, lr: 3.43E-05, _patience: 7\n",
            "Epoch: 19 | train_loss: 0.00024, val_loss: 0.00151, lr: 3.43E-05, _patience: 6\n",
            "Epoch: 20 | train_loss: 0.00023, val_loss: 0.00152, lr: 3.43E-05, _patience: 5\n",
            "Epoch: 21 | train_loss: 0.00023, val_loss: 0.00153, lr: 3.43E-06, _patience: 4\n",
            "Epoch: 22 | train_loss: 0.00022, val_loss: 0.00153, lr: 3.43E-06, _patience: 3\n",
            "Epoch: 23 | train_loss: 0.00023, val_loss: 0.00153, lr: 3.43E-06, _patience: 2\n",
            "Epoch: 24 | train_loss: 0.00023, val_loss: 0.00153, lr: 3.43E-06, _patience: 1\n",
            "Stopping early!\n"
          ]
        },
        {
          "output_type": "stream",
          "name": "stderr",
          "text": [
            "\u001b[32m[I 2021-09-01 01:25:39,371]\u001b[0m Trial 32 finished with value: 0.6860844273746767 and parameters: {'embedding_dim': 351, 'num_filters': 220, 'hidden_dim': 433, 'dropout_p': 0.32586593696824295, 'lr': 0.0003433282251247952}. Best is trial 28 with value: 0.6943289484498768.\u001b[0m\n"
          ]
        },
        {
          "output_type": "stream",
          "name": "stdout",
          "text": [
            "Epoch: 1 | train_loss: 0.01151, val_loss: 0.00304, lr: 4.27E-04, _patience: 10\n",
            "Epoch: 2 | train_loss: 0.00552, val_loss: 0.00274, lr: 4.27E-04, _patience: 10\n",
            "Epoch: 3 | train_loss: 0.00435, val_loss: 0.00263, lr: 4.27E-04, _patience: 10\n",
            "Epoch: 4 | train_loss: 0.00385, val_loss: 0.00248, lr: 4.27E-04, _patience: 10\n",
            "Epoch: 5 | train_loss: 0.00356, val_loss: 0.00242, lr: 4.27E-04, _patience: 10\n",
            "Epoch: 6 | train_loss: 0.00326, val_loss: 0.00234, lr: 4.27E-04, _patience: 10\n",
            "Epoch: 7 | train_loss: 0.00304, val_loss: 0.00225, lr: 4.27E-04, _patience: 10\n",
            "Epoch: 8 | train_loss: 0.00288, val_loss: 0.00215, lr: 4.27E-04, _patience: 10\n",
            "Epoch: 9 | train_loss: 0.00270, val_loss: 0.00204, lr: 4.27E-04, _patience: 10\n",
            "Epoch: 10 | train_loss: 0.00252, val_loss: 0.00202, lr: 4.27E-04, _patience: 10\n",
            "Epoch: 11 | train_loss: 0.00245, val_loss: 0.00191, lr: 4.27E-04, _patience: 10\n",
            "Epoch: 12 | train_loss: 0.00228, val_loss: 0.00193, lr: 4.27E-04, _patience: 9\n",
            "Epoch: 13 | train_loss: 0.00216, val_loss: 0.00193, lr: 4.27E-04, _patience: 8\n",
            "Epoch: 14 | train_loss: 0.00208, val_loss: 0.00179, lr: 4.27E-04, _patience: 10\n",
            "Epoch: 15 | train_loss: 0.00195, val_loss: 0.00192, lr: 4.27E-04, _patience: 9\n",
            "Epoch: 16 | train_loss: 0.00183, val_loss: 0.00191, lr: 4.27E-04, _patience: 8\n",
            "Epoch: 17 | train_loss: 0.00176, val_loss: 0.00186, lr: 4.27E-04, _patience: 7\n",
            "Epoch: 18 | train_loss: 0.00170, val_loss: 0.00200, lr: 4.27E-04, _patience: 6\n",
            "Epoch: 19 | train_loss: 0.00177, val_loss: 0.00198, lr: 4.27E-04, _patience: 5\n",
            "Epoch: 20 | train_loss: 0.00171, val_loss: 0.00168, lr: 4.27E-04, _patience: 10\n",
            "Epoch: 21 | train_loss: 0.00181, val_loss: 0.00161, lr: 4.27E-04, _patience: 10\n",
            "Epoch: 22 | train_loss: 0.00173, val_loss: 0.00179, lr: 4.27E-04, _patience: 9\n",
            "Epoch: 23 | train_loss: 0.00175, val_loss: 0.00243, lr: 4.27E-04, _patience: 8\n",
            "Epoch: 24 | train_loss: 0.00172, val_loss: 0.00184, lr: 4.27E-04, _patience: 7\n",
            "Epoch: 25 | train_loss: 0.00150, val_loss: 0.00176, lr: 4.27E-04, _patience: 6\n",
            "Epoch: 26 | train_loss: 0.00146, val_loss: 0.00186, lr: 4.27E-04, _patience: 5\n",
            "Epoch: 27 | train_loss: 0.00135, val_loss: 0.00205, lr: 4.27E-05, _patience: 4\n",
            "Epoch: 28 | train_loss: 0.00132, val_loss: 0.00159, lr: 4.27E-05, _patience: 10\n",
            "Epoch: 29 | train_loss: 0.00114, val_loss: 0.00174, lr: 4.27E-05, _patience: 9\n",
            "Epoch: 30 | train_loss: 0.00116, val_loss: 0.00163, lr: 4.27E-05, _patience: 8\n",
            "Epoch: 31 | train_loss: 0.00109, val_loss: 0.00171, lr: 4.27E-05, _patience: 7\n",
            "Epoch: 32 | train_loss: 0.00107, val_loss: 0.00162, lr: 4.27E-05, _patience: 6\n",
            "Epoch: 33 | train_loss: 0.00108, val_loss: 0.00172, lr: 4.27E-05, _patience: 5\n",
            "Epoch: 34 | train_loss: 0.00109, val_loss: 0.00164, lr: 4.27E-06, _patience: 4\n",
            "Epoch: 35 | train_loss: 0.00111, val_loss: 0.00166, lr: 4.27E-06, _patience: 3\n",
            "Epoch: 36 | train_loss: 0.00109, val_loss: 0.00167, lr: 4.27E-06, _patience: 2\n",
            "Epoch: 37 | train_loss: 0.00114, val_loss: 0.00168, lr: 4.27E-06, _patience: 1\n",
            "Stopping early!\n"
          ]
        },
        {
          "output_type": "stream",
          "name": "stderr",
          "text": [
            "\u001b[32m[I 2021-09-01 01:28:32,863]\u001b[0m Trial 33 finished with value: 0.6131436929775165 and parameters: {'embedding_dim': 169, 'num_filters': 503, 'hidden_dim': 142, 'dropout_p': 0.7962776223474217, 'lr': 0.0004267180938088687}. Best is trial 28 with value: 0.6943289484498768.\u001b[0m\n"
          ]
        },
        {
          "output_type": "stream",
          "name": "stdout",
          "text": [
            "Epoch: 1 | train_loss: 0.00457, val_loss: 0.00289, lr: 2.66E-04, _patience: 10\n",
            "Epoch: 2 | train_loss: 0.00319, val_loss: 0.00257, lr: 2.66E-04, _patience: 10\n",
            "Epoch: 3 | train_loss: 0.00273, val_loss: 0.00227, lr: 2.66E-04, _patience: 10\n",
            "Epoch: 4 | train_loss: 0.00231, val_loss: 0.00202, lr: 2.66E-04, _patience: 10\n",
            "Epoch: 5 | train_loss: 0.00195, val_loss: 0.00186, lr: 2.66E-04, _patience: 10\n",
            "Epoch: 6 | train_loss: 0.00167, val_loss: 0.00177, lr: 2.66E-04, _patience: 10\n",
            "Epoch: 7 | train_loss: 0.00150, val_loss: 0.00167, lr: 2.66E-04, _patience: 10\n",
            "Epoch: 8 | train_loss: 0.00132, val_loss: 0.00159, lr: 2.66E-04, _patience: 10\n",
            "Epoch: 9 | train_loss: 0.00112, val_loss: 0.00156, lr: 2.66E-04, _patience: 10\n",
            "Epoch: 10 | train_loss: 0.00100, val_loss: 0.00155, lr: 2.66E-04, _patience: 9\n",
            "Epoch: 11 | train_loss: 0.00087, val_loss: 0.00152, lr: 2.66E-04, _patience: 10\n",
            "Epoch: 12 | train_loss: 0.00076, val_loss: 0.00150, lr: 2.66E-04, _patience: 10\n",
            "Epoch: 13 | train_loss: 0.00066, val_loss: 0.00161, lr: 2.66E-04, _patience: 9\n",
            "Epoch: 14 | train_loss: 0.00059, val_loss: 0.00152, lr: 2.66E-04, _patience: 8\n",
            "Epoch: 15 | train_loss: 0.00050, val_loss: 0.00165, lr: 2.66E-04, _patience: 7\n",
            "Epoch: 16 | train_loss: 0.00046, val_loss: 0.00162, lr: 2.66E-04, _patience: 6\n",
            "Epoch: 17 | train_loss: 0.00042, val_loss: 0.00177, lr: 2.66E-04, _patience: 5\n",
            "Epoch: 18 | train_loss: 0.00036, val_loss: 0.00165, lr: 2.66E-05, _patience: 4\n",
            "Epoch: 19 | train_loss: 0.00032, val_loss: 0.00154, lr: 2.66E-05, _patience: 3\n",
            "Epoch: 20 | train_loss: 0.00029, val_loss: 0.00152, lr: 2.66E-05, _patience: 2\n",
            "Epoch: 21 | train_loss: 0.00028, val_loss: 0.00152, lr: 2.66E-05, _patience: 1\n",
            "Stopping early!\n"
          ]
        },
        {
          "output_type": "stream",
          "name": "stderr",
          "text": [
            "\u001b[32m[I 2021-09-01 01:30:06,726]\u001b[0m Trial 34 finished with value: 0.6754847127827548 and parameters: {'embedding_dim': 400, 'num_filters': 200, 'hidden_dim': 456, 'dropout_p': 0.4992352898643634, 'lr': 0.00026585593594078224}. Best is trial 28 with value: 0.6943289484498768.\u001b[0m\n"
          ]
        },
        {
          "output_type": "stream",
          "name": "stdout",
          "text": [
            "Epoch: 1 | train_loss: 0.00512, val_loss: 0.00307, lr: 3.08E-04, _patience: 10\n",
            "Epoch: 2 | train_loss: 0.00320, val_loss: 0.00263, lr: 3.08E-04, _patience: 10\n",
            "Epoch: 3 | train_loss: 0.00264, val_loss: 0.00227, lr: 3.08E-04, _patience: 10\n",
            "Epoch: 4 | train_loss: 0.00221, val_loss: 0.00200, lr: 3.08E-04, _patience: 10\n",
            "Epoch: 5 | train_loss: 0.00185, val_loss: 0.00182, lr: 3.08E-04, _patience: 10\n",
            "Epoch: 6 | train_loss: 0.00154, val_loss: 0.00171, lr: 3.08E-04, _patience: 10\n",
            "Epoch: 7 | train_loss: 0.00136, val_loss: 0.00166, lr: 3.08E-04, _patience: 10\n",
            "Epoch: 8 | train_loss: 0.00113, val_loss: 0.00156, lr: 3.08E-04, _patience: 10\n",
            "Epoch: 9 | train_loss: 0.00097, val_loss: 0.00156, lr: 3.08E-04, _patience: 9\n",
            "Epoch: 10 | train_loss: 0.00081, val_loss: 0.00154, lr: 3.08E-04, _patience: 10\n",
            "Epoch: 11 | train_loss: 0.00068, val_loss: 0.00155, lr: 3.08E-04, _patience: 9\n",
            "Epoch: 12 | train_loss: 0.00058, val_loss: 0.00153, lr: 3.08E-04, _patience: 10\n",
            "Epoch: 13 | train_loss: 0.00050, val_loss: 0.00153, lr: 3.08E-04, _patience: 9\n",
            "Epoch: 14 | train_loss: 0.00044, val_loss: 0.00151, lr: 3.08E-04, _patience: 10\n",
            "Epoch: 15 | train_loss: 0.00038, val_loss: 0.00151, lr: 3.08E-04, _patience: 9\n",
            "Epoch: 16 | train_loss: 0.00035, val_loss: 0.00163, lr: 3.08E-04, _patience: 8\n",
            "Epoch: 17 | train_loss: 0.00029, val_loss: 0.00165, lr: 3.08E-04, _patience: 7\n",
            "Epoch: 18 | train_loss: 0.00028, val_loss: 0.00159, lr: 3.08E-04, _patience: 6\n",
            "Epoch: 19 | train_loss: 0.00024, val_loss: 0.00163, lr: 3.08E-04, _patience: 5\n",
            "Epoch: 20 | train_loss: 0.00020, val_loss: 0.00160, lr: 3.08E-05, _patience: 4\n",
            "Epoch: 21 | train_loss: 0.00016, val_loss: 0.00155, lr: 3.08E-05, _patience: 3\n",
            "Epoch: 22 | train_loss: 0.00015, val_loss: 0.00157, lr: 3.08E-05, _patience: 2\n",
            "Epoch: 23 | train_loss: 0.00015, val_loss: 0.00158, lr: 3.08E-05, _patience: 1\n",
            "Stopping early!\n"
          ]
        },
        {
          "output_type": "stream",
          "name": "stderr",
          "text": [
            "\u001b[32m[I 2021-09-01 01:32:08,274]\u001b[0m Trial 35 finished with value: 0.687932683461341 and parameters: {'embedding_dim': 313, 'num_filters': 271, 'hidden_dim': 490, 'dropout_p': 0.36967062979093446, 'lr': 0.00030782915900240035}. Best is trial 28 with value: 0.6943289484498768.\u001b[0m\n"
          ]
        },
        {
          "output_type": "stream",
          "name": "stdout",
          "text": [
            "Epoch: 1 | train_loss: 0.00482, val_loss: 0.00347, lr: 2.03E-04, _patience: 10\n",
            "Epoch: 2 | train_loss: 0.00338, val_loss: 0.00263, lr: 2.03E-04, _patience: 10\n",
            "Epoch: 3 | train_loss: 0.00292, val_loss: 0.00250, lr: 2.03E-04, _patience: 10\n",
            "Epoch: 4 | train_loss: 0.00264, val_loss: 0.00231, lr: 2.03E-04, _patience: 10\n",
            "Epoch: 5 | train_loss: 0.00237, val_loss: 0.00214, lr: 2.03E-04, _patience: 10\n",
            "Epoch: 6 | train_loss: 0.00214, val_loss: 0.00197, lr: 2.03E-04, _patience: 10\n",
            "Epoch: 7 | train_loss: 0.00191, val_loss: 0.00185, lr: 2.03E-04, _patience: 10\n",
            "Epoch: 8 | train_loss: 0.00174, val_loss: 0.00176, lr: 2.03E-04, _patience: 10\n",
            "Epoch: 9 | train_loss: 0.00160, val_loss: 0.00168, lr: 2.03E-04, _patience: 10\n",
            "Epoch: 10 | train_loss: 0.00145, val_loss: 0.00163, lr: 2.03E-04, _patience: 10\n",
            "Epoch: 11 | train_loss: 0.00131, val_loss: 0.00158, lr: 2.03E-04, _patience: 10\n",
            "Epoch: 12 | train_loss: 0.00120, val_loss: 0.00157, lr: 2.03E-04, _patience: 9\n",
            "Epoch: 13 | train_loss: 0.00110, val_loss: 0.00157, lr: 2.03E-04, _patience: 10\n",
            "Epoch: 14 | train_loss: 0.00101, val_loss: 0.00154, lr: 2.03E-04, _patience: 10\n",
            "Epoch: 15 | train_loss: 0.00091, val_loss: 0.00149, lr: 2.03E-04, _patience: 10\n",
            "Epoch: 16 | train_loss: 0.00084, val_loss: 0.00149, lr: 2.03E-04, _patience: 9\n",
            "Epoch: 17 | train_loss: 0.00078, val_loss: 0.00147, lr: 2.03E-04, _patience: 10\n",
            "Epoch: 18 | train_loss: 0.00069, val_loss: 0.00151, lr: 2.03E-04, _patience: 9\n",
            "Epoch: 19 | train_loss: 0.00064, val_loss: 0.00154, lr: 2.03E-04, _patience: 8\n",
            "Epoch: 20 | train_loss: 0.00058, val_loss: 0.00150, lr: 2.03E-04, _patience: 7\n",
            "Epoch: 21 | train_loss: 0.00054, val_loss: 0.00150, lr: 2.03E-04, _patience: 6\n",
            "Epoch: 22 | train_loss: 0.00049, val_loss: 0.00156, lr: 2.03E-04, _patience: 5\n",
            "Epoch: 23 | train_loss: 0.00046, val_loss: 0.00154, lr: 2.03E-05, _patience: 4\n",
            "Epoch: 24 | train_loss: 0.00040, val_loss: 0.00144, lr: 2.03E-05, _patience: 10\n",
            "Epoch: 25 | train_loss: 0.00037, val_loss: 0.00146, lr: 2.03E-05, _patience: 9\n",
            "Epoch: 26 | train_loss: 0.00038, val_loss: 0.00145, lr: 2.03E-05, _patience: 8\n",
            "Epoch: 27 | train_loss: 0.00037, val_loss: 0.00144, lr: 2.03E-05, _patience: 7\n",
            "Epoch: 28 | train_loss: 0.00037, val_loss: 0.00145, lr: 2.03E-05, _patience: 6\n",
            "Epoch: 29 | train_loss: 0.00036, val_loss: 0.00145, lr: 2.03E-05, _patience: 5\n",
            "Epoch: 30 | train_loss: 0.00035, val_loss: 0.00144, lr: 2.03E-06, _patience: 4\n",
            "Epoch: 31 | train_loss: 0.00035, val_loss: 0.00144, lr: 2.03E-06, _patience: 3\n",
            "Epoch: 32 | train_loss: 0.00034, val_loss: 0.00144, lr: 2.03E-06, _patience: 2\n",
            "Epoch: 33 | train_loss: 0.00034, val_loss: 0.00144, lr: 2.03E-06, _patience: 1\n",
            "Stopping early!\n"
          ]
        },
        {
          "output_type": "stream",
          "name": "stderr",
          "text": [
            "\u001b[32m[I 2021-09-01 01:34:01,986]\u001b[0m Trial 36 finished with value: 0.6716735512318117 and parameters: {'embedding_dim': 282, 'num_filters': 228, 'hidden_dim': 350, 'dropout_p': 0.46665227809040183, 'lr': 0.00020284609584866664}. Best is trial 28 with value: 0.6943289484498768.\u001b[0m\n"
          ]
        },
        {
          "output_type": "stream",
          "name": "stdout",
          "text": [
            "Epoch: 1 | train_loss: 0.00605, val_loss: 0.00319, lr: 4.39E-04, _patience: 10\n",
            "Epoch: 2 | train_loss: 0.00352, val_loss: 0.00252, lr: 4.39E-04, _patience: 10\n",
            "Epoch: 3 | train_loss: 0.00271, val_loss: 0.00222, lr: 4.39E-04, _patience: 10\n",
            "Epoch: 4 | train_loss: 0.00228, val_loss: 0.00196, lr: 4.39E-04, _patience: 10\n",
            "Epoch: 5 | train_loss: 0.00186, val_loss: 0.00180, lr: 4.39E-04, _patience: 10\n",
            "Epoch: 6 | train_loss: 0.00161, val_loss: 0.00168, lr: 4.39E-04, _patience: 10\n",
            "Epoch: 7 | train_loss: 0.00137, val_loss: 0.00162, lr: 4.39E-04, _patience: 10\n",
            "Epoch: 8 | train_loss: 0.00111, val_loss: 0.00159, lr: 4.39E-04, _patience: 10\n",
            "Epoch: 9 | train_loss: 0.00095, val_loss: 0.00161, lr: 4.39E-04, _patience: 9\n",
            "Epoch: 10 | train_loss: 0.00082, val_loss: 0.00149, lr: 4.39E-04, _patience: 10\n",
            "Epoch: 11 | train_loss: 0.00067, val_loss: 0.00152, lr: 4.39E-04, _patience: 9\n",
            "Epoch: 12 | train_loss: 0.00061, val_loss: 0.00144, lr: 4.39E-04, _patience: 10\n",
            "Epoch: 13 | train_loss: 0.00048, val_loss: 0.00151, lr: 4.39E-04, _patience: 9\n",
            "Epoch: 14 | train_loss: 0.00043, val_loss: 0.00157, lr: 4.39E-04, _patience: 8\n",
            "Epoch: 15 | train_loss: 0.00038, val_loss: 0.00158, lr: 4.39E-04, _patience: 7\n",
            "Epoch: 16 | train_loss: 0.00035, val_loss: 0.00154, lr: 4.39E-04, _patience: 6\n",
            "Epoch: 17 | train_loss: 0.00034, val_loss: 0.00180, lr: 4.39E-04, _patience: 5\n",
            "Epoch: 18 | train_loss: 0.00032, val_loss: 0.00180, lr: 4.39E-05, _patience: 4\n",
            "Epoch: 19 | train_loss: 0.00027, val_loss: 0.00156, lr: 4.39E-05, _patience: 3\n",
            "Epoch: 20 | train_loss: 0.00020, val_loss: 0.00159, lr: 4.39E-05, _patience: 2\n",
            "Epoch: 21 | train_loss: 0.00020, val_loss: 0.00161, lr: 4.39E-05, _patience: 1\n",
            "Stopping early!\n"
          ]
        },
        {
          "output_type": "stream",
          "name": "stderr",
          "text": [
            "\u001b[32m[I 2021-09-01 01:35:54,232]\u001b[0m Trial 37 finished with value: 0.6953118802537894 and parameters: {'embedding_dim': 234, 'num_filters': 383, 'hidden_dim': 265, 'dropout_p': 0.4174131267446717, 'lr': 0.0004392663090337615}. Best is trial 37 with value: 0.6953118802537894.\u001b[0m\n"
          ]
        },
        {
          "output_type": "stream",
          "name": "stdout",
          "text": [
            "Epoch: 1 | train_loss: 0.00471, val_loss: 0.00348, lr: 1.47E-04, _patience: 10\n",
            "Epoch: 2 | train_loss: 0.00368, val_loss: 0.00274, lr: 1.47E-04, _patience: 10\n",
            "Epoch: 3 | train_loss: 0.00322, val_loss: 0.00264, lr: 1.47E-04, _patience: 10\n",
            "Epoch: 4 | train_loss: 0.00304, val_loss: 0.00253, lr: 1.47E-04, _patience: 10\n",
            "Epoch: 5 | train_loss: 0.00284, val_loss: 0.00241, lr: 1.47E-04, _patience: 10\n",
            "Epoch: 6 | train_loss: 0.00259, val_loss: 0.00232, lr: 1.47E-04, _patience: 10\n",
            "Epoch: 7 | train_loss: 0.00244, val_loss: 0.00223, lr: 1.47E-04, _patience: 10\n",
            "Epoch: 8 | train_loss: 0.00231, val_loss: 0.00214, lr: 1.47E-04, _patience: 10\n",
            "Epoch: 9 | train_loss: 0.00215, val_loss: 0.00205, lr: 1.47E-04, _patience: 10\n",
            "Epoch: 10 | train_loss: 0.00202, val_loss: 0.00196, lr: 1.47E-04, _patience: 10\n",
            "Epoch: 11 | train_loss: 0.00187, val_loss: 0.00188, lr: 1.47E-04, _patience: 10\n",
            "Epoch: 12 | train_loss: 0.00180, val_loss: 0.00184, lr: 1.47E-04, _patience: 10\n",
            "Epoch: 13 | train_loss: 0.00165, val_loss: 0.00182, lr: 1.47E-04, _patience: 10\n",
            "Epoch: 14 | train_loss: 0.00153, val_loss: 0.00174, lr: 1.47E-04, _patience: 10\n",
            "Epoch: 15 | train_loss: 0.00148, val_loss: 0.00174, lr: 1.47E-04, _patience: 9\n",
            "Epoch: 16 | train_loss: 0.00139, val_loss: 0.00170, lr: 1.47E-04, _patience: 10\n",
            "Epoch: 17 | train_loss: 0.00130, val_loss: 0.00166, lr: 1.47E-04, _patience: 10\n",
            "Epoch: 18 | train_loss: 0.00120, val_loss: 0.00165, lr: 1.47E-04, _patience: 9\n",
            "Epoch: 19 | train_loss: 0.00117, val_loss: 0.00165, lr: 1.47E-04, _patience: 8\n",
            "Epoch: 20 | train_loss: 0.00110, val_loss: 0.00165, lr: 1.47E-04, _patience: 7\n",
            "Epoch: 21 | train_loss: 0.00103, val_loss: 0.00160, lr: 1.47E-04, _patience: 10\n",
            "Epoch: 22 | train_loss: 0.00098, val_loss: 0.00159, lr: 1.47E-04, _patience: 10\n",
            "Epoch: 23 | train_loss: 0.00093, val_loss: 0.00159, lr: 1.47E-04, _patience: 9\n",
            "Epoch: 24 | train_loss: 0.00090, val_loss: 0.00155, lr: 1.47E-04, _patience: 10\n",
            "Epoch: 25 | train_loss: 0.00085, val_loss: 0.00155, lr: 1.47E-04, _patience: 9\n",
            "Epoch: 26 | train_loss: 0.00078, val_loss: 0.00165, lr: 1.47E-04, _patience: 8\n",
            "Epoch: 27 | train_loss: 0.00077, val_loss: 0.00153, lr: 1.47E-04, _patience: 10\n",
            "Epoch: 28 | train_loss: 0.00069, val_loss: 0.00155, lr: 1.47E-04, _patience: 9\n",
            "Epoch: 29 | train_loss: 0.00068, val_loss: 0.00154, lr: 1.47E-04, _patience: 8\n",
            "Epoch: 30 | train_loss: 0.00064, val_loss: 0.00154, lr: 1.47E-04, _patience: 7\n",
            "Epoch: 31 | train_loss: 0.00061, val_loss: 0.00146, lr: 1.47E-04, _patience: 10\n",
            "Epoch: 32 | train_loss: 0.00060, val_loss: 0.00161, lr: 1.47E-04, _patience: 9\n",
            "Epoch: 33 | train_loss: 0.00055, val_loss: 0.00161, lr: 1.47E-04, _patience: 8\n",
            "Epoch: 34 | train_loss: 0.00055, val_loss: 0.00153, lr: 1.47E-04, _patience: 7\n",
            "Epoch: 35 | train_loss: 0.00052, val_loss: 0.00150, lr: 1.47E-04, _patience: 6\n",
            "Epoch: 36 | train_loss: 0.00048, val_loss: 0.00160, lr: 1.47E-04, _patience: 5\n",
            "Epoch: 37 | train_loss: 0.00046, val_loss: 0.00161, lr: 1.47E-05, _patience: 4\n",
            "Epoch: 38 | train_loss: 0.00045, val_loss: 0.00153, lr: 1.47E-05, _patience: 3\n",
            "Epoch: 39 | train_loss: 0.00041, val_loss: 0.00151, lr: 1.47E-05, _patience: 2\n",
            "Epoch: 40 | train_loss: 0.00039, val_loss: 0.00153, lr: 1.47E-05, _patience: 1\n",
            "Stopping early!\n"
          ]
        },
        {
          "output_type": "stream",
          "name": "stderr",
          "text": [
            "\u001b[32m[I 2021-09-01 01:38:39,795]\u001b[0m Trial 38 finished with value: 0.6761037120510669 and parameters: {'embedding_dim': 156, 'num_filters': 434, 'hidden_dim': 250, 'dropout_p': 0.5248894299779976, 'lr': 0.00014687839704924038}. Best is trial 37 with value: 0.6953118802537894.\u001b[0m\n"
          ]
        },
        {
          "output_type": "stream",
          "name": "stdout",
          "text": [
            "Epoch: 1 | train_loss: 0.00582, val_loss: 0.00300, lr: 4.39E-04, _patience: 10\n",
            "Epoch: 2 | train_loss: 0.00343, val_loss: 0.00253, lr: 4.39E-04, _patience: 10\n",
            "Epoch: 3 | train_loss: 0.00272, val_loss: 0.00220, lr: 4.39E-04, _patience: 10\n",
            "Epoch: 4 | train_loss: 0.00220, val_loss: 0.00192, lr: 4.39E-04, _patience: 10\n",
            "Epoch: 5 | train_loss: 0.00182, val_loss: 0.00180, lr: 4.39E-04, _patience: 10\n",
            "Epoch: 6 | train_loss: 0.00154, val_loss: 0.00170, lr: 4.39E-04, _patience: 10\n",
            "Epoch: 7 | train_loss: 0.00129, val_loss: 0.00168, lr: 4.39E-04, _patience: 10\n",
            "Epoch: 8 | train_loss: 0.00105, val_loss: 0.00163, lr: 4.39E-04, _patience: 10\n",
            "Epoch: 9 | train_loss: 0.00092, val_loss: 0.00159, lr: 4.39E-04, _patience: 10\n",
            "Epoch: 10 | train_loss: 0.00077, val_loss: 0.00155, lr: 4.39E-04, _patience: 10\n",
            "Epoch: 11 | train_loss: 0.00064, val_loss: 0.00158, lr: 4.39E-04, _patience: 9\n",
            "Epoch: 12 | train_loss: 0.00055, val_loss: 0.00155, lr: 4.39E-04, _patience: 8\n",
            "Epoch: 13 | train_loss: 0.00047, val_loss: 0.00164, lr: 4.39E-04, _patience: 7\n",
            "Epoch: 14 | train_loss: 0.00045, val_loss: 0.00167, lr: 4.39E-04, _patience: 6\n",
            "Epoch: 15 | train_loss: 0.00041, val_loss: 0.00156, lr: 4.39E-04, _patience: 5\n",
            "Epoch: 16 | train_loss: 0.00038, val_loss: 0.00167, lr: 4.39E-04, _patience: 4\n",
            "Epoch: 17 | train_loss: 0.00037, val_loss: 0.00185, lr: 4.39E-04, _patience: 3\n",
            "Epoch: 18 | train_loss: 0.00032, val_loss: 0.00174, lr: 4.39E-05, _patience: 2\n",
            "Epoch: 19 | train_loss: 0.00025, val_loss: 0.00176, lr: 4.39E-05, _patience: 1\n",
            "Stopping early!\n"
          ]
        },
        {
          "output_type": "stream",
          "name": "stderr",
          "text": [
            "\u001b[32m[I 2021-09-01 01:40:20,272]\u001b[0m Trial 39 finished with value: 0.6827646531893816 and parameters: {'embedding_dim': 229, 'num_filters': 373, 'hidden_dim': 287, 'dropout_p': 0.4249090975569171, 'lr': 0.00043934248934475033}. Best is trial 37 with value: 0.6953118802537894.\u001b[0m\n"
          ]
        },
        {
          "output_type": "stream",
          "name": "stdout",
          "text": [
            "Epoch: 1 | train_loss: 0.00524, val_loss: 0.00310, lr: 3.74E-04, _patience: 10\n",
            "Epoch: 2 | train_loss: 0.00345, val_loss: 0.00250, lr: 3.74E-04, _patience: 10\n",
            "Epoch: 3 | train_loss: 0.00278, val_loss: 0.00222, lr: 3.74E-04, _patience: 10\n",
            "Epoch: 4 | train_loss: 0.00231, val_loss: 0.00197, lr: 3.74E-04, _patience: 10\n",
            "Epoch: 5 | train_loss: 0.00195, val_loss: 0.00182, lr: 3.74E-04, _patience: 10\n",
            "Epoch: 6 | train_loss: 0.00166, val_loss: 0.00174, lr: 3.74E-04, _patience: 10\n",
            "Epoch: 7 | train_loss: 0.00146, val_loss: 0.00168, lr: 3.74E-04, _patience: 10\n",
            "Epoch: 8 | train_loss: 0.00124, val_loss: 0.00160, lr: 3.74E-04, _patience: 10\n",
            "Epoch: 9 | train_loss: 0.00107, val_loss: 0.00159, lr: 3.74E-04, _patience: 10\n",
            "Epoch: 10 | train_loss: 0.00094, val_loss: 0.00158, lr: 3.74E-04, _patience: 9\n",
            "Epoch: 11 | train_loss: 0.00081, val_loss: 0.00158, lr: 3.74E-04, _patience: 8\n",
            "Epoch: 12 | train_loss: 0.00074, val_loss: 0.00158, lr: 3.74E-04, _patience: 10\n",
            "Epoch: 13 | train_loss: 0.00066, val_loss: 0.00162, lr: 3.74E-04, _patience: 9\n",
            "Epoch: 14 | train_loss: 0.00060, val_loss: 0.00163, lr: 3.74E-04, _patience: 8\n",
            "Epoch: 15 | train_loss: 0.00054, val_loss: 0.00176, lr: 3.74E-04, _patience: 7\n",
            "Epoch: 16 | train_loss: 0.00049, val_loss: 0.00158, lr: 3.74E-04, _patience: 6\n",
            "Epoch: 17 | train_loss: 0.00044, val_loss: 0.00168, lr: 3.74E-04, _patience: 5\n",
            "Epoch: 18 | train_loss: 0.00040, val_loss: 0.00186, lr: 3.74E-05, _patience: 4\n",
            "Epoch: 19 | train_loss: 0.00034, val_loss: 0.00157, lr: 3.74E-05, _patience: 10\n",
            "Epoch: 20 | train_loss: 0.00027, val_loss: 0.00163, lr: 3.74E-05, _patience: 9\n",
            "Epoch: 21 | train_loss: 0.00026, val_loss: 0.00160, lr: 3.74E-05, _patience: 8\n",
            "Epoch: 22 | train_loss: 0.00026, val_loss: 0.00159, lr: 3.74E-05, _patience: 7\n",
            "Epoch: 23 | train_loss: 0.00025, val_loss: 0.00158, lr: 3.74E-05, _patience: 6\n",
            "Epoch: 24 | train_loss: 0.00025, val_loss: 0.00161, lr: 3.74E-05, _patience: 5\n",
            "Epoch: 25 | train_loss: 0.00024, val_loss: 0.00161, lr: 3.74E-06, _patience: 4\n",
            "Epoch: 26 | train_loss: 0.00024, val_loss: 0.00161, lr: 3.74E-06, _patience: 3\n",
            "Epoch: 27 | train_loss: 0.00025, val_loss: 0.00161, lr: 3.74E-06, _patience: 2\n",
            "Epoch: 28 | train_loss: 0.00024, val_loss: 0.00161, lr: 3.74E-06, _patience: 1\n",
            "Stopping early!\n"
          ]
        },
        {
          "output_type": "stream",
          "name": "stderr",
          "text": [
            "\u001b[32m[I 2021-09-01 01:43:02,797]\u001b[0m Trial 40 finished with value: 0.6729341990881108 and parameters: {'embedding_dim': 268, 'num_filters': 310, 'hidden_dim': 204, 'dropout_p': 0.4081664296973089, 'lr': 0.0003738495619381531}. Best is trial 37 with value: 0.6953118802537894.\u001b[0m\n"
          ]
        },
        {
          "output_type": "stream",
          "name": "stdout",
          "text": [
            "Epoch: 1 | train_loss: 0.00594, val_loss: 0.00299, lr: 4.81E-04, _patience: 10\n",
            "Epoch: 2 | train_loss: 0.00333, val_loss: 0.00253, lr: 4.81E-04, _patience: 10\n",
            "Epoch: 3 | train_loss: 0.00256, val_loss: 0.00209, lr: 4.81E-04, _patience: 10\n",
            "Epoch: 4 | train_loss: 0.00201, val_loss: 0.00179, lr: 4.81E-04, _patience: 10\n",
            "Epoch: 5 | train_loss: 0.00167, val_loss: 0.00169, lr: 4.81E-04, _patience: 10\n",
            "Epoch: 6 | train_loss: 0.00137, val_loss: 0.00160, lr: 4.81E-04, _patience: 10\n",
            "Epoch: 7 | train_loss: 0.00110, val_loss: 0.00160, lr: 4.81E-04, _patience: 9\n",
            "Epoch: 8 | train_loss: 0.00094, val_loss: 0.00158, lr: 4.81E-04, _patience: 10\n",
            "Epoch: 9 | train_loss: 0.00077, val_loss: 0.00161, lr: 4.81E-04, _patience: 9\n",
            "Epoch: 10 | train_loss: 0.00066, val_loss: 0.00170, lr: 4.81E-04, _patience: 8\n",
            "Epoch: 11 | train_loss: 0.00053, val_loss: 0.00165, lr: 4.81E-04, _patience: 7\n",
            "Epoch: 12 | train_loss: 0.00047, val_loss: 0.00162, lr: 4.81E-04, _patience: 6\n",
            "Epoch: 13 | train_loss: 0.00039, val_loss: 0.00170, lr: 4.81E-04, _patience: 5\n",
            "Epoch: 14 | train_loss: 0.00033, val_loss: 0.00180, lr: 4.81E-05, _patience: 4\n",
            "Epoch: 15 | train_loss: 0.00027, val_loss: 0.00161, lr: 4.81E-05, _patience: 3\n",
            "Epoch: 16 | train_loss: 0.00022, val_loss: 0.00166, lr: 4.81E-05, _patience: 2\n",
            "Epoch: 17 | train_loss: 0.00021, val_loss: 0.00163, lr: 4.81E-05, _patience: 1\n",
            "Stopping early!\n"
          ]
        },
        {
          "output_type": "stream",
          "name": "stderr",
          "text": [
            "\u001b[32m[I 2021-09-01 01:44:54,080]\u001b[0m Trial 41 finished with value: 0.6862666607836971 and parameters: {'embedding_dim': 245, 'num_filters': 399, 'hidden_dim': 285, 'dropout_p': 0.36380498056481275, 'lr': 0.0004811618822760915}. Best is trial 37 with value: 0.6953118802537894.\u001b[0m\n"
          ]
        },
        {
          "output_type": "stream",
          "name": "stdout",
          "text": [
            "Epoch: 1 | train_loss: 0.00577, val_loss: 0.00349, lr: 3.31E-04, _patience: 10\n",
            "Epoch: 2 | train_loss: 0.00358, val_loss: 0.00252, lr: 3.31E-04, _patience: 10\n",
            "Epoch: 3 | train_loss: 0.00284, val_loss: 0.00224, lr: 3.31E-04, _patience: 10\n",
            "Epoch: 4 | train_loss: 0.00235, val_loss: 0.00199, lr: 3.31E-04, _patience: 10\n",
            "Epoch: 5 | train_loss: 0.00198, val_loss: 0.00182, lr: 3.31E-04, _patience: 10\n",
            "Epoch: 6 | train_loss: 0.00171, val_loss: 0.00174, lr: 3.31E-04, _patience: 10\n",
            "Epoch: 7 | train_loss: 0.00149, val_loss: 0.00165, lr: 3.31E-04, _patience: 10\n",
            "Epoch: 8 | train_loss: 0.00125, val_loss: 0.00159, lr: 3.31E-04, _patience: 10\n",
            "Epoch: 9 | train_loss: 0.00112, val_loss: 0.00161, lr: 3.31E-04, _patience: 9\n",
            "Epoch: 10 | train_loss: 0.00099, val_loss: 0.00162, lr: 3.31E-04, _patience: 8\n",
            "Epoch: 11 | train_loss: 0.00085, val_loss: 0.00159, lr: 3.31E-04, _patience: 7\n",
            "Epoch: 12 | train_loss: 0.00073, val_loss: 0.00157, lr: 3.31E-04, _patience: 10\n",
            "Epoch: 13 | train_loss: 0.00065, val_loss: 0.00157, lr: 3.31E-04, _patience: 9\n",
            "Epoch: 14 | train_loss: 0.00058, val_loss: 0.00154, lr: 3.31E-04, _patience: 10\n",
            "Epoch: 15 | train_loss: 0.00051, val_loss: 0.00165, lr: 3.31E-04, _patience: 9\n",
            "Epoch: 16 | train_loss: 0.00046, val_loss: 0.00174, lr: 3.31E-04, _patience: 8\n",
            "Epoch: 17 | train_loss: 0.00043, val_loss: 0.00170, lr: 3.31E-04, _patience: 7\n",
            "Epoch: 18 | train_loss: 0.00039, val_loss: 0.00179, lr: 3.31E-04, _patience: 6\n",
            "Epoch: 19 | train_loss: 0.00035, val_loss: 0.00195, lr: 3.31E-04, _patience: 5\n",
            "Epoch: 20 | train_loss: 0.00034, val_loss: 0.00170, lr: 3.31E-05, _patience: 4\n",
            "Epoch: 21 | train_loss: 0.00027, val_loss: 0.00161, lr: 3.31E-05, _patience: 3\n",
            "Epoch: 22 | train_loss: 0.00024, val_loss: 0.00158, lr: 3.31E-05, _patience: 2\n",
            "Epoch: 23 | train_loss: 0.00022, val_loss: 0.00164, lr: 3.31E-05, _patience: 1\n",
            "Stopping early!\n"
          ]
        },
        {
          "output_type": "stream",
          "name": "stderr",
          "text": [
            "\u001b[32m[I 2021-09-01 01:47:03,798]\u001b[0m Trial 42 finished with value: 0.6930915673772244 and parameters: {'embedding_dim': 308, 'num_filters': 379, 'hidden_dim': 227, 'dropout_p': 0.43381811029003325, 'lr': 0.00033075088497390464}. Best is trial 37 with value: 0.6953118802537894.\u001b[0m\n"
          ]
        },
        {
          "output_type": "stream",
          "name": "stdout",
          "text": [
            "Epoch: 1 | train_loss: 0.00671, val_loss: 0.00391, lr: 3.24E-04, _patience: 10\n",
            "Epoch: 2 | train_loss: 0.00398, val_loss: 0.00259, lr: 3.24E-04, _patience: 10\n",
            "Epoch: 3 | train_loss: 0.00314, val_loss: 0.00246, lr: 3.24E-04, _patience: 10\n",
            "Epoch: 4 | train_loss: 0.00273, val_loss: 0.00221, lr: 3.24E-04, _patience: 10\n",
            "Epoch: 5 | train_loss: 0.00236, val_loss: 0.00203, lr: 3.24E-04, _patience: 10\n",
            "Epoch: 6 | train_loss: 0.00212, val_loss: 0.00187, lr: 3.24E-04, _patience: 10\n",
            "Epoch: 7 | train_loss: 0.00182, val_loss: 0.00184, lr: 3.24E-04, _patience: 10\n",
            "Epoch: 8 | train_loss: 0.00160, val_loss: 0.00171, lr: 3.24E-04, _patience: 10\n",
            "Epoch: 9 | train_loss: 0.00146, val_loss: 0.00162, lr: 3.24E-04, _patience: 10\n",
            "Epoch: 10 | train_loss: 0.00129, val_loss: 0.00164, lr: 3.24E-04, _patience: 9\n",
            "Epoch: 11 | train_loss: 0.00115, val_loss: 0.00163, lr: 3.24E-04, _patience: 8\n",
            "Epoch: 12 | train_loss: 0.00102, val_loss: 0.00162, lr: 3.24E-04, _patience: 7\n",
            "Epoch: 13 | train_loss: 0.00091, val_loss: 0.00160, lr: 3.24E-04, _patience: 10\n",
            "Epoch: 14 | train_loss: 0.00087, val_loss: 0.00159, lr: 3.24E-04, _patience: 10\n",
            "Epoch: 15 | train_loss: 0.00077, val_loss: 0.00150, lr: 3.24E-04, _patience: 10\n",
            "Epoch: 16 | train_loss: 0.00068, val_loss: 0.00179, lr: 3.24E-04, _patience: 9\n",
            "Epoch: 17 | train_loss: 0.00065, val_loss: 0.00167, lr: 3.24E-04, _patience: 8\n",
            "Epoch: 18 | train_loss: 0.00062, val_loss: 0.00167, lr: 3.24E-04, _patience: 7\n",
            "Epoch: 19 | train_loss: 0.00057, val_loss: 0.00160, lr: 3.24E-04, _patience: 6\n",
            "Epoch: 20 | train_loss: 0.00053, val_loss: 0.00187, lr: 3.24E-04, _patience: 5\n",
            "Epoch: 21 | train_loss: 0.00047, val_loss: 0.00204, lr: 3.24E-05, _patience: 4\n",
            "Epoch: 22 | train_loss: 0.00049, val_loss: 0.00151, lr: 3.24E-05, _patience: 3\n",
            "Epoch: 23 | train_loss: 0.00039, val_loss: 0.00163, lr: 3.24E-05, _patience: 2\n",
            "Epoch: 24 | train_loss: 0.00035, val_loss: 0.00158, lr: 3.24E-05, _patience: 1\n",
            "Stopping early!\n"
          ]
        },
        {
          "output_type": "stream",
          "name": "stderr",
          "text": [
            "\u001b[32m[I 2021-09-01 01:50:14,598]\u001b[0m Trial 43 finished with value: 0.6882894422184352 and parameters: {'embedding_dim': 261, 'num_filters': 468, 'hidden_dim': 225, 'dropout_p': 0.5803207062540764, 'lr': 0.000324057138739825}. Best is trial 37 with value: 0.6953118802537894.\u001b[0m\n"
          ]
        },
        {
          "output_type": "stream",
          "name": "stdout",
          "text": [
            "Epoch: 1 | train_loss: 0.00541, val_loss: 0.00338, lr: 2.82E-04, _patience: 10\n",
            "Epoch: 2 | train_loss: 0.00370, val_loss: 0.00254, lr: 2.82E-04, _patience: 10\n",
            "Epoch: 3 | train_loss: 0.00297, val_loss: 0.00231, lr: 2.82E-04, _patience: 10\n",
            "Epoch: 4 | train_loss: 0.00250, val_loss: 0.00210, lr: 2.82E-04, _patience: 10\n",
            "Epoch: 5 | train_loss: 0.00221, val_loss: 0.00193, lr: 2.82E-04, _patience: 10\n",
            "Epoch: 6 | train_loss: 0.00189, val_loss: 0.00180, lr: 2.82E-04, _patience: 10\n",
            "Epoch: 7 | train_loss: 0.00167, val_loss: 0.00173, lr: 2.82E-04, _patience: 10\n",
            "Epoch: 8 | train_loss: 0.00149, val_loss: 0.00163, lr: 2.82E-04, _patience: 10\n",
            "Epoch: 9 | train_loss: 0.00134, val_loss: 0.00169, lr: 2.82E-04, _patience: 9\n",
            "Epoch: 10 | train_loss: 0.00118, val_loss: 0.00157, lr: 2.82E-04, _patience: 10\n",
            "Epoch: 11 | train_loss: 0.00107, val_loss: 0.00155, lr: 2.82E-04, _patience: 10\n",
            "Epoch: 12 | train_loss: 0.00094, val_loss: 0.00159, lr: 2.82E-04, _patience: 9\n",
            "Epoch: 13 | train_loss: 0.00088, val_loss: 0.00160, lr: 2.82E-04, _patience: 8\n",
            "Epoch: 14 | train_loss: 0.00076, val_loss: 0.00161, lr: 2.82E-04, _patience: 7\n",
            "Epoch: 15 | train_loss: 0.00070, val_loss: 0.00155, lr: 2.82E-04, _patience: 6\n",
            "Epoch: 16 | train_loss: 0.00065, val_loss: 0.00151, lr: 2.82E-04, _patience: 10\n",
            "Epoch: 17 | train_loss: 0.00061, val_loss: 0.00174, lr: 2.82E-04, _patience: 9\n",
            "Epoch: 18 | train_loss: 0.00055, val_loss: 0.00183, lr: 2.82E-04, _patience: 8\n",
            "Epoch: 19 | train_loss: 0.00052, val_loss: 0.00178, lr: 2.82E-04, _patience: 7\n",
            "Epoch: 20 | train_loss: 0.00053, val_loss: 0.00170, lr: 2.82E-04, _patience: 6\n",
            "Epoch: 21 | train_loss: 0.00051, val_loss: 0.00169, lr: 2.82E-04, _patience: 5\n",
            "Epoch: 22 | train_loss: 0.00048, val_loss: 0.00183, lr: 2.82E-05, _patience: 4\n",
            "Epoch: 23 | train_loss: 0.00042, val_loss: 0.00160, lr: 2.82E-05, _patience: 3\n",
            "Epoch: 24 | train_loss: 0.00033, val_loss: 0.00160, lr: 2.82E-05, _patience: 2\n",
            "Epoch: 25 | train_loss: 0.00031, val_loss: 0.00160, lr: 2.82E-05, _patience: 1\n",
            "Stopping early!\n"
          ]
        },
        {
          "output_type": "stream",
          "name": "stderr",
          "text": [
            "\u001b[32m[I 2021-09-01 01:52:42,584]\u001b[0m Trial 44 finished with value: 0.6703671944177864 and parameters: {'embedding_dim': 324, 'num_filters': 381, 'hidden_dim': 173, 'dropout_p': 0.47825397853722257, 'lr': 0.0002819727860863037}. Best is trial 37 with value: 0.6953118802537894.\u001b[0m\n"
          ]
        },
        {
          "output_type": "stream",
          "name": "stdout",
          "text": [
            "Epoch: 1 | train_loss: 0.00558, val_loss: 0.00310, lr: 3.51E-04, _patience: 10\n",
            "Epoch: 2 | train_loss: 0.00333, val_loss: 0.00243, lr: 3.51E-04, _patience: 10\n",
            "Epoch: 3 | train_loss: 0.00271, val_loss: 0.00212, lr: 3.51E-04, _patience: 10\n",
            "Epoch: 4 | train_loss: 0.00214, val_loss: 0.00188, lr: 3.51E-04, _patience: 10\n",
            "Epoch: 5 | train_loss: 0.00182, val_loss: 0.00176, lr: 3.51E-04, _patience: 10\n",
            "Epoch: 6 | train_loss: 0.00152, val_loss: 0.00172, lr: 3.51E-04, _patience: 10\n",
            "Epoch: 7 | train_loss: 0.00133, val_loss: 0.00164, lr: 3.51E-04, _patience: 10\n",
            "Epoch: 8 | train_loss: 0.00112, val_loss: 0.00157, lr: 3.51E-04, _patience: 10\n",
            "Epoch: 9 | train_loss: 0.00098, val_loss: 0.00154, lr: 3.51E-04, _patience: 10\n",
            "Epoch: 10 | train_loss: 0.00084, val_loss: 0.00147, lr: 3.51E-04, _patience: 10\n",
            "Epoch: 11 | train_loss: 0.00073, val_loss: 0.00154, lr: 3.51E-04, _patience: 9\n",
            "Epoch: 12 | train_loss: 0.00062, val_loss: 0.00157, lr: 3.51E-04, _patience: 8\n",
            "Epoch: 13 | train_loss: 0.00054, val_loss: 0.00159, lr: 3.51E-04, _patience: 7\n",
            "Epoch: 14 | train_loss: 0.00050, val_loss: 0.00155, lr: 3.51E-04, _patience: 6\n",
            "Epoch: 15 | train_loss: 0.00045, val_loss: 0.00175, lr: 3.51E-04, _patience: 5\n",
            "Epoch: 16 | train_loss: 0.00041, val_loss: 0.00177, lr: 3.51E-05, _patience: 4\n",
            "Epoch: 17 | train_loss: 0.00034, val_loss: 0.00163, lr: 3.51E-05, _patience: 3\n",
            "Epoch: 18 | train_loss: 0.00028, val_loss: 0.00161, lr: 3.51E-05, _patience: 2\n",
            "Epoch: 19 | train_loss: 0.00027, val_loss: 0.00160, lr: 3.51E-05, _patience: 1\n",
            "Stopping early!\n"
          ]
        },
        {
          "output_type": "stream",
          "name": "stderr",
          "text": [
            "\u001b[32m[I 2021-09-01 01:54:51,377]\u001b[0m Trial 45 finished with value: 0.693683201225191 and parameters: {'embedding_dim': 392, 'num_filters': 341, 'hidden_dim': 236, 'dropout_p': 0.43476926205890937, 'lr': 0.0003508056624921981}. Best is trial 37 with value: 0.6953118802537894.\u001b[0m\n"
          ]
        },
        {
          "output_type": "stream",
          "name": "stdout",
          "text": [
            "Epoch: 1 | train_loss: 0.00508, val_loss: 0.00337, lr: 2.22E-04, _patience: 10\n",
            "Epoch: 2 | train_loss: 0.00347, val_loss: 0.00253, lr: 2.22E-04, _patience: 10\n",
            "Epoch: 3 | train_loss: 0.00283, val_loss: 0.00230, lr: 2.22E-04, _patience: 10\n",
            "Epoch: 4 | train_loss: 0.00240, val_loss: 0.00206, lr: 2.22E-04, _patience: 10\n",
            "Epoch: 5 | train_loss: 0.00209, val_loss: 0.00191, lr: 2.22E-04, _patience: 10\n",
            "Epoch: 6 | train_loss: 0.00180, val_loss: 0.00178, lr: 2.22E-04, _patience: 10\n",
            "Epoch: 7 | train_loss: 0.00160, val_loss: 0.00170, lr: 2.22E-04, _patience: 10\n",
            "Epoch: 8 | train_loss: 0.00141, val_loss: 0.00163, lr: 2.22E-04, _patience: 10\n",
            "Epoch: 9 | train_loss: 0.00128, val_loss: 0.00159, lr: 2.22E-04, _patience: 10\n",
            "Epoch: 10 | train_loss: 0.00110, val_loss: 0.00152, lr: 2.22E-04, _patience: 10\n",
            "Epoch: 11 | train_loss: 0.00103, val_loss: 0.00150, lr: 2.22E-04, _patience: 10\n",
            "Epoch: 12 | train_loss: 0.00089, val_loss: 0.00150, lr: 2.22E-04, _patience: 9\n",
            "Epoch: 13 | train_loss: 0.00080, val_loss: 0.00154, lr: 2.22E-04, _patience: 8\n",
            "Epoch: 14 | train_loss: 0.00071, val_loss: 0.00155, lr: 2.22E-04, _patience: 7\n",
            "Epoch: 15 | train_loss: 0.00064, val_loss: 0.00154, lr: 2.22E-04, _patience: 6\n",
            "Epoch: 16 | train_loss: 0.00058, val_loss: 0.00157, lr: 2.22E-04, _patience: 5\n",
            "Epoch: 17 | train_loss: 0.00054, val_loss: 0.00159, lr: 2.22E-05, _patience: 4\n",
            "Epoch: 18 | train_loss: 0.00046, val_loss: 0.00144, lr: 2.22E-05, _patience: 10\n",
            "Epoch: 19 | train_loss: 0.00042, val_loss: 0.00143, lr: 2.22E-05, _patience: 10\n",
            "Epoch: 20 | train_loss: 0.00040, val_loss: 0.00146, lr: 2.22E-05, _patience: 9\n",
            "Epoch: 21 | train_loss: 0.00040, val_loss: 0.00145, lr: 2.22E-05, _patience: 8\n",
            "Epoch: 22 | train_loss: 0.00039, val_loss: 0.00143, lr: 2.22E-05, _patience: 7\n",
            "Epoch: 23 | train_loss: 0.00037, val_loss: 0.00147, lr: 2.22E-05, _patience: 6\n",
            "Epoch: 24 | train_loss: 0.00039, val_loss: 0.00143, lr: 2.22E-05, _patience: 5\n",
            "Epoch: 25 | train_loss: 0.00037, val_loss: 0.00145, lr: 2.22E-06, _patience: 4\n",
            "Epoch: 26 | train_loss: 0.00038, val_loss: 0.00144, lr: 2.22E-06, _patience: 3\n",
            "Epoch: 27 | train_loss: 0.00037, val_loss: 0.00144, lr: 2.22E-06, _patience: 2\n",
            "Epoch: 28 | train_loss: 0.00035, val_loss: 0.00144, lr: 2.22E-06, _patience: 1\n",
            "Stopping early!\n"
          ]
        },
        {
          "output_type": "stream",
          "name": "stderr",
          "text": [
            "\u001b[32m[I 2021-09-01 01:58:01,082]\u001b[0m Trial 46 finished with value: 0.6821579837311013 and parameters: {'embedding_dim': 395, 'num_filters': 354, 'hidden_dim': 241, 'dropout_p': 0.4357413965228127, 'lr': 0.0002222386913649848}. Best is trial 37 with value: 0.6953118802537894.\u001b[0m\n"
          ]
        },
        {
          "output_type": "stream",
          "name": "stdout",
          "text": [
            "Epoch: 1 | train_loss: 0.00534, val_loss: 0.00340, lr: 1.71E-04, _patience: 10\n",
            "Epoch: 2 | train_loss: 0.00388, val_loss: 0.00253, lr: 1.71E-04, _patience: 10\n",
            "Epoch: 3 | train_loss: 0.00314, val_loss: 0.00235, lr: 1.71E-04, _patience: 10\n",
            "Epoch: 4 | train_loss: 0.00278, val_loss: 0.00216, lr: 1.71E-04, _patience: 10\n",
            "Epoch: 5 | train_loss: 0.00248, val_loss: 0.00202, lr: 1.71E-04, _patience: 10\n",
            "Epoch: 6 | train_loss: 0.00216, val_loss: 0.00188, lr: 1.71E-04, _patience: 10\n",
            "Epoch: 7 | train_loss: 0.00198, val_loss: 0.00180, lr: 1.71E-04, _patience: 10\n",
            "Epoch: 8 | train_loss: 0.00178, val_loss: 0.00173, lr: 1.71E-04, _patience: 10\n",
            "Epoch: 9 | train_loss: 0.00170, val_loss: 0.00168, lr: 1.71E-04, _patience: 10\n",
            "Epoch: 10 | train_loss: 0.00149, val_loss: 0.00164, lr: 1.71E-04, _patience: 10\n",
            "Epoch: 11 | train_loss: 0.00141, val_loss: 0.00166, lr: 1.71E-04, _patience: 9\n",
            "Epoch: 12 | train_loss: 0.00126, val_loss: 0.00154, lr: 1.71E-04, _patience: 10\n",
            "Epoch: 13 | train_loss: 0.00119, val_loss: 0.00160, lr: 1.71E-04, _patience: 9\n",
            "Epoch: 14 | train_loss: 0.00108, val_loss: 0.00155, lr: 1.71E-04, _patience: 8\n",
            "Epoch: 15 | train_loss: 0.00102, val_loss: 0.00158, lr: 1.71E-04, _patience: 7\n",
            "Epoch: 16 | train_loss: 0.00094, val_loss: 0.00148, lr: 1.71E-04, _patience: 10\n",
            "Epoch: 17 | train_loss: 0.00088, val_loss: 0.00151, lr: 1.71E-04, _patience: 9\n",
            "Epoch: 18 | train_loss: 0.00080, val_loss: 0.00160, lr: 1.71E-04, _patience: 8\n",
            "Epoch: 19 | train_loss: 0.00076, val_loss: 0.00144, lr: 1.71E-04, _patience: 10\n",
            "Epoch: 20 | train_loss: 0.00069, val_loss: 0.00158, lr: 1.71E-04, _patience: 9\n",
            "Epoch: 21 | train_loss: 0.00063, val_loss: 0.00151, lr: 1.71E-04, _patience: 8\n",
            "Epoch: 22 | train_loss: 0.00059, val_loss: 0.00152, lr: 1.71E-04, _patience: 7\n",
            "Epoch: 23 | train_loss: 0.00057, val_loss: 0.00156, lr: 1.71E-04, _patience: 6\n",
            "Epoch: 24 | train_loss: 0.00054, val_loss: 0.00173, lr: 1.71E-04, _patience: 5\n",
            "Epoch: 25 | train_loss: 0.00050, val_loss: 0.00152, lr: 1.71E-05, _patience: 4\n",
            "Epoch: 26 | train_loss: 0.00046, val_loss: 0.00158, lr: 1.71E-05, _patience: 3\n",
            "Epoch: 27 | train_loss: 0.00043, val_loss: 0.00151, lr: 1.71E-05, _patience: 2\n",
            "Epoch: 28 | train_loss: 0.00041, val_loss: 0.00154, lr: 1.71E-05, _patience: 1\n",
            "Stopping early!\n"
          ]
        },
        {
          "output_type": "stream",
          "name": "stderr",
          "text": [
            "\u001b[32m[I 2021-09-01 02:01:30,208]\u001b[0m Trial 47 finished with value: 0.6691019725440648 and parameters: {'embedding_dim': 464, 'num_filters': 326, 'hidden_dim': 183, 'dropout_p': 0.5222951829099284, 'lr': 0.0001714786871500336}. Best is trial 37 with value: 0.6953118802537894.\u001b[0m\n"
          ]
        },
        {
          "output_type": "stream",
          "name": "stdout",
          "text": [
            "Epoch: 1 | train_loss: 0.00578, val_loss: 0.00359, lr: 3.47E-04, _patience: 10\n",
            "Epoch: 2 | train_loss: 0.00388, val_loss: 0.00268, lr: 3.47E-04, _patience: 10\n",
            "Epoch: 3 | train_loss: 0.00320, val_loss: 0.00252, lr: 3.47E-04, _patience: 10\n",
            "Epoch: 4 | train_loss: 0.00285, val_loss: 0.00238, lr: 3.47E-04, _patience: 10\n",
            "Epoch: 5 | train_loss: 0.00257, val_loss: 0.00226, lr: 3.47E-04, _patience: 10\n",
            "Epoch: 6 | train_loss: 0.00231, val_loss: 0.00210, lr: 3.47E-04, _patience: 10\n",
            "Epoch: 7 | train_loss: 0.00209, val_loss: 0.00195, lr: 3.47E-04, _patience: 10\n",
            "Epoch: 8 | train_loss: 0.00188, val_loss: 0.00180, lr: 3.47E-04, _patience: 10\n",
            "Epoch: 9 | train_loss: 0.00173, val_loss: 0.00178, lr: 3.47E-04, _patience: 10\n",
            "Epoch: 10 | train_loss: 0.00155, val_loss: 0.00170, lr: 3.47E-04, _patience: 10\n",
            "Epoch: 11 | train_loss: 0.00141, val_loss: 0.00167, lr: 3.47E-04, _patience: 10\n",
            "Epoch: 12 | train_loss: 0.00127, val_loss: 0.00163, lr: 3.47E-04, _patience: 10\n",
            "Epoch: 13 | train_loss: 0.00113, val_loss: 0.00163, lr: 3.47E-04, _patience: 9\n",
            "Epoch: 14 | train_loss: 0.00109, val_loss: 0.00163, lr: 3.47E-04, _patience: 8\n",
            "Epoch: 15 | train_loss: 0.00099, val_loss: 0.00162, lr: 3.47E-04, _patience: 7\n",
            "Epoch: 16 | train_loss: 0.00092, val_loss: 0.00158, lr: 3.47E-04, _patience: 10\n",
            "Epoch: 17 | train_loss: 0.00082, val_loss: 0.00162, lr: 3.47E-04, _patience: 9\n",
            "Epoch: 18 | train_loss: 0.00078, val_loss: 0.00161, lr: 3.47E-04, _patience: 8\n",
            "Epoch: 19 | train_loss: 0.00069, val_loss: 0.00160, lr: 3.47E-04, _patience: 7\n",
            "Epoch: 20 | train_loss: 0.00064, val_loss: 0.00174, lr: 3.47E-04, _patience: 6\n",
            "Epoch: 21 | train_loss: 0.00059, val_loss: 0.00166, lr: 3.47E-04, _patience: 5\n",
            "Epoch: 22 | train_loss: 0.00056, val_loss: 0.00170, lr: 3.47E-05, _patience: 4\n",
            "Epoch: 23 | train_loss: 0.00050, val_loss: 0.00151, lr: 3.47E-05, _patience: 10\n",
            "Epoch: 24 | train_loss: 0.00046, val_loss: 0.00151, lr: 3.47E-05, _patience: 9\n",
            "Epoch: 25 | train_loss: 0.00044, val_loss: 0.00152, lr: 3.47E-05, _patience: 8\n",
            "Epoch: 26 | train_loss: 0.00042, val_loss: 0.00152, lr: 3.47E-05, _patience: 7\n",
            "Epoch: 27 | train_loss: 0.00042, val_loss: 0.00152, lr: 3.47E-05, _patience: 6\n",
            "Epoch: 28 | train_loss: 0.00040, val_loss: 0.00153, lr: 3.47E-05, _patience: 5\n",
            "Epoch: 29 | train_loss: 0.00041, val_loss: 0.00153, lr: 3.47E-06, _patience: 4\n",
            "Epoch: 30 | train_loss: 0.00041, val_loss: 0.00153, lr: 3.47E-06, _patience: 3\n",
            "Epoch: 31 | train_loss: 0.00040, val_loss: 0.00152, lr: 3.47E-06, _patience: 2\n",
            "Epoch: 32 | train_loss: 0.00041, val_loss: 0.00152, lr: 3.47E-06, _patience: 1\n",
            "Stopping early!\n"
          ]
        },
        {
          "output_type": "stream",
          "name": "stderr",
          "text": [
            "\u001b[32m[I 2021-09-01 02:03:08,317]\u001b[0m Trial 48 finished with value: 0.6876522840149155 and parameters: {'embedding_dim': 130, 'num_filters': 352, 'hidden_dim': 227, 'dropout_p': 0.545903858451357, 'lr': 0.0003465974708992613}. Best is trial 37 with value: 0.6953118802537894.\u001b[0m\n"
          ]
        },
        {
          "output_type": "stream",
          "name": "stdout",
          "text": [
            "Epoch: 1 | train_loss: 0.00525, val_loss: 0.00311, lr: 2.57E-04, _patience: 10\n",
            "Epoch: 2 | train_loss: 0.00343, val_loss: 0.00244, lr: 2.57E-04, _patience: 10\n",
            "Epoch: 3 | train_loss: 0.00270, val_loss: 0.00216, lr: 2.57E-04, _patience: 10\n",
            "Epoch: 4 | train_loss: 0.00225, val_loss: 0.00194, lr: 2.57E-04, _patience: 10\n",
            "Epoch: 5 | train_loss: 0.00187, val_loss: 0.00184, lr: 2.57E-04, _patience: 10\n",
            "Epoch: 6 | train_loss: 0.00167, val_loss: 0.00174, lr: 2.57E-04, _patience: 10\n",
            "Epoch: 7 | train_loss: 0.00145, val_loss: 0.00162, lr: 2.57E-04, _patience: 10\n",
            "Epoch: 8 | train_loss: 0.00122, val_loss: 0.00160, lr: 2.57E-04, _patience: 10\n",
            "Epoch: 9 | train_loss: 0.00109, val_loss: 0.00160, lr: 2.57E-04, _patience: 9\n",
            "Epoch: 10 | train_loss: 0.00094, val_loss: 0.00156, lr: 2.57E-04, _patience: 10\n",
            "Epoch: 11 | train_loss: 0.00081, val_loss: 0.00162, lr: 2.57E-04, _patience: 9\n",
            "Epoch: 12 | train_loss: 0.00071, val_loss: 0.00163, lr: 2.57E-04, _patience: 8\n",
            "Epoch: 13 | train_loss: 0.00065, val_loss: 0.00165, lr: 2.57E-04, _patience: 7\n",
            "Epoch: 14 | train_loss: 0.00057, val_loss: 0.00172, lr: 2.57E-04, _patience: 6\n",
            "Epoch: 15 | train_loss: 0.00053, val_loss: 0.00162, lr: 2.57E-04, _patience: 5\n",
            "Epoch: 16 | train_loss: 0.00045, val_loss: 0.00163, lr: 2.57E-05, _patience: 4\n",
            "Epoch: 17 | train_loss: 0.00040, val_loss: 0.00155, lr: 2.57E-05, _patience: 10\n",
            "Epoch: 18 | train_loss: 0.00035, val_loss: 0.00155, lr: 2.57E-05, _patience: 9\n",
            "Epoch: 19 | train_loss: 0.00032, val_loss: 0.00155, lr: 2.57E-05, _patience: 8\n",
            "Epoch: 20 | train_loss: 0.00032, val_loss: 0.00155, lr: 2.57E-05, _patience: 7\n",
            "Epoch: 21 | train_loss: 0.00031, val_loss: 0.00154, lr: 2.57E-05, _patience: 10\n",
            "Epoch: 22 | train_loss: 0.00030, val_loss: 0.00154, lr: 2.57E-05, _patience: 9\n",
            "Epoch: 23 | train_loss: 0.00028, val_loss: 0.00158, lr: 2.57E-05, _patience: 8\n",
            "Epoch: 24 | train_loss: 0.00029, val_loss: 0.00154, lr: 2.57E-05, _patience: 7\n",
            "Epoch: 25 | train_loss: 0.00028, val_loss: 0.00156, lr: 2.57E-05, _patience: 6\n",
            "Epoch: 26 | train_loss: 0.00027, val_loss: 0.00158, lr: 2.57E-05, _patience: 5\n",
            "Epoch: 27 | train_loss: 0.00027, val_loss: 0.00158, lr: 2.57E-06, _patience: 4\n",
            "Epoch: 28 | train_loss: 0.00026, val_loss: 0.00158, lr: 2.57E-06, _patience: 3\n",
            "Epoch: 29 | train_loss: 0.00027, val_loss: 0.00157, lr: 2.57E-06, _patience: 2\n",
            "Epoch: 30 | train_loss: 0.00027, val_loss: 0.00157, lr: 2.57E-06, _patience: 1\n",
            "Stopping early!\n"
          ]
        },
        {
          "output_type": "stream",
          "name": "stderr",
          "text": [
            "\u001b[32m[I 2021-09-01 02:07:23,176]\u001b[0m Trial 49 finished with value: 0.6837041066556031 and parameters: {'embedding_dim': 420, 'num_filters': 425, 'hidden_dim': 273, 'dropout_p': 0.4668249712953273, 'lr': 0.0002574200417114758}. Best is trial 37 with value: 0.6953118802537894.\u001b[0m\n"
          ]
        }
      ]
    },
    {
      "cell_type": "code",
      "metadata": {
        "id": "FfRGqQaGkfx8",
        "colab": {
          "base_uri": "https://localhost:8080/"
        },
        "outputId": "8d8762de-760d-4168-d6a4-6ebb9325ebb8"
      },
      "source": [
        "# MLFlow dashboard\n",
        "get_ipython().system_raw(\"mlflow server -h 0.0.0.0 -p 5000 --backend-store-uri $PWD/experiments/ &\")\n",
        "ngrok.kill()\n",
        "ngrok.set_auth_token(\"\")\n",
        "ngrok_tunnel = ngrok.connect(addr=\"5000\", proto=\"http\", bind_tls=True)\n",
        "print(\"MLflow Tracking UI:\", ngrok_tunnel.public_url)"
      ],
      "execution_count": null,
      "outputs": [
        {
          "output_type": "stream",
          "name": "stdout",
          "text": [
            "MLflow Tracking UI: https://a597-35-229-225-89.ngrok.io\n"
          ]
        }
      ]
    },
    {
      "cell_type": "markdown",
      "metadata": {
        "id": "NojJ-Z1X6IEQ"
      },
      "source": [
        "You can compare all (or a subset) of the trials in our experiment.\n",
        "<img src=\"https://raw.githubusercontent.com/GokuMohandas/MadeWithML/main/images/mlops/hyperparameter_optimization/compare.png\" width=\"1000\" alt=\"compare\">\n",
        "\n",
        "We can then view the results through various lens (contours, parallel coordinates, etc.)\n",
        "\n",
        "<img src=\"https://raw.githubusercontent.com/GokuMohandas/MadeWithML/main/images/mlops/hyperparameter_optimization/contour.png\" width=\"1000\" alt=\"compare\">\n",
        "<img src=\"https://raw.githubusercontent.com/GokuMohandas/MadeWithML/main/images/mlops/hyperparameter_optimization/parallel_coordinates.png\" width=\"1000\" alt=\"compare\">"
      ]
    },
    {
      "cell_type": "code",
      "metadata": {
        "id": "9HtwFRzEikt7",
        "colab": {
          "base_uri": "https://localhost:8080/",
          "height": 309
        },
        "outputId": "ac488325-f2d7-47eb-e5fc-206975ffca32"
      },
      "source": [
        "# All trials\n",
        "trials_df = study.trials_dataframe()\n",
        "trials_df = trials_df.sort_values([\"value\"], ascending=False)  # sort by metric\n",
        "trials_df.head()"
      ],
      "execution_count": null,
      "outputs": [
        {
          "output_type": "execute_result",
          "data": {
            "text/plain": [
              "    number     value  ... user_attrs_threshold     state\n",
              "37      37  0.695312  ...             0.311554  COMPLETE\n",
              "28      28  0.694329  ...             0.283791  COMPLETE\n",
              "45      45  0.693683  ...             0.249740  COMPLETE\n",
              "15      15  0.693370  ...             0.355480  COMPLETE\n",
              "42      42  0.693092  ...             0.292264  COMPLETE\n",
              "\n",
              "[5 rows x 15 columns]"
            ],
            "text/html": [
              "<div>\n",
              "<style scoped>\n",
              "    .dataframe tbody tr th:only-of-type {\n",
              "        vertical-align: middle;\n",
              "    }\n",
              "\n",
              "    .dataframe tbody tr th {\n",
              "        vertical-align: top;\n",
              "    }\n",
              "\n",
              "    .dataframe thead th {\n",
              "        text-align: right;\n",
              "    }\n",
              "</style>\n",
              "<table border=\"1\" class=\"dataframe\">\n",
              "  <thead>\n",
              "    <tr style=\"text-align: right;\">\n",
              "      <th></th>\n",
              "      <th>number</th>\n",
              "      <th>value</th>\n",
              "      <th>datetime_start</th>\n",
              "      <th>datetime_complete</th>\n",
              "      <th>duration</th>\n",
              "      <th>params_dropout_p</th>\n",
              "      <th>params_embedding_dim</th>\n",
              "      <th>params_hidden_dim</th>\n",
              "      <th>params_lr</th>\n",
              "      <th>params_num_filters</th>\n",
              "      <th>user_attrs_f1</th>\n",
              "      <th>user_attrs_precision</th>\n",
              "      <th>user_attrs_recall</th>\n",
              "      <th>user_attrs_threshold</th>\n",
              "      <th>state</th>\n",
              "    </tr>\n",
              "  </thead>\n",
              "  <tbody>\n",
              "    <tr>\n",
              "      <th>37</th>\n",
              "      <td>37</td>\n",
              "      <td>0.695312</td>\n",
              "      <td>2021-09-01 01:34:02.033031</td>\n",
              "      <td>2021-09-01 01:35:54.231478</td>\n",
              "      <td>0 days 00:01:52.198447</td>\n",
              "      <td>0.417413</td>\n",
              "      <td>234</td>\n",
              "      <td>265</td>\n",
              "      <td>0.000439</td>\n",
              "      <td>383</td>\n",
              "      <td>0.695312</td>\n",
              "      <td>0.826838</td>\n",
              "      <td>0.618026</td>\n",
              "      <td>0.311554</td>\n",
              "      <td>COMPLETE</td>\n",
              "    </tr>\n",
              "    <tr>\n",
              "      <th>28</th>\n",
              "      <td>28</td>\n",
              "      <td>0.694329</td>\n",
              "      <td>2021-09-01 01:18:03.311366</td>\n",
              "      <td>2021-09-01 01:19:41.020192</td>\n",
              "      <td>0 days 00:01:37.708826</td>\n",
              "      <td>0.406399</td>\n",
              "      <td>232</td>\n",
              "      <td>370</td>\n",
              "      <td>0.000270</td>\n",
              "      <td>243</td>\n",
              "      <td>0.694329</td>\n",
              "      <td>0.801054</td>\n",
              "      <td>0.633047</td>\n",
              "      <td>0.283791</td>\n",
              "      <td>COMPLETE</td>\n",
              "    </tr>\n",
              "    <tr>\n",
              "      <th>45</th>\n",
              "      <td>45</td>\n",
              "      <td>0.693683</td>\n",
              "      <td>2021-09-01 01:52:42.628969</td>\n",
              "      <td>2021-09-01 01:54:51.377042</td>\n",
              "      <td>0 days 00:02:08.748073</td>\n",
              "      <td>0.434769</td>\n",
              "      <td>392</td>\n",
              "      <td>236</td>\n",
              "      <td>0.000351</td>\n",
              "      <td>341</td>\n",
              "      <td>0.693683</td>\n",
              "      <td>0.804193</td>\n",
              "      <td>0.633047</td>\n",
              "      <td>0.249740</td>\n",
              "      <td>COMPLETE</td>\n",
              "    </tr>\n",
              "    <tr>\n",
              "      <th>15</th>\n",
              "      <td>15</td>\n",
              "      <td>0.693370</td>\n",
              "      <td>2021-09-01 00:56:39.909775</td>\n",
              "      <td>2021-09-01 00:57:54.122352</td>\n",
              "      <td>0 days 00:01:14.212577</td>\n",
              "      <td>0.410317</td>\n",
              "      <td>332</td>\n",
              "      <td>503</td>\n",
              "      <td>0.000385</td>\n",
              "      <td>254</td>\n",
              "      <td>0.693370</td>\n",
              "      <td>0.838442</td>\n",
              "      <td>0.605150</td>\n",
              "      <td>0.355480</td>\n",
              "      <td>COMPLETE</td>\n",
              "    </tr>\n",
              "    <tr>\n",
              "      <th>42</th>\n",
              "      <td>42</td>\n",
              "      <td>0.693092</td>\n",
              "      <td>2021-09-01 01:44:54.128238</td>\n",
              "      <td>2021-09-01 01:47:03.797744</td>\n",
              "      <td>0 days 00:02:09.669506</td>\n",
              "      <td>0.433818</td>\n",
              "      <td>308</td>\n",
              "      <td>227</td>\n",
              "      <td>0.000331</td>\n",
              "      <td>379</td>\n",
              "      <td>0.693092</td>\n",
              "      <td>0.819735</td>\n",
              "      <td>0.620172</td>\n",
              "      <td>0.292264</td>\n",
              "      <td>COMPLETE</td>\n",
              "    </tr>\n",
              "  </tbody>\n",
              "</table>\n",
              "</div>"
            ]
          },
          "metadata": {},
          "execution_count": 209
        }
      ]
    },
    {
      "cell_type": "code",
      "metadata": {
        "id": "6mP99RFjiENR",
        "colab": {
          "base_uri": "https://localhost:8080/"
        },
        "outputId": "04fe04d8-3343-4a09-fc40-d476c9d1efdd"
      },
      "source": [
        "# Best trial\n",
        "print (f\"Best value (f1): {study.best_trial.value}\")\n",
        "print (f\"Best hyperparameters: {study.best_trial.params}\")"
      ],
      "execution_count": null,
      "outputs": [
        {
          "output_type": "stream",
          "name": "stdout",
          "text": [
            "Best value (f1): 0.6953118802537894\n",
            "Best hyperparameters: {'embedding_dim': 234, 'num_filters': 383, 'hidden_dim': 265, 'dropout_p': 0.4174131267446717, 'lr': 0.0004392663090337615}\n"
          ]
        }
      ]
    },
    {
      "cell_type": "markdown",
      "metadata": {
        "id": "Pggo1cnaix85"
      },
      "source": [
        "> Don't forget to save learned parameters (ex. decision threshold) during training which you'll need later for inference."
      ]
    },
    {
      "cell_type": "code",
      "metadata": {
        "id": "JZIS8RtfiuDc",
        "colab": {
          "base_uri": "https://localhost:8080/"
        },
        "outputId": "667241fc-111a-44ac-e302-5d78bb43c33c"
      },
      "source": [
        "# Save best parameters\n",
        "params = {**args.__dict__, **study.best_trial.params}\n",
        "params[\"threshold\"] = study.best_trial.user_attrs[\"threshold\"]\n",
        "print (json.dumps(params, indent=2, cls=NumpyEncoder))"
      ],
      "execution_count": null,
      "outputs": [
        {
          "output_type": "stream",
          "name": "stdout",
          "text": [
            "{\n",
            "  \"char_level\": true,\n",
            "  \"filter_sizes\": [\n",
            "    1,\n",
            "    2,\n",
            "    3,\n",
            "    4,\n",
            "    5,\n",
            "    6,\n",
            "    7,\n",
            "    8,\n",
            "    9,\n",
            "    10\n",
            "  ],\n",
            "  \"batch_size\": 64,\n",
            "  \"embedding_dim\": 234,\n",
            "  \"num_filters\": 383,\n",
            "  \"hidden_dim\": 265,\n",
            "  \"dropout_p\": 0.4174131267446717,\n",
            "  \"lr\": 0.0004392663090337615,\n",
            "  \"num_epochs\": 100,\n",
            "  \"patience\": 10,\n",
            "  \"threshold\": 0.3115537464618683\n",
            "}\n"
          ]
        }
      ]
    },
    {
      "cell_type": "markdown",
      "metadata": {
        "id": "KbxtdyENi78d"
      },
      "source": [
        "... and now we're finally ready to move from working in Jupyter notebooks to Python scripts. We'll be revisiting everything we did so far, but this time with proper software engineering prinicples such as object oriented programming (OOPs), styling, testing, etc. → [https://madewithml.com/#mlops](https://madewithml.com/#mlops)"
      ]
    }
  ]
}